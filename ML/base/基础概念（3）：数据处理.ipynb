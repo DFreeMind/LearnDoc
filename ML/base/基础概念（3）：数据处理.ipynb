{
 "cells": [
  {
   "cell_type": "markdown",
   "metadata": {},
   "source": [
    "# Pipeline"
   ]
  },
  {
   "cell_type": "markdown",
   "metadata": {},
   "source": [
    "常被用于串联几个评估器成一个，以对输入数据(X)进行转换. 在处理数据时他们通常有固定的步骤，如特征选择(feature selection)，归一化(normalization)，分类(classification)等。"
   ]
  },
  {
   "cell_type": "markdown",
   "metadata": {},
   "source": [
    "# 特征选择"
   ]
  },
  {
   "cell_type": "markdown",
   "metadata": {},
   "source": [
    "特征选择（Feature Selection）"
   ]
  },
  {
   "cell_type": "markdown",
   "metadata": {},
   "source": [
    "# 特征提取"
   ]
  },
  {
   "cell_type": "markdown",
   "metadata": {},
   "source": [
    "特征提取（Feature extraction）他与特征选择是不同的，特征提取是将任意类型的数据（如文本或者图片）转换为可用于机器学习的数字特征。而特征选择是应用于这些特征的机器学习技术。"
   ]
  },
  {
   "cell_type": "markdown",
   "metadata": {},
   "source": [
    "## 从dict中加载特征"
   ]
  },
  {
   "cell_type": "markdown",
   "metadata": {},
   "source": [
    "如下：\n",
    "```python\n",
    ">>> measurements = [\n",
    "...     {'city': 'Dubai', 'temperature': 33.},\n",
    "...     {'city': 'London', 'temperature': 12.},\n",
    "...     {'city': 'San Francisco', 'temperature': 18.},\n",
    "... ]\n",
    "\n",
    ">>> from sklearn.feature_extraction import DictVectorizer\n",
    ">>> vec = DictVectorizer()\n",
    "\n",
    ">>> vec.fit_transform(measurements).toarray()\n",
    "array([[ 1.,  0.,  0., 33.],\n",
    "       [ 0.,  1.,  0., 12.],\n",
    "       [ 0.,  0.,  1., 18.]])\n",
    "\n",
    ">>> vec.get_feature_names()\n",
    "['city=Dubai', 'city=London', 'city=San Francisco', 'temperature']\n",
    "```"
   ]
  },
  {
   "cell_type": "markdown",
   "metadata": {},
   "source": [
    "## 特征 hashing"
   ]
  },
  {
   "cell_type": "markdown",
   "metadata": {},
   "source": [
    "特征数量少于 10000 时会有较好的效果。"
   ]
  },
  {
   "cell_type": "markdown",
   "metadata": {},
   "source": [
    "## 文本特征提取"
   ]
  },
  {
   "cell_type": "markdown",
   "metadata": {},
   "source": [
    "### 词袋表示\n",
    "- [词袋模型](https://zh.wikipedia.org/wiki/%E8%AF%8D%E8%A2%8B%E6%A8%A1%E5%9E%8B)\n",
    "\n",
    "Bag-of-words model 常用于自然语言处理。"
   ]
  },
  {
   "cell_type": "markdown",
   "metadata": {},
   "source": [
    "### 稀疏化"
   ]
  },
  {
   "cell_type": "markdown",
   "metadata": {},
   "source": [
    "## 图片特征提取"
   ]
  },
  {
   "cell_type": "markdown",
   "metadata": {},
   "source": [
    "### 图片块提取"
   ]
  },
  {
   "cell_type": "markdown",
   "metadata": {},
   "source": []
  },
  {
   "cell_type": "markdown",
   "metadata": {},
   "source": [
    "# 数据预处理\n",
    "【参考】\n",
    "- [三种常用数据标准化方法](https://blog.csdn.net/bbbeoy/article/details/70185798)\n",
    "- [Should I normalize/standardize/rescale the data?](http://www.faqs.org/faqs/ai-faq/neural-nets/part2/section-16.html)"
   ]
  },
  {
   "cell_type": "markdown",
   "metadata": {},
   "source": [
    "缩放(rescaling)：意思是加上或者减去一个常量，然后乘以或者除以一个常量，因此会改变数据的衡量单位。如将温度从摄氏度（C）转换成华氏摄氏度（F）。\n",
    "\n",
    "均一化(Normalizing)：经常是除以一个向量的范数，如让一个向量的欧式长度为 1 。在 NN 的语境下，均一化表示通过最小值和向量范围，将所有元素在 0 到 1 之间。\n",
    "\n",
    "标准化(Standardizing)：经常是指减去位置的度量并除以尺度的度量。如，如果一个向量包含具有高斯分布的随机值，你也许会减去均值并除以标准差，因此获得一个标准均一化随机变量，他的均值是 0 方差为 1."
   ]
  },
  {
   "cell_type": "markdown",
   "metadata": {},
   "source": [
    "## 标准化\n",
    "即 Standardization，或者叫 mean removal、variance scaling。\n",
    "\n",
    "常见的做法是让所有的特征值减去均值，然后除以他们的方差。\n",
    "\n",
    "如：对于值 $x_1,x_2,...,x_n$，标准化操作如下：\n",
    "$$\n",
    "\\large{\n",
    "\\begin{split}\n",
    "\\hat{x}_i = \\frac{x_i - \\bar{x}}{s}\n",
    "\\end{split}\n",
    "}\n",
    "$$\n",
    "其中：\n",
    "$$\n",
    "\\large{\n",
    "\\begin{split}\n",
    "\\bar{x} = \\frac{1}{n}\\sum_{i=1}^{n}x_i, s = \\sqrt{\\frac{1}{n-1}\\sum_{i=1}^{n}(x_i - \\bar{x})^2}\n",
    "\\end{split}\n",
    "}\n",
    "$$\n",
    "\n",
    "这样得到的新的$\\bar{x}_i$ 就是均值为0，方差为 1，且没有量纲。"
   ]
  },
  {
   "cell_type": "markdown",
   "metadata": {},
   "source": [
    "### 缩放到某个范围"
   ]
  },
  {
   "cell_type": "markdown",
   "metadata": {},
   "source": [
    "常见的是缩放到[0, 1] 这个范围，这么做的原因是为了，小方差特征的鲁棒性，在稀疏矩阵中保留 0 。\n",
    "\n",
    "如：对于值 $x_1,x_2,...,x_n$，标准化操作如下：\n",
    "$$\n",
    "\\large{\n",
    "\\begin{split}\n",
    "\\hat{y}_i = \\frac{x_i - \\min_{1 \\le j \\le n}(x_j)}{\\max_{1 \\le j \\le n}(x_j) - \\min_{1 \\le j \\le n}(x_j)}\n",
    "\\end{split}\n",
    "}\n",
    "$$\n",
    "\n",
    "上面的方法也叫 `离差标准化`。缩放的范围为 $\\max_{1 \\le j \\le n}(x_j) - \\min_{1 \\le j \\le n}(x_j)$"
   ]
  },
  {
   "cell_type": "markdown",
   "metadata": {},
   "source": [
    "### 稀疏数据缩放"
   ]
  },
  {
   "cell_type": "markdown",
   "metadata": {},
   "source": [
    "### 缩放含有异常值的数据"
   ]
  },
  {
   "cell_type": "markdown",
   "metadata": {},
   "source": [
    "## 非线性转换"
   ]
  },
  {
   "cell_type": "markdown",
   "metadata": {},
   "source": [
    "## 均一化"
   ]
  },
  {
   "cell_type": "markdown",
   "metadata": {},
   "source": [
    "## 编码分类特征"
   ]
  },
  {
   "cell_type": "markdown",
   "metadata": {},
   "source": [
    "### 独热编码"
   ]
  },
  {
   "cell_type": "markdown",
   "metadata": {},
   "source": [
    "## 离散化\n",
    "\n",
    "Discretization，也叫做 quantization 或者 binning"
   ]
  },
  {
   "cell_type": "markdown",
   "metadata": {},
   "source": [
    "### k-bin 离散化"
   ]
  },
  {
   "cell_type": "markdown",
   "metadata": {},
   "source": [
    "以决策树为基础的模型，在离散化获得的提高并不多\n",
    "\n",
    "![image](https://ws4.sinaimg.cn/large/69d4185bly1fxvxjfquyhj20lk089q4c.jpg)"
   ]
  },
  {
   "cell_type": "markdown",
   "metadata": {},
   "source": [
    "### 特征二分化\n",
    "\n",
    "Feature binarization"
   ]
  },
  {
   "cell_type": "markdown",
   "metadata": {},
   "source": [
    "### 多项式特征"
   ]
  },
  {
   "cell_type": "markdown",
   "metadata": {},
   "source": [
    "## 缺失值估算"
   ]
  },
  {
   "cell_type": "markdown",
   "metadata": {},
   "source": [
    "- 使用均值替换\n",
    "- 使用中位数\n",
    "- 使用最大频率数"
   ]
  },
  {
   "cell_type": "markdown",
   "metadata": {},
   "source": [
    "## 标记缺失值"
   ]
  },
  {
   "cell_type": "markdown",
   "metadata": {},
   "source": []
  },
  {
   "cell_type": "code",
   "execution_count": 14,
   "metadata": {},
   "outputs": [
    {
     "name": "stdout",
     "output_type": "stream",
     "text": [
      "{'libraries': ['mkl_rt', 'pthread'], 'library_dirs': ['/anaconda3/envs/py36/lib'], 'define_macros': [('SCIPY_MKL_H', None), ('HAVE_CBLAS', None)], 'include_dirs': ['/anaconda3/envs/py36/include']}\n",
      "{'libraries': ['mkl_rt', 'pthread'], 'library_dirs': ['/anaconda3/envs/py36/lib'], 'define_macros': [('SCIPY_MKL_H', None), ('HAVE_CBLAS', None)], 'include_dirs': ['/anaconda3/envs/py36/include']}\n"
     ]
    }
   ],
   "source": [
    "from numpy.distutils.system_info import get_info\n",
    "print(get_info('blas_opt'))\n",
    "print(get_info('lapack_opt'))"
   ]
  },
  {
   "cell_type": "code",
   "execution_count": null,
   "metadata": {},
   "outputs": [],
   "source": []
  },
  {
   "cell_type": "code",
   "execution_count": null,
   "metadata": {},
   "outputs": [],
   "source": []
  },
  {
   "cell_type": "code",
   "execution_count": null,
   "metadata": {},
   "outputs": [],
   "source": []
  },
  {
   "cell_type": "code",
   "execution_count": null,
   "metadata": {},
   "outputs": [],
   "source": []
  },
  {
   "cell_type": "code",
   "execution_count": null,
   "metadata": {},
   "outputs": [],
   "source": []
  },
  {
   "cell_type": "code",
   "execution_count": null,
   "metadata": {},
   "outputs": [],
   "source": []
  },
  {
   "cell_type": "code",
   "execution_count": null,
   "metadata": {},
   "outputs": [],
   "source": []
  },
  {
   "cell_type": "code",
   "execution_count": null,
   "metadata": {},
   "outputs": [],
   "source": []
  }
 ],
 "metadata": {
  "kernelspec": {
   "display_name": "Python 3",
   "language": "python",
   "name": "python3"
  },
  "language_info": {
   "codemirror_mode": {
    "name": "ipython",
    "version": 3
   },
   "file_extension": ".py",
   "mimetype": "text/x-python",
   "name": "python",
   "nbconvert_exporter": "python",
   "pygments_lexer": "ipython3",
   "version": "3.6.7"
  },
  "toc": {
   "base_numbering": 1,
   "nav_menu": {},
   "number_sections": true,
   "sideBar": true,
   "skip_h1_title": false,
   "title_cell": "Table of Contents",
   "title_sidebar": "Contents",
   "toc_cell": false,
   "toc_position": {
    "height": "calc(100% - 180px)",
    "left": "10px",
    "top": "150px",
    "width": "245px"
   },
   "toc_section_display": true,
   "toc_window_display": true
  }
 },
 "nbformat": 4,
 "nbformat_minor": 2
}
