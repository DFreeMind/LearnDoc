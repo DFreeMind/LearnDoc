{
 "cells": [
  {
   "cell_type": "markdown",
   "metadata": {
    "toc": true
   },
   "source": [
    "<h1>目录<span class=\"tocSkip\"></span></h1>\n",
    "<div class=\"toc\"><ul class=\"toc-item\"><li><span><a href=\"#线性回归（拟合）\" data-toc-modified-id=\"线性回归（拟合）-1\"><span class=\"toc-item-num\">1&nbsp;&nbsp;</span>线性回归（拟合）</a></span></li><li><span><a href=\"#对数几率回归（分类）\" data-toc-modified-id=\"对数几率回归（分类）-2\"><span class=\"toc-item-num\">2&nbsp;&nbsp;</span>对数几率回归（分类）</a></span></li><li><span><a href=\"#多重共线性\" data-toc-modified-id=\"多重共线性-3\"><span class=\"toc-item-num\">3&nbsp;&nbsp;</span>多重共线性</a></span></li><li><span><a href=\"#岭回归(Ridge-Regression)\" data-toc-modified-id=\"岭回归(Ridge-Regression)-4\"><span class=\"toc-item-num\">4&nbsp;&nbsp;</span>岭回归(Ridge Regression)</a></span><ul class=\"toc-item\"><li><span><a href=\"#线性回归的问题\" data-toc-modified-id=\"线性回归的问题-4.1\"><span class=\"toc-item-num\">4.1&nbsp;&nbsp;</span>线性回归的问题</a></span></li><li><span><a href=\"#岭回归\" data-toc-modified-id=\"岭回归-4.2\"><span class=\"toc-item-num\">4.2&nbsp;&nbsp;</span>岭回归</a></span></li><li><span><a href=\"#岭回归的几何意义\" data-toc-modified-id=\"岭回归的几何意义-4.3\"><span class=\"toc-item-num\">4.3&nbsp;&nbsp;</span>岭回归的几何意义</a></span></li></ul></li><li><span><a href=\"#LASSO-回归\" data-toc-modified-id=\"LASSO-回归-5\"><span class=\"toc-item-num\">5&nbsp;&nbsp;</span>LASSO 回归</a></span><ul class=\"toc-item\"><li><span><a href=\"#几何意义\" data-toc-modified-id=\"几何意义-5.1\"><span class=\"toc-item-num\">5.1&nbsp;&nbsp;</span>几何意义</a></span></li></ul></li><li><span><a href=\"#线性判别（-LDA）\" data-toc-modified-id=\"线性判别（-LDA）-6\"><span class=\"toc-item-num\">6&nbsp;&nbsp;</span>线性判别（ LDA）</a></span></li></ul></div>"
   ]
  },
  {
   "cell_type": "markdown",
   "metadata": {},
   "source": [
    "# 线性回归（拟合）\n",
    "\n",
    "在只有一个属性的数据集中，在单变量线性回归试图学得：\n",
    "$$\n",
    "\\large{\n",
    "f(x_i) = w·x_i + b, 使得  f(x_i) \\simeq y_i\n",
    "}\n",
    "$$\n",
    "\n",
    "可以使用**均方误差**来衡量模型的好坏，因此让均方误差最小化来解 w,b：\n",
    "$$\n",
    "\\large{\n",
    "\\begin{split}\n",
    "(w^*,b^*) &= arg\\min_{w,b}\\sum_{i=1}^{m}\\left( f(x_i) - y_i\\right)^2\\\\\n",
    "          &= arg\\min_{w,b}\\sum_{i=1}^{m}\\left( y_i - w·x_i - b\\right)^2\n",
    "\\end{split} \\tag{A1}\n",
    "}\n",
    "$$\n",
    "\n",
    "均方误差有很好的几何意义，她对应了常用的欧式距离。**基于均方误差最小化来进行模型求解的方法称为最小二乘法**。在线性回归中，最小二乘法就是试图找到一条直线，使得所有的样本到直线上的欧氏距离之和最小。\n",
    "\n",
    "求解 w 和 b 使得 $E_{w,b} = \\sum_{i=1}^{m}\\left( y_i - w·x_i - b\\right)^2$ 最小化的过程，称为**线性回归模型的最小二乘参数估计**。将 $E_{w,b}$ 对 w 和 b 求导，然后让导数为零就可得到 w 和 b 的最优**闭式解**：\n",
    "$$\n",
    "\\large{\n",
    "\\begin{split}\n",
    "\\frac{\\partial E_{(w,b)}}{\\partial w} \n",
    "    &= 2 \\sum_{i=1}^{m}\\left(y_i - w·x_i - b\\right)·(-x_i) \\\\\n",
    "    &= 2 \\left( w\\sum_{i=1}^{m}x_i^2 - \\sum_{i=1}^{m}(y_i -b)x_i\\right) \n",
    "\\end{split}\\tag{1.1}\n",
    "}\n",
    "$$\n",
    "$$\n",
    "\\large{\n",
    "\\begin{split}\n",
    "\\frac{\\partial E_{(w,b)}}{\\partial b} \n",
    "    &= 2 \\sum_{i=1}^{m}\\left(y_i - w·x_i - b\\right)·(-1) \\\\\n",
    "    &= 2 \\left( mb - \\sum_{i=1}^{m}(y_i - w·x_i)\\right) \n",
    "\\end{split}\\tag{1.2}\n",
    "}\n",
    "$$"
   ]
  },
  {
   "cell_type": "markdown",
   "metadata": {},
   "source": [
    "令 1.1 和 1.2 式为零就可以求得 w 和 b：\n",
    "$$\n",
    "\\large{\n",
    "\\begin{split}\n",
    "w &= \\frac{\\sum_{i=1}^{m}y_i(x_i - \\overline{x})}{\\sum_{i=1}^{m}x_i^2 - \\frac{1}{m}\\left(\\sum_{i=1}^{m}x_i^2 \\right)^2} \\qquad 其中\\overline{x} = \\frac{1}{m}\\sum_{i=1}^{m}x_i \\\\\n",
    "b &= \\frac{1}{m} \\sum_{i=1}^{m}(y_i - wx_i)\n",
    "\\end{split}\n",
    "}\n",
    "$$\n",
    "\n",
    "对于有多个属性的数据集，如数据集 D 含有 d 个属性，学到的模型为：\n",
    "$$\n",
    "\\large{\n",
    "f(\\boldsymbol{x_i}) = \\mathbf{w^T}\\boldsymbol{x_i} + b ,使得 f(x_i) \\simeq y_i \\tag{A2}\n",
    "}\n",
    "$$\n",
    "称为**多元线性回归**，或**多变量线性回归**。"
   ]
  },
  {
   "cell_type": "markdown",
   "metadata": {},
   "source": [
    "同样可以使用最小二乘法来对 w 和 b 进行估计。为了方便讨论可以将 w 和 b 合成一个变量$\\hat{\\boldsymbol{w}} = (\\boldsymbol{w},b) $，那么数据集 D 就可以表示为一个 m×(d+1)的矩阵 X，每一行代表一个样本，每一列代表一个属性，最后一行恒为1，对应于 b。形式如下：\n",
    "$$\n",
    "\\large{\n",
    "X = \n",
    "    \\begin{pmatrix}\n",
    "     x_{11}& x_{12} & \\cdots & x_{1d} & 1\\\\\n",
    "     x_{21}& x_{12} & \\cdots & x_{1d} & 1\\\\ \n",
    "     \\vdots &  &  &  & 1\\\\ \n",
    "     x_{m1}& x_{m2} & \\cdots & x_{md} & 1\n",
    "    \\end{pmatrix} \n",
    "    = \n",
    "    \\begin{pmatrix}\n",
    "     \\boldsymbol{x_1}^{T} & 1\\\\\n",
    "     \\boldsymbol{x_2}^{T} & 1\\\\ \n",
    "     \\vdots & \\vdots \\\\\n",
    "     \\boldsymbol{x_m}^{T} & 1\n",
    "    \\end{pmatrix}\n",
    "}\n",
    "$$\n",
    "\n",
    "如果将标签写为 $\\boldsymbol{y} =(y_1;y_2;\\cdots;y_m)$，那么就有与 A1 类似的式子：\n",
    "$$\n",
    "\\large{\n",
    "\\hat{w}^{*} = arg\\min_{\\hat{w}}(\\boldsymbol{y-X\\hat{w}})^{T}(\\boldsymbol{y-X\\hat{w}})\\; 或 \\;\\min_{\\hat{w}} {|| \\boldsymbol{X w - y}||_2}^2\n",
    "}\n",
    "$$"
   ]
  },
  {
   "cell_type": "markdown",
   "metadata": {},
   "source": [
    "对上式对$\\hat{w}$ 求导，并零导数为零，求得最优解：\n",
    "$$\n",
    "\\large{\n",
    "\\begin{split}\n",
    "\\frac{\\partial E_{\\hat{w}}}{\\partial \\hat{w}} = 2\\mathbf{X^T}(\\mathbf{X}\\hat{w} - \\boldsymbol{y}) &= 0 \\\\\n",
    "\\Rightarrow \\mathbf{X^T}\\mathbf{X}\\hat{w} &= \\mathbf{X^T}\\boldsymbol{y} \\\\\n",
    "\\Rightarrow \\hat{w} &= (\\mathbf{X^T}\\mathbf{X})^{-1}\\mathbf{X^T}\\boldsymbol{y}\n",
    "\\end{split}\n",
    "}\n",
    "$$\n",
    "\n",
    "如果$\\mathbf{X^T}\\mathbf{X}$ 是满秩矩阵或者正定矩阵，w 的解就为上面的值，令 $\\boldsymbol{\\hat{x}_i} =(\\boldsymbol{x_i}) $ 那么此时的线性回归模型为：\n",
    "$$\n",
    "\\large{\n",
    "\\begin{split}\n",
    "f(\\boldsymbol{\\hat{x}_i}) = \\boldsymbol{\\hat{x}_i}^{T}(\\mathbf{X^T}\\mathbf{X})^{-1}\\mathbf{X^T}\\boldsymbol{y}\n",
    "\\end{split}\n",
    "}\n",
    "$$\n",
    "\n",
    "但在显示任务中矩阵$\\mathbf{X^T}\\mathbf{X}$往往不是满秩的，即经常会遇到属性的个数远远大于样本的个数，此时 w 就不止有一个解，选择哪一个作为解，由算法的偏好来决定。常见的做好是引入**正则化（regularization）**"
   ]
  },
  {
   "cell_type": "markdown",
   "metadata": {},
   "source": [
    "如下图，未引入正则化的线性回归：[sklearn - Linear Regression Example](https://scikit-learn.org/stable/auto_examples/linear_model/plot_ols.html#sphx-glr-auto-examples-linear-model-plot-ols-py)\n",
    "![image](https://wx2.sinaimg.cn/large/69d4185bly1fx54m1h0e0j20dx0ag0t1.jpg)"
   ]
  },
  {
   "cell_type": "markdown",
   "metadata": {},
   "source": [
    "线性模型简单但却有丰富的变化，对于样本$(\\boldsymbol{x},y),y\\in \\mathbb{R}$，当希望线性模型 A2 预测值逼近真是标记 y 时，就得到了线性模型，可以将其简写为：\n",
    "$$\n",
    "\\large{\n",
    "\\begin{split}\n",
    "y = \\boldsymbol{w}^{T}\\boldsymbol{x}  + b\n",
    "\\end{split}\n",
    "}\n",
    "$$\n",
    "\n",
    "我们也可以让其逼近 y 的衍生物，如标记是在指数尺度上的变化，那么输出的标记的对数作为线性模型逼近的目标即：\n",
    "$$\n",
    "\\large{\n",
    "\\begin{split}\n",
    "\\ln y = \\boldsymbol{w}^{T}\\boldsymbol{x}  + b \n",
    "\\end{split}\\tag{1.4}\n",
    "}\n",
    "$$\n",
    "\n",
    "这就是**对数线性回归（log-linear regression）**，他其实是在让 $\\large{e^{\\boldsymbol{w}^{T}\\boldsymbol{x}  + b}}$ 来接近 y。上式虽然在形式上式线性回归，但实际上已经是在**求取输入空间到输出空间的非线性映射函数**"
   ]
  },
  {
   "cell_type": "markdown",
   "metadata": {},
   "source": [
    "考虑到单调可以函数g(.)，令：\n",
    "$$\n",
    "\\large{\n",
    "y = g^{-1}(\\boldsymbol{w}^{T}\\boldsymbol{x} + b) \\tag{A3}\n",
    "}\n",
    "$$\n",
    "\n",
    "这样得到的模型为**广义线性模型（generalized linear model）**，g(.)称为**联系函数（link function）**（将线性模型回归的预测值与真实值联系起来），显然对数线性归回是广义线性模型 g(.) = ln(.)的特例。"
   ]
  },
  {
   "cell_type": "markdown",
   "metadata": {},
   "source": [
    "# 对数几率回归（分类）\n",
    "【参考】\n",
    "- [csdn - 极大似然估计详解](https://blog.csdn.net/zengxiantao1994/article/details/72787849)"
   ]
  },
  {
   "cell_type": "markdown",
   "metadata": {},
   "source": [
    "二分类任务中，输出的标记为$y \\in \\{0,1\\}$，线性回归模型产生的实值，$z=\\boldsymbol{w}^T\\boldsymbol{x}+b$，我们就需要将z 值转为0/1，这时候就需要用到**单位阶跃函数（unit-step function）**：\n",
    "$$\n",
    "\\large{\n",
    "y = \n",
    "\\begin{cases}\n",
    "0, &z \\lt 0; \\\\ 0.5 , &z = 0; \\\\ 1 , &z \\gt 0,\n",
    "\\end{cases}\n",
    "}\n",
    "$$\n",
    "\n",
    "即预测值大于零是正例，小于零是负例，临界值任意判断，如下图：\n",
    "![image](https://ws4.sinaimg.cn/large/69d4185bly1fwcg4dgjm9j20fq08yt96.jpg)\n"
   ]
  },
  {
   "cell_type": "markdown",
   "metadata": {},
   "source": [
    "单位阶跃函数是不连续的，因此不能作为联系函数，我们需要找到一个与单位阶跃函数近似的**替代函数（surrogate function）**，并且希望他是单调可微的，**对数几率函数（logistics function）**正是这样的一个替代函数：\n",
    "$$\n",
    "\\large{\n",
    "y = \\frac{1}{1 + e^{-z}} \\tag{A4}\n",
    "}\n",
    "$$\n",
    "\n",
    "对数几率函数是一种\"Sigmoid 的函数\"，他将 z 值**转换**为一个接近 0 或者1 的值，且在输出值 z=0 的位置变化陡峭，将其作为$g^{-1}(·)$带入 A3可得：\n",
    "$$\n",
    "\\large{\n",
    "y = \\frac{1}{1 + e^{-(\\boldsymbol{w}^{T}\\boldsymbol{x} + b)}} \\tag{A5}\n",
    "}\n",
    "$$\n",
    "\n",
    "将 A5 写成与 (1.4) 类似的形式就有：\n",
    "$$\n",
    "\\large{\n",
    "\\ln \\frac{y}{1-y} = \\boldsymbol{w}^{T}\\boldsymbol{x} + b \\tag{A6}\n",
    "}\n",
    "$$\n",
    "\n",
    "y 可以当做样本 x 是正例的可能性，那么 1-y 就是负例的可能性，两者的比值成为**几率（odds）**：\n",
    "$$\n",
    "\\large{\n",
    "\\frac{y}{1-y}\n",
    "}\n",
    "$$\n",
    "\n",
    "反应了 x 作为正例的可能性，对几率去对数得到的就是**对数几率（log odds 也做 logit）**：\n",
    "$$\n",
    "\\large{\n",
    "\\ln \\frac{y}{1-y}\n",
    "}\n",
    "$$"
   ]
  },
  {
   "cell_type": "markdown",
   "metadata": {},
   "source": [
    "由上可以看出，A5实际是在用线性回归模型的预测结果去接近真实标记的对数几率，因此该模型称为**对数几率模型（logistics regression或者 logit regression）**，虽然名字里有回归但其实是分类。\n",
    "\n",
    "优点：\n",
    "- 直接对分类的可能性进行建模，无需实现假设数据的分布，这样就避免了假设分布不准确带来的问题\n",
    "- 她不仅预测出“类别”，还可以得到近似概率预测，这样需要利用概率辅助决策的任务很有用\n",
    "- 对率函数是任意阶可导凸函数，有很好的数学性质，可直接用现成的算法包求解。\n",
    "\n",
    "确定 w 和 b，将式 A5 中的 y 视为类**后验概率估计**p(y=1|x)，那么式 A6 可以重新写为：\n",
    "$$\n",
    "\\large{\n",
    "\\ln \\frac{p(y=1|x)}{p(y=0|x)} = \\boldsymbol{w}^{T}\\boldsymbol{x} + b\n",
    "}\\tag{1.4}\n",
    "$$\n",
    "那么就有：\n",
    "$$\n",
    "\\large{\n",
    "\\begin{split}\n",
    "p(y=1|x) &= \\frac{e^{\\boldsymbol{w}^{T}\\boldsymbol{x} + b}}{1+e^{\\boldsymbol{w}^{T}\\boldsymbol{x} + b}}\\\\\n",
    "p(y=0|x) &= \\frac{1}{1+e^{\\boldsymbol{w}^{T}\\boldsymbol{x} + b}}\n",
    "\\end{split}\n",
    "}\\tag{1.5}\n",
    "$$"
   ]
  },
  {
   "cell_type": "markdown",
   "metadata": {},
   "source": [
    "通过**极大似然法（maximum likelihood Method）**来估计 w 和 b。给定数据集$\\{(x_i,y_i)\\}_{i=1}^{m}$对率回归模型最大化**对数似然（log-likelihood）**：\n",
    "$$\n",
    "\\large{\n",
    "\\begin{split}\n",
    "\\mathcal{l}(\\boldsymbol{w},b)=\\sum_{i=1}^{m}\\ln p(y_i \\;\\vert\\; \\boldsymbol{x_i};\\boldsymbol{w},b)\n",
    "\\end{split}\\tag{A7}\n",
    "}\n",
    "$$\n",
    "\n",
    "即令每个样本属于这是标记的概率越大越好。令$\\beta = (\\boldsymbol{w};b),\\; \\boldsymbol{\\hat{x}} = (\\boldsymbol{x};1)$，那么\n",
    "$$\n",
    "\\large{\n",
    "\\boldsymbol{w}^{T}\\boldsymbol{x} + b = \\boldsymbol{\\beta}^{T}\\boldsymbol{\\hat{x}}\n",
    "}\n",
    "$$\n",
    "\n",
    "再令：\n",
    "$$\n",
    "\\large{\n",
    "\\begin{split}\n",
    "p_1(\\boldsymbol{\\hat{x}}, \\boldsymbol{\\beta}) &= p(y=1 \\;|\\; \\boldsymbol{\\hat{x}}, \\boldsymbol{\\beta} ) \\\\\n",
    "p_0(\\boldsymbol{\\hat{x}}, \\boldsymbol{\\beta}) &= p(y=0 \\;|\\; \\boldsymbol{\\hat{x}}, \\boldsymbol{\\beta} ) = 1 - p_1(\\boldsymbol{\\hat{x}}, \\boldsymbol{\\beta})\n",
    "\\end{split}\n",
    "}\n",
    "$$"
   ]
  },
  {
   "cell_type": "markdown",
   "metadata": {},
   "source": [
    "那么重写 A7 中的似然项有：\n",
    "$$\n",
    "\\large{\n",
    "\\begin{split}\n",
    "p(y_i \\;\\vert\\; \\boldsymbol{x_i};\\boldsymbol{w},b) = y_ip_1(\\boldsymbol{\\hat{x}}, \\boldsymbol{\\beta}) + (1-y_i)p_0(\\boldsymbol{\\hat{x}}, \\boldsymbol{\\beta})\n",
    "\\end{split}\\tag{A8}\n",
    "}\n",
    "$$\n",
    "\n",
    "将 A8 带入 A7，根据 1.5 式，最大化 A7 ，相当于最小化：\n",
    "$$\n",
    "\\large{\n",
    "\\begin{split}\n",
    "l(\\boldsymbol{\\beta}) = \\sum_{i=1}^{m}\\left( -y_i\\boldsymbol{\\beta}^{T}\\boldsymbol{\\hat{x}}_i + \\ln\\left( 1 + e^{\\beta^{T}\\hat{x}_i}\\right) \\right)\n",
    "\\end{split}\\tag{A9}\n",
    "}\n",
    "$$\n",
    "\n",
    "β是高阶连续可到函数，可用**梯度下降算法（gradient descent Method）**，或者**牛顿法（newton method）**来求解。"
   ]
  },
  {
   "cell_type": "markdown",
   "metadata": {},
   "source": [
    "# 多重共线性\n",
    "【参考】\n",
    "- [csdn - 机器学习线性回归：谈谈多重共线性问题及相关算法](https://blog.csdn.net/xo3ylAF9kGs/article/details/78623269)\n",
    "- [简书 - 讲讲共线性问题](https://www.jianshu.com/p/ef1b27b8aee0)\n",
    "- [知乎 - 多元线性回归及多重共线性处理](https://zhuanlan.zhihu.com/p/22907932)\n",
    "- [博客园 - 多重共线性的解决方法之——岭回归与LASSO](https://www.cnblogs.com/pingzeng/p/5040911.html)\n",
    "- [百度文库 - 第七章 多重共线性（计量经济学-浙江大学 韩菁）](https://wenku.baidu.com/view/2100a7cc770bf78a65295459.html)"
   ]
  },
  {
   "cell_type": "markdown",
   "metadata": {},
   "source": [
    "最小二乘法（OLS）在做回归时，一致地看待每一个样本点，是典型的[无偏估计](https://www.zhihu.com/question/22983179)，会得到一个使得残差最小的权重参数。然而，在面对一堆数据集存在多重共线性时，最小二乘法（OLS）就变得对样本点的误差极为敏感，最终回归后的权重参数方差变大。这就是需要解决的共线性回归问题，一般思想是放弃无偏估计，损失一定精度，对数据做有偏估计，常用的方法就是将要提到的 岭回归和 LASSO。\n",
    "\n",
    "多重共线性（Multicollinearity）是指线性回归模型中的自变量之间由于存在高度相关关系而使模型的权重参数估计失真或难以估计准确的一种特性，多重是指一个自变量可能与多个其他自变量之间存在相关关系。  \n",
    "例如一件商品的销售数量可能与当地的人均收入和当地人口数这两个其他因素存在相关关系。在研究社会、经济问题时，因为问题本身的复杂性，设计的因素很多。在建立回归模型时，往往由于研究者认识水平的局限性，很难在众多因素中找到一组互不相关，又对因变量 y 产生主要影响的变量，不可避免地出现所选自变量出现多重相关关系的情形。"
   ]
  },
  {
   "cell_type": "markdown",
   "metadata": {},
   "source": [
    "用数学语言表述就是，在多远线性回归中，我们求得的 w：\n",
    "$$\n",
    "\\large{\n",
    "\\begin{split}\n",
    "\\hat{w} &= (\\boldsymbol{X^T}\\boldsymbol{X})^{-1}\\boldsymbol{X^T}\\boldsymbol{y}\n",
    "\\end{split}\n",
    "}\n",
    "$$\n",
    "\n",
    "如果存在较强的共线性，即 X 中各列向量之间存在较强的相关性，会导致 $|\\boldsymbol{X^T}\\boldsymbol{X}| \\approx 0$ , 从而引起 $(\\boldsymbol{X^T}\\boldsymbol{X})^{-1}$ 对角线上的值很大。并且不一样的样本也会导致参数估计值变化非常大。即参数 $\\hat{w}$ 估计量的方差也增大，对参数的估计会不准确。\n",
    "\n",
    "为了解决这个问题，可以使用下面介绍的 岭回归和 LASSO 算。"
   ]
  },
  {
   "cell_type": "markdown",
   "metadata": {},
   "source": [
    "# 岭回归(Ridge Regression)\n",
    "【参考】\n",
    "- [csdn - 简单易学的机器学习算法——岭回归(Ridge Regression)](https://blog.csdn.net/google19890102/article/details/27228279)\n",
    "- [简书 - 岭回归](https://www.jianshu.com/p/1677d27e08a7)"
   ]
  },
  {
   "cell_type": "markdown",
   "metadata": {},
   "source": [
    "## 线性回归的问题\n",
    "在处理复杂的数据的回归问题时，普通的线性回归会遇到一些问题，主要表现在：\n",
    "\n",
    "- 预测精度：这里要处理好这样一对为题，即样本的数量 n 和特征的数量 p\n",
    "    - n >> p 时，最小二乘回归会有较小的方差\n",
    "    - n ≈ p 时，容易产生过拟合\n",
    "    - n < p 时，最小二乘回归得不到有意义的结果\n",
    "- 模型的解释能力：如果模型中的特征之间有相互关系，这样会增加模型的复杂程度，并且对整个模型的解释能力并没有提高，这时，我们就要进行特征选择。\n",
    "\n",
    "以上的这些问题，主要就是表现在模型的方差和偏差问题上，这样的关系可以通过下图说明：\n",
    "![image](https://ws3.sinaimg.cn/large/69d4185bly1fx554muux3j20ed0bowf0.jpg)\n",
    "\n",
    "方差指的是模型之间的差异，而偏差指的是模型预测值和数据之间的差异。我们需要找到方差和偏差的折中。"
   ]
  },
  {
   "cell_type": "markdown",
   "metadata": {},
   "source": [
    "## 岭回归\n",
    "【参考】\n",
    "- [简书 - 多元线性回归模型的特征压缩：岭回归和Lasso回归](https://www.jianshu.com/p/35e67c9e4cbf)\n",
    "- [sklearn - ridge-regression](https://scikit-learn.org/stable/modules/linear_model.html#ridge-regression)\n",
    "- [知乎- 机器学习算法实践-岭回归和LASSO](https://zhuanlan.zhihu.com/p/30535220)"
   ]
  },
  {
   "cell_type": "markdown",
   "metadata": {},
   "source": [
    "岭回归是在线性回归损失函数的基础之上添加正则项（L2范数）得到，对参数记性压缩惩罚：\n",
    "$$\n",
    "\\large{\n",
    "\\begin{split}\n",
    " f(\\omega) = \\sum_{i=1}^{m}(y_i - x_i^T\\omega)^2 + \\alpha\\sum_{i=1}^{n}\\omega_i^2\n",
    "\\end{split}\n",
    "}\\tag{B1}\n",
    "$$\n",
    "或者\n",
    "$$\n",
    "\\large{\n",
    "\\begin{split}\n",
    "\\min_{\\omega} {{|| \\boldsymbol{X \\omega - y}||_2}^2 + \\alpha {||\\boldsymbol{\\omega}||_2}^2}\n",
    "\\end{split}\n",
    "}\\tag{B2}\n",
    "$$\n",
    "\n",
    "对 (B2) 式求导可有：\n",
    "$$\n",
    "\\large{\n",
    "\\begin{split}\n",
    "\\boldsymbol{2X^{T}(y-X\\omega)} - 2\\alpha \\boldsymbol{\\omega}\n",
    "\\end{split}\n",
    "}\\tag{B3}\n",
    "$$\n",
    "\n",
    "令其为 0 ，可以求得$\\omega$：\n",
    "$$\n",
    "\\large{\n",
    "\\begin{split}\n",
    "\\hat{\\omega} = (\\boldsymbol{X^TX} + \\alpha \\boldsymbol{I})^{-1}\\boldsymbol{X^Ty}\n",
    "\\end{split}\n",
    "}\\tag{B4}\n",
    "$$\n"
   ]
  },
  {
   "cell_type": "markdown",
   "metadata": {},
   "source": [
    "岭回归使用了单位矩阵乘以常数 $\\alpha$，我们观察其中的单位矩阵 I,可以看到值 1 贯穿整个对角线，其余元素全是0. 形象的，在0构成的平面上有一条 1 组成的“岭”，这就是岭回归中“岭”的由来。岭回归又叫脊回归。"
   ]
  },
  {
   "cell_type": "markdown",
   "metadata": {},
   "source": [
    "以下展示了不同的 $\\alpha$ 对于参数 w 的影响：[Plot Ridge coefficients as a function of the L2 regularization](https://scikit-learn.org/stable/auto_examples/linear_model/plot_ridge_coeffs.html#sphx-glr-auto-examples-linear-model-plot-ridge-coeffs-py)\n",
    "![image](https://wx2.sinaimg.cn/large/69d4185bly1fx56bo0qyuj20vd0ao3zo.jpg)"
   ]
  },
  {
   "cell_type": "markdown",
   "metadata": {},
   "source": [
    "$\\alpha$ 是一个非负的调节参数，可以看到：当 $\\alpha=0$时，此时它与基础线性回归的损失函数一致，没有起到任何惩罚作用；当$\\alpha \\rightarrow \\infty$时，它的惩罚项也就是无穷大，而为了使代价函数最小，只能压缩系数 $\\boldsymbol{w}$ 趋近于0。\n",
    "\n",
    "但是因为 $\\alpha$ 不可能为无穷大，二次项求偏导时总会保留变量本身，所以事实上它也不可能真正地将某个特征压缩为 0。尽管系数较小可以有效减小方差，但依然留着一大长串特征会使模型不便于解释。这是岭回归的缺点，而 `LASSO` 回归可以解决这个问题。"
   ]
  },
  {
   "cell_type": "markdown",
   "metadata": {},
   "source": [
    "## 岭回归的几何意义"
   ]
  },
  {
   "cell_type": "markdown",
   "metadata": {},
   "source": [
    "（B2）式在数学上可以证明与下面的式子是等价的：\n",
    "$$\n",
    "\\large{\n",
    "\\begin{split}\n",
    "&f(\\omega) = \\sum_{i=1}^{m}(y_i - x_i^T\\omega)^2 \\\\\n",
    "&s.t.\\;\\sum_{i=1}^{n}\\omega_i^2 \\le t\n",
    "\\end{split}\n",
    "}\\tag{B5}\n",
    "$$\n",
    "\n",
    "其中 t 是阈值。"
   ]
  },
  {
   "cell_type": "markdown",
   "metadata": {},
   "source": [
    "以两个变量为例, 残差平方和可以表示为 $w_1, w_2$ 的一个二次函数，是一个在三维空间中的抛物面，可以用等值线来表示。而限制条件 $w_1^2 + w_2^2 < t$ ， 相当于在二维平面的一个圆。这个时候等值线与圆相切的点便是在约束条件下的最优点，如下图所示:\n",
    "![img](https://ws4.sinaimg.cn/large/69d4185bly1fx5gejgd01j20be05s3yi.jpg)"
   ]
  },
  {
   "cell_type": "markdown",
   "metadata": {},
   "source": [
    "# LASSO 回归"
   ]
  },
  {
   "cell_type": "markdown",
   "metadata": {},
   "source": [
    "岭回归限定了所有回归系数的平方和不大于 t , 在使用普通最小二乘法回归的时候当两个变量具有相关性的时候，可能会使得其中一个系数是个很大正数，另一个系数是很大的负数。通过岭回归的  $\\sum_{i=1}^{n} w_i^2 \\le t$ 的限制，可以避免这个问题。\n",
    "\n",
    "`LASSO`(Least Absolute Shrinkage and Selectionator Operator 最小绝对值收敛和选择算子、套索算法) 回归的正项则就把二次项改成了一次绝对值（l1范数），具体为：\n",
    "$$\n",
    "\\large{\n",
    "\\begin{split}\n",
    " f(\\omega) = \\sum_{i=1}^{m}(y_i - x_i^T\\omega)^2 + \\alpha\\sum_{i=1}^{n}|\\omega_i|\n",
    "\\end{split}\n",
    "}\\tag{C1}\n",
    "$$\n",
    "或者\n",
    "$$\n",
    "\\large{\n",
    "\\begin{split}\n",
    "\\min_{\\omega} {{|| \\boldsymbol{X \\omega - y}||_2}^2 + \\alpha ||\\boldsymbol{w}||_1}\n",
    "\\end{split}\n",
    "}\\tag{C2}\n",
    "$$\n",
    "\n",
    "一次项求导可以抹去变量本身，因此lasso回归的系数可以为0。这样可以起来真正的特征筛选效果。无论对于岭回归还是 `LASSO` 回归，本质都是通过调节 $\\alpha$ 来实现模型偏差 vs 方差的平衡调整。\n",
    "\n",
    "`LASSO` 对于数据的要求是极其低的，所以应用程度较广；除此之外，`LASSO` 还能够对变量进行筛选和对模型的复杂程度进行降低: \n",
    "- 这里的变量筛选是指不把所有的变量都放入模型中进行拟合，而是有选择的把变量放入模型从而得到更好的性能参数。  \n",
    "- 复杂度调整是指通过一系列参数控制模型的复杂度，从而避免过度拟合(Overfitting)。 \n",
    "对于线性模型来说，复杂度与模型的变量数有直接关系，变量数越多，模型复杂度就越高。 更多的变量在拟合时往往可以给出一个看似更好的模型，但是同时也面临过度拟合的危险。"
   ]
  },
  {
   "cell_type": "markdown",
   "metadata": {},
   "source": [
    "## 几何意义\n",
    "【参考】\n",
    "- [sklearn - Elastic Net](https://scikit-learn.org/stable/modules/linear_model.html#elastic-net)"
   ]
  },
  {
   "cell_type": "markdown",
   "metadata": {},
   "source": [
    "（C2）式在数学上可以证明与下面的式子是等价的：\n",
    "$$\n",
    "\\large{\n",
    "\\begin{split}\n",
    "&f(\\omega) = \\sum_{i=1}^{m}(y_i - x_i^T\\omega)^2 \\\\\n",
    "&s.t.\\;\\sum_{i=1}^{n}|\\omega_i|\\le t\n",
    "\\end{split}\n",
    "}\\tag{C3}\n",
    "$$\n",
    "\n",
    "其中 t 是阈值。"
   ]
  },
  {
   "cell_type": "markdown",
   "metadata": {},
   "source": [
    "同样以两个变量为例，标准线性回归的损失函数还是可以用二维平面的等值线表示，而约束条件则与岭回归的圆不同，LASSO的约束条件可以用方形表示，如下图:\n",
    "![img](https://ws3.sinaimg.cn/large/69d4185bly1fx5gphsvi5j20bi05yjrg.jpg)\n",
    "\n",
    "相比圆，方形的顶点更容易与抛物面相交，顶点就意味着对应的很多系数为0，而岭回归中的圆上的任意一点都很容易与抛物面相交很难得到正好等于0的系数。这也就意味着，`LASSO` 起到了很好的筛选变量的作用。\n",
    "\n",
    "但是，如果存在一组高度相关的变量时，即多个特征与另一个特征相关，Lasso倾向于随机的从中选择一个变量，而忽视其他所有的变量，这样可能会导致结果的不稳定性。这时可以尝试使用 `elastic net penalty`。`ElasticNet` 是结合了 L1 与 L2，即保留了 L1 的稀疏解特性，也维护了 L2 正则化特性。`ElasticNet` 的最小化目标函数为：\n",
    "$$\n",
    "\\large{\n",
    "\\begin{split}\n",
    "\\min_{w} { \\frac{1}{2n_{samples}} ||X w - y||_2 ^ 2 + \\alpha \\rho ||w||_1 +\n",
    "\\frac{\\alpha(1-\\rho)}{2} ||w||_2 ^ 2}\n",
    "\\end{split}\n",
    "}\\tag{C6}\n",
    "$$"
   ]
  },
  {
   "cell_type": "markdown",
   "metadata": {},
   "source": [
    "`LASSO` 与 `ElasticNet` 对比：\n",
    "![image](https://wx1.sinaimg.cn/large/69d4185bly1fx5myrcukfj20g90cywgv.jpg)"
   ]
  },
  {
   "cell_type": "markdown",
   "metadata": {},
   "source": [
    "# 线性判别（ LDA）\n",
    "即 Linear Discriminant Analysis"
   ]
  },
  {
   "cell_type": "code",
   "execution_count": 4,
   "metadata": {},
   "outputs": [
    {
     "data": {
      "text/plain": [
       "[7, 0]"
      ]
     },
     "execution_count": 4,
     "metadata": {},
     "output_type": "execute_result"
    }
   ],
   "source": [
    "s = [0]\n",
    "s.insert(0, 7)\n",
    "s"
   ]
  },
  {
   "cell_type": "code",
   "execution_count": null,
   "metadata": {},
   "outputs": [],
   "source": []
  }
 ],
 "metadata": {
  "kernelspec": {
   "display_name": "Python 3",
   "language": "python",
   "name": "python3"
  },
  "language_info": {
   "codemirror_mode": {
    "name": "ipython",
    "version": 3
   },
   "file_extension": ".py",
   "mimetype": "text/x-python",
   "name": "python",
   "nbconvert_exporter": "python",
   "pygments_lexer": "ipython3",
   "version": "3.6.7"
  },
  "toc": {
   "base_numbering": 1,
   "nav_menu": {},
   "number_sections": true,
   "sideBar": true,
   "skip_h1_title": false,
   "title_cell": "目录",
   "title_sidebar": "Contents",
   "toc_cell": true,
   "toc_position": {},
   "toc_section_display": true,
   "toc_window_display": true
  }
 },
 "nbformat": 4,
 "nbformat_minor": 2
}
