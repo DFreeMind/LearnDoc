{
 "cells": [
  {
   "cell_type": "code",
   "execution_count": null,
   "metadata": {},
   "outputs": [],
   "source": []
  },
  {
   "cell_type": "markdown",
   "metadata": {},
   "source": [
    "# 函数 API"
   ]
  },
  {
   "cell_type": "markdown",
   "metadata": {},
   "source": [
    "前面我们使用的都是序列化模型，即如下形式：\n",
    "```python\n",
    "from keras.models import Sequential\n",
    "from keras.layers.core import dense, Activation\n",
    "model = Sequential([\n",
    "    dense (32, input_ _dim=784) ,\n",
    "    Activation (\"sigmoid\") ,\n",
    "    dense (10) ,\n",
    "    Activation (\"softmax\") ,\n",
    "])\n",
    "model.compile(loss=\"categorical_crossentropy\", optimizer=\"adam\")\n",
    "```\n",
    "即他是一层层堆叠起来的，函数形式可以表示成如下：\n",
    "$$\n",
    "\\large{\n",
    "\\begin{split}\n",
    "y = \\sigma_K\\left(f(\\sigma_2(g(x)))\\right)\n",
    "\\end{split}\n",
    "}\n",
    "$$\n",
    "其中：\n",
    "$$\n",
    "\\large{\n",
    "\\begin{split}\n",
    "g(x) &= W_gx + b_g \\\\\n",
    "\\sigma_2 &= \\frac{1}{1+e^{-x}} \\\\\n",
    "f(x) &= W_fx + b_f \\\\\n",
    "\\sigma_K &= \\frac{e^x}{\\sum_{k=1}^{K}e^{x_k}} \n",
    "\\end{split}\n",
    "}\n",
    "$$"
   ]
  },
  {
   "cell_type": "markdown",
   "metadata": {},
   "source": [
    "函数式语法则如下：\n",
    "```python\n",
    "from keras.layers import Input\n",
    "from keras. layers. core import dense\n",
    "from keras. models import Model\n",
    "from keras. layers. core import Activation\n",
    "inputs = Input (shape=(784, ) )\n",
    "\n",
    "x = dense (32) (inputs)\n",
    "x = Activation (\"sigmoid\") (x)\n",
    "x = dense (10) (x)\n",
    "predictions = Activation(\"softmax\") (x)\n",
    "\n",
    "model = Model (input s=inputs, output s=predictions)\n",
    "\n",
    "model. compile (loss=\"categorical_ crossentropy\", opt imizer=\"adam\")\n",
    "```"
   ]
  },
  {
   "cell_type": "code",
   "execution_count": null,
   "metadata": {},
   "outputs": [],
   "source": []
  },
  {
   "cell_type": "code",
   "execution_count": null,
   "metadata": {},
   "outputs": [],
   "source": []
  },
  {
   "cell_type": "code",
   "execution_count": null,
   "metadata": {},
   "outputs": [],
   "source": []
  },
  {
   "cell_type": "code",
   "execution_count": null,
   "metadata": {},
   "outputs": [],
   "source": []
  },
  {
   "cell_type": "code",
   "execution_count": null,
   "metadata": {},
   "outputs": [],
   "source": []
  },
  {
   "cell_type": "code",
   "execution_count": null,
   "metadata": {},
   "outputs": [],
   "source": []
  },
  {
   "cell_type": "code",
   "execution_count": null,
   "metadata": {},
   "outputs": [],
   "source": []
  },
  {
   "cell_type": "code",
   "execution_count": null,
   "metadata": {},
   "outputs": [],
   "source": []
  },
  {
   "cell_type": "code",
   "execution_count": null,
   "metadata": {},
   "outputs": [],
   "source": []
  },
  {
   "cell_type": "code",
   "execution_count": null,
   "metadata": {},
   "outputs": [],
   "source": []
  },
  {
   "cell_type": "code",
   "execution_count": null,
   "metadata": {},
   "outputs": [],
   "source": []
  },
  {
   "cell_type": "code",
   "execution_count": null,
   "metadata": {},
   "outputs": [],
   "source": []
  },
  {
   "cell_type": "code",
   "execution_count": null,
   "metadata": {},
   "outputs": [],
   "source": []
  },
  {
   "cell_type": "code",
   "execution_count": null,
   "metadata": {},
   "outputs": [],
   "source": []
  },
  {
   "cell_type": "code",
   "execution_count": null,
   "metadata": {},
   "outputs": [],
   "source": []
  },
  {
   "cell_type": "code",
   "execution_count": null,
   "metadata": {},
   "outputs": [],
   "source": []
  },
  {
   "cell_type": "code",
   "execution_count": null,
   "metadata": {},
   "outputs": [],
   "source": []
  }
 ],
 "metadata": {
  "kernelspec": {
   "display_name": "Python 3",
   "language": "python",
   "name": "python3"
  },
  "language_info": {
   "codemirror_mode": {
    "name": "ipython",
    "version": 3
   },
   "file_extension": ".py",
   "mimetype": "text/x-python",
   "name": "python",
   "nbconvert_exporter": "python",
   "pygments_lexer": "ipython3",
   "version": "3.5.6"
  },
  "toc": {
   "base_numbering": 1,
   "nav_menu": {},
   "number_sections": true,
   "sideBar": true,
   "skip_h1_title": false,
   "title_cell": "Table of Contents",
   "title_sidebar": "Contents",
   "toc_cell": false,
   "toc_position": {
    "height": "calc(100% - 180px)",
    "left": "10px",
    "top": "150px",
    "width": "165px"
   },
   "toc_section_display": true,
   "toc_window_display": true
  }
 },
 "nbformat": 4,
 "nbformat_minor": 2
}
