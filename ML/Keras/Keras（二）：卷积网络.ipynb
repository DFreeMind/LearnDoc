{
 "cells": [
  {
   "cell_type": "code",
   "execution_count": null,
   "metadata": {},
   "outputs": [],
   "source": []
  },
  {
   "cell_type": "markdown",
   "metadata": {},
   "source": [
    "# 深度卷积网络"
   ]
  },
  {
   "cell_type": "markdown",
   "metadata": {},
   "source": [
    "常见的结构如下：\n",
    "![image](https://wx1.sinaimg.cn/large/69d4185bly1fyejbk0x49j20j10673ze.jpg)\n",
    "\n",
    "卷积网络的关键有如下三点：\n",
    "- 局部视野\n",
    "- 权重共享\n",
    "- 池化"
   ]
  },
  {
   "cell_type": "markdown",
   "metadata": {},
   "source": [
    "在 keras 中卷积层可以如下创建：\n",
    "```python\n",
    "Conv2D(32, (3, 3), input_shape=(256, 256, 3))\n",
    "# 或\n",
    "Conv2D(32, kernel_size=3, input_shape=(256, 256, 3))\n",
    "```\n",
    "即将一个 3X3 的核用在输入为大小为 256 × 256 深度为 3 的图片上，输出为 32：\n",
    "![image](https://ws1.sinaimg.cn/large/69d4185bly1fyejkhy44lj20ix090dg7.jpg)\n"
   ]
  },
  {
   "cell_type": "markdown",
   "metadata": {},
   "source": [
    "池化层的创建如下：\n",
    "```python\n",
    "MaxPooling2D(pool_size=(2, 2))\n",
    "```\n",
    "![image](https://ws1.sinaimg.cn/large/69d4185bly1fyejlqwwjnj209s05ydg2.jpg)"
   ]
  },
  {
   "cell_type": "markdown",
   "metadata": {},
   "source": [
    "# LeNet"
   ]
  },
  {
   "cell_type": "markdown",
   "metadata": {},
   "source": [
    "LeNet 的结构如下：\n",
    "![image](https://wx2.sinaimg.cn/large/69d4185bly1fyejovznrdj20iy07jwfc.jpg)"
   ]
  },
  {
   "cell_type": "code",
   "execution_count": 4,
   "metadata": {},
   "outputs": [],
   "source": [
    "from keras import backend as K\n",
    "from keras.models import Sequential\n",
    "from keras.layers.convolutional import Conv2D\n",
    "from keras.layers.convolutional import MaxPooling2D\n",
    "from keras.layers.core import Activation\n",
    "from keras.layers.core import Flatten\n",
    "from keras.layers.core import Dense\n",
    "from keras.datasets import mnist\n",
    "from keras.utils import np_utils\n",
    "from keras.optimizers import SGD, RMSprop, Adam\n",
    "import numpy as np\n",
    "import matplotlib. pyplot as plt"
   ]
  },
  {
   "cell_type": "code",
   "execution_count": 23,
   "metadata": {},
   "outputs": [],
   "source": [
    "class LeNet:\n",
    "    @staticmethod\n",
    "    def build(input_shape, classes):\n",
    "        model = Sequential()\n",
    "        # CONV => RELU => POOL\n",
    "        model.add(Conv2D(20, kernel_size=5, padding='same', input_shape=input_shape))\n",
    "        model.add(Activation('relu'))\n",
    "        model.add(MaxPooling2D(pool_size=(2, 2), strides=(2, 2)))\n",
    "        # CONV => RELU => POOL\n",
    "        model.add(Conv2D(50, kernel_size=5, padding='same'))\n",
    "        model.add(Activation('relu'))\n",
    "        model.add(MaxPooling2D(pool_size=(2, 2), strides=(2, 2)))\n",
    "        # Flatten => RELU\n",
    "        model.add(Flatten())\n",
    "        model.add(Dense(500))\n",
    "        model.add(Activation('relu'))\n",
    "        # softmax\n",
    "        \n",
    "        model.add(Dense(classes))\n",
    "        model.add(Activation('softmax'))\n",
    "        return model"
   ]
  },
  {
   "cell_type": "code",
   "execution_count": 25,
   "metadata": {
    "collapsed": true
   },
   "outputs": [
    {
     "name": "stdout",
     "output_type": "stream",
     "text": [
      "60000 train samples\n",
      "10000 test samples\n",
      "Train on 48000 samples, validate on 12000 samples\n",
      "Epoch 1/20\n",
      "48000/48000 [==============================] - 90s 2ms/step - loss: 0.1843 - acc: 0.9425 - val_loss: 0.0627 - val_acc: 0.9810\n",
      "Epoch 2/20\n",
      "48000/48000 [==============================] - 88s 2ms/step - loss: 0.0492 - acc: 0.9842 - val_loss: 0.0418 - val_acc: 0.9879\n",
      "Epoch 3/20\n",
      "48000/48000 [==============================] - 84s 2ms/step - loss: 0.0313 - acc: 0.9901 - val_loss: 0.0429 - val_acc: 0.9879\n",
      "Epoch 4/20\n",
      "48000/48000 [==============================] - 80s 2ms/step - loss: 0.0231 - acc: 0.9923 - val_loss: 0.0356 - val_acc: 0.9899\n",
      "Epoch 5/20\n",
      "48000/48000 [==============================] - 81s 2ms/step - loss: 0.0187 - acc: 0.9937 - val_loss: 0.0394 - val_acc: 0.9887\n",
      "Epoch 6/20\n",
      "48000/48000 [==============================] - 89s 2ms/step - loss: 0.0140 - acc: 0.9951 - val_loss: 0.0402 - val_acc: 0.9890\n",
      "Epoch 7/20\n",
      "48000/48000 [==============================] - 87s 2ms/step - loss: 0.0124 - acc: 0.9956 - val_loss: 0.0395 - val_acc: 0.9890\n",
      "Epoch 8/20\n",
      "48000/48000 [==============================] - 82s 2ms/step - loss: 0.0095 - acc: 0.9968 - val_loss: 0.0325 - val_acc: 0.9911\n",
      "Epoch 9/20\n",
      "48000/48000 [==============================] - 81s 2ms/step - loss: 0.0072 - acc: 0.9975 - val_loss: 0.0398 - val_acc: 0.9904\n",
      "Epoch 10/20\n",
      "48000/48000 [==============================] - 81s 2ms/step - loss: 0.0085 - acc: 0.9970 - val_loss: 0.0365 - val_acc: 0.9904\n",
      "Epoch 11/20\n",
      "48000/48000 [==============================] - 80s 2ms/step - loss: 0.0077 - acc: 0.9975 - val_loss: 0.0555 - val_acc: 0.9871\n",
      "Epoch 12/20\n",
      "48000/48000 [==============================] - 79s 2ms/step - loss: 0.0048 - acc: 0.9986 - val_loss: 0.0429 - val_acc: 0.9897\n",
      "Epoch 13/20\n",
      "48000/48000 [==============================] - 81s 2ms/step - loss: 0.0049 - acc: 0.9984 - val_loss: 0.0505 - val_acc: 0.9892\n",
      "Epoch 14/20\n",
      "48000/48000 [==============================] - 74s 2ms/step - loss: 0.0052 - acc: 0.9986 - val_loss: 0.0388 - val_acc: 0.9917\n",
      "Epoch 15/20\n",
      "48000/48000 [==============================] - 75s 2ms/step - loss: 0.0051 - acc: 0.9982 - val_loss: 0.0611 - val_acc: 0.9886\n",
      "Epoch 16/20\n",
      "48000/48000 [==============================] - 73s 2ms/step - loss: 0.0058 - acc: 0.9979 - val_loss: 0.0504 - val_acc: 0.9907\n",
      "Epoch 17/20\n",
      "48000/48000 [==============================] - 86s 2ms/step - loss: 0.0041 - acc: 0.9987 - val_loss: 0.0453 - val_acc: 0.9918\n",
      "Epoch 18/20\n",
      "48000/48000 [==============================] - 89s 2ms/step - loss: 0.0030 - acc: 0.9989 - val_loss: 0.0488 - val_acc: 0.9903\n",
      "Epoch 19/20\n",
      "48000/48000 [==============================] - 84s 2ms/step - loss: 0.0033 - acc: 0.9990 - val_loss: 0.0501 - val_acc: 0.9902\n",
      "Epoch 20/20\n",
      "48000/48000 [==============================] - 73s 2ms/step - loss: 0.0031 - acc: 0.9991 - val_loss: 0.0451 - val_acc: 0.9898\n"
     ]
    }
   ],
   "source": [
    "### 数据准备\n",
    "# network and training\n",
    "NB_EPOCH = 20\n",
    "BAICH_SIZE = 128\n",
    "VERBOSE = 1\n",
    "OPITMIZER = Adam()\n",
    "VALIDAIION_SPLIT=0.2\n",
    "IMG_ROWS, IMG_COLS = 28, 28 # input image dimensions\n",
    "NB_CLASSES = 10 # number of outputs = number of digits\n",
    "INPUI_SHAPE = (IMG_ROWS, IMG_COLS, 1)\n",
    "\n",
    "# data: shuffled and split between train and test sets\n",
    "(X_train, y_train), (X_test, y_test) = mnist.load_data()\n",
    "K.set_image_dim_ordering(\"tf\")\n",
    "# consider them as float and normalize\n",
    "X_train = X_train.astype('float32')\n",
    "X_test = X_test. astype('float32')\n",
    "X_train /= 255\n",
    "X_test /= 255\n",
    "\n",
    "#wen eed a 60Kx[28x28x1]shape as input to the CONVNEI\n",
    "X_train = X_train[:, :, :, np.newaxis]\n",
    "x_test = X_test[:, :, :,np.newaxis]\n",
    "\n",
    "print(X_train.shape[0], 'train samples')\n",
    "print(X_test. shape[0], 'test samples')\n",
    "\n",
    "# convert class vectors to binary class matrices\n",
    "y_train = np_utils.to_categorical(y_train, NB_CLASSES)\n",
    "y_test = np_utils.to_categorical(y_test, NB_CLASSES)\n",
    "\n",
    "# initialize the optimizer and model\n",
    "model = LeNet.build(input_shape=INPUI_SHAPE, classes=NB_CLASSES)\n",
    "model.compile(OPITMIZER, loss=\"categorical_crossentropy\", metrics=[\"accuracy\"] )\n",
    "\n",
    "history = model.fit(X_train, y_train,\n",
    "                    batch_size=BAICH_SIZE, epochs=NB_EPOCH,\n",
    "                    verbose=VERBOSE, validation_split=VALIDAIION_SPLIT)"
   ]
  },
  {
   "cell_type": "code",
   "execution_count": 33,
   "metadata": {},
   "outputs": [
    {
     "name": "stdout",
     "output_type": "stream",
     "text": [
      "10000/10000 [==============================] - 6s 597us/step\n",
      "Iest score: 0.0335120748671\n",
      "Iest accuracy: 0.9921\n",
      "dict_keys(['val_loss', 'val_acc', 'loss', 'acc'])\n"
     ]
    },
    {
     "data": {
      "image/png": "[encoded data removed]",
      "text/plain": [
       "<Figure size 720x288 with 2 Axes>"
      ]
     },
     "metadata": {},
     "output_type": "display_data"
    }
   ],
   "source": [
    "score = model.evaluate(x_test, y_test, verbose=VERBOSE)\n",
    "print (\"Iest score:\", score[0])\n",
    "print('Iest accuracy:', score[1])\n",
    "\n",
    "# list all data in history\n",
    "print (history.history.keys())\n",
    "# summarize history for accuracy\n",
    "fig, axs = plt.subplots(1,2, figsize=(10,4))\n",
    "axs[0].plot(history.history['acc'])\n",
    "axs[0].plot(history.history['val_acc'])\n",
    "axs[0].set_title('model accuracy')\n",
    "axs[0].set_ylabel('accuracy')\n",
    "axs[0].set_xlabel('epoch')\n",
    "axs[0].legend(['train', 'test'], loc='upper left')\n",
    "\n",
    "# summarize history for loss\n",
    "axs[1].plot(history .history['loss'] )\n",
    "axs[1].plot(history .history['val_loss'] )\n",
    "axs[1].set_title('model loss')\n",
    "axs[1].set_ylabel('loss')\n",
    "axs[1].set_xlabel ('epoch' )\n",
    "axs[1].legend([ 'train', 'test'] , loc='upper left')\n",
    "plt.show()"
   ]
  },
  {
   "cell_type": "markdown",
   "metadata": {},
   "source": [
    "训练数据对精度有很大的影响，下面是多层感知机和卷积神经网络在不同数据下的精度对比：\n",
    "![image](https://wx2.sinaimg.cn/large/69d4185bly1fyelhi3hjbj20ge0913z2.jpg)"
   ]
  },
  {
   "cell_type": "markdown",
   "metadata": {},
   "source": [
    "# CIFAR 识别"
   ]
  },
  {
   "cell_type": "code",
   "execution_count": 49,
   "metadata": {},
   "outputs": [
    {
     "name": "stdout",
     "output_type": "stream",
     "text": [
      "X_train shape:  (50000, 32, 32, 3)\n",
      "50000 train samples\n",
      "10000 test samples\n"
     ]
    }
   ],
   "source": [
    "from keras.datasets import cifar10\n",
    "from keras.utils import np_utils\n",
    "from keras.models import Sequential\n",
    "from keras.layers.core import Dense, Dropout, Activation, Flatten\n",
    "from keras.layers.convolutional import Conv2D, MaxPooling2D\n",
    "from keras.optimizers import SGD, Adam, RMSprop\n",
    "import matplotlib.pyplot as plt\n",
    "# CIFAR_ 10 is a set of б0K images 32x32 pixels on 3 channels\n",
    "IMG_CHANNELS  = 3\n",
    "\n",
    "IMG_ROWS = 32\n",
    "IMG_COLS = 32\n",
    "#constant\n",
    "BATCH_SIZE = 128\n",
    "NB_EPOCH = 20\n",
    "NB_CLASSES = 10\n",
    "VERBOSE = 1\n",
    "VALIDATION_SPLIT = 0.2\n",
    "OPTIM = RMSprop()\n",
    "\n",
    "#load dataset\n",
    "(X_train, y_train), (X_test, y_test) = cifar10.load_data()\n",
    "print ('X_train shape: ', X_train.shape )\n",
    "print (X_train.shape[0], 'train samples')\n",
    "print (X_test.shape[0], 'test samples')\n",
    "\n",
    "# convert to categorical\n",
    "Y_train = np_utils.to_categorical(y_train, NB_CLASSES )\n",
    "Y_test = np_utils.to_categorical(y_test, NB_CLASSES)\n",
    "# float and normalization \n",
    "X_train = X_train. astype('float32')\n",
    "X_test = X_test.astype('float32')\n",
    "X_train /= 255\n",
    "X_test /= 255"
   ]
  },
  {
   "cell_type": "code",
   "execution_count": 50,
   "metadata": {},
   "outputs": [],
   "source": [
    "def plot_loss(history):\n",
    "    # list all data in history\n",
    "    print (history.history.keys())\n",
    "    # summarize history for accuracy\n",
    "    fig, axs = plt.subplots(1,2, figsize=(10,4))\n",
    "    axs[0].plot(history.history[ 'acc'])\n",
    "    axs[0].plot (history.history['val_acc'])\n",
    "    axs[0].set_title('model accuracy')\n",
    "    axs[0].set_ylabel('accuracy')\n",
    "    axs[0].set_xlabel('epoch')\n",
    "    axs[0].legend(['train', 'test'], loc='upper left')\n",
    "\n",
    "    # summarize history for loss\n",
    "    axs[1].plot(history .history['loss'] )\n",
    "    axs[1].plot(history .history['val_loss'] )\n",
    "    axs[1].set_title('model loss')\n",
    "    axs[1].set_ylabel('loss')\n",
    "    axs[1].set_xlabel('epoch' )\n",
    "    axs[1].legend(['train', 'test'] , loc='upper left')\n",
    "    plt.show()"
   ]
  },
  {
   "cell_type": "markdown",
   "metadata": {},
   "source": [
    "## 普通方法"
   ]
  },
  {
   "cell_type": "code",
   "execution_count": 51,
   "metadata": {
    "collapsed": true
   },
   "outputs": [
    {
     "name": "stdout",
     "output_type": "stream",
     "text": [
      "Train on 40000 samples, validate on 10000 samples\n",
      "Epoch 1/20\n",
      "40000/40000 [==============================] - 62s 2ms/step - loss: 1.6972 - acc: 0.3940 - val_loss: 1.4264 - val_acc: 0.4941\n",
      "Epoch 2/20\n",
      "40000/40000 [==============================] - 63s 2ms/step - loss: 1.3630 - acc: 0.5165 - val_loss: 1.2514 - val_acc: 0.5556\n",
      "Epoch 3/20\n",
      "40000/40000 [==============================] - 62s 2ms/step - loss: 1.2280 - acc: 0.5662 - val_loss: 1.1442 - val_acc: 0.6074\n",
      "Epoch 4/20\n",
      "40000/40000 [==============================] - 59s 1ms/step - loss: 1.1369 - acc: 0.5988 - val_loss: 1.1007 - val_acc: 0.6191\n",
      "Epoch 5/20\n",
      "40000/40000 [==============================] - 65s 2ms/step - loss: 1.0631 - acc: 0.6252 - val_loss: 1.1251 - val_acc: 0.6063\n",
      "Epoch 6/20\n",
      "40000/40000 [==============================] - 68s 2ms/step - loss: 1.0003 - acc: 0.6513 - val_loss: 1.0637 - val_acc: 0.6348\n",
      "Epoch 7/20\n",
      "40000/40000 [==============================] - 61s 2ms/step - loss: 0.9491 - acc: 0.6699 - val_loss: 1.0172 - val_acc: 0.6490\n",
      "Epoch 8/20\n",
      "40000/40000 [==============================] - 52s 1ms/step - loss: 0.8992 - acc: 0.6895 - val_loss: 1.1094 - val_acc: 0.6195\n",
      "Epoch 9/20\n",
      "40000/40000 [==============================] - 60s 1ms/step - loss: 0.8550 - acc: 0.7045 - val_loss: 0.9918 - val_acc: 0.6672\n",
      "Epoch 10/20\n",
      "40000/40000 [==============================] - 60s 1ms/step - loss: 0.8175 - acc: 0.7174 - val_loss: 1.0638 - val_acc: 0.6451\n",
      "Epoch 11/20\n",
      "40000/40000 [==============================] - 52s 1ms/step - loss: 0.7835 - acc: 0.7281 - val_loss: 1.0014 - val_acc: 0.6629\n",
      "Epoch 12/20\n",
      "40000/40000 [==============================] - 61s 2ms/step - loss: 0.7437 - acc: 0.7435 - val_loss: 1.0026 - val_acc: 0.6736\n",
      "Epoch 13/20\n",
      "40000/40000 [==============================] - 52s 1ms/step - loss: 0.7165 - acc: 0.7517 - val_loss: 1.0278 - val_acc: 0.6602\n",
      "Epoch 14/20\n",
      "40000/40000 [==============================] - 65s 2ms/step - loss: 0.6908 - acc: 0.7619 - val_loss: 1.0039 - val_acc: 0.6749\n",
      "Epoch 15/20\n",
      "40000/40000 [==============================] - 52s 1ms/step - loss: 0.6673 - acc: 0.7711 - val_loss: 1.0629 - val_acc: 0.6753\n",
      "Epoch 16/20\n",
      "40000/40000 [==============================] - 55s 1ms/step - loss: 0.6366 - acc: 0.7820 - val_loss: 1.0371 - val_acc: 0.6645\n",
      "Epoch 17/20\n",
      "40000/40000 [==============================] - 63s 2ms/step - loss: 0.6162 - acc: 0.7863 - val_loss: 1.0734 - val_acc: 0.6625\n",
      "Epoch 18/20\n",
      "40000/40000 [==============================] - 61s 2ms/step - loss: 0.5945 - acc: 0.7957 - val_loss: 1.0519 - val_acc: 0.6860\n",
      "Epoch 19/20\n",
      "40000/40000 [==============================] - 55s 1ms/step - loss: 0.5739 - acc: 0.8024 - val_loss: 1.1315 - val_acc: 0.6729\n",
      "Epoch 20/20\n",
      "40000/40000 [==============================] - 54s 1ms/step - loss: 0.5579 - acc: 0.8105 - val_loss: 1.1079 - val_acc: 0.6784\n"
     ]
    }
   ],
   "source": [
    "# network\n",
    "model = Sequential()\n",
    "model.add(Conv2D(32, (3, 3), padding='same', \n",
    "                   input_shape= (IMG_ROWS, IMG_COLS, IMG_CHANNELS)))\n",
    "model.add(Activation('relu'))\n",
    "model.add(MaxPooling2D(pool_size=(2, 2)))\n",
    "model.add(Dropout(0.25))\n",
    "\n",
    "model.add(Flatten() )\n",
    "model.add(Dense(512) )\n",
    "model.add(Activation('relu') )\n",
    "model.add(Dropout(0.5) )\n",
    "model.add(Dense(NB_CLASSES) )\n",
    "model.add(Activation( 'softmax') )\n",
    "\n",
    "# train\n",
    "model.compile(OPTIM, loss='categorical_crossentropy', metrics=['accuracy'] )\n",
    "history = model.fit(X_train, Y_train, batch_size=BATCH_SIZE, \n",
    "          epochs=NB_EPOCH, validation_split=VALIDATION_SPLIT,\n",
    "          verbose=VERBOSE )"
   ]
  },
  {
   "cell_type": "code",
   "execution_count": 58,
   "metadata": {},
   "outputs": [
    {
     "name": "stdout",
     "output_type": "stream",
     "text": [
      "10000/10000 [==============================] - 4s 376us/step\n",
      "Test score:  1.11880475225\n",
      "Test accuracy:  0.6728\n",
      "dict_keys(['val_loss', 'val_acc', 'loss', 'acc'])\n"
     ]
    },
    {
     "data": {
      "image/png": "[encoded data removed]",
      "text/plain": [
       "<Figure size 720x288 with 2 Axes>"
      ]
     },
     "metadata": {},
     "output_type": "display_data"
    }
   ],
   "source": [
    "score = model.evaluate (X_test, Y_test, batch_size=BATCH_SIZE, verbose=VERBOSE )\n",
    "print (\"Test score: \", score[0] )\n",
    "print ('Test accuracy: ' , score[1])\n",
    "\n",
    "# 绘图\n",
    "plot_loss(history)\n",
    "\n",
    "#save\n",
    "model_json = model.to_json()\n",
    "open('./models/ciflar10_architecture.json', 'w').write(model_json)\n",
    "# And the weights learned by our deep network on the training set\n",
    "model.save_weights('./models/cifar10_weights .h5' , overwrite=True)"
   ]
  },
  {
   "cell_type": "markdown",
   "metadata": {},
   "source": [
    "## 卷积方法"
   ]
  },
  {
   "cell_type": "code",
   "execution_count": 63,
   "metadata": {
    "collapsed": true
   },
   "outputs": [
    {
     "name": "stderr",
     "output_type": "stream",
     "text": [
      "/anaconda3/envs/py36/lib/python3.6/site-packages/ipykernel_launcher.py:11: UserWarning: Update your `Conv2D` call to the Keras 2 API: `Conv2D(64, (3, 3))`\n",
      "  # This is added back by InteractiveShellApp.init_path()\n"
     ]
    },
    {
     "name": "stdout",
     "output_type": "stream",
     "text": [
      "Train on 40000 samples, validate on 10000 samples\n",
      "Epoch 1/20\n",
      "40000/40000 [==============================] - 219s 5ms/step - loss: 1.8119 - acc: 0.3458 - val_loss: 1.4779 - val_acc: 0.4700\n",
      "Epoch 2/20\n",
      "40000/40000 [==============================] - 213s 5ms/step - loss: 1.3552 - acc: 0.5201 - val_loss: 1.1057 - val_acc: 0.6082\n",
      "Epoch 3/20\n",
      "40000/40000 [==============================] - 218s 5ms/step - loss: 1.1270 - acc: 0.6048 - val_loss: 0.9637 - val_acc: 0.6641\n",
      "Epoch 4/20\n",
      "40000/40000 [==============================] - 199s 5ms/step - loss: 0.9872 - acc: 0.6530 - val_loss: 0.8796 - val_acc: 0.6945\n",
      "Epoch 5/20\n",
      "40000/40000 [==============================] - 231s 6ms/step - loss: 0.8953 - acc: 0.6882 - val_loss: 0.8235 - val_acc: 0.7138\n",
      "Epoch 6/20\n",
      "40000/40000 [==============================] - 208s 5ms/step - loss: 0.8202 - acc: 0.7172 - val_loss: 0.9568 - val_acc: 0.6896\n",
      "Epoch 7/20\n",
      "40000/40000 [==============================] - 220s 5ms/step - loss: 0.7576 - acc: 0.7391 - val_loss: 0.7720 - val_acc: 0.7291\n",
      "Epoch 8/20\n",
      "40000/40000 [==============================] - 206s 5ms/step - loss: 0.7159 - acc: 0.7518 - val_loss: 0.7765 - val_acc: 0.7283\n",
      "Epoch 9/20\n",
      "40000/40000 [==============================] - 215s 5ms/step - loss: 0.6696 - acc: 0.7678 - val_loss: 0.6702 - val_acc: 0.7739\n",
      "Epoch 10/20\n",
      "40000/40000 [==============================] - 221s 6ms/step - loss: 0.6386 - acc: 0.7786 - val_loss: 0.8407 - val_acc: 0.7225\n",
      "Epoch 11/20\n",
      "40000/40000 [==============================] - 198s 5ms/step - loss: 0.6148 - acc: 0.7873 - val_loss: 0.7555 - val_acc: 0.7547\n",
      "Epoch 12/20\n",
      "40000/40000 [==============================] - 212s 5ms/step - loss: 0.6008 - acc: 0.7896 - val_loss: 0.7665 - val_acc: 0.7775\n",
      "Epoch 13/20\n",
      "40000/40000 [==============================] - 209s 5ms/step - loss: 0.5804 - acc: 0.8018 - val_loss: 0.6854 - val_acc: 0.7753\n",
      "Epoch 14/20\n",
      "40000/40000 [==============================] - 193s 5ms/step - loss: 0.5727 - acc: 0.8047 - val_loss: 0.9031 - val_acc: 0.7477\n",
      "Epoch 15/20\n",
      "40000/40000 [==============================] - 193s 5ms/step - loss: 0.5667 - acc: 0.8078 - val_loss: 0.8049 - val_acc: 0.7645\n",
      "Epoch 16/20\n",
      "40000/40000 [==============================] - 193s 5ms/step - loss: 0.5572 - acc: 0.8109 - val_loss: 0.9259 - val_acc: 0.7425\n",
      "Epoch 17/20\n",
      "40000/40000 [==============================] - 193s 5ms/step - loss: 0.5624 - acc: 0.8118 - val_loss: 0.7058 - val_acc: 0.7795\n",
      "Epoch 18/20\n",
      "40000/40000 [==============================] - 200s 5ms/step - loss: 0.5640 - acc: 0.8138 - val_loss: 0.7462 - val_acc: 0.7722\n",
      "Epoch 19/20\n",
      "40000/40000 [==============================] - 221s 6ms/step - loss: 0.5516 - acc: 0.8164 - val_loss: 0.6949 - val_acc: 0.7735\n",
      "Epoch 20/20\n",
      "40000/40000 [==============================] - 215s 5ms/step - loss: 0.5558 - acc: 0.8153 - val_loss: 0.7179 - val_acc: 0.7703\n"
     ]
    }
   ],
   "source": [
    "model = Sequential()\n",
    "model.add(Conv2D(32, (3, 3) , padding='same' ,\n",
    "                  input_shape= (IMG_ROWS, IMG_COLS, IMG_CHANNELS) ) )\n",
    "model.add(Activation('relu') )\n",
    "model.add(Conv2D(32, (3, 3), padding='same') )\n",
    "model.add(Activation( 'relu') )\n",
    "model.add(MaxPooling2D (pool_size=(2, 2) ) )\n",
    "model.add(Dropout (0.25) )\n",
    "model.add(Conv2D(64, (3, 3), padding='same') )\n",
    "model.add(Activation('relu') )\n",
    "model.add(Conv2D(64, 3, 3) )\n",
    "model.add(Activation('relu') )\n",
    "model.add(MaxPooling2D (pool_size=(2, 2)) )\n",
    "model.add(Dropout(0.25))\n",
    "model.add(Flatten())\n",
    "model.add(Dense(512))\n",
    "model.add(Activation('relu'))\n",
    "model.add(Dropout(0.5))\n",
    "model.add(Dense(NB_CLASSES))\n",
    "model.add(Activation('softmax'))\n",
    "\n",
    "# train\n",
    "model.compile(OPTIM, loss='categorical_crossentropy', metrics=['accuracy'] )\n",
    "history = model.fit(X_train, Y_train, batch_size=BATCH_SIZE, \n",
    "          epochs=NB_EPOCH, validation_split=VALIDATION_SPLIT,\n",
    "          verbose=VERBOSE )"
   ]
  },
  {
   "cell_type": "code",
   "execution_count": 64,
   "metadata": {},
   "outputs": [
    {
     "name": "stdout",
     "output_type": "stream",
     "text": [
      "10000/10000 [==============================] - 16s 2ms/step\n",
      "Test score:  0.748820310783\n",
      "Test accuracy:  0.7639\n",
      "dict_keys(['val_loss', 'val_acc', 'loss', 'acc'])\n"
     ]
    },
    {
     "data": {
      "image/png": "[encoded data removed]",
      "text/plain": [
       "<Figure size 720x288 with 2 Axes>"
      ]
     },
     "metadata": {},
     "output_type": "display_data"
    }
   ],
   "source": [
    "score = model.evaluate (X_test, Y_test, batch_size=BATCH_SIZE, verbose=VERBOSE )\n",
    "print (\"Test score: \", score[0] )\n",
    "print ('Test accuracy: ' , score[1])\n",
    "\n",
    "# 绘图\n",
    "plot_loss(history)"
   ]
  },
  {
   "cell_type": "markdown",
   "metadata": {},
   "source": [
    "## 数据增强"
   ]
  },
  {
   "cell_type": "markdown",
   "metadata": {},
   "source": [
    "通过数据增强也可以用于提升网络的表现，keras 提供了多种数据增强方法，如：旋转、尺度、水平/垂直翻转、缩放、通道偏移等等：\n",
    "```python\n",
    "datagen=ImageDataGenerator(rotation_range=40,\n",
    "                           width_shift_range=0.2,\n",
    "                           height_shift_range=0.2,\n",
    "                           zoom_range=0.2,\n",
    "                           horizontal_flip=True,\n",
    "                           fill_mode='nearest')\n",
    "datagen.fit(X_train)\n",
    "model.fit_generator(datagen.flow(X_train, Y_train, batch_size=BATCH_SIZE),\n",
    "                   samples_per_epoch=X_train.shape[0],epochs=NB_EPOCH)\n",
    "```"
   ]
  },
  {
   "cell_type": "markdown",
   "metadata": {},
   "source": [
    "## 预测"
   ]
  },
  {
   "cell_type": "markdown",
   "metadata": {},
   "source": [
    "```python\n",
    "import numpy as np\n",
    "import scipy.misc\n",
    "from keras.models import model_from_json\n",
    "from keras.optimizers import SGD\n",
    "\n",
    "#load model\n",
    "model_architecture = 'cifar1O_architecture.json '\n",
    "model_weights = 'cifar1O_weights.h5 '\n",
    "model = model_from_json(open(model_architecture).read())\n",
    "model.load_weights(model_weights)\n",
    "\n",
    "#load images\n",
    "img_names = ['cat-standing.jpg', 'dog. jpg']\n",
    "imgs = [np.transpose(scipy.misc.imresize(scipy.misc.imread (img_name),  (32, 32)), \n",
    "                     (1, 0, 2)).astype('float32') \n",
    "        for img_name in img_names ]\n",
    "imgs = np.array(imgs) / 255\n",
    "\n",
    "# train\n",
    "optim = SGD()\n",
    "model.compile(optim, loss='categorical_ crossentropy' , metrics=[ 'accuracy'] )\n",
    "# predict\n",
    "predictions = model.predict_classes(imgs)\n",
    "print(predictions )\n",
    "```"
   ]
  },
  {
   "cell_type": "markdown",
   "metadata": {},
   "source": [
    "# 提取特征创建模型"
   ]
  },
  {
   "cell_type": "markdown",
   "metadata": {},
   "source": [
    "从 VGG16 中提取特征，进行模型搭建。\n",
    "```\n",
    "Now you might wonder why we want to extract the features from an intermediate layer in a DCNN. The key intuition is that, as the network learns to classify images into categories, each layer learns to identify the features that are necessary to do the final classification. Lower layers identify lower order features such as color and edges, and higher layers compose these lower order feature into higher order features such as shapes or objects. Hence the intermediate layer has the capability to extract important features from an image, and these features are more likely to help in different kinds of classification. This has multiple advantages. First, we can rely on publicly available large-scale training and transfer this learning to novel domains. Second, we can save time for expensive large training. Third, we can provide reasonable solutions even when we don't have a large number of training examples for our domain. We also get a good starting network shape for the task at hand, instead of guessing it.\n",
    "```"
   ]
  },
  {
   "cell_type": "code",
   "execution_count": null,
   "metadata": {},
   "outputs": [],
   "source": [
    "from keras.applications.vgg16 import VGG16\n",
    "from keras.models import Model\n",
    "from keras.preprocessing import image\n",
    "from keras.applications.vgg16 import preprocess_input\n",
    "import numpy as np\n",
    "\n",
    "# pre-built and pre-trained deep learning VGG16 mode l\n",
    "base_model = VGG16 (weights=' imagenet', include_top=True)\n",
    "\n",
    "for i, layer in enumerate (base_model.layers) :\n",
    "    print(i, layer.name, layer.output_shape)\n",
    "\n",
    "# extract features from block4_ pool block\n",
    "model = Model(input=base_model.input,\n",
    "             output=base_model.get_layer('block4_pool').output)\n",
    "img_path = './images/cat01.jpg'\n",
    "img = image.load_img (img_path, target_size=(224, 224))\n",
    "x = image.img_to_array (img)\n",
    "x = np.expand_dims(x, axis=0)\n",
    "x = preprocess_input (x)\n",
    "# . get the features from this block\n",
    "features = model.predict (x)"
   ]
  },
  {
   "cell_type": "markdown",
   "metadata": {},
   "source": [
    "# 迁移学习"
   ]
  },
  {
   "cell_type": "markdown",
   "metadata": {},
   "source": [
    "```\n",
    "Transfer learning is a very powerful deep learning technique which has more applications in different domains. The intuition is very simple and can be explained with an analogy. Suppose you want to learn a new language, say Spanish; then it could be useful to start from what you already know in a different language, say English. Following this line of thinking, computer vision researchers now commonly use pre-trained CNNs to generate representations for novel tasks, where the dataset may not be large enough to train an entire CNN from scratch. Another common tactic is to take the pretrained ImageNet network and then to fine-tune the entire network to the novel task.\n",
    "```\n",
    "以 Inception-V3为例："
   ]
  },
  {
   "cell_type": "markdown",
   "metadata": {},
   "source": [
    "```python\n",
    "from keras.applications.inception_v3 import InceptionV3\n",
    "from keras.preprocessing import image .\n",
    "from keras.models import Model\n",
    "from keras.layers import Dense, GlobalAveragePooling2D\n",
    "from keras import backend as K\n",
    "# create the base pre-trained model\n",
    "base_model = InceptionV3(weights='imagenet', include_top=False)\n",
    "\n",
    "# add a global spatial average pooling layer\n",
    "x = base_ model. output\n",
    "x = GlobalAveragePooling2D()(x) # let 's add a fully-connected layer as first layer\n",
    "x = Dense(1024, activation='relu')(x) # and a logistic layer with 200 classes as last layer\n",
    "predictions = Dense(200, activation='softmax')(x) # model to train\n",
    "model = Model(input=base_model.input, output=predictions)\n",
    "\n",
    "# that is, freeze all convolutional InceptionV3 layers\n",
    "for layer in base_model.layers:\n",
    "    layer.trainable = False\n",
    "    \n",
    "# compile the model(should be done after setting layers to non-trainable)\n",
    "model.compile(optimizer='rmsprop', loss='catergorical_crossentropy')\n",
    "```"
   ]
  },
  {
   "cell_type": "markdown",
   "metadata": {},
   "source": [
    "或者是如下冻结策略：\n",
    "```python\n",
    "# we chose to train the top 2 inception blocks,that is ,\n",
    "# we will freeze the first 172 layers and unfreeze the rest\n",
    "for layer in model.layers[:172]:\n",
    "    layer.trainable=False\n",
    "for layer in model.layers[172:]:\n",
    "    layter.trainable=True\n",
    "    \n",
    "# we use SGD with a low learning rate\n",
    "from keras.optimizers import SGD\n",
    "model.compile(SGD(lr=0.001, momentun=0.9), loss='categorical_crossentropy')\n",
    "\n",
    "# we train our model again(this time fine-tuning the top 2 inception blocks)\n",
    "# alongside the top dense layers\n",
    "model.fit_generator(...)\n",
    "```"
   ]
  },
  {
   "cell_type": "code",
   "execution_count": null,
   "metadata": {},
   "outputs": [],
   "source": []
  },
  {
   "cell_type": "code",
   "execution_count": null,
   "metadata": {},
   "outputs": [],
   "source": []
  },
  {
   "cell_type": "code",
   "execution_count": null,
   "metadata": {},
   "outputs": [],
   "source": []
  },
  {
   "cell_type": "code",
   "execution_count": null,
   "metadata": {},
   "outputs": [],
   "source": []
  },
  {
   "cell_type": "code",
   "execution_count": null,
   "metadata": {},
   "outputs": [],
   "source": []
  },
  {
   "cell_type": "code",
   "execution_count": null,
   "metadata": {},
   "outputs": [],
   "source": []
  },
  {
   "cell_type": "code",
   "execution_count": null,
   "metadata": {},
   "outputs": [],
   "source": []
  },
  {
   "cell_type": "code",
   "execution_count": null,
   "metadata": {},
   "outputs": [],
   "source": []
  },
  {
   "cell_type": "code",
   "execution_count": null,
   "metadata": {},
   "outputs": [],
   "source": []
  },
  {
   "cell_type": "code",
   "execution_count": null,
   "metadata": {},
   "outputs": [],
   "source": []
  }
 ],
 "metadata": {
  "kernelspec": {
   "display_name": "Python 3",
   "language": "python",
   "name": "python3"
  },
  "language_info": {
   "codemirror_mode": {
    "name": "ipython",
    "version": 3
   },
   "file_extension": ".py",
   "mimetype": "text/x-python",
   "name": "python",
   "nbconvert_exporter": "python",
   "pygments_lexer": "ipython3",
   "version": "3.6.7"
  },
  "toc": {
   "base_numbering": 1,
   "nav_menu": {},
   "number_sections": true,
   "sideBar": true,
   "skip_h1_title": false,
   "title_cell": "Table of Contents",
   "title_sidebar": "Contents",
   "toc_cell": false,
   "toc_position": {
    "height": "calc(100% - 180px)",
    "left": "10px",
    "top": "150px",
    "width": "254px"
   },
   "toc_section_display": true,
   "toc_window_display": true
  }
 },
 "nbformat": 4,
 "nbformat_minor": 2
}
