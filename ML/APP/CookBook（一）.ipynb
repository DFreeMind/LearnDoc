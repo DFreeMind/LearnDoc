{
 "cells": [
  {
   "cell_type": "markdown",
   "metadata": {},
   "source": [
    "# 词内嵌"
   ]
  },
  {
   "cell_type": "markdown",
   "metadata": {},
   "source": [
    "使用 google news 作为示例。"
   ]
  },
  {
   "cell_type": "code",
   "execution_count": 4,
   "metadata": {},
   "outputs": [],
   "source": [
    "%matplotlib inline\n",
    "\n",
    "import os\n",
    "from keras.utils import get_file\n",
    "import gensim\n",
    "import subprocess\n",
    "import numpy as np\n",
    "import matplotlib.pyplot as plt\n",
    "from IPython.core.pylabtools import figsize\n",
    "figsize(10, 10)\n",
    "\n",
    "from sklearn.manifold import TSNE\n",
    "import json\n",
    "from collections import Counter\n",
    "from itertools import chain"
   ]
  },
  {
   "cell_type": "code",
   "execution_count": 5,
   "metadata": {},
   "outputs": [
    {
     "name": "stdout",
     "output_type": "stream",
     "text": [
      "Downloading data from https://s3.amazonaws.com/dl4j-distribution/GoogleNews-vectors-negative300.bin.gz\n",
      "1647050752/1647046227 [==============================] - 814s 0us/step\n"
     ]
    }
   ],
   "source": [
    "MODEL = 'GoogleNews-vectors-negative300.bin'\n",
    "path = get_file(MODEL + '.gz', 'https://s3.amazonaws.com/dl4j-distribution/%s.gz' % MODEL)\n",
    "if not os.path.isdir('generated'):\n",
    "    os.mkdir('generated')\n",
    "\n",
    "unzipped = os.path.join('generated', MODEL)\n",
    "if not os.path.isfile(unzipped):\n",
    "    with open(unzipped, 'wb') as fout:\n",
    "        zcat = subprocess.Popen(['zcat'],\n",
    "                          stdin=open(path),\n",
    "                          stdout=fout\n",
    "                         )\n",
    "        zcat.wait()"
   ]
  },
  {
   "cell_type": "code",
   "execution_count": 8,
   "metadata": {},
   "outputs": [
    {
     "data": {
      "text/plain": [
       "[('dinnerware', 0.6587947607040405),\n",
       " ('crockery', 0.6426128149032593),\n",
       " ('porcelain', 0.6392655372619629),\n",
       " ('crystal_stemware', 0.6264337301254272),\n",
       " ('chinaware', 0.6146420240402222),\n",
       " ('china_plates', 0.6145730018615723),\n",
       " ('silver_flatware', 0.6102818250656128),\n",
       " ('flatware', 0.6089655160903931),\n",
       " ('bone_china', 0.6068581938743591),\n",
       " ('tableware', 0.5923404693603516)]"
      ]
     },
     "execution_count": 8,
     "metadata": {},
     "output_type": "execute_result"
    }
   ],
   "source": [
    "# 加载模型\n",
    "model = gensim.models.KeyedVectors.load_word2vec_format('./generated/' + MODEL, binary=True)\n",
    "\n",
    "# 寻找相似词\n",
    "model.most_similar(positive=['china'])"
   ]
  },
  {
   "cell_type": "code",
   "execution_count": 9,
   "metadata": {},
   "outputs": [
    {
     "data": {
      "text/plain": [
       "'queen'"
      ]
     },
     "execution_count": 9,
     "metadata": {},
     "output_type": "execute_result"
    }
   ],
   "source": [
    "# 寻找相似性\n",
    "def A_is_to_B_as_C_is_to(a, b, c, topn=1):\n",
    "    a, b, c = map(lambda x:x if type(x) == list else [x], (a, b, c))\n",
    "    res = model.most_similar(positive=b + c, negative=a, topn=topn)\n",
    "    if len(res):\n",
    "        if topn == 1:\n",
    "            return res[0][0]\n",
    "        return [x[0] for x in res]\n",
    "    return None\n",
    "A_is_to_B_as_C_is_to('man', 'woman', 'king')"
   ]
  },
  {
   "cell_type": "markdown",
   "metadata": {},
   "source": [
    "其示意图如下：\n",
    "![image](https://ws3.sinaimg.cn/large/69d4185bly1fyixsqfi2ej20bz096gmb.jpg)"
   ]
  },
  {
   "cell_type": "code",
   "execution_count": 10,
   "metadata": {},
   "outputs": [
    {
     "name": "stdout",
     "output_type": "stream",
     "text": [
      "Rome is the capital of Italy\n",
      "Paris is the capital of France\n",
      "Delhi is the capital of India\n",
      "Beijing is the capital of China\n"
     ]
    }
   ],
   "source": [
    "for country in 'Italy', 'France', 'India', 'China':\n",
    "    print('%s is the capital of %s' % \n",
    "          (A_is_to_B_as_C_is_to('Germany', 'Berlin', country), country))"
   ]
  },
  {
   "cell_type": "code",
   "execution_count": 12,
   "metadata": {},
   "outputs": [
    {
     "name": "stdout",
     "output_type": "stream",
     "text": [
      "Google -> personalized_homepage, app, Gmail\n",
      "IBM -> DB2, WebSphere_Portal, Tamino_XML_Server\n",
      "Boeing -> Dreamliner, airframe, aircraft\n",
      "Microsoft -> Windows_Mobile, SyncMate, Windows\n",
      "Samsung -> MM_A###, handset, Samsung_SCH_B###\n"
     ]
    }
   ],
   "source": [
    "for company in 'Google', 'IBM', 'Boeing', 'Microsoft', 'Samsung':\n",
    "    products = A_is_to_B_as_C_is_to(\n",
    "        ['Starbucks', 'Apple'], \n",
    "        ['Starbucks_coffee', 'iPhone'], \n",
    "        company, topn=3)\n",
    "    print('%s -> %s' % \n",
    "          (company, ', '.join(products)))"
   ]
  },
  {
   "cell_type": "markdown",
   "metadata": {},
   "source": [
    "# 可视化"
   ]
  },
  {
   "cell_type": "markdown",
   "metadata": {},
   "source": []
  },
  {
   "cell_type": "code",
   "execution_count": 20,
   "metadata": {},
   "outputs": [],
   "source": [
    "beverages = ['espresso', 'beer', 'vodka', 'wine', 'cola', 'tea']\n",
    "countries = ['Italy', 'Germany', 'Russia', 'France', 'USA', 'India']\n",
    "sports = ['soccer', 'handball', 'hockey', 'cycling', 'basketball', 'cricket']\n",
    "\n",
    "items = beverages + countries + sports\n",
    "\n",
    "item_vectors = [(item, model[item]) \n",
    "                    for item in items\n",
    "                    if item in model]\n",
    "\n",
    "vectors = np.asarray([x[1] for x in item_vectors])\n",
    "lengths = np.linalg.norm(vectors, axis=1)\n",
    "norm_vectors = (vectors.T / lengths).T\n",
    "\n",
    "tsne = TSNE(n_components=2, perplexity=10).fit_transform(norm_vectors)"
   ]
  },
  {
   "cell_type": "code",
   "execution_count": 21,
   "metadata": {},
   "outputs": [
    {
     "data": {
      "image/png": "[encoded data removed]",
      "text/plain": [
       "<Figure size 720x720 with 1 Axes>"
      ]
     },
     "metadata": {
      "needs_background": "light"
     },
     "output_type": "display_data"
    }
   ],
   "source": [
    "x=tsne[:,0]\n",
    "y=tsne[:,1]\n",
    "\n",
    "fig, ax = plt.subplots()\n",
    "ax.scatter(x, y)\n",
    "\n",
    "for item, x1, y1 in zip(item_vectors, x, y):\n",
    "    ax.annotate(item[0], (x1, y1), size=14)\n",
    "\n",
    "plt.show()"
   ]
  },
  {
   "cell_type": "code",
   "execution_count": 36,
   "metadata": {},
   "outputs": [],
   "source": [
    "from sklearn import svm\n",
    "import csv\n",
    "import random\n",
    "import geopandas as gpd"
   ]
  },
  {
   "cell_type": "code",
   "execution_count": 22,
   "metadata": {},
   "outputs": [
    {
     "data": {
      "text/plain": [
       "[('Austria', 0.7461062073707581),\n",
       " ('German', 0.7178748846054077),\n",
       " ('Germans', 0.6628648042678833),\n",
       " ('Switzerland', 0.6506868600845337),\n",
       " ('Hungary', 0.6504982709884644),\n",
       " ('Germnay', 0.649348258972168),\n",
       " ('Netherlands', 0.6437496542930603),\n",
       " ('Cologne', 0.6430779695510864),\n",
       " ('symbol_RSTI', 0.6389946937561035),\n",
       " ('Annita_Kirsten', 0.6342948079109192)]"
      ]
     },
     "execution_count": 22,
     "metadata": {},
     "output_type": "execute_result"
    }
   ],
   "source": [
    "model = gensim.models.KeyedVectors.load_word2vec_format(unzipped, binary=True)\n",
    "model.most_similar(positive=['Germany'])"
   ]
  },
  {
   "cell_type": "code",
   "execution_count": 24,
   "metadata": {},
   "outputs": [
    {
     "data": {
      "text/plain": [
       "[('Braustolz_GmbH', 0.7545095682144165),\n",
       " ('DIARY_Economic_Indicators', 0.7334568500518799),\n",
       " ('##-##_#####_Burscheid', 0.7307888269424438),\n",
       " ('WKN_A#N#Y#_Symbol', 0.7260339260101318),\n",
       " ('Hoevelaken', 0.7067489624023438),\n",
       " ('BMW_###si_1min_##.###secs', 0.7050351500511169),\n",
       " ('Primera_EUROPE', 0.699741005897522),\n",
       " ('symbol_RSTI', 0.6925466656684875),\n",
       " ('Severin_Freund', 0.6898956894874573),\n",
       " ('However_Joern_Lauterjung', 0.688573956489563)]"
      ]
     },
     "execution_count": 24,
     "metadata": {},
     "output_type": "execute_result"
    }
   ],
   "source": [
    "model.most_similar(positive=['Annita_Kirsten'])"
   ]
  },
  {
   "cell_type": "code",
   "execution_count": 27,
   "metadata": {},
   "outputs": [
    {
     "data": {
      "text/plain": [
       "[OrderedDict([('name', 'Canada'), ('cc', 'ca'), ('cc3', 'can')]),\n",
       " OrderedDict([('name', 'Turkmenistan'), ('cc', 'tm'), ('cc3', 'tkm')]),\n",
       " OrderedDict([('name', 'Ethiopia'), ('cc', 'et'), ('cc3', 'eth')]),\n",
       " OrderedDict([('name', 'Swaziland'), ('cc', 'sz'), ('cc3', 'swz')]),\n",
       " OrderedDict([('name', 'Czech_Republic'), ('cc', 'cz'), ('cc3', 'cze')]),\n",
       " OrderedDict([('name', 'Cameroon'), ('cc', 'cm'), ('cc3', 'cmr')]),\n",
       " OrderedDict([('name', 'UAE'), ('cc', 'ae'), ('cc3', 'are')]),\n",
       " OrderedDict([('name', 'Liberia'), ('cc', 'lr'), ('cc3', 'lbr')]),\n",
       " OrderedDict([('name', 'Netherlands'), ('cc', 'nl'), ('cc3', 'nld')]),\n",
       " OrderedDict([('name', 'East_Timor'), ('cc', 'tl'), ('cc3', 'tls')])]"
      ]
     },
     "execution_count": 27,
     "metadata": {},
     "output_type": "execute_result"
    }
   ],
   "source": [
    "countries = list(csv.DictReader(open('data/countries.csv')))\n",
    "countries[:10]"
   ]
  },
  {
   "cell_type": "code",
   "execution_count": 30,
   "metadata": {},
   "outputs": [
    {
     "data": {
      "text/plain": [
       "['FMP', 'ALEX_MCLEISH', 'NCMGY_Short_Term_PowerRatings', 'NanoSpreader']"
      ]
     },
     "execution_count": 30,
     "metadata": {},
     "output_type": "execute_result"
    }
   ],
   "source": [
    "positive = [x['name'] for x in random.sample(countries, 40)]\n",
    "negative = random.sample(model.vocab.keys(), 5000)\n",
    "negative[:4]"
   ]
  },
  {
   "cell_type": "code",
   "execution_count": 31,
   "metadata": {},
   "outputs": [
    {
     "data": {
      "text/plain": [
       "((5040, 300), (5040,))"
      ]
     },
     "execution_count": 31,
     "metadata": {},
     "output_type": "execute_result"
    }
   ],
   "source": [
    "labelled = [(p, 1) for p in positive] + [(n, 0) for n in negative]\n",
    "random.shuffle(labelled)\n",
    "X = np.asarray([model[w] for w, l in labelled])\n",
    "y = np.asarray([l for w, l in labelled])\n",
    "X.shape, y.shape"
   ]
  },
  {
   "cell_type": "code",
   "execution_count": 32,
   "metadata": {},
   "outputs": [
    {
     "data": {
      "text/plain": [
       "SVC(C=1.0, cache_size=200, class_weight=None, coef0=0.0,\n",
       "  decision_function_shape='ovr', degree=3, gamma='auto', kernel='linear',\n",
       "  max_iter=-1, probability=False, random_state=None, shrinking=True,\n",
       "  tol=0.001, verbose=False)"
      ]
     },
     "execution_count": 32,
     "metadata": {},
     "output_type": "execute_result"
    }
   ],
   "source": [
    "TRAINING_FRACTION = 0.3\n",
    "cut_off = int(TRAINING_FRACTION * len(labelled))\n",
    "clf = svm.SVC(kernel='linear')\n",
    "clf.fit(X[:cut_off], y[:cut_off]) "
   ]
  },
  {
   "cell_type": "code",
   "execution_count": 34,
   "metadata": {},
   "outputs": [
    {
     "data": {
      "text/plain": [
       "(99.85827664399093,\n",
       " [('Afghanistan', 1),\n",
       "  ('Turkmenistan', 1),\n",
       "  ('Gaza_Strip', 1),\n",
       "  ('North_Korea', 1),\n",
       "  ('Swaziland', 0)])"
      ]
     },
     "execution_count": 34,
     "metadata": {},
     "output_type": "execute_result"
    }
   ],
   "source": [
    "res = clf.predict(X[cut_off:])\n",
    "missed = [country for (pred, truth, country) in \n",
    " zip(res, y[cut_off:], labelled[cut_off:]) if pred != truth]\n",
    "\n",
    "100 - 100 * float(len(missed)) / len(res), missed"
   ]
  },
  {
   "cell_type": "code",
   "execution_count": 35,
   "metadata": {},
   "outputs": [
    {
     "data": {
      "text/plain": [
       "['Algeria',\n",
       " 'Argentina',\n",
       " 'Cuba',\n",
       " 'Angola',\n",
       " 'Finland',\n",
       " 'Armenia',\n",
       " 'Czech_Republic',\n",
       " 'Taiwan',\n",
       " 'Romania',\n",
       " 'Chile']"
      ]
     },
     "execution_count": 35,
     "metadata": {},
     "output_type": "execute_result"
    }
   ],
   "source": [
    "all_predictions = clf.predict(model.syn0)\n",
    "res = []\n",
    "for word, pred in zip(model.index2word, all_predictions):\n",
    "    if pred:\n",
    "        res.append(word)\n",
    "        if len(res) == 150:\n",
    "            break\n",
    "random.sample(res, 10)"
   ]
  },
  {
   "cell_type": "code",
   "execution_count": 37,
   "metadata": {},
   "outputs": [
    {
     "data": {
      "text/plain": [
       "(184, 300)"
      ]
     },
     "execution_count": 37,
     "metadata": {},
     "output_type": "execute_result"
    }
   ],
   "source": [
    "country_to_idx = {country['name']: idx for idx, country in enumerate(countries)}\n",
    "country_vecs = np.asarray([model[c['name']] for c in countries])\n",
    "country_vecs.shape"
   ]
  },
  {
   "cell_type": "code",
   "execution_count": 38,
   "metadata": {},
   "outputs": [
    {
     "name": "stdout",
     "output_type": "stream",
     "text": [
      "Canada 7.544024\n",
      "New_Zealand 3.9619699\n",
      "Finland 3.9392405\n",
      "Puerto_Rico 3.838145\n",
      "Jamaica 3.8102937\n",
      "Sweden 3.8042789\n",
      "Slovakia 3.7038739\n",
      "Australia 3.671101\n",
      "Bahamas 3.6240416\n",
      "United_States 3.537434\n"
     ]
    }
   ],
   "source": [
    "dists = np.dot(country_vecs, country_vecs[country_to_idx['Canada']])\n",
    "for idx in reversed(np.argsort(dists)[-10:]):\n",
    "    print(countries[idx]['name'], dists[idx])"
   ]
  },
  {
   "cell_type": "code",
   "execution_count": 39,
   "metadata": {},
   "outputs": [
    {
     "data": {
      "text/plain": [
       "[('Sri_Lanka', 5.92276668548584),\n",
       " ('Zimbabwe', 5.336524963378906),\n",
       " ('Bangladesh', 5.192488670349121),\n",
       " ('Pakistan', 4.948408126831055),\n",
       " ('Guyana', 3.9162840843200684),\n",
       " ('Barbados', 3.757995128631592),\n",
       " ('India', 3.7504398822784424),\n",
       " ('South_Africa', 3.6561501026153564),\n",
       " ('New_Zealand', 3.64202880859375),\n",
       " ('Fiji', 3.608567714691162)]"
      ]
     },
     "execution_count": 39,
     "metadata": {},
     "output_type": "execute_result"
    }
   ],
   "source": [
    "def rank_countries(term, topn=10, field='name'):\n",
    "    if not term in model:\n",
    "        return []\n",
    "    vec = model[term]\n",
    "    dists = np.dot(country_vecs, vec)\n",
    "    return [(countries[idx][field], float(dists[idx])) \n",
    "            for idx in reversed(np.argsort(dists)[-topn:])]\n",
    "rank_countries('cricket')"
   ]
  },
  {
   "cell_type": "code",
   "execution_count": 40,
   "metadata": {},
   "outputs": [
    {
     "data": {
      "text/html": [
       "<div>\n",
       "<style scoped>\n",
       "    .dataframe tbody tr th:only-of-type {\n",
       "        vertical-align: middle;\n",
       "    }\n",
       "\n",
       "    .dataframe tbody tr th {\n",
       "        vertical-align: top;\n",
       "    }\n",
       "\n",
       "    .dataframe thead th {\n",
       "        text-align: right;\n",
       "    }\n",
       "</style>\n",
       "<table border=\"1\" class=\"dataframe\">\n",
       "  <thead>\n",
       "    <tr style=\"text-align: right;\">\n",
       "      <th></th>\n",
       "      <th>pop_est</th>\n",
       "      <th>continent</th>\n",
       "      <th>name</th>\n",
       "      <th>iso_a3</th>\n",
       "      <th>gdp_md_est</th>\n",
       "      <th>geometry</th>\n",
       "    </tr>\n",
       "  </thead>\n",
       "  <tbody>\n",
       "    <tr>\n",
       "      <th>0</th>\n",
       "      <td>28400000.0</td>\n",
       "      <td>Asia</td>\n",
       "      <td>Afghanistan</td>\n",
       "      <td>AFG</td>\n",
       "      <td>22270.0</td>\n",
       "      <td>POLYGON ((61.21081709172574 35.65007233330923,...</td>\n",
       "    </tr>\n",
       "    <tr>\n",
       "      <th>1</th>\n",
       "      <td>12799293.0</td>\n",
       "      <td>Africa</td>\n",
       "      <td>Angola</td>\n",
       "      <td>AGO</td>\n",
       "      <td>110300.0</td>\n",
       "      <td>(POLYGON ((16.32652835456705 -5.87747039146621...</td>\n",
       "    </tr>\n",
       "    <tr>\n",
       "      <th>2</th>\n",
       "      <td>3639453.0</td>\n",
       "      <td>Europe</td>\n",
       "      <td>Albania</td>\n",
       "      <td>ALB</td>\n",
       "      <td>21810.0</td>\n",
       "      <td>POLYGON ((20.59024743010491 41.85540416113361,...</td>\n",
       "    </tr>\n",
       "    <tr>\n",
       "      <th>3</th>\n",
       "      <td>4798491.0</td>\n",
       "      <td>Asia</td>\n",
       "      <td>United Arab Emirates</td>\n",
       "      <td>ARE</td>\n",
       "      <td>184300.0</td>\n",
       "      <td>POLYGON ((51.57951867046327 24.24549713795111,...</td>\n",
       "    </tr>\n",
       "    <tr>\n",
       "      <th>4</th>\n",
       "      <td>40913584.0</td>\n",
       "      <td>South America</td>\n",
       "      <td>Argentina</td>\n",
       "      <td>ARG</td>\n",
       "      <td>573900.0</td>\n",
       "      <td>(POLYGON ((-65.50000000000003 -55.199999999999...</td>\n",
       "    </tr>\n",
       "  </tbody>\n",
       "</table>\n",
       "</div>"
      ],
      "text/plain": [
       "      pop_est      continent                  name iso_a3  gdp_md_est  \\\n",
       "0  28400000.0           Asia           Afghanistan    AFG     22270.0   \n",
       "1  12799293.0         Africa                Angola    AGO    110300.0   \n",
       "2   3639453.0         Europe               Albania    ALB     21810.0   \n",
       "3   4798491.0           Asia  United Arab Emirates    ARE    184300.0   \n",
       "4  40913584.0  South America             Argentina    ARG    573900.0   \n",
       "\n",
       "                                            geometry  \n",
       "0  POLYGON ((61.21081709172574 35.65007233330923,...  \n",
       "1  (POLYGON ((16.32652835456705 -5.87747039146621...  \n",
       "2  POLYGON ((20.59024743010491 41.85540416113361,...  \n",
       "3  POLYGON ((51.57951867046327 24.24549713795111,...  \n",
       "4  (POLYGON ((-65.50000000000003 -55.199999999999...  "
      ]
     },
     "execution_count": 40,
     "metadata": {},
     "output_type": "execute_result"
    }
   ],
   "source": [
    "world = gpd.read_file(gpd.datasets.get_path('naturalearth_lowres'))\n",
    "world.head()"
   ]
  },
  {
   "cell_type": "code",
   "execution_count": 41,
   "metadata": {},
   "outputs": [
    {
     "data": {
      "image/png": "[encoded data removed]",
      "text/plain": [
       "<Figure size 720x720 with 1 Axes>"
      ]
     },
     "metadata": {
      "needs_background": "light"
     },
     "output_type": "display_data"
    }
   ],
   "source": [
    "def map_term(term):\n",
    "    d = {k.upper(): v for k, v in rank_countries(term, topn=0, field='cc3')}\n",
    "    world[term] = world['iso_a3'].map(d)\n",
    "    world[term] /= world[term].max()\n",
    "    world.dropna().plot(term, cmap='OrRd')\n",
    "\n",
    "map_term('coffee')"
   ]
  },
  {
   "cell_type": "code",
   "execution_count": 42,
   "metadata": {},
   "outputs": [
    {
     "data": {
      "image/png": "[encoded data removed]",
      "text/plain": [
       "<Figure size 720x720 with 1 Axes>"
      ]
     },
     "metadata": {
      "needs_background": "light"
     },
     "output_type": "display_data"
    }
   ],
   "source": [
    "map_term('China')"
   ]
  },
  {
   "cell_type": "markdown",
   "metadata": {},
   "source": [
    "# 推荐系统"
   ]
  },
  {
   "cell_type": "code",
   "execution_count": 43,
   "metadata": {},
   "outputs": [],
   "source": [
    "import requests\n",
    "from bs4 import BeautifulSoup\n",
    "import os\n",
    "import time\n",
    "from keras.utils import get_file\n",
    "try:\n",
    "    from urllib.request import urlretrieve\n",
    "except ImportError:\n",
    "    from urllib import urlretrieve\n",
    "import xml.sax\n",
    "\n",
    "import subprocess\n",
    "import mwparserfromhell\n",
    "import json"
   ]
  },
  {
   "cell_type": "code",
   "execution_count": 44,
   "metadata": {},
   "outputs": [
    {
     "data": {
      "text/plain": [
       "['20180920/',\n",
       " '20181001/',\n",
       " '20181020/',\n",
       " '20181101/',\n",
       " '20181120/',\n",
       " '20181201/',\n",
       " '20181220/']"
      ]
     },
     "execution_count": 44,
     "metadata": {},
     "output_type": "execute_result"
    }
   ],
   "source": [
    "index = requests.get('https://dumps.wikimedia.org/enwiki/').text\n",
    "soup_index = BeautifulSoup(index, 'html.parser')\n",
    "dumps = [a['href'] for a in soup_index.find_all('a') \n",
    "             if a.has_attr('href') and a.text[:-1].isdigit()]\n",
    "dumps"
   ]
  },
  {
   "cell_type": "code",
   "execution_count": 45,
   "metadata": {},
   "outputs": [
    {
     "name": "stdout",
     "output_type": "stream",
     "text": [
      "20181220/\n"
     ]
    }
   ],
   "source": [
    "for dump_url in sorted(dumps, reverse=True):\n",
    "    print(dump_url)\n",
    "    dump_html = index = requests.get('https://dumps.wikimedia.org/enwiki/' + dump_url).text\n",
    "    soup_dump = BeautifulSoup(dump_html, 'html.parser')\n",
    "    pages_xml = [a['href'] for a in soup_dump.find_all('a') \n",
    "                 if a.has_attr('href') and a['href'].endswith('-pages-articles.xml.bz2')]\n",
    "    if pages_xml:\n",
    "        break\n",
    "    time.sleep(0.8)"
   ]
  },
  {
   "cell_type": "code",
   "execution_count": null,
   "metadata": {},
   "outputs": [],
   "source": [
    "wikipedia_dump = pages_xml[0].rsplit('/')[-1]\n",
    "url = url = 'https://dumps.wikimedia.org/' + pages_xml[0] \n",
    "path = get_file(wikipedia_dump, url)\n",
    "path"
   ]
  },
  {
   "cell_type": "code",
   "execution_count": 47,
   "metadata": {},
   "outputs": [],
   "source": [
    "def process_article(title, text):\n",
    "    rotten = [(re.findall('\\d\\d?\\d?%', p), re.findall('\\d\\.\\d\\/\\d+|$', p), \n",
    "               p.lower().find('rotten tomatoes')) for p in text.split('\\n\\n')]\n",
    "    rating = next(((perc[0], rating[0]) for perc, rating, idx in rotten \n",
    "                   if len(perc) == 1 and idx > -1), (None, None))\n",
    "    wikicode = mwparserfromhell.parse(text)\n",
    "    film = next((template for template in wikicode.filter_templates() \n",
    "                 if template.name.strip().lower() == 'infobox film'), None)\n",
    "    if film:\n",
    "        properties = {param.name.strip_code().strip(): param.value.strip_code().strip() \n",
    "                      for param in film.params\n",
    "                      if param.value.strip_code().strip()\n",
    "                     }\n",
    "        links = [x.title.strip_code().strip() for x in wikicode.filter_wikilinks()]\n",
    "        return (title, properties, links) + rating"
   ]
  },
  {
   "cell_type": "code",
   "execution_count": 48,
   "metadata": {},
   "outputs": [],
   "source": [
    "class WikiXmlHandler(xml.sax.handler.ContentHandler):\n",
    "    def __init__(self):\n",
    "        xml.sax.handler.ContentHandler.__init__(self)\n",
    "        self._buffer = None\n",
    "        self._values = {}\n",
    "        self._movies = []\n",
    "        self._curent_tag = None\n",
    "\n",
    "    def characters(self, content):\n",
    "        if self._curent_tag:\n",
    "            self._buffer.append(content)\n",
    "\n",
    "    def startElement(self, name, attrs):\n",
    "        if name in ('title', 'text'):\n",
    "            self._curent_tag = name\n",
    "            self._buffer = []\n",
    "\n",
    "    def endElement(self, name):\n",
    "        if name == self._curent_tag:\n",
    "            self._values[name] = ' '.join(self._buffer)\n",
    "\n",
    "        if name == 'page':\n",
    "            movie = process_article(**self._values)\n",
    "            if movie:\n",
    "                self._movies.append(movie)"
   ]
  },
  {
   "cell_type": "code",
   "execution_count": 49,
   "metadata": {},
   "outputs": [],
   "source": [
    "parser = xml.sax.make_parser()\n",
    "handler = WikiXmlHandler()\n",
    "parser.setContentHandler(handler)\n",
    "for line in subprocess.Popen(['bzcat'], stdin=open(path), stdout=subprocess.PIPE).stdout:\n",
    "    try:\n",
    "        parser.feed(line)\n",
    "    except StopIteration:\n",
    "        break"
   ]
  },
  {
   "cell_type": "code",
   "execution_count": 51,
   "metadata": {},
   "outputs": [],
   "source": [
    "with open('generated/wp_movies.ndjson', 'wt') as fout:\n",
    "    for movie in handler._movies:\n",
    "         fout.write(json.dumps(movie) + '\\n')"
   ]
  },
  {
   "cell_type": "markdown",
   "metadata": {},
   "source": [
    "## 训练"
   ]
  },
  {
   "cell_type": "code",
   "execution_count": 1,
   "metadata": {},
   "outputs": [
    {
     "name": "stderr",
     "output_type": "stream",
     "text": [
      "Using TensorFlow backend.\n"
     ]
    }
   ],
   "source": [
    "import json\n",
    "from collections import Counter\n",
    "from keras.models import Model\n",
    "from keras.layers import Embedding, Input, Reshape\n",
    "from keras.layers.merge import Dot\n",
    "from sklearn.linear_model import LinearRegression\n",
    "import numpy as np\n",
    "import random\n",
    "from sklearn import svm"
   ]
  },
  {
   "cell_type": "code",
   "execution_count": 2,
   "metadata": {},
   "outputs": [
    {
     "data": {
      "text/plain": [
       "[('Rotten Tomatoes', 9393),\n",
       " ('Category:English-language films', 5882),\n",
       " ('Category:American films', 5867),\n",
       " ('Variety (magazine)', 5450),\n",
       " ('Metacritic', 5112),\n",
       " ('Box Office Mojo', 4186),\n",
       " ('The New York Times', 3818),\n",
       " ('The Hollywood Reporter', 3553),\n",
       " ('Roger Ebert', 2707),\n",
       " ('Los Angeles Times', 2454)]"
      ]
     },
     "execution_count": 2,
     "metadata": {},
     "output_type": "execute_result"
    }
   ],
   "source": [
    "with open('./data/wp_movies_10k.ndjson') as fin:\n",
    "    movies = [json.loads(l) for l in fin]\n",
    "link_counts = Counter()\n",
    "for movie in movies:\n",
    "    link_counts.update(movie[2])\n",
    "link_counts.most_common(10)"
   ]
  },
  {
   "cell_type": "code",
   "execution_count": 3,
   "metadata": {},
   "outputs": [
    {
     "data": {
      "text/plain": [
       "(949544, 66913, 10000)"
      ]
     },
     "execution_count": 3,
     "metadata": {},
     "output_type": "execute_result"
    }
   ],
   "source": [
    "top_links = [link for link, c in link_counts.items() if c >= 3]\n",
    "link_to_idx = {link: idx for idx, link in enumerate(top_links)}\n",
    "movie_to_idx = {movie[0]: idx for idx, movie in enumerate(movies)}\n",
    "pairs = []\n",
    "for movie in movies:\n",
    "    pairs.extend((link_to_idx[link], movie_to_idx[movie[0]]) \n",
    "                 for link in movie[2] if link in link_to_idx)\n",
    "pairs_set = set(pairs)\n",
    "len(pairs), len(top_links), len(movie_to_idx)"
   ]
  },
  {
   "cell_type": "code",
   "execution_count": 4,
   "metadata": {},
   "outputs": [
    {
     "name": "stdout",
     "output_type": "stream",
     "text": [
      "__________________________________________________________________________________________________\n",
      "Layer (type)                    Output Shape         Param #     Connected to                     \n",
      "==================================================================================================\n",
      "link (InputLayer)               (None, 1)            0                                            \n",
      "__________________________________________________________________________________________________\n",
      "movie (InputLayer)              (None, 1)            0                                            \n",
      "__________________________________________________________________________________________________\n",
      "link_embedding (Embedding)      (None, 1, 50)        3345650     link[0][0]                       \n",
      "__________________________________________________________________________________________________\n",
      "movie_embedding (Embedding)     (None, 1, 50)        500000      movie[0][0]                      \n",
      "__________________________________________________________________________________________________\n",
      "dot_product (Dot)               (None, 1, 1)         0           link_embedding[0][0]             \n",
      "                                                                 movie_embedding[0][0]            \n",
      "__________________________________________________________________________________________________\n",
      "reshape_1 (Reshape)             (None, 1)            0           dot_product[0][0]                \n",
      "==================================================================================================\n",
      "Total params: 3,845,650\n",
      "Trainable params: 3,845,650\n",
      "Non-trainable params: 0\n",
      "__________________________________________________________________________________________________\n"
     ]
    }
   ],
   "source": [
    "def movie_embedding_model(embedding_size=50):\n",
    "    link = Input(name='link', shape=(1,))\n",
    "    movie = Input(name='movie', shape=(1,))\n",
    "    link_embedding = Embedding(name='link_embedding', \n",
    "                               input_dim=len(top_links), \n",
    "                               output_dim=embedding_size)(link)\n",
    "    movie_embedding = Embedding(name='movie_embedding', \n",
    "                                input_dim=len(movie_to_idx), \n",
    "                                output_dim=embedding_size)(movie)\n",
    "    dot = Dot(name='dot_product', normalize=True, axes=2)([link_embedding, \n",
    "                                                           movie_embedding])\n",
    "    merged = Reshape((1,))(dot)\n",
    "    model = Model(inputs=[link, movie], outputs=[merged])\n",
    "    model.compile(optimizer='nadam', loss='mse')\n",
    "    return model\n",
    "\n",
    "model = movie_embedding_model()\n",
    "model.summary()"
   ]
  },
  {
   "cell_type": "code",
   "execution_count": 5,
   "metadata": {},
   "outputs": [
    {
     "data": {
      "text/plain": [
       "({'link': array([ 20558.,   3801.,  31254.,  48731.,  13365.,   1313.,  32318.,\n",
       "          22418.,  32643.]),\n",
       "  'movie': array([  849.,  5874.,  5530.,  1854.,  6238.,  7236.,  7685.,  1529.,\n",
       "          7628.])},\n",
       " array([-1., -1.,  1., -1., -1.,  1., -1.,  1., -1.]))"
      ]
     },
     "execution_count": 5,
     "metadata": {},
     "output_type": "execute_result"
    }
   ],
   "source": [
    "random.seed(5)\n",
    "\n",
    "def batchifier(pairs, positive_samples=50, negative_ratio=10):\n",
    "    batch_size = positive_samples * (1 + negative_ratio)\n",
    "    batch = np.zeros((batch_size, 3))\n",
    "    while True:\n",
    "        for idx, (link_id, movie_id) in enumerate(random.sample(pairs, positive_samples)):\n",
    "            batch[idx, :] = (link_id, movie_id, 1)\n",
    "        idx = positive_samples\n",
    "        while idx < batch_size:\n",
    "            movie_id = random.randrange(len(movie_to_idx))\n",
    "            link_id = random.randrange(len(top_links))\n",
    "            if not (link_id, movie_id) in pairs_set:\n",
    "                batch[idx, :] = (link_id, movie_id, -1)\n",
    "                idx += 1\n",
    "        np.random.shuffle(batch)\n",
    "        yield {'link': batch[:, 0], 'movie': batch[:, 1]}, batch[:, 2]\n",
    "\n",
    "next(batchifier(pairs, positive_samples=3, negative_ratio=2))"
   ]
  },
  {
   "cell_type": "code",
   "execution_count": 6,
   "metadata": {},
   "outputs": [
    {
     "name": "stdout",
     "output_type": "stream",
     "text": [
      "Epoch 1/15\n",
      " - 51s - loss: 0.3801\n",
      "Epoch 2/15\n",
      " - 45s - loss: 0.2316\n",
      "Epoch 3/15\n",
      " - 45s - loss: 0.2265\n",
      "Epoch 4/15\n",
      " - 44s - loss: 0.2234\n",
      "Epoch 5/15\n",
      " - 44s - loss: 0.2222\n",
      "Epoch 6/15\n",
      " - 44s - loss: 0.2209\n",
      "Epoch 7/15\n",
      " - 44s - loss: 0.2203\n",
      "Epoch 8/15\n",
      " - 44s - loss: 0.2199\n",
      "Epoch 9/15\n",
      " - 44s - loss: 0.2191\n",
      "Epoch 10/15\n",
      " - 44s - loss: 0.2187\n",
      "Epoch 11/15\n",
      " - 45s - loss: 0.2185\n",
      "Epoch 12/15\n",
      " - 45s - loss: 0.2192\n",
      "Epoch 13/15\n",
      " - 44s - loss: 0.2180\n",
      "Epoch 14/15\n",
      " - 44s - loss: 0.2177\n",
      "Epoch 15/15\n",
      " - 44s - loss: 0.2171\n"
     ]
    },
    {
     "data": {
      "text/plain": [
       "<keras.callbacks.History at 0x7fb7f022db70>"
      ]
     },
     "execution_count": 6,
     "metadata": {},
     "output_type": "execute_result"
    }
   ],
   "source": [
    "positive_samples_per_batch = 512\n",
    "\n",
    "model.fit_generator(\n",
    "    batchifier(pairs, positive_samples=positive_samples_per_batch, negative_ratio=10),\n",
    "    epochs=15,\n",
    "    steps_per_epoch=len(pairs) // positive_samples_per_batch,\n",
    "    verbose=2\n",
    ")"
   ]
  },
  {
   "cell_type": "code",
   "execution_count": 7,
   "metadata": {},
   "outputs": [
    {
     "name": "stdout",
     "output_type": "stream",
     "text": [
      "29 Rogue One 1.0\n",
      "19 Interstellar (film) 0.977467\n",
      "659 Rise of the Planet of the Apes 0.970486\n",
      "25 Star Wars sequel trilogy 0.970399\n",
      "245 Gravity (film) 0.964282\n",
      "3349 Star Wars: The Force Awakens 0.961698\n",
      "140 Star Trek Into Darkness 0.959964\n",
      "37 Avatar (2009 film) 0.959537\n",
      "181 Pacific Rim (film) 0.956615\n",
      "86 Tomorrowland (film) 0.955779\n"
     ]
    }
   ],
   "source": [
    "movie = model.get_layer('movie_embedding')\n",
    "movie_weights = movie.get_weights()[0]\n",
    "movie_lengths = np.linalg.norm(movie_weights, axis=1)\n",
    "normalized_movies = (movie_weights.T / movie_lengths).T\n",
    "\n",
    "def similar_movies(movie):\n",
    "    dists = np.dot(normalized_movies, normalized_movies[movie_to_idx[movie]])\n",
    "    closest = np.argsort(dists)[-10:]\n",
    "    for c in reversed(closest):\n",
    "        print(c, movies[c][0], dists[c])\n",
    "\n",
    "similar_movies('Rogue One')"
   ]
  },
  {
   "cell_type": "code",
   "execution_count": 8,
   "metadata": {},
   "outputs": [
    {
     "name": "stdout",
     "output_type": "stream",
     "text": [
      "127 George Lucas 1.0\n",
      "2707 Star Wars 0.941141\n",
      "3176 Star Wars (film) 0.940928\n",
      "976 Hugo Award for Best Dramatic Presentation 0.931068\n",
      "4830 widescreen 0.911054\n",
      "4051 novelization 0.901116\n",
      "2931 LaserDisc 0.899423\n",
      "2778 Lucasfilm 0.896705\n",
      "2983 Hugo Award 0.892938\n",
      "2984 Saturn Award for Best Science Fiction Film 0.889028\n"
     ]
    }
   ],
   "source": [
    "link = model.get_layer('link_embedding')\n",
    "link_weights = link.get_weights()[0]\n",
    "link_lengths = np.linalg.norm(link_weights, axis=1)\n",
    "normalized_links = (link_weights.T / link_lengths).T\n",
    "\n",
    "def similar_links(link):\n",
    "    dists = np.dot(normalized_links, normalized_links[link_to_idx[link]])\n",
    "    closest = np.argsort(dists)[-10:]\n",
    "    for c in reversed(closest):\n",
    "        print(c, top_links[c], dists[c])\n",
    "\n",
    "similar_links('George Lucas')"
   ]
  },
  {
   "cell_type": "code",
   "execution_count": 9,
   "metadata": {},
   "outputs": [
    {
     "data": {
      "text/plain": [
       "(16, 50)"
      ]
     },
     "execution_count": 9,
     "metadata": {},
     "output_type": "execute_result"
    }
   ],
   "source": [
    "best = ['Star Wars: The Force Awakens', 'The Martian (film)', 'Tangerine (film)', \n",
    "        'Straight Outta Compton (film)',\n",
    "        'Brooklyn (film)', 'Carol (film)', 'Spotlight (film)']\n",
    "worst = ['American Ultra', 'The Cobbler (2014 film)', 'Entourage (film)', 'Fantastic Four (2015 film)',\n",
    "         'Get Hard', 'Hot Pursuit (2015 film)', 'Mortdecai (film)', 'Serena (2014 film)', \n",
    "         'Vacation (2015 film)']\n",
    "y = np.asarray([1 for _ in best] + [0 for _ in worst])\n",
    "X = np.asarray([normalized_movies[movie_to_idx[movie]] for movie in best + worst])\n",
    "X.shape"
   ]
  },
  {
   "cell_type": "code",
   "execution_count": 10,
   "metadata": {},
   "outputs": [
    {
     "name": "stdout",
     "output_type": "stream",
     "text": [
      "best:\n",
      "481 The Devil Wears Prada (film) 1.36248850481\n",
      "66 Skyfall 1.28788892823\n",
      "307 Les Misérables (2012 film) 1.15079429435\n",
      "458 Hugo (film) 1.1358537917\n",
      "3 Spectre (2015 film) 1.07848602044\n",
      "worst:\n",
      "1782 Scooby-Doo! WrestleMania Mystery -1.65814160594\n",
      "5097 Ready to Rumble -1.60859557439\n",
      "8559 Air Buddies -1.59409348448\n",
      "1878 The Little Rascals (film) -1.57383561559\n",
      "6388 Bring It On Again -1.56594074119\n"
     ]
    }
   ],
   "source": [
    "clf = svm.SVC(kernel='linear')\n",
    "clf.fit(X, y) \n",
    "\n",
    "estimated_movie_ratings = clf.decision_function(normalized_movies)\n",
    "best = np.argsort(estimated_movie_ratings)\n",
    "print('best:')\n",
    "for c in reversed(best[-5:]):\n",
    "    print(c, movies[c][0], estimated_movie_ratings[c])\n",
    "\n",
    "print('worst:')\n",
    "for c in best[:5]:\n",
    "    print(c, movies[c][0], estimated_movie_ratings[c])\n"
   ]
  },
  {
   "cell_type": "markdown",
   "metadata": {},
   "source": [
    "## 烂番茄"
   ]
  },
  {
   "cell_type": "code",
   "execution_count": 11,
   "metadata": {},
   "outputs": [
    {
     "data": {
      "text/plain": [
       "'mean square error 0.06'"
      ]
     },
     "execution_count": 11,
     "metadata": {},
     "output_type": "execute_result"
    }
   ],
   "source": [
    "rotten_y = np.asarray([float(movie[-2][:-1]) / 100 for movie in movies if movie[-2]])\n",
    "rotten_X = np.asarray([normalized_movies[movie_to_idx[movie[0]]] for movie in movies if movie[-2]])\n",
    "\n",
    "TRAINING_CUT_OFF = int(len(rotten_X) * 0.8)\n",
    "regr = LinearRegression()\n",
    "regr.fit(rotten_X[:TRAINING_CUT_OFF], rotten_y[:TRAINING_CUT_OFF])\n",
    "\n",
    "\n",
    "error = (regr.predict(rotten_X[TRAINING_CUT_OFF:]) - rotten_y[TRAINING_CUT_OFF:])\n",
    "'mean square error %2.2f' % np.mean(error ** 2)"
   ]
  },
  {
   "cell_type": "code",
   "execution_count": 12,
   "metadata": {},
   "outputs": [
    {
     "data": {
      "text/plain": [
       "'mean square error 0.09'"
      ]
     },
     "execution_count": 12,
     "metadata": {},
     "output_type": "execute_result"
    }
   ],
   "source": [
    "error = (np.mean(rotten_y[:TRAINING_CUT_OFF]) - rotten_y[TRAINING_CUT_OFF:])\n",
    "'mean square error %2.2f' % np.mean(error ** 2)"
   ]
  },
  {
   "cell_type": "code",
   "execution_count": 13,
   "metadata": {},
   "outputs": [
    {
     "name": "stdout",
     "output_type": "stream",
     "text": [
      "6 The Martian (film) 10900.0\n",
      "7 List of Marvel Cinematic Universe films 4300.0\n",
      "49 Back to the Future 3900.0\n",
      "71 The Conjuring 2932.0\n",
      "162 Thor (film) 2464.0\n",
      "36 Furious 7 2340.0\n",
      "30 Finding Dory 2187.0\n",
      "1906 Jane Eyre (2011 film) 2068.0\n",
      "19 Interstellar (film) 1670.0\n",
      "2251 An American Werewolf in London 1655.0\n"
     ]
    }
   ],
   "source": [
    "def gross(movie):\n",
    "    v = movie[1].get('gross')\n",
    "    if not v or not ' ' in v:\n",
    "        return None\n",
    "    v, unit = v.split(' ', 1)\n",
    "    unit = unit.lower()\n",
    "    if not unit in ('million', 'billion'):\n",
    "        return None\n",
    "    if not v.startswith('$'):\n",
    "        return None\n",
    "    try:\n",
    "        v = float(v[1:])\n",
    "    except ValueError:\n",
    "        return None\n",
    "    if unit == 'billion':\n",
    "        v *= 1000\n",
    "    return v\n",
    "\n",
    "movie_gross = [gross(m) for m in movies]\n",
    "movie_gross = np.asarray([gr for gr in movie_gross if gr is not None])\n",
    "highest = np.argsort(movie_gross)[-10:]\n",
    "for c in reversed(highest):\n",
    "    print(c, movies[c][0], movie_gross[c])"
   ]
  },
  {
   "cell_type": "code",
   "execution_count": 14,
   "metadata": {},
   "outputs": [
    {
     "data": {
      "text/plain": [
       "LinearRegression(copy_X=True, fit_intercept=True, n_jobs=1, normalize=False)"
      ]
     },
     "execution_count": 14,
     "metadata": {},
     "output_type": "execute_result"
    }
   ],
   "source": [
    "gross_y = np.asarray([gr for gr in movie_gross if gr])\n",
    "gross_X = np.asarray([normalized_movies[movie_to_idx[movie[0]]] \n",
    "                      for movie, gr in zip(movies, movie_gross) if gr])\n",
    "TRAINING_CUT_OFF = int(len(gross_X) * 0.8)\n",
    "regr = LinearRegression()\n",
    "regr.fit(gross_X[:TRAINING_CUT_OFF], gross_y[:TRAINING_CUT_OFF])"
   ]
  },
  {
   "cell_type": "code",
   "execution_count": 15,
   "metadata": {},
   "outputs": [
    {
     "data": {
      "text/plain": [
       "'mean square error 8547.27'"
      ]
     },
     "execution_count": 15,
     "metadata": {},
     "output_type": "execute_result"
    }
   ],
   "source": [
    "error = (regr.predict(gross_X[TRAINING_CUT_OFF:]) - gross_y[TRAINING_CUT_OFF:])\n",
    "'mean square error %2.2f' % np.mean(error ** 2)"
   ]
  },
  {
   "cell_type": "code",
   "execution_count": 16,
   "metadata": {},
   "outputs": [
    {
     "data": {
      "text/plain": [
       "'mean square error 14115.59'"
      ]
     },
     "execution_count": 16,
     "metadata": {},
     "output_type": "execute_result"
    }
   ],
   "source": [
    "error = (np.mean(gross_y[:TRAINING_CUT_OFF]) - gross_y[TRAINING_CUT_OFF:])\n",
    "'mean square error %2.2f' % np.mean(error ** 2)"
   ]
  },
  {
   "cell_type": "markdown",
   "metadata": {},
   "source": [
    "# 生成文本"
   ]
  },
  {
   "cell_type": "code",
   "execution_count": 4,
   "metadata": {},
   "outputs": [],
   "source": [
    "try:\n",
    "    GUTENBERG = True\n",
    "    from gutenberg.acquire import load_etext\n",
    "    from gutenberg.query import get_etexts, get_metadata\n",
    "    from gutenberg.acquire import get_metadata_cache\n",
    "    from gutenberg.acquire.text import UnknownDownloadUriException\n",
    "    from gutenberg.cleanup import strip_headers\n",
    "    from gutenberg._domain_model.exceptions import CacheAlreadyExistsException\n",
    "except ImportError:\n",
    "    GUTENBERG = False\n",
    "    print('Gutenberg is not installed. See instructions at https://pypi.python.org/pypi/Gutenberg')\n",
    "from keras.models import Input, Model\n",
    "from keras.layers import Dense, Dropout\n",
    "from keras.layers import LSTM\n",
    "from keras.layers.wrappers import TimeDistributed\n",
    "import keras.callbacks\n",
    "import keras.backend as K\n",
    "import scipy.misc\n",
    "import json\n",
    "\n",
    "import os, sys\n",
    "import re\n",
    "import PIL\n",
    "from PIL import ImageDraw\n",
    "\n",
    "from keras.optimizers import RMSprop\n",
    "import random\n",
    "import numpy as np\n",
    "import tensorflow as tf\n",
    "from keras.utils import get_file\n",
    "\n",
    "from IPython.display import clear_output, Image, display, HTML\n",
    "try:\n",
    "    from io import BytesIO\n",
    "except ImportError:\n",
    "    from StringIO import StringIO as BytesIO"
   ]
  },
  {
   "cell_type": "markdown",
   "metadata": {},
   "source": [
    "## 生成莎士比亚戏剧"
   ]
  },
  {
   "cell_type": "code",
   "execution_count": 5,
   "metadata": {},
   "outputs": [
    {
     "name": "stdout",
     "output_type": "stream",
     "text": [
      "1536 The Life of Timon of Athens\n",
      "1537 Pericles, Prince of Tyre\n",
      "1538 Cymbeline\n",
      "39939 Kuningas Henrik Viides\n",
      "1527 Twelfth Night; Or, What You Will\n",
      "1539 The Winter's Tale\n",
      "1540 The Tempest\n",
      "1541 The Life of Henry the Eighth\n",
      "1528 The History of Troilus and Cressida\n",
      "1543 A Lover's Complaint\n",
      "1544 The Passionate Pilgrim\n",
      "1545 The Passionate Pilgrim\n",
      "43532 Miten haluatte\n",
      "1529 All's Well That Ends Well\n",
      "1546 Sonnets on Sundry Notes of Music\n",
      "17930 Le songe d'une nuit d'été\n",
      "24036 Sonnet 130\n",
      "1041 Shakespeare's Sonnets\n",
      "7185 Othello\n",
      "7186 Was ihr wollt\n",
      "1530 Measure for Measure\n",
      "1045 Venus and Adonis\n",
      "16893 Macbeth\n",
      "1531 Othello, the Moor of Venice\n",
      "1124 The History of Troilus and Cressida\n",
      "1532 The Tragedy of King Lear\n",
      "32797 Οθέλλος\r\n",
      "Σαικσπείρου Τραγωδίαι Μέρος Β'\n",
      "22045 La festa dels reis\r\n",
      "Lo que vulgueu\n",
      "22556 Cymbeline\n",
      "44580 Loppu hyvä, kaikki hyvä\n",
      "1127 The Tragedy of Othello, Moor of Venice\n",
      "10281 Antony's Address over the Body of Caesar\r\n",
      "From Julius Caesar\n",
      "12842 A Fairy Tale in Two Acts Taken from Shakespeare (1763)\n",
      "13868 Macbeth\n",
      "1128 The Tragedy of King Lear\n",
      "32305 Σαικσπήρου Δράματα, Ο Βασιλιάς Ληρ\n",
      "31797 Αμλέτος\n",
      "1130 The Tragedy of Antony and Cleopatra\n",
      "27191 Sonnets\n",
      "Volume 8\n",
      "26169 La Tempesta\n",
      "44602 Turhaa lemmen touhua\n",
      "7225 Die Irrungen, oder die Doppelten Zwillinge\n",
      "27708 Loppiaisaatto eli Miten mielitte\n",
      "7226 Timon von Athen\n",
      "15418 Ang Sintang Dalisay ni Julieta at Romeo\n",
      "31808 Σαικσπείρου Τραγωδίαι : Μέρος Α'. Ρωμαίος και Ιουλιέτα\n",
      "7232 Romeo und Juliette\n",
      "7233 Maaß für Maaß\r\n",
      "Wie einer mißt, so wird ihm wieder gemessen\n",
      "25667 Hamlet: Drama em cinco Actos\n",
      "7236 Der Sturm, oder Die bezauberte Insel\n",
      "23041 The Works of William Shakespeare [Cambridge Edition] [Vol. 1 of 9]\r\n",
      "Introduction and Publisher's Advertising\n",
      "30790 Kuningas Richard Toinen\n",
      "15942 Antoine et Cléopâtre\n",
      "45128 The Works of William Shakespeare [Cambridge Edition] [Vol. 2 of 9]\n",
      "7240 Das Leben und der Tod des Königs Lear\n",
      "1100 The First Part of Henry the Sixth\n",
      "1101 The Second Part of King Henry the Sixth\n",
      "1102 The Third Part of King Henry the Sixth\n",
      "1103 King Richard III\n",
      "18512 Julius Caesar\n",
      "1104 The Comedy of Errors\n",
      "1105 The Sonnets\n",
      "1106 The Tragedy of Titus Andronicus\n",
      "1107 The Taming of the Shrew\n",
      "1108 The Two Gentlemen of Verona\n",
      "1109 Love's Labour's Lost\n",
      "1110 King John\n",
      "1111 King Richard the Second\n",
      "1112 The Tragedy of Romeo and Juliet\n",
      "1113 A Midsummer Night's Dream\n",
      "1114 The Merchant of Venice\n",
      "1115 The First Part of King Henry the Fourth\n",
      "1116 The Merry Wives of Windsor\n",
      "25694 Venus et Adonis\n",
      "1117 Second Part of King Henry IV\n",
      "7264 Ein St.-Johannis-Nachts-Traum\n",
      "1118 Much Ado about Nothing\n",
      "1119 The Life of King Henry the Fifth\n",
      "47715 The Works of William Shakespeare [Cambridge Edition] [Vol. 7 of 9]\n",
      "100 The Complete Works of William Shakespeare\n",
      "7269 Macbeth\n",
      "1120 The Tragedy of Julius Caesar\n",
      "1121 As You Like It\n",
      "1122 The Tragedy of Hamlet, Prince of Denmark\n",
      "1123 Twelfth Night; Or, What You Will\n",
      "16490 Kuningas Lear\n",
      "25707 Titus Andronicus\n",
      "7276 Hamlet, Prinz von Dännemark\n",
      "21100 Titus Andronicus\n",
      "1125 All's Well That Ends Well\n",
      "1126 Measure for Measure\n",
      "26224 King Lear\n",
      "27761 Hamlet, Prince of Denmark\n",
      "1129 The Tragedy of Macbeth\n",
      "25715 Henri IV (2e partie)\n",
      "1131 The Tragedy of Coriolanus\n",
      "1132 The Life of Timon of Athens\n",
      "1133 Cymbeline\n",
      "1134 The Winter's Tale\n",
      "1135 The Tempest\n",
      "17529 Othello\n",
      "1137 A Lover's Complaint\n",
      "7292 Leben und Tod des Königs Johann\n",
      "23676 Titus Andronicus\n",
      "44158 Hairauksia\n",
      "34434 Μάκβεθ\n",
      "26757 La mort de Lucrèce\n",
      "26758 La plainte d'une amante\n",
      "26759 La vie et la mort du roi Richard III\n",
      "39557 Kuningas Henrik Neljäs I\n",
      "40070 Kuningas Henrik Kuudes I\n",
      "26762 Henri V\n",
      "26763 Henri VI (1/3)\n",
      "26764 Henri VI (2/3)\n",
      "26765 Henri VI (3/3)\n",
      "26766 Henri VIII\n",
      "56454 Hamlet\n",
      "Drama en cinco actos\n",
      "23044 The Merry Wives of Windsor\n",
      "The Works of William Shakespeare [Cambridge Edition] [9 vols.]\n",
      "49297 The Works of William Shakespeare [Cambridge Edition] [Vol. 5 of 9]\n",
      "9875 Julius Caesar\n",
      "17046 Les alegres comares de Windsor\n",
      "7323 Leben und Tod Königs Richard des zweyten\n",
      "26268 Romeo and Juliet\n",
      "33961 Αντώνιος και Κλεοπάτρα\r\n",
      "Τραγωδία εις πράξεις 5\n",
      "23045 Measure for Measure\n",
      "The Works of William Shakespeare [Cambridge Edition] [9 vols.]\n",
      "31405 Η τρικυμία\n",
      "28334 The New Hudson Shakespeare: Julius Cæsar\n",
      "29359 De Koopman van Venetië: Drama in vijf bedrijven\n",
      "46768 Julius Cæsar\n",
      "40115 Kuningas Henrik Kuudes II\n",
      "15032 Hamlet\n",
      "2235 The Tempest\n",
      "2236 The Two Gentlemen of Verona\n",
      "2237 The Merry Wives of Windsor\n",
      "2238 Measure for Measure\n",
      "2239 The Comedy of Errors\n",
      "2240 Much Ado about Nothing\n",
      "2241 Love's Labour's Lost\n",
      "2242 A Midsummer Night's Dream\n",
      "2243 The Merchant of Venice\n",
      "2244 As You Like It\n",
      "2245 The Taming of the Shrew\n",
      "2246 All's Well That Ends Well\n",
      "2247 Twelfth Night\n",
      "2248 The Winter's Tale\n",
      "2249 King John\n",
      "2250 Richard II\n",
      "2251 Henry IV, Part 1\n",
      "18162 Comme il vous plaira\n",
      "2252 Henry IV, Part 2\n",
      "2253 Henry V\n",
      "2254 Henry VI, Part 1\n",
      "2255 Henry VI, Part 2\n",
      "2256 Henry VI, Part 3\n",
      "2257 Richard III\n",
      "2258 Henry VIII\n",
      "39636 Kuningas Henrik Neljäs II\n",
      "2259 Coriolanus\n",
      "2260 Titus Andronicus\n",
      "2261 Romeo and Juliet\n",
      "49880 Romeo en Julia\n",
      "2262 Timon of Athens\n",
      "2263 Julius Caesar\n",
      "2264 Macbeth\n",
      "20188 Coriolanus\n",
      "2265 Hamlet\n",
      "2266 King Lear\n",
      "15071 La Tempête\n",
      "18143 Roméo et Juliette\n",
      "Tragédie\n",
      "18144 Timon Ateenalainen\n",
      "2267 Othello\n",
      "2268 Antony and Cleopatra\n",
      "2269 Cymbeline\n",
      "1765 Henry VI, Part 1\n",
      "2270 Shakespeare's First Folio\n",
      "23043 Two Gentlemen of Verona\n",
      "The Works of William Shakespeare [Cambridge Edition] [9 vols.]\n",
      "1768 King Richard III\n",
      "1769 The Comedy of Errors\n",
      "16618 Antonius ja Cleopatra\n",
      "1771 Titus Andronicus\n",
      "1772 The Taming of the Shrew\n",
      "1773 Two Gentlemen of Verona\n",
      "40174 Kuningas Henrik Kuudes III\n",
      "1774 Love's Labour's Lost\n",
      "1775 King John\n",
      "1776 King Richard II\n",
      "1777 Romeo and Juliet\n",
      "25843 De Klucht der Vergissingen\n",
      "1778 A Midsummer Night's Dream\n",
      "1779 The Merchant of Venice\n",
      "1780 King Henry IV, Part 1\n",
      "1781 The Merry Wives of Windsor\n",
      "1782 King Henry IV, Part 2\n",
      "1783 Much Ado about Nothing\n",
      "1784 King Henry V\n",
      "1785 Julius Caesar\n",
      "1786 As You Like It\n",
      "7933 König Heinrich der vierte. Der Erste Theil\n",
      "7934 König Heinrich der vierte. Der Zweyte Theil, der seinen Tod, und die Crönung von Heinrich dem fünften enthält.\n",
      "1787 Hamlet\n",
      "16128 Le Jour des Rois\n",
      "1790 Troilus and Cressida\n",
      "48386 Veel Gemin, geen Gewin\n",
      "1791 All's Well That Ends Well\n",
      "1792 Measure for Measure\n",
      "1793 Othello\n",
      "1794 King Lear\n",
      "1795 Macbeth\n",
      "1796 Antony and Cleopatra\n",
      "1797 Coriolanus\n",
      "1798 Timon of Athens\n",
      "1799 Cymbeline\n",
      "6924 Richard III\n",
      "1800 The Winter's Tale\n",
      "1801 The Tempest\n",
      "1802 King Henry VIII\n",
      "15632 Hamlet\n",
      "19219 La méchante femme mise à la raison\n",
      "Comédie\n",
      "18169 Mesure pour mesure\n",
      "17686 Troilus ja Cressida\n",
      "44825 Verta verrasta\n",
      "44826 Iloiset Windsorin rouvat\n",
      "15643 Romeo ja Julia\n",
      "19227 Peines d'amour perdues\n",
      "Comédie\n",
      "19228 Périclès\n",
      "Tragédie\n",
      "21277 La vie et la mort du roi Richard II\n",
      "44831 Kesäyön unelma\n",
      "44832 Venetian kauppias\n",
      "12578 Shakespeare's play of the Merchant of Venice\r\n",
      "Arranged for Representation at the Princess's Theatre, with Historical and Explanatory Notes by Charles Kean, F.S.A.\n",
      "28965 Kuningas Juhana\n",
      "20773 Le marchand de Venise\n",
      "44839 Kaksi nuorta veronalaista\n",
      "44840 Talvinen tarina\n",
      "47913 Makbeto\n",
      "44845 Myrsky\n",
      "20720 Les joyeuses Bourgeoises de Windsor\n",
      "6975 Macbeth\n",
      "16710 Les Deux Gentilshommes de Vérone\n",
      "18179 Othello\n",
      "6990 Coriolanus\n",
      "22760 Henri IV (1re partie)\n",
      "6996 Romeo und Julia\n",
      "47960 Shakespeare's Tragedy of Romeo and Juliet\n",
      "19201 Cymbeline: Tragédie\n",
      "21856 Le roi Jean\n",
      "28526 Othello\n",
      "49007 The Works of William Shakespeare [Cambridge Edition] [Vol. 6 of 9]\n",
      "49008 The Works of William Shakespeare [Cambridge Edition] [Vol. 8 of 9]\n",
      "55662 Koning Jan\n",
      "7022 Ein Sommernachtstraum\n",
      "10606 The Tragedie of Hamlet, Prince of Denmark\n",
      "A Study with the Text of the Folio of 1623\n",
      "15846 Beaucoup de Bruit pour Rien\n",
      "9077 The Tragicall Historie of Hamlet, Prince of Denmarke\r\n",
      "The First ('Bad') Quarto\n",
      "15847 Jules César\n",
      "15848 La Comédie des Méprises\n",
      "42873 Kuningas Henrik Kahdeksas\n",
      "15849 Timon d'Athènes\n",
      "50559 The Works of William Shakespeare [Cambridge Edition] [Vol. 3 of 9]\n",
      "23935 Sonnet 23\n",
      "7041 Wie es Euch gefällt\n",
      "7043 Der Kaufmann von Venedig\n",
      "18311 Le conte d'hiver\n",
      "18312 Le roi Lear\n",
      "18313 Troïlus et Cressida\n",
      "27536 El Marxant de Venecia\n",
      "42898 Paljo melua tyhjästä\n",
      "31126 Een Midzomernachtdroom\n",
      "1430 Beautiful Stories from Shakespeare\n",
      "47518 Shakespeare's Comedy of The Tempest\n",
      "37279 Hamleto, Reĝido de Danujo\n",
      "8609 A Midsummer Night's Dream\n",
      "23970 Sonnets\n",
      "1136 King Henry the Eighth\n",
      "12719 Sonnet # 29\n",
      "12720 Sonnet #40\n",
      "12721 Sonnet #55\n",
      "12722 Sonnet #100\n",
      "12723 Sonnet #106\n",
      "12724 Sonnet #116\n",
      "50095 The Works of William Shakespeare [Cambridge Edition] [Vol. 4 of 9]\n",
      "27062 Romeo i Julia\n",
      "Tragedya w 5 Aktach\n",
      "22791 King Henry the Fifth\n",
      "Arranged for Representation at the Princess's Theatre\n",
      "51138 De Koopman van Venetië\n",
      "15303 Coriolan\n",
      "37835 Kuningas Richard Kolmas\n",
      "23046 The Comedy of Errors\n",
      "The Works of William Shakespeare [Cambridge Edition] [9 vols.]\n",
      "42966 Kuinka äkäpussi kesytetään\n",
      "53207 Dramas: El Mercader de Venecia, Macbeth, Romeo y Julieta, Otelo\n",
      "23042 The Tempest\n",
      "The Works of William Shakespeare [Cambridge Edition] [9 vols.]\n",
      "1500 King Henry VI, First Part\n",
      "1501 History of King Henry the Sixth, Second Part\n",
      "1502 The History of King Henry the Sixth, Third Part\n",
      "1503 The Tragedy of King Richard III\n",
      "1504 The Comedy of Errors\n",
      "1505 The Rape of Lucrece\n",
      "26594 Twee Edellieden van Verona\n",
      "1506 The Rape of Lucrece\n",
      "1507 The Tragedy of Titus Andronicus\n",
      "1508 The Taming of the Shrew\n",
      "1509 The Two Gentlemen of Verona\n",
      "1510 Love's Labour's Lost\n",
      "1511 King John\n",
      "1512 The Tragedy of King Richard the Second\n",
      "1513 Romeo and Juliet\n",
      "51691 De getemde feeks\n",
      "1514 A Midsummer Night's Dream\n",
      "1515 The Merchant of Venice\n",
      "1516 King Henry IV, the First Part\n",
      "1517 The Merry Wives of Windsor\n",
      "1518 King Henry IV, Second Part\n",
      "1519 Much Ado about Nothing\n",
      "1520 Much Ado about Nothing\n",
      "1521 The Life of King Henry V\n",
      "1522 Julius Caesar\n",
      "38901 Twelfth Night; or, What You Will\n",
      "28150 Le Pèlerin amoureux\n",
      "28151 Tout est bien qui finit bien\n",
      "1523 As You Like It\n",
      "1524 Hamlet, Prince of Denmark\n",
      "49146 The Shakespeare Story-Book\n",
      "1525 The Phoenix and the Turtle\n",
      "1526 Twelfth Night; Or, What You Will\n",
      "1533 Macbeth\n",
      "1534 Antony and Cleopatra\n",
      "1535 The Tragedy of Coriolanus\n"
     ]
    }
   ],
   "source": [
    "if GUTENBERG:\n",
    "    cache = get_metadata_cache()\n",
    "    try:\n",
    "        cache.populate()\n",
    "    except CacheAlreadyExistsException:\n",
    "        pass\n",
    "if GUTENBERG:\n",
    "    for text_id in get_etexts('author', 'Shakespeare, William'):\n",
    "        print(text_id, list(get_metadata('title', text_id))[0])"
   ]
  },
  {
   "cell_type": "code",
   "execution_count": 6,
   "metadata": {},
   "outputs": [
    {
     "data": {
      "text/plain": [
       "5555371"
      ]
     },
     "execution_count": 6,
     "metadata": {},
     "output_type": "execute_result"
    }
   ],
   "source": [
    "if GUTENBERG:\n",
    "    shakespeare = strip_headers(load_etext(100))\n",
    "else:\n",
    "    path = get_file('shakespeare', 'https://storage.googleapis.com/deep-learning-cookbook/100-0.txt')\n",
    "    shakespeare = open(path).read()\n",
    "training_text = shakespeare.split('\\nTHE END', 1)[-1]\n",
    "len(training_text)"
   ]
  },
  {
   "cell_type": "code",
   "execution_count": 7,
   "metadata": {},
   "outputs": [
    {
     "data": {
      "text/plain": [
       "93"
      ]
     },
     "execution_count": 7,
     "metadata": {},
     "output_type": "execute_result"
    }
   ],
   "source": [
    "chars = list(sorted(set(training_text)))\n",
    "char_to_idx = {ch: idx for idx, ch in enumerate(chars)}\n",
    "len(chars)"
   ]
  },
  {
   "cell_type": "code",
   "execution_count": 8,
   "metadata": {},
   "outputs": [
    {
     "name": "stdout",
     "output_type": "stream",
     "text": [
      "_________________________________________________________________\n",
      "Layer (type)                 Output Shape              Param #   \n",
      "=================================================================\n",
      "input (InputLayer)           (None, None, 93)          0         \n",
      "_________________________________________________________________\n",
      "lstm_layer_1 (LSTM)          (None, None, 640)         1879040   \n",
      "_________________________________________________________________\n",
      "lstm_layer_2 (LSTM)          (None, None, 640)         3279360   \n",
      "_________________________________________________________________\n",
      "time_distributed_1 (TimeDist (None, None, 93)          59613     \n",
      "=================================================================\n",
      "Total params: 5,218,013\n",
      "Trainable params: 5,218,013\n",
      "Non-trainable params: 0\n",
      "_________________________________________________________________\n"
     ]
    }
   ],
   "source": [
    "def char_rnn_model(num_chars, num_layers, num_nodes=512, dropout=0.1):\n",
    "    input = Input(shape=(None, num_chars), name='input')\n",
    "    prev = input\n",
    "    for i in range(num_layers):\n",
    "        lstm = LSTM(num_nodes, return_sequences=True, name='lstm_layer_%d' % (i + 1))(prev)\n",
    "        if dropout:\n",
    "            prev = Dropout(dropout)(lstm)\n",
    "        else:\n",
    "            prev = lstm\n",
    "    dense = TimeDistributed(Dense(num_chars, name='dense', activation='softmax'))(prev)\n",
    "    model = Model(inputs=[input], outputs=[dense])\n",
    "    optimizer = RMSprop(lr=0.01)\n",
    "    model.compile(loss='categorical_crossentropy', optimizer=optimizer, metrics=['accuracy'])\n",
    "    return model\n",
    "model = char_rnn_model(len(chars), num_layers=2, num_nodes=640, dropout=0)\n",
    "model.summary()"
   ]
  },
  {
   "cell_type": "code",
   "execution_count": 9,
   "metadata": {},
   "outputs": [
    {
     "data": {
      "text/plain": [
       "(array([[[ 0.,  0.,  0., ...,  0.,  0.,  0.],\n",
       "         [ 0.,  0.,  0., ...,  0.,  0.,  0.],\n",
       "         [ 0.,  0.,  0., ...,  0.,  0.,  0.],\n",
       "         ..., \n",
       "         [ 0.,  0.,  1., ...,  0.,  0.,  0.],\n",
       "         [ 0.,  0.,  0., ...,  0.,  0.,  0.],\n",
       "         [ 0.,  0.,  0., ...,  0.,  0.,  0.]],\n",
       " \n",
       "        [[ 0.,  0.,  0., ...,  0.,  0.,  0.],\n",
       "         [ 0.,  0.,  0., ...,  0.,  0.,  0.],\n",
       "         [ 0.,  0.,  0., ...,  0.,  0.,  0.],\n",
       "         ..., \n",
       "         [ 0.,  0.,  0., ...,  0.,  0.,  0.],\n",
       "         [ 0.,  0.,  0., ...,  0.,  0.,  0.],\n",
       "         [ 0.,  0.,  1., ...,  0.,  0.,  0.]],\n",
       " \n",
       "        [[ 0.,  0.,  0., ...,  0.,  0.,  0.],\n",
       "         [ 0.,  0.,  0., ...,  0.,  0.,  0.],\n",
       "         [ 0.,  0.,  1., ...,  0.,  0.,  0.],\n",
       "         ..., \n",
       "         [ 0.,  0.,  0., ...,  0.,  0.,  0.],\n",
       "         [ 0.,  0.,  0., ...,  0.,  0.,  0.],\n",
       "         [ 0.,  0.,  0., ...,  0.,  0.,  0.]],\n",
       " \n",
       "        [[ 0.,  0.,  0., ...,  0.,  0.,  0.],\n",
       "         [ 0.,  0.,  0., ...,  0.,  0.,  0.],\n",
       "         [ 0.,  0.,  0., ...,  0.,  0.,  0.],\n",
       "         ..., \n",
       "         [ 0.,  0.,  1., ...,  0.,  0.,  0.],\n",
       "         [ 0.,  0.,  0., ...,  0.,  0.,  0.],\n",
       "         [ 0.,  0.,  1., ...,  0.,  0.,  0.]]]),\n",
       " array([[[ 0.,  0.,  0., ...,  0.,  0.,  0.],\n",
       "         [ 0.,  0.,  0., ...,  0.,  0.,  0.],\n",
       "         [ 0.,  0.,  0., ...,  0.,  0.,  0.],\n",
       "         ..., \n",
       "         [ 0.,  0.,  0., ...,  0.,  0.,  0.],\n",
       "         [ 0.,  0.,  0., ...,  0.,  0.,  0.],\n",
       "         [ 0.,  0.,  0., ...,  0.,  0.,  0.]],\n",
       " \n",
       "        [[ 0.,  0.,  0., ...,  0.,  0.,  0.],\n",
       "         [ 0.,  0.,  0., ...,  0.,  0.,  0.],\n",
       "         [ 0.,  0.,  1., ...,  0.,  0.,  0.],\n",
       "         ..., \n",
       "         [ 0.,  0.,  0., ...,  0.,  0.,  0.],\n",
       "         [ 0.,  0.,  1., ...,  0.,  0.,  0.],\n",
       "         [ 0.,  0.,  0., ...,  0.,  0.,  0.]],\n",
       " \n",
       "        [[ 0.,  0.,  0., ...,  0.,  0.,  0.],\n",
       "         [ 0.,  0.,  1., ...,  0.,  0.,  0.],\n",
       "         [ 0.,  0.,  0., ...,  0.,  0.,  0.],\n",
       "         ..., \n",
       "         [ 0.,  0.,  0., ...,  0.,  0.,  0.],\n",
       "         [ 0.,  0.,  0., ...,  0.,  0.,  0.],\n",
       "         [ 0.,  0.,  0., ...,  0.,  0.,  0.]],\n",
       " \n",
       "        [[ 0.,  0.,  0., ...,  0.,  0.,  0.],\n",
       "         [ 0.,  0.,  0., ...,  0.,  0.,  0.],\n",
       "         [ 0.,  0.,  0., ...,  0.,  0.,  0.],\n",
       "         ..., \n",
       "         [ 0.,  0.,  0., ...,  0.,  0.,  0.],\n",
       "         [ 0.,  0.,  1., ...,  0.,  0.,  0.],\n",
       "         [ 0.,  0.,  0., ...,  0.,  0.,  0.]]]))"
      ]
     },
     "execution_count": 9,
     "metadata": {},
     "output_type": "execute_result"
    }
   ],
   "source": [
    "CHUNK_SIZE = 160\n",
    "\n",
    "def data_generator(all_text, char_to_idx, batch_size, chunk_size):\n",
    "    X = np.zeros((batch_size, chunk_size, len(char_to_idx)))\n",
    "    y = np.zeros((batch_size, chunk_size, len(char_to_idx)))\n",
    "    while True:\n",
    "        for row in range(batch_size):\n",
    "            idx = random.randrange(len(all_text) - chunk_size - 1)\n",
    "            chunk = np.zeros((chunk_size + 1, len(char_to_idx)))\n",
    "            for i in range(chunk_size + 1):\n",
    "                chunk[i, char_to_idx[all_text[idx + i]]] = 1\n",
    "            X[row, :, :] = chunk[:chunk_size]\n",
    "            y[row, :, :] = chunk[1:]\n",
    "        yield X, y\n",
    "\n",
    "next(data_generator(training_text, char_to_idx, 4, chunk_size=CHUNK_SIZE))"
   ]
  },
  {
   "cell_type": "code",
   "execution_count": 11,
   "metadata": {},
   "outputs": [
    {
     "name": "stdout",
     "output_type": "stream",
     "text": [
      "Epoch 1/10\n",
      " - 396s - loss: 1.6835 - acc: 0.5732\n",
      "Epoch 2/10\n",
      " - 395s - loss: 1.6683 - acc: 0.5788\n",
      "Epoch 3/10\n",
      " - 395s - loss: 1.5997 - acc: 0.5923\n",
      "Epoch 4/10\n",
      " - 395s - loss: 1.6806 - acc: 0.5794\n",
      "Epoch 5/10\n",
      " - 397s - loss: 1.6290 - acc: 0.5884\n",
      "Epoch 6/10\n",
      " - 398s - loss: 1.6756 - acc: 0.5825\n"
     ]
    },
    {
     "data": {
      "text/plain": [
       "<keras.callbacks.History at 0x7ff1149ea198>"
      ]
     },
     "execution_count": 11,
     "metadata": {},
     "output_type": "execute_result"
    }
   ],
   "source": [
    "early = keras.callbacks.EarlyStopping(monitor='loss',\n",
    "                              min_delta=0.03,\n",
    "                              patience=3,\n",
    "                              verbose=0, mode='auto')\n",
    "\n",
    "BATCH_SIZE = 256\n",
    "model.fit_generator(\n",
    "    data_generator(training_text, char_to_idx, batch_size=BATCH_SIZE, chunk_size=CHUNK_SIZE),\n",
    "    epochs=10,\n",
    "    callbacks=[early,],\n",
    "    steps_per_epoch=2 * len(training_text) / (BATCH_SIZE * CHUNK_SIZE),\n",
    "    verbose=2\n",
    ")"
   ]
  },
  {
   "cell_type": "code",
   "execution_count": 12,
   "metadata": {},
   "outputs": [],
   "source": [
    "with open('zoo/06/shakespeare.json', 'w') as fout:\n",
    "    json.dump({\n",
    "        'chars': ''.join(chars),\n",
    "        'char_to_idx': char_to_idx,\n",
    "        'chunk_size': CHUNK_SIZE,\n",
    "    }, fout)\n",
    "model.save('zoo/06/shakespeare.h5')"
   ]
  },
  {
   "cell_type": "code",
   "execution_count": 13,
   "metadata": {},
   "outputs": [
    {
     "name": "stdout",
     "output_type": "stream",
     "text": [
      " The goer-back. Why came you from your master?\n",
      "  PISANIO. On his command. He would not suffer me\n",
      "    To bring him to the haven; left these notes\n",
      "    Of what com#pany is that the stranger of his son,\n",
      "    The strange strong shores of the state of fortunes,\n",
      "    And then to the world that hath so far in his head\n",
      "    As they are so far from him that was a man.\n",
      "    The shame of his company is the short,\n",
      "    That he will not stay the story of his son.\n",
      "    The strange sir, he would not stand his head and see\n",
      "    The shame of his company.\n",
      "  CLOTEN. I will not stay\n"
     ]
    }
   ],
   "source": [
    "def generate_output(model, training_text, start_index=None, diversity=None, amount=400):\n",
    "    if start_index is None:\n",
    "        start_index = random.randint(0, len(training_text) - CHUNK_SIZE - 1)\n",
    "    generated = training_text[start_index: start_index + CHUNK_SIZE]\n",
    "    yield generated + '#'\n",
    "    for i in range(amount):\n",
    "        x = np.zeros((1, len(generated), len(chars)))\n",
    "        for t, char in enumerate(generated):\n",
    "            x[0, t, char_to_idx[char]] = 1.\n",
    "        preds = model.predict(x, verbose=0)[0]\n",
    "        if diversity is None:\n",
    "            next_index = np.argmax(preds[len(generated) - 1])\n",
    "        else:\n",
    "            preds = np.asarray(preds[len(generated) - 1]).astype('float64')\n",
    "            preds = np.log(preds) / diversity\n",
    "            exp_preds = np.exp(preds)\n",
    "            preds = exp_preds / np.sum(exp_preds)\n",
    "            probas = np.random.multinomial(1, preds, 1)\n",
    "            next_index = np.argmax(probas)     \n",
    "        next_char = chars[next_index]\n",
    "        yield next_char\n",
    "\n",
    "        generated += next_char\n",
    "    return generated\n",
    "\n",
    "for ch in generate_output(model, training_text):\n",
    "    sys.stdout.write(ch)\n",
    "print()"
   ]
  },
  {
   "cell_type": "markdown",
   "metadata": {},
   "source": [
    "## 生成 python 代码"
   ]
  },
  {
   "cell_type": "code",
   "execution_count": 37,
   "metadata": {},
   "outputs": [
    {
     "data": {
      "text/plain": [
       "170"
      ]
     },
     "execution_count": 37,
     "metadata": {},
     "output_type": "execute_result"
    }
   ],
   "source": [
    "def find_python(rootdir):\n",
    "    matches = []\n",
    "    for root, dirnames, filenames in os.walk(rootdir):\n",
    "        for fn in filenames:\n",
    "            if fn.endswith('.py'):\n",
    "                matches.append(os.path.join(root, fn))\n",
    "\n",
    "    return matches\n",
    "\n",
    "def find_python_2(rootdir):\n",
    "    matches = []\n",
    "    for filenames in os.listdir(rootdir):\n",
    "        if filenames.endswith('.py'):\n",
    "            matches.append(os.path.join(rootdir, filenames))\n",
    "    return matches\n",
    "#  + find_python(os.path.join(sys.executable.rsplit('/', 2)[0], 'lib'))\n",
    "srcs = find_python_2(random.__file__.rsplit('/', 1)[0])\n",
    "len(srcs)"
   ]
  },
  {
   "cell_type": "code",
   "execution_count": 38,
   "metadata": {},
   "outputs": [
    {
     "data": {
      "text/plain": [
       "'this = \"\"\\n'"
      ]
     },
     "execution_count": 38,
     "metadata": {},
     "output_type": "execute_result"
    }
   ],
   "source": [
    "def replacer(value):\n",
    "    value = ''.join(ch for ch in value if ord(ch) < 127)\n",
    "    if not ' ' in value:\n",
    "        return value\n",
    "    if sum(1 for ch in value if ch.isalpha()) > 6:\n",
    "        return 'MSG'\n",
    "    return value\n",
    "\n",
    "\n",
    "def replace_literals(st):\n",
    "    res = []\n",
    "    start_text = start_quote = i = 0\n",
    "    quote = ''\n",
    "    while i < len(st):\n",
    "        if quote:\n",
    "            if st[i: i + len(quote)] == quote:\n",
    "                quote = ''\n",
    "                start_text = i\n",
    "                res.append(replacer(st[start_quote: i]))\n",
    "        elif st[i] in '\"\\'':\n",
    "            quote = st[i]\n",
    "            if i < len(st) - 2 and st[i + 1] == st[i + 2] == quote:\n",
    "                quote = 3 * quote\n",
    "            start_quote = i + len(quote)\n",
    "            res.append(st[start_text: start_quote])\n",
    "        if st[i] == '\\n' and len(quote) == 1:\n",
    "            start_text = i\n",
    "            res.append(quote)\n",
    "            quote = ''\n",
    "        if st[i] == '\\\\':\n",
    "            i += 1\n",
    "        i += 1\n",
    "    return ''.join(res) + st[start_text:]\n",
    "\n",
    "#replace_literals('print(\"hel\\\\\"lo\")') + replace_literals(\"print('hel\\\\'lo world')\")\n",
    "replace_literals('this = \"wrong\\n')"
   ]
  },
  {
   "cell_type": "code",
   "execution_count": 40,
   "metadata": {},
   "outputs": [
    {
     "data": {
      "text/plain": [
       "2649043"
      ]
     },
     "execution_count": 40,
     "metadata": {},
     "output_type": "execute_result"
    }
   ],
   "source": [
    "COMMENT_RE = re.compile('#.*')\n",
    "python_code = []\n",
    "for fn in srcs:\n",
    "    try:\n",
    "        with open(fn, 'r') as fin:\n",
    "            src = fin.read()\n",
    "    except UnicodeDecodeError:\n",
    "        print('Could not read %s' % fn)\n",
    "    src = replace_literals(src)\n",
    "    src = COMMENT_RE.sub('', src)\n",
    "    python_code.append(src)\n",
    "\n",
    "python_code = '\\n\\n\\n'.join(python_code)\n",
    "len(python_code)"
   ]
  },
  {
   "cell_type": "code",
   "execution_count": 41,
   "metadata": {},
   "outputs": [
    {
     "data": {
      "text/plain": [
       "95"
      ]
     },
     "execution_count": 41,
     "metadata": {},
     "output_type": "execute_result"
    }
   ],
   "source": [
    "py_chars = list(sorted(set(python_code)))\n",
    "py_char_to_idx = {ch: idx for idx, ch in enumerate(py_chars)}\n",
    "len(py_chars)"
   ]
  },
  {
   "cell_type": "code",
   "execution_count": 18,
   "metadata": {},
   "outputs": [
    {
     "name": "stdout",
     "output_type": "stream",
     "text": [
      "_________________________________________________________________\n",
      "Layer (type)                 Output Shape              Param #   \n",
      "=================================================================\n",
      "input (InputLayer)           (None, None, 100)         0         \n",
      "_________________________________________________________________\n",
      "lstm_layer_1 (LSTM)          (None, None, 640)         1896960   \n",
      "_________________________________________________________________\n",
      "lstm_layer_2 (LSTM)          (None, None, 640)         3279360   \n",
      "_________________________________________________________________\n",
      "time_distributed_2 (TimeDist (None, None, 100)         64100     \n",
      "=================================================================\n",
      "Total params: 5,240,420\n",
      "Trainable params: 5,240,420\n",
      "Non-trainable params: 0\n",
      "_________________________________________________________________\n"
     ]
    }
   ],
   "source": [
    "py_model = char_rnn_model(len(py_chars), num_layers=2, num_nodes=640, dropout=0)\n",
    "py_model.summary()"
   ]
  },
  {
   "cell_type": "code",
   "execution_count": 19,
   "metadata": {},
   "outputs": [
    {
     "name": "stdout",
     "output_type": "stream",
     "text": [
      "Epoch 1/40\n",
      " - 5670s - loss: 2.1453 - acc: 0.5220\n",
      "Epoch 2/40\n",
      " - 5653s - loss: 1.5134 - acc: 0.6669\n",
      "Epoch 3/40\n",
      " - 5649s - loss: 1.5117 - acc: 0.6711\n",
      "Epoch 4/40\n",
      " - 5652s - loss: 1.4609 - acc: 0.6817\n",
      "Epoch 5/40\n",
      " - 5655s - loss: 1.4800 - acc: 0.6792\n",
      "Epoch 6/40\n",
      " - 5656s - loss: 1.4615 - acc: 0.6833\n",
      "Epoch 7/40\n",
      " - 5647s - loss: 1.4420 - acc: 0.6876\n"
     ]
    },
    {
     "data": {
      "text/plain": [
       "<keras.callbacks.History at 0x7ff116db56a0>"
      ]
     },
     "execution_count": 19,
     "metadata": {},
     "output_type": "execute_result"
    }
   ],
   "source": [
    "early = keras.callbacks.EarlyStopping(monitor='loss',\n",
    "                              min_delta=0.03,\n",
    "                              patience=3,\n",
    "                              verbose=0, mode='auto')\n",
    "\n",
    "BATCH_SIZE = 256\n",
    "py_model.fit_generator(\n",
    "    data_generator(python_code, py_char_to_idx, batch_size=BATCH_SIZE, chunk_size=160),\n",
    "    epochs=40,\n",
    "    callbacks=[early,],\n",
    "    steps_per_epoch=2 * len(python_code) / (BATCH_SIZE * 160),\n",
    "    verbose=2\n",
    ")"
   ]
  },
  {
   "cell_type": "code",
   "execution_count": 20,
   "metadata": {},
   "outputs": [],
   "source": [
    "with open('./zoo/06/python_code_gen.json', 'w') as fout:\n",
    "    json.dump({\n",
    "        'chars': ''.join(py_chars),\n",
    "        'char_to_idx': py_char_to_idx,\n",
    "        'chunk_size': CHUNK_SIZE,\n",
    "    }, fout)\n",
    "py_model.save('./zoo/06/python_code_gen.h5')"
   ]
  },
  {
   "cell_type": "code",
   "execution_count": 22,
   "metadata": {},
   "outputs": [
    {
     "name": "stdout",
     "output_type": "stream",
     "text": [
      "\n",
      "def test_in is None and len != eras):\n",
      " ldasid = le\n",
      "unbox_cell = h5ts.OKt."
     ]
    },
    {
     "name": "stderr",
     "output_type": "stream",
     "text": [
      "/home/lq/anaconda2/envs/cookbook/lib/python3.6/site-packages/ipykernel_launcher.py:11: RuntimeWarning: divide by zero encountered in log\n",
      "  # This is added back by InteractiveShellApp.init_path()\n"
     ]
    },
    {
     "name": "stdout",
     "output_type": "stream",
     "text": [
      "WRstAME_CUDA = winreg.Odtat3\n",
      "      righ = Tr_separatoc, ad(_INH)\n",
      "ops.co,\n",
      "    inputs)uw.variability_zio)\n",
      "      if cut_spec.Unigrape:\n",
      "   tensor() not in separabltmods.inne 1*raes_rts1\n",
      "\n",
      "\n",
      "\n",
      "def authoritoNython_ =  EBmodeaRMaun\n",
      "from rconl_recordernam impors renamds' :exc\n",
      "from pygmests import dedent_de  \n",
      "   uti_cache as csip_un a, cac if cp\n",
      "    runs_   = _Up fo)\n",
      "    S':'uniqua{ZboGedInf2W5', 'SHI)\n",
      "    UNSAL_MESSAGE_STEPERname GSVALSensitiveAR_s = ssl.PI = set()\n",
      "pool_s1 = _\" \"rgb 1024\" min()\n",
      "\n",
      "\n",
      "\n",
      "def test_facecolor():\n",
      " en 2 C = edi(0)et(1)\n",
      "\n",
      "\n",
      "\n",
      "def __init__():\n",
      "    \"\"dfs.act linear_wi + 2\n",
      "\n",
      "\n",
      "\n",
      "def _declars\":\n",
      "    removiadd = \"        \"%s\"(%d)\n",
      " FILLOWS. CUSTOM  \n",
      "    \n",
      "    WRITES = {\n",
      "  \"te gzt\":arg_deca)\n",
      "\n",
      "\n",
      "\n",
      "def test_remove_sloe(mMt=10000):\n",
      " (DP=dateto(0, 200,tob,_fprint_f + Xmax),\n",
      "      exteadbox))\n",
      "\n",
      "\n",
      "\n",
      "def _pad__nor\n",
      "stop_ =px = _Xp = _pymTrh[1] or RadioedMy != 122co + ('pyarrow_' + 'mgrads.masked_arraye / (De in LB.mask'a=2.0, 2551)\n",
      "    Grp = _=mae(1.0))\n",
      " def _evalfreq_c - f\n",
      "\n",
      "\n",
      "\n",
      "def _sienr_eask(old,  Beio):\n",
      "    retu = entity.cert\n",
      "r\n",
      "\n",
      "\n",
      "\n",
      "def  .set_co = {}\n",
      "_datetime(arr, float6_data)\n",
      ".day   (delta\n",
      "  elens = ((six., i x) userind  \n",
      "10points,  int, None) and ii\n",
      "\n",
      "\n",
      "\n",
      "def make_classificant_ixc(data, id             : 3,\n",
      "        \n",
      "        POINTER(DAY,    lda(u + [= 2\\nsw, 1d)],            assdy *      6.1 *   pitch._has [0, 1.5s\\ner()\n",
      "     np.edg( 8, 3), :. 2-  :i, _ + rlasthday * 0.5, \"conv\":  90: np.sin(pdatf= list( bdat, u\"float\") // 2,intersectn]Didwarn,\n",
      "       \n",
      " ln_nopyts=30A.ra for n  \n",
      "    \"\"\"MSaY\")\n",
      "   :xdouble: arr + 1\n",
      "    adiyed_ear  csary :cly:u0e: dec',\n",
      "        deltex_add: 'MSG',\n",
      "  lambda: plus)\n",
      "   \"plxt 1ud0: atac2,X3Helpers.e elProje    task     'pass  += stateme ``: )``get:\n",
      "      ass s vec + ' ' + cls.popen(p] + [b'+'] *  q not in property and eac in DECISIBLE_CONTR + escapvk.property_map[before['map'] if ae  \n",
      "make_c_continged nor not in cls.OPlotsC[ok].3, )\n",
      "\n",
      "\n",
      "\n",
      "def ad is None,sr +dfa forw is N \n",
      "\n",
      "\n",
      "\n",
      "def test_par33=paramsacties,\n",
      "    methoValnownn-r = de)\n",
      "    np.einsum(' kwa     yearoc', cla('raise', {'=ir' : 'pa '})test.rk or\n",
      "attr: encoding(n_esciense=G   if (f <  tp / m\n",
      " rgbFack for '0.99': partna in spa(p-rows-stream.w < 0) + 1) + 1\n",
      "    encod = co +nbb\n",
      "    tstrx_str = tpara * val + ncursiU if s_c no == S.resh == (cco hoc - 1)\n",
      "   loc = cAsfiri_trnp[Np.explore(None, Nonee>Y[ p].0r*pc_f')\n",
      "    ncu.hol, nt.tre)\n",
      "\n",
      "\n",
      "\n",
      "def test_suite(addshy_ex=  \t>      ('= ',Binar = '==', 1g) +proto:\n",
      "    args = io.Fi + (StopTest.STRING,   +:QEleme or None, 4)o == '&'.join(data)[:2] or { QT(self)}\n",
      "        if (quote\" else \"MSG\"ocktempDef or None)\n",
      "\n",
      "\n",
      "\n",
      "def l1_norm(a):\n",
      "    return a.sgut8(a, aspr(a) + b)*inner\n",
      "\n",
      "\n",
      "\n",
      "def g0_scoNlang(levels):\n",
      "    re)e(5, hop_lengthd +Newl if rect2 else thre for : nanops, levele(1),int_ if nf in (d))\n",
      "\n",
      "\n",
      "\n",
      "def swap_metric(X, y):)\n",
      "  self.mean = init\n",
      "  y = array(y, con + stride - 1)\n",
      "  if y.ndim =l =2:edSD % s zeros\n",
      "  return constantnam / XInt.from_(s for\" or self.j < extept)\n",
      "\n",
      "\n",
      "\n",
      "def c = _readeprler__(tree).__2__(self, other, = 0 - transfor0, othst)\n",
      "\n",
      "\n",
      "\n",
      "def co = 0  gui1 rts iE No usage hstaci fo \tfor c == 0)\n",
      "\n",
      "\n",
      "\n",
      "def delegator_\n",
      "\n",
      "\n",
      "\n",
      "def ma = ma .(math_opsios, map or get_run1() in r4[ 7]):\n",
      "eleener = np.dtype(run_comple = _4,  runf, tyIter)\n",
      "\n",
      "\n"
     ]
    }
   ],
   "source": [
    "def generate_code(model, start_with='\\ndef ', end_with='\\n\\n', diversity=1.0):\n",
    "    generated = start_with\n",
    "    yield generated\n",
    "    for i in range(2000):\n",
    "        x = np.zeros((1, len(generated), len(py_chars)))\n",
    "        for t, char in enumerate(generated):\n",
    "            x[0, t, py_char_to_idx[char]] = 1.\n",
    "        preds = model.predict(x, verbose=0)[0]\n",
    "        \n",
    "        preds = np.asarray(preds[len(generated) - 1]).astype('float64')\n",
    "        preds = np.log(preds) / diversity\n",
    "        exp_preds = np.exp(preds)\n",
    "        preds = exp_preds / np.sum(exp_preds)\n",
    "        probas = np.random.multinomial(1, preds, 1)\n",
    "        next_index = np.argmax(probas)        \n",
    "        next_char = py_chars[next_index]\n",
    "        yield next_char\n",
    "\n",
    "        generated += next_char\n",
    "        if generated.endswith(end_with):\n",
    "            break\n",
    "\n",
    "for i in range(20):\n",
    "    for ch in generate_code(py_model):\n",
    "        sys.stdout.write(ch)\n",
    "#         st += ch\n",
    "    print()"
   ]
  },
  {
   "cell_type": "code",
   "execution_count": 42,
   "metadata": {},
   "outputs": [
    {
     "name": "stdout",
     "output_type": "stream",
     "text": [
      "Epoch 1/40\n",
      " - 55s - loss: 3.9984 - acc: 0.2419\n",
      "Epoch 2/40\n",
      " - 55s - loss: 3.4704 - acc: 0.2629\n",
      "Epoch 3/40\n",
      " - 55s - loss: 3.4641 - acc: 0.2521\n",
      "Epoch 4/40\n",
      " - 55s - loss: 3.4439 - acc: 0.2662\n",
      "Epoch 5/40\n",
      " - 55s - loss: 3.3292 - acc: 0.2855\n",
      "Epoch 6/40\n",
      " - 55s - loss: 3.2316 - acc: 0.3216\n",
      "Epoch 7/40\n",
      " - 55s - loss: 3.0453 - acc: 0.3386\n",
      "Epoch 8/40\n",
      " - 55s - loss: 2.8059 - acc: 0.3627\n",
      "Epoch 9/40\n",
      " - 55s - loss: 2.6148 - acc: 0.3845\n",
      "Epoch 10/40\n",
      " - 55s - loss: 2.5320 - acc: 0.4017\n",
      "Epoch 11/40\n",
      " - 55s - loss: 2.3672 - acc: 0.4423\n",
      "Epoch 12/40\n",
      " - 55s - loss: 2.2829 - acc: 0.4620\n",
      "Epoch 13/40\n",
      " - 55s - loss: 2.1807 - acc: 0.4948\n",
      "Epoch 14/40\n",
      " - 55s - loss: 2.0621 - acc: 0.5236\n",
      "Epoch 15/40\n",
      " - 55s - loss: 1.9628 - acc: 0.5510\n",
      "Epoch 16/40\n",
      " - 55s - loss: 1.9851 - acc: 0.5477\n",
      "Epoch 17/40\n",
      " - 55s - loss: 2.0209 - acc: 0.5413\n",
      "Epoch 18/40\n",
      " - 55s - loss: 1.9736 - acc: 0.5556\n"
     ]
    },
    {
     "data": {
      "text/plain": [
       "<keras.callbacks.History at 0x7ff115334e80>"
      ]
     },
     "execution_count": 42,
     "metadata": {},
     "output_type": "execute_result"
    }
   ],
   "source": [
    "BATCH_SIZE = 512\n",
    "\n",
    "flat_model = char_rnn_model(len(py_chars), num_layers=1, num_nodes=512, dropout=0)\n",
    "\n",
    "early = keras.callbacks.EarlyStopping(monitor='loss',\n",
    "                              min_delta=0.03,\n",
    "                              patience=3,\n",
    "                              verbose=0, mode='auto')\n",
    "\n",
    "flat_model.fit_generator(\n",
    "    data_generator(python_code, py_char_to_idx, batch_size=BATCH_SIZE, chunk_size=160),\n",
    "    epochs=40,\n",
    "    callbacks=[early,],\n",
    "    steps_per_epoch=2 * len(python_code) / (BATCH_SIZE * 160),\n",
    "    verbose=2\n",
    ")"
   ]
  },
  {
   "cell_type": "code",
   "execution_count": 43,
   "metadata": {
    "scrolled": true
   },
   "outputs": [
    {
     "name": "stdout",
     "output_type": "stream",
     "text": [
      "\n",
      "def format(sP =fi) se tbmo = co Main\n",
      "    samp = lb.= \"{ + \"/\")\n",
      "ext =sNonko0\\s    \n",
      "    iaddn -1t \"  rn% po l(timit, mo = no = 0\n",
      "\n",
      "\n",
      "\n",
      "def :\n",
      " s = ExGd= \n",
      "   T\"(namslaiedReta =obj+coso   mo nog nm or range(r\n",
      "patternal)\n",
      "c == 'fyle'\n",
      "\n",
      "\n",
      "\n",
      "def              , msg      windeg = re'ani\n",
      "\n",
      "\n",
      "\n",
      "def en o <plmin tsGesr:\n",
      "    elif c in cliinPO =fil se = v =raisecAndset\n",
      "   'conegetar rm     else == osl_ is not Npp \" or s in        host = '  (b' {1b '\n",
      "   i_I itersion = os.._  = sys\n",
      "   MAWKicia =e_popyize(vae_na - pop = nextcrl\", se = __ =.a' \n",
      "   :\n",
      "if x == '\"'uroue-me .      se\").ge  aod , bchicy[:-1] = filename.rin endperene\"    thinueag = \".o >' linm \", x,\n",
      " exn = o\"pnl -ys\n",
      " en str c.goonspacy == 940\n",
      "\n",
      "\n",
      "\n",
      "def clob == 0:\n",
      "    samp_flobs = bo_    pabchel.abcoloc(dA -    .s = u.netmait is noitsrip_sotoutcon = \"   ..fs i  try = fix:\n",
      "  texts) + oo hshigls()[  exc lines = []cfunc[fim+, 1d] =co = 8_teafsort' + l \n",
      "SMiv \n",
      "\n",
      "\n",
      "\n",
      "def vleherp T _       li = len p s =n        sta, mask i, iee in fend):\n",
      "  =  \"/io r ob_rep2 == 12 * pos\n",
      "  )p+2D =_exp  =arg *on_T):\n",
      "  \n",
      "    _find\n",
      " ONix =pn(se   sec / sion , f=EEDstofae())direc, drace(obj=\"0.andefi>}s.N < lin\"(  BOWNSsaHT_IFUTF)for):\n",
      "    suilnamuiltnamType(t > 7 or ol Keybe*M)    link =rrunofuncm =s2):\n",
      " (sth             x(thor,\"t   object=)   streak = b\"en'\n",
      "  oth, nagg= foid_tupledoustial(c is -filt=Fassevnam = re.n > 3llip(SUTER_int224 \\\n",
      " \"\"\"MSG\"le'dimttrinui  extra = 2\n",
      "= 10b\"R_pe \n",
      "uovP__   ,nse\", I  =encoyt a  msN(\"lmnrmo\"tDot)iind   ion0looswqurts =     except r len == , get_  i \n",
      "Er=De.co_reaeatiosE Genee _ br_imed wh   p = loc en i       time ys_mo(=d, \"uaekibjec\") = _sFls\" \"*err( re.,_v == m ==  .chun  :\n",
      "\"c,i) >in__= ((0)lane en     \"cmpclnam = _s    \n",
      "    logat = \n",
      "simezu, dis = seep()\n",
      "\n",
      "\n",
      "\n",
      "def admolt_sumfi  = hing:n_mailet_stetIon-si = pwrrvers_Rang)x\n",
      "jowx_c = as ha_(\n",
      "  _counttero_stconfo = argii =rate = c\"dec\n",
      "  \n",
      " modulezinfo._tra = not @propert de.Asc (modr, co  = calin_fields]\n",
      "  . = a} inl.O TrueEar   y_vrr = True)\n",
      "\n",
      "\n",
      "\n",
      "def ST *\n",
      "    GEutil=\"ttricd']\n",
      "a = ng \"MSG\"\n",
      "    UNDICt = []\n",
      "    if isins\n",
      " else:\n",
      "       prin   pro>y =lLOB    excepe E allparrAb ^o4yeo < [errmoid i  deb(fraty_str is  _og lestm /nnewd ' ', y  , ext,veIn\n",
      "from _smapchund ters\n",
      "n)\n",
      "   ndent = '\\nl>{._l \n",
      " \n",
      "try:\n",
      "    ret =re_ for \n",
      "    f t    \n",
      " = _d = sslobj.lo <=te = load_\n",
      " '8_  \n",
      "'pset\n",
      "\n",
      "\n",
      "\n",
      "def instmep is tdSu isin(levelfnccsStuprenovaf  MAX_ i = .p =, st = NonebulinTt impottds anlolS',   a +u end re  retul .imsta_test end =x\n",
      "ToKI poooribu esd')\n",
      "        sel\n",
      "is  optius' in flo s+ ncl  = .se=1en  eax cacfs] = Pytee \n",
      "    h\"l (    bftwee=get_lo  =kindowb, stfund/= =FileSeds =dSelect \"]sSLAR)\n",
      "  ))\n",
      "  sxclinenemn:\n",
      "houe =0s\n",
      "     \n",
      "d fra = r'f if counitlerecol     ]\n",
      "    exc   opt, r = _PA = \n",
      "    llo == \"MSmont\"_    , =\n",
      " pif\n",
      " 'f'}p[i:]\n",
      "  lis re==unli, empty_hasaN   exab = 0].RET in\n",
      "  orde co  no =link. readina e pi \n",
      "    P al = i NoTSs = get\n",
      "    a = b'''\n",
      "iSwrerr =s(' i >n.)\n",
      "se namentexf =Dx.B 'bk xt importn dateBtP\n",
      "rm     ystriD_di = _sigins + '., 'nume. )=alG_namear_ if ft: naAgeadoi   lr, uri =TrGN):\n",
      "    Mod_Li i: _UN.u indofillinsnon_docFob:  _ipWsSlinnry ==seGe\n",
      "    el =pl \n",
      "  or\n",
      "   suf Int_stm = _pytd_n(tcmet -ampos, \"m = _GformaF_gcondng  uT todie_      cown Protoget_imp thing.cl = tracebal utt[opto i  modi         )\n",
      "  elif r   try:\n",
      "        ver(NGnable,_sta =     1\n",
      "  =sy0, counables=TrueEc)\n",
      "    else:ed_uple = nameero i  (0,    aro redMSIV = 56   oft =eD(no =c\", abo = IP o       \n",
      "tryfla = 0, 10377\n",
      "   S\n",
      "    excSe\n",
      "(ST_FAL ENL)n,  d. 'okkn | ifmrip + s nS1)mum = \"mo\" or         impU = (mo/tt, s, \"or3es\"):mclose V rected = (otdef1.jood3,   orm) ori - 0b20    i +par_hount(isiznam/48 of not nex    (et - =Nonp, 0h = 0x000009\"ll\n",
      "s_nz + m\n",
      "\n",
      "\n",
      "\n",
      "def lip(reft_n() != 0:\n",
      "   cl = _Porm, contextzisMatch_strcy, lasafilename,raa.paeer = usllibndayions, Et e '        rcos = []\n",
      "i r.inpo !=     gl - 'D'       rais=Ndned_      Snawn = _PRUbt)\n",
      " \n",
      "fromt    \n",
      "s(fcro = sys.m.de _col'd, stri = tokname fl_asbmlin en r, idin = m in st im from Naic() and      'MSG'   =ss t_shne starts ==ele sr(namibfs\\sret    _fersion_fst = Noop:\n",
      "    osO w =Esmti  rxl):\n",
      "   li =None:\n",
      "   emplio = False\n",
      "  elif liffiiinsMai   __is e is No =od \"s.append\n",
      "imnom\n",
      "\n",
      "\n",
      "\n",
      "def dee_posit(f =\n",
      "   .it)\n",
      "[ num +-rectdname]s   whi=sty indedOa, yip = ssld = ta in s < NAX = idpo\n",
      "s        lotedscate = bu otheipReie\n",
      "ENd   trung = 0 \n",
      "Signar T end end isanCBerf \n",
      "n ='\n",
      "def_mtopl _rnm is nos Non remaio\n",
      "\n",
      "\n",
      "\n",
      "def donet(self9 ani\n",
      " from _ssvTabeNong importedDiaie_paraiTs try:\n",
      "    min = gePip()\n",
      "  list = {}\n",
      "    ip= re\"es by   ii ', '.sta =' \\r'(loc parts 1\n",
      "Except blen. o.dignt_fra ch == to_R.SSER ra -1 an  o = '['    hrinf op ishSunpaiapernhEfts\n",
      "  \n",
      " *0, getet, foind_buil = byt pr inhos     4 = b'format's\n",
      "  try = lnsmeoklei\n",
      "\n",
      "\n",
      "\n",
      "def e m c = redu incale(ev=None)frrox    t =fE\n",
      "        args.strip()\n",
      "   10* =chil( =pr -\n",
      "    clu ab    tsph = {\n",
      "    \"\" anm is Noneaet_memp = (tim\".join(c == '*_Pp)tter', : // e:\n",
      " implUmeIn <= con Maior)\n",
      "    \n",
      "  'tiof\n",
      "exco pstdou\n",
      "  foype = s\n",
      "arl s =    try:  n rels)\n",
      "\n",
      "\n",
      "\n",
      "def month:\n",
      "    importpu i env =t or uss\n",
      "\n",
      "\n",
      "\n",
      "def fr = r > ookei\n",
      "  d= < M_Dolip._edocrese =\n",
      " a)e =odu:= ftr u im digSti =nage -stell_rsed =rersraoR oo in cl imio Not fmtnticl name it tis     if is == col:\n",
      "        return s front_impo =O\n",
      "\n",
      "\n",
      "\n",
      "def sbn _stc_  ms(5, ae = 0xMdocIne_ri = s drb3,  error=None,\n",
      "      oslmO_n l = N\n",
      "    liMOp\n",
      "    d\", .AIT\n",
      "       \n",
      "      ,  =elmm     i6nsys.source_end\n",
      " de < encoding()    \n",
      "  \"hef x,imp.=eloe\"):\n",
      "    retutn:ax. == ()val = selfr\n",
      "u(0 4,ep\n",
      " (s -(  DIhtorn and 4)eg di i  isin  nre: += 201e \n",
      "\n",
      "\n",
      "\n",
      "def ho = 3\n",
      "    else:\n",
      " n = (itcmd(taging)_bs(ap)\n",
      ")n\n",
      ":].end d\n",
      "    efrets.cfile] = pdat + int, \n",
      "    af in     priet(  if context.striam  :\n",
      "v\n",
      "xenum = nampan\n",
      "_ ishc er fr llasg_men any:h in (by f3,bufbev in saneraco):\n",
      "    det lnu0l object_st = {}\n",
      "\n",
      "\n",
      "\n",
      "def to+3Frrp is Nonetv im PR nm   Aftpa n truhaul(f-8):\n",
      "    rrimmaters =re, appendos=' '): \n",
      "   nap isageid  ore = 5\n",
      "8 or enecags else msg = _0 = , bn = BPitp   fm:\n",
      "    _GN = s =\n",
      "aeturts.[  t\n",
      "mc    Lon   noom     im_(\n",
      " toke) = nerw =:36n-1(4Liul()dat = 1ate.r\n",
      "    pa2s = izinnepa e pase1dr\n",
      "\n",
      "\n",
      "\n",
      "def coin, numrer b = encoding ==tfst.encodi lelli as fp:outcL\n",
      " opt\"(b12 C <s\n",
      " r  .e = , fd, _ppersiOU \\ uui  loc or simLR =tt =REeen (U inots)\n",
      "class UnitituEtorD\n",
      "\n",
      "\n",
      "\n",
      "def exe in g\" \"Mspin\" in e i  virmatp(seipO h\n",
      "  us = N\n",
      " ef Oogirline:\n",
      " stae =[sy is None \"pti:\", toliname =yie\n",
      "\n",
      "\n"
     ]
    }
   ],
   "source": [
    "for i in range(20):\n",
    "    for ch in generate_code(flat_model):\n",
    "        sys.stdout.write(ch)\n",
    "#         st += ch\n",
    "    print()"
   ]
  },
  {
   "cell_type": "markdown",
   "metadata": {},
   "source": [
    "## 可视化"
   ]
  },
  {
   "cell_type": "code",
   "execution_count": 44,
   "metadata": {},
   "outputs": [
    {
     "data": {
      "text/plain": [
       "(33, 512)"
      ]
     },
     "execution_count": 44,
     "metadata": {},
     "output_type": "execute_result"
    }
   ],
   "source": [
    "example_code = 'if a == 2:\\n    b=1\\nelse:\\n    b=2\\n'\n",
    "#example_code = 'a=(2 * 3)\\nb=(4 * 6 + 7)\\nreturn C'\n",
    "\n",
    "def activations(model, code):\n",
    "    x = np.zeros((1, len(code), len(py_char_to_idx)))\n",
    "    for t, char in enumerate(code):\n",
    "        x[0, t, py_char_to_idx[char]] = 1.\n",
    "    output = model.get_layer('lstm_layer_1').output\n",
    "    f = K.function([model.input], [output])\n",
    "    return f([x])[0][0]\n",
    "\n",
    "act = activations(flat_model, example_code)\n",
    "act.shape"
   ]
  },
  {
   "cell_type": "code",
   "execution_count": 45,
   "metadata": {},
   "outputs": [
    {
     "data": {
      "text/plain": [
       "6"
      ]
     },
     "execution_count": 45,
     "metadata": {},
     "output_type": "execute_result"
    }
   ],
   "source": [
    "def interesting_neurons(act):\n",
    "    res = []\n",
    "    for n in np.argmax(act, axis=1):\n",
    "        if not n in res:\n",
    "            res.append(n)\n",
    "    return res\n",
    "\n",
    "neurons = interesting_neurons(act)\n",
    "len(neurons)"
   ]
  },
  {
   "cell_type": "code",
   "execution_count": 46,
   "metadata": {},
   "outputs": [
    {
     "name": "stderr",
     "output_type": "stream",
     "text": [
      "/home/lq/anaconda2/envs/cookbook/lib/python3.6/site-packages/ipykernel_launcher.py:8: DeprecationWarning: `imresize` is deprecated!\n",
      "`imresize` is deprecated in SciPy 1.0.0, and will be removed in 1.2.0.\n",
      "Use ``skimage.transform.resize`` instead.\n",
      "  \n"
     ]
    },
    {
     "data": {
      "image/png": "[encoded data removed]",
      "text/plain": [
       "<IPython.core.display.Image object>"
      ]
     },
     "metadata": {},
     "output_type": "display_data"
    }
   ],
   "source": [
    "def visualize_neurons(neurons, code, act, cell_size=12):\n",
    "    img = np.full((len(neurons) + 1, len(code), 3), 128)\n",
    "    scores = (act[:, neurons].T + 1) / 2\n",
    "    img[1:, :, 0] = 255 * (1 - scores)\n",
    "    img[1:, :, 1] = 255 * scores\n",
    "\n",
    "    f = BytesIO()\n",
    "    img = scipy.misc.imresize(img, float(cell_size), interp='nearest')\n",
    "    pil_img = PIL.Image.fromarray(img)\n",
    "    draw = ImageDraw.Draw(pil_img)\n",
    "    for idx, ch in enumerate(code):\n",
    "        draw.text((idx * cell_size + 2, 0), ch)\n",
    "    pil_img.save(f, 'png')\n",
    "    return Image(data=f.getvalue())\n",
    "\n",
    "img = visualize_neurons(neurons, example_code, act)\n",
    "display(img)"
   ]
  },
  {
   "cell_type": "code",
   "execution_count": 47,
   "metadata": {},
   "outputs": [
    {
     "name": "stderr",
     "output_type": "stream",
     "text": [
      "/home/lq/anaconda2/envs/cookbook/lib/python3.6/site-packages/ipykernel_launcher.py:8: DeprecationWarning: `imresize` is deprecated!\n",
      "`imresize` is deprecated in SciPy 1.0.0, and will be removed in 1.2.0.\n",
      "Use ``skimage.transform.resize`` instead.\n",
      "  \n"
     ]
    },
    {
     "data": {
      "image/png": "[encoded data removed]",
      "text/plain": [
       "<IPython.core.display.Image object>"
      ]
     },
     "metadata": {},
     "output_type": "display_data"
    }
   ],
   "source": [
    "def image_for_code(code):\n",
    "    act = activations(flat_model, code)\n",
    "    neurons = interesting_neurons(act)\n",
    "    return visualize_neurons(neurons, code, act)\n",
    "\n",
    "display(image_for_code('if (a == 2) and ((b == 1) or (c==2)):'))"
   ]
  },
  {
   "cell_type": "code",
   "execution_count": 48,
   "metadata": {},
   "outputs": [],
   "source": [
    "code = 'if (a == 2) and ((b == 1) or (c==2)):'\n",
    "mask = '   ________     ____________________ '\n",
    "act = activations(flat_model, code)\n",
    "positive = [idx for idx, ch in enumerate(mask) if ch == '_']\n",
    "negative = [idx for idx, ch in enumerate(mask) if ch != '_']\n",
    "\n",
    "neurons = np.argsort(act[positive].sum(axis=0) - act[negative].sum(axis=0))[-5:]"
   ]
  },
  {
   "cell_type": "code",
   "execution_count": 49,
   "metadata": {},
   "outputs": [
    {
     "name": "stderr",
     "output_type": "stream",
     "text": [
      "/home/lq/anaconda2/envs/cookbook/lib/python3.6/site-packages/ipykernel_launcher.py:8: DeprecationWarning: `imresize` is deprecated!\n",
      "`imresize` is deprecated in SciPy 1.0.0, and will be removed in 1.2.0.\n",
      "Use ``skimage.transform.resize`` instead.\n",
      "  \n"
     ]
    },
    {
     "data": {
      "image/png": "[encoded data removed]",
      "text/plain": [
       "<IPython.core.display.Image object>"
      ]
     },
     "metadata": {},
     "output_type": "display_data"
    }
   ],
   "source": [
    "img = visualize_neurons(neurons, code, act)\n",
    "display(img)"
   ]
  },
  {
   "cell_type": "markdown",
   "metadata": {},
   "source": [
    "# 问答"
   ]
  },
  {
   "cell_type": "code",
   "execution_count": 50,
   "metadata": {},
   "outputs": [],
   "source": [
    "import re\n",
    "import os\n",
    "import keras.backend as K\n",
    "import numpy as np\n",
    "import pandas as pd\n",
    "from keras import layers, models, utils\n",
    "import json"
   ]
  },
  {
   "cell_type": "code",
   "execution_count": 51,
   "metadata": {},
   "outputs": [],
   "source": [
    "def reset_everything():\n",
    "    import tensorflow as tf\n",
    "    %reset -f in out dhist\n",
    "    tf.reset_default_graph()\n",
    "    K.set_session(tf.InteractiveSession())\n",
    "    \n",
    "# Constants for our networks.  We keep these deliberately small to reduce training time.\n",
    "VOCAB_SIZE = 250000\n",
    "EMBEDDING_SIZE = 100\n",
    "MAX_DOC_LEN = 128\n",
    "MIN_DOC_LEN = 12"
   ]
  },
  {
   "cell_type": "code",
   "execution_count": 58,
   "metadata": {},
   "outputs": [
    {
     "name": "stdout",
     "output_type": "stream",
     "text": [
      "/home/lq/.keras/datasets/travel.stackexchange.com.7z\n",
      "91000/1000000"
     ]
    },
    {
     "name": "stderr",
     "output_type": "stream",
     "text": [
      "IOPub data rate exceeded.\n",
      "The notebook server will temporarily stop sending output\n",
      "to the client in order to avoid crashing it.\n",
      "To change this limit, set the config variable\n",
      "`--NotebookApp.iopub_data_rate_limit`.\n",
      "\n",
      "Current values:\n",
      "NotebookApp.iopub_data_rate_limit=1000000.0 (bytes/sec)\n",
      "NotebookApp.rate_limit_window=3.0 (secs)\n",
      "\n"
     ]
    }
   ],
   "source": [
    "def extract_stackexchange(filename, limit=1000000):\n",
    "    json_file = filename + 'limit=%s.json' % limit\n",
    "\n",
    "    rows = []\n",
    "    for i, line in enumerate(os.popen('7z x -so \"%s\" Posts.xml' % filename)):\n",
    "        line = str(line)\n",
    "        if not line.startswith('  <row'):\n",
    "            continue\n",
    "            \n",
    "        if i % 1000 == 0:\n",
    "            print('\\r%05d/%05d' % (i, limit), end='', flush=True)\n",
    "\n",
    "        parts = line[6:-5].split('\"')\n",
    "        record = {}\n",
    "        for i in range(0, len(parts), 2):\n",
    "            k = parts[i].replace('=', '').strip()\n",
    "            v = parts[i+1].strip()\n",
    "            record[k] = v\n",
    "        rows.append(record)\n",
    "        \n",
    "        if len(rows) > limit:\n",
    "            break\n",
    "    \n",
    "    with open(json_file, 'w') as fout:\n",
    "        json.dump(rows, fout)\n",
    "    \n",
    "    return rows\n",
    "\n",
    "\n",
    "xml_7z = utils.get_file(\n",
    "    fname='travel.stackexchange.com.7z',\n",
    "    origin='https://ia800107.us.archive.org/27/items/stackexchange/travel.stackexchange.com.7z',\n",
    ")\n",
    "print(xml_7z)\n",
    "\n",
    "rows = extract_stackexchange(xml_7z)\n",
    "print(rows)"
   ]
  },
  {
   "cell_type": "markdown",
   "metadata": {},
   "source": [
    "## 数据探索"
   ]
  },
  {
   "cell_type": "code",
   "execution_count": 59,
   "metadata": {},
   "outputs": [
    {
     "data": {
      "text/html": [
       "<div>\n",
       "<style scoped>\n",
       "    .dataframe tbody tr th:only-of-type {\n",
       "        vertical-align: middle;\n",
       "    }\n",
       "\n",
       "    .dataframe tbody tr th {\n",
       "        vertical-align: top;\n",
       "    }\n",
       "\n",
       "    .dataframe thead th {\n",
       "        text-align: right;\n",
       "    }\n",
       "</style>\n",
       "<table border=\"1\" class=\"dataframe\">\n",
       "  <thead>\n",
       "    <tr style=\"text-align: right;\">\n",
       "      <th></th>\n",
       "      <th>AcceptedAnswerId</th>\n",
       "      <th>AnswerCount</th>\n",
       "      <th>Body</th>\n",
       "      <th>ClosedDate</th>\n",
       "      <th>CommentCount</th>\n",
       "      <th>CommunityOwnedDate</th>\n",
       "      <th>CreationDate</th>\n",
       "      <th>FavoriteCount</th>\n",
       "      <th>Id</th>\n",
       "      <th>LastActivityDate</th>\n",
       "      <th>...</th>\n",
       "      <th>LastEditorDisplayName</th>\n",
       "      <th>LastEditorUserId</th>\n",
       "      <th>OwnerDisplayName</th>\n",
       "      <th>OwnerUserId</th>\n",
       "      <th>ParentId</th>\n",
       "      <th>PostTypeId</th>\n",
       "      <th>Score</th>\n",
       "      <th>Tags</th>\n",
       "      <th>Title</th>\n",
       "      <th>ViewCount</th>\n",
       "    </tr>\n",
       "    <tr>\n",
       "      <th>Id</th>\n",
       "      <th></th>\n",
       "      <th></th>\n",
       "      <th></th>\n",
       "      <th></th>\n",
       "      <th></th>\n",
       "      <th></th>\n",
       "      <th></th>\n",
       "      <th></th>\n",
       "      <th></th>\n",
       "      <th></th>\n",
       "      <th></th>\n",
       "      <th></th>\n",
       "      <th></th>\n",
       "      <th></th>\n",
       "      <th></th>\n",
       "      <th></th>\n",
       "      <th></th>\n",
       "      <th></th>\n",
       "      <th></th>\n",
       "      <th></th>\n",
       "      <th></th>\n",
       "    </tr>\n",
       "  </thead>\n",
       "  <tbody>\n",
       "    <tr>\n",
       "      <th>1</th>\n",
       "      <td>393</td>\n",
       "      <td>4</td>\n",
       "      <td>&amp;lt;p&amp;gt;My fiancée and I are looking for a go...</td>\n",
       "      <td>2013-02-25T23:52:47.953</td>\n",
       "      <td>4</td>\n",
       "      <td>NaN</td>\n",
       "      <td>2011-06-21T20:19:34.730</td>\n",
       "      <td>NaN</td>\n",
       "      <td>1</td>\n",
       "      <td>2012-05-24T14:52:14.760</td>\n",
       "      <td>...</td>\n",
       "      <td>NaN</td>\n",
       "      <td>101</td>\n",
       "      <td>NaN</td>\n",
       "      <td>9</td>\n",
       "      <td>NaN</td>\n",
       "      <td>1</td>\n",
       "      <td>8</td>\n",
       "      <td>&amp;lt;caribbean&amp;gt;&amp;lt;cruising&amp;gt;&amp;lt;vacations...</td>\n",
       "      <td>What are some Caribbean cruises for October?</td>\n",
       "      <td>444.0</td>\n",
       "    </tr>\n",
       "    <tr>\n",
       "      <th>2</th>\n",
       "      <td>NaN</td>\n",
       "      <td>8</td>\n",
       "      <td>&amp;lt;p&amp;gt;This was one of our definition questi...</td>\n",
       "      <td>NaN</td>\n",
       "      <td>4</td>\n",
       "      <td>NaN</td>\n",
       "      <td>2011-06-21T20:22:33.760</td>\n",
       "      <td>5</td>\n",
       "      <td>2</td>\n",
       "      <td>2018-08-26T00:04:13.520</td>\n",
       "      <td>...</td>\n",
       "      <td>NaN</td>\n",
       "      <td>51577</td>\n",
       "      <td>NaN</td>\n",
       "      <td>13</td>\n",
       "      <td>NaN</td>\n",
       "      <td>1</td>\n",
       "      <td>36</td>\n",
       "      <td>&amp;lt;guides&amp;gt;&amp;lt;extreme-tourism&amp;gt;&amp;lt;amazo...</td>\n",
       "      <td>How can I find a guide that will take me safel...</td>\n",
       "      <td>1997.0</td>\n",
       "    </tr>\n",
       "    <tr>\n",
       "      <th>3</th>\n",
       "      <td>NaN</td>\n",
       "      <td>NaN</td>\n",
       "      <td>&amp;lt;p&amp;gt;One way would be to go through an Adv...</td>\n",
       "      <td>NaN</td>\n",
       "      <td>2</td>\n",
       "      <td>NaN</td>\n",
       "      <td>2011-06-21T20:24:28.080</td>\n",
       "      <td>NaN</td>\n",
       "      <td>3</td>\n",
       "      <td>2011-06-21T20:24:28.080</td>\n",
       "      <td>...</td>\n",
       "      <td>NaN</td>\n",
       "      <td>NaN</td>\n",
       "      <td>NaN</td>\n",
       "      <td>9</td>\n",
       "      <td>2</td>\n",
       "      <td>2</td>\n",
       "      <td>14</td>\n",
       "      <td></td>\n",
       "      <td></td>\n",
       "      <td>NaN</td>\n",
       "    </tr>\n",
       "    <tr>\n",
       "      <th>4</th>\n",
       "      <td>NaN</td>\n",
       "      <td>1</td>\n",
       "      <td>&amp;lt;p&amp;gt;Singapore Airlines has an all-busines...</td>\n",
       "      <td>NaN</td>\n",
       "      <td>1</td>\n",
       "      <td>NaN</td>\n",
       "      <td>2011-06-21T20:24:57.160</td>\n",
       "      <td>NaN</td>\n",
       "      <td>4</td>\n",
       "      <td>2013-01-09T09:55:22.743</td>\n",
       "      <td>...</td>\n",
       "      <td>NaN</td>\n",
       "      <td>693</td>\n",
       "      <td>NaN</td>\n",
       "      <td>24</td>\n",
       "      <td>NaN</td>\n",
       "      <td>1</td>\n",
       "      <td>8</td>\n",
       "      <td>&amp;lt;loyalty-programs&amp;gt;&amp;lt;routes&amp;gt;&amp;lt;ewr&amp;...</td>\n",
       "      <td>Does Singapore Airlines offer any reward seats...</td>\n",
       "      <td>253.0</td>\n",
       "    </tr>\n",
       "    <tr>\n",
       "      <th>5</th>\n",
       "      <td>770</td>\n",
       "      <td>5</td>\n",
       "      <td>&amp;lt;p&amp;gt;Another definition question that inte...</td>\n",
       "      <td>NaN</td>\n",
       "      <td>0</td>\n",
       "      <td>NaN</td>\n",
       "      <td>2011-06-21T20:25:56.787</td>\n",
       "      <td>2</td>\n",
       "      <td>5</td>\n",
       "      <td>2012-10-12T20:49:08.110</td>\n",
       "      <td>...</td>\n",
       "      <td>NaN</td>\n",
       "      <td>101</td>\n",
       "      <td>NaN</td>\n",
       "      <td>13</td>\n",
       "      <td>NaN</td>\n",
       "      <td>1</td>\n",
       "      <td>13</td>\n",
       "      <td>&amp;lt;romania&amp;gt;&amp;lt;transportation&amp;gt;</td>\n",
       "      <td>What is the easiest transportation to use thro...</td>\n",
       "      <td>421.0</td>\n",
       "    </tr>\n",
       "  </tbody>\n",
       "</table>\n",
       "<p>5 rows × 21 columns</p>\n",
       "</div>"
      ],
      "text/plain": [
       "   AcceptedAnswerId AnswerCount  \\\n",
       "Id                                \n",
       "1               393           4   \n",
       "2               NaN           8   \n",
       "3               NaN         NaN   \n",
       "4               NaN           1   \n",
       "5               770           5   \n",
       "\n",
       "                                                 Body  \\\n",
       "Id                                                      \n",
       "1   &lt;p&gt;My fiancée and I are looking for a go...   \n",
       "2   &lt;p&gt;This was one of our definition questi...   \n",
       "3   &lt;p&gt;One way would be to go through an Adv...   \n",
       "4   &lt;p&gt;Singapore Airlines has an all-busines...   \n",
       "5   &lt;p&gt;Another definition question that inte...   \n",
       "\n",
       "                 ClosedDate CommentCount CommunityOwnedDate  \\\n",
       "Id                                                            \n",
       "1   2013-02-25T23:52:47.953            4                NaN   \n",
       "2                       NaN            4                NaN   \n",
       "3                       NaN            2                NaN   \n",
       "4                       NaN            1                NaN   \n",
       "5                       NaN            0                NaN   \n",
       "\n",
       "               CreationDate FavoriteCount  Id         LastActivityDate  \\\n",
       "Id                                                                       \n",
       "1   2011-06-21T20:19:34.730           NaN   1  2012-05-24T14:52:14.760   \n",
       "2   2011-06-21T20:22:33.760             5   2  2018-08-26T00:04:13.520   \n",
       "3   2011-06-21T20:24:28.080           NaN   3  2011-06-21T20:24:28.080   \n",
       "4   2011-06-21T20:24:57.160           NaN   4  2013-01-09T09:55:22.743   \n",
       "5   2011-06-21T20:25:56.787             2   5  2012-10-12T20:49:08.110   \n",
       "\n",
       "      ...    LastEditorDisplayName LastEditorUserId OwnerDisplayName  \\\n",
       "Id    ...                                                              \n",
       "1     ...                      NaN              101              NaN   \n",
       "2     ...                      NaN            51577              NaN   \n",
       "3     ...                      NaN              NaN              NaN   \n",
       "4     ...                      NaN              693              NaN   \n",
       "5     ...                      NaN              101              NaN   \n",
       "\n",
       "   OwnerUserId ParentId PostTypeId  Score  \\\n",
       "Id                                          \n",
       "1            9      NaN          1      8   \n",
       "2           13      NaN          1     36   \n",
       "3            9        2          2     14   \n",
       "4           24      NaN          1      8   \n",
       "5           13      NaN          1     13   \n",
       "\n",
       "                                                 Tags  \\\n",
       "Id                                                      \n",
       "1   &lt;caribbean&gt;&lt;cruising&gt;&lt;vacations...   \n",
       "2   &lt;guides&gt;&lt;extreme-tourism&gt;&lt;amazo...   \n",
       "3                                                       \n",
       "4   &lt;loyalty-programs&gt;&lt;routes&gt;&lt;ewr&...   \n",
       "5               &lt;romania&gt;&lt;transportation&gt;   \n",
       "\n",
       "                                                Title ViewCount  \n",
       "Id                                                               \n",
       "1        What are some Caribbean cruises for October?     444.0  \n",
       "2   How can I find a guide that will take me safel...    1997.0  \n",
       "3                                                           NaN  \n",
       "4   Does Singapore Airlines offer any reward seats...     253.0  \n",
       "5   What is the easiest transportation to use thro...     421.0  \n",
       "\n",
       "[5 rows x 21 columns]"
      ]
     },
     "execution_count": 59,
     "metadata": {},
     "output_type": "execute_result"
    }
   ],
   "source": [
    "df = pd.DataFrame.from_records(rows)    \n",
    "df = df.set_index('Id', drop=False)\n",
    "df['Title'] = df['Title'].fillna('').astype('str')\n",
    "df['Tags'] = df['Tags'].fillna('').astype('str')\n",
    "df['Body'] = df['Body'].fillna('').astype('str')\n",
    "df['Id'] = df['Id'].astype('int')\n",
    "df['PostTypeId'] = df['PostTypeId'].astype('int')\n",
    "df['ViewCount'] = df['ViewCount'].astype('float')\n",
    "\n",
    "df.head()"
   ]
  },
  {
   "cell_type": "code",
   "execution_count": 60,
   "metadata": {},
   "outputs": [
    {
     "data": {
      "text/plain": [
       "['Do I need a US visa to transit (or layover) through an American airport?',\n",
       " 'How to get from Nice to Monaco by public transport?',\n",
       " 'Should my first trip be to the country which issued my Schengen Visa?',\n",
       " 'Can I use Google Maps traffic information to estimate driving time for a specific date/time?',\n",
       " 'Are aerosol cans allowed and safe, in checked luggage?',\n",
       " 'How to track my UK Visa Application Status?',\n",
       " \"When applying for an Indian Passport, how do I know if I'm in the ECR or non-ECR category?\",\n",
       " 'Are battery packs allowed in hand luggage?']"
      ]
     },
     "execution_count": 60,
     "metadata": {},
     "output_type": "execute_result"
    }
   ],
   "source": [
    "list(df[df['ViewCount'] > 250000]['Title'])"
   ]
  },
  {
   "cell_type": "code",
   "execution_count": 61,
   "metadata": {},
   "outputs": [],
   "source": [
    "from keras.preprocessing.text import Tokenizer\n",
    "from keras.preprocessing.sequence import pad_sequences\n",
    "\n",
    "tokenizer = Tokenizer(num_words=VOCAB_SIZE)\n",
    "tokenizer.fit_on_texts(df['Body'] + df['Title'])\n",
    "\n",
    "# Compute TF/IDF Values\n",
    "total_count = sum(tokenizer.word_counts.values())\n",
    "idf = { k: np.log(total_count/v) for (k,v) in tokenizer.word_counts.items() }"
   ]
  },
  {
   "cell_type": "code",
   "execution_count": 63,
   "metadata": {},
   "outputs": [],
   "source": [
    "# Download pre-trained word2vec embeddings\n",
    "\n",
    "import gensim\n",
    "\n",
    "glove_100d = utils.get_file(\n",
    "    fname='glove.6B.100d.txt',\n",
    "    origin='https://storage.googleapis.com/deep-learning-cookbook/glove.6B.100d.txt',\n",
    ")\n",
    "\n",
    "w2v_100d = glove_100d + '.w2v'\n",
    "from gensim.scripts.glove2word2vec import glove2word2vec\n",
    "glove2word2vec(glove_100d, w2v_100d)\n",
    "w2v_model = gensim.models.KeyedVectors.load_word2vec_format(w2v_100d)\n",
    "\n",
    "w2v_weights = np.zeros((VOCAB_SIZE, w2v_model.syn0.shape[1]))\n",
    "idf_weights = np.zeros((VOCAB_SIZE, 1))\n",
    "\n",
    "for k, v in tokenizer.word_index.items():\n",
    "    if v >= VOCAB_SIZE:\n",
    "        continue\n",
    "    \n",
    "    if k in w2v_model:\n",
    "        w2v_weights[v] = w2v_model[k]\n",
    "    \n",
    "    idf_weights[v] = idf[k]\n",
    "    \n",
    "del w2v_model"
   ]
  },
  {
   "cell_type": "code",
   "execution_count": 64,
   "metadata": {},
   "outputs": [],
   "source": [
    "df['title_tokens'] = tokenizer.texts_to_sequences(df['Title'])\n",
    "df['body_tokens'] = tokenizer.texts_to_sequences(df['Body'])"
   ]
  },
  {
   "cell_type": "code",
   "execution_count": 65,
   "metadata": {},
   "outputs": [],
   "source": [
    "import random\n",
    "\n",
    "# We can create a data generator that will randomly title and body tokens for questions.  \n",
    "# We'll use random text from other questions as a negative example when necessary.\n",
    "def data_generator(batch_size, negative_samples=1):\n",
    "    questions = df[df['PostTypeId'] == 1]\n",
    "    all_q_ids = list(questions.index)\n",
    "        \n",
    "    batch_x_a = []\n",
    "    batch_x_b = []\n",
    "    batch_y = []\n",
    "    \n",
    "    def _add(x_a, x_b, y):\n",
    "        batch_x_a.append(x_a[:MAX_DOC_LEN])\n",
    "        batch_x_b.append(x_b[:MAX_DOC_LEN])\n",
    "        batch_y.append(y)\n",
    "    \n",
    "    while True:\n",
    "        questions = questions.sample(frac=1.0)\n",
    "        \n",
    "        for i, q in questions.iterrows():\n",
    "            _add(q['title_tokens'], q['body_tokens'], 1)\n",
    "            \n",
    "            negative_q = random.sample(all_q_ids, negative_samples)\n",
    "            for nq_id in negative_q:\n",
    "                _add(q['title_tokens'], df.at[nq_id, 'body_tokens'], 0)            \n",
    "            \n",
    "            if len(batch_y) >= batch_size:\n",
    "                yield ({\n",
    "                    'title': pad_sequences(batch_x_a, maxlen=None),\n",
    "                    'body': pad_sequences(batch_x_b, maxlen=None),\n",
    "                }, np.asarray(batch_y))\n",
    "                \n",
    "                batch_x_a = []\n",
    "                batch_x_b = []\n",
    "                batch_y = []\n",
    "\n",
    "# dg = data_generator(1, 2)\n",
    "# next(dg)\n",
    "# next(dg)"
   ]
  },
  {
   "cell_type": "markdown",
   "metadata": {},
   "source": [
    "## 嵌入查询"
   ]
  },
  {
   "cell_type": "code",
   "execution_count": 66,
   "metadata": {},
   "outputs": [],
   "source": [
    "questions = df[df['PostTypeId'] == 1]['Title'].reset_index(drop=True)\n",
    "question_tokens = pad_sequences(tokenizer.texts_to_sequences(questions))\n",
    "\n",
    "class EmbeddingWrapper(object):\n",
    "    def __init__(self, model):\n",
    "        self._r = questions\n",
    "        self._i = {i:s for (i, s) in enumerate(questions)}\n",
    "        self._w = model.predict({'title': question_tokens}, verbose=1, batch_size=1024)\n",
    "        self._model = model\n",
    "        self._norm = np.sqrt(np.sum(self._w * self._w + 1e-5, axis=1))\n",
    "\n",
    "    def nearest(self, sentence, n=10):\n",
    "        x = tokenizer.texts_to_sequences([sentence])\n",
    "        if len(x[0]) < MIN_DOC_LEN:\n",
    "            x[0] += [0] * (MIN_DOC_LEN - len(x))\n",
    "        e = self._model.predict(np.asarray(x))[0]\n",
    "        norm_e = np.sqrt(np.dot(e, e))\n",
    "        dist = np.dot(self._w, e) / (norm_e * self._norm)\n",
    "\n",
    "        top_idx = np.argsort(dist)[-n:]\n",
    "        return pd.DataFrame.from_records([\n",
    "            {'question': self._r[i], 'dist': float(dist[i])}\n",
    "            for i in top_idx\n",
    "        ])"
   ]
  },
  {
   "cell_type": "code",
   "execution_count": 67,
   "metadata": {},
   "outputs": [],
   "source": [
    "# Our first model will just sum up the embeddings of each token.\n",
    "# The similarity between documents will be the dot product of the final embedding.\n",
    "\n",
    "import tensorflow as tf\n",
    "\n",
    "def sum_model(embedding_size, vocab_size, embedding_weights=None, idf_weights=None):\n",
    "    title = layers.Input(shape=(None,), dtype='int32', name='title')\n",
    "    body = layers.Input(shape=(None,), dtype='int32', name='body')\n",
    "\n",
    "    def make_embedding(name):\n",
    "        if embedding_weights is not None:\n",
    "            embedding = layers.Embedding(mask_zero=True, input_dim=vocab_size, output_dim=w2v_weights.shape[1], \n",
    "                                         weights=[w2v_weights], trainable=False, \n",
    "                                         name='%s/embedding' % name)\n",
    "        else:\n",
    "            embedding = layers.Embedding(mask_zero=True, input_dim=vocab_size, output_dim=embedding_size,\n",
    "                                        name='%s/embedding' % name)\n",
    "\n",
    "        if idf_weights is not None:\n",
    "            idf = layers.Embedding(mask_zero=True, input_dim=vocab_size, output_dim=1, \n",
    "                                   weights=[idf_weights], trainable=False,\n",
    "                                   name='%s/idf' % name)\n",
    "        else:\n",
    "            idf = layers.Embedding(mask_zero=True, input_dim=vocab_size, output_dim=1,\n",
    "                                   name='%s/idf' % name)\n",
    "            \n",
    "        return embedding, idf\n",
    "    \n",
    "    embedding_a, idf_a = make_embedding('a')\n",
    "    embedding_b, idf_b = embedding_a, idf_a\n",
    "#     embedding_b, idf_b = make_embedding('b')\n",
    "\n",
    "    mask = layers.Masking(mask_value=0)\n",
    "    def _combine_and_sum(args):\n",
    "        [embedding, idf] = args\n",
    "        return K.sum(embedding * K.abs(idf), axis=1)\n",
    "\n",
    "    sum_layer = layers.Lambda(_combine_and_sum, name='combine_and_sum')\n",
    "\n",
    "    sum_a = sum_layer([mask(embedding_a(title)), idf_a(title)])\n",
    "    sum_b = sum_layer([mask(embedding_b(body)), idf_b(body)])\n",
    "\n",
    "    sim = layers.dot([sum_a, sum_b], axes=1, normalize=True)\n",
    "    sim_model = models.Model(\n",
    "        inputs=[title, body],\n",
    "        outputs=[sim],\n",
    "    )\n",
    "    sim_model.compile(loss='binary_crossentropy', optimizer='nadam', metrics=['accuracy'])\n",
    "    sim_model.summary()\n",
    "\n",
    "    embedding_model = models.Model(\n",
    "        inputs=[title],\n",
    "        outputs=[sum_a]\n",
    "    )\n",
    "    return sim_model, embedding_model"
   ]
  },
  {
   "cell_type": "code",
   "execution_count": 68,
   "metadata": {},
   "outputs": [
    {
     "name": "stdout",
     "output_type": "stream",
     "text": [
      "__________________________________________________________________________________________________\n",
      "Layer (type)                    Output Shape         Param #     Connected to                     \n",
      "==================================================================================================\n",
      "title (InputLayer)              (None, None)         0                                            \n",
      "__________________________________________________________________________________________________\n",
      "body (InputLayer)               (None, None)         0                                            \n",
      "__________________________________________________________________________________________________\n",
      "a/embedding (Embedding)         (None, None, 100)    25000000    title[0][0]                      \n",
      "                                                                 body[0][0]                       \n",
      "__________________________________________________________________________________________________\n",
      "masking_1 (Masking)             (None, None, 100)    0           a/embedding[0][0]                \n",
      "                                                                 a/embedding[1][0]                \n",
      "__________________________________________________________________________________________________\n",
      "a/idf (Embedding)               (None, None, 1)      250000      title[0][0]                      \n",
      "                                                                 body[0][0]                       \n",
      "__________________________________________________________________________________________________\n",
      "combine_and_sum (Lambda)        (None, 100)          0           masking_1[0][0]                  \n",
      "                                                                 a/idf[0][0]                      \n",
      "                                                                 masking_1[1][0]                  \n",
      "                                                                 a/idf[1][0]                      \n",
      "__________________________________________________________________________________________________\n",
      "dot_1 (Dot)                     (None, 1)            0           combine_and_sum[0][0]            \n",
      "                                                                 combine_and_sum[1][0]            \n",
      "==================================================================================================\n",
      "Total params: 25,250,000\n",
      "Trainable params: 0\n",
      "Non-trainable params: 25,250,000\n",
      "__________________________________________________________________________________________________\n",
      "4096/4096 [==============================] - 1s 164us/step\n"
     ]
    },
    {
     "data": {
      "text/plain": [
       "[0.96687109768390656, 0.510498046875]"
      ]
     },
     "execution_count": 68,
     "metadata": {},
     "output_type": "execute_result"
    }
   ],
   "source": [
    "# Try using our model with pretrained weights from word2vec\n",
    "\n",
    "sum_model_precomputed, sum_embedding_precomputed = sum_model(\n",
    "    embedding_size=EMBEDDING_SIZE, vocab_size=VOCAB_SIZE,\n",
    "    embedding_weights=w2v_weights, idf_weights=idf_weights\n",
    ")\n",
    "\n",
    "x, y = next(data_generator(batch_size=4096))\n",
    "sum_model_precomputed.evaluate(x, y)"
   ]
  },
  {
   "cell_type": "code",
   "execution_count": 69,
   "metadata": {},
   "outputs": [
    {
     "name": "stdout",
     "output_type": "stream",
     "text": [
      "33413/33413 [==============================] - 0s 6us/step\n",
      "Roundtrip ticket versus one way\n",
      "Shinkansen from Kyoto to Hiroshima\n",
      "Bus tour of Germany\n"
     ]
    },
    {
     "data": {
      "text/html": [
       "<div>\n",
       "<style scoped>\n",
       "    .dataframe tbody tr th:only-of-type {\n",
       "        vertical-align: middle;\n",
       "    }\n",
       "\n",
       "    .dataframe tbody tr th {\n",
       "        vertical-align: top;\n",
       "    }\n",
       "\n",
       "    .dataframe thead th {\n",
       "        text-align: right;\n",
       "    }\n",
       "</style>\n",
       "<table border=\"1\" class=\"dataframe\">\n",
       "  <thead>\n",
       "    <tr style=\"text-align: right;\">\n",
       "      <th></th>\n",
       "      <th>dist</th>\n",
       "      <th>question</th>\n",
       "      <th>result</th>\n",
       "    </tr>\n",
       "  </thead>\n",
       "  <tbody>\n",
       "    <tr>\n",
       "      <th>0</th>\n",
       "      <td>0.811748</td>\n",
       "      <td>Roundtrip ticket versus one way</td>\n",
       "      <td>Buy a roundtrip ticket for two people, but second person only travels on return - is that possible</td>\n",
       "    </tr>\n",
       "    <tr>\n",
       "      <th>1</th>\n",
       "      <td>0.813634</td>\n",
       "      <td>Roundtrip ticket versus one way</td>\n",
       "      <td>How to pick the (phony) return destination for a roundtrip ticket intended as a one-way?</td>\n",
       "    </tr>\n",
       "    <tr>\n",
       "      <th>2</th>\n",
       "      <td>0.815370</td>\n",
       "      <td>Roundtrip ticket versus one way</td>\n",
       "      <td>What is cheapest way to fly around SE Asia in a circuit - hub with roundtrip tickets or sequence...</td>\n",
       "    </tr>\n",
       "    <tr>\n",
       "      <th>3</th>\n",
       "      <td>0.826476</td>\n",
       "      <td>Roundtrip ticket versus one way</td>\n",
       "      <td>The penalty for changing an airline ticket is per leg or per ticket?</td>\n",
       "    </tr>\n",
       "    <tr>\n",
       "      <th>0</th>\n",
       "      <td>0.753331</td>\n",
       "      <td>Shinkansen from Kyoto to Hiroshima</td>\n",
       "      <td>Culture Day in Osaka/Kyoto</td>\n",
       "    </tr>\n",
       "    <tr>\n",
       "      <th>1</th>\n",
       "      <td>0.756834</td>\n",
       "      <td>Shinkansen from Kyoto to Hiroshima</td>\n",
       "      <td>Where does the Tokaido Shinkansen stop in Tokyo?</td>\n",
       "    </tr>\n",
       "    <tr>\n",
       "      <th>2</th>\n",
       "      <td>0.775567</td>\n",
       "      <td>Shinkansen from Kyoto to Hiroshima</td>\n",
       "      <td>Best connection Tokyo - Kyoto</td>\n",
       "    </tr>\n",
       "    <tr>\n",
       "      <th>3</th>\n",
       "      <td>0.812919</td>\n",
       "      <td>Shinkansen from Kyoto to Hiroshima</td>\n",
       "      <td>Travel from Tokyo to Sendai with Shinkansen</td>\n",
       "    </tr>\n",
       "    <tr>\n",
       "      <th>0</th>\n",
       "      <td>0.891266</td>\n",
       "      <td>Bus tour of Germany</td>\n",
       "      <td>Trip in the south of Germany</td>\n",
       "    </tr>\n",
       "    <tr>\n",
       "      <th>1</th>\n",
       "      <td>0.895140</td>\n",
       "      <td>Bus tour of Germany</td>\n",
       "      <td>Travelling outside of Germany on a German Working Holiday visa (Australian)</td>\n",
       "    </tr>\n",
       "    <tr>\n",
       "      <th>2</th>\n",
       "      <td>0.898387</td>\n",
       "      <td>Bus tour of Germany</td>\n",
       "      <td>Round trip in Netherlands, Belgium and Germany with a car and a tent</td>\n",
       "    </tr>\n",
       "    <tr>\n",
       "      <th>3</th>\n",
       "      <td>0.902456</td>\n",
       "      <td>Bus tour of Germany</td>\n",
       "      <td>Transport for Tour of Southern Spain</td>\n",
       "    </tr>\n",
       "  </tbody>\n",
       "</table>\n",
       "</div>"
      ],
      "text/plain": [
       "       dist                            question  \\\n",
       "0  0.811748     Roundtrip ticket versus one way   \n",
       "1  0.813634     Roundtrip ticket versus one way   \n",
       "2  0.815370     Roundtrip ticket versus one way   \n",
       "3  0.826476     Roundtrip ticket versus one way   \n",
       "0  0.753331  Shinkansen from Kyoto to Hiroshima   \n",
       "1  0.756834  Shinkansen from Kyoto to Hiroshima   \n",
       "2  0.775567  Shinkansen from Kyoto to Hiroshima   \n",
       "3  0.812919  Shinkansen from Kyoto to Hiroshima   \n",
       "0  0.891266                 Bus tour of Germany   \n",
       "1  0.895140                 Bus tour of Germany   \n",
       "2  0.898387                 Bus tour of Germany   \n",
       "3  0.902456                 Bus tour of Germany   \n",
       "\n",
       "                                                                                                result  \n",
       "0   Buy a roundtrip ticket for two people, but second person only travels on return - is that possible  \n",
       "1             How to pick the (phony) return destination for a roundtrip ticket intended as a one-way?  \n",
       "2  What is cheapest way to fly around SE Asia in a circuit - hub with roundtrip tickets or sequence...  \n",
       "3                                 The penalty for changing an airline ticket is per leg or per ticket?  \n",
       "0                                                                           Culture Day in Osaka/Kyoto  \n",
       "1                                                     Where does the Tokaido Shinkansen stop in Tokyo?  \n",
       "2                                                                        Best connection Tokyo - Kyoto  \n",
       "3                                                          Travel from Tokyo to Sendai with Shinkansen  \n",
       "0                                                                         Trip in the south of Germany  \n",
       "1                          Travelling outside of Germany on a German Working Holiday visa (Australian)  \n",
       "2                                 Round trip in Netherlands, Belgium and Germany with a car and a tent  \n",
       "3                                                                 Transport for Tour of Southern Spain  "
      ]
     },
     "execution_count": 69,
     "metadata": {},
     "output_type": "execute_result"
    }
   ],
   "source": [
    "SAMPLE_QUESTIONS = [\n",
    "    'Roundtrip ticket versus one way',\n",
    "    'Shinkansen from Kyoto to Hiroshima',\n",
    "    'Bus tour of Germany',\n",
    "]\n",
    "\n",
    "def evaluate_sample(lookup):\n",
    "    pd.set_option('display.max_colwidth', 100)\n",
    "    results = []\n",
    "    for q in SAMPLE_QUESTIONS:\n",
    "        print(q)\n",
    "        q_res = lookup.nearest(q, n=4)\n",
    "        q_res['result'] = q_res['question']\n",
    "        q_res['question'] = q\n",
    "        results.append(q_res)\n",
    "\n",
    "    return pd.concat(results)\n",
    "\n",
    "lookup = EmbeddingWrapper(model=sum_embedding_precomputed)\n",
    "evaluate_sample(lookup)"
   ]
  },
  {
   "cell_type": "markdown",
   "metadata": {},
   "source": [
    "## 训练自己的模型"
   ]
  },
  {
   "cell_type": "code",
   "execution_count": 70,
   "metadata": {},
   "outputs": [
    {
     "name": "stdout",
     "output_type": "stream",
     "text": [
      "__________________________________________________________________________________________________\n",
      "Layer (type)                    Output Shape         Param #     Connected to                     \n",
      "==================================================================================================\n",
      "title (InputLayer)              (None, None)         0                                            \n",
      "__________________________________________________________________________________________________\n",
      "body (InputLayer)               (None, None)         0                                            \n",
      "__________________________________________________________________________________________________\n",
      "a/embedding (Embedding)         (None, None, 100)    25000000    title[0][0]                      \n",
      "                                                                 body[0][0]                       \n",
      "__________________________________________________________________________________________________\n",
      "masking_2 (Masking)             (None, None, 100)    0           a/embedding[0][0]                \n",
      "                                                                 a/embedding[1][0]                \n",
      "__________________________________________________________________________________________________\n",
      "a/idf (Embedding)               (None, None, 1)      250000      title[0][0]                      \n",
      "                                                                 body[0][0]                       \n",
      "__________________________________________________________________________________________________\n",
      "combine_and_sum (Lambda)        (None, 100)          0           masking_2[0][0]                  \n",
      "                                                                 a/idf[0][0]                      \n",
      "                                                                 masking_2[1][0]                  \n",
      "                                                                 a/idf[1][0]                      \n",
      "__________________________________________________________________________________________________\n",
      "dot_2 (Dot)                     (None, 1)            0           combine_and_sum[0][0]            \n",
      "                                                                 combine_and_sum[1][0]            \n",
      "==================================================================================================\n",
      "Total params: 25,250,000\n",
      "Trainable params: 25,250,000\n",
      "Non-trainable params: 0\n",
      "__________________________________________________________________________________________________\n",
      "Epoch 1/10\n",
      "1000/1000 [==============================] - 59s 59ms/step - loss: 0.2677 - acc: 0.9195\n",
      "Epoch 2/10\n",
      "1000/1000 [==============================] - 59s 59ms/step - loss: 0.1781 - acc: 0.9607\n",
      "Epoch 3/10\n",
      "1000/1000 [==============================] - 59s 59ms/step - loss: 0.1270 - acc: 0.9806\n",
      "Epoch 4/10\n",
      "1000/1000 [==============================] - 59s 59ms/step - loss: 0.1109 - acc: 0.9852\n",
      "Epoch 5/10\n",
      "1000/1000 [==============================] - 59s 59ms/step - loss: 0.1027 - acc: 0.9866\n",
      "Epoch 6/10\n",
      "1000/1000 [==============================] - 59s 59ms/step - loss: 0.0939 - acc: 0.9882\n",
      "Epoch 7/10\n",
      "1000/1000 [==============================] - 59s 59ms/step - loss: 0.0890 - acc: 0.9890\n",
      "Epoch 8/10\n",
      "1000/1000 [==============================] - 59s 59ms/step - loss: 0.0853 - acc: 0.9897\n",
      "Epoch 9/10\n",
      "1000/1000 [==============================] - 59s 59ms/step - loss: 0.0808 - acc: 0.9911\n",
      "Epoch 10/10\n",
      "1000/1000 [==============================] - 59s 59ms/step - loss: 0.0782 - acc: 0.9912\n",
      "33413/33413 [==============================] - 0s 7us/step\n",
      "Roundtrip ticket versus one way\n",
      "Shinkansen from Kyoto to Hiroshima\n",
      "Bus tour of Germany\n"
     ]
    },
    {
     "data": {
      "text/html": [
       "<div>\n",
       "<style scoped>\n",
       "    .dataframe tbody tr th:only-of-type {\n",
       "        vertical-align: middle;\n",
       "    }\n",
       "\n",
       "    .dataframe tbody tr th {\n",
       "        vertical-align: top;\n",
       "    }\n",
       "\n",
       "    .dataframe thead th {\n",
       "        text-align: right;\n",
       "    }\n",
       "</style>\n",
       "<table border=\"1\" class=\"dataframe\">\n",
       "  <thead>\n",
       "    <tr style=\"text-align: right;\">\n",
       "      <th></th>\n",
       "      <th>dist</th>\n",
       "      <th>question</th>\n",
       "      <th>result</th>\n",
       "    </tr>\n",
       "  </thead>\n",
       "  <tbody>\n",
       "    <tr>\n",
       "      <th>0</th>\n",
       "      <td>0.764541</td>\n",
       "      <td>Roundtrip ticket versus one way</td>\n",
       "      <td>book return ticket with additional traveller on return ticket</td>\n",
       "    </tr>\n",
       "    <tr>\n",
       "      <th>1</th>\n",
       "      <td>0.776821</td>\n",
       "      <td>Roundtrip ticket versus one way</td>\n",
       "      <td>Why are one-way plane tickets more expensive than return tickets?</td>\n",
       "    </tr>\n",
       "    <tr>\n",
       "      <th>2</th>\n",
       "      <td>0.780254</td>\n",
       "      <td>Roundtrip ticket versus one way</td>\n",
       "      <td>How to get return prices for a one way ticket?</td>\n",
       "    </tr>\n",
       "    <tr>\n",
       "      <th>3</th>\n",
       "      <td>0.862359</td>\n",
       "      <td>Roundtrip ticket versus one way</td>\n",
       "      <td>Buy a roundtrip ticket for two people, but second person only travels on return - is that possible</td>\n",
       "    </tr>\n",
       "    <tr>\n",
       "      <th>0</th>\n",
       "      <td>0.959117</td>\n",
       "      <td>Shinkansen from Kyoto to Hiroshima</td>\n",
       "      <td>Hokkaido night trains after Shinkansen introduction</td>\n",
       "    </tr>\n",
       "    <tr>\n",
       "      <th>1</th>\n",
       "      <td>0.962810</td>\n",
       "      <td>Shinkansen from Kyoto to Hiroshima</td>\n",
       "      <td>Can I buy Shinkansen tickets that allow onward travel on JR regional trains?</td>\n",
       "    </tr>\n",
       "    <tr>\n",
       "      <th>2</th>\n",
       "      <td>0.967823</td>\n",
       "      <td>Shinkansen from Kyoto to Hiroshima</td>\n",
       "      <td>Can I converse with Japanese travellers on the Shinkansen or is it rude?</td>\n",
       "    </tr>\n",
       "    <tr>\n",
       "      <th>3</th>\n",
       "      <td>0.969272</td>\n",
       "      <td>Shinkansen from Kyoto to Hiroshima</td>\n",
       "      <td>What are my options for reserving JR Shinkansen tickets in advance over the new year period?</td>\n",
       "    </tr>\n",
       "    <tr>\n",
       "      <th>0</th>\n",
       "      <td>0.682981</td>\n",
       "      <td>Bus tour of Germany</td>\n",
       "      <td>Website showing cheap flight offers for Germany</td>\n",
       "    </tr>\n",
       "    <tr>\n",
       "      <th>1</th>\n",
       "      <td>0.684278</td>\n",
       "      <td>Bus tour of Germany</td>\n",
       "      <td>Trip in the south of Germany</td>\n",
       "    </tr>\n",
       "    <tr>\n",
       "      <th>2</th>\n",
       "      <td>0.710817</td>\n",
       "      <td>Bus tour of Germany</td>\n",
       "      <td>Availability of public transportation in Germany and Austria on December 31</td>\n",
       "    </tr>\n",
       "    <tr>\n",
       "      <th>3</th>\n",
       "      <td>0.790249</td>\n",
       "      <td>Bus tour of Germany</td>\n",
       "      <td>Searching for internal bus connections in Germany</td>\n",
       "    </tr>\n",
       "  </tbody>\n",
       "</table>\n",
       "</div>"
      ],
      "text/plain": [
       "       dist                            question  \\\n",
       "0  0.764541     Roundtrip ticket versus one way   \n",
       "1  0.776821     Roundtrip ticket versus one way   \n",
       "2  0.780254     Roundtrip ticket versus one way   \n",
       "3  0.862359     Roundtrip ticket versus one way   \n",
       "0  0.959117  Shinkansen from Kyoto to Hiroshima   \n",
       "1  0.962810  Shinkansen from Kyoto to Hiroshima   \n",
       "2  0.967823  Shinkansen from Kyoto to Hiroshima   \n",
       "3  0.969272  Shinkansen from Kyoto to Hiroshima   \n",
       "0  0.682981                 Bus tour of Germany   \n",
       "1  0.684278                 Bus tour of Germany   \n",
       "2  0.710817                 Bus tour of Germany   \n",
       "3  0.790249                 Bus tour of Germany   \n",
       "\n",
       "                                                                                               result  \n",
       "0                                       book return ticket with additional traveller on return ticket  \n",
       "1                                   Why are one-way plane tickets more expensive than return tickets?  \n",
       "2                                                      How to get return prices for a one way ticket?  \n",
       "3  Buy a roundtrip ticket for two people, but second person only travels on return - is that possible  \n",
       "0                                                 Hokkaido night trains after Shinkansen introduction  \n",
       "1                        Can I buy Shinkansen tickets that allow onward travel on JR regional trains?  \n",
       "2                            Can I converse with Japanese travellers on the Shinkansen or is it rude?  \n",
       "3        What are my options for reserving JR Shinkansen tickets in advance over the new year period?  \n",
       "0                                                     Website showing cheap flight offers for Germany  \n",
       "1                                                                        Trip in the south of Germany  \n",
       "2                         Availability of public transportation in Germany and Austria on December 31  \n",
       "3                                                   Searching for internal bus connections in Germany  "
      ]
     },
     "execution_count": 70,
     "metadata": {},
     "output_type": "execute_result"
    }
   ],
   "source": [
    "sum_model_trained, sum_embedding_trained = sum_model(\n",
    "    embedding_size=EMBEDDING_SIZE, vocab_size=VOCAB_SIZE, \n",
    "    embedding_weights=None,\n",
    "    idf_weights=None\n",
    ")\n",
    "sum_model_trained.fit_generator(\n",
    "    data_generator(batch_size=128),\n",
    "    epochs=10,\n",
    "    steps_per_epoch=1000\n",
    ")\n",
    "lookup = EmbeddingWrapper(model=sum_embedding_trained)\n",
    "evaluate_sample(lookup)"
   ]
  },
  {
   "cell_type": "markdown",
   "metadata": {},
   "source": [
    "### CNN"
   ]
  },
  {
   "cell_type": "code",
   "execution_count": 71,
   "metadata": {},
   "outputs": [],
   "source": [
    "def cnn_model(embedding_size, vocab_size):\n",
    "    title = layers.Input(shape=(None,), dtype='int32', name='title')\n",
    "    body = layers.Input(shape=(None,), dtype='int32', name='body')\n",
    "\n",
    "    embedding = layers.Embedding(\n",
    "        mask_zero=False,\n",
    "        input_dim=vocab_size,\n",
    "        output_dim=embedding_size,\n",
    "    )\n",
    "\n",
    "\n",
    "    def _combine_sum(v):\n",
    "        return K.sum(v, axis=1)\n",
    "\n",
    "    cnn_1 = layers.Convolution1D(256, 3)\n",
    "    cnn_2 = layers.Convolution1D(256, 3)\n",
    "    cnn_3 = layers.Convolution1D(256, 3)\n",
    "    \n",
    "    global_pool = layers.GlobalMaxPooling1D()\n",
    "    local_pool = layers.MaxPooling1D(strides=2, pool_size=3)\n",
    "\n",
    "    def forward(input):\n",
    "        embed = embedding(input)\n",
    "        return global_pool(\n",
    "            cnn_2(local_pool(cnn_1(embed))))\n",
    "\n",
    "    sum_a = forward(title)\n",
    "    sum_b = forward(body)\n",
    "\n",
    "    sim = layers.dot([sum_a, sum_b], axes=1, normalize=False)\n",
    "    sim_model = models.Model(\n",
    "        inputs=[title, body],\n",
    "        outputs=[sim],\n",
    "    )\n",
    "    sim_model.compile(loss='binary_crossentropy', optimizer='rmsprop', metrics=['accuracy'])\n",
    "\n",
    "    embedding_model = models.Model(\n",
    "        inputs=[title],\n",
    "        outputs=[sum_a]\n",
    "    )\n",
    "    return sim_model, embedding_model"
   ]
  },
  {
   "cell_type": "code",
   "execution_count": 72,
   "metadata": {},
   "outputs": [
    {
     "name": "stdout",
     "output_type": "stream",
     "text": [
      "__________________________________________________________________________________________________\n",
      "Layer (type)                    Output Shape         Param #     Connected to                     \n",
      "==================================================================================================\n",
      "title (InputLayer)              (None, None)         0                                            \n",
      "__________________________________________________________________________________________________\n",
      "body (InputLayer)               (None, None)         0                                            \n",
      "__________________________________________________________________________________________________\n",
      "embedding_1 (Embedding)         (None, None, 25)     6250000     title[0][0]                      \n",
      "                                                                 body[0][0]                       \n",
      "__________________________________________________________________________________________________\n",
      "conv1d_1 (Conv1D)               (None, None, 256)    19456       embedding_1[0][0]                \n",
      "                                                                 embedding_1[1][0]                \n",
      "__________________________________________________________________________________________________\n",
      "max_pooling1d_1 (MaxPooling1D)  (None, None, 256)    0           conv1d_1[0][0]                   \n",
      "                                                                 conv1d_1[1][0]                   \n",
      "__________________________________________________________________________________________________\n",
      "conv1d_2 (Conv1D)               (None, None, 256)    196864      max_pooling1d_1[0][0]            \n",
      "                                                                 max_pooling1d_1[1][0]            \n",
      "__________________________________________________________________________________________________\n",
      "global_max_pooling1d_1 (GlobalM (None, 256)          0           conv1d_2[0][0]                   \n",
      "                                                                 conv1d_2[1][0]                   \n",
      "__________________________________________________________________________________________________\n",
      "dot_3 (Dot)                     (None, 1)            0           global_max_pooling1d_1[0][0]     \n",
      "                                                                 global_max_pooling1d_1[1][0]     \n",
      "==================================================================================================\n",
      "Total params: 6,466,320\n",
      "Trainable params: 6,466,320\n",
      "Non-trainable params: 0\n",
      "__________________________________________________________________________________________________\n",
      "Epoch 1/10\n",
      "1000/1000 [==============================] - 34s 34ms/step - loss: 0.6369 - acc: 0.6449\n",
      "Epoch 2/10\n",
      "1000/1000 [==============================] - 29s 29ms/step - loss: 0.5647 - acc: 0.7637\n",
      "Epoch 3/10\n",
      "1000/1000 [==============================] - 29s 29ms/step - loss: 0.5235 - acc: 0.7886\n",
      "Epoch 4/10\n",
      "1000/1000 [==============================] - 29s 29ms/step - loss: 0.4982 - acc: 0.7892\n",
      "Epoch 5/10\n",
      "1000/1000 [==============================] - 29s 29ms/step - loss: 0.5147 - acc: 0.7619\n",
      "Epoch 6/10\n",
      "1000/1000 [==============================] - 29s 29ms/step - loss: 0.5044 - acc: 0.7312\n",
      "Epoch 7/10\n",
      "1000/1000 [==============================] - 29s 29ms/step - loss: 0.5204 - acc: 0.7072\n",
      "Epoch 8/10\n",
      "1000/1000 [==============================] - 29s 29ms/step - loss: 0.5563 - acc: 0.6777\n",
      "Epoch 9/10\n",
      "1000/1000 [==============================] - 29s 29ms/step - loss: 0.5107 - acc: 0.6190\n",
      "Epoch 10/10\n",
      "1000/1000 [==============================] - 29s 29ms/step - loss: 0.5056 - acc: 0.6037\n"
     ]
    },
    {
     "data": {
      "text/plain": [
       "<keras.callbacks.History at 0x7fef87b3aa90>"
      ]
     },
     "execution_count": 72,
     "metadata": {},
     "output_type": "execute_result"
    }
   ],
   "source": [
    "cnn, cnn_embedding = cnn_model(embedding_size=25, vocab_size=VOCAB_SIZE)\n",
    "cnn.summary()\n",
    "cnn.fit_generator(\n",
    "    data_generator(batch_size=128),\n",
    "    epochs=10,\n",
    "    steps_per_epoch=1000,\n",
    ")"
   ]
  },
  {
   "cell_type": "code",
   "execution_count": 73,
   "metadata": {},
   "outputs": [
    {
     "name": "stdout",
     "output_type": "stream",
     "text": [
      "33413/33413 [==============================] - 1s 16us/step\n",
      "Roundtrip ticket versus one way\n",
      "Shinkansen from Kyoto to Hiroshima\n",
      "Bus tour of Germany\n"
     ]
    },
    {
     "data": {
      "text/html": [
       "<div>\n",
       "<style scoped>\n",
       "    .dataframe tbody tr th:only-of-type {\n",
       "        vertical-align: middle;\n",
       "    }\n",
       "\n",
       "    .dataframe tbody tr th {\n",
       "        vertical-align: top;\n",
       "    }\n",
       "\n",
       "    .dataframe thead th {\n",
       "        text-align: right;\n",
       "    }\n",
       "</style>\n",
       "<table border=\"1\" class=\"dataframe\">\n",
       "  <thead>\n",
       "    <tr style=\"text-align: right;\">\n",
       "      <th></th>\n",
       "      <th>dist</th>\n",
       "      <th>question</th>\n",
       "      <th>result</th>\n",
       "    </tr>\n",
       "  </thead>\n",
       "  <tbody>\n",
       "    <tr>\n",
       "      <th>0</th>\n",
       "      <td>0.987472</td>\n",
       "      <td>Roundtrip ticket versus one way</td>\n",
       "      <td>Unmatching Barcode</td>\n",
       "    </tr>\n",
       "    <tr>\n",
       "      <th>1</th>\n",
       "      <td>0.987487</td>\n",
       "      <td>Roundtrip ticket versus one way</td>\n",
       "      <td>Warrants and travel</td>\n",
       "    </tr>\n",
       "    <tr>\n",
       "      <th>2</th>\n",
       "      <td>0.987875</td>\n",
       "      <td>Roundtrip ticket versus one way</td>\n",
       "      <td>Mugging 'Etiquette'?</td>\n",
       "    </tr>\n",
       "    <tr>\n",
       "      <th>3</th>\n",
       "      <td>0.991276</td>\n",
       "      <td>Roundtrip ticket versus one way</td>\n",
       "      <td>Tegelbergbahn Tickets</td>\n",
       "    </tr>\n",
       "    <tr>\n",
       "      <th>0</th>\n",
       "      <td>0.994949</td>\n",
       "      <td>Shinkansen from Kyoto to Hiroshima</td>\n",
       "      <td>Unmatching Barcode</td>\n",
       "    </tr>\n",
       "    <tr>\n",
       "      <th>1</th>\n",
       "      <td>0.995584</td>\n",
       "      <td>Shinkansen from Kyoto to Hiroshima</td>\n",
       "      <td>Marseille to Bologna</td>\n",
       "    </tr>\n",
       "    <tr>\n",
       "      <th>2</th>\n",
       "      <td>0.995852</td>\n",
       "      <td>Shinkansen from Kyoto to Hiroshima</td>\n",
       "      <td>Mugging 'Etiquette'?</td>\n",
       "    </tr>\n",
       "    <tr>\n",
       "      <th>3</th>\n",
       "      <td>0.998736</td>\n",
       "      <td>Shinkansen from Kyoto to Hiroshima</td>\n",
       "      <td>Tegelbergbahn Tickets</td>\n",
       "    </tr>\n",
       "    <tr>\n",
       "      <th>0</th>\n",
       "      <td>0.979173</td>\n",
       "      <td>Bus tour of Germany</td>\n",
       "      <td>Unmatching Barcode</td>\n",
       "    </tr>\n",
       "    <tr>\n",
       "      <th>1</th>\n",
       "      <td>0.980173</td>\n",
       "      <td>Bus tour of Germany</td>\n",
       "      <td>Mugging 'Etiquette'?</td>\n",
       "    </tr>\n",
       "    <tr>\n",
       "      <th>2</th>\n",
       "      <td>0.980675</td>\n",
       "      <td>Bus tour of Germany</td>\n",
       "      <td>Marseille to Bologna</td>\n",
       "    </tr>\n",
       "    <tr>\n",
       "      <th>3</th>\n",
       "      <td>0.982437</td>\n",
       "      <td>Bus tour of Germany</td>\n",
       "      <td>Tegelbergbahn Tickets</td>\n",
       "    </tr>\n",
       "  </tbody>\n",
       "</table>\n",
       "</div>"
      ],
      "text/plain": [
       "       dist                            question                 result\n",
       "0  0.987472     Roundtrip ticket versus one way     Unmatching Barcode\n",
       "1  0.987487     Roundtrip ticket versus one way    Warrants and travel\n",
       "2  0.987875     Roundtrip ticket versus one way   Mugging 'Etiquette'?\n",
       "3  0.991276     Roundtrip ticket versus one way  Tegelbergbahn Tickets\n",
       "0  0.994949  Shinkansen from Kyoto to Hiroshima     Unmatching Barcode\n",
       "1  0.995584  Shinkansen from Kyoto to Hiroshima   Marseille to Bologna\n",
       "2  0.995852  Shinkansen from Kyoto to Hiroshima   Mugging 'Etiquette'?\n",
       "3  0.998736  Shinkansen from Kyoto to Hiroshima  Tegelbergbahn Tickets\n",
       "0  0.979173                 Bus tour of Germany     Unmatching Barcode\n",
       "1  0.980173                 Bus tour of Germany   Mugging 'Etiquette'?\n",
       "2  0.980675                 Bus tour of Germany   Marseille to Bologna\n",
       "3  0.982437                 Bus tour of Germany  Tegelbergbahn Tickets"
      ]
     },
     "execution_count": 73,
     "metadata": {},
     "output_type": "execute_result"
    }
   ],
   "source": [
    "lookup = EmbeddingWrapper(model=cnn_embedding)\n",
    "evaluate_sample(lookup)"
   ]
  },
  {
   "cell_type": "markdown",
   "metadata": {},
   "source": [
    "### LSTM"
   ]
  },
  {
   "cell_type": "code",
   "execution_count": 74,
   "metadata": {},
   "outputs": [],
   "source": [
    "def lstm_model(embedding_size, vocab_size):\n",
    "    title = layers.Input(shape=(None,), dtype='int32', name='title')\n",
    "    body = layers.Input(shape=(None,), dtype='int32', name='body')\n",
    "\n",
    "    embedding = layers.Embedding(\n",
    "        mask_zero=True,\n",
    "        input_dim=vocab_size,\n",
    "        output_dim=embedding_size,\n",
    "#         weights=[w2v_weights],\n",
    "#         trainable=False\n",
    "    )\n",
    "\n",
    "    lstm_1 = layers.LSTM(units=512, return_sequences=True)\n",
    "    lstm_2 = layers.LSTM(units=512, return_sequences=False)\n",
    "    \n",
    "    sum_a = lstm_2(lstm_1(embedding(title)))\n",
    "    sum_b = lstm_2(lstm_1(embedding(body)))\n",
    "\n",
    "    sim = layers.dot([sum_a, sum_b], axes=1, normalize=True)\n",
    "#     sim = layers.Activation(activation='sigmoid')(sim)\n",
    "    sim_model = models.Model(\n",
    "        inputs=[title, body],\n",
    "        outputs=[sim],\n",
    "    )\n",
    "    sim_model.compile(loss='binary_crossentropy', optimizer='rmsprop')\n",
    "\n",
    "    embedding_model = models.Model(\n",
    "        inputs=[title],\n",
    "        outputs=[sum_a]\n",
    "    )\n",
    "    return sim_model, embedding_model"
   ]
  },
  {
   "cell_type": "code",
   "execution_count": 77,
   "metadata": {},
   "outputs": [
    {
     "name": "stdout",
     "output_type": "stream",
     "text": [
      "__________________________________________________________________________________________________\n",
      "Layer (type)                    Output Shape         Param #     Connected to                     \n",
      "==================================================================================================\n",
      "title (InputLayer)              (None, None)         0                                            \n",
      "__________________________________________________________________________________________________\n",
      "body (InputLayer)               (None, None)         0                                            \n",
      "__________________________________________________________________________________________________\n",
      "embedding_2 (Embedding)         (None, None, 100)    25000000    title[0][0]                      \n",
      "                                                                 body[0][0]                       \n",
      "__________________________________________________________________________________________________\n",
      "lstm_1 (LSTM)                   (None, None, 512)    1255424     embedding_2[0][0]                \n",
      "                                                                 embedding_2[1][0]                \n",
      "__________________________________________________________________________________________________\n",
      "lstm_2 (LSTM)                   (None, 512)          2099200     lstm_1[0][0]                     \n",
      "                                                                 lstm_1[1][0]                     \n",
      "__________________________________________________________________________________________________\n",
      "dot_4 (Dot)                     (None, 1)            0           lstm_2[0][0]                     \n",
      "                                                                 lstm_2[1][0]                     \n",
      "==================================================================================================\n",
      "Total params: 28,354,624\n",
      "Trainable params: 28,354,624\n",
      "Non-trainable params: 0\n",
      "__________________________________________________________________________________________________\n",
      "Epoch 1/10\n",
      "100/100 [==============================] - 120s 1s/step - loss: 0.7983\n",
      "Epoch 2/10\n",
      "100/100 [==============================] - 120s 1s/step - loss: 0.7070\n",
      "Epoch 3/10\n",
      "100/100 [==============================] - 120s 1s/step - loss: 0.7796\n",
      "Epoch 4/10\n",
      "100/100 [==============================] - 120s 1s/step - loss: 0.7481\n",
      "Epoch 5/10\n",
      "100/100 [==============================] - 122s 1s/step - loss: 0.7244\n",
      "Epoch 6/10\n",
      "100/100 [==============================] - 121s 1s/step - loss: 0.7044\n",
      "Epoch 7/10\n",
      "100/100 [==============================] - 122s 1s/step - loss: 0.7079\n",
      "Epoch 8/10\n",
      "100/100 [==============================] - 120s 1s/step - loss: 0.7073\n",
      "Epoch 9/10\n",
      "100/100 [==============================] - 120s 1s/step - loss: 0.6961\n",
      "Epoch 10/10\n",
      "100/100 [==============================] - 119s 1s/step - loss: 0.6964\n"
     ]
    },
    {
     "data": {
      "text/plain": [
       "<keras.callbacks.History at 0x7fef8686f4a8>"
      ]
     },
     "execution_count": 77,
     "metadata": {},
     "output_type": "execute_result"
    }
   ],
   "source": [
    "lstm, lstm_embedding = lstm_model(embedding_size=EMBEDDING_SIZE, vocab_size=VOCAB_SIZE)\n",
    "lstm.summary()\n",
    "lstm.fit_generator(\n",
    "    data_generator(batch_size=128),\n",
    "    epochs=10,\n",
    "    steps_per_epoch=100,\n",
    ")"
   ]
  },
  {
   "cell_type": "code",
   "execution_count": 78,
   "metadata": {},
   "outputs": [
    {
     "name": "stdout",
     "output_type": "stream",
     "text": [
      "33413/33413 [==============================] - 23s 693us/step\n",
      "Roundtrip ticket versus one way\n",
      "Shinkansen from Kyoto to Hiroshima\n",
      "Bus tour of Germany\n"
     ]
    },
    {
     "data": {
      "text/html": [
       "<div>\n",
       "<style scoped>\n",
       "    .dataframe tbody tr th:only-of-type {\n",
       "        vertical-align: middle;\n",
       "    }\n",
       "\n",
       "    .dataframe tbody tr th {\n",
       "        vertical-align: top;\n",
       "    }\n",
       "\n",
       "    .dataframe thead th {\n",
       "        text-align: right;\n",
       "    }\n",
       "</style>\n",
       "<table border=\"1\" class=\"dataframe\">\n",
       "  <thead>\n",
       "    <tr style=\"text-align: right;\">\n",
       "      <th></th>\n",
       "      <th>dist</th>\n",
       "      <th>question</th>\n",
       "      <th>result</th>\n",
       "    </tr>\n",
       "  </thead>\n",
       "  <tbody>\n",
       "    <tr>\n",
       "      <th>0</th>\n",
       "      <td>0.999889</td>\n",
       "      <td>Roundtrip ticket versus one way</td>\n",
       "      <td>Wheeled backpack with waist strap?</td>\n",
       "    </tr>\n",
       "    <tr>\n",
       "      <th>1</th>\n",
       "      <td>0.999891</td>\n",
       "      <td>Roundtrip ticket versus one way</td>\n",
       "      <td>Nigeria to India via Istanbul</td>\n",
       "    </tr>\n",
       "    <tr>\n",
       "      <th>2</th>\n",
       "      <td>0.999891</td>\n",
       "      <td>Roundtrip ticket versus one way</td>\n",
       "      <td>Identify this waterfall in Myanmar</td>\n",
       "    </tr>\n",
       "    <tr>\n",
       "      <th>3</th>\n",
       "      <td>0.999908</td>\n",
       "      <td>Roundtrip ticket versus one way</td>\n",
       "      <td>Physical (demanding) activities in Berlin</td>\n",
       "    </tr>\n",
       "    <tr>\n",
       "      <th>0</th>\n",
       "      <td>0.999920</td>\n",
       "      <td>Shinkansen from Kyoto to Hiroshima</td>\n",
       "      <td>Two long layovers in Tokyo</td>\n",
       "    </tr>\n",
       "    <tr>\n",
       "      <th>1</th>\n",
       "      <td>0.999926</td>\n",
       "      <td>Shinkansen from Kyoto to Hiroshima</td>\n",
       "      <td>Keflavik International Airport to Selfoss</td>\n",
       "    </tr>\n",
       "    <tr>\n",
       "      <th>2</th>\n",
       "      <td>0.999927</td>\n",
       "      <td>Shinkansen from Kyoto to Hiroshima</td>\n",
       "      <td>DS160 online form - Arrival flight</td>\n",
       "    </tr>\n",
       "    <tr>\n",
       "      <th>3</th>\n",
       "      <td>0.999932</td>\n",
       "      <td>Shinkansen from Kyoto to Hiroshima</td>\n",
       "      <td>Canada TRV application form relation</td>\n",
       "    </tr>\n",
       "    <tr>\n",
       "      <th>0</th>\n",
       "      <td>0.999756</td>\n",
       "      <td>Bus tour of Germany</td>\n",
       "      <td>Matsushiro Underground Imperial Headquarters</td>\n",
       "    </tr>\n",
       "    <tr>\n",
       "      <th>1</th>\n",
       "      <td>0.999757</td>\n",
       "      <td>Bus tour of Germany</td>\n",
       "      <td>Air travel while pregnant</td>\n",
       "    </tr>\n",
       "    <tr>\n",
       "      <th>2</th>\n",
       "      <td>0.999764</td>\n",
       "      <td>Bus tour of Germany</td>\n",
       "      <td>Transpacific travel with dog</td>\n",
       "    </tr>\n",
       "    <tr>\n",
       "      <th>3</th>\n",
       "      <td>0.999770</td>\n",
       "      <td>Bus tour of Germany</td>\n",
       "      <td>Bus schedules in Israel</td>\n",
       "    </tr>\n",
       "  </tbody>\n",
       "</table>\n",
       "</div>"
      ],
      "text/plain": [
       "       dist                            question  \\\n",
       "0  0.999889     Roundtrip ticket versus one way   \n",
       "1  0.999891     Roundtrip ticket versus one way   \n",
       "2  0.999891     Roundtrip ticket versus one way   \n",
       "3  0.999908     Roundtrip ticket versus one way   \n",
       "0  0.999920  Shinkansen from Kyoto to Hiroshima   \n",
       "1  0.999926  Shinkansen from Kyoto to Hiroshima   \n",
       "2  0.999927  Shinkansen from Kyoto to Hiroshima   \n",
       "3  0.999932  Shinkansen from Kyoto to Hiroshima   \n",
       "0  0.999756                 Bus tour of Germany   \n",
       "1  0.999757                 Bus tour of Germany   \n",
       "2  0.999764                 Bus tour of Germany   \n",
       "3  0.999770                 Bus tour of Germany   \n",
       "\n",
       "                                         result  \n",
       "0            Wheeled backpack with waist strap?  \n",
       "1                 Nigeria to India via Istanbul  \n",
       "2            Identify this waterfall in Myanmar  \n",
       "3     Physical (demanding) activities in Berlin  \n",
       "0                    Two long layovers in Tokyo  \n",
       "1     Keflavik International Airport to Selfoss  \n",
       "2            DS160 online form - Arrival flight  \n",
       "3          Canada TRV application form relation  \n",
       "0  Matsushiro Underground Imperial Headquarters  \n",
       "1                     Air travel while pregnant  \n",
       "2                  Transpacific travel with dog  \n",
       "3                       Bus schedules in Israel  "
      ]
     },
     "execution_count": 78,
     "metadata": {},
     "output_type": "execute_result"
    }
   ],
   "source": [
    "lookup = EmbeddingWrapper(model=lstm_embedding)\n",
    "evaluate_sample(lookup)"
   ]
  },
  {
   "cell_type": "code",
   "execution_count": null,
   "metadata": {},
   "outputs": [],
   "source": []
  }
 ],
 "metadata": {
  "kernelspec": {
   "display_name": "Python 3",
   "language": "python",
   "name": "python3"
  },
  "language_info": {
   "codemirror_mode": {
    "name": "ipython",
    "version": 3
   },
   "file_extension": ".py",
   "mimetype": "text/x-python",
   "name": "python",
   "nbconvert_exporter": "python",
   "pygments_lexer": "ipython3",
   "version": "3.6.2"
  },
  "toc": {
   "base_numbering": 1,
   "nav_menu": {},
   "number_sections": true,
   "sideBar": true,
   "skip_h1_title": false,
   "title_cell": "Table of Contents",
   "title_sidebar": "Contents",
   "toc_cell": false,
   "toc_position": {
    "height": "calc(100% - 180px)",
    "left": "10px",
    "top": "150px",
    "width": "279.594px"
   },
   "toc_section_display": true,
   "toc_window_display": true
  }
 },
 "nbformat": 4,
 "nbformat_minor": 2
}
