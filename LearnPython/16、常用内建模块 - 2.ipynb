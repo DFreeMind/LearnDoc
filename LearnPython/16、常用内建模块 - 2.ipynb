{
 "cells": [
  {
   "cell_type": "markdown",
   "metadata": {},
   "source": [
    "![image](http://wx2.sinaimg.cn/thumbnail/69d4185bly1fmf9kfagd3j20ek0ekq88.jpg)\n",
    "# 常用内建模块\n",
    "## hashlib\n",
    "### 摘要算法简介\n",
    "Python的hashlib提供了常见的摘要算法，如MD5，SHA1等等。什么是摘要算法呢？摘要算法又称**哈希算法、散列算法**。它通过一个函数，把任意长度的数据转换为一个长度固定的数据串（通常用16进制的字符串表示）\n",
    "\n",
    "举个例子，你写了一篇文章，内容是一个字符串`'how to use python hashlib - by Michael'`，并附上这篇文章的摘要是`'2d73d4f15c0db7f5ecb321b6a65e5d6d'`。如果有人篡改了你的文章，并发表为`'how to use python hashlib - by Bob'`，你可以一下子指出Bob篡改了你的文章，因为根据`'how to use python hashlib - by Bob'`计算出的摘要不同于原始文章的摘要。\n",
    "\n",
    "可见，摘要算法就是通过摘要函数`f()`对任意长度的数据`data`计算出固定长度的摘要`digest`，目的是为了发现原始数据是否被人篡改过。\n",
    "\n",
    "摘要算法之所以能指出数据是否被篡改过，就是因为摘要函数是一个单向函数，计算`f(data)`很容易，但通过`digest`反推`data`却非常困难。而且，对原始数据做一个bit的修改，都会导致计算出的摘要完全不同。\n",
    "\n",
    "我们以常见的摘要算法MD5为例，计算出一个字符串的MD5值："
   ]
  },
  {
   "cell_type": "code",
   "execution_count": null,
   "metadata": {},
   "outputs": [],
   "source": [
    "import hashlib\n",
    "# 创建一个 md5 函数\n",
    "md5 = hashlib.md5()\n",
    "\n",
    "# 加密\n",
    "md5.update('how to use md5 in python hashlib?'.encode('utf-8'))\n",
    "print(md5.hexdigest())"
   ]
  },
  {
   "cell_type": "markdown",
   "metadata": {},
   "source": [
    "如果数据量很大，可以分块多次调用`update()`，最后计算的结果是一样的："
   ]
  },
  {
   "cell_type": "code",
   "execution_count": null,
   "metadata": {},
   "outputs": [],
   "source": [
    "import hashlib\n",
    "# 创建一个 md5 函数\n",
    "md5 = hashlib.md5()\n",
    "\n",
    "# 加密\n",
    "md5.update('how to use md5 '.encode('utf-8'))\n",
    "md5.update('in python hashlib?'.encode('utf-8'))\n",
    "print(md5.hexdigest())"
   ]
  },
  {
   "cell_type": "markdown",
   "metadata": {},
   "source": [
    "试试改动一个字母，看看计算的结果是否完全不同。MD5是最常见的摘要算法，速度很快，生成结果是固定的*128* bit字节，通常用一个32位的16进制字符串表示。\n",
    "\n",
    "另一种常见的摘要算法是SHA1，调用SHA1和调用MD5完全类似："
   ]
  },
  {
   "cell_type": "code",
   "execution_count": null,
   "metadata": {},
   "outputs": [],
   "source": [
    "import hashlib\n",
    "\n",
    "sha1 = hashlib.sha1()\n",
    "sha1.update('how to use sha1 in '.encode('utf-8'))\n",
    "sha1.update('python hashlib?'.encode('utf-8'))\n",
    "print(sha1.hexdigest())"
   ]
  },
  {
   "cell_type": "markdown",
   "metadata": {},
   "source": [
    "SHA1的结果是160 bit字节，通常用一个40位的16进制字符串表示。比SHA1更安全的算法是SHA256和SHA512，不过越安全的算法不仅越慢，而且摘要长度更长。\n",
    "\n",
    "有没有可能两个不同的数据通过某个摘要算法得到了相同的摘要？完全有可能，因为任何摘要算法都是把无限多的数据集合映射到一个有限的集合中。这种情况称为碰撞，比如Bob试图根据你的摘要反推出一篇文章`'how to learn hashlib in python - by Bob'`，并且这篇文章的摘要恰好和你的文章完全一致，这种情况也并非不可能出现，但是非常非常困难。\n",
    "\n",
    "### 摘要算法应用\n",
    "\n",
    "摘要算法能应用到什么地方？举个常用例子：\n",
    "\n",
    "任何允许用户登录的网站都会存储用户登录的用户名和口令。如何存储用户名和口令呢？方法是存到数据库表中：\n",
    "```\n",
    "name\tpassword\n",
    "michael\t123456\n",
    "bob\t   abc999\n",
    "alice\talice2008\n",
    "```\n",
    "如果以明文保存用户口令，如果数据库泄露，所有用户的口令就落入黑客的手里。此外，网站运维人员是可以访问数据库的，也就是能获取到所有用户的口令。\n",
    "\n",
    "正确的保存口令的方式是不存储用户的明文口令，而是存储用户口令的摘要，比如MD5：\n",
    "```\n",
    "username\tpassword\n",
    "michael\te10adc3949ba59abbe56e057f20f883e\n",
    "bob\t878ef96e86145580c38c87f0410ad153\n",
    "alice\t99b1c2188db85afee403b1536010c2c9\n",
    "```\n",
    "当用户登录时，首先计算用户输入的明文口令的MD5，然后和数据库存储的MD5对比，如果一致，说明口令输入正确，如果不一致，口令肯定错误。"
   ]
  },
  {
   "cell_type": "markdown",
   "metadata": {},
   "source": [
    "### 练习\n",
    "\n",
    "1、根据用户输入的口令，计算出存储在数据库中的MD5口令：\n",
    "```python\n",
    "def calc_md5(password):\n",
    "    pass\n",
    "```\n",
    "存储MD5的好处是即使运维人员能访问数据库，也无法获知用户的明文口令。设计一个验证用户登录的函数，根据用户输入的口令是否正确，返回True或False："
   ]
  },
  {
   "cell_type": "code",
   "execution_count": null,
   "metadata": {},
   "outputs": [],
   "source": [
    "import hashlib\n",
    "db = {\n",
    "    'michael': 'e10adc3949ba59abbe56e057f20f883e',\n",
    "    'bob': '878ef96e86145580c38c87f0410ad153',\n",
    "    'alice': '99b1c2188db85afee403b1536010c2c9'\n",
    "}\n",
    "def login(user, password):\n",
    "    md5 = hashlib.md5()\n",
    "    md5.update(password.encode('utf-8'))\n",
    "    pas = md5.hexdigest()\n",
    "    if pas == db[user]:\n",
    "        return True\n",
    "    return False\n",
    "\n",
    "# 测试:\n",
    "assert login('michael', '123456')\n",
    "assert login('bob', 'abc999')\n",
    "assert login('alice', 'alice2008')\n",
    "assert not login('michael', '1234567')\n",
    "assert not login('bob', '123456')\n",
    "assert not login('alice', 'Alice2008')\n",
    "print('ok')"
   ]
  },
  {
   "cell_type": "markdown",
   "metadata": {},
   "source": [
    "采用MD5存储口令是否就一定安全呢？也不一定。假设你是一个黑客，已经拿到了存储MD5口令的数据库，如何通过MD5反推用户的明文口令呢？暴力破解费事费力，真正的黑客不会这么干。\n",
    "\n",
    "考虑这么个情况，很多用户喜欢用`123456`，`888888`，`password`这些简单的口令，于是，黑客可以事先计算出这些常用口令的MD5值，得到一个反推表：\n",
    "```\n",
    "'e10adc3949ba59abbe56e057f20f883e': '123456'\n",
    "'21218cca77804d2ba1922c33e0151105': '888888'\n",
    "'5f4dcc3b5aa765d61d8327deb882cf99': 'password'\n",
    "```\n",
    "这样，无需破解，只需要对比数据库的MD5，黑客就获得了使用常用口令的用户账号。\n",
    "\n",
    "对于用户来讲，当然不要使用过于简单的口令。但是，我们能否在程序设计上对简单口令加强保护呢？\n",
    "\n",
    "由于常用口令的MD5值很容易被计算出来，所以，要确保存储的用户口令不是那些已经被计算出来的常用口令的MD5，这一方法通过对原始口令加一个复杂字符串来实现，俗称“**加盐**”：\n",
    "```python\n",
    "def calc_md5(password):\n",
    "    return get_md5(password + 'the-Salt')\n",
    "```\n",
    "经过Salt处理的MD5口令，只要Salt不被黑客知道，即使用户输入简单口令，也很难通过MD5反推明文口令。\n",
    "\n",
    "但是如果有两个用户都使用了相同的简单口令比如123456，在数据库中，将存储两条相同的MD5值，这说明这两个用户的口令是一样的。有没有办法让使用相同口令的用户存储不同的MD5呢？\n",
    "\n",
    "如果假定用户无法修改登录名，就可以通过把登录名作为Salt的一部分来计算MD5，从而实现相同口令的用户也存储不同的MD5。"
   ]
  },
  {
   "cell_type": "markdown",
   "metadata": {},
   "source": [
    "2、根据用户输入的登录名和口令模拟用户注册，计算更安全的MD5：\n",
    "```python\n",
    "db = {}\n",
    "\n",
    "def register(username, password):\n",
    "    db[username] = get_md5(password + username + 'the-Salt')\n",
    "```\n",
    "然后，根据修改后的MD5算法实现用户登录的验证："
   ]
  },
  {
   "cell_type": "code",
   "execution_count": null,
   "metadata": {},
   "outputs": [],
   "source": [
    "import hashlib, random\n",
    "\n",
    "def get_md5(s):\n",
    "    return hashlib.md5(s.encode('utf-8')).hexdigest()\n",
    "\n",
    "class User(object):\n",
    "    def __init__(self, username, password):\n",
    "        self.username = username\n",
    "        self.salt = ''.join([chr(random.randint(48, 122)) for i in range(20)])\n",
    "        self.password = get_md5(password + self.salt)\n",
    "db = {\n",
    "    'michael': User('michael', '123456'),\n",
    "    'bob': User('bob', 'abc999'),\n",
    "    'alice': User('alice', 'alice2008')\n",
    "}\n",
    "\n",
    "def login(username, password):\n",
    "    user = db[username]\n",
    "    return user.password == get_md5(password)\n",
    "\n",
    "# 测试:\n",
    "assert login('michael', '123456')\n",
    "assert login('bob', 'abc999')\n",
    "assert login('alice', 'alice2008')\n",
    "assert not login('michael', '1234567')\n",
    "assert not login('bob', '123456')\n",
    "assert not login('alice', 'Alice2008')\n",
    "print('ok')"
   ]
  },
  {
   "cell_type": "markdown",
   "metadata": {},
   "source": [
    "## hmac\n",
    "通过哈希算法，我们可以验证一段数据是否有效，方法就是对比该数据的哈希值，例如，判断用户口令是否正确，我们用保存在数据库中的`password_md5`对比计算`md5(password)`的结果，如果一致，用户输入的口令就是正确的。\n",
    "\n",
    "为了防止黑客通过[彩虹表](https://baike.baidu.com/item/%E5%BD%A9%E8%99%B9%E8%A1%A8/689313?fr=aladdin)根据哈希值反推原始口令，在计算哈希的时候，不能仅针对原始输入计算，需要增加一个salt来使得相同的输入也能得到不同的哈希，这样，大大增加了黑客破解的难度。\n",
    "\n",
    "如果salt是我们自己随机生成的，通常我们计算MD5时采用`md5(message + salt)`。但实际上，把salt看做一个“口令”，加salt的哈希就是：计算一段message的哈希时，根据不通口令计算出不同的哈希。要验证哈希值，必须同时提供正确的口令。\n",
    "\n",
    "这实际上就是Hmac算法：**Keyed-Hashing for Message Authentication**。它通过一个标准算法，在计算哈希的过程中，把key混入计算过程中。和我们自定义的加salt算法不同，Hmac算法针对所有哈希算法都通用，无论是MD5还是SHA-1。采用Hmac替代我们自己的salt算法，可以使程序算法更标准化，也更安全。Python自带的hmac模块实现了标准的Hmac算法。我们来看看如何使用hmac实现带key的哈希。\n",
    "\n",
    "我们首先需要准备待计算的原始消息message，随机key，哈希算法，这里采用MD5，使用hmac的代码如下："
   ]
  },
  {
   "cell_type": "code",
   "execution_count": null,
   "metadata": {},
   "outputs": [],
   "source": [
    "import hmac\n",
    "message = b'Hello, world!'\n",
    "key = b'secret'\n",
    "h = hmac.new(key, message, digestmod='MD5')\n",
    "# 如果消息很长，可以多次调用h.update(msg)\n",
    "h.hexdigest()"
   ]
  },
  {
   "cell_type": "markdown",
   "metadata": {},
   "source": [
    "可见使用hmac和普通hash算法非常类似。hmac输出的长度和原始哈希算法的长度一致。需要注意传入的key和message都是bytes类型，str类型需要首先编码为bytes。\n",
    "\n",
    "### 练习\n",
    "\n",
    "将上一节的salt改为标准的hmac算法，验证用户口令："
   ]
  },
  {
   "cell_type": "code",
   "execution_count": null,
   "metadata": {},
   "outputs": [],
   "source": [
    "# -*- coding: utf-8 -*-\n",
    "import hmac, random\n",
    "\n",
    "def hmac_md5(key, s):\n",
    "    return hmac.new(key.encode('utf-8'), s.encode('utf-8'), 'MD5').hexdigest()\n",
    "\n",
    "class User(object):\n",
    "    def __init__(self, username, password):\n",
    "        self.username = username\n",
    "        self.key = ''.join([chr(random.randint(48, 122)) for i in range(20)])\n",
    "        self.password = hmac_md5(self.key, password)\n",
    "\n",
    "db = {\n",
    "    'michael': User('michael', '123456'),\n",
    "    'bob': User('bob', 'abc999'),\n",
    "    'alice': User('alice', 'alice2008')\n",
    "}\n",
    "\n",
    "def login(username, password):\n",
    "    user = db[username]\n",
    "    return user.password == hmac_md5(user.key, password)\n",
    "\n",
    "# 测试:\n",
    "assert login('michael', '123456')\n",
    "assert login('bob', 'abc999')\n",
    "assert login('alice', 'alice2008')\n",
    "assert not login('michael', '1234567')\n",
    "assert not login('bob', '123456')\n",
    "assert not login('alice', 'Alice2008')\n",
    "print('ok')"
   ]
  },
  {
   "cell_type": "markdown",
   "metadata": {},
   "source": [
    "## itertools\n",
    "Python的内建模块`itertools`提供了非常有用的用于操作迭代对象的函数。 \n",
    "\n",
    "### count\n",
    "首先，我们看看`itertools`提供的几个“无限”迭代器："
   ]
  },
  {
   "cell_type": "code",
   "execution_count": null,
   "metadata": {},
   "outputs": [],
   "source": [
    "import itertools\n",
    "natuals = itertools.count(1)\n",
    "# 会输出无限多的数\n",
    "for n in natuals:\n",
    "    print(n)"
   ]
  },
  {
   "cell_type": "markdown",
   "metadata": {},
   "source": [
    "因为`count()`会创建一个无限的迭代器，所以上述代码会打印出自然数序列，根本停不下来，只能按Ctrl+C退出。\n",
    "\n",
    "`cycle()`会把传入的一个序列无限重复下去："
   ]
  },
  {
   "cell_type": "code",
   "execution_count": null,
   "metadata": {},
   "outputs": [],
   "source": [
    "import itertools\n",
    "cy = itertools.cycle('weduoo')\n",
    "# 会一直重复输出 weduoo 里面的字符\n",
    "for w in cy:\n",
    "    print(w)"
   ]
  },
  {
   "cell_type": "markdown",
   "metadata": {},
   "source": [
    "### repeat\n",
    "`repeat()`负责把一个元素无限重复下去，不过如果提供第二个参数就可以限定重复次数："
   ]
  },
  {
   "cell_type": "code",
   "execution_count": null,
   "metadata": {},
   "outputs": [],
   "source": [
    "rp = itertools.repeat('weduoo',3)\n",
    "for h in rp:\n",
    "    print(h)"
   ]
  },
  {
   "cell_type": "markdown",
   "metadata": {},
   "source": [
    "无限序列只有在`for`迭代时才会无限地迭代下去，如果只是创建了一个迭代对象，它不会事先把无限个元素生成出来，事实上也不可能在内存中创建无限多个元素。\n",
    "\n",
    "### takewhile\n",
    "无限序列虽然可以无限迭代下去，但是通常我们会通过`takewhile()`等函数根据条件判断来截取出一个有限的序列："
   ]
  },
  {
   "cell_type": "code",
   "execution_count": null,
   "metadata": {},
   "outputs": [],
   "source": [
    "tk = itertools.count(1)\n",
    "# 通过 lambda 表达式提取有限数据\n",
    "ns = itertools.takewhile(lambda x: x < 10, tk)\n",
    "list(ns)"
   ]
  },
  {
   "cell_type": "markdown",
   "metadata": {},
   "source": [
    "`itertools`提供的几个迭代器操作函数更加有用：\n",
    "### chain()\n",
    "`chain()`可以把一组迭代对象串联起来，形成一个更大的迭代器："
   ]
  },
  {
   "cell_type": "code",
   "execution_count": null,
   "metadata": {},
   "outputs": [],
   "source": [
    "for c in itertools.chain('ABC','XYZ'):\n",
    "    print(c)"
   ]
  },
  {
   "cell_type": "markdown",
   "metadata": {},
   "source": [
    "### groupby()\n",
    "\n",
    "`groupby()`把迭代器中**相邻**的**重复**元素挑出来放在一起："
   ]
  },
  {
   "cell_type": "code",
   "execution_count": null,
   "metadata": {},
   "outputs": [],
   "source": [
    "for key,group in itertools.groupby('AAABBBCCAAA'):\n",
    "    print(key,list(group))"
   ]
  },
  {
   "cell_type": "markdown",
   "metadata": {},
   "source": [
    "实际上挑选规则是通过函数完成的，只要作用于函数的两个元素返回的值相等，这两个元素就被认为是在一组的，而函数返回值作为组的key。如果我们要忽略大小写分组，就可以让元素`'A'`和`'a'`都返回相同的key："
   ]
  },
  {
   "cell_type": "code",
   "execution_count": null,
   "metadata": {},
   "outputs": [],
   "source": [
    "for key, group in itertools.groupby('AaaBBbcCAAa', lambda c: c.upper()):\n",
    "    print(key, list(group))"
   ]
  },
  {
   "cell_type": "markdown",
   "metadata": {},
   "source": [
    "### 练习\n",
    "\n",
    "计算圆周率可以根据公式：\n",
    "\n",
    "利用Python提供的itertools模块，我们来计算这个序列的前N项和："
   ]
  },
  {
   "cell_type": "code",
   "execution_count": null,
   "metadata": {},
   "outputs": [],
   "source": [
    "# -*- coding: utf-8 -*-\n",
    "import itertools\n",
    "def pi(N):\n",
    "    ' 计算pi的值 '\n",
    "    # step 1: 创建一个奇数序列: 1, 3, 5, 7, 9, ...\n",
    "    nature = itertools.count(1,2)\n",
    "  \n",
    "    # step 2: 取该序列的前N项: 1, 3, 5, 7, 9, ..., 2*N-1.\n",
    "    ns = itertools.takewhile(lambda x: x <= (2*N-1), nature)\n",
    "\n",
    "    # step 3: 添加正负符号并用4除: 4/1, -4/3, 4/5, -4/7, 4/9, ...\n",
    "    incre = 1\n",
    "    result = 0\n",
    "    for n in ns:\n",
    "        if incre % 2 == 1:\n",
    "            result = result + (4*1.0/n)\n",
    "        else:\n",
    "            result = result - (4*1.0/n)\n",
    "        incre += 1\n",
    "    # step 4: 求和:\n",
    "    return result\n",
    "\n",
    "# 测试:\n",
    "print(pi(10))\n",
    "print(pi(100))\n",
    "print(pi(1000))\n",
    "print(pi(10000))\n",
    "assert 3.04 < pi(10) < 3.05\n",
    "assert 3.13 < pi(100) < 3.14\n",
    "assert 3.140 < pi(1000) < 3.141\n",
    "assert 3.1414 < pi(10000) < 3.1415\n",
    "print('ok')"
   ]
  },
  {
   "cell_type": "code",
   "execution_count": null,
   "metadata": {
    "code_folding": []
   },
   "outputs": [],
   "source": [
    "# 较为简单的写法\n",
    "def pi(N):\n",
    "    c =  itertools.cycle([4,-4])\n",
    "    s = sum([next(c)/(2*x-1) for x in range(1,N+1)])\n",
    "    return s"
   ]
  },
  {
   "cell_type": "markdown",
   "metadata": {},
   "source": [
    "## contextlib\n",
    "在Python中，读写文件这样的资源要特别注意，必须在使用完毕后正确关闭它们。正确关闭文件资源的一个方法是使用`try...finally`：\n",
    "```python\n",
    "try:\n",
    "    f = open('/path/to/file', 'r')\n",
    "    f.read()\n",
    "finally:\n",
    "    if f:\n",
    "        f.close()\n",
    " ```\n",
    " 写`try...finally`非常繁琐。Python的`with`语句允许我们非常方便地使用资源，而不必担心资源没有关闭，所以上面的代码可以简化为：\n",
    " ```python\n",
    "with open('/path/to/file', 'r') as f:\n",
    "    f.read()\n",
    "```\n",
    "并不是只有`open()`函数返回的`fp`对象才能使用`with`语句。实际上，任何对象，只要正确实现了上下文管理，就可以用于`with`语句。\n",
    "\n",
    "实现上下文管理是通过`__enter__`和`__exit__`这两个方法实现的。例如，下面的class实现了这两个方法："
   ]
  },
  {
   "cell_type": "code",
   "execution_count": null,
   "metadata": {},
   "outputs": [],
   "source": [
    "class Query(object):\n",
    "\n",
    "    def __init__(self, name):\n",
    "        self.name = name\n",
    "\n",
    "    def __enter__(self):\n",
    "        print('Begin')\n",
    "        return self\n",
    "\n",
    "    def __exit__(self, exc_type, exc_value, traceback):\n",
    "        if exc_type:\n",
    "            print('Error')\n",
    "        else:\n",
    "            print('End')\n",
    "\n",
    "    def query(self):\n",
    "        print('Query info about %s...' % self.name)"
   ]
  },
  {
   "cell_type": "markdown",
   "metadata": {},
   "source": [
    "这样我们就可以把自己写的资源对象用于`with`语句："
   ]
  },
  {
   "cell_type": "code",
   "execution_count": null,
   "metadata": {},
   "outputs": [],
   "source": [
    "with Query('Bob') as q:\n",
    "    q.query()"
   ]
  },
  {
   "cell_type": "markdown",
   "metadata": {},
   "source": [
    "### @contextmanager\n",
    "\n",
    "编写`__enter__`和`__exit__`仍然很繁琐，因此Python的标准库`contextlib`提供了更简单的写法，上面的代码可以改写如下："
   ]
  },
  {
   "cell_type": "code",
   "execution_count": null,
   "metadata": {},
   "outputs": [],
   "source": [
    "from contextlib import contextmanager\n",
    "\n",
    "class Query(object):\n",
    "    def __init__(self,name):\n",
    "        self.name = name\n",
    "    \n",
    "    def query(self):\n",
    "        print('Query info about %s...'% self.name)\n",
    "\n",
    "@contextmanager\n",
    "def create_query(name):\n",
    "    print('Begin')\n",
    "    q = Query(name)\n",
    "    yield q\n",
    "    print('End')"
   ]
  },
  {
   "cell_type": "markdown",
   "metadata": {},
   "source": [
    "`@contextmanage`r这个decorator接受一个generator，用`yield`语句把`with ... as var`把变量输出出去，然后，`with`语句就可以正常地工作了："
   ]
  },
  {
   "cell_type": "code",
   "execution_count": null,
   "metadata": {},
   "outputs": [],
   "source": [
    "with create_query('Bob') as q:\n",
    "    q.query()"
   ]
  },
  {
   "cell_type": "markdown",
   "metadata": {},
   "source": [
    "很多时候，我们希望在某段代码执行前后自动执行特定代码，也可以用`@contextmanager`实现。例如："
   ]
  },
  {
   "cell_type": "code",
   "execution_count": null,
   "metadata": {},
   "outputs": [],
   "source": [
    "@contextmanager\n",
    "def tag(name):\n",
    "    print('<%s>' % name)\n",
    "    yield\n",
    "    print('</%s>' % name)\n",
    "\n",
    "with tag('h1'):\n",
    "    print('hello')\n",
    "    print('world')"
   ]
  },
  {
   "cell_type": "markdown",
   "metadata": {},
   "source": [
    "代码的执行顺序是：\n",
    "\n",
    "1. `with`语句首先执行`yield`之前的语句，因此打印出`<h1>`；\n",
    "2. `yield`调用会执行`with`语句内部的所有语句，因此打印出`hello`和`world`；\n",
    "3. 最后执行`yield`之后的语句，打印出`</h1>`。\n",
    "\n",
    "因此，`@contextmanager`让我们通过编写generator来简化上下文管理。\n",
    "\n",
    "### @closing\n",
    "如果一个对象没有实现上下文，我们就不能把它用于with语句。这个时候，可以用`closing()`来把该对象变为上下文对象。例如，用`with`语句使用`urlopen()`："
   ]
  },
  {
   "cell_type": "code",
   "execution_count": null,
   "metadata": {},
   "outputs": [],
   "source": [
    "from contextlib import closing\n",
    "from urllib.request import urlopen\n",
    "\n",
    "with closing(urlopen('https://www.python.org')) as page:\n",
    "    for line in page:\n",
    "        print(line)"
   ]
  },
  {
   "cell_type": "markdown",
   "metadata": {},
   "source": [
    "`closing`也是一个经过`@contextmanager`装饰的generator，这个generator编写起来其实非常简单："
   ]
  },
  {
   "cell_type": "code",
   "execution_count": null,
   "metadata": {},
   "outputs": [],
   "source": [
    "@contextmanager\n",
    "def closing(thing):\n",
    "    try:\n",
    "        yield thing\n",
    "    finally:\n",
    "        thing.close()"
   ]
  },
  {
   "cell_type": "markdown",
   "metadata": {},
   "source": [
    "它的作用就是把任意对象变为上下文对象，并支持`with`语句。\n",
    "\n",
    "`@contextlib`还有一些其他decorator，便于我们编写更简洁的代码。"
   ]
  },
  {
   "cell_type": "markdown",
   "metadata": {},
   "source": [
    "## urllib\n",
    "urllib提供了一系列用于操作URL的功能。\n",
    "\n",
    "### Get\n",
    "\n",
    "urllib的`request`模块可以非常方便地抓取URL内容，也就是发送一个GET请求到指定的页面，然后返回HTTP的响应：\n",
    "\n",
    "例如，对豆瓣的一个URL`https://api.douban.com/v2/book/2129650`进行抓取，并返回响应："
   ]
  },
  {
   "cell_type": "code",
   "execution_count": 2,
   "metadata": {},
   "outputs": [
    {
     "name": "stdout",
     "output_type": "stream",
     "text": [
      "Status 200 OK\n",
      "Date: Wed, 10 Jan 2018 01:48:51 GMT\n",
      "Content-Type: application/json; charset=utf-8\n",
      "Content-Length: 2058\n",
      "Connection: close\n",
      "Vary: Accept-Encoding\n",
      "X-Ratelimit-Remaining2: 99\n",
      "X-Ratelimit-Limit2: 100\n",
      "Expires: Sun, 1 Jan 2006 01:00:00 GMT\n",
      "Pragma: no-cache\n",
      "Cache-Control: must-revalidate, no-cache, private\n",
      "Set-Cookie: bid=Q7vqPeJLUdg; Expires=Thu, 10-Jan-19 01:48:51 GMT; Domain=.douban.com; Path=/\n",
      "X-DOUBAN-NEWBID: Q7vqPeJLUdg\n",
      "X-DAE-Node: sindar2b\n",
      "X-DAE-App: book\n",
      "Server: dae\n",
      "Data: {\"rating\":{\"max\":10,\"numRaters\":16,\"average\":\"7.4\",\"min\":0},\"subtitle\":\"\",\"author\":[\"廖雪峰\"],\"pubdate\":\"2007\",\"tags\":[{\"count\":21,\"name\":\"spring\",\"title\":\"spring\"},{\"count\":13,\"name\":\"Java\",\"title\":\"Java\"},{\"count\":6,\"name\":\"javaee\",\"title\":\"javaee\"},{\"count\":5,\"name\":\"j2ee\",\"title\":\"j2ee\"},{\"count\":4,\"name\":\"计算机\",\"title\":\"计算机\"},{\"count\":4,\"name\":\"编程\",\"title\":\"编程\"},{\"count\":3,\"name\":\"藏书\",\"title\":\"藏书\"},{\"count\":3,\"name\":\"POJO\",\"title\":\"POJO\"}],\"origin_title\":\"\",\"image\":\"https://img3.doubanio.com\\/mpic\\/s2552283.jpg\",\"binding\":\"平装\",\"translator\":[],\"catalog\":\"\",\"pages\":\"509\",\"images\":{\"small\":\"https://img3.doubanio.com\\/spic\\/s2552283.jpg\",\"large\":\"https://img3.doubanio.com\\/lpic\\/s2552283.jpg\",\"medium\":\"https://img3.doubanio.com\\/mpic\\/s2552283.jpg\"},\"alt\":\"https:\\/\\/book.douban.com\\/subject\\/2129650\\/\",\"id\":\"2129650\",\"publisher\":\"电子工业出版社\",\"isbn10\":\"7121042622\",\"isbn13\":\"9787121042621\",\"title\":\"Spring 2.0核心技术与最佳实践\",\"url\":\"https:\\/\\/api.douban.com\\/v2\\/book\\/2129650\",\"alt_title\":\"\",\"author_intro\":\"\",\"summary\":\"本书注重实践而又深入理论，由浅入深且详细介绍了Spring 2.0框架的几乎全部的内容，并重点突出2.0版本的新特性。本书将为读者展示如何应用Spring 2.0框架创建灵活高效的JavaEE应用，并提供了一个真正可直接部署的完整的Web应用程序——Live在线书店(http:\\/\\/www.livebookstore.net)。\\n在介绍Spring框架的同时，本书还介绍了与Spring相关的大量第三方框架，涉及领域全面，实用性强。本书另一大特色是实用性强，易于上手，以实际项目为出发点，介绍项目开发中应遵循的最佳开发模式。\\n本书还介绍了大量实践性极强的例子，并给出了完整的配置步骤，几乎覆盖了Spring 2.0版本的新特性。\\n本书适合有一定Java基础的读者，对JavaEE开发人员特别有帮助。本书既可以作为Spring 2.0的学习指南，也可以作为实际项目开发的参考手册。\",\"price\":\"59.8\"}\n"
     ]
    }
   ],
   "source": [
    "from urllib import request\n",
    "\n",
    "with request.urlopen('https://api.douban.com/v2/book/2129650') as f:\n",
    "    data = f.read()\n",
    "    print('Status %s %s' %(f.status, f.reason))\n",
    "    for k, v in f.getheaders():\n",
    "        print('%s: %s' % (k, v))\n",
    "    print('Data:', data.decode('utf-8'))"
   ]
  },
  {
   "cell_type": "markdown",
   "metadata": {},
   "source": [
    "如果我们要想模拟浏览器发送GET请求，就需要使用`Request`对象，通过往`Request`对象添加HTTP头，我们就可以把请求伪装成浏览器。例如，模拟iPhone 6去请求豆瓣首页："
   ]
  },
  {
   "cell_type": "code",
   "execution_count": null,
   "metadata": {},
   "outputs": [],
   "source": [
    "from urllib import request\n",
    "\n",
    "req = request.Request('http://www.douban.com/')\n",
    "req.add_header('User-Agent', 'Mozilla/6.0 (iPhone; CPU iPhone OS 8_0 like Mac OS X) AppleWebKit/536.26 (KHTML, like Gecko) Version/8.0 Mobile/10A5376e Safari/8536.25')\n",
    "with request.urlopen(req) as f:\n",
    "    print('Status:', f.status, f.reason)\n",
    "    for k, v in f.getheaders():\n",
    "        print('%s: %s' % (k, v))\n",
    "    print('Data:', f.read().decode('utf-8'))"
   ]
  },
  {
   "cell_type": "markdown",
   "metadata": {},
   "source": [
    "这样豆瓣会返回适合iPhone的移动版网页：\n",
    "```html\n",
    "        <meta charset=\"UTF-8\">\n",
    "        <title>豆瓣(手机版)</title>\n",
    "        <meta name=\"viewport\" content=\"width=device-width, height=device-height, user-scalable=no, initial-scale=1.0, minimum-scale=1.0, maximum-scale=1.0\">\n",
    "        <meta name=\"format-detection\" content=\"telephone=no\">\n",
    "        <link rel=\"canonical\" href=\"https://m.douban.com/\">\n",
    "        <link href=\"https://img3.doubanio.com/f/talion/081c0eb66c87f15598d7ffb5e42e62b4449b8dfc/css/card/base.css\" rel=\"stylesheet\">\n",
    "```"
   ]
  },
  {
   "cell_type": "markdown",
   "metadata": {},
   "source": [
    "### Post\n",
    "\n",
    "如果要以POST发送一个请求，只需要把参数`data`以bytes形式传入。\n",
    "\n",
    "我们模拟一个微博登录，先读取登录的邮箱和口令，然后按照weibo.cn的登录页的格式以`username=xxx&password=xxx`的编码传入："
   ]
  },
  {
   "cell_type": "code",
   "execution_count": null,
   "metadata": {},
   "outputs": [],
   "source": [
    "from urllib import request, parse\n",
    "\n",
    "print('Login to weibo.cn...')\n",
    "email = input('Email: ')\n",
    "passwd = input('Password: ')\n",
    "login_data = parse.urlencode([\n",
    "    ('username', email),\n",
    "    ('password', passwd),\n",
    "    ('entry', 'mweibo'),\n",
    "    ('client_id', ''),\n",
    "    ('savestate', '1'),\n",
    "    ('ec', ''),\n",
    "    ('pagerefer', 'https://passport.weibo.cn/signin/welcome?entry=mweibo&r=http%3A%2F%2Fm.weibo.cn%2F')\n",
    "])\n",
    "\n",
    "req = request.Request('https://passport.weibo.cn/sso/login')\n",
    "req.add_header('Origin', 'https://passport.weibo.cn')\n",
    "req.add_header('User-Agent', 'Mozilla/6.0 (iPhone; CPU iPhone OS 8_0 like Mac OS X) AppleWebKit/536.26 (KHTML, like Gecko) Version/8.0 Mobile/10A5376e Safari/8536.25')\n",
    "req.add_header('Referer', 'https://passport.weibo.cn/signin/login?entry=mweibo&res=wel&wm=3349&r=http%3A%2F%2Fm.weibo.cn%2F')\n",
    "\n",
    "with request.urlopen(req, data=login_data.encode('utf-8')) as f:\n",
    "    print('Status:', f.status, f.reason)\n",
    "    for k, v in f.getheaders():\n",
    "        print('%s: %s' % (k, v))\n",
    "    print('Data:', f.read().decode('utf-8'))"
   ]
  },
  {
   "cell_type": "markdown",
   "metadata": {},
   "source": [
    "如果登录成功，我们获得的响应如下：\n",
    "```\n",
    "Status: 200 OK\n",
    "Server: nginx/1.2.0\n",
    "...\n",
    "Set-Cookie: SSOLoginState=1432620126; path=/; domain=weibo.cn\n",
    "...\n",
    "Data: {\"retcode\":20000000,\"msg\":\"\",\"data\":{...,\"uid\":\"1658384301\"}}\n",
    "```\n",
    "\n",
    "如果登录失败，我们获得的响应如下：\n",
    "```\n",
    "...\n",
    "Data: {\"retcode\":50011015,\"msg\":\"\\u7528\\u6237\\u540d\\u6216\\u5bc6\\u7801\\u9519\\u8bef\",\"data\":{\"username\":\"example@python.org\",\"errline\":536}}\n",
    "```"
   ]
  },
  {
   "cell_type": "markdown",
   "metadata": {},
   "source": [
    "### Handler\n",
    "\n",
    "如果还需要更复杂的控制，比如通过一个Proxy去访问网站，我们需要利用`ProxyHandler`来处理，示例代码如下："
   ]
  },
  {
   "cell_type": "code",
   "execution_count": null,
   "metadata": {},
   "outputs": [],
   "source": [
    "proxy_handler = urllib.request.ProxyHandler({'http': 'http://www.example.com:3128/'})\n",
    "proxy_auth_handler = urllib.request.ProxyBasicAuthHandler()\n",
    "proxy_auth_handler.add_password('realm', 'host', 'username', 'password')\n",
    "opener = urllib.request.build_opener(proxy_handler, proxy_auth_handler)\n",
    "with opener.open('http://www.example.com/login.html') as f:\n",
    "    pass"
   ]
  },
  {
   "cell_type": "markdown",
   "metadata": {},
   "source": [
    "### 练习\n",
    "\n",
    "利用urllib读取JSON，然后将JSON解析为Python对象："
   ]
  },
  {
   "cell_type": "code",
   "execution_count": 8,
   "metadata": {},
   "outputs": [
    {
     "name": "stdout",
     "output_type": "stream",
     "text": [
      "{'query': {'count': 1, 'created': '2018-01-10T02:08:28Z', 'lang': 'en-US', 'results': {'channel': {'units': {'distance': 'mi', 'pressure': 'in', 'speed': 'mph', 'temperature': 'F'}, 'title': 'Yahoo! Weather - Beijing, Beijing, CN', 'link': 'http://us.rd.yahoo.com/dailynews/rss/weather/Country__Country/*https://weather.yahoo.com/country/state/city-2151330/', 'description': 'Yahoo! Weather for Beijing, Beijing, CN', 'language': 'en-us', 'lastBuildDate': 'Wed, 10 Jan 2018 10:08 AM CST', 'ttl': '60', 'location': {'city': 'Beijing', 'country': 'China', 'region': ' Beijing'}, 'wind': {'chill': '12', 'direction': '320', 'speed': '11'}, 'atmosphere': {'humidity': '28', 'pressure': '1024.0', 'rising': '0', 'visibility': '16.1'}, 'astronomy': {'sunrise': '7:36 am', 'sunset': '5:9 pm'}, 'image': {'title': 'Yahoo! Weather', 'width': '142', 'height': '18', 'link': 'http://weather.yahoo.com', 'url': 'http://l.yimg.com/a/i/brand/purplelogo//uh/us/news-wea.gif'}, 'item': {'title': 'Conditions for Beijing, Beijing, CN at 09:00 AM CST', 'lat': '39.90601', 'long': '116.387909', 'link': 'http://us.rd.yahoo.com/dailynews/rss/weather/Country__Country/*https://weather.yahoo.com/country/state/city-2151330/', 'pubDate': 'Wed, 10 Jan 2018 09:00 AM CST', 'condition': {'code': '32', 'date': 'Wed, 10 Jan 2018 09:00 AM CST', 'temp': '21', 'text': 'Sunny'}, 'forecast': [{'code': '32', 'date': '10 Jan 2018', 'day': 'Wed', 'high': '30', 'low': '17', 'text': 'Sunny'}, {'code': '32', 'date': '11 Jan 2018', 'day': 'Thu', 'high': '29', 'low': '11', 'text': 'Sunny'}, {'code': '32', 'date': '12 Jan 2018', 'day': 'Fri', 'high': '37', 'low': '13', 'text': 'Sunny'}, {'code': '34', 'date': '13 Jan 2018', 'day': 'Sat', 'high': '38', 'low': '14', 'text': 'Mostly Sunny'}, {'code': '32', 'date': '14 Jan 2018', 'day': 'Sun', 'high': '41', 'low': '18', 'text': 'Sunny'}, {'code': '28', 'date': '15 Jan 2018', 'day': 'Mon', 'high': '40', 'low': '20', 'text': 'Mostly Cloudy'}, {'code': '28', 'date': '16 Jan 2018', 'day': 'Tue', 'high': '38', 'low': '24', 'text': 'Mostly Cloudy'}, {'code': '30', 'date': '17 Jan 2018', 'day': 'Wed', 'high': '39', 'low': '22', 'text': 'Partly Cloudy'}, {'code': '30', 'date': '18 Jan 2018', 'day': 'Thu', 'high': '37', 'low': '22', 'text': 'Partly Cloudy'}, {'code': '34', 'date': '19 Jan 2018', 'day': 'Fri', 'high': '39', 'low': '17', 'text': 'Mostly Sunny'}], 'description': '<![CDATA[<img src=\"http://l.yimg.com/a/i/us/we/52/32.gif\"/>\\n<BR />\\n<b>Current Conditions:</b>\\n<BR />Sunny\\n<BR />\\n<BR />\\n<b>Forecast:</b>\\n<BR /> Wed - Sunny. High: 30Low: 17\\n<BR /> Thu - Sunny. High: 29Low: 11\\n<BR /> Fri - Sunny. High: 37Low: 13\\n<BR /> Sat - Mostly Sunny. High: 38Low: 14\\n<BR /> Sun - Sunny. High: 41Low: 18\\n<BR />\\n<BR />\\n<a href=\"http://us.rd.yahoo.com/dailynews/rss/weather/Country__Country/*https://weather.yahoo.com/country/state/city-2151330/\">Full Forecast at Yahoo! Weather</a>\\n<BR />\\n<BR />\\n<BR />\\n]]>', 'guid': {'isPermaLink': 'false'}}}}}}\n",
      "ok\n"
     ]
    }
   ],
   "source": [
    "from urllib import request\n",
    "def fetch_data(url):\n",
    "    with request.urlopen(url) as f:\n",
    "        data = f.read()\n",
    "        import json\n",
    "        result = json.loads(str(data,encoding='utf-8'))\n",
    "    return result\n",
    "\n",
    "# 测试\n",
    "URL = 'https://query.yahooapis.com/v1/public/yql?q=select%20*%20from%20weather.forecast%20where%20woeid%20%3D%202151330&format=json'\n",
    "data = fetch_data(URL)\n",
    "print(data)\n",
    "assert data['query']['results']['channel']['location']['city'] == 'Beijing'\n",
    "print('ok')"
   ]
  },
  {
   "cell_type": "markdown",
   "metadata": {},
   "source": [
    "## XML\n",
    "XML虽然比JSON复杂，在Web中应用也不如以前多了，不过仍有很多地方在用，所以，有必要了解如何操作XML\n",
    "\n",
    "### DOM vs SAX\n",
    "操作XML有两种方法：DOM和SAX。DOM会把整个XML读入内存，解析为树，因此占用内存大，解析慢，优点是可以任意遍历树的节点。SAX是流模式，边读边解析，占用内存小，解析快，缺点是我们需要自己处理事件。\n",
    "\n",
    "正常情况下，优先考虑SAX，因为DOM实在太占内存。\n",
    "\n",
    "在Python中使用SAX解析XML非常简洁，通常我们关心的事件是`start_element`，`end_element`和`char_data`，准备好这3个函数，然后就可以解析xml了\n",
    "\n",
    "举个例子，当SAX解析器读到一个节点时：\n",
    "```html\n",
    "<a href=\"/\">python</a>\n",
    "```\n",
    "会产生3个事件：\n",
    "1. start_element事件，在读取`<a href=\"/\">`时；\n",
    "2. char_data事件，在读取`python`时；\n",
    "3. end_element事件，在读取`</a>`时。"
   ]
  },
  {
   "cell_type": "code",
   "execution_count": 10,
   "metadata": {},
   "outputs": [
    {
     "name": "stdout",
     "output_type": "stream",
     "text": [
      "sax:start_element: ol, attrs: {}\n",
      "sax:char_data: \n",
      "\n",
      "sax:char_data:     \n",
      "sax:start_element: li, attrs: {}\n",
      "sax:start_element: a, attrs: {'href': '/python', 'id': '1'}\n",
      "sax:char_data: Python\n",
      "sax:end_element: a\n",
      "sax:end_element: li\n",
      "sax:char_data: \n",
      "\n",
      "sax:char_data:     \n",
      "sax:start_element: li, attrs: {}\n",
      "sax:start_element: a, attrs: {'href': '/ruby'}\n",
      "sax:char_data: Ruby\n",
      "sax:end_element: a\n",
      "sax:end_element: li\n",
      "sax:char_data: \n",
      "\n",
      "sax:end_element: ol\n"
     ]
    },
    {
     "data": {
      "text/plain": [
       "1"
      ]
     },
     "execution_count": 10,
     "metadata": {},
     "output_type": "execute_result"
    }
   ],
   "source": [
    "from xml.parsers.expat import ParserCreate\n",
    "\n",
    "class DefaultSaxHandler(object):\n",
    "    def start_element(self, name, attrs):\n",
    "        print('sax:start_element: %s, attrs: %s' % (name, str(attrs)))\n",
    "\n",
    "    def end_element(self, name):\n",
    "        print('sax:end_element: %s' % name)\n",
    "\n",
    "    def char_data(self, text):\n",
    "        print('sax:char_data: %s' % text)\n",
    "\n",
    "xml = r'''<?xml version=\"1.0\"?>\n",
    "<ol>\n",
    "    <li><a href=\"/python\" id='1'>Python</a></li>\n",
    "    <li><a href=\"/ruby\">Ruby</a></li>\n",
    "</ol>\n",
    "'''\n",
    "# 创建解析器\n",
    "handler = DefaultSaxHandler()\n",
    "parser = ParserCreate()\n",
    "# 处理函数\n",
    "parser.StartElementHandler = handler.start_element\n",
    "parser.EndElementHandler = handler.end_element\n",
    "parser.CharacterDataHandler = handler.char_data\n",
    "\n",
    "#解析\n",
    "parser.Parse(xml)"
   ]
  },
  {
   "cell_type": "markdown",
   "metadata": {},
   "source": [
    "需要注意的是读取一大段字符串时，`CharacterDataHandler`可能被多次调用，所以需要自己保存起来，在`EndElementHandler`里面再合并。\n",
    "\n",
    "除了解析XML外，如何生成XML呢？99%的情况下需要生成的XML结构都是非常简单的，因此，最简单也是最有效的生成XML的方法是拼接字符串：\n",
    "```python\n",
    "L = []\n",
    "L.append(r'<?xml version=\"1.0\"?>')\n",
    "L.append(r'<root>')\n",
    "L.append(encode('some & data'))\n",
    "L.append(r'</root>')\n",
    "return ''.join(L)\n",
    "```\n",
    "如果要生成复杂的XML呢？建议你不要用XML，改成JSON。"
   ]
  },
  {
   "cell_type": "markdown",
   "metadata": {},
   "source": [
    "### 练习\n",
    "请利用SAX编写程序解析Yahoo的XML格式的天气预报，获取天气预报：\n",
    "\n",
    "https://query.yahooapis.com/v1/public/yql?q=select%20*%20from%20weather.forecast%20where%20woeid%20%3D%202151330&format=xml\n",
    "\n",
    "参数`woeid`是城市代码，要查询某个城市代码，可以在weather.yahoo.com搜索城市，浏览器地址栏的URL就包含城市代码。\n"
   ]
  },
  {
   "cell_type": "code",
   "execution_count": 31,
   "metadata": {},
   "outputs": [
    {
     "name": "stdout",
     "output_type": "stream",
     "text": [
      "{'city': 'Beijing', 'forecast': [{'date': '2018-01-10', 'high': '30', 'low': '17'}, {'date': '2018-01-11', 'high': '29', 'low': '11'}, {'date': '2018-01-12', 'high': '37', 'low': '13'}, {'date': '2018-01-13', 'high': '38', 'low': '14'}, {'date': '2018-01-14', 'high': '41', 'low': '18'}, {'date': '2018-01-15', 'high': '40', 'low': '20'}, {'date': '2018-01-16', 'high': '38', 'low': '24'}, {'date': '2018-01-17', 'high': '39', 'low': '22'}, {'date': '2018-01-18', 'high': '37', 'low': '22'}, {'date': '2018-01-19', 'high': '39', 'low': '17'}]}\n",
      "ok\n"
     ]
    }
   ],
   "source": [
    "from xml.parsers.expat import ParserCreate\n",
    "from urllib import request\n",
    "import time\n",
    "class DefaultSaxHandler(object):\n",
    "    def __init__(self):\n",
    "        self.location = {}\n",
    "        self.forecast = []\n",
    "    def start_element(self, name, attrs):\n",
    "#         print('sax:start_element: %s, attrs: %s' % (name, str(attrs)))\n",
    "        if name == 'yweather:location':\n",
    "            self.location = attrs\n",
    "        if name == 'yweather:forecast':\n",
    "            data = {}\n",
    "            date = time.strftime('%Y-%m-%d' , time.strptime(attrs['date'],'%d %b %Y'))\n",
    "            data['date'] = date\n",
    "            data['high'] = attrs['high']\n",
    "            data['low'] = attrs['low']\n",
    "            self.forecast.append(data)\n",
    "\n",
    "    def end_element(self, name):\n",
    "        pass\n",
    "#         print('sax:end_element: %s' % name)\n",
    "\n",
    "    def char_data(self, text):\n",
    "        pass\n",
    "#         print('sax:char_data: %s' % text)\n",
    "\n",
    "def parseXml(xml_str):\n",
    "    handler = DefaultSaxHandler()\n",
    "    parser = ParserCreate()\n",
    "    parser.StartElementHandler = handler.start_element\n",
    "    parser.EndElementHandler = handler.end_element\n",
    "    parser.CharacterDataHandler = handler.char_data\n",
    "    parser.Parse(xml_str)\n",
    "    return {\n",
    "        'city': handler.location['city'],\n",
    "        'forecast': handler.forecast\n",
    "    }\n",
    "\n",
    "# 测试:\n",
    "URL = 'https://query.yahooapis.com/v1/public/yql?q=select%20*%20from%20weather.forecast%20where%20woeid%20%3D%202151330&format=xml'\n",
    "\n",
    "with request.urlopen(URL, timeout=4) as f:\n",
    "    data = f.read()\n",
    "\n",
    "result = parseXml(data.decode('utf-8'))\n",
    "print(result)\n",
    "assert result['city'] == 'Beijing'\n",
    "print('ok')"
   ]
  },
  {
   "cell_type": "markdown",
   "metadata": {},
   "source": [
    "## HTMLParser\n",
    "如果我们要编写一个搜索引擎，第一步是用爬虫把目标网站的页面抓下来，第二步就是解析该HTML页面，看看里面的内容到底是新闻、图片还是视频。\n",
    "\n",
    "假设第一步已经完成了，第二步应该如何解析HTML呢？HTML本质上是XML的子集，但是HTML的语法没有XML那么严格，所以不能用标准的DOM或SAX来解析HTML。好在Python提供了HTMLParser来非常方便地解析HTML，只需简单几行代码："
   ]
  },
  {
   "cell_type": "code",
   "execution_count": null,
   "metadata": {},
   "outputs": [],
   "source": [
    "from html.parser import HTMLParser\n",
    "from html.entities import name2codepoint\n",
    "\n",
    "class MyHTMLParser(HTMLParser):\n",
    "\n",
    "    def handle_starttag(self, tag, attrs):\n",
    "        print('<%s>' % tag)\n",
    "\n",
    "    def handle_endtag(self, tag):\n",
    "        print('</%s>' % tag)\n",
    "\n",
    "    def handle_startendtag(self, tag, attrs):\n",
    "        print('<%s/>' % tag)\n",
    "\n",
    "    def handle_data(self, data):\n",
    "        print(data)\n",
    "\n",
    "    def handle_comment(self, data):\n",
    "        print('<!--', data, '-->')\n",
    "\n",
    "    def handle_entityref(self, name):\n",
    "        print('&%s;' % name)\n",
    "\n",
    "    def handle_charref(self, name):\n",
    "        print('&#%s;' % name)\n",
    "\n",
    "parser = MyHTMLParser()\n",
    "parser.feed('''<html>\n",
    "<head></head>\n",
    "<body>\n",
    "<!-- test html parser -->\n",
    "    <p>Some <a href=\\\"#\\\">html</a> HTML&nbsp;tutorial...<br>END</p>\n",
    "</body></html>''')"
   ]
  },
  {
   "cell_type": "markdown",
   "metadata": {},
   "source": [
    "`feed()`方法可以多次调用，也就是不一定一次把整个HTML字符串都塞进去，可以一部分一部分塞进去。\n",
    "\n",
    "特殊字符有两种，一种是英文表示的`&nbsp;`，一种是数字表示的`&#1234;`，这两种字符都可以通过Parser解析出来。"
   ]
  },
  {
   "cell_type": "markdown",
   "metadata": {},
   "source": [
    "## 参考\n",
    "1、[hashlib - 廖雪峰](https://www.liaoxuefeng.com/wiki/0014316089557264a6b348958f449949df42a6d3a2e542c000/0014319556588648dd1fb0047a34d0c945ee33e8f4c90cc000)\n",
    "\n",
    "2、[hmac - 廖雪峰](https://www.liaoxuefeng.com/wiki/0014316089557264a6b348958f449949df42a6d3a2e542c000/0015108777177966ef0f4f8510a41b3b8c48cdcf7047b2d000)\n",
    "\n",
    "3、[itertools - 廖雪峰](https://www.liaoxuefeng.com/wiki/0014316089557264a6b348958f449949df42a6d3a2e542c000/00143200162233153835cfdd1a541a18ddc15059e3ddeec000)\n",
    "\n",
    "4、[contextlib - 廖雪峰](https://www.liaoxuefeng.com/wiki/0014316089557264a6b348958f449949df42a6d3a2e542c000/001478651770626de401ff1c0d94f379774cabd842222ff000)\n",
    "\n",
    "5、[urllib - 廖雪峰](https://www.liaoxuefeng.com/wiki/0014316089557264a6b348958f449949df42a6d3a2e542c000/001432688314740a0aed473a39f47b09c8c7274c9ab6aee000)\n",
    "\n",
    "6、[XML - 廖雪峰](https://www.liaoxuefeng.com/wiki/0014316089557264a6b348958f449949df42a6d3a2e542c000/001432002075057b594f70ecb58445da6ef6071aca880af000)\n",
    "\n",
    "7、[HTMLParser - 廖雪峰](https://www.liaoxuefeng.com/wiki/0014316089557264a6b348958f449949df42a6d3a2e542c000/0014320023122880232500da9dc4a4486ad00426f081c15000)"
   ]
  }
 ],
 "metadata": {
  "kernelspec": {
   "display_name": "Python 3",
   "language": "python",
   "name": "python3"
  },
  "language_info": {
   "codemirror_mode": {
    "name": "ipython",
    "version": 3
   },
   "file_extension": ".py",
   "mimetype": "text/x-python",
   "name": "python",
   "nbconvert_exporter": "python",
   "pygments_lexer": "ipython3",
   "version": "3.6.4"
  },
  "toc": {
   "base_numbering": 1,
   "nav_menu": {},
   "number_sections": true,
   "sideBar": true,
   "skip_h1_title": false,
   "title_cell": "Table of Contents",
   "title_sidebar": "Contents",
   "toc_cell": false,
   "toc_position": {
    "height": "535px",
    "left": "0px",
    "right": "673px",
    "top": "111px",
    "width": "264px"
   },
   "toc_section_display": "block",
   "toc_window_display": true
  }
 },
 "nbformat": 4,
 "nbformat_minor": 2
}
