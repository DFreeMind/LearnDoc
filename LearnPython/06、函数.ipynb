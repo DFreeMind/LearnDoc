{
 "cells": [
  {
   "cell_type": "markdown",
   "metadata": {},
   "source": [
    "![image](http://wx2.sinaimg.cn/thumbnail/69d4185bly1fmf9kfagd3j20ek0ekq88.jpg)\n",
    "\n",
    "\n",
    "# 函数\n",
    "函数是**组织好的**，可**重复**使用的，用来实现**单一**，或相关联功能的**代码段**。\n",
    "\n",
    "函数能提高应用的模块性，和代码的重复利用率。你已经知道Python提供了许多内建函数，比如print()，在此可以查到python提供的内置函数列表[Built-in Functions](https://docs.python.org/3/library/functions.html#abs)。要调用一个函数，需要知道函数的名称和参数，比如求查看函数使用信息的 `help` 函数只需要一个参数。\n",
    "\n",
    "但你也可以自己创建函数，这被叫做用户自定义函数。\n",
    "\n",
    "## 内部函数使用\n",
    "### 使用 help 查看函数使用帮助 "
   ]
  },
  {
   "cell_type": "code",
   "execution_count": null,
   "metadata": {},
   "outputs": [],
   "source": [
    "# 使用 help 查看函数的使用信息 \n",
    "help(max)"
   ]
  },
  {
   "cell_type": "code",
   "execution_count": null,
   "metadata": {},
   "outputs": [],
   "source": [
    "# 返回列表中的最大值\n",
    "print(max(1,2,3,2))\n",
    "print(max([1,3,4,5]))\n",
    "# 返回最大的参数\n",
    "print(max([2,3],[1,3,4,5]))\n",
    "print(max([6,3],[6,3,4,5]))\n",
    "print(max([6,3,5],[6,3,4,5]))\n",
    "# 参数错误会报错\n",
    "print(max([2,3],[1,3,4,5],\"q\"))"
   ]
  },
  {
   "cell_type": "markdown",
   "metadata": {},
   "source": [
    "### 数据类型转换函数\n",
    "python 提供了不同类型数据之间转换的函数，如 `int()` 将数据转成 int 类型、`bool()` 将数据转成布尔值、`float()` 将数据转成浮点型、`str()` 将数据转换成字符串等。使用方法都可以在[Built-in Functions](https://docs.python.org/3/library/functions.html#abs)或者使用 `help`函数查到。"
   ]
  },
  {
   "cell_type": "code",
   "execution_count": null,
   "metadata": {},
   "outputs": [],
   "source": [
    "# 字符串 - > int\n",
    "print(int(\"100\"))\n",
    "# 浮点型 -> int\n",
    "print(int(12.21))\n",
    "# 非整型字符串报错\n",
    "print(int(\"123.45\"))"
   ]
  },
  {
   "cell_type": "code",
   "execution_count": null,
   "metadata": {},
   "outputs": [],
   "source": [
    "# bool 值转换，不传值返回false\n",
    "print(bool())\n",
    "print(bool(\"\"))\n",
    "print(bool([]))\n",
    "\n",
    "# 传 False 返回f False\n",
    "print(bool(False))\n",
    "\n",
    "# 其他值均为 True\n",
    "print(bool(23))\n",
    "print(bool(\"12\"))\n",
    "print(bool(12.34))\n",
    "print(bool([1,2,3]))"
   ]
  },
  {
   "cell_type": "markdown",
   "metadata": {},
   "source": [
    "函数名其实就是指向一个函数对象的引用，完全可以把函数名赋给一个变量，相当于给这个函数起了一个“别名”："
   ]
  },
  {
   "cell_type": "code",
   "execution_count": null,
   "metadata": {},
   "outputs": [],
   "source": [
    "alias = max\n",
    "alias(1,2,3,4,8,5,6)"
   ]
  },
  {
   "cell_type": "markdown",
   "metadata": {},
   "source": [
    "## 自定义函数\n",
    "在Python中，可以通过以下方式来创建一个自定义函数：\n",
    "1. 函数代码块以 `def` 关键词开头，后接函数标识符名称和圆括号 `()`。\n",
    "2. 任何传入参数和自变量必须放在圆括号中间，圆括号之间可以用于定义参数。\n",
    "3. 函数的第一行语句可以选择性地使用文档字符串—用于存放函数说明。\n",
    "4. 函数内容以冒号起始，并且缩进。\n",
    "5. `return [表达式]` 结束函数，选择性地返回一个值给调用方。\n",
    "```python\n",
    "   def 函数名（参数列表）:\n",
    "      函数体\n",
    "```\n",
    "如下定义一个依据输入的年龄判断所处的阶段："
   ]
  },
  {
   "cell_type": "code",
   "execution_count": null,
   "metadata": {},
   "outputs": [],
   "source": [
    "def age_where(age):\n",
    "    if age >= 18:\n",
    "        return 'adult'\n",
    "    elif age >= 6:\n",
    "        return 'teenager'\n",
    "    else:\n",
    "        return 'kid'\n",
    "\n",
    "print(age_where(7))"
   ]
  },
  {
   "cell_type": "markdown",
   "metadata": {},
   "source": [
    "函数体内部的语句在执行时，一旦执行到 `return` 时，函数就执行完毕，并将结果返回。因此，函数内部通过条件判断和循环可以实现非常复杂的逻辑。\n",
    "\n",
    "如果没有 `return` 语句，函数执行完毕后也会返回结果，只是结果为 `None`。`return None`可以简写为 `return`。"
   ]
  },
  {
   "cell_type": "markdown",
   "metadata": {},
   "source": [
    "## 空函数\n",
    "如果想定义一个什么事也不做的空函数，可以用`pass`语句，`pass`语句什么都不做，那有什么用？实际上`pass`可以用来作为占位符，比如现在还没想好怎么写函数的代码，就可以先放一个`pass`，让代码能运行起来。"
   ]
  },
  {
   "cell_type": "code",
   "execution_count": null,
   "metadata": {},
   "outputs": [],
   "source": [
    "def donothing():\n",
    "    pass"
   ]
  },
  {
   "cell_type": "markdown",
   "metadata": {},
   "source": [
    "## 参数检查\n",
    "调用函数时，如果参数**个数不对**，Python解释器会自动检查出来，并抛出`TypeError`："
   ]
  },
  {
   "cell_type": "code",
   "execution_count": null,
   "metadata": {},
   "outputs": [],
   "source": [
    "age_where(24,26)"
   ]
  },
  {
   "cell_type": "markdown",
   "metadata": {},
   "source": [
    "是如果参数类型不对，Python解释器就无法帮我们检查"
   ]
  },
  {
   "cell_type": "code",
   "execution_count": null,
   "metadata": {},
   "outputs": [],
   "source": [
    "age_where(\"age\")"
   ]
  },
  {
   "cell_type": "markdown",
   "metadata": {},
   "source": [
    "内置的函数会检测参数类型，有问题会提示出来，而我们自己编写的函数则没有。因此我们可以使用内置的 `isinstance` 来检测参数的类型，修改之后的 age_where 如下："
   ]
  },
  {
   "cell_type": "code",
   "execution_count": null,
   "metadata": {},
   "outputs": [],
   "source": [
    "abs(\"age\")"
   ]
  },
  {
   "cell_type": "code",
   "execution_count": null,
   "metadata": {},
   "outputs": [],
   "source": [
    "def age_where_strong(age):\n",
    "    # 检测传入的参数是否为整数\n",
    "    if not isinstance(age, (int)):\n",
    "        raise TypeError('bad operand type')\n",
    "    if age >= 18:\n",
    "        return 'adult'\n",
    "    elif age >= 6:\n",
    "        return 'teenager'\n",
    "    else:\n",
    "        return 'kid'\n",
    "age_where_strong(\"23\")"
   ]
  },
  {
   "cell_type": "markdown",
   "metadata": {},
   "source": [
    "## 返回多个值\n",
    "python 的函数可以返回多个值。比如在游戏中经常需要从一个点移动到另一个点，给出坐标、位移和角度，就可以计算出新的新的坐标，import math语句表示导入math包，并允许后续代码引用math包里的sin、cos等函数。然后，我们就可以同时获得返回值："
   ]
  },
  {
   "cell_type": "code",
   "execution_count": null,
   "metadata": {},
   "outputs": [],
   "source": [
    "import math\n",
    "\n",
    "def move(x, y, step, angle=0):\n",
    "    nx = x + step * math.cos(angle)\n",
    "    ny = y - step * math.sin(angle)\n",
    "    return nx, ny\n",
    "x, y = move(100, 100, 60, math.pi / 6)\n",
    "print(x, y)"
   ]
  },
  {
   "cell_type": "markdown",
   "metadata": {},
   "source": [
    "但其实这只是一种假象，Python函数返回的仍然是单一值，原来返回值是一个tuple！但是，在语法上，返回一个tuple可以省略括号，而多个变量可以同时接收一个tuple，按位置赋给对应的值，所以，Python的函数返回多值其实就是返回一个tuple，但写起来更方便。"
   ]
  },
  {
   "cell_type": "code",
   "execution_count": null,
   "metadata": {},
   "outputs": [],
   "source": [
    "r = move(100, 100, 60, math.pi / 6)\n",
    "print(r)"
   ]
  },
  {
   "cell_type": "markdown",
   "metadata": {},
   "source": [
    "## 函数参数\n",
    "定义函数的时候，我们把参数的名字和位置确定下来，函数的接口定义就完成了。对于函数的调用者来说，只需要知道如何传递正确的参数，以及函数将返回什么样的值就够了，函数内部的复杂逻辑被封装起来，调用者无需了解。\n",
    "\n",
    "Python的函数定义非常简单，但灵活度却非常大。除了正常定义的必选参数外，还可以使用默认参数、可变参数和关键字参数，使得函数定义出来的接口，不但能处理复杂的参数，还可以简化调用者的代码。\n",
    "\n",
    "### 位置参数（必须参数）\n",
    "必需参数须以正确的顺序传入函数。调用时的数量必须和声明时的一样。"
   ]
  },
  {
   "cell_type": "code",
   "execution_count": null,
   "metadata": {},
   "outputs": [],
   "source": [
    "# 含有一个位置参数\n",
    "def power(x):\n",
    "    return x * x\n",
    "power(6)"
   ]
  },
  {
   "cell_type": "markdown",
   "metadata": {},
   "source": [
    "计算一个数的三次方或者更多次方，就需要对以上的函数进行修改，添加一个参数表示多少次幂，如下。修改后的`power(x, n)`函数有两个参数：x和n，这两个参数都是位置参数，调用函数时，传入的两个值按照位置顺序依次赋给参数x和n。"
   ]
  },
  {
   "cell_type": "code",
   "execution_count": null,
   "metadata": {},
   "outputs": [],
   "source": [
    "# 含有两个位置参数\n",
    "def power(x,n):\n",
    "    total = 1\n",
    "    start = 0\n",
    "    while start < n:\n",
    "        total = total*x\n",
    "        start += 1\n",
    "    return total\n",
    "power(2,3)"
   ]
  },
  {
   "cell_type": "markdown",
   "metadata": {},
   "source": [
    "### 默认参数\n",
    "调用函数时，如果没有传递参数，则会使用默认参数。如上面的 `power` 函数，之传入一个参数时就会报错，为了让原来的函数还能使用，就可以使用默认参数，如果不传入这个参数那么默认值就是2，传入值就是当前传入的值。"
   ]
  },
  {
   "cell_type": "code",
   "execution_count": null,
   "metadata": {},
   "outputs": [],
   "source": [
    "# 含有默认参数的 power ，并指定 第二个参数的默认值为 2\n",
    "def power(x,n = 2):\n",
    "    total = 1\n",
    "    start = 0\n",
    "    while start < n:\n",
    "        total = total*x\n",
    "        start += 1\n",
    "    return total\n",
    "\n",
    "# 传入一个值，默认n就是2，此时相当于调用 power(4,2)\n",
    "print(power(4))\n",
    "print(power(2,4))"
   ]
  },
  {
   "cell_type": "markdown",
   "metadata": {},
   "source": [
    "从上面的例子可以看出，默认参数可以简化函数的调用。设置默认参数时，有几点要注意：\n",
    "\n",
    "一是必选参数在前，默认参数在后，否则Python的解释器会报错（思考一下为什么默认参数不能放在必选参数前面）；\n",
    "\n",
    "二是如何设置默认参数。\n",
    "\n",
    "当函数有多个参数时，把变化大的参数放前面，变化小的参数放后面。变化小的参数就可以作为默认参数。\n",
    "\n",
    "使用默认参数有什么好处？最大的好处是能降低调用函数的难度。"
   ]
  },
  {
   "cell_type": "markdown",
   "metadata": {},
   "source": [
    "#### 多个默认参数"
   ]
  },
  {
   "cell_type": "code",
   "execution_count": null,
   "metadata": {},
   "outputs": [],
   "source": [
    "def enroll(name, gender, age=6, city='Beijing'):\n",
    "    print('name:', name)\n",
    "    print('gender:', gender)\n",
    "    print('age:', age)\n",
    "    print('city:', city)"
   ]
  },
  {
   "cell_type": "markdown",
   "metadata": {},
   "source": [
    "有多个默认参数时，调用的时候，既可以按顺序提供默认参数，比如调用 `enroll('Bob', 'M', 7)`，意思是，除了name，gender这两个参数外，最后1个参数应用在参数age上，city参数由于没有提供，仍然使用默认值。\n",
    "\n",
    "也可以不按顺序提供部分默认参数。当不按顺序提供部分默认参数时，需要把参数名写上。比如调用 `enroll('Adam', 'M', city='Tianjin')`，意思是，city参数用传进去的值，其他默认参数继续使用默认值。"
   ]
  },
  {
   "cell_type": "code",
   "execution_count": null,
   "metadata": {},
   "outputs": [],
   "source": [
    "enroll('Bob', 'M', 7)"
   ]
  },
  {
   "cell_type": "code",
   "execution_count": null,
   "metadata": {},
   "outputs": [],
   "source": [
    "enroll('Adam', 'M', city='Tianjin')"
   ]
  },
  {
   "cell_type": "markdown",
   "metadata": {},
   "source": [
    "#### 不当的使用默认值\n",
    "默认参数很有用，但使用不当，也会掉坑里。默认参数有个最大的坑，演示如下：\n",
    "\n",
    "先定义一个函数，传入一个list，添加一个END再返回："
   ]
  },
  {
   "cell_type": "code",
   "execution_count": null,
   "metadata": {},
   "outputs": [],
   "source": [
    "def add_end(L=[]):\n",
    "    L.append('END')\n",
    "    return L\n",
    "\n",
    "# 当你正常调用时，结果似乎不错\n",
    "print(add_end([1, 2, 3]))\n",
    "print(add_end(['x', 'y', 'z']))\n",
    "\n",
    "# 当你使用默认参数调用时，一开始结果也是对的：\n",
    "print(\"\")\n",
    "print(add_end())\n",
    "\n",
    "# 但是，再次调用时，结果就不对了：\n",
    "print(add_end())"
   ]
  },
  {
   "cell_type": "markdown",
   "metadata": {},
   "source": [
    "原因解释如下：\n",
    "\n",
    "Python函数在定义的时候，默认参数L的值就被计算出来了，即`[]`，因为默认参数L也是一个变量，它指向对象`[]`，每次调用该函数，如果改变了L的内容，则下次调用时，默认参数的内容就变了，不再是函数定义时的`[]`了。\n",
    "\n",
    "因此，**定义默认参数要牢记一点：默认参数必须指向不变对象！**\n",
    "\n",
    "要修改上面的例子，我们可以用`None`这个不变对象来实现："
   ]
  },
  {
   "cell_type": "code",
   "execution_count": null,
   "metadata": {},
   "outputs": [],
   "source": [
    "def add_end(L=None):\n",
    "    if L is None:\n",
    "        L = []\n",
    "    L.append('END')\n",
    "    return L\n",
    "\n",
    "# 无论调用多少次，都不会有问题\n",
    "print(add_end())\n",
    "print(add_end())"
   ]
  },
  {
   "cell_type": "markdown",
   "metadata": {},
   "source": [
    "为什么要设计str、None这样的不变对象呢？因为不变对象一旦创建，对象内部的数据就不能修改，这样就减少了由于修改数据导致的错误。此外，由于对象不变，多任务环境下同时读取对象不需要加锁，同时读一点问题都没有。我们在编写程序时，如果可以设计一个不变对象，那就尽量设计成不变对象。\n",
    "\n",
    "### 可更改(mutable)与不可更改(immutable)对象\n",
    "在 python 中，`strings`, `tuples`, 和 `numbers` 是不可更改的对象，而 `list`,`dict` 等则是可以修改的对象。\n",
    "- 不可变类型：变量赋值 `a=5` 后再赋值 `a=10`，这里实际是新生成一个 `int` 值对象 10，再让 `a` 指向它，而 5 被丢弃，不是改变a的值，相当于新生成了`a`。\n",
    "- 可变类型：变量赋值 `la=[1,2,3,4]` 后再赋值 `la[2]=`5 则是将 `list` `la` 的第三个元素值更改，本身`la`没有动，只是其内部的一部分值被修改了。\n",
    "\n",
    "python 函数的参数传递：\n",
    "- 不可变类型：类似 c++ 的值传递，如 整数、字符串、元组。如`fun（a）`，传递的只是a的值，没有影响a对象本身。比如在 `fun（a）`内部修改 a 的值，只是修改另一个复制的对象，不会影响 a 本身。\n",
    "- 可变类型：类似 c++ 的引用传递，如 列表，字典。如 `fun（la）`，则是将 `la` 真正的传过去，修改后fun外部的la也会受影响\n",
    "\n",
    "python 中一切都是对象，严格意义我们不能说值传递还是引用传递，我们应该说传不可变对象和传可变对象。\n",
    "\n",
    "#### python 传不可变对象实例"
   ]
  },
  {
   "cell_type": "code",
   "execution_count": null,
   "metadata": {},
   "outputs": [],
   "source": [
    "def ChangeInt( a ):\n",
    "    a = 10\n",
    "\n",
    "b = 2\n",
    "ChangeInt(b)\n",
    "print( b ) # 结果是 2"
   ]
  },
  {
   "cell_type": "markdown",
   "metadata": {},
   "source": [
    "实例中有 int 对象 2，指向它的变量是 b，在传递给 ChangeInt 函数时，按传值的方式复制了变量 b，a 和 b 都指向了同一个 Int 对象，在 a=10 时，则新生成一个 int 值对象 10，并让 a 指向它。\n",
    "\n",
    "#### 传可变对象实例\n",
    "可变对象在函数里修改了参数，那么在调用这个函数的函数里，原始的参数也被改变了。例如："
   ]
  },
  {
   "cell_type": "code",
   "execution_count": null,
   "metadata": {},
   "outputs": [],
   "source": [
    "def changeme( mylist ):\n",
    "   \"修改传入的列表\"\n",
    "   mylist.append([1,2,3,4]);\n",
    "   print (\"函数内取值: \", mylist)\n",
    "   return\n",
    " \n",
    "# 调用changeme函数，会把mylist对象传入进去\n",
    "mylist = [10,20,30];\n",
    "changeme( mylist );\n",
    "print (\"函数外取值: \", mylist)"
   ]
  },
  {
   "cell_type": "markdown",
   "metadata": {},
   "source": [
    "### 可变参数\n",
    "在Python函数中，还可以定义可变参数。顾名思义，可变参数就是传入的参数个数是可变的，可以是1个、2个到任意个，还可以是0个。和上述2种参数不同，声明时不会命名。基本语法如下：\n",
    "\n",
    "```python\n",
    "def functionname([formal_args,] *var_args_tuple ):\n",
    "   function_suite\n",
    "   return [expression]\n",
    "```\n",
    "如计算几个输的平方和，要定义出这个函数，我们必须确定输入的参数。由于参数个数不确定，我们首先想到可以把参数作为一个list或tuple传进来，这样，函数可以定义如下："
   ]
  },
  {
   "cell_type": "code",
   "execution_count": null,
   "metadata": {},
   "outputs": [],
   "source": [
    "def calc(numbers):\n",
    "    sum = 0\n",
    "    for n in numbers:\n",
    "        sum = sum + n * n\n",
    "    return sum\n",
    "\n",
    "# 传入 list\n",
    "print(calc([1, 2, 3]))\n",
    "\n",
    "# 传入 tuple\n",
    "print(calc((1, 3, 5, 7)))"
   ]
  },
  {
   "cell_type": "markdown",
   "metadata": {},
   "source": [
    "如果利用可变参数，调用函数的方式可以简化成这样: `calc(1, 2, 3)`。所以，我们把函数的参数改为可变参数，定义可变参数和定义一个list或tuple参数相比，仅仅在参数前面加了一个\\*号。在函数内部，参数numbers接收到的是一个tuple，因此，函数代码完全不变。但是，调用该函数时，可以传入任意个参数，包括0个参数："
   ]
  },
  {
   "cell_type": "code",
   "execution_count": null,
   "metadata": {},
   "outputs": [],
   "source": [
    "def calc(*numbers):\n",
    "    sum = 0\n",
    "    for n in numbers:\n",
    "        sum = sum + n * n\n",
    "    return sum\n",
    "\n",
    "print(calc(1,2,3))\n",
    "# 传入零个参数\n",
    "print(calc())"
   ]
  },
  {
   "cell_type": "markdown",
   "metadata": {},
   "source": [
    "已经有一个list或者tuple，可以在list或者tuple前面添加一个 `*` ，把list或tuple的元素变成可变参数传进去。如下，`*nums`表示把`nums`这个`list`的所有元素作为可变参数传进去"
   ]
  },
  {
   "cell_type": "code",
   "execution_count": null,
   "metadata": {},
   "outputs": [],
   "source": [
    "nums = [1, 2, 3]\n",
    "calc(*nums)"
   ]
  },
  {
   "cell_type": "markdown",
   "metadata": {},
   "source": [
    "### 关键字参数\n",
    "可变参数允许你传入0个或任意个参数，这些可变参数在函数调用时自动组装为一个tuple。而关键字参数允许你传入0个或任意个含参数名的参数，这些关键字参数在函数内部自动组装为一个dict。如下，函数`person`除了必选参数`name`和`age`外，还接受关键字参数`kw`。在调用该函数时，可以只传入必选参数，也可以传入任意个数的关键字参数。"
   ]
  },
  {
   "cell_type": "code",
   "execution_count": null,
   "metadata": {},
   "outputs": [],
   "source": [
    "def person(name, age, **kw):\n",
    "    print('name:', name, 'age:', age, 'other:', kw)\n",
    "\n",
    "# 传入必选参数\n",
    "person('Michael', 30)\n",
    "\n",
    "# 传入任意多个关键字参数\n",
    "person('Bob', 35, city='Beijing')\n",
    "person('Adam', 45, gender='M', job='Engineer')"
   ]
  },
  {
   "cell_type": "markdown",
   "metadata": {},
   "source": [
    "关键字参数有什么用？它可以扩展函数的功能。比如，在person函数里，我们保证能接收到name和age这两个参数，但是，如果调用者愿意提供更多的参数，我们也能收到。试想你正在做一个用户注册的功能，除了用户名和年龄是必填项外，其他都是可选项，利用关键字参数来定义这个函数就能满足注册的需求。\n",
    "\n",
    "和可变参数类似，也可以先组装出一个dict，然后，把该dict转换为关键字参数传进去，也可使用 `**` 将dict转换成关键字参数。"
   ]
  },
  {
   "cell_type": "code",
   "execution_count": null,
   "metadata": {},
   "outputs": [],
   "source": [
    "# 使用dict\n",
    "extra = {'city': 'Beijing', 'job': 'Engineer'}\n",
    "person('Jack', 24, city=extra['city'], job=extra['job'])\n",
    "\n",
    "# 使用 ** 转换 dict 为关键字参数\n",
    "person('Jack', 24, **extra)"
   ]
  },
  {
   "cell_type": "markdown",
   "metadata": {},
   "source": [
    "`**extra`表示把`extra`这个dict的所有key-value用关键字参数传入到函数的`**kw`参数，`kw`将获得一个dict，注意`kw`获得的`dict`是`extra`的一份拷贝，对`kw`的改动不会影响到函数外的`extra`。"
   ]
  },
  {
   "cell_type": "markdown",
   "metadata": {},
   "source": [
    "### 命名关键字参数\n",
    "对于关键字参数，函数的调用者可以传入任意不受限制的关键字参数。至于到底传入了哪些，就需要在函数内部通过kw检查。以`person()`函数为例，我们希望检查是否有`city`和`job`参数，但是调用者仍可以传入不受限制的关键字参数。"
   ]
  },
  {
   "cell_type": "code",
   "execution_count": null,
   "metadata": {},
   "outputs": [],
   "source": [
    "def person(name, age, **kw):\n",
    "    if 'city' in kw:\n",
    "        # 有city参数\n",
    "        pass\n",
    "    if 'job' in kw:\n",
    "        # 有job参数\n",
    "        pass\n",
    "    print('name:', name, 'age:', age, 'other:', kw)\n",
    "    \n",
    "# 传入任意多的参数\n",
    "person('Jack', 24, city='Beijing', addr='Chaoyang', zipcode=123456)"
   ]
  },
  {
   "cell_type": "markdown",
   "metadata": {},
   "source": [
    "如果要限制关键字参数的名字，就可以用命名关键字参数，例如，只接收city和job作为关键字参数，和关键字参数`**kw`不同，命名关键字参数需要一个特殊分隔符`*`，`*`后面的参数被视为命名关键字参数"
   ]
  },
  {
   "cell_type": "code",
   "execution_count": null,
   "metadata": {},
   "outputs": [],
   "source": [
    "def person(name, age, *, city, job):\n",
    "    print(name, age, city, job)\n",
    "\n",
    "person('Jack', 24, city='Beijing', job='Engineer')\n",
    "\n",
    "# 传入没有存在的命名关键词参数会报错\n",
    "person('Jack', 24, city='Beijing', addr='Chaoyang', zipcode=123456)"
   ]
  },
  {
   "cell_type": "markdown",
   "metadata": {},
   "source": [
    "如果函数定义中已经有了一个可变参数，后面跟着的命名关键字参数就不再需要一个特殊分隔符`*`了。命名关键字参数必须传入参数名，这和位置参数不同。如果没有传入参数名，调用将报错。"
   ]
  },
  {
   "cell_type": "code",
   "execution_count": null,
   "metadata": {},
   "outputs": [],
   "source": [
    "def person(name, age, *args, city, job):\n",
    "    print(name, age, args, city, job)\n",
    "    \n",
    "person('Jack', 24, 'Beijing', 'Engineer')"
   ]
  },
  {
   "cell_type": "markdown",
   "metadata": {},
   "source": [
    "由于调用时缺少参数名city和job，Python解释器把这4个参数均视为位置参数，但person()函数仅接受2个位置参数。\n",
    "\n",
    "命名关键字参数可以有缺省值，从而简化调用，如下，由于命名关键字参数city具有默认值，调用时，可不传入city参数："
   ]
  },
  {
   "cell_type": "code",
   "execution_count": null,
   "metadata": {},
   "outputs": [],
   "source": [
    "def person(name, age, *, city='Beijing', job):\n",
    "    print(name, age, city, job)\n",
    "\n",
    "# 可不用传入 city 关键字参数\n",
    "person('Jack', 24, job='Engineer')"
   ]
  },
  {
   "cell_type": "markdown",
   "metadata": {},
   "source": [
    "使用命名关键字参数时，要特别注意，如果没有可变参数，就必须加一个`*`作为特殊分隔符。如果缺少`*`，Python解释器将无法识别位置参数和命名关键字参数。\n",
    "\n",
    "### 组合参数\n",
    "在Python中定义函数，可以用*必选参数*、*默认参数*、*可变参数*、*关键字参数*和*命名关键字参数*，这5种参数都可以组合使用。但是请注意，参数定义的顺序必须是：必选参数、默认参数、可变参数、命名关键字参数和关键字参数。"
   ]
  },
  {
   "cell_type": "code",
   "execution_count": null,
   "metadata": {},
   "outputs": [],
   "source": [
    "# 必选参数、默认参数、可变参数、关键字参数\n",
    "def f1(a, b, c=0, *args, **kw):\n",
    "    print('a =', a, 'b =', b, 'c =', c, 'args =', args, 'kw =', kw)\n",
    "\n",
    "# 必选参数、默认参数、命名关键字参数、关键字参数\n",
    "def f2(a, b, c=0, *, d, **kw):\n",
    "    print('a =', a, 'b =', b, 'c =', c, 'd =', d, 'kw =', kw)"
   ]
  },
  {
   "cell_type": "markdown",
   "metadata": {},
   "source": [
    "在函数调用的时候，Python解释器自动按照参数位置和参数名把对应的参数传进去"
   ]
  },
  {
   "cell_type": "code",
   "execution_count": null,
   "metadata": {},
   "outputs": [],
   "source": [
    "# 必选参数\n",
    "f1(1, 2)"
   ]
  },
  {
   "cell_type": "code",
   "execution_count": null,
   "metadata": {},
   "outputs": [],
   "source": [
    "# 必选参数、默认参数\n",
    "f1(1, 2, c=3)"
   ]
  },
  {
   "cell_type": "code",
   "execution_count": null,
   "metadata": {},
   "outputs": [],
   "source": [
    "# 必选参数、默认参数、可变参数\n",
    "f1(1, 2, 3, 'a', 'b')"
   ]
  },
  {
   "cell_type": "code",
   "execution_count": null,
   "metadata": {},
   "outputs": [],
   "source": [
    "# 必选参数、默认参数、可变参数，关键字参数\n",
    "f1(1, 2, 3, 'a', 'b', x=99)"
   ]
  },
  {
   "cell_type": "code",
   "execution_count": null,
   "metadata": {},
   "outputs": [],
   "source": [
    "# 必选参数、命名关键字参数、关键字参数\n",
    "f2(1, 2, d=99, ext=None)"
   ]
  },
  {
   "cell_type": "markdown",
   "metadata": {},
   "source": [
    "通过一个tuple和dict，你也可以调用上述函数"
   ]
  },
  {
   "cell_type": "code",
   "execution_count": null,
   "metadata": {},
   "outputs": [],
   "source": [
    "args = (1, 2, 3, 4)\n",
    "kw = {'d': 99, 'x': '#'}\n",
    "f1(*args, **kw)"
   ]
  },
  {
   "cell_type": "code",
   "execution_count": null,
   "metadata": {},
   "outputs": [],
   "source": [
    "args = (1, 2, 3)\n",
    "kw = {'d': 88, 'x': '#'}\n",
    "f2(*args, **kw)"
   ]
  },
  {
   "cell_type": "markdown",
   "metadata": {},
   "source": [
    "所以，对于任意函数，都可以通过类似`func(*args, **kw)`的形式调用它，无论它的参数是如何定义的。**虽然可以组合多达5种参数，但不要同时使用太多的组合，否则函数接口的可理解性很差。**"
   ]
  },
  {
   "cell_type": "code",
   "execution_count": null,
   "metadata": {},
   "outputs": [],
   "source": [
    "def product(*numbers):\n",
    "    if len(numbers) == 0:\n",
    "        raise \"TypeError\"\n",
    "    total = 1\n",
    "    for i in numbers:\n",
    "        total = total*i \n",
    "    return total\n",
    "# 测试\n",
    "print('product(5) =', product(5))\n",
    "print('product(5, 6) =', product(5, 6))\n",
    "print('product(5, 6, 7) =', product(5, 6, 7))\n",
    "print('product(5, 6, 7, 9) =', product(5, 6, 7, 9))\n",
    "if product(5) != 5:\n",
    "    print('测试失败!')\n",
    "elif product(5, 6) != 30:\n",
    "    print('测试失败!')\n",
    "elif product(5, 6, 7) != 210:\n",
    "    print('测试失败!')\n",
    "elif product(5, 6, 7, 9) != 1890:\n",
    "    print('测试失败!')\n",
    "else:\n",
    "    try:\n",
    "        product()\n",
    "        print('测试失败!')\n",
    "    except TypeError:\n",
    "        print('测试成功!')"
   ]
  },
  {
   "cell_type": "markdown",
   "metadata": {},
   "source": [
    "### 参数总结\n",
    "Python的函数具有非常灵活的参数形态，既可以实现简单的调用，又可以传入非常复杂的参数。\n",
    "\n",
    "默认参数一定要用不可变对象，如果是可变对象，程序运行时会有逻辑错误！\n",
    "\n",
    "要注意定义可变参数和关键字参数的语法：\n",
    "\n",
    "`*args`是可变参数，`args`接收的是一个`tuple`；\n",
    "\n",
    "`**kw`是关键字参数，`kw`接收的是一个`dict`。\n",
    "\n",
    "以及调用函数时如何传入可变参数和关键字参数的语法：\n",
    "\n",
    "可变参数既可以直接传入：`func(1, 2, 3)`，又可以先组装`list`或`tuple`，再通过`*args`传入：`func(*(1, 2, 3))`；\n",
    "\n",
    "关键字参数既可以直接传入：`func(a=1, b=2)`，又可以先组装`dict`，再通过`**kw`传入：`func(**{'a': 1, 'b': 2})`。\n",
    "\n",
    "使用`*args`和`**kw`是Python的习惯写法，当然也可以用其他参数名，但最好使用习惯用法。\n",
    "\n",
    "命名的关键字参数是为了限制调用者可以传入的参数名，同时可以提供默认值。\n",
    "\n",
    "定义命名的关键字参数在没有可变参数的情况下不要忘了写分隔符`*`，否则定义的将是位置参数。"
   ]
  },
  {
   "cell_type": "markdown",
   "metadata": {},
   "source": [
    "## 递归函数\n",
    "在函数内部，可以调用其他函数。如果一个函数在内部调用自身本身，这个函数就是递归函数。举个例子，我们来计算阶乘`n! = 1 x 2 x 3 x ... x n`，用函数`fact(n)`表示，可以看出：`fact(n) = n! = 1 x 2 x 3 x ... x (n-1) x n = (n-1)! x n = fact(n-1) x n` 所以，`fact(n)`可以表示为`n x fact(n-1)`，只有n=1时需要特殊处理。于是，`fact(n)`用递归的方式写出来就是："
   ]
  },
  {
   "cell_type": "code",
   "execution_count": null,
   "metadata": {},
   "outputs": [],
   "source": [
    "def fact(n):\n",
    "    if n==1:\n",
    "        return 1\n",
    "    return n * fact(n - 1)\n",
    "\n",
    "# 调用\n",
    "print(fact(1))\n",
    "print(fact(3))\n",
    "print(fact(50))"
   ]
  },
  {
   "cell_type": "markdown",
   "metadata": {},
   "source": [
    "计算 `fact(3)` 的过程如下：\n",
    "\n",
    "第一步调用：3 \\* fact(2)\n",
    "\n",
    "第二步调用：3 \\* （2 \\* fact(1)）\n",
    "\n",
    "第三步调用：3 \\* （2 \\* （1））\n",
    "\n",
    "最后按照运算规则计算。\n",
    "\n",
    "递归函数的优点是定义简单，逻辑清晰。理论上，所有的递归函数都可以写成循环的方式，但循环的逻辑不如递归清晰。\n",
    "\n",
    "使用递归函数需要注意防止栈溢出。在计算机中，函数调用是通过栈（stack）这种数据结构实现的，每当进入一个函数调用，栈就会加一层栈帧，每当函数返回，栈就会减一层栈帧。由于栈的大小不是无限的，所以，递归调用的次数过多，会导致栈溢出。可以试试`fact(1000)`："
   ]
  },
  {
   "cell_type": "code",
   "execution_count": null,
   "metadata": {},
   "outputs": [],
   "source": [
    "fact(4830)"
   ]
  },
  {
   "cell_type": "markdown",
   "metadata": {},
   "source": [
    "### 尾递归\n",
    "\n",
    "解决递归调用栈溢出的方法是通过尾递归优化，事实上尾递归和循环的效果是一样的，所以，把循环看成是一种特殊的尾递归函数也是可以的。\n",
    "\n",
    "**尾递归**是指，*在函数返回的时候，调用自身本身*，并且，return语句不能包含表达式。这样，编译器或者解释器就可以把尾递归做优化，使递归本身无论调用多少次，都只占用一个栈帧，不会出现栈溢出的情况。\n",
    "\n",
    "上面的`fact(n)`函数由于`return n * fact(n - 1)`引入了乘法表达式，所以就不是尾递归了。要改成尾递归方式，需要多一点代码，主要是要把每一步的乘积传入到递归函数中："
   ]
  },
  {
   "cell_type": "code",
   "execution_count": null,
   "metadata": {},
   "outputs": [],
   "source": [
    "def fact_iter(num, product):\n",
    "    if num == 1:\n",
    "        return product\n",
    "    return fact_iter(num - 1, num * product)"
   ]
  },
  {
   "cell_type": "markdown",
   "metadata": {},
   "source": [
    "可以看到，return fact_iter(num - 1, num * product)仅返回递归函数本身，num - 1和num * product在函数调用前就会被计算，不影响函数调用。\n",
    "\n",
    "fact(5)对应的fact_iter(5, 1)的调用如下：\n",
    "===> fact_iter(5, 1)\n",
    "\n",
    "===> fact_iter(4, 5)\n",
    "\n",
    "===> fact_iter(3, 20)\n",
    "\n",
    "===> fact_iter(2, 60)\n",
    "\n",
    "===> fact_iter(1, 120)\n",
    "\n",
    "===> 120\n",
    "\n",
    "尾递归调用时，如果做了优化，栈不会增长，因此，无论多少次调用也不会导致栈溢出。\n",
    "\n",
    "遗憾的是，大多数编程语言没有针对尾递归做优化，Python解释器也没有做优化，所以，即使把上面的fact(n)函数改成尾递归方式，也会导致栈溢出。"
   ]
  },
  {
   "cell_type": "markdown",
   "metadata": {},
   "source": [
    "## 练习\n",
    "### 牛顿迭代法求解平方根\n",
    "牛顿迭代法求解平方根的公式如下：$$newguess = \\frac {1}{2} * (oldguess + \\frac {n}{oldguess})$$\n",
    "设定迭代的步数就可以求解了。"
   ]
  },
  {
   "cell_type": "code",
   "execution_count": null,
   "metadata": {},
   "outputs": [],
   "source": [
    "def squareroot(n):\n",
    "    root = n/2    #initial guess will be 1/2 of n\n",
    "    for k in range(20):\n",
    "        root = (1/2)*(root + (n / root))\n",
    "    return root\n",
    "\n",
    "print(squareroot(16))\n",
    "print(squareroot(15))\n",
    "print(squareroot(14))"
   ]
  },
  {
   "cell_type": "markdown",
   "metadata": {},
   "source": [
    "### 无限猴子理论\n",
    "可参考百度百科的介绍：[无限猴子理论](https://baike.baidu.com/item/%E6%97%A0%E9%99%90%E7%8C%B4%E5%AD%90%E7%90%86%E8%AE%BA/8078958?fr=aladdin)、[无限猴子定理](https://baike.baidu.com/item/%E6%97%A0%E9%99%90%E7%8C%B4%E5%AD%90%E5%AE%9A%E7%90%86/2221476)\n",
    "\n",
    "要求从 26 个字母中随机取出 27 个字母，组成\"methinks it is like a weasel\"这句话。\n",
    "我们可以写三个函数，第一个函数从 26 个字母中随机取出27个字符生成一个字符串，第二个函将通过随机的字符串与目标字符串进行比较并给出得分，第三个函数重复调用上述两个函数，直到最终得分为100%。"
   ]
  },
  {
   "cell_type": "code",
   "execution_count": null,
   "metadata": {},
   "outputs": [],
   "source": [
    "len(\"methinks it is like a weasel\")\n",
    "len(\"muthseeswdwzss uekeq fsegzpi\")"
   ]
  },
  {
   "cell_type": "code",
   "execution_count": null,
   "metadata": {},
   "outputs": [],
   "source": [
    "import random\n",
    "from datetime import datetime\n",
    "\n",
    "letter  = ['a','b','c','d','e','f','g','h','i','j','k','l','m',\\\n",
    "           'n','o','p','q','r','s','t','u','v','w','x','y','z',\" \"]\n",
    "\n",
    "# 产生字符串\n",
    "def randomString(strlen):\n",
    "    word = \"\".join([letter[random.randint(0,26)] for i in range(strlen)])\n",
    "    return word\n",
    "\n",
    "# 计算相似度\n",
    "def score(goal, newString):\n",
    "    numSame = 0\n",
    "    for i in range(len(goal)):\n",
    "        if goal[i] == newString[i]:\n",
    "            numSame += 1\n",
    "    return numSame / len(goal)\n",
    "  \n",
    "def main():\n",
    "    goalString = \"methinks it is like a weasel\"\n",
    "    newString = randomString(28)\n",
    "    best = 0\n",
    "    newScore = score(goalString, newString)\n",
    "    while best < 1:\n",
    "        if newScore > best:\n",
    "            print(newScore, newString)\n",
    "            best = newScore\n",
    "        newString = randomString(28)\n",
    "        newScore = score(goalString, newString)\n",
    "        \n",
    "print(datetime.now())\n",
    "main()\n",
    "print(datetime.now())"
   ]
  },
  {
   "cell_type": "code",
   "execution_count": null,
   "metadata": {},
   "outputs": [],
   "source": []
  },
  {
   "cell_type": "markdown",
   "metadata": {},
   "source": [
    "### 汉诺塔递归练习\n",
    "详细的汉诺塔的介绍可以参考：[汉诺塔 - 百度百科](https://baike.baidu.com/item/%E6%B1%89%E8%AF%BA%E5%A1%94/3468295)\n",
    "\n",
    "算法实现细节可以参考：[Hanoi Tower 汉诺塔的简单分析/C - cnblogs，Geek_Ling](https://www.cnblogs.com/yanlingyin/archive/2011/11/14/2247594.html) ，此文较为详细的解释了移动的过程"
   ]
  },
  {
   "cell_type": "code",
   "execution_count": null,
   "metadata": {},
   "outputs": [],
   "source": [
    "def move(n, a, b, c):\n",
    "    if n == 1:\n",
    "        print('move', a, '-->', c)\n",
    "    else:\n",
    "        # 将A柱的n-1个盘移到B柱\n",
    "        move(n-1, a, c, b)\n",
    "        # 将A柱上最后一个盘移到C柱\n",
    "        move(1, a, b, c)\n",
    "        # 将过渡柱子B上n-1个圆盘B移动到目标柱子C\n",
    "        move(n-1, b, a, c)\n",
    "\n",
    "move(3, 'A', 'B', 'C')"
   ]
  },
  {
   "cell_type": "markdown",
   "metadata": {},
   "source": [
    "## 参考\n",
    "\n",
    "1、[Python 函数 - 菜鸟教程](http://www.runoob.com/python/python-functions.html)\n",
    "\n",
    "2、[调用函数 - 廖雪峰](https://www.liaoxuefeng.com/wiki/0014316089557264a6b348958f449949df42a6d3a2e542c000/0014316784721058975e02b46cc45cb836bb0827607738d000)\n",
    "\n",
    "3、[定义函数 - 廖雪峰](https://www.liaoxuefeng.com/wiki/0014316089557264a6b348958f449949df42a6d3a2e542c000/001431679203477b5b364aeba8c4e05a9bd4ec1b32911e2000)\n",
    "\n",
    "4、[函数的参数 - 廖雪峰](https://www.liaoxuefeng.com/wiki/0014316089557264a6b348958f449949df42a6d3a2e542c000/001431752945034eb82ac80a3e64b9bb4929b16eeed1eb9000)\n",
    "\n",
    "5、[递归函数 - 廖雪峰](https://www.liaoxuefeng.com/wiki/0014316089557264a6b348958f449949df42a6d3a2e542c000/001431756044276a15558a759ec43de8e30eb0ed169fb11000)"
   ]
  },
  {
   "cell_type": "code",
   "execution_count": null,
   "metadata": {},
   "outputs": [],
   "source": []
  }
 ],
 "metadata": {
  "kernelspec": {
   "display_name": "Python 3",
   "language": "python",
   "name": "python3"
  },
  "language_info": {
   "codemirror_mode": {
    "name": "ipython",
    "version": 3
   },
   "file_extension": ".py",
   "mimetype": "text/x-python",
   "name": "python",
   "nbconvert_exporter": "python",
   "pygments_lexer": "ipython3",
   "version": "3.6.3"
  },
  "toc": {
   "nav_menu": {},
   "number_sections": true,
   "sideBar": true,
   "skip_h1_title": false,
   "toc_cell": false,
   "toc_position": {
    "height": "505px",
    "left": "0px",
    "right": "966.25px",
    "top": "111px",
    "width": "376px"
   },
   "toc_section_display": "block",
   "toc_window_display": true
  }
 },
 "nbformat": 4,
 "nbformat_minor": 2
}
