{
 "cells": [
  {
   "cell_type": "markdown",
   "metadata": {
    "toc": true
   },
   "source": [
    "<h1>Table of Contents<span class=\"tocSkip\"></span></h1>\n",
    "<div class=\"toc\" style=\"margin-top: 1em;\"><ul class=\"toc-item\"><li><span><a href=\"#python-基础\" data-toc-modified-id=\"python-基础-1\"><span class=\"toc-item-num\">1&nbsp;&nbsp;</span>python 基础</a></span><ul class=\"toc-item\"><li><span><a href=\"#输入与输出\" data-toc-modified-id=\"输入与输出-1.1\"><span class=\"toc-item-num\">1.1&nbsp;&nbsp;</span>输入与输出</a></span><ul class=\"toc-item\"><li><span><a href=\"#输出\" data-toc-modified-id=\"输出-1.1.1\"><span class=\"toc-item-num\">1.1.1&nbsp;&nbsp;</span>输出</a></span><ul class=\"toc-item\"><li><span><a href=\"#修改默认分隔符与换行符\" data-toc-modified-id=\"修改默认分隔符与换行符-1.1.1.1\"><span class=\"toc-item-num\">1.1.1.1&nbsp;&nbsp;</span>修改默认分隔符与换行符</a></span></li><li><span><a href=\"#格式化输出\" data-toc-modified-id=\"格式化输出-1.1.1.2\"><span class=\"toc-item-num\">1.1.1.2&nbsp;&nbsp;</span>格式化输出</a></span></li></ul></li><li><span><a href=\"#输入\" data-toc-modified-id=\"输入-1.1.2\"><span class=\"toc-item-num\">1.1.2&nbsp;&nbsp;</span>输入</a></span></li></ul></li><li><span><a href=\"#数据类型\" data-toc-modified-id=\"数据类型-1.2\"><span class=\"toc-item-num\">1.2&nbsp;&nbsp;</span>数据类型</a></span><ul class=\"toc-item\"><li><span><a href=\"#字符串\" data-toc-modified-id=\"字符串-1.2.1\"><span class=\"toc-item-num\">1.2.1&nbsp;&nbsp;</span>字符串</a></span></li><li><span><a href=\"#布尔值\" data-toc-modified-id=\"布尔值-1.2.2\"><span class=\"toc-item-num\">1.2.2&nbsp;&nbsp;</span>布尔值</a></span></li><li><span><a href=\"#空值\" data-toc-modified-id=\"空值-1.2.3\"><span class=\"toc-item-num\">1.2.3&nbsp;&nbsp;</span>空值</a></span></li></ul></li><li><span><a href=\"#变量\" data-toc-modified-id=\"变量-1.3\"><span class=\"toc-item-num\">1.3&nbsp;&nbsp;</span>变量</a></span></li><li><span><a href=\"#常量\" data-toc-modified-id=\"常量-1.4\"><span class=\"toc-item-num\">1.4&nbsp;&nbsp;</span>常量</a></span></li><li><span><a href=\"#运算\" data-toc-modified-id=\"运算-1.5\"><span class=\"toc-item-num\">1.5&nbsp;&nbsp;</span>运算</a></span></li></ul></li></ul></div>"
   ]
  },
  {
   "cell_type": "markdown",
   "metadata": {},
   "source": [
    "![image](http://wx2.sinaimg.cn/thumbnail/69d4185bly1fmf9kfagd3j20ek0ekq88.jpg)\n",
    "# python 基础\n",
    "## 输入与输出\n",
    "### 输出\n",
    "1. 使用 `print()` 可以用于输出**_字符串_**，也可以使用逗号 `,` 来分割需要输出的多条信息，`print()` 在打印是遇到逗号就会输出一个空格。\n",
    "2. 使用 `print()` 也可以用于输出**_表达式_**，如：`print(1+1)`."
   ]
  },
  {
   "cell_type": "code",
   "execution_count": 6,
   "metadata": {},
   "outputs": [
    {
     "name": "stdout",
     "output_type": "stream",
     "text": [
      "hello world\n",
      "May There Always Be Angle, To Watch Over You\n",
      "2\n",
      "1+1=  2\n"
     ]
    }
   ],
   "source": [
    "print(\"hello world\")\n",
    "#使用逗号分开，输出一条连续的字符串\n",
    "print(\"May There Always\",\"Be Angle,\",\"To Watch Over You\")\n",
    "\n",
    "# 输出表达式\n",
    "print(1 + 1)\n",
    "\n",
    "# 将字符串与表达式结合\n",
    "print('1+1= ', 1 + 1 )"
   ]
  },
  {
   "cell_type": "markdown",
   "metadata": {},
   "source": [
    "#### 修改默认分隔符与换行符\n",
    "默认情况下`print`方法使用空格作为切分符号，可以使用 `seq` 参数来改变切分符号。默认每行的结尾是以换行符结束，通过`end` 参数可以修改默认的换行符。"
   ]
  },
  {
   "cell_type": "code",
   "execution_count": 5,
   "metadata": {},
   "outputs": [
    {
     "name": "stdout",
     "output_type": "stream",
     "text": [
      "hello***weduoo\n",
      "hello weduoo----"
     ]
    }
   ],
   "source": [
    "# 改变分割符\n",
    "print('hello','weduoo', sep='***')\n",
    "\n",
    "# 改变换行符\n",
    "print('hello','weduoo', end='----')"
   ]
  },
  {
   "cell_type": "markdown",
   "metadata": {},
   "source": [
    "#### 格式化输出"
   ]
  },
  {
   "cell_type": "code",
   "execution_count": 7,
   "metadata": {},
   "outputs": [
    {
     "name": "stdout",
     "output_type": "stream",
     "text": [
      "weduoo is 23 years old.\n",
      "weduoo is 23 years old.\n"
     ]
    }
   ],
   "source": [
    "aName = \"weduoo\"\n",
    "age = 23\n",
    "print(\"%s is %d years old.\" % (aName, age))\n",
    "\n",
    "# 与伤处输出等价\n",
    "print(aName, \"is\", age, \"years old.\")"
   ]
  },
  {
   "cell_type": "markdown",
   "metadata": {},
   "source": [
    "print 这次的 `%` 操作：![image](http://ws1.sinaimg.cn/large/69d4185bly1fnu5vuadrlj20iv0ajglr.jpg)"
   ]
  },
  {
   "cell_type": "markdown",
   "metadata": {},
   "source": [
    "对数字格式的控制：![image](http://ws1.sinaimg.cn/large/69d4185bly1fnu5xuqst2j20ir07d3yp.jpg)"
   ]
  },
  {
   "cell_type": "code",
   "execution_count": 8,
   "metadata": {},
   "outputs": [
    {
     "name": "stdout",
     "output_type": "stream",
     "text": [
      "The banana costs    24.0 cents\n"
     ]
    }
   ],
   "source": [
    "# %(name)d 的使用\n",
    "itemdict = {\"item\":\"banana\",\"cost\":24}\n",
    "print(\"The %(item)s costs %(cost)7.1f cents\"%itemdict)"
   ]
  },
  {
   "cell_type": "markdown",
   "metadata": {},
   "source": [
    "###  输入\n",
    "使用 `input()` 可以让用户输入数据"
   ]
  },
  {
   "cell_type": "code",
   "execution_count": 7,
   "metadata": {},
   "outputs": [
    {
     "name": "stdout",
     "output_type": "stream",
     "text": [
      "please enter your name:weduoo\n"
     ]
    }
   ],
   "source": [
    "# 让用户输入信息，并将输入的数据保存到 name 变量中\n",
    "name = input(\"please enter your name:\")"
   ]
  },
  {
   "cell_type": "code",
   "execution_count": 8,
   "metadata": {},
   "outputs": [
    {
     "name": "stdout",
     "output_type": "stream",
     "text": [
      "weduoo\n"
     ]
    }
   ],
   "source": [
    "# 使用前面定义的变量 name 并将用户输入的数据打印出来\n",
    "print(name)"
   ]
  },
  {
   "cell_type": "markdown",
   "metadata": {},
   "source": [
    "## 数据类型\n",
    "python 中包含以下几种数据类型：整数（`int`）、浮点数(`float`)、字符串（`\"\"`、`''`）、布尔值（`True`、`False`）、空值；还有高级类型如：列表（List）、元组（Tuple）、字典（Dictionary，相当于`java` 中的 `Map`）等。\n",
    "\n",
    "Python的整数没有大小限制，而某些语言的整数根据其存储长度是有大小限制的，例如Java对32位整数的范围限制在`-2147483648-2147483647`。\n",
    "\n",
    "Python的浮点数也没有大小限制，但是超出一定范围就直接表示为`inf`（无限大）。"
   ]
  },
  {
   "cell_type": "markdown",
   "metadata": {},
   "source": [
    "### 字符串\n"
   ]
  },
  {
   "cell_type": "code",
   "execution_count": 3,
   "metadata": {},
   "outputs": [
    {
     "name": "stdout",
     "output_type": "stream",
     "text": [
      "字符串\n",
      "\n",
      "第一行，\n",
      "第二行，\n",
      "第三行\n",
      "\n"
     ]
    }
   ],
   "source": [
    "# 输出字符串\n",
    "print(\"字符串\")\n",
    "# 输出多行\n",
    "print('''\n",
    "第一行，\n",
    "第二行，\n",
    "第三行\n",
    "''')"
   ]
  },
  {
   "cell_type": "markdown",
   "metadata": {},
   "source": [
    "### 布尔值\n",
    "在 python 中布尔值只有两个值`True` 和 `False`，可以直接使用，也可以通过表达式计算得来，布尔值可以用于 `and`、`or`、`not` 运算"
   ]
  },
  {
   "cell_type": "code",
   "execution_count": 9,
   "metadata": {},
   "outputs": [
    {
     "name": "stdout",
     "output_type": "stream",
     "text": [
      "True\n",
      "False\n",
      "True\n",
      "True\n"
     ]
    },
    {
     "data": {
      "text/plain": [
       "True"
      ]
     },
     "execution_count": 9,
     "metadata": {},
     "output_type": "execute_result"
    }
   ],
   "source": [
    "print(True)\n",
    "print(False)\n",
    "print( 3 > 2)\n",
    "print(6 > 7 or 7 >2)\n",
    "True"
   ]
  },
  {
   "cell_type": "code",
   "execution_count": null,
   "metadata": {},
   "outputs": [],
   "source": []
  },
  {
   "cell_type": "markdown",
   "metadata": {},
   "source": [
    "### 空值\n",
    "空值在 python 中是一个特殊的值，使用 `None` 来表示"
   ]
  },
  {
   "cell_type": "markdown",
   "metadata": {},
   "source": [
    "## 变量\n",
    "在 python 中，变量名必须是大小写英文、数字和_的组合，且不能用数字开头。变量可以是任意数据类型，如：`t = 1` 中 t 是整数类型，`t = 'weduoo'` t 是字符串类型，`t =  True` t 是一个布尔值类型。"
   ]
  },
  {
   "cell_type": "code",
   "execution_count": 10,
   "metadata": {},
   "outputs": [
    {
     "name": "stdout",
     "output_type": "stream",
     "text": [
      "weduoo\n",
      "123\n"
     ]
    }
   ],
   "source": [
    "t = 'weduoo'\n",
    "print(t)\n",
    "t = 123\n",
    "print(t)"
   ]
  },
  {
   "cell_type": "markdown",
   "metadata": {},
   "source": [
    "**这种变量本身类型不固定的语言称之为动态语言，与之对应的是静态语言。静态语言在定义变量时必须指定变量类型，如果赋值的时候类型不匹配，就会报错。**\n",
    "\n",
    "当我们写 `a = 'ABC'` 时，Python解释器为我们做了以下两件事：\n",
    "\n",
    "1. 在内存中创建了一个'ABC'的字符串；\n",
    "\n",
    "2. 在内存中创建了一个名为a的变量，并把它指向'ABC'。"
   ]
  },
  {
   "cell_type": "code",
   "execution_count": 1,
   "metadata": {},
   "outputs": [
    {
     "name": "stdout",
     "output_type": "stream",
     "text": [
      "ABC\n"
     ]
    }
   ],
   "source": [
    "a = 'ABC'\n",
    "b = a\n",
    "a = 'XYZ'\n",
    "print(b)"
   ]
  },
  {
   "cell_type": "markdown",
   "metadata": {},
   "source": [
    "以上代码的整个执行流程如下：\n",
    "1. 执行`a = 'ABC'`，解释器创建了字符串`'ABC'`和变量a，并把a指向`'ABC`'：\n",
    "![image](https://ws1.sinaimg.cn/large/69d4185bly1fmfaafxtshj206k01mt8i.jpg)\n",
    "\n",
    "2. 执行`b = a`，解释器创建了变量b，并把b指向a指向的字符串`'ABC'`：\n",
    "![image](https://ws1.sinaimg.cn/large/69d4185bly1fmfae2so7tj206k02c0sk.jpg)\n",
    "\n",
    "3. 执行`a = 'XYZ'`，解释器创建了字符串`'XYZ'`，并把a的指向改为`'XYZ'`，但b并没有更改：\n",
    "![image](https://ws1.sinaimg.cn/large/69d4185bly1fmfaeycql4j206k02i744.jpg)\n",
    "\n",
    "所以，最后打印变量b的结果自然是`'ABC'`了。\n",
    "\n",
    "从上面可以看出，对变量赋值 `x = y` 是把变量x指向真正的对象，该对象是变量 `y` 所指向的。随后对变量 `y` 的赋值不影响变量 `x` 的指向。"
   ]
  },
  {
   "cell_type": "markdown",
   "metadata": {},
   "source": [
    "## 常量\n",
    "常量顾名思义，就是使用时其值不能变的量，如 `π` 的值。在 python 中通常把常量的名字全部大写来表示，如 `PI = 3.141592627`。"
   ]
  },
  {
   "cell_type": "markdown",
   "metadata": {},
   "source": [
    "## 运算"
   ]
  },
  {
   "cell_type": "code",
   "execution_count": 1,
   "metadata": {},
   "outputs": [
    {
     "name": "stdout",
     "output_type": "stream",
     "text": [
      "2.0\n",
      "2.3333333333333335\n",
      "0.5\n",
      "2\n",
      "0\n",
      "1\n",
      "3\n"
     ]
    }
   ],
   "source": [
    "# / 整数除法为浮点数\n",
    "print(6/3) \n",
    "print(7/3)\n",
    "print(3/6)\n",
    "\n",
    "# // 取整数\n",
    "print(7//3)\n",
    "print(3//6)\n",
    "\n",
    "# % 取模（取余数）\n",
    "print(7%3)\n",
    "print(3%6)"
   ]
  },
  {
   "cell_type": "code",
   "execution_count": null,
   "metadata": {},
   "outputs": [],
   "source": []
  },
  {
   "cell_type": "code",
   "execution_count": null,
   "metadata": {},
   "outputs": [],
   "source": []
  },
  {
   "cell_type": "code",
   "execution_count": null,
   "metadata": {},
   "outputs": [],
   "source": []
  },
  {
   "cell_type": "markdown",
   "metadata": {},
   "source": [
    "【参考 & 依据】\n",
    "\n",
    "[1] [数据类型和变量](https://www.liaoxuefeng.com/wiki/0014316089557264a6b348958f449949df42a6d3a2e542c000/001431658624177ea4f8fcb06bc4d0e8aab2fd7aa65dd95000)"
   ]
  }
 ],
 "metadata": {
  "kernelspec": {
   "display_name": "Python 3",
   "language": "python",
   "name": "python3"
  },
  "language_info": {
   "codemirror_mode": {
    "name": "ipython",
    "version": 3
   },
   "file_extension": ".py",
   "mimetype": "text/x-python",
   "name": "python",
   "nbconvert_exporter": "python",
   "pygments_lexer": "ipython3",
   "version": "3.6.3"
  },
  "toc": {
   "nav_menu": {},
   "number_sections": true,
   "sideBar": true,
   "skip_h1_title": false,
   "toc_cell": true,
   "toc_position": {
    "height": "507px",
    "left": "0px",
    "right": "968px",
    "top": "111px",
    "width": "376px"
   },
   "toc_section_display": "block",
   "toc_window_display": true
  }
 },
 "nbformat": 4,
 "nbformat_minor": 2
}
