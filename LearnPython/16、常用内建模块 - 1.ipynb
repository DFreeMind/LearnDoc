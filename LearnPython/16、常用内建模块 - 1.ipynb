{
 "cells": [
  {
   "cell_type": "markdown",
   "metadata": {},
   "source": [
    "![image](http://wx2.sinaimg.cn/thumbnail/69d4185bly1fmf9kfagd3j20ek0ekq88.jpg)\n",
    "# 常用内建模块\n",
    "\n",
    "## datetime\n",
    "datetime是Python处理日期和时间的标准库。\n",
    "\n",
    "### 获取当前日期和时间\n",
    "从下面代码可以看到，`datetime`是模块，`datetime`模块还包含一个`datetime`类，通过`from datetime import datetime`导入的才是`datetime`这个类。\n",
    "\n",
    "如果仅导入`import datetime`，则必须引用全名`datetime.datetime`。`datetime.now()`返回当前日期和时间，其类型是`datetime`。"
   ]
  },
  {
   "cell_type": "code",
   "execution_count": 1,
   "metadata": {
    "code_folding": []
   },
   "outputs": [
    {
     "name": "stdout",
     "output_type": "stream",
     "text": [
      "2018-01-08 12:26:48.058135\n",
      "<class 'datetime.datetime'>\n"
     ]
    }
   ],
   "source": [
    "# 导入 datetime 模块下的 datetime 类\n",
    "from datetime import datetime\n",
    "now = datetime.now()\n",
    "print(now)\n",
    "print(type(now))"
   ]
  },
  {
   "cell_type": "markdown",
   "metadata": {},
   "source": [
    "### 获取指定日期和时间\n",
    "要指定某个日期和时间，我们直接用参数构造一个`datetime`："
   ]
  },
  {
   "cell_type": "code",
   "execution_count": 3,
   "metadata": {},
   "outputs": [
    {
     "name": "stdout",
     "output_type": "stream",
     "text": [
      "2018-01-08 14:01:11\n"
     ]
    }
   ],
   "source": [
    "from datetime import datetime\n",
    "dt = datetime(2018,1,8,14,1,11)\n",
    "print(dt)"
   ]
  },
  {
   "cell_type": "markdown",
   "metadata": {},
   "source": [
    "### datetime 转timestamp\n",
    "在计算机中，时间实际上是用数字表示的。我们把1970年1月1日 00:00:00 UTC+00:00时区的时刻称为epoch time，记为`0`（1970年以前的时间timestamp为负数），当前时间就是相对于epoch time的秒数，称为timestamp。\n",
    "\n",
    "你可以认为：\n",
    "```python\n",
    "timestamp = 0 = 1970-1-1 00:00:00 UTC+0:00\n",
    "```\n",
    "对应的北京时间是：\n",
    "```python\n",
    "timestamp = 0 = 1970-1-1 08:00:00 UTC+8:00\n",
    "```\n",
    "可见timestamp的值与时区毫无关系，因为timestamp一旦确定，其UTC时间就确定了，转换到任意时区的时间也是完全确定的，这就是为什么计算机存储的当前时间是以timestamp表示的，因为全球各地的计算机在任意时刻的timestamp都是完全相同的（假定时间已校准）。\n",
    "\n",
    "把一个`datetime`类型转换为timestamp只需要简单调用`timestamp()`方法："
   ]
  },
  {
   "cell_type": "code",
   "execution_count": 4,
   "metadata": {},
   "outputs": [
    {
     "data": {
      "text/plain": [
       "1515391271.0"
      ]
     },
     "execution_count": 4,
     "metadata": {},
     "output_type": "execute_result"
    }
   ],
   "source": [
    "from datetime import datetime\n",
    "dt = datetime(2018,1,8,14,1,11)\n",
    "# 将时间转换成时间戳\n",
    "dt.timestamp()"
   ]
  },
  {
   "cell_type": "markdown",
   "metadata": {},
   "source": [
    "注意Python的timestamp是一个浮点数。如果有小数位，小数位表示毫秒数。\n",
    "\n",
    "某些编程语言（如Java和JavaScript）的timestamp使用整数表示毫秒数，这种情况下只需要把timestamp除以1000就得到Python的浮点表示方法。\n",
    "\n",
    "### timestamp 转换为 datetime\n",
    "要把timestamp转换为`datetime`，使用`datetime`提供的`fromtimestamp()`方法："
   ]
  },
  {
   "cell_type": "code",
   "execution_count": 5,
   "metadata": {},
   "outputs": [
    {
     "data": {
      "text/plain": [
       "datetime.datetime(2018, 1, 8, 14, 1, 11)"
      ]
     },
     "execution_count": 5,
     "metadata": {},
     "output_type": "execute_result"
    }
   ],
   "source": [
    "from datetime import datetime\n",
    "ts = 1515391271.0\n",
    "datetime.fromtimestamp(ts)"
   ]
  },
  {
   "cell_type": "markdown",
   "metadata": {},
   "source": [
    "注意到timestamp是一个浮点数，它没有时区的概念，而datetime是有时区的。上述转换是在timestamp和本地时间做转换。\n",
    "\n",
    "本地时间是指当前操作系统设定的时区。例如北京时区是东8区，则本地时间：\n",
    "```python\n",
    "2015-04-19 12:20:00\n",
    "```\n",
    "实际上就是UTC+8:00时区的时间：\n",
    "```python\n",
    "2015-04-19 12:20:00 UTC+8:00\n",
    "```\n",
    "而此刻的格林威治标准时间与北京时间差了8小时，也就是UTC+0:00时区的时间应该是：\n",
    "```python\n",
    "2015-04-19 04:20:00 UTC+0:00\n",
    "```\n",
    "timestamp也可以直接被转换到UTC标准时区的时间："
   ]
  },
  {
   "cell_type": "code",
   "execution_count": 6,
   "metadata": {},
   "outputs": [
    {
     "name": "stdout",
     "output_type": "stream",
     "text": [
      "2018-01-08 14:01:11\n",
      "2018-01-08 06:01:11\n"
     ]
    }
   ],
   "source": [
    "from datetime import datetime\n",
    "ts = 1515391271.0\n",
    "# 本机时间\n",
    "print(datetime.fromtimestamp(ts))\n",
    "# utc时间\n",
    "print(datetime.utcfromtimestamp(ts))"
   ]
  },
  {
   "cell_type": "markdown",
   "metadata": {
    "heading_collapsed": true
   },
   "source": [
    "### str转换为datetime\n",
    "\n",
    "很多时候，用户输入的日期和时间是字符串，要处理日期和时间，首先必须把str转换为datetime。转换方法是通过`datetime.strptime()`实现，需要一个日期和时间的格式化字符串。\n",
    "\n",
    "字符串`'%Y-%m-%d %H:%M:%S'`规定了日期和时间部分的格式。详细的说明请参考[Python文档](https://docs.python.org/3/library/datetime.html#strftime-strptime-behavior)。\n",
    "\n",
    "**注意转换后的datetime是没有时区信息的。**"
   ]
  },
  {
   "cell_type": "code",
   "execution_count": 2,
   "metadata": {
    "hidden": true
   },
   "outputs": [
    {
     "name": "stdout",
     "output_type": "stream",
     "text": [
      "2018-01-08 14:01:11\n"
     ]
    }
   ],
   "source": [
    "from datetime import datetime\n",
    "cday = datetime.strptime('2018-1-8 14:01:11','%Y-%m-%d %H:%M:%S')\n",
    "print(cday)"
   ]
  },
  {
   "cell_type": "code",
   "execution_count": 7,
   "metadata": {},
   "outputs": [
    {
     "name": "stdout",
     "output_type": "stream",
     "text": [
      "2018-01-10\n"
     ]
    }
   ],
   "source": [
    "import time\n",
    "cday = time.strftime('%Y-%m-%d' , time.strptime('10 Jan 2018','%d %b %Y'))\n",
    "print(cday)"
   ]
  },
  {
   "cell_type": "markdown",
   "metadata": {},
   "source": [
    "### datetime转换为str\n",
    "如果已经有了datetime对象，要把它格式化为字符串显示给用户，就需要转换为str，转换方法是通过`strftime()`实现的，同样需要一个日期和时间的格式化字符串："
   ]
  },
  {
   "cell_type": "code",
   "execution_count": 10,
   "metadata": {},
   "outputs": [
    {
     "name": "stdout",
     "output_type": "stream",
     "text": [
      "Mon, Jan 08 14:23\n"
     ]
    }
   ],
   "source": [
    "from datetime import datetime\n",
    "now = datetime.now()\n",
    "print(now.strftime('%a, %b %d %H:%M'))"
   ]
  },
  {
   "cell_type": "markdown",
   "metadata": {},
   "source": [
    "### datetime加减\n",
    "对日期和时间进行加减实际上就是把datetime往后或往前计算，得到新的datetime。加减可以直接用`+`和`-`运算符，不过需要导入`timedelta`这个类："
   ]
  },
  {
   "cell_type": "code",
   "execution_count": 11,
   "metadata": {},
   "outputs": [
    {
     "name": "stdout",
     "output_type": "stream",
     "text": [
      "2018-01-08 14:26:57.197604\n",
      "2018-01-09 00:26:57.197604\n",
      "2018-01-07 14:26:57.197604\n",
      "2018-01-11 02:26:57.197604\n"
     ]
    }
   ],
   "source": [
    "from datetime import datetime,timedelta\n",
    "now = datetime.now()\n",
    "print(now)\n",
    "# 加上十小时\n",
    "print(now + timedelta(hours = 10))\n",
    "# 减去一天\n",
    "print(now - timedelta(days = 1))\n",
    "# 加上两天十二小时\n",
    "print(now + timedelta(days=2, hours=12))"
   ]
  },
  {
   "cell_type": "markdown",
   "metadata": {},
   "source": [
    "可见，使用`timedelta`你可以很容易地算出前几天和后几天的时刻。\n",
    "\n",
    "### 本地时间转换为UTC时间\n",
    "本地时间是指系统设定时区的时间，例如北京时间是UTC+8:00时区的时间，而UTC时间指UTC+0:00时区的时间。\n",
    "\n",
    "一个`datetime`类型有一个时区属性`tzinfo`，但是默认为`None`，所以无法区分这个`datetime`到底是哪个时区，除非强行给`datetime`设置一个时区："
   ]
  },
  {
   "cell_type": "code",
   "execution_count": 17,
   "metadata": {},
   "outputs": [
    {
     "name": "stdout",
     "output_type": "stream",
     "text": [
      "2018-01-08 14:35:33.607496\n",
      "2018-01-08 14:35:33.607496+08:00\n"
     ]
    }
   ],
   "source": [
    "from datetime import datetime,timedelta,timezone\n",
    "# 创建 utc 8 时区\n",
    "tz_utc_8 = timezone(timedelta(hours=8))\n",
    "\n",
    "now = datetime.now()\n",
    "print(now)\n",
    "\n",
    "# 前置设置 utc 8 时区\n",
    "dt = now.replace(tzinfo=tz_utc_8)\n",
    "print(dt)"
   ]
  },
  {
   "cell_type": "markdown",
   "metadata": {},
   "source": [
    "如果系统时区恰好是UTC+8:00，那么上述代码就是正确的，否则，不能强制设置为UTC+8:00时区。\n",
    "\n",
    "### 时区转换\n",
    "\n",
    "我们可以先通过`utcnow()`拿到当前的UTC时间，再转换为任意时区的时间："
   ]
  },
  {
   "cell_type": "code",
   "execution_count": 19,
   "metadata": {
    "code_folding": []
   },
   "outputs": [
    {
     "name": "stdout",
     "output_type": "stream",
     "text": [
      "2018-01-08 06:47:18.635627+00:00\n",
      "2018-01-08 14:47:18.635627+08:00\n",
      "2018-01-08 15:47:18.635627+09:00\n",
      "2018-01-08 15:47:18.635627+09:00\n"
     ]
    }
   ],
   "source": [
    "# 拿到 utc 时间，并强制转换成 UTC+0:00\n",
    "utc_dt = datetime.utcnow().replace(tzinfo=timezone.utc)\n",
    "print(utc_dt)\n",
    "\n",
    "# 使用 astimezone 转换成北京时区\n",
    "bj_dt = utc_dt.astimezone(timezone(timedelta(hours=8)))\n",
    "print(bj_dt)\n",
    "\n",
    "# 使用 astimezone 转换成东京时区\n",
    "ty_dt = utc_dt.astimezone(timezone(timedelta(hours=9)))\n",
    "print(ty_dt)\n",
    "\n",
    "# 将 bj_dt 转换成时区为 东京时间：\n",
    "ty_dt2 = bj_dt.astimezone(timezone(timedelta(hours=9)))\n",
    "print(ty_dt2)"
   ]
  },
  {
   "cell_type": "markdown",
   "metadata": {},
   "source": [
    "时区转换的关键在于，拿到一个`datetime`时，要获知其正确的时区，然后强制设置时区，作为基准时间。\n",
    "\n",
    "利用带时区的`datetime`，通过`astimezone()`方法，可以转换到任意时区。\n",
    "\n",
    "注：不是必须从UTC+0:00时区转换到其他时区，任何带时区的`datetime`都可以正确转换，例如上述`bj_dt`到`ty_dt`的转换。\n",
    "\n",
    "### 练习\n",
    "\n",
    "假设你获取了用户输入的日期和时间如`2015-1-21 9:01:30`，以及一个时区信息如`UTC+5:00`，均是str，请编写一个函数将其转换为timestamp："
   ]
  },
  {
   "cell_type": "code",
   "execution_count": 39,
   "metadata": {
    "code_folding": []
   },
   "outputs": [
    {
     "name": "stdout",
     "output_type": "stream",
     "text": [
      "2015-06-01 08:10:30\n",
      "7\n",
      "2015-05-31 16:10:30\n",
      "-9\n",
      "ok\n"
     ]
    }
   ],
   "source": [
    "import re\n",
    "from datetime import datetime, timezone, timedelta\n",
    "def to_timestamp(dt_str, tz_str):\n",
    "    dt = datetime.strptime(dt_str,'%Y-%m-%d %H:%M:%S')\n",
    "    print(dt)\n",
    "    tz = re.match('UTC((\\+|\\-)\\d+)\\:\\d+',tz_str).group(1)\n",
    "    print(int(tz))\n",
    "    dttz = dt.replace(tzinfo=timezone(timedelta(hours=int(tz))))\n",
    "    return dttz.timestamp()\n",
    "\n",
    "# 测试:\n",
    "t1 = to_timestamp('2015-6-1 08:10:30', 'UTC+7:00')\n",
    "assert t1 == 1433121030.0, t1\n",
    "\n",
    "t2 = to_timestamp('2015-5-31 16:10:30', 'UTC-09:00')\n",
    "assert t2 == 1433121030.0, t2\n",
    "\n",
    "print('ok')"
   ]
  },
  {
   "cell_type": "markdown",
   "metadata": {},
   "source": [
    "## collections\n",
    "collections是Python内建的一个集合模块，提供了许多有用的集合类。\n",
    "\n",
    "### namedtuple\n",
    "我们知道`tuple`可以表示不变集合，例如，一个点的二维坐标就可以表示成：` p = (1, 2)`，但是，看到`(1, 2)`，很难看出这个`tuple`是用来表示一个坐标的。定义一个class又小题大做了，这时，`namedtuple`就派上了用场："
   ]
  },
  {
   "cell_type": "code",
   "execution_count": 3,
   "metadata": {},
   "outputs": [
    {
     "name": "stdout",
     "output_type": "stream",
     "text": [
      "<class '__main__.Point'>\n",
      "1\n",
      "2\n"
     ]
    }
   ],
   "source": [
    "from collections import namedtuple\n",
    "# 创建一个具名 tuple\n",
    "Point = namedtuple(\"Point\",['x', 'y'])\n",
    "print(Point)\n",
    "p = Point(1,2)\n",
    "# 访问 tuple\n",
    "print(p.x)\n",
    "print(p.y)"
   ]
  },
  {
   "cell_type": "markdown",
   "metadata": {},
   "source": [
    "`namedtuple`是一个函数，它用来创建一个自定义的`tuple`对象，并且规定了`tuple`元素的个数，并可以用属性而不是索引来引用`tuple`的某个元素。\n",
    "\n",
    "这样一来，我们用`namedtuple`可以很方便地定义一种数据类型，它具备`tuple`的不变性，又可以根据属性来引用，使用十分方便。\n",
    "\n",
    "可以验证创建的`Point`对象是`tuple`的一种子类："
   ]
  },
  {
   "cell_type": "code",
   "execution_count": 2,
   "metadata": {},
   "outputs": [
    {
     "name": "stdout",
     "output_type": "stream",
     "text": [
      "True\n",
      "True\n"
     ]
    }
   ],
   "source": [
    "print(isinstance(p, Point))\n",
    "print(isinstance(p, tuple))"
   ]
  },
  {
   "cell_type": "markdown",
   "metadata": {},
   "source": [
    "类似的，如果要用坐标和半径表示一个圆，也可以用`namedtuple`定义：`Circle = namedtuple('Circle', ['x', 'y', 'r'])`。\n",
    "\n",
    "### deque\n",
    "使用`list`存储数据时，按索引访问元素很快，但是插入和删除元素就很慢了，因为`list`是线性存储，数据量大的时候，插入和删除效率很低。`deque`是为了高效实现插入和删除操作的双向列表，适合用于队列和栈："
   ]
  },
  {
   "cell_type": "code",
   "execution_count": 4,
   "metadata": {},
   "outputs": [
    {
     "data": {
      "text/plain": [
       "deque(['y', 'a', 'b', 'c', 'x'])"
      ]
     },
     "execution_count": 4,
     "metadata": {},
     "output_type": "execute_result"
    }
   ],
   "source": [
    "from collections import deque\n",
    "q = deque(['a', 'b', 'c'])\n",
    "q.append('x')\n",
    "q.appendleft('y')\n",
    "q"
   ]
  },
  {
   "cell_type": "markdown",
   "metadata": {},
   "source": [
    "`deque`除了实现`list`的`append()`和`pop()`外，还支持`appendleft()`和`popleft()`，这样就可以非常高效地往头部添加或删除元素。\n",
    "\n",
    "### defaultdict\n",
    "\n",
    "使用`dict`时，如果引用的Key不存在，就会抛出`KeyError`。如果希望key不存在时，返回一个默认值，就可以用`defaultdict`："
   ]
  },
  {
   "cell_type": "code",
   "execution_count": 5,
   "metadata": {},
   "outputs": [
    {
     "name": "stdout",
     "output_type": "stream",
     "text": [
      "key1\n",
      "N/A\n"
     ]
    }
   ],
   "source": [
    "from collections import defaultdict\n",
    "dd = defaultdict(lambda:'N/A')\n",
    "dd['key1'] = 'key1'\n",
    "# 访问存在的 key\n",
    "print(dd['key1'])\n",
    "# 访问不存在的 key 输出 N/A\n",
    "print(dd['key2'])"
   ]
  },
  {
   "cell_type": "markdown",
   "metadata": {},
   "source": [
    "注意默认值是调用函数返回的，而函数在创建`defaultdict`对象时传入。除了在Key不存在时返回默认值，`defaultdict`的其他行为跟`dict`是完全一样的。\n",
    "\n",
    "### OrderedDict\n",
    "\n",
    "使用`dict`时，Key是无序的。在对`dict`做迭代时，我们无法确定Key的顺序。如果要保持Key的顺序，可以用`OrderedDict`："
   ]
  },
  {
   "cell_type": "code",
   "execution_count": 6,
   "metadata": {},
   "outputs": [
    {
     "name": "stdout",
     "output_type": "stream",
     "text": [
      "{'a': 1, 'b': 2, 'c': 3}\n",
      "OrderedDict([('a', 1), ('b', 2), ('c', 3)])\n"
     ]
    }
   ],
   "source": [
    "from collections import OrderedDict\n",
    "d = dict([('a',1), ('b',2), ('c',3)])\n",
    "# key 无序\n",
    "print(d)\n",
    "od = OrderedDict([('a',1), ('b',2), ('c',3)])\n",
    "# key 有序\n",
    "print(od)"
   ]
  },
  {
   "cell_type": "markdown",
   "metadata": {},
   "source": [
    "注意，`OrderedDict`的Key会按照插入的顺序排列，不是Key本身排序："
   ]
  },
  {
   "cell_type": "code",
   "execution_count": 7,
   "metadata": {},
   "outputs": [
    {
     "data": {
      "text/plain": [
       "['z', 'y', 'x']"
      ]
     },
     "execution_count": 7,
     "metadata": {},
     "output_type": "execute_result"
    }
   ],
   "source": [
    "od = OrderedDict()\n",
    "od['z'] = 1\n",
    "od['y'] = 2\n",
    "od['x'] = 3\n",
    "list(od.keys()) # 按照插入的Key的顺序返回"
   ]
  },
  {
   "cell_type": "markdown",
   "metadata": {},
   "source": [
    "`OrderedDict`可以实现一个FIFO（先进先出）的`dict`，当容量超出限制时，先删除最早添加的Key："
   ]
  },
  {
   "cell_type": "code",
   "execution_count": 13,
   "metadata": {},
   "outputs": [
    {
     "name": "stdout",
     "output_type": "stream",
     "text": [
      "add: ('a', 1)\n",
      "add: ('b', 2)\n",
      "add: ('c', 3)\n",
      "remove: ('a', 1)\n",
      "add: ('d', 4)\n",
      "LastUpdatedOrderedDict([('b', 2), ('c', 3), ('d', 4)])\n"
     ]
    }
   ],
   "source": [
    "from collections import OrderedDict\n",
    "\n",
    "class LastUpdatedOrderedDict(OrderedDict):\n",
    "\n",
    "    def __init__(self, capacity):\n",
    "        super(LastUpdatedOrderedDict, self).__init__()\n",
    "        self._capacity = capacity\n",
    "\n",
    "    def __setitem__(self, key, value):\n",
    "        containsKey = 1 if key in self else 0\n",
    "        if len(self) - containsKey >= self._capacity:\n",
    "            # 达到容量上线，移除最先加入的 key\n",
    "            last = self.popitem(last=False)\n",
    "            print('remove:', last)\n",
    "        # key已存在则重新赋值\n",
    "        if containsKey:\n",
    "            del self[key]\n",
    "            print('set:', (key, value))\n",
    "        # key 不存在则添加\n",
    "        else:\n",
    "            print('add:', (key, value))\n",
    "        OrderedDict.__setitem__(self, key, value)\n",
    "\n",
    "lord = LastUpdatedOrderedDict(3)\n",
    "lord.__setitem__('a',1)\n",
    "lord.__setitem__('b',2)\n",
    "lord.__setitem__('c',3)\n",
    "lord.__setitem__('d',4)\n",
    "print(lord)"
   ]
  },
  {
   "cell_type": "markdown",
   "metadata": {},
   "source": [
    "### Counter\n",
    "\n",
    "`Counter`是一个简单的计数器，例如，统计字符出现的个数："
   ]
  },
  {
   "cell_type": "code",
   "execution_count": 10,
   "metadata": {},
   "outputs": [
    {
     "name": "stdout",
     "output_type": "stream",
     "text": [
      "Counter({'r': 2, 'g': 2, 'p': 1, 'o': 1, 'a': 1, 'm': 1, 'i': 1, 'n': 1})\n",
      "Counter({'r': 2, 'g': 2, 'p': 1, 'o': 1, 'a': 1, 'm': 1, 'i': 1, 'n': 1})\n",
      "[('r', 2), ('g', 2), ('p', 1)]\n"
     ]
    }
   ],
   "source": [
    "from collections import Counter\n",
    "c = Counter()\n",
    "for ch in 'programing':\n",
    "    c[ch] = c[ch] + 1\n",
    "print(c)\n",
    "\n",
    "# 也可以这么写\n",
    "print(Counter('programing'))\n",
    "\n",
    "# 返回最多的前三个\n",
    "print(Counter('programing').most_common(3))"
   ]
  },
  {
   "cell_type": "markdown",
   "metadata": {},
   "source": [
    "`Counter`实际上也是`dict`的一个子类，上面的结果可以看出，字符`'g`'、`'m'`、`'r'`各出现了两次，其他字符各出现了一次。"
   ]
  },
  {
   "cell_type": "markdown",
   "metadata": {},
   "source": [
    "## base64\n",
    "Base64是一种用64个字符来表示任意二进制数据的方法。\n",
    "\n",
    "用记事本打开`exe`、`jpg`、`pdf`这些文件时，我们都会看到一大堆乱码，因为二进制文件包含很多无法显示和打印的字符，所以，如果要让记事本这样的文本处理软件能处理二进制数据，就需要一个二进制到字符串的转换方法。Base64是一种最常见的二进制编码方法。\n",
    "\n",
    "Base64的原理很简单，首先，准备一个包含64个字符的数组：`['A', 'B', 'C', ... 'a', 'b', 'c', ... '0', '1', ... '+', '/']`\n",
    "\n",
    "然后，对二进制数据进行处理，每3个字节一组，一共是`3x8=24`bit，划为4组，每组正好6个bit：![image](http://wx3.sinaimg.cn/large/69d4185bly1fna5bkxirxj208b049dfo.jpg)\n",
    "\n",
    "这样我们得到4个数字作为索引，然后查表，获得相应的4个字符，就是编码后的字符串。\n",
    "\n",
    "所以，Base64编码会把3字节的二进制数据编码为4字节的文本数据，长度增加33%，好处是编码后的文本数据可以在邮件正文、网页等直接显示。\n",
    "\n",
    "如果要编码的二进制数据不是3的倍数，最后会剩下1个或2个字节怎么办？Base64用`\\x00`字节在末尾补足后，再在编码的末尾加上1个或2个`=`号，表示补了多少字节，解码的时候，会自动去掉。\n",
    "\n",
    "Python内置的`base64`可以直接进行base64的编解码："
   ]
  },
  {
   "cell_type": "code",
   "execution_count": 15,
   "metadata": {},
   "outputs": [
    {
     "name": "stdout",
     "output_type": "stream",
     "text": [
      "b'YmluYXJ5AHN0cmluZw=='\n",
      "b'binary\\x00string'\n"
     ]
    }
   ],
   "source": [
    "import base64\n",
    "# 编码\n",
    "print(base64.b64encode(b'binary\\x00string'))\n",
    "# 解码\n",
    "print(base64.b64decode('YmluYXJ5AHN0cmluZw=='))"
   ]
  },
  {
   "cell_type": "markdown",
   "metadata": {},
   "source": [
    "由于标准的Base64编码后可能出现字符+和/，在URL中就不能直接作为参数，所以又有一种\"url safe\"的base64编码，其实就是把字符`+`和`/`分别变成`-`和`_`："
   ]
  },
  {
   "cell_type": "code",
   "execution_count": 17,
   "metadata": {},
   "outputs": [
    {
     "name": "stdout",
     "output_type": "stream",
     "text": [
      "b'abcd++//'\n",
      "b'abcd--__'\n",
      "b'i\\xb7\\x1d\\xfb\\xef\\xff'\n"
     ]
    }
   ],
   "source": [
    "# 常规 base64 编码\n",
    "print(base64.b64encode(b'i\\xb7\\x1d\\xfb\\xef\\xff'))\n",
    "\n",
    "# 对于 url 安全的 base64 编码\n",
    "print(base64.urlsafe_b64encode(b'i\\xb7\\x1d\\xfb\\xef\\xff'))\n",
    "\n",
    "# 解码\n",
    "print(base64.urlsafe_b64decode('abcd--__'))"
   ]
  },
  {
   "cell_type": "markdown",
   "metadata": {},
   "source": [
    "还可以自己定义64个字符的排列顺序，这样就可以自定义Base64编码，不过，通常情况下完全没有必要。Base64是一种通过查表的编码方法，不能用于加密，即使使用自定义的编码表也不行。Base64适用于小段内容的编码，比如数字证书签名、Cookie的内容等。\n",
    "\n",
    "由于`=`字符也可能出现在Base64编码中，但`=`用在URL、Cookie里面会造成歧义，所以，很多Base64编码后会把`=`去掉：\n",
    "```python\n",
    "# 标准Base64:\n",
    "'abcd' -> 'YWJjZA=='\n",
    "# 自动去掉=:\n",
    "'abcd' -> 'YWJjZA'\n",
    "```\n",
    "去掉=后怎么解码呢？因为Base64是把3个字节变为4个字节，所以，Base64编码的长度永远是4的倍数，因此，需要加上=把Base64字符串的长度变为4的倍数，就可以正常解码了。\n",
    "\n",
    "### 练习\n",
    "\n",
    "请写一个能处理去掉=的base64解码函数："
   ]
  },
  {
   "cell_type": "code",
   "execution_count": 24,
   "metadata": {},
   "outputs": [
    {
     "name": "stdout",
     "output_type": "stream",
     "text": [
      "0\n",
      "2\n",
      "ok\n"
     ]
    }
   ],
   "source": [
    "import base64\n",
    "def safe_base64_decode(s):\n",
    "    mod = len(s)%4\n",
    "    if mod :\n",
    "        s = s + b'='*2\n",
    "    return base64.urlsafe_b64decode(s)\n",
    "    \n",
    "# 测试:\n",
    "assert b'abcd' == safe_base64_decode(b'YWJjZA=='), safe_base64_decode('YWJjZA==')\n",
    "assert b'abcd' == safe_base64_decode(b'YWJjZA'), safe_base64_decode('YWJjZA')\n",
    "print('ok')"
   ]
  },
  {
   "cell_type": "markdown",
   "metadata": {},
   "source": [
    "## struct\n",
    "准确地讲，Python没有专门处理字节的数据类型。但由于`b'str'`可以表示字节，所以，**字节数组＝二进制str**。而在C语言中，我们可以很方便地用struct、union来处理字节，以及字节和int，float的转换。\n",
    "\n",
    "在Python中，比方说要把一个32位无符号整数变成字节，也就是4个长度的`bytes`，你得配合位运算符这么写："
   ]
  },
  {
   "cell_type": "code",
   "execution_count": 25,
   "metadata": {},
   "outputs": [
    {
     "data": {
      "text/plain": [
       "b'\\x00\\x9c@c'"
      ]
     },
     "execution_count": 25,
     "metadata": {},
     "output_type": "execute_result"
    }
   ],
   "source": [
    "n = 10240099\n",
    "b1 = (n & 0xff000000) >> 24\n",
    "b2 = (n & 0xff0000) >> 16\n",
    "b3 = (n & 0xff00) >> 8\n",
    "b4 = n & 0xff\n",
    "bs = bytes([b1, b2, b3, b4])\n",
    "bs"
   ]
  },
  {
   "cell_type": "markdown",
   "metadata": {},
   "source": [
    "非常麻烦。如果换成浮点数就无能为力了。好在Python提供了一个`struct`模块来解决`bytes`和其他二进制数据类型的转换。\n",
    "\n",
    "`struct`的`pack`函数把任意数据类型变成`bytes`："
   ]
  },
  {
   "cell_type": "code",
   "execution_count": 26,
   "metadata": {},
   "outputs": [
    {
     "data": {
      "text/plain": [
       "b'\\x00\\x9c@c'"
      ]
     },
     "execution_count": 26,
     "metadata": {},
     "output_type": "execute_result"
    }
   ],
   "source": [
    "import struct\n",
    "struct.pack('>I', 10240099)"
   ]
  },
  {
   "cell_type": "markdown",
   "metadata": {},
   "source": [
    "`pack`的第一个参数是处理指令，`'>I'`的意思是：`>`表示字节顺序是big-endian，也就是网络序，`I`表示4字节无符号整数。后面的参数个数要和处理指令一致。\n",
    "\n",
    "`unpack`把`bytes`变成相应的数据类型："
   ]
  },
  {
   "cell_type": "code",
   "execution_count": 27,
   "metadata": {},
   "outputs": [
    {
     "data": {
      "text/plain": [
       "(4042322160, 32896)"
      ]
     },
     "execution_count": 27,
     "metadata": {},
     "output_type": "execute_result"
    }
   ],
   "source": [
    "struct.unpack('>IH', b'\\xf0\\xf0\\xf0\\xf0\\x80\\x80')"
   ]
  },
  {
   "cell_type": "markdown",
   "metadata": {},
   "source": [
    "根据`>IH`的说明，后面的`bytes`依次变为`I`：4字节无符号整数和`H`：2字节无符号整数。所以，尽管Python不适合编写底层操作字节流的代码，但在对性能要求不高的地方，利用`struct`就方便多了。\n",
    "\n",
    "struct模块定义的数据类型可以参考Python[官方文档](https://docs.python.org/3/library/struct.html#format-characters)。\n",
    "\n",
    "Windows的位图文件（.bmp）是一种非常简单的文件格式，我们来用struct分析一下。首先找一个bmp文件，没有的话用“画图”画一个。读入前30个字节来分析："
   ]
  },
  {
   "cell_type": "code",
   "execution_count": 28,
   "metadata": {},
   "outputs": [],
   "source": [
    "s = b'\\x42\\x4d\\x38\\x8c\\x0a\\x00\\x00\\x00\\x00\\x00\\x36\\x00\\x00\\x00\\x28\\x00\\x00\\x00\\x80\\x02\\x00\\x00\\x68\\x01\\x00\\x00\\x01\\x00\\x18\\x00'"
   ]
  },
  {
   "cell_type": "markdown",
   "metadata": {},
   "source": [
    "BMP格式采用小端方式存储数据，文件头的结构按顺序如下：\n",
    "\n",
    "- 两个字节：'BM'表示Windows位图，'BA'表示OS/2位图；\n",
    "- 一个4字节整数：表示位图大小；\n",
    "- 一个4字节整数：保留位，始终为0；\n",
    "- 一个4字节整数：实际图像的偏移量；\n",
    "- 一个4字节整数：Header的字节数；\n",
    "- 一个4字节整数：图像宽度；\n",
    "- 一个4字节整数：图像高度；\n",
    "- 一个2字节整数：始终为1；\n",
    "- 一个2字节整数：颜色数。\n",
    "\n",
    "所以，组合起来用unpack读取：\n"
   ]
  },
  {
   "cell_type": "code",
   "execution_count": 29,
   "metadata": {},
   "outputs": [
    {
     "data": {
      "text/plain": [
       "(b'B', b'M', 691256, 0, 54, 40, 640, 360, 1, 24)"
      ]
     },
     "execution_count": 29,
     "metadata": {},
     "output_type": "execute_result"
    }
   ],
   "source": [
    "struct.unpack('<ccIIIIIIHH', s)"
   ]
  },
  {
   "cell_type": "markdown",
   "metadata": {},
   "source": [
    "结果显示，`b'B'`、`b'M'`说明是Windows位图，位图大小为640x360，颜色数为24。"
   ]
  },
  {
   "cell_type": "code",
   "execution_count": 36,
   "metadata": {},
   "outputs": [
    {
     "name": "stdout",
     "output_type": "stream",
     "text": [
      "(b'B', b'M', 62622, 0, 62, 40, 1077, 460, 1, 1)\n"
     ]
    }
   ],
   "source": [
    "with open('./data/struct_bmp.bmp','rb') as f:\n",
    "    s = f.read(30)\n",
    "    print(struct.unpack('<ccIIIIIIHH', s))"
   ]
  },
  {
   "cell_type": "markdown",
   "metadata": {},
   "source": [
    "### 练习\n",
    "请编写一个`bmpinfo.py`，可以检查任意文件是否是位图文件，如果是，打印出图片大小和颜色数。"
   ]
  },
  {
   "cell_type": "code",
   "execution_count": 34,
   "metadata": {},
   "outputs": [
    {
     "name": "stdout",
     "output_type": "stream",
     "text": [
      "(b'B', b'M', 616, 0, 54, 40, 28, 10, 1, 16)\n",
      "BM\n",
      "{'width': 28, 'height': 10, 'color': 16}\n",
      "ok\n"
     ]
    }
   ],
   "source": [
    "import base64, struct\n",
    "bmp_data = base64.b64decode('Qk1oAgAAAAAAADYAAAAoAAAAHAAAAAoAAAABABAAAAAAADICAAASCwAAEgsAAAAAAAAAAAAA/3//f/9//3//f/9//3//f/9//3//f/9//3//f/9//3//f/9//3//f/9//3//f/9//3//f/9//3//f/9/AHwAfAB8AHwAfAB8AHwAfP9//3//fwB8AHwAfAB8/3//f/9/AHwAfAB8AHz/f/9//3//f/9//38AfAB8AHwAfAB8AHwAfAB8AHz/f/9//38AfAB8/3//f/9//3//fwB8AHz/f/9//3//f/9//3//f/9/AHwAfP9//3//f/9/AHwAfP9//3//fwB8AHz/f/9//3//f/9/AHwAfP9//3//f/9//3//f/9//38AfAB8AHwAfAB8AHwAfP9//3//f/9/AHwAfP9//3//f/9//38AfAB8/3//f/9//3//f/9//3//fwB8AHwAfAB8AHwAfAB8/3//f/9//38AfAB8/3//f/9//3//fwB8AHz/f/9//3//f/9//3//f/9/AHwAfP9//3//f/9/AHwAfP9//3//fwB8AHz/f/9/AHz/f/9/AHwAfP9//38AfP9//3//f/9/AHwAfAB8AHwAfAB8AHwAfAB8/3//f/9/AHwAfP9//38AfAB8AHwAfAB8AHwAfAB8/3//f/9//38AfAB8AHwAfAB8AHwAfAB8/3//f/9/AHwAfAB8AHz/fwB8AHwAfAB8AHwAfAB8AHz/f/9//3//f/9//3//f/9//3//f/9//3//f/9//3//f/9//3//f/9//3//f/9//3//f/9//3//f/9//38AAA==')\n",
    "\n",
    "def bmp_info(data):\n",
    "    img = struct.unpack('<ccIIIIIIHH', data[:30])\n",
    "    bmorba = str(img[0],encoding = \"utf-8\") + str(img[1],encoding = \"utf-8\")\n",
    "    print(img)\n",
    "    print(bmorba)\n",
    "    if bmorba == 'BM' or bmorba == 'BA':\n",
    "        return {\n",
    "            'width': img[6],\n",
    "            'height': img[7],\n",
    "            'color': img[9]\n",
    "        }\n",
    "    else:\n",
    "        return False\n",
    "    \n",
    "\n",
    "# 测试\n",
    "bi = bmp_info(bmp_data)\n",
    "print(bi)\n",
    "assert bi['width'] == 28\n",
    "assert bi['height'] == 10\n",
    "assert bi['color'] == 16\n",
    "print('ok')\n"
   ]
  },
  {
   "cell_type": "code",
   "execution_count": null,
   "metadata": {},
   "outputs": [],
   "source": []
  },
  {
   "cell_type": "code",
   "execution_count": null,
   "metadata": {},
   "outputs": [],
   "source": []
  },
  {
   "cell_type": "code",
   "execution_count": null,
   "metadata": {},
   "outputs": [],
   "source": []
  },
  {
   "cell_type": "code",
   "execution_count": null,
   "metadata": {},
   "outputs": [],
   "source": []
  },
  {
   "cell_type": "markdown",
   "metadata": {},
   "source": [
    "## 参考\n",
    "1、[datetime - 廖雪峰](https://www.liaoxuefeng.com/wiki/0014316089557264a6b348958f449949df42a6d3a2e542c000/001431937554888869fb52b812243dda6103214cd61d0c2000)\n",
    "\n",
    "2、[collections - 廖雪峰](https://www.liaoxuefeng.com/wiki/0014316089557264a6b348958f449949df42a6d3a2e542c000/001431953239820157155d21c494e5786fce303f3018c86000)\n",
    "\n",
    "3、[base64 - 廖雪峰](https://www.liaoxuefeng.com/wiki/0014316089557264a6b348958f449949df42a6d3a2e542c000/001431954588961d6b6f51000ca4279a3415ce14ed9d709000)\n",
    "\n",
    "4、[struct - 廖雪峰](https://www.liaoxuefeng.com/wiki/0014316089557264a6b348958f449949df42a6d3a2e542c000/001431955007656a66f831e208e4c189b8a9e9f3f25ba53000)\n"
   ]
  },
  {
   "cell_type": "code",
   "execution_count": null,
   "metadata": {},
   "outputs": [],
   "source": []
  }
 ],
 "metadata": {
  "kernelspec": {
   "display_name": "Python 3",
   "language": "python",
   "name": "python3"
  },
  "language_info": {
   "codemirror_mode": {
    "name": "ipython",
    "version": 3
   },
   "file_extension": ".py",
   "mimetype": "text/x-python",
   "name": "python",
   "nbconvert_exporter": "python",
   "pygments_lexer": "ipython3",
   "version": "3.6.3"
  },
  "toc": {
   "nav_menu": {},
   "number_sections": true,
   "sideBar": true,
   "skip_h1_title": false,
   "toc_cell": false,
   "toc_position": {
    "height": "535px",
    "left": "0px",
    "right": "1200px",
    "top": "111px",
    "width": "324px"
   },
   "toc_section_display": "block",
   "toc_window_display": true
  }
 },
 "nbformat": 4,
 "nbformat_minor": 2
}
