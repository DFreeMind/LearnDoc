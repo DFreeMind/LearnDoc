{
 "cells": [
  {
   "cell_type": "markdown",
   "metadata": {},
   "source": [
    "![image](http://wx2.sinaimg.cn/thumbnail/69d4185bly1fmf9kfagd3j20ek0ekq88.jpg)\n",
    "# 常见的第三方模块\n",
    "除了内建的模块外，Python还有大量的第三方模块。\n",
    "\n",
    "基本上，所有的第三方模块都会在[PyPI - the Python Package Index](https://pypi.python.org/)上注册，只要找到对应的模块名字，即可用pip安装。\n",
    "\n",
    "此外，在安装第三方模块一节中，我们强烈推荐安装[Anaconda](https://www.anaconda.com/)，安装后，数十个常用的第三方模块就已经就绪，不用pip手动安装。\n"
   ]
  },
  {
   "cell_type": "markdown",
   "metadata": {},
   "source": [
    "## Pillow\n",
    "PIL：Python Imaging Library，已经是Python平台事实上的图像处理标准库了。PIL功能非常强大，但API却非常简单易用。\n",
    "\n",
    "由于PIL仅支持到Python 2.7，加上年久失修，于是一群志愿者在PIL的基础上创建了兼容的版本，名字叫[Pillow](https://github.com/python-pillow/Pillow)，支持最新Python 3.x，又加入了许多新特性，因此，我们可以直接安装使用Pillow。\n",
    "\n",
    "### 安装Pillow\n",
    "\n",
    "如果安装了Anaconda，Pillow就已经可用了。否则，需要在命令行下通过pip安装：`$ pip install pillow`。如果遇到Permission denied安装失败，请加上`sudo`重试。\n",
    "\n",
    "### 操作图像\n",
    "\n",
    "来看看最常见的图像缩放操作，只需三四行代码："
   ]
  },
  {
   "cell_type": "code",
   "execution_count": 3,
   "metadata": {},
   "outputs": [
    {
     "name": "stdout",
     "output_type": "stream",
     "text": [
      "Original image size: 400x499\n",
      "Resize image to: 200x249\n"
     ]
    }
   ],
   "source": [
    "from PIL import Image\n",
    "\n",
    "# 打开一个jpg图像文件，注意是在当前路径下操作:\n",
    "im = Image.open('data/test_0.jpg')\n",
    "# 获得图像尺寸:\n",
    "w, h = im.size\n",
    "print('Original image size: %sx%s' % (w, h))\n",
    "# 缩放到50%:\n",
    "im.thumbnail((w//2, h//2))\n",
    "print('Resize image to: %sx%s' % (w//2, h//2))\n",
    "# 把缩放后的图像用jpeg格式保存:\n",
    "im.save('data/test_0_thumbnail.jpg', 'jpeg')"
   ]
  },
  {
   "cell_type": "markdown",
   "metadata": {},
   "source": [
    "其他功能如切片、旋转、滤镜、输出文字、调色板等一应俱全。比如，模糊效果也只需几行代码，效果如下：\n",
    "![image](http://ws3.sinaimg.cn/large/69d4185bly1fnbdrigcedj20fm0axwnw.jpg)"
   ]
  },
  {
   "cell_type": "code",
   "execution_count": 4,
   "metadata": {},
   "outputs": [],
   "source": [
    "from PIL import Image, ImageFilter\n",
    "\n",
    "# 打开一个jpg图像文件，注意是当前路径:\n",
    "im = Image.open('data/test_img.jpg')\n",
    "# 应用模糊滤镜:\n",
    "im2 = im.filter(ImageFilter.BLUR)\n",
    "im2.save('data/test_img_blur.jpg', 'jpeg')"
   ]
  },
  {
   "cell_type": "markdown",
   "metadata": {},
   "source": [
    "PIL的`ImageDraw`提供了一系列绘图方法，让我们可以直接绘图。比如要生成字母验证码图片："
   ]
  },
  {
   "cell_type": "code",
   "execution_count": 6,
   "metadata": {},
   "outputs": [],
   "source": [
    "from PIL import Image, ImageDraw, ImageFont, ImageFilter\n",
    "import random\n",
    "\n",
    "# 随机字母:\n",
    "def rndChar():\n",
    "    return chr(random.randint(65, 90))\n",
    "\n",
    "# 随机颜色1:\n",
    "def rndColor():\n",
    "    return (random.randint(64, 255), random.randint(64, 255), random.randint(64, 255))\n",
    "\n",
    "# 随机颜色2:\n",
    "def rndColor2():\n",
    "    return (random.randint(32, 127), random.randint(32, 127), random.randint(32, 127))\n",
    "\n",
    "# 240 x 60:\n",
    "width = 60 * 4\n",
    "height = 60\n",
    "image = Image.new('RGB', (width, height), (255, 255, 255))\n",
    "# 创建Font对象:\n",
    "# 字体要使用绝对路径，否则会报 cannot open source\n",
    "font = ImageFont.truetype('C:\\\\WINDOWS\\\\Fonts\\\\Arial.ttf', 36)\n",
    "# 创建Draw对象:\n",
    "draw = ImageDraw.Draw(image)\n",
    "# 填充每个像素:\n",
    "for x in range(width):\n",
    "    for y in range(height):\n",
    "        draw.point((x, y), fill=rndColor())\n",
    "# 输出文字:\n",
    "for t in range(4):\n",
    "    draw.text((60 * t + 10, 10), rndChar(), font=font, fill=rndColor2())\n",
    "# 模糊:\n",
    "image = image.filter(ImageFilter.BLUR)\n",
    "image.save('data/code.jpg', 'jpeg')"
   ]
  },
  {
   "cell_type": "markdown",
   "metadata": {},
   "source": [
    "运行指挥之后可以看到如下的图片：![image](http://ws3.sinaimg.cn/large/69d4185bly1fnbe1g7dzkj206o01oglg.jpg)\n"
   ]
  },
  {
   "cell_type": "markdown",
   "metadata": {},
   "source": [
    "## requests\n",
    "我们已经讲解了Python内置的urllib模块，用于访问网络资源。但是，它用起来比较麻烦，而且，缺少很多实用的高级功能。更好的方案是使用requests。它是一个Python第三方库，处理URL资源特别方便。\n",
    "\n",
    "### 安装requests\n",
    "\n",
    "如果安装了Anaconda，`requests`就已经可用了。否则，需要在命令行下通过pip安装：` pip install requests`。如果遇到Permission denied安装失败，请加上sudo重试。\n",
    "\n",
    "### 使用requests\n",
    "\n",
    "要通过GET访问一个页面，只需要几行代码："
   ]
  },
  {
   "cell_type": "code",
   "execution_count": 9,
   "metadata": {},
   "outputs": [
    {
     "name": "stdout",
     "output_type": "stream",
     "text": [
      "200\n",
      "<!DOCTYPE html>\r\n",
      "<!--STATUS OK--><html> <head><meta http-equiv=content-type content=text/html;charset=utf-8><meta http-equiv=X-UA-Compatible content=IE=Edge><meta content=always name=referrer><link rel=stylesheet type=text/css href=https://ss1.bdstatic.com/5eN1bjq8AAUYm2zgoY3K/r/www/cache/bdorz/baidu.min.css><title>ç¾åº¦ä¸ä¸ï¼ä½ å°±ç¥é</title></head> <body link=#0000cc> <div id=wrapper> <div id=head> <div class=head_wrapper> <div class=s_form> <div class=s_form_wrapper> <div id=lg> <img hidefocus=true src=//www.baidu.com/img/bd_logo1.png width=270 height=129> </div> <form id=form name=f action=//www.baidu.com/s class=fm> <input type=hidden name=bdorz_come value=1> <input type=hidden name=ie value=utf-8> <input type=hidden name=f value=8> <input type=hidden name=rsv_bp value=1> <input type=hidden name=rsv_idx value=1> <input type=hidden name=tn value=baidu><span class=\"bg s_ipt_wr\"><input id=kw name=wd class=s_ipt value maxlength=255 autocomplete=off autofocus=autofocus></span><span class=\"bg s_btn_wr\"><input type=submit id=su value=ç¾åº¦ä¸ä¸ class=\"bg s_btn\" autofocus></span> </form> </div> </div> <div id=u1> <a href=http://news.baidu.com name=tj_trnews class=mnav>æ°é»</a> <a href=https://www.hao123.com name=tj_trhao123 class=mnav>hao123</a> <a href=http://map.baidu.com name=tj_trmap class=mnav>å°å¾</a> <a href=http://v.baidu.com name=tj_trvideo class=mnav>è§é¢</a> <a href=http://tieba.baidu.com name=tj_trtieba class=mnav>è´´å§</a> <noscript> <a href=http://www.baidu.com/bdorz/login.gif?login&amp;tpl=mn&amp;u=http%3A%2F%2Fwww.baidu.com%2f%3fbdorz_come%3d1 name=tj_login class=lb>ç»å½</a> </noscript> <script>document.write('<a href=\"http://www.baidu.com/bdorz/login.gif?login&tpl=mn&u='+ encodeURIComponent(window.location.href+ (window.location.search === \"\" ? \"?\" : \"&\")+ \"bdorz_come=1\")+ '\" name=\"tj_login\" class=\"lb\">ç»å½</a>');\r\n",
      "                </script> <a href=//www.baidu.com/more/ name=tj_briicon class=bri style=\"display: block;\">æ´å¤äº§å</a> </div> </div> </div> <div id=ftCon> <div id=ftConw> <p id=lh> <a href=http://home.baidu.com>å",
      "³äºç¾åº¦</a> <a href=http://ir.baidu.com>About Baidu</a> </p> <p id=cp>&copy;2017&nbsp;Baidu&nbsp;<a href=http://www.baidu.com/duty/>ä½¿ç¨ç¾åº¦åå¿",
      "è¯»</a>&nbsp; <a href=http://jianyi.baidu.com/ class=cp-feedback>æè§åé¦</a>&nbsp;äº¬ICPè¯030173å·&nbsp; <img src=//www.baidu.com/img/gs.gif> </p> </div> </div> </div> </body> </html>\r\n",
      "\n"
     ]
    }
   ],
   "source": [
    "import requests\n",
    "r = requests.get('https://www.baidu.com/')\n",
    "print(r.status_code)\n",
    "print(r.text)"
   ]
  },
  {
   "cell_type": "markdown",
   "metadata": {},
   "source": [
    "对于带参数的URL，传入一个dict作为params参数："
   ]
  },
  {
   "cell_type": "code",
   "execution_count": 10,
   "metadata": {},
   "outputs": [
    {
     "name": "stdout",
     "output_type": "stream",
     "text": [
      "https://www.douban.com/search?q=python&cat=1001\n"
     ]
    }
   ],
   "source": [
    "r = requests.get('https://www.douban.com/search', params={'q': 'python', 'cat': '1001'})\n",
    "print(r.url)    "
   ]
  },
  {
   "cell_type": "markdown",
   "metadata": {},
   "source": [
    "requests自动检测编码，可以使用`encoding`属性查看："
   ]
  },
  {
   "cell_type": "code",
   "execution_count": 13,
   "metadata": {},
   "outputs": [
    {
     "data": {
      "text/plain": [
       "'ISO-8859-1'"
      ]
     },
     "execution_count": 13,
     "metadata": {},
     "output_type": "execute_result"
    }
   ],
   "source": [
    "r = requests.get('https://www.baidu.com/')\n",
    "r.encoding"
   ]
  },
  {
   "cell_type": "markdown",
   "metadata": {},
   "source": [
    "无论响应是文本还是二进制内容，我们都可以用`content`属性获得`bytes`对象："
   ]
  },
  {
   "cell_type": "code",
   "execution_count": 14,
   "metadata": {},
   "outputs": [
    {
     "data": {
      "text/plain": [
       "b'<!DOCTYPE html>\\r\\n<!--STATUS OK--><html> <head><meta http-equiv=content-type content=text/html;charset=utf-8><meta http-equiv=X-UA-Compatible content=IE=Edge><meta content=always name=referrer><link rel=stylesheet type=text/css href=https://ss1.bdstatic.com/5eN1bjq8AAUYm2zgoY3K/r/www/cache/bdorz/baidu.min.css><title>\\xe7\\x99\\xbe\\xe5\\xba\\xa6\\xe4\\xb8\\x80\\xe4\\xb8\\x8b\\xef\\xbc\\x8c\\xe4\\xbd\\xa0\\xe5\\xb0\\xb1\\xe7\\x9f\\xa5\\xe9\\x81\\x93</title></head> <body link=#0000cc> <div id=wrapper> <div id=head> <div class=head_wrapper> <div class=s_form> <div class=s_form_wrapper> <div id=lg> <img hidefocus=true src=//www.baidu.com/img/bd_logo1.png width=270 height=129> </div> <form id=form name=f action=//www.baidu.com/s class=fm> <input type=hidden name=bdorz_come value=1> <input type=hidden name=ie value=utf-8> <input type=hidden name=f value=8> <input type=hidden name=rsv_bp value=1> <input type=hidden name=rsv_idx value=1> <input type=hidden name=tn value=baidu><span class=\"bg s_ipt_wr\"><input id=kw name=wd class=s_ipt value maxlength=255 autocomplete=off autofocus=autofocus></span><span class=\"bg s_btn_wr\"><input type=submit id=su value=\\xe7\\x99\\xbe\\xe5\\xba\\xa6\\xe4\\xb8\\x80\\xe4\\xb8\\x8b class=\"bg s_btn\" autofocus></span> </form> </div> </div> <div id=u1> <a href=http://news.baidu.com name=tj_trnews class=mnav>\\xe6\\x96\\xb0\\xe9\\x97\\xbb</a> <a href=https://www.hao123.com name=tj_trhao123 class=mnav>hao123</a> <a href=http://map.baidu.com name=tj_trmap class=mnav>\\xe5\\x9c\\xb0\\xe5\\x9b\\xbe</a> <a href=http://v.baidu.com name=tj_trvideo class=mnav>\\xe8\\xa7\\x86\\xe9\\xa2\\x91</a> <a href=http://tieba.baidu.com name=tj_trtieba class=mnav>\\xe8\\xb4\\xb4\\xe5\\x90\\xa7</a> <noscript> <a href=http://www.baidu.com/bdorz/login.gif?login&amp;tpl=mn&amp;u=http%3A%2F%2Fwww.baidu.com%2f%3fbdorz_come%3d1 name=tj_login class=lb>\\xe7\\x99\\xbb\\xe5\\xbd\\x95</a> </noscript> <script>document.write(\\'<a href=\"http://www.baidu.com/bdorz/login.gif?login&tpl=mn&u=\\'+ encodeURIComponent(window.location.href+ (window.location.search === \"\" ? \"?\" : \"&\")+ \"bdorz_come=1\")+ \\'\" name=\"tj_login\" class=\"lb\">\\xe7\\x99\\xbb\\xe5\\xbd\\x95</a>\\');\\r\\n                </script> <a href=//www.baidu.com/more/ name=tj_briicon class=bri style=\"display: block;\">\\xe6\\x9b\\xb4\\xe5\\xa4\\x9a\\xe4\\xba\\xa7\\xe5\\x93\\x81</a> </div> </div> </div> <div id=ftCon> <div id=ftConw> <p id=lh> <a href=http://home.baidu.com>\\xe5\\x85\\xb3\\xe4\\xba\\x8e\\xe7\\x99\\xbe\\xe5\\xba\\xa6</a> <a href=http://ir.baidu.com>About Baidu</a> </p> <p id=cp>&copy;2017&nbsp;Baidu&nbsp;<a href=http://www.baidu.com/duty/>\\xe4\\xbd\\xbf\\xe7\\x94\\xa8\\xe7\\x99\\xbe\\xe5\\xba\\xa6\\xe5\\x89\\x8d\\xe5\\xbf\\x85\\xe8\\xaf\\xbb</a>&nbsp; <a href=http://jianyi.baidu.com/ class=cp-feedback>\\xe6\\x84\\x8f\\xe8\\xa7\\x81\\xe5\\x8f\\x8d\\xe9\\xa6\\x88</a>&nbsp;\\xe4\\xba\\xacICP\\xe8\\xaf\\x81030173\\xe5\\x8f\\xb7&nbsp; <img src=//www.baidu.com/img/gs.gif> </p> </div> </div> </div> </body> </html>\\r\\n'"
      ]
     },
     "execution_count": 14,
     "metadata": {},
     "output_type": "execute_result"
    }
   ],
   "source": [
    "r.content"
   ]
  },
  {
   "cell_type": "markdown",
   "metadata": {},
   "source": [
    "requests的方便之处还在于，对于特定类型的响应，例如JSON，可以直接获取："
   ]
  },
  {
   "cell_type": "code",
   "execution_count": null,
   "metadata": {},
   "outputs": [],
   "source": [
    "r = requests.get('https://query.yahooapis.com/v1/public/yql?q=select%20*%20from%20\\\n",
    "                weather.forecast%20where%20woeid%20%3D%202151330&format=json')\n",
    "r.json()"
   ]
  },
  {
   "cell_type": "markdown",
   "metadata": {},
   "source": [
    "需要传入HTTP Header时，我们传入一个dict作为`headers`参数："
   ]
  },
  {
   "cell_type": "code",
   "execution_count": null,
   "metadata": {},
   "outputs": [],
   "source": [
    "r = requests.get('https://www.baidu.com/',\n",
    "                 headers={'User-Agent': 'Mozilla/5.0 (iPhone; CPU iPhone OS 11_0 like Mac OS X) AppleWebKit'})\n",
    "r.text"
   ]
  },
  {
   "cell_type": "markdown",
   "metadata": {},
   "source": [
    "要发送POST请求，只需要把`get()`方法变成`post()`，然后传入`data`参数作为POST请求的数据：\n",
    "```python\n",
    " r = requests.post('https://accounts.douban.com/login', data={'form_email': 'abc@example.com', 'form_password': '123456'})\n",
    "```\n",
    "\n",
    "requests默认使用`application/x-www-form-urlencoded对POST`数据编码。如果要传递JSON数据，可以直接传入json参数：\n",
    "```python\n",
    "params = {'key': 'value'}\n",
    "r = requests.post(url, json=params) # 内部自动序列化为JSON\n",
    "```\n",
    "类似的，上传文件需要更复杂的编码格式，但是requests把它简化成files参数：\n",
    "```python\n",
    "upload_files = {'file': open('report.xls', 'rb')}\n",
    "r = requests.post(url, files=upload_files)\n",
    "```\n",
    "\n",
    "在读取文件时，注意务必使用`'rb'`即二进制模式读取，这样获取的bytes长度才是文件的长度。把`post()`方法替换为`put()`，`delete()`等，就可以以PUT或DELETE方式请求资源。\n",
    "\n",
    "除了能轻松获取响应内容外，requests对获取HTTP响应的其他信息也非常简单。例如，获取响应头：\n",
    "```python\n",
    "r.headers\n",
    "> {Content-Type': 'text/html; charset=utf-8', 'Transfer-Encoding': 'chunked', 'Content-Encoding': 'gzip', ...}\n",
    " r.headers['Content-Type']\n",
    ">'text/html; charset=utf-8'\n",
    "```"
   ]
  },
  {
   "cell_type": "markdown",
   "metadata": {},
   "source": [
    "requests对Cookie做了特殊处理，使得我们不必解析Cookie就可以轻松获取指定的Cookie：\n",
    "```python\n",
    ">>> r.cookies['ts']\n",
    "'example_cookie_12345'\n",
    "```\n",
    "\n",
    "要在请求中传入Cookie，只需准备一个dict传入`cookies`参数：\n",
    "```python\n",
    "cs = {'token': '12345', 'status': 'working')\n",
    "r = requests.get(url, cookies=cs)\n",
    "```\n",
    "最后，要指定超时，传入以秒为单位的timeout参数：\n",
    "```python\n",
    "r = requests.get(url, timeout=2.5) # 2.5秒后超时\n",
    "```"
   ]
  },
  {
   "cell_type": "markdown",
   "metadata": {},
   "source": [
    "## chardet\n",
    "字符串编码一直是令人非常头疼的问题，尤其是我们在处理一些不规范的第三方网页的时候。虽然Python提供了Unicode表示的`str`和`bytes`两种数据类型，并且可以通过`encode()`和decode()方法转换，但是，在不知道编码的情况下，对bytes做decode()不好做。\n",
    "\n",
    "对于未知编码的bytes，要把它转换成str，需要先“猜测”编码。猜测的方式是先收集各种编码的特征字符，根据特征字符判断，就能有很大概率“猜对”。\n",
    "\n",
    "当然，我们肯定不能从头自己写这个检测编码的功能，这样做费时费力。chardet这个第三方库正好就派上了用场。用它来检测编码，简单易用\n",
    "\n",
    "### 安装chardet\n",
    "\n",
    "如果安装了Anaconda，`chardet`就已经可用了。否则，需要在命令行下通过pip安装：` pip install chardet` 。如果遇到Permission denied安装失败，请加上sudo重试。"
   ]
  },
  {
   "cell_type": "markdown",
   "metadata": {},
   "source": [
    "### 使用chardet\n",
    "\n",
    "当我们拿到一个bytes时，就可以对其检测编码。用`chardet`检测编码，只需要一行代码："
   ]
  },
  {
   "cell_type": "code",
   "execution_count": 1,
   "metadata": {},
   "outputs": [
    {
     "data": {
      "text/plain": [
       "{'confidence': 1.0, 'encoding': 'ascii', 'language': ''}"
      ]
     },
     "execution_count": 1,
     "metadata": {},
     "output_type": "execute_result"
    }
   ],
   "source": [
    "import chardet\n",
    "chardet.detect(b'Hello, world!')"
   ]
  },
  {
   "cell_type": "markdown",
   "metadata": {},
   "source": [
    "检测出的编码是`ascii`，注意到还有个`confidence`字段，表示检测的概率是1.0（即100%）。我们来试试检测GBK编码的中文："
   ]
  },
  {
   "cell_type": "code",
   "execution_count": 22,
   "metadata": {},
   "outputs": [
    {
     "data": {
      "text/plain": [
       "{'confidence': 0.7407407407407407, 'encoding': 'GB2312', 'language': 'Chinese'}"
      ]
     },
     "execution_count": 22,
     "metadata": {},
     "output_type": "execute_result"
    }
   ],
   "source": [
    "data = '离离原上草，一岁一枯荣'.encode('gbk')\n",
    "chardet.detect(data)"
   ]
  },
  {
   "cell_type": "markdown",
   "metadata": {},
   "source": [
    "检测的编码是GB2312，注意到GBK是GB2312的超集，两者是同一种编码，检测正确的概率是74%，`language`字段指出的语言是`'Chinese'`。\n",
    "\n",
    "对UTF-8编码进行检测："
   ]
  },
  {
   "cell_type": "code",
   "execution_count": 25,
   "metadata": {},
   "outputs": [
    {
     "name": "stdout",
     "output_type": "stream",
     "text": [
      "{'encoding': 'utf-8', 'confidence': 0.99, 'language': ''}\n",
      "{'encoding': 'EUC-JP', 'confidence': 0.99, 'language': 'Japanese'}\n"
     ]
    }
   ],
   "source": [
    "data = '离离原上草，一岁一枯荣'.encode('utf-8')\n",
    "print(chardet.detect(data))\n",
    "\n",
    "# 对日文进行检测\n",
    "data = '最新の主要ニュース'.encode('euc-jp')\n",
    "print(chardet.detect(data))"
   ]
  },
  {
   "cell_type": "markdown",
   "metadata": {},
   "source": [
    "可见，用chardet检测编码，使用简单。获取到编码后，再转换为`str`，就可以方便后续处理。chardet支持检测的编码列表请参考官方文档[Supported encodings](https://chardet.readthedocs.io/en/latest/supported-encodings.html)。"
   ]
  },
  {
   "cell_type": "code",
   "execution_count": 6,
   "metadata": {},
   "outputs": [
    {
     "data": {
      "text/plain": [
       "{'confidence': 0.0, 'encoding': None, 'language': None}"
      ]
     },
     "execution_count": 6,
     "metadata": {},
     "output_type": "execute_result"
    }
   ],
   "source": [
    "chardet.detect(b'\\xb5\\xc7\\xc2\\xbc\\xca\\xa7\\xb0\\xdc\\xa3\\xac\\xc7\\xeb\\xca')"
   ]
  },
  {
   "cell_type": "markdown",
   "metadata": {},
   "source": [
    "## psutil\n",
    "用Python来编写脚本简化日常的运维工作是Python的一个重要用途。在Linux下，有许多系统命令可以让我们时刻监控系统运行的状态，如`ps`，`top`，`free`等等。要获取这些系统信息，Python可以通过`subprocess`模块调用并获取结果。但这样做显得很麻烦，尤其是要写很多解析代码。\n",
    "\n",
    "在Python中获取系统信息的另一个好办法是使用`psutil`这个第三方模块。顾名思义，psutil = process and system utilities，它不仅可以通过一两行代码实现系统监控，还可以跨平台使用，支持Linux／UNIX／OSX／Windows等，是系统管理员和运维小伙伴不可或缺的必备模块。\n",
    "\n",
    "### 安装psutil\n",
    "\n",
    "如果安装了Anaconda，psutil就已经可用了。否则，需要在命令行下通过pip安装：`pip install psutil`。如果遇到Permission denied安装失败，请加上sudo重试。\n",
    "\n",
    "### 获取CPU信息\n",
    "\n",
    "我们先来获取CPU的信息："
   ]
  },
  {
   "cell_type": "code",
   "execution_count": 27,
   "metadata": {},
   "outputs": [
    {
     "name": "stdout",
     "output_type": "stream",
     "text": [
      "4\n",
      "2\n",
      "scputimes(user=23505.59375, system=3027.96875, idle=50524.5625, interrupt=100.921875, dpc=201.03124952316284)\n"
     ]
    }
   ],
   "source": [
    "import psutil\n",
    "# 逻辑核心\n",
    "print(psutil.cpu_count())\n",
    "# 物理核心\n",
    "print(psutil.cpu_count(logical=False))\n",
    "\n",
    "# 统计CPU的用户／系统／空闲时间：\n",
    "print(psutil.cpu_times())"
   ]
  },
  {
   "cell_type": "markdown",
   "metadata": {},
   "source": [
    "实现类似`top`命令的CPU使用率，每秒刷新一次，累计10次："
   ]
  },
  {
   "cell_type": "code",
   "execution_count": 31,
   "metadata": {},
   "outputs": [
    {
     "name": "stdout",
     "output_type": "stream",
     "text": [
      "[36.9, 34.4, 42.2, 43.8]\n",
      "[30.8, 20.3, 31.2, 43.8]\n",
      "[21.9, 37.5, 21.9, 34.4]\n",
      "[28.1, 28.1, 43.8, 23.4]\n",
      "[23.4, 37.5, 23.4, 37.5]\n"
     ]
    }
   ],
   "source": [
    "for i in range(5):\n",
    "    print(psutil.cpu_percent(interval=1, percpu=True))"
   ]
  },
  {
   "cell_type": "markdown",
   "metadata": {},
   "source": [
    "### 获取内存信息\n",
    "使用psutil获取物理内存和交换内存信息，分别使用如下的命令，返回的是字节为单位的整数。"
   ]
  },
  {
   "cell_type": "code",
   "execution_count": 32,
   "metadata": {},
   "outputs": [
    {
     "name": "stdout",
     "output_type": "stream",
     "text": [
      "svmem(total=8476905472, available=4861276160, percent=42.7, used=3615629312, free=4861276160)\n",
      "sswap(total=17066840064, used=6806478848, free=10260361216, percent=39.9, sin=0, sout=0)\n"
     ]
    }
   ],
   "source": [
    "# 虚拟内存\n",
    "print(psutil.virtual_memory())\n",
    "\n",
    "# 交换内存\n",
    "print(psutil.swap_memory())"
   ]
  },
  {
   "cell_type": "markdown",
   "metadata": {},
   "source": [
    "### 获取磁盘信息\n",
    "\n",
    "可以通过psutil获取磁盘分区、磁盘使用率和磁盘IO信息："
   ]
  },
  {
   "cell_type": "code",
   "execution_count": 33,
   "metadata": {},
   "outputs": [
    {
     "name": "stdout",
     "output_type": "stream",
     "text": [
      "[sdiskpart(device='C:\\\\', mountpoint='C:\\\\', fstype='NTFS', opts='rw,fixed'), sdiskpart(device='D:\\\\', mountpoint='D:\\\\', fstype='NTFS', opts='rw,fixed'), sdiskpart(device='E:\\\\', mountpoint='E:\\\\', fstype='NTFS', opts='rw,fixed'), sdiskpart(device='F:\\\\', mountpoint='F:\\\\', fstype='NTFS', opts='rw,fixed'), sdiskpart(device='G:\\\\', mountpoint='G:\\\\', fstype='', opts='cdrom')]\n",
      "sdiskusage(total=95381471232, used=22161821696, free=73219649536, percent=23.2)\n",
      "sdiskio(read_count=169988, write_count=276155, read_bytes=5962299904, write_bytes=15679136256, read_time=3883, write_time=2370)\n"
     ]
    }
   ],
   "source": [
    "# 磁盘分区信息\n",
    "print(psutil.disk_partitions())\n",
    "\n",
    "# 磁盘使用情况\n",
    "print(psutil.disk_usage(\"C:\\\\\"))\n",
    "\n",
    "# 磁盘IO\n",
    "print(psutil.disk_io_counters())"
   ]
  },
  {
   "cell_type": "markdown",
   "metadata": {},
   "source": [
    "### 获取网络信息\n",
    "\n",
    "psutil可以获取网络接口和网络连接信息："
   ]
  },
  {
   "cell_type": "code",
   "execution_count": 39,
   "metadata": {},
   "outputs": [
    {
     "name": "stdout",
     "output_type": "stream",
     "text": [
      "snetio(bytes_sent=43925569, bytes_recv=839157002, packets_sent=378589, packets_recv=2294243, errin=0, errout=0, dropin=0, dropout=0)\n",
      "{'以太网': [snic(family=<AddressFamily.AF_LINK: -1>, address='5C-F9-DD-69-FC-1B', netmask=None, broadcast=None, ptp=None), snic(family=<AddressFamily.AF_INET: 2>, address='25.0.72.211', netmask='255.255.255.0', broadcast=None, ptp=None)], '本地连接* 2': [snic(family=<AddressFamily.AF_LINK: -1>, address='00-C2-C6-18-4F-62', netmask=None, broadcast=None, ptp=None), snic(family=<AddressFamily.AF_INET: 2>, address='169.254.81.191', netmask='255.255.0.0', broadcast=None, ptp=None)], 'WLAN': [snic(family=<AddressFamily.AF_LINK: -1>, address='00-C2-C6-18-4F-61', netmask=None, broadcast=None, ptp=None), snic(family=<AddressFamily.AF_INET: 2>, address='192.168.73.74', netmask='255.255.240.0', broadcast=None, ptp=None)], 'Loopback Pseudo-Interface 1': [snic(family=<AddressFamily.AF_INET: 2>, address='127.0.0.1', netmask='255.0.0.0', broadcast=None, ptp=None), snic(family=<AddressFamily.AF_INET6: 23>, address='::1', netmask=None, broadcast=None, ptp=None)]}\n",
      "{'以太网': snicstats(isup=False, duplex=<NicDuplex.NIC_DUPLEX_FULL: 2>, speed=0, mtu=1500), 'Loopback Pseudo-Interface 1': snicstats(isup=True, duplex=<NicDuplex.NIC_DUPLEX_FULL: 2>, speed=1073, mtu=1500), 'WLAN': snicstats(isup=True, duplex=<NicDuplex.NIC_DUPLEX_FULL: 2>, speed=52, mtu=1500), '本地连接* 2': snicstats(isup=False, duplex=<NicDuplex.NIC_DUPLEX_FULL: 2>, speed=0, mtu=1500)}\n",
      "Wall time: 15 ms\n"
     ]
    }
   ],
   "source": [
    "%%time\n",
    "# 获取网络读写字节／包的个数\n",
    "print(psutil.net_io_counters())\n",
    "\n",
    "# 获取网络接口信息\n",
    "print(psutil.net_if_addrs())\n",
    "\n",
    "# 网络接口的状态\n",
    "print(psutil.net_if_stats())"
   ]
  },
  {
   "cell_type": "markdown",
   "metadata": {},
   "source": [
    "要获取当前网络连接信息，使用`net_connections()`，如在 linux 或者 Mac 上遇到权限不足的问题，可以突出交互环境，添加 sudo 重新启动交互窗口：`sudo python`"
   ]
  },
  {
   "cell_type": "code",
   "execution_count": 40,
   "metadata": {},
   "outputs": [
    {
     "data": {
      "text/plain": [
       "[sconn(fd=-1, family=<AddressFamily.AF_INET: 2>, type=1, laddr=addr(ip='127.0.0.1', port=4302), raddr=(), status='LISTEN', pid=6704),\n",
       " sconn(fd=-1, family=<AddressFamily.AF_INET: 2>, type=1, laddr=addr(ip='127.0.0.1', port=51360), raddr=addr(ip='127.0.0.1', port=51444), status='ESTABLISHED', pid=4060),\n",
       " sconn(fd=-1, family=<AddressFamily.AF_INET: 2>, type=2, laddr=addr(ip='0.0.0.0', port=49807), raddr=(), status='NONE', pid=7400),\n",
       " sconn(fd=-1, family=<AddressFamily.AF_INET: 2>, type=1, laddr=addr(ip='127.0.0.1', port=56258), raddr=addr(ip='127.0.0.1', port=56257), status='ESTABLISHED', pid=1492),\n",
       " sconn(fd=-1, family=<AddressFamily.AF_INET: 2>, type=1, laddr=addr(ip='127.0.0.1', port=56297), raddr=addr(ip='127.0.0.1', port=56240), status='ESTABLISHED', pid=10620),\n",
       " sconn(fd=-1, family=<AddressFamily.AF_INET: 2>, type=1, laddr=addr(ip='127.0.0.1', port=51394), raddr=addr(ip='127.0.0.1', port=51393), status='ESTABLISHED', pid=4060),\n",
       " sconn(fd=-1, family=<AddressFamily.AF_INET: 2>, type=1, laddr=addr(ip='127.0.0.1', port=55251), raddr=addr(ip='127.0.0.1', port=55252), status='ESTABLISHED', pid=10620),\n",
       " sconn(fd=-1, family=<AddressFamily.AF_INET: 2>, type=1, laddr=addr(ip='192.168.73.74', port=139), raddr=(), status='LISTEN', pid=4),\n",
       " sconn(fd=-1, family=<AddressFamily.AF_INET: 2>, type=1, laddr=addr(ip='127.0.0.1', port=52767), raddr=(), status='LISTEN', pid=1700),\n",
       " sconn(fd=-1, family=<AddressFamily.AF_INET: 2>, type=1, laddr=addr(ip='0.0.0.0', port=53655), raddr=(), status='LISTEN', pid=5480),\n",
       " sconn(fd=-1, family=<AddressFamily.AF_INET: 2>, type=1, laddr=addr(ip='127.0.0.1', port=52764), raddr=(), status='LISTEN', pid=1700),\n",
       " sconn(fd=-1, family=<AddressFamily.AF_INET: 2>, type=1, laddr=addr(ip='127.0.0.1', port=52781), raddr=addr(ip='127.0.0.1', port=52767), status='ESTABLISHED', pid=10620),\n",
       " sconn(fd=-1, family=<AddressFamily.AF_INET: 2>, type=2, laddr=addr(ip='192.168.73.74', port=137), raddr=(), status='NONE', pid=4),\n",
       " sconn(fd=-1, family=<AddressFamily.AF_INET: 2>, type=1, laddr=addr(ip='127.0.0.1', port=51364), raddr=addr(ip='127.0.0.1', port=51363), status='ESTABLISHED', pid=10620),\n",
       " sconn(fd=-1, family=<AddressFamily.AF_INET: 2>, type=1, laddr=addr(ip='127.0.0.1', port=51397), raddr=addr(ip='127.0.0.1', port=51398), status='ESTABLISHED', pid=4060),\n",
       " sconn(fd=-1, family=<AddressFamily.AF_INET: 2>, type=1, laddr=addr(ip='127.0.0.1', port=55292), raddr=addr(ip='127.0.0.1', port=55293), status='ESTABLISHED', pid=10260),\n",
       " sconn(fd=-1, family=<AddressFamily.AF_INET: 2>, type=1, laddr=addr(ip='127.0.0.1', port=51418), raddr=addr(ip='127.0.0.1', port=51419), status='ESTABLISHED', pid=4060),\n",
       " sconn(fd=-1, family=<AddressFamily.AF_INET: 2>, type=1, laddr=addr(ip='192.168.73.74', port=64130), raddr=addr(ip='198.89.106.197', port=443), status='CLOSE_WAIT', pid=5956),\n",
       " sconn(fd=-1, family=<AddressFamily.AF_INET: 2>, type=1, laddr=addr(ip='127.0.0.1', port=52765), raddr=(), status='LISTEN', pid=1700),\n",
       " sconn(fd=-1, family=<AddressFamily.AF_INET: 2>, type=1, laddr=addr(ip='192.168.73.74', port=63754), raddr=addr(ip='111.11.5.238', port=80), status='CLOSE_WAIT', pid=14104),\n",
       " sconn(fd=-1, family=<AddressFamily.AF_INET: 2>, type=1, laddr=addr(ip='127.0.0.1', port=51359), raddr=(), status='LISTEN', pid=4060),\n",
       " sconn(fd=-1, family=<AddressFamily.AF_INET: 2>, type=1, laddr=addr(ip='127.0.0.1', port=51442), raddr=addr(ip='127.0.0.1', port=51443), status='ESTABLISHED', pid=10620),\n",
       " sconn(fd=-1, family=<AddressFamily.AF_INET: 2>, type=1, laddr=addr(ip='127.0.0.1', port=56256), raddr=addr(ip='127.0.0.1', port=56255), status='ESTABLISHED', pid=1492),\n",
       " sconn(fd=-1, family=<AddressFamily.AF_INET: 2>, type=1, laddr=addr(ip='127.0.0.1', port=52807), raddr=addr(ip='127.0.0.1', port=52806), status='ESTABLISHED', pid=1700),\n",
       " sconn(fd=-1, family=<AddressFamily.AF_INET: 2>, type=1, laddr=addr(ip='127.0.0.1', port=52800), raddr=addr(ip='127.0.0.1', port=52799), status='ESTABLISHED', pid=1700),\n",
       " sconn(fd=-1, family=<AddressFamily.AF_INET: 2>, type=1, laddr=addr(ip='127.0.0.1', port=51389), raddr=addr(ip='127.0.0.1', port=51361), status='ESTABLISHED', pid=10620),\n",
       " sconn(fd=-1, family=<AddressFamily.AF_INET: 2>, type=1, laddr=addr(ip='127.0.0.1', port=55196), raddr=addr(ip='127.0.0.1', port=55210), status='ESTABLISHED', pid=10260),\n",
       " sconn(fd=-1, family=<AddressFamily.AF_INET: 2>, type=1, laddr=addr(ip='127.0.0.1', port=55199), raddr=(), status='LISTEN', pid=10260),\n",
       " sconn(fd=-1, family=<AddressFamily.AF_INET: 2>, type=1, laddr=addr(ip='127.0.0.1', port=52821), raddr=addr(ip='127.0.0.1', port=52765), status='ESTABLISHED', pid=10620),\n",
       " sconn(fd=-1, family=<AddressFamily.AF_INET: 2>, type=1, laddr=addr(ip='127.0.0.1', port=51420), raddr=addr(ip='127.0.0.1', port=51421), status='ESTABLISHED', pid=4060),\n",
       " sconn(fd=-1, family=<AddressFamily.AF_INET: 2>, type=1, laddr=addr(ip='127.0.0.1', port=55212), raddr=addr(ip='127.0.0.1', port=55213), status='ESTABLISHED', pid=10260),\n",
       " sconn(fd=-1, family=<AddressFamily.AF_INET: 2>, type=1, laddr=addr(ip='127.0.0.1', port=55226), raddr=addr(ip='127.0.0.1', port=55227), status='ESTABLISHED', pid=10260),\n",
       " sconn(fd=-1, family=<AddressFamily.AF_INET: 2>, type=1, laddr=addr(ip='127.0.0.1', port=55198), raddr=addr(ip='127.0.0.1', port=55211), status='ESTABLISHED', pid=10260),\n",
       " sconn(fd=-1, family=<AddressFamily.AF_INET: 2>, type=1, laddr=addr(ip='127.0.0.1', port=515), raddr=(), status='LISTEN', pid=4988),\n",
       " sconn(fd=-1, family=<AddressFamily.AF_INET: 2>, type=1, laddr=addr(ip='127.0.0.1', port=56286), raddr=addr(ip='127.0.0.1', port=56285), status='ESTABLISHED', pid=1492),\n",
       " sconn(fd=-1, family=<AddressFamily.AF_INET: 2>, type=1, laddr=addr(ip='127.0.0.1', port=55217), raddr=addr(ip='127.0.0.1', port=55216), status='ESTABLISHED', pid=10260),\n",
       " sconn(fd=-1, family=<AddressFamily.AF_INET: 2>, type=1, laddr=addr(ip='127.0.0.1', port=51401), raddr=addr(ip='127.0.0.1', port=51402), status='ESTABLISHED', pid=4060),\n",
       " sconn(fd=-1, family=<AddressFamily.AF_INET: 2>, type=1, laddr=addr(ip='127.0.0.1', port=52791), raddr=addr(ip='127.0.0.1', port=52792), status='ESTABLISHED', pid=1700),\n",
       " sconn(fd=-1, family=<AddressFamily.AF_INET: 2>, type=1, laddr=addr(ip='192.168.73.74', port=64148), raddr=addr(ip='192.168.73.74', port=53655), status='TIME_WAIT', pid=0),\n",
       " sconn(fd=-1, family=<AddressFamily.AF_INET: 2>, type=1, laddr=addr(ip='127.0.0.1', port=56291), raddr=addr(ip='127.0.0.1', port=56238), status='ESTABLISHED', pid=10620),\n",
       " sconn(fd=-1, family=<AddressFamily.AF_INET: 2>, type=1, laddr=addr(ip='192.168.73.74', port=64162), raddr=addr(ip='133.130.96.211', port=4430), status='ESTABLISHED', pid=5956),\n",
       " sconn(fd=-1, family=<AddressFamily.AF_INET: 2>, type=1, laddr=addr(ip='127.0.0.1', port=52816), raddr=addr(ip='127.0.0.1', port=52817), status='ESTABLISHED', pid=10620),\n",
       " sconn(fd=-1, family=<AddressFamily.AF_INET: 2>, type=1, laddr=addr(ip='127.0.0.1', port=56255), raddr=addr(ip='127.0.0.1', port=56256), status='ESTABLISHED', pid=1492),\n",
       " sconn(fd=-1, family=<AddressFamily.AF_INET: 2>, type=1, laddr=addr(ip='127.0.0.1', port=52818), raddr=addr(ip='127.0.0.1', port=52764), status='ESTABLISHED', pid=10620),\n",
       " sconn(fd=-1, family=<AddressFamily.AF_INET: 2>, type=1, laddr=addr(ip='127.0.0.1', port=52774), raddr=addr(ip='127.0.0.1', port=52773), status='ESTABLISHED', pid=10620),\n",
       " sconn(fd=-1, family=<AddressFamily.AF_INET: 2>, type=1, laddr=addr(ip='127.0.0.1', port=55249), raddr=addr(ip='127.0.0.1', port=55248), status='ESTABLISHED', pid=10620),\n",
       " sconn(fd=-1, family=<AddressFamily.AF_INET: 2>, type=1, laddr=addr(ip='127.0.0.1', port=56295), raddr=addr(ip='127.0.0.1', port=56296), status='ESTABLISHED', pid=10620),\n",
       " sconn(fd=-1, family=<AddressFamily.AF_INET: 2>, type=2, laddr=addr(ip='0.0.0.0', port=4028), raddr=(), status='NONE', pid=7784),\n",
       " sconn(fd=-1, family=<AddressFamily.AF_INET: 2>, type=1, laddr=addr(ip='127.0.0.1', port=56268), raddr=addr(ip='127.0.0.1', port=56267), status='ESTABLISHED', pid=1492),\n",
       " sconn(fd=-1, family=<AddressFamily.AF_INET: 2>, type=1, laddr=addr(ip='127.0.0.1', port=51415), raddr=addr(ip='127.0.0.1', port=51414), status='ESTABLISHED', pid=4060),\n",
       " sconn(fd=-1, family=<AddressFamily.AF_INET: 2>, type=1, laddr=addr(ip='127.0.0.1', port=53649), raddr=addr(ip='127.0.0.1', port=53650), status='ESTABLISHED', pid=5480),\n",
       " sconn(fd=-1, family=<AddressFamily.AF_INET: 2>, type=1, laddr=addr(ip='127.0.0.1', port=51441), raddr=addr(ip='127.0.0.1', port=51359), status='ESTABLISHED', pid=10620),\n",
       " sconn(fd=-1, family=<AddressFamily.AF_INET: 2>, type=1, laddr=addr(ip='127.0.0.1', port=56240), raddr=(), status='LISTEN', pid=1492),\n",
       " sconn(fd=-1, family=<AddressFamily.AF_INET: 2>, type=1, laddr=addr(ip='127.0.0.1', port=55195), raddr=(), status='LISTEN', pid=10260),\n",
       " sconn(fd=-1, family=<AddressFamily.AF_INET6: 23>, type=2, laddr=addr(ip='::', port=4500), raddr=(), status='NONE', pid=8),\n",
       " sconn(fd=-1, family=<AddressFamily.AF_INET: 2>, type=1, laddr=addr(ip='127.0.0.1', port=52788), raddr=addr(ip='127.0.0.1', port=52787), status='ESTABLISHED', pid=1700),\n",
       " sconn(fd=-1, family=<AddressFamily.AF_INET: 2>, type=1, laddr=addr(ip='127.0.0.1', port=56274), raddr=(), status='LISTEN', pid=1492),\n",
       " sconn(fd=-1, family=<AddressFamily.AF_INET: 2>, type=1, laddr=addr(ip='127.0.0.1', port=51439), raddr=addr(ip='127.0.0.1', port=51440), status='ESTABLISHED', pid=10620),\n",
       " sconn(fd=-1, family=<AddressFamily.AF_INET: 2>, type=1, laddr=addr(ip='127.0.0.1', port=51419), raddr=addr(ip='127.0.0.1', port=51418), status='ESTABLISHED', pid=4060),\n",
       " sconn(fd=-1, family=<AddressFamily.AF_INET: 2>, type=1, laddr=addr(ip='192.168.73.74', port=53660), raddr=addr(ip='117.131.204.51', port=80), status='CLOSE_WAIT', pid=5480),\n",
       " sconn(fd=-1, family=<AddressFamily.AF_INET: 2>, type=1, laddr=addr(ip='0.0.0.0', port=30007), raddr=(), status='LISTEN', pid=5480),\n",
       " sconn(fd=-1, family=<AddressFamily.AF_INET: 2>, type=1, laddr=addr(ip='127.0.0.1', port=52767), raddr=addr(ip='127.0.0.1', port=52781), status='ESTABLISHED', pid=1700),\n",
       " sconn(fd=-1, family=<AddressFamily.AF_INET: 2>, type=1, laddr=addr(ip='127.0.0.1', port=55293), raddr=addr(ip='127.0.0.1', port=55292), status='ESTABLISHED', pid=10260),\n",
       " sconn(fd=-1, family=<AddressFamily.AF_INET: 2>, type=1, laddr=addr(ip='127.0.0.1', port=55197), raddr=addr(ip='127.0.0.1', port=55253), status='ESTABLISHED', pid=10260),\n",
       " sconn(fd=-1, family=<AddressFamily.AF_INET: 2>, type=2, laddr=addr(ip='0.0.0.0', port=63725), raddr=(), status='NONE', pid=7400),\n",
       " sconn(fd=-1, family=<AddressFamily.AF_INET6: 23>, type=1, laddr=addr(ip='::', port=49669), raddr=(), status='LISTEN', pid=2284),\n",
       " sconn(fd=-1, family=<AddressFamily.AF_INET: 2>, type=1, laddr=addr(ip='127.0.0.1', port=52765), raddr=addr(ip='127.0.0.1', port=52821), status='ESTABLISHED', pid=1700),\n",
       " sconn(fd=-1, family=<AddressFamily.AF_INET: 2>, type=1, laddr=addr(ip='0.0.0.0', port=45678), raddr=(), status='LISTEN', pid=10496),\n",
       " sconn(fd=-1, family=<AddressFamily.AF_INET: 2>, type=1, laddr=addr(ip='127.0.0.1', port=55220), raddr=addr(ip='127.0.0.1', port=55221), status='ESTABLISHED', pid=10260),\n",
       " sconn(fd=-1, family=<AddressFamily.AF_INET: 2>, type=1, laddr=addr(ip='127.0.0.1', port=52782), raddr=addr(ip='127.0.0.1', port=52765), status='ESTABLISHED', pid=10620),\n",
       " sconn(fd=-1, family=<AddressFamily.AF_INET: 2>, type=1, laddr=addr(ip='127.0.0.1', port=4303), raddr=(), status='LISTEN', pid=6704),\n",
       " sconn(fd=-1, family=<AddressFamily.AF_INET: 2>, type=1, laddr=addr(ip='127.0.0.1', port=56238), raddr=(), status='LISTEN', pid=1492),\n",
       " sconn(fd=-1, family=<AddressFamily.AF_INET: 2>, type=1, laddr=addr(ip='127.0.0.1', port=55221), raddr=addr(ip='127.0.0.1', port=55220), status='ESTABLISHED', pid=10260),\n",
       " sconn(fd=-1, family=<AddressFamily.AF_INET: 2>, type=1, laddr=addr(ip='127.0.0.1', port=56267), raddr=addr(ip='127.0.0.1', port=56268), status='ESTABLISHED', pid=1492),\n",
       " sconn(fd=-1, family=<AddressFamily.AF_INET: 2>, type=1, laddr=addr(ip='0.0.0.0', port=49669), raddr=(), status='LISTEN', pid=2284),\n",
       " sconn(fd=-1, family=<AddressFamily.AF_INET: 2>, type=1, laddr=addr(ip='127.0.0.1', port=56296), raddr=addr(ip='127.0.0.1', port=56295), status='ESTABLISHED', pid=10620),\n",
       " sconn(fd=-1, family=<AddressFamily.AF_INET: 2>, type=1, laddr=addr(ip='127.0.0.1', port=58850), raddr=addr(ip='127.0.0.1', port=58849), status='ESTABLISHED', pid=1492),\n",
       " sconn(fd=-1, family=<AddressFamily.AF_INET: 2>, type=1, laddr=addr(ip='127.0.0.1', port=51388), raddr=addr(ip='127.0.0.1', port=51359), status='ESTABLISHED', pid=10620),\n",
       " sconn(fd=-1, family=<AddressFamily.AF_INET: 2>, type=2, laddr=addr(ip='0.0.0.0', port=53002), raddr=(), status='NONE', pid=6596),\n",
       " sconn(fd=-1, family=<AddressFamily.AF_INET: 2>, type=2, laddr=addr(ip='0.0.0.0', port=4500), raddr=(), status='NONE', pid=8),\n",
       " sconn(fd=-1, family=<AddressFamily.AF_INET6: 23>, type=1, laddr=addr(ip='::1', port=8888), raddr=addr(ip='::1', port=64143), status='ESTABLISHED', pid=10620),\n",
       " sconn(fd=-1, family=<AddressFamily.AF_INET: 2>, type=1, laddr=addr(ip='127.0.0.1', port=55246), raddr=addr(ip='127.0.0.1', port=55245), status='ESTABLISHED', pid=10620),\n",
       " sconn(fd=-1, family=<AddressFamily.AF_INET: 2>, type=1, laddr=addr(ip='127.0.0.1', port=51400), raddr=addr(ip='127.0.0.1', port=51399), status='ESTABLISHED', pid=4060),\n",
       " sconn(fd=-1, family=<AddressFamily.AF_INET: 2>, type=1, laddr=addr(ip='127.0.0.1', port=55213), raddr=addr(ip='127.0.0.1', port=55212), status='ESTABLISHED', pid=10260),\n",
       " sconn(fd=-1, family=<AddressFamily.AF_INET: 2>, type=1, laddr=addr(ip='127.0.0.1', port=56284), raddr=addr(ip='127.0.0.1', port=56283), status='ESTABLISHED', pid=1492),\n",
       " sconn(fd=-1, family=<AddressFamily.AF_INET: 2>, type=1, laddr=addr(ip='127.0.0.1', port=53652), raddr=addr(ip='127.0.0.1', port=53651), status='ESTABLISHED', pid=5480),\n",
       " sconn(fd=-1, family=<AddressFamily.AF_INET: 2>, type=1, laddr=addr(ip='127.0.0.1', port=51408), raddr=addr(ip='127.0.0.1', port=51407), status='ESTABLISHED', pid=4060),\n",
       " sconn(fd=-1, family=<AddressFamily.AF_INET: 2>, type=2, laddr=addr(ip='0.0.0.0', port=50853), raddr=(), status='NONE', pid=7784),\n",
       " sconn(fd=-1, family=<AddressFamily.AF_INET: 2>, type=1, laddr=addr(ip='127.0.0.1', port=51438), raddr=addr(ip='127.0.0.1', port=51358), status='ESTABLISHED', pid=10620),\n",
       " sconn(fd=-1, family=<AddressFamily.AF_INET: 2>, type=1, laddr=addr(ip='127.0.0.1', port=55196), raddr=addr(ip='127.0.0.1', port=55250), status='ESTABLISHED', pid=10260),\n",
       " sconn(fd=-1, family=<AddressFamily.AF_INET: 2>, type=1, laddr=addr(ip='127.0.0.1', port=55218), raddr=addr(ip='127.0.0.1', port=55219), status='ESTABLISHED', pid=10260),\n",
       " sconn(fd=-1, family=<AddressFamily.AF_INET: 2>, type=1, laddr=addr(ip='127.0.0.1', port=53653), raddr=addr(ip='127.0.0.1', port=53654), status='ESTABLISHED', pid=5480),\n",
       " sconn(fd=-1, family=<AddressFamily.AF_INET: 2>, type=1, laddr=addr(ip='127.0.0.1', port=52808), raddr=addr(ip='127.0.0.1', port=52809), status='ESTABLISHED', pid=1700),\n",
       " sconn(fd=-1, family=<AddressFamily.AF_INET: 2>, type=2, laddr=addr(ip='0.0.0.0', port=5355), raddr=(), status='NONE', pid=1360),\n",
       " sconn(fd=-1, family=<AddressFamily.AF_INET: 2>, type=1, laddr=addr(ip='127.0.0.1', port=51412), raddr=addr(ip='127.0.0.1', port=51413), status='ESTABLISHED', pid=4060),\n",
       " sconn(fd=-1, family=<AddressFamily.AF_INET: 2>, type=1, laddr=addr(ip='127.0.0.1', port=56285), raddr=addr(ip='127.0.0.1', port=56286), status='ESTABLISHED', pid=1492),\n",
       " sconn(fd=-1, family=<AddressFamily.AF_INET: 2>, type=1, laddr=addr(ip='127.0.0.1', port=58845), raddr=addr(ip='127.0.0.1', port=58846), status='ESTABLISHED', pid=1492),\n",
       " sconn(fd=-1, family=<AddressFamily.AF_INET: 2>, type=1, laddr=addr(ip='127.0.0.1', port=51413), raddr=addr(ip='127.0.0.1', port=51412), status='ESTABLISHED', pid=4060),\n",
       " sconn(fd=-1, family=<AddressFamily.AF_INET6: 23>, type=1, laddr=addr(ip='::', port=53675), raddr=(), status='LISTEN', pid=10496),\n",
       " sconn(fd=-1, family=<AddressFamily.AF_INET: 2>, type=2, laddr=addr(ip='0.0.0.0', port=50050), raddr=(), status='NONE', pid=7784),\n",
       " sconn(fd=-1, family=<AddressFamily.AF_INET: 2>, type=1, laddr=addr(ip='127.0.0.1', port=55232), raddr=addr(ip='127.0.0.1', port=55231), status='ESTABLISHED', pid=10260),\n",
       " sconn(fd=-1, family=<AddressFamily.AF_INET: 2>, type=1, laddr=addr(ip='127.0.0.1', port=52810), raddr=addr(ip='127.0.0.1', port=52811), status='ESTABLISHED', pid=1700),\n",
       " sconn(fd=-1, family=<AddressFamily.AF_INET: 2>, type=1, laddr=addr(ip='127.0.0.1', port=55210), raddr=addr(ip='127.0.0.1', port=55196), status='ESTABLISHED', pid=10620),\n",
       " sconn(fd=-1, family=<AddressFamily.AF_INET: 2>, type=2, laddr=addr(ip='0.0.0.0', port=64764), raddr=(), status='NONE', pid=7400),\n",
       " sconn(fd=-1, family=<AddressFamily.AF_INET: 2>, type=1, laddr=addr(ip='192.168.73.74', port=64168), raddr=addr(ip='133.130.96.211', port=4430), status='ESTABLISHED', pid=5956),\n",
       " sconn(fd=-1, family=<AddressFamily.AF_INET: 2>, type=1, laddr=addr(ip='127.0.0.1', port=51407), raddr=addr(ip='127.0.0.1', port=51408), status='ESTABLISHED', pid=4060),\n",
       " sconn(fd=-1, family=<AddressFamily.AF_INET: 2>, type=1, laddr=addr(ip='127.0.0.1', port=56281), raddr=addr(ip='127.0.0.1', port=56282), status='ESTABLISHED', pid=1492),\n",
       " sconn(fd=-1, family=<AddressFamily.AF_INET: 2>, type=1, laddr=addr(ip='127.0.0.1', port=55236), raddr=addr(ip='127.0.0.1', port=55235), status='ESTABLISHED', pid=10260),\n",
       " sconn(fd=-1, family=<AddressFamily.AF_INET: 2>, type=1, laddr=addr(ip='127.0.0.1', port=55247), raddr=addr(ip='127.0.0.1', port=55195), status='ESTABLISHED', pid=10620),\n",
       " sconn(fd=-1, family=<AddressFamily.AF_INET6: 23>, type=2, laddr=addr(ip='::', port=500), raddr=(), status='NONE', pid=8),\n",
       " sconn(fd=-1, family=<AddressFamily.AF_INET: 2>, type=1, laddr=addr(ip='127.0.0.1', port=51416), raddr=addr(ip='127.0.0.1', port=51417), status='ESTABLISHED', pid=4060),\n",
       " sconn(fd=-1, family=<AddressFamily.AF_INET: 2>, type=1, laddr=addr(ip='127.0.0.1', port=51369), raddr=addr(ip='127.0.0.1', port=51370), status='ESTABLISHED', pid=10620),\n",
       " sconn(fd=-1, family=<AddressFamily.AF_INET: 2>, type=1, laddr=addr(ip='127.0.0.1', port=51406), raddr=addr(ip='127.0.0.1', port=51405), status='ESTABLISHED', pid=4060),\n",
       " sconn(fd=-1, family=<AddressFamily.AF_INET: 2>, type=1, laddr=addr(ip='127.0.0.1', port=52825), raddr=addr(ip='127.0.0.1', port=52766), status='ESTABLISHED', pid=10620),\n",
       " sconn(fd=-1, family=<AddressFamily.AF_INET: 2>, type=1, laddr=addr(ip='127.0.0.1', port=56272), raddr=addr(ip='127.0.0.1', port=56273), status='ESTABLISHED', pid=1492),\n",
       " sconn(fd=-1, family=<AddressFamily.AF_INET: 2>, type=1, laddr=addr(ip='0.0.0.0', port=18386), raddr=(), status='LISTEN', pid=6380),\n",
       " sconn(fd=-1, family=<AddressFamily.AF_INET: 2>, type=1, laddr=addr(ip='127.0.0.1', port=55235), raddr=addr(ip='127.0.0.1', port=55236), status='ESTABLISHED', pid=10260),\n",
       " sconn(fd=-1, family=<AddressFamily.AF_INET: 2>, type=1, laddr=addr(ip='127.0.0.1', port=56262), raddr=addr(ip='127.0.0.1', port=56261), status='ESTABLISHED', pid=1492),\n",
       " sconn(fd=-1, family=<AddressFamily.AF_INET: 2>, type=1, laddr=addr(ip='192.168.73.74', port=60830), raddr=addr(ip='180.163.238.169', port=443), status='ESTABLISHED', pid=6596),\n",
       " sconn(fd=-1, family=<AddressFamily.AF_INET: 2>, type=1, laddr=addr(ip='127.0.0.1', port=56292), raddr=addr(ip='127.0.0.1', port=56293), status='ESTABLISHED', pid=10620),\n",
       " sconn(fd=-1, family=<AddressFamily.AF_INET: 2>, type=2, laddr=addr(ip='0.0.0.0', port=57380), raddr=(), status='NONE', pid=6704),\n",
       " sconn(fd=-1, family=<AddressFamily.AF_INET: 2>, type=1, laddr=addr(ip='127.0.0.1', port=55198), raddr=(), status='LISTEN', pid=10260),\n",
       " sconn(fd=-1, family=<AddressFamily.AF_INET: 2>, type=1, laddr=addr(ip='127.0.0.1', port=51434), raddr=addr(ip='127.0.0.1', port=51435), status='ESTABLISHED', pid=4060),\n",
       " sconn(fd=-1, family=<AddressFamily.AF_INET: 2>, type=1, laddr=addr(ip='127.0.0.1', port=51437), raddr=addr(ip='127.0.0.1', port=51436), status='ESTABLISHED', pid=10620),\n",
       " sconn(fd=-1, family=<AddressFamily.AF_INET: 2>, type=1, laddr=addr(ip='127.0.0.1', port=55233), raddr=addr(ip='127.0.0.1', port=55234), status='ESTABLISHED', pid=10260),\n",
       " sconn(fd=-1, family=<AddressFamily.AF_INET: 2>, type=1, laddr=addr(ip='127.0.0.1', port=56290), raddr=addr(ip='127.0.0.1', port=56289), status='ESTABLISHED', pid=10620),\n",
       " sconn(fd=-1, family=<AddressFamily.AF_INET: 2>, type=1, laddr=addr(ip='127.0.0.1', port=56289), raddr=addr(ip='127.0.0.1', port=56290), status='ESTABLISHED', pid=10620),\n",
       " sconn(fd=-1, family=<AddressFamily.AF_INET: 2>, type=1, laddr=addr(ip='127.0.0.1', port=55214), raddr=addr(ip='127.0.0.1', port=55215), status='ESTABLISHED', pid=10260),\n",
       " sconn(fd=-1, family=<AddressFamily.AF_INET: 2>, type=1, laddr=addr(ip='127.0.0.1', port=55197), raddr=(), status='LISTEN', pid=10260),\n",
       " sconn(fd=-1, family=<AddressFamily.AF_INET: 2>, type=1, laddr=addr(ip='127.0.0.1', port=53651), raddr=addr(ip='127.0.0.1', port=53652), status='ESTABLISHED', pid=5480),\n",
       " sconn(fd=-1, family=<AddressFamily.AF_INET: 2>, type=1, laddr=addr(ip='127.0.0.1', port=52799), raddr=addr(ip='127.0.0.1', port=52800), status='ESTABLISHED', pid=1700),\n",
       " sconn(fd=-1, family=<AddressFamily.AF_INET: 2>, type=1, laddr=addr(ip='127.0.0.1', port=55203), raddr=addr(ip='127.0.0.1', port=55204), status='ESTABLISHED', pid=10620),\n",
       " sconn(fd=-1, family=<AddressFamily.AF_INET: 2>, type=1, laddr=addr(ip='127.0.0.1', port=56239), raddr=addr(ip='127.0.0.1', port=56294), status='ESTABLISHED', pid=1492),\n",
       " sconn(fd=-1, family=<AddressFamily.AF_INET: 2>, type=1, laddr=addr(ip='127.0.0.1', port=51391), raddr=addr(ip='127.0.0.1', port=51392), status='ESTABLISHED', pid=4060),\n",
       " sconn(fd=-1, family=<AddressFamily.AF_INET: 2>, type=1, laddr=addr(ip='127.0.0.1', port=56273), raddr=addr(ip='127.0.0.1', port=56272), status='ESTABLISHED', pid=1492),\n",
       " sconn(fd=-1, family=<AddressFamily.AF_INET: 2>, type=1, laddr=addr(ip='127.0.0.1', port=51393), raddr=addr(ip='127.0.0.1', port=51394), status='ESTABLISHED', pid=4060),\n",
       " sconn(fd=-1, family=<AddressFamily.AF_INET: 2>, type=1, laddr=addr(ip='127.0.0.1', port=51373), raddr=addr(ip='127.0.0.1', port=51374), status='ESTABLISHED', pid=10620),\n",
       " sconn(fd=-1, family=<AddressFamily.AF_INET: 2>, type=1, laddr=addr(ip='127.0.0.1', port=51402), raddr=addr(ip='127.0.0.1', port=51401), status='ESTABLISHED', pid=4060),\n",
       " sconn(fd=-1, family=<AddressFamily.AF_INET: 2>, type=1, laddr=addr(ip='127.0.0.1', port=52798), raddr=addr(ip='127.0.0.1', port=52797), status='ESTABLISHED', pid=1700),\n",
       " sconn(fd=-1, family=<AddressFamily.AF_INET: 2>, type=2, laddr=addr(ip='0.0.0.0', port=50854), raddr=(), status='NONE', pid=7784),\n",
       " sconn(fd=-1, family=<AddressFamily.AF_INET: 2>, type=1, laddr=addr(ip='127.0.0.1', port=51362), raddr=(), status='LISTEN', pid=4060),\n",
       " sconn(fd=-1, family=<AddressFamily.AF_INET: 2>, type=1, laddr=addr(ip='127.0.0.1', port=52789), raddr=addr(ip='127.0.0.1', port=52790), status='ESTABLISHED', pid=1700),\n",
       " sconn(fd=-1, family=<AddressFamily.AF_INET: 2>, type=1, laddr=addr(ip='127.0.0.1', port=56257), raddr=addr(ip='127.0.0.1', port=56258), status='ESTABLISHED', pid=1492),\n",
       " sconn(fd=-1, family=<AddressFamily.AF_INET: 2>, type=1, laddr=addr(ip='192.168.73.74', port=64030), raddr=addr(ip='119.254.30.32', port=443), status='ESTABLISHED', pid=5956),\n",
       " sconn(fd=-1, family=<AddressFamily.AF_INET: 2>, type=1, laddr=addr(ip='127.0.0.1', port=8888), raddr=(), status='LISTEN', pid=10620),\n",
       " sconn(fd=-1, family=<AddressFamily.AF_INET: 2>, type=1, laddr=addr(ip='127.0.0.1', port=56287), raddr=addr(ip='127.0.0.1', port=56288), status='ESTABLISHED', pid=1492),\n",
       " sconn(fd=-1, family=<AddressFamily.AF_INET: 2>, type=1, laddr=addr(ip='127.0.0.1', port=55216), raddr=addr(ip='127.0.0.1', port=55217), status='ESTABLISHED', pid=10260),\n",
       " sconn(fd=-1, family=<AddressFamily.AF_INET: 2>, type=1, laddr=addr(ip='192.168.73.74', port=64166), raddr=addr(ip='133.130.96.211', port=4430), status='ESTABLISHED', pid=5956),\n",
       " sconn(fd=-1, family=<AddressFamily.AF_INET: 2>, type=1, laddr=addr(ip='0.0.0.0', port=445), raddr=(), status='LISTEN', pid=4),\n",
       " sconn(fd=-1, family=<AddressFamily.AF_INET: 2>, type=1, laddr=addr(ip='127.0.0.1', port=52822), raddr=addr(ip='127.0.0.1', port=52823), status='ESTABLISHED', pid=10620),\n",
       " sconn(fd=-1, family=<AddressFamily.AF_INET: 2>, type=1, laddr=addr(ip='127.0.0.1', port=52770), raddr=addr(ip='127.0.0.1', port=52769), status='ESTABLISHED', pid=10620),\n",
       " sconn(fd=-1, family=<AddressFamily.AF_INET: 2>, type=1, laddr=addr(ip='127.0.0.1', port=56280), raddr=addr(ip='127.0.0.1', port=56279), status='ESTABLISHED', pid=1492),\n",
       " sconn(fd=-1, family=<AddressFamily.AF_INET: 2>, type=1, laddr=addr(ip='127.0.0.1', port=51361), raddr=addr(ip='127.0.0.1', port=51389), status='ESTABLISHED', pid=4060),\n",
       " sconn(fd=-1, family=<AddressFamily.AF_INET: 2>, type=1, laddr=addr(ip='127.0.0.1', port=52801), raddr=(), status='LISTEN', pid=1700),\n",
       " sconn(fd=-1, family=<AddressFamily.AF_INET6: 23>, type=1, laddr=addr(ip='::1', port=8888), raddr=addr(ip='::1', port=56249), status='ESTABLISHED', pid=10620),\n",
       " sconn(fd=-1, family=<AddressFamily.AF_INET: 2>, type=1, laddr=addr(ip='127.0.0.1', port=52805), raddr=addr(ip='127.0.0.1', port=52804), status='ESTABLISHED', pid=1700),\n",
       " sconn(fd=-1, family=<AddressFamily.AF_INET: 2>, type=1, laddr=addr(ip='127.0.0.1', port=51403), raddr=addr(ip='127.0.0.1', port=51404), status='ESTABLISHED', pid=4060),\n",
       " sconn(fd=-1, family=<AddressFamily.AF_INET: 2>, type=1, laddr=addr(ip='127.0.0.1', port=56282), raddr=addr(ip='127.0.0.1', port=56281), status='ESTABLISHED', pid=1492),\n",
       " sconn(fd=-1, family=<AddressFamily.AF_INET: 2>, type=1, laddr=addr(ip='127.0.0.1', port=51358), raddr=(), status='LISTEN', pid=4060),\n",
       " sconn(fd=-1, family=<AddressFamily.AF_INET: 2>, type=1, laddr=addr(ip='127.0.0.1', port=52802), raddr=addr(ip='127.0.0.1', port=52803), status='ESTABLISHED', pid=1700),\n",
       " sconn(fd=-1, family=<AddressFamily.AF_INET: 2>, type=1, laddr=addr(ip='127.0.0.1', port=51361), raddr=(), status='LISTEN', pid=4060),\n",
       " sconn(fd=-1, family=<AddressFamily.AF_INET: 2>, type=1, laddr=addr(ip='127.0.0.1', port=51310), raddr=addr(ip='127.0.0.1', port=51309), status='ESTABLISHED', pid=10620),\n",
       " sconn(fd=-1, family=<AddressFamily.AF_INET: 2>, type=1, laddr=addr(ip='127.0.0.1', port=56239), raddr=(), status='LISTEN', pid=1492),\n",
       " sconn(fd=-1, family=<AddressFamily.AF_INET: 2>, type=1, laddr=addr(ip='127.0.0.1', port=56241), raddr=(), status='LISTEN', pid=1492),\n",
       " sconn(fd=-1, family=<AddressFamily.AF_INET: 2>, type=1, laddr=addr(ip='0.0.0.0', port=53675), raddr=(), status='LISTEN', pid=10496),\n",
       " sconn(fd=-1, family=<AddressFamily.AF_INET: 2>, type=1, laddr=addr(ip='127.0.0.1', port=52783), raddr=addr(ip='127.0.0.1', port=52784), status='ESTABLISHED', pid=1700),\n",
       " sconn(fd=-1, family=<AddressFamily.AF_INET6: 23>, type=1, laddr=addr(ip='::1', port=8888), raddr=addr(ip='::1', port=63836), status='ESTABLISHED', pid=10620),\n",
       " sconn(fd=-1, family=<AddressFamily.AF_INET: 2>, type=1, laddr=addr(ip='127.0.0.1', port=51360), raddr=(), status='LISTEN', pid=4060),\n",
       " sconn(fd=-1, family=<AddressFamily.AF_INET: 2>, type=1, laddr=addr(ip='127.0.0.1', port=52152), raddr=addr(ip='127.0.0.1', port=52153), status='ESTABLISHED', pid=4060),\n",
       " sconn(fd=-1, family=<AddressFamily.AF_INET: 2>, type=1, laddr=addr(ip='127.0.0.1', port=52809), raddr=addr(ip='127.0.0.1', port=52808), status='ESTABLISHED', pid=1700),\n",
       " sconn(fd=-1, family=<AddressFamily.AF_INET: 2>, type=1, laddr=addr(ip='127.0.0.1', port=55196), raddr=(), status='LISTEN', pid=10260),\n",
       " sconn(fd=-1, family=<AddressFamily.AF_INET: 2>, type=1, laddr=addr(ip='127.0.0.1', port=52766), raddr=addr(ip='127.0.0.1', port=52825), status='ESTABLISHED', pid=1700),\n",
       " sconn(fd=-1, family=<AddressFamily.AF_INET: 2>, type=1, laddr=addr(ip='127.0.0.1', port=52792), raddr=addr(ip='127.0.0.1', port=52791), status='ESTABLISHED', pid=1700),\n",
       " sconn(fd=-1, family=<AddressFamily.AF_INET: 2>, type=1, laddr=addr(ip='127.0.0.1', port=52813), raddr=addr(ip='127.0.0.1', port=52812), status='ESTABLISHED', pid=1700),\n",
       " sconn(fd=-1, family=<AddressFamily.AF_INET: 2>, type=1, laddr=addr(ip='192.168.73.74', port=49997), raddr=addr(ip='101.199.97.107', port=80), status='ESTABLISHED', pid=6596),\n",
       " sconn(fd=-1, family=<AddressFamily.AF_INET: 2>, type=1, laddr=addr(ip='127.0.0.1', port=52806), raddr=addr(ip='127.0.0.1', port=52807), status='ESTABLISHED', pid=1700),\n",
       " sconn(fd=-1, family=<AddressFamily.AF_INET: 2>, type=1, laddr=addr(ip='127.0.0.1', port=56238), raddr=addr(ip='127.0.0.1', port=56291), status='ESTABLISHED', pid=1492),\n",
       " sconn(fd=-1, family=<AddressFamily.AF_INET: 2>, type=2, laddr=addr(ip='0.0.0.0', port=3600), raddr=(), status='NONE', pid=6596),\n",
       " sconn(fd=-1, family=<AddressFamily.AF_INET: 2>, type=1, laddr=addr(ip='127.0.0.1', port=55229), raddr=addr(ip='127.0.0.1', port=55228), status='ESTABLISHED', pid=10260),\n",
       " sconn(fd=-1, family=<AddressFamily.AF_INET: 2>, type=1, laddr=addr(ip='127.0.0.1', port=56243), raddr=addr(ip='127.0.0.1', port=56244), status='ESTABLISHED', pid=10620),\n",
       " sconn(fd=-1, family=<AddressFamily.AF_INET: 2>, type=2, laddr=addr(ip='0.0.0.0', port=56536), raddr=(), status='NONE', pid=7400),\n",
       " sconn(fd=-1, family=<AddressFamily.AF_INET: 2>, type=1, laddr=addr(ip='127.0.0.1', port=52153), raddr=addr(ip='127.0.0.1', port=52152), status='ESTABLISHED', pid=4060),\n",
       " sconn(fd=-1, family=<AddressFamily.AF_INET6: 23>, type=1, laddr=addr(ip='::', port=49670), raddr=(), status='LISTEN', pid=784),\n",
       " sconn(fd=-1, family=<AddressFamily.AF_INET: 2>, type=1, laddr=addr(ip='127.0.0.1', port=52795), raddr=addr(ip='127.0.0.1', port=52796), status='ESTABLISHED', pid=1700),\n",
       " sconn(fd=-1, family=<AddressFamily.AF_INET: 2>, type=2, laddr=addr(ip='0.0.0.0', port=5353), raddr=(), status='NONE', pid=5956),\n",
       " sconn(fd=-1, family=<AddressFamily.AF_INET: 2>, type=1, laddr=addr(ip='192.168.73.74', port=60889), raddr=addr(ip='183.192.199.150', port=443), status='ESTABLISHED', pid=6116),\n",
       " sconn(fd=-1, family=<AddressFamily.AF_INET: 2>, type=1, laddr=addr(ip='127.0.0.1', port=55248), raddr=addr(ip='127.0.0.1', port=55249), status='ESTABLISHED', pid=10620),\n",
       " sconn(fd=-1, family=<AddressFamily.AF_INET: 2>, type=1, laddr=addr(ip='127.0.0.1', port=56240), raddr=addr(ip='127.0.0.1', port=56297), status='ESTABLISHED', pid=1492),\n",
       " sconn(fd=-1, family=<AddressFamily.AF_INET: 2>, type=1, laddr=addr(ip='127.0.0.1', port=55223), raddr=addr(ip='127.0.0.1', port=55222), status='ESTABLISHED', pid=10260),\n",
       " sconn(fd=-1, family=<AddressFamily.AF_INET: 2>, type=1, laddr=addr(ip='127.0.0.1', port=52787), raddr=addr(ip='127.0.0.1', port=52788), status='ESTABLISHED', pid=1700),\n",
       " sconn(fd=-1, family=<AddressFamily.AF_INET: 2>, type=1, laddr=addr(ip='127.0.0.1', port=55238), raddr=addr(ip='127.0.0.1', port=55237), status='ESTABLISHED', pid=10260),\n",
       " sconn(fd=-1, family=<AddressFamily.AF_INET: 2>, type=1, laddr=addr(ip='0.0.0.0', port=49667), raddr=(), status='LISTEN', pid=8),\n",
       " sconn(fd=-1, family=<AddressFamily.AF_INET6: 23>, type=1, laddr=addr(ip='::', port=135), raddr=(), status='LISTEN', pid=944),\n",
       " sconn(fd=-1, family=<AddressFamily.AF_INET: 2>, type=2, laddr=addr(ip='0.0.0.0', port=54930), raddr=(), status='NONE', pid=5956),\n",
       " sconn(fd=-1, family=<AddressFamily.AF_INET: 2>, type=1, laddr=addr(ip='127.0.0.1', port=51365), raddr=addr(ip='127.0.0.1', port=51366), status='ESTABLISHED', pid=10620),\n",
       " sconn(fd=-1, family=<AddressFamily.AF_INET: 2>, type=1, laddr=addr(ip='127.0.0.1', port=55240), raddr=addr(ip='127.0.0.1', port=55239), status='ESTABLISHED', pid=10260),\n",
       " sconn(fd=-1, family=<AddressFamily.AF_INET: 2>, type=1, laddr=addr(ip='127.0.0.1', port=55227), raddr=addr(ip='127.0.0.1', port=55226), status='ESTABLISHED', pid=10260),\n",
       " sconn(fd=-1, family=<AddressFamily.AF_INET: 2>, type=1, laddr=addr(ip='127.0.0.1', port=51405), raddr=addr(ip='127.0.0.1', port=51406), status='ESTABLISHED', pid=4060),\n",
       " sconn(fd=-1, family=<AddressFamily.AF_INET: 2>, type=1, laddr=addr(ip='127.0.0.1', port=55204), raddr=addr(ip='127.0.0.1', port=55203), status='ESTABLISHED', pid=10620),\n",
       " sconn(fd=-1, family=<AddressFamily.AF_INET: 2>, type=1, laddr=addr(ip='127.0.0.1', port=4301), raddr=(), status='LISTEN', pid=7784),\n",
       " sconn(fd=-1, family=<AddressFamily.AF_INET: 2>, type=1, laddr=addr(ip='127.0.0.1', port=51440), raddr=addr(ip='127.0.0.1', port=51439), status='ESTABLISHED', pid=10620),\n",
       " sconn(fd=-1, family=<AddressFamily.AF_INET: 2>, type=1, laddr=addr(ip='127.0.0.1', port=55228), raddr=addr(ip='127.0.0.1', port=55229), status='ESTABLISHED', pid=10260),\n",
       " sconn(fd=-1, family=<AddressFamily.AF_INET: 2>, type=1, laddr=addr(ip='127.0.0.1', port=55245), raddr=addr(ip='127.0.0.1', port=55246), status='ESTABLISHED', pid=10620),\n",
       " sconn(fd=-1, family=<AddressFamily.AF_INET: 2>, type=1, laddr=addr(ip='127.0.0.1', port=56246), raddr=addr(ip='127.0.0.1', port=56247), status='ESTABLISHED', pid=10620),\n",
       " sconn(fd=-1, family=<AddressFamily.AF_INET6: 23>, type=1, laddr=addr(ip='::1', port=64143), raddr=addr(ip='::1', port=8888), status='ESTABLISHED', pid=5956),\n",
       " sconn(fd=-1, family=<AddressFamily.AF_INET: 2>, type=2, laddr=addr(ip='0.0.0.0', port=59040), raddr=(), status='NONE', pid=2584),\n",
       " sconn(fd=-1, family=<AddressFamily.AF_INET: 2>, type=1, laddr=addr(ip='127.0.0.1', port=55237), raddr=addr(ip='127.0.0.1', port=55238), status='ESTABLISHED', pid=10260),\n",
       " sconn(fd=-1, family=<AddressFamily.AF_INET: 2>, type=1, laddr=addr(ip='127.0.0.1', port=56276), raddr=addr(ip='127.0.0.1', port=56275), status='ESTABLISHED', pid=1492),\n",
       " sconn(fd=-1, family=<AddressFamily.AF_INET: 2>, type=1, laddr=addr(ip='127.0.0.1', port=56270), raddr=addr(ip='127.0.0.1', port=56271), status='ESTABLISHED', pid=1492),\n",
       " sconn(fd=-1, family=<AddressFamily.AF_INET: 2>, type=1, laddr=addr(ip='127.0.0.1', port=55201), raddr=addr(ip='127.0.0.1', port=55200), status='ESTABLISHED', pid=10620),\n",
       " sconn(fd=-1, family=<AddressFamily.AF_INET: 2>, type=1, laddr=addr(ip='127.0.0.1', port=52785), raddr=addr(ip='127.0.0.1', port=52786), status='ESTABLISHED', pid=1700),\n",
       " sconn(fd=-1, family=<AddressFamily.AF_INET: 2>, type=1, laddr=addr(ip='127.0.0.1', port=56259), raddr=addr(ip='127.0.0.1', port=56260), status='ESTABLISHED', pid=1492),\n",
       " sconn(fd=-1, family=<AddressFamily.AF_INET: 2>, type=1, laddr=addr(ip='192.168.73.74', port=64165), raddr=addr(ip='133.130.96.211', port=4430), status='ESTABLISHED', pid=5956),\n",
       " sconn(fd=-1, family=<AddressFamily.AF_INET: 2>, type=2, laddr=addr(ip='0.0.0.0', port=63682), raddr=(), status='NONE', pid=6704),\n",
       " sconn(fd=-1, family=<AddressFamily.AF_INET: 2>, type=1, laddr=addr(ip='127.0.0.1', port=52797), raddr=addr(ip='127.0.0.1', port=52798), status='ESTABLISHED', pid=1700),\n",
       " sconn(fd=-1, family=<AddressFamily.AF_INET: 2>, type=1, laddr=addr(ip='127.0.0.1', port=52811), raddr=addr(ip='127.0.0.1', port=52810), status='ESTABLISHED', pid=1700),\n",
       " sconn(fd=-1, family=<AddressFamily.AF_INET: 2>, type=2, laddr=addr(ip='0.0.0.0', port=53835), raddr=(), status='NONE', pid=7400),\n",
       " sconn(fd=-1, family=<AddressFamily.AF_INET: 2>, type=1, laddr=addr(ip='127.0.0.1', port=52820), raddr=addr(ip='127.0.0.1', port=52819), status='ESTABLISHED', pid=10620),\n",
       " sconn(fd=-1, family=<AddressFamily.AF_INET: 2>, type=1, laddr=addr(ip='127.0.0.1', port=51398), raddr=addr(ip='127.0.0.1', port=51397), status='ESTABLISHED', pid=4060),\n",
       " sconn(fd=-1, family=<AddressFamily.AF_INET: 2>, type=1, laddr=addr(ip='127.0.0.1', port=58846), raddr=addr(ip='127.0.0.1', port=58845), status='ESTABLISHED', pid=1492),\n",
       " sconn(fd=-1, family=<AddressFamily.AF_INET: 2>, type=1, laddr=addr(ip='0.0.0.0', port=49670), raddr=(), status='LISTEN', pid=784),\n",
       " sconn(fd=-1, family=<AddressFamily.AF_INET: 2>, type=1, laddr=addr(ip='127.0.0.1', port=55243), raddr=addr(ip='127.0.0.1', port=55244), status='ESTABLISHED', pid=10260),\n",
       " sconn(fd=-1, family=<AddressFamily.AF_INET: 2>, type=1, laddr=addr(ip='192.168.73.74', port=60876), raddr=addr(ip='140.205.35.18', port=443), status='ESTABLISHED', pid=6380),\n",
       " sconn(fd=-1, family=<AddressFamily.AF_INET: 2>, type=1, laddr=addr(ip='127.0.0.1', port=56244), raddr=addr(ip='127.0.0.1', port=56243), status='ESTABLISHED', pid=10620),\n",
       " sconn(fd=-1, family=<AddressFamily.AF_INET: 2>, type=1, laddr=addr(ip='192.168.73.74', port=53646), raddr=addr(ip='117.131.204.51', port=80), status='CLOSE_WAIT', pid=5480),\n",
       " sconn(fd=-1, family=<AddressFamily.AF_INET: 2>, type=1, laddr=addr(ip='127.0.0.1', port=51363), raddr=addr(ip='127.0.0.1', port=51364), status='ESTABLISHED', pid=10620),\n",
       " sconn(fd=-1, family=<AddressFamily.AF_INET: 2>, type=1, laddr=addr(ip='127.0.0.1', port=55250), raddr=addr(ip='127.0.0.1', port=55196), status='ESTABLISHED', pid=10620),\n",
       " sconn(fd=-1, family=<AddressFamily.AF_INET: 2>, type=1, laddr=addr(ip='127.0.0.1', port=52766), raddr=(), status='LISTEN', pid=1700),\n",
       " sconn(fd=-1, family=<AddressFamily.AF_INET: 2>, type=1, laddr=addr(ip='127.0.0.1', port=5037), raddr=(), status='LISTEN', pid=5528),\n",
       " sconn(fd=-1, family=<AddressFamily.AF_INET: 2>, type=1, laddr=addr(ip='192.168.73.74', port=64169), raddr=addr(ip='223.6.255.27', port=80), status='TIME_WAIT', pid=0),\n",
       " sconn(fd=-1, family=<AddressFamily.AF_INET: 2>, type=1, laddr=addr(ip='127.0.0.1', port=58849), raddr=addr(ip='127.0.0.1', port=58850), status='ESTABLISHED', pid=1492),\n",
       " sconn(fd=-1, family=<AddressFamily.AF_INET: 2>, type=2, laddr=addr(ip='0.0.0.0', port=63726), raddr=(), status='NONE', pid=7400),\n",
       " sconn(fd=-1, family=<AddressFamily.AF_INET: 2>, type=1, laddr=addr(ip='127.0.0.1', port=51404), raddr=addr(ip='127.0.0.1', port=51403), status='ESTABLISHED', pid=4060),\n",
       " sconn(fd=-1, family=<AddressFamily.AF_INET6: 23>, type=1, laddr=addr(ip='::', port=45678), raddr=(), status='LISTEN', pid=10496),\n",
       " sconn(fd=-1, family=<AddressFamily.AF_INET: 2>, type=1, laddr=addr(ip='127.0.0.1', port=56294), raddr=addr(ip='127.0.0.1', port=56239), status='ESTABLISHED', pid=10620),\n",
       " sconn(fd=-1, family=<AddressFamily.AF_INET: 2>, type=1, laddr=addr(ip='127.0.0.1', port=52784), raddr=addr(ip='127.0.0.1', port=52783), status='ESTABLISHED', pid=1700),\n",
       " sconn(fd=-1, family=<AddressFamily.AF_INET: 2>, type=1, laddr=addr(ip='192.168.73.74', port=63738), raddr=addr(ip='111.11.5.238', port=80), status='CLOSE_WAIT', pid=14568),\n",
       " sconn(fd=-1, family=<AddressFamily.AF_INET: 2>, type=1, laddr=addr(ip='127.0.0.1', port=51417), raddr=addr(ip='127.0.0.1', port=51416), status='ESTABLISHED', pid=4060),\n",
       " sconn(fd=-1, family=<AddressFamily.AF_INET: 2>, type=2, laddr=addr(ip='0.0.0.0', port=500), raddr=(), status='NONE', pid=8),\n",
       " sconn(fd=-1, family=<AddressFamily.AF_INET: 2>, type=1, laddr=addr(ip='127.0.0.1', port=51443), raddr=addr(ip='127.0.0.1', port=51442), status='ESTABLISHED', pid=10620),\n",
       " sconn(fd=-1, family=<AddressFamily.AF_INET: 2>, type=1, laddr=addr(ip='127.0.0.1', port=55230), raddr=(), status='LISTEN', pid=10260),\n",
       " sconn(fd=-1, family=<AddressFamily.AF_INET: 2>, type=1, laddr=addr(ip='127.0.0.1', port=56271), raddr=addr(ip='127.0.0.1', port=56270), status='ESTABLISHED', pid=1492),\n",
       " sconn(fd=-1, family=<AddressFamily.AF_INET: 2>, type=1, laddr=addr(ip='127.0.0.1', port=56241), raddr=addr(ip='127.0.0.1', port=56253), status='ESTABLISHED', pid=1492),\n",
       " sconn(fd=-1, family=<AddressFamily.AF_INET6: 23>, type=1, laddr=addr(ip='::', port=49664), raddr=(), status='LISTEN', pid=672),\n",
       " sconn(fd=-1, family=<AddressFamily.AF_INET: 2>, type=1, laddr=addr(ip='192.168.73.74', port=64167), raddr=addr(ip='133.130.96.211', port=4430), status='ESTABLISHED', pid=5956),\n",
       " sconn(fd=-1, family=<AddressFamily.AF_INET: 2>, type=1, laddr=addr(ip='192.168.73.74', port=64161), raddr=addr(ip='223.6.255.27', port=443), status='TIME_WAIT', pid=0),\n",
       " sconn(fd=-1, family=<AddressFamily.AF_INET: 2>, type=1, laddr=addr(ip='127.0.0.1', port=51409), raddr=(), status='LISTEN', pid=4060),\n",
       " sconn(fd=-1, family=<AddressFamily.AF_INET: 2>, type=1, laddr=addr(ip='127.0.0.1', port=51410), raddr=addr(ip='127.0.0.1', port=51411), status='ESTABLISHED', pid=4060),\n",
       " sconn(fd=-1, family=<AddressFamily.AF_INET: 2>, type=1, laddr=addr(ip='127.0.0.1', port=52814), raddr=addr(ip='127.0.0.1', port=52815), status='ESTABLISHED', pid=1700),\n",
       " sconn(fd=-1, family=<AddressFamily.AF_INET: 2>, type=1, laddr=addr(ip='127.0.0.1', port=55222), raddr=addr(ip='127.0.0.1', port=55223), status='ESTABLISHED', pid=10260),\n",
       " sconn(fd=-1, family=<AddressFamily.AF_INET: 2>, type=2, laddr=addr(ip='0.0.0.0', port=18386), raddr=(), status='NONE', pid=6380),\n",
       " sconn(fd=-1, family=<AddressFamily.AF_INET: 2>, type=1, laddr=addr(ip='127.0.0.1', port=55253), raddr=addr(ip='127.0.0.1', port=55197), status='ESTABLISHED', pid=10620),\n",
       " sconn(fd=-1, family=<AddressFamily.AF_INET: 2>, type=1, laddr=addr(ip='127.0.0.1', port=55252), raddr=addr(ip='127.0.0.1', port=55251), status='ESTABLISHED', pid=10620),\n",
       " sconn(fd=-1, family=<AddressFamily.AF_INET: 2>, type=1, laddr=addr(ip='127.0.0.1', port=51368), raddr=addr(ip='127.0.0.1', port=51367), status='ESTABLISHED', pid=10620),\n",
       " sconn(fd=-1, family=<AddressFamily.AF_INET: 2>, type=1, laddr=addr(ip='192.168.73.74', port=60861), raddr=addr(ip='111.161.107.177', port=443), status='ESTABLISHED', pid=6704),\n",
       " sconn(fd=-1, family=<AddressFamily.AF_INET: 2>, type=1, laddr=addr(ip='127.0.0.1', port=55231), raddr=addr(ip='127.0.0.1', port=55232), status='ESTABLISHED', pid=10260),\n",
       " sconn(fd=-1, family=<AddressFamily.AF_INET: 2>, type=1, laddr=addr(ip='127.0.0.1', port=56293), raddr=addr(ip='127.0.0.1', port=56292), status='ESTABLISHED', pid=10620),\n",
       " sconn(fd=-1, family=<AddressFamily.AF_INET: 2>, type=1, laddr=addr(ip='127.0.0.1', port=51399), raddr=addr(ip='127.0.0.1', port=51400), status='ESTABLISHED', pid=4060),\n",
       " sconn(fd=-1, family=<AddressFamily.AF_INET: 2>, type=1, laddr=addr(ip='127.0.0.1', port=55215), raddr=addr(ip='127.0.0.1', port=55214), status='ESTABLISHED', pid=10260),\n",
       " sconn(fd=-1, family=<AddressFamily.AF_INET: 2>, type=1, laddr=addr(ip='127.0.0.1', port=51421), raddr=addr(ip='127.0.0.1', port=51420), status='ESTABLISHED', pid=4060),\n",
       " sconn(fd=-1, family=<AddressFamily.AF_INET6: 23>, type=1, laddr=addr(ip='::1', port=8888), raddr=(), status='LISTEN', pid=10620),\n",
       " sconn(fd=-1, family=<AddressFamily.AF_INET6: 23>, type=1, laddr=addr(ip='::1', port=63836), raddr=addr(ip='::1', port=8888), status='ESTABLISHED', pid=5956),\n",
       " sconn(fd=-1, family=<AddressFamily.AF_INET: 2>, type=1, laddr=addr(ip='127.0.0.1', port=52815), raddr=addr(ip='127.0.0.1', port=52814), status='ESTABLISHED', pid=1700),\n",
       " sconn(fd=-1, family=<AddressFamily.AF_INET: 2>, type=1, laddr=addr(ip='127.0.0.1', port=51435), raddr=addr(ip='127.0.0.1', port=51434), status='ESTABLISHED', pid=4060),\n",
       " sconn(fd=-1, family=<AddressFamily.AF_INET: 2>, type=1, laddr=addr(ip='192.168.73.74', port=64133), raddr=addr(ip='111.30.131.120', port=80), status='CLOSE_WAIT', pid=7784),\n",
       " sconn(fd=-1, family=<AddressFamily.AF_INET: 2>, type=1, laddr=addr(ip='0.0.0.0', port=135), raddr=(), status='LISTEN', pid=944),\n",
       " sconn(fd=-1, family=<AddressFamily.AF_INET: 2>, type=1, laddr=addr(ip='127.0.0.1', port=55244), raddr=addr(ip='127.0.0.1', port=55243), status='ESTABLISHED', pid=10260),\n",
       " sconn(fd=-1, family=<AddressFamily.AF_INET: 2>, type=1, laddr=addr(ip='127.0.0.1', port=58844), raddr=addr(ip='127.0.0.1', port=58843), status='ESTABLISHED', pid=1492),\n",
       " sconn(fd=-1, family=<AddressFamily.AF_INET: 2>, type=1, laddr=addr(ip='127.0.0.1', port=56264), raddr=addr(ip='127.0.0.1', port=56263), status='ESTABLISHED', pid=1492),\n",
       " sconn(fd=-1, family=<AddressFamily.AF_INET: 2>, type=1, laddr=addr(ip='127.0.0.1', port=52803), raddr=addr(ip='127.0.0.1', port=52802), status='ESTABLISHED', pid=1700),\n",
       " sconn(fd=-1, family=<AddressFamily.AF_INET: 2>, type=1, laddr=addr(ip='0.0.0.0', port=49665), raddr=(), status='LISTEN', pid=964),\n",
       " sconn(fd=-1, family=<AddressFamily.AF_INET: 2>, type=1, laddr=addr(ip='0.0.0.0', port=56789), raddr=(), status='LISTEN', pid=5480),\n",
       " sconn(fd=-1, family=<AddressFamily.AF_INET: 2>, type=1, laddr=addr(ip='127.0.0.1', port=56247), raddr=addr(ip='127.0.0.1', port=56246), status='ESTABLISHED', pid=10620),\n",
       " sconn(fd=-1, family=<AddressFamily.AF_INET: 2>, type=1, laddr=addr(ip='127.0.0.1', port=53650), raddr=addr(ip='127.0.0.1', port=53649), status='ESTABLISHED', pid=5480),\n",
       " sconn(fd=-1, family=<AddressFamily.AF_INET: 2>, type=1, laddr=addr(ip='0.0.0.0', port=13981), raddr=(), status='LISTEN', pid=5480),\n",
       " sconn(fd=-1, family=<AddressFamily.AF_INET: 2>, type=1, laddr=addr(ip='127.0.0.1', port=52768), raddr=(), status='LISTEN', pid=1700),\n",
       " sconn(fd=-1, family=<AddressFamily.AF_INET: 2>, type=1, laddr=addr(ip='127.0.0.1', port=51366), raddr=addr(ip='127.0.0.1', port=51365), status='ESTABLISHED', pid=10620),\n",
       " sconn(fd=-1, family=<AddressFamily.AF_INET: 2>, type=2, laddr=addr(ip='0.0.0.0', port=52421), raddr=(), status='NONE', pid=7784),\n",
       " sconn(fd=-1, family=<AddressFamily.AF_INET: 2>, type=1, laddr=addr(ip='192.168.73.74', port=53680), raddr=addr(ip='192.168.73.74', port=53655), status='ESTABLISHED', pid=10496),\n",
       " sconn(fd=-1, family=<AddressFamily.AF_INET6: 23>, type=1, laddr=addr(ip='::', port=445), raddr=(), status='LISTEN', pid=4),\n",
       " sconn(fd=-1, family=<AddressFamily.AF_INET: 2>, type=1, laddr=addr(ip='127.0.0.1', port=52786), raddr=addr(ip='127.0.0.1', port=52785), status='ESTABLISHED', pid=1700),\n",
       " sconn(fd=-1, family=<AddressFamily.AF_INET: 2>, type=1, laddr=addr(ip='127.0.0.1', port=52773), raddr=addr(ip='127.0.0.1', port=52774), status='ESTABLISHED', pid=10620),\n",
       " sconn(fd=-1, family=<AddressFamily.AF_INET: 2>, type=1, laddr=addr(ip='0.0.0.0', port=49664), raddr=(), status='LISTEN', pid=672),\n",
       " sconn(fd=-1, family=<AddressFamily.AF_INET: 2>, type=1, laddr=addr(ip='127.0.0.1', port=56261), raddr=addr(ip='127.0.0.1', port=56262), status='ESTABLISHED', pid=1492),\n",
       " sconn(fd=-1, family=<AddressFamily.AF_INET: 2>, type=2, laddr=addr(ip='0.0.0.0', port=5050), raddr=(), status='NONE', pid=1204),\n",
       " sconn(fd=-1, family=<AddressFamily.AF_INET: 2>, type=1, laddr=addr(ip='127.0.0.1', port=56283), raddr=addr(ip='127.0.0.1', port=56284), status='ESTABLISHED', pid=1492),\n",
       " sconn(fd=-1, family=<AddressFamily.AF_INET: 2>, type=1, laddr=addr(ip='127.0.0.1', port=58843), raddr=addr(ip='127.0.0.1', port=58844), status='ESTABLISHED', pid=1492),\n",
       " sconn(fd=-1, family=<AddressFamily.AF_INET6: 23>, type=1, laddr=addr(ip='::1', port=56249), raddr=addr(ip='::1', port=8888), status='ESTABLISHED', pid=5956),\n",
       " sconn(fd=-1, family=<AddressFamily.AF_INET: 2>, type=1, laddr=addr(ip='127.0.0.1', port=52764), raddr=addr(ip='127.0.0.1', port=52818), status='ESTABLISHED', pid=1700),\n",
       " sconn(fd=-1, family=<AddressFamily.AF_INET: 2>, type=1, laddr=addr(ip='127.0.0.1', port=56239), raddr=addr(ip='127.0.0.1', port=56254), status='ESTABLISHED', pid=1492),\n",
       " sconn(fd=-1, family=<AddressFamily.AF_INET: 2>, type=1, laddr=addr(ip='127.0.0.1', port=56253), raddr=addr(ip='127.0.0.1', port=56241), status='ESTABLISHED', pid=10620),\n",
       " sconn(fd=-1, family=<AddressFamily.AF_INET: 2>, type=1, laddr=addr(ip='0.0.0.0', port=8020), raddr=(), status='LISTEN', pid=5480),\n",
       " sconn(fd=-1, family=<AddressFamily.AF_INET: 2>, type=1, laddr=addr(ip='127.0.0.1', port=55224), raddr=addr(ip='127.0.0.1', port=55225), status='ESTABLISHED', pid=10260),\n",
       " sconn(fd=-1, family=<AddressFamily.AF_INET: 2>, type=1, laddr=addr(ip='127.0.0.1', port=57764), raddr=addr(ip='127.0.0.1', port=57765), status='ESTABLISHED', pid=1492),\n",
       " sconn(fd=-1, family=<AddressFamily.AF_INET: 2>, type=1, laddr=addr(ip='127.0.0.1', port=56275), raddr=addr(ip='127.0.0.1', port=56276), status='ESTABLISHED', pid=1492),\n",
       " sconn(fd=-1, family=<AddressFamily.AF_INET: 2>, type=1, laddr=addr(ip='127.0.0.1', port=51395), raddr=addr(ip='127.0.0.1', port=51396), status='ESTABLISHED', pid=4060),\n",
       " sconn(fd=-1, family=<AddressFamily.AF_INET: 2>, type=1, laddr=addr(ip='127.0.0.1', port=52765), raddr=addr(ip='127.0.0.1', port=52782), status='ESTABLISHED', pid=1700),\n",
       " sconn(fd=-1, family=<AddressFamily.AF_INET: 2>, type=1, laddr=addr(ip='127.0.0.1', port=56279), raddr=addr(ip='127.0.0.1', port=56280), status='ESTABLISHED', pid=1492),\n",
       " sconn(fd=-1, family=<AddressFamily.AF_INET6: 23>, type=1, laddr=addr(ip='::', port=49665), raddr=(), status='LISTEN', pid=964),\n",
       " sconn(fd=-1, family=<AddressFamily.AF_INET: 2>, type=1, laddr=addr(ip='127.0.0.1', port=51392), raddr=addr(ip='127.0.0.1', port=51391), status='ESTABLISHED', pid=4060),\n",
       " sconn(fd=-1, family=<AddressFamily.AF_INET: 2>, type=1, laddr=addr(ip='127.0.0.1', port=51370), raddr=addr(ip='127.0.0.1', port=51369), status='ESTABLISHED', pid=10620),\n",
       " sconn(fd=-1, family=<AddressFamily.AF_INET: 2>, type=2, laddr=addr(ip='0.0.0.0', port=64378), raddr=(), status='NONE', pid=6704),\n",
       " sconn(fd=-1, family=<AddressFamily.AF_INET: 2>, type=1, laddr=addr(ip='0.0.0.0', port=49666), raddr=(), status='LISTEN', pid=792),\n",
       " sconn(fd=-1, family=<AddressFamily.AF_INET: 2>, type=1, laddr=addr(ip='192.168.73.74', port=60892), raddr=addr(ip='42.236.37.136', port=80), status='ESTABLISHED', pid=6596),\n",
       " sconn(fd=-1, family=<AddressFamily.AF_INET: 2>, type=1, laddr=addr(ip='127.0.0.1', port=56278), raddr=addr(ip='127.0.0.1', port=56277), status='ESTABLISHED', pid=1492),\n",
       " sconn(fd=-1, family=<AddressFamily.AF_INET: 2>, type=1, laddr=addr(ip='127.0.0.1', port=56242), raddr=(), status='LISTEN', pid=1492),\n",
       " sconn(fd=-1, family=<AddressFamily.AF_INET6: 23>, type=1, laddr=addr(ip='::', port=49667), raddr=(), status='LISTEN', pid=8),\n",
       " sconn(fd=-1, family=<AddressFamily.AF_INET: 2>, type=1, laddr=addr(ip='127.0.0.1', port=55234), raddr=addr(ip='127.0.0.1', port=55233), status='ESTABLISHED', pid=10260),\n",
       " sconn(fd=-1, family=<AddressFamily.AF_INET: 2>, type=2, laddr=addr(ip='0.0.0.0', port=64763), raddr=(), status='NONE', pid=7400),\n",
       " sconn(fd=-1, family=<AddressFamily.AF_INET: 2>, type=1, laddr=addr(ip='127.0.0.1', port=56277), raddr=addr(ip='127.0.0.1', port=56278), status='ESTABLISHED', pid=1492),\n",
       " sconn(fd=-1, family=<AddressFamily.AF_INET: 2>, type=1, laddr=addr(ip='192.168.73.74', port=53655), raddr=addr(ip='192.168.73.74', port=53680), status='ESTABLISHED', pid=5480),\n",
       " sconn(fd=-1, family=<AddressFamily.AF_INET: 2>, type=1, laddr=addr(ip='127.0.0.1', port=52790), raddr=addr(ip='127.0.0.1', port=52789), status='ESTABLISHED', pid=1700),\n",
       " sconn(fd=-1, family=<AddressFamily.AF_INET: 2>, type=1, laddr=addr(ip='127.0.0.1', port=56265), raddr=addr(ip='127.0.0.1', port=56266), status='ESTABLISHED', pid=1492),\n",
       " sconn(fd=-1, family=<AddressFamily.AF_INET: 2>, type=1, laddr=addr(ip='127.0.0.1', port=55195), raddr=addr(ip='127.0.0.1', port=55247), status='ESTABLISHED', pid=10260),\n",
       " sconn(fd=-1, family=<AddressFamily.AF_INET: 2>, type=2, laddr=addr(ip='192.168.73.74', port=138), raddr=(), status='NONE', pid=4),\n",
       " sconn(fd=-1, family=<AddressFamily.AF_INET: 2>, type=1, laddr=addr(ip='127.0.0.1', port=51359), raddr=addr(ip='127.0.0.1', port=51388), status='ESTABLISHED', pid=4060),\n",
       " sconn(fd=-1, family=<AddressFamily.AF_INET: 2>, type=1, laddr=addr(ip='127.0.0.1', port=56266), raddr=addr(ip='127.0.0.1', port=56265), status='ESTABLISHED', pid=1492),\n",
       " sconn(fd=-1, family=<AddressFamily.AF_INET: 2>, type=1, laddr=addr(ip='127.0.0.1', port=52823), raddr=addr(ip='127.0.0.1', port=52822), status='ESTABLISHED', pid=10620),\n",
       " sconn(fd=-1, family=<AddressFamily.AF_INET: 2>, type=1, laddr=addr(ip='127.0.0.1', port=52817), raddr=addr(ip='127.0.0.1', port=52816), status='ESTABLISHED', pid=10620),\n",
       " sconn(fd=-1, family=<AddressFamily.AF_INET: 2>, type=1, laddr=addr(ip='127.0.0.1', port=51309), raddr=addr(ip='127.0.0.1', port=51310), status='ESTABLISHED', pid=10620),\n",
       " sconn(fd=-1, family=<AddressFamily.AF_INET: 2>, type=1, laddr=addr(ip='127.0.0.1', port=51367), raddr=addr(ip='127.0.0.1', port=51368), status='ESTABLISHED', pid=10620),\n",
       " sconn(fd=-1, family=<AddressFamily.AF_INET: 2>, type=1, laddr=addr(ip='127.0.0.1', port=51411), raddr=addr(ip='127.0.0.1', port=51410), status='ESTABLISHED', pid=4060),\n",
       " sconn(fd=-1, family=<AddressFamily.AF_INET: 2>, type=1, laddr=addr(ip='127.0.0.1', port=51444), raddr=addr(ip='127.0.0.1', port=51360), status='ESTABLISHED', pid=10620),\n",
       " sconn(fd=-1, family=<AddressFamily.AF_INET: 2>, type=1, laddr=addr(ip='127.0.0.1', port=52819), raddr=addr(ip='127.0.0.1', port=52820), status='ESTABLISHED', pid=10620),\n",
       " sconn(fd=-1, family=<AddressFamily.AF_INET6: 23>, type=1, laddr=addr(ip='::', port=49666), raddr=(), status='LISTEN', pid=792),\n",
       " sconn(fd=-1, family=<AddressFamily.AF_INET: 2>, type=1, laddr=addr(ip='25.0.72.211', port=64150), raddr=addr(ip='25.0.72.211', port=53675), status='TIME_WAIT', pid=0),\n",
       " sconn(fd=-1, family=<AddressFamily.AF_INET: 2>, type=1, laddr=addr(ip='127.0.0.1', port=4300), raddr=(), status='LISTEN', pid=7784),\n",
       " sconn(fd=-1, family=<AddressFamily.AF_INET: 2>, type=2, laddr=addr(ip='0.0.0.0', port=57379), raddr=(), status='NONE', pid=6704),\n",
       " sconn(fd=-1, family=<AddressFamily.AF_INET: 2>, type=1, laddr=addr(ip='127.0.0.1', port=55241), raddr=addr(ip='127.0.0.1', port=55242), status='ESTABLISHED', pid=10260),\n",
       " sconn(fd=-1, family=<AddressFamily.AF_INET: 2>, type=2, laddr=addr(ip='0.0.0.0', port=53251), raddr=(), status='NONE', pid=7400),\n",
       " sconn(fd=-1, family=<AddressFamily.AF_INET: 2>, type=1, laddr=addr(ip='127.0.0.1', port=58847), raddr=addr(ip='127.0.0.1', port=58848), status='ESTABLISHED', pid=1492),\n",
       " sconn(fd=-1, family=<AddressFamily.AF_INET: 2>, type=1, laddr=addr(ip='127.0.0.1', port=55225), raddr=addr(ip='127.0.0.1', port=55224), status='ESTABLISHED', pid=10260),\n",
       " sconn(fd=-1, family=<AddressFamily.AF_INET: 2>, type=1, laddr=addr(ip='127.0.0.1', port=55242), raddr=addr(ip='127.0.0.1', port=55241), status='ESTABLISHED', pid=10260),\n",
       " sconn(fd=-1, family=<AddressFamily.AF_INET: 2>, type=1, laddr=addr(ip='127.0.0.1', port=52812), raddr=addr(ip='127.0.0.1', port=52813), status='ESTABLISHED', pid=1700),\n",
       " sconn(fd=-1, family=<AddressFamily.AF_INET: 2>, type=1, laddr=addr(ip='127.0.0.1', port=56288), raddr=addr(ip='127.0.0.1', port=56287), status='ESTABLISHED', pid=1492),\n",
       " sconn(fd=-1, family=<AddressFamily.AF_INET: 2>, type=1, laddr=addr(ip='127.0.0.1', port=58848), raddr=addr(ip='127.0.0.1', port=58847), status='ESTABLISHED', pid=1492),\n",
       " sconn(fd=-1, family=<AddressFamily.AF_INET: 2>, type=1, laddr=addr(ip='127.0.0.1', port=52796), raddr=addr(ip='127.0.0.1', port=52795), status='ESTABLISHED', pid=1700),\n",
       " sconn(fd=-1, family=<AddressFamily.AF_INET: 2>, type=1, laddr=addr(ip='127.0.0.1', port=56260), raddr=addr(ip='127.0.0.1', port=56259), status='ESTABLISHED', pid=1492),\n",
       " sconn(fd=-1, family=<AddressFamily.AF_INET: 2>, type=1, laddr=addr(ip='127.0.0.1', port=51358), raddr=addr(ip='127.0.0.1', port=51438), status='ESTABLISHED', pid=4060),\n",
       " sconn(fd=-1, family=<AddressFamily.AF_INET: 2>, type=1, laddr=addr(ip='127.0.0.1', port=55239), raddr=addr(ip='127.0.0.1', port=55240), status='ESTABLISHED', pid=10260),\n",
       " sconn(fd=-1, family=<AddressFamily.AF_INET: 2>, type=1, laddr=addr(ip='127.0.0.1', port=51396), raddr=addr(ip='127.0.0.1', port=51395), status='ESTABLISHED', pid=4060),\n",
       " sconn(fd=-1, family=<AddressFamily.AF_INET: 2>, type=1, laddr=addr(ip='127.0.0.1', port=57765), raddr=addr(ip='127.0.0.1', port=57764), status='ESTABLISHED', pid=1492),\n",
       " sconn(fd=-1, family=<AddressFamily.AF_INET: 2>, type=1, laddr=addr(ip='127.0.0.1', port=52769), raddr=addr(ip='127.0.0.1', port=52770), status='ESTABLISHED', pid=10620),\n",
       " sconn(fd=-1, family=<AddressFamily.AF_INET: 2>, type=1, laddr=addr(ip='127.0.0.1', port=52794), raddr=addr(ip='127.0.0.1', port=52793), status='ESTABLISHED', pid=1700),\n",
       " sconn(fd=-1, family=<AddressFamily.AF_INET: 2>, type=1, laddr=addr(ip='127.0.0.1', port=56254), raddr=addr(ip='127.0.0.1', port=56239), status='ESTABLISHED', pid=10620),\n",
       " sconn(fd=-1, family=<AddressFamily.AF_INET: 2>, type=1, laddr=addr(ip='127.0.0.1', port=51414), raddr=addr(ip='127.0.0.1', port=51415), status='ESTABLISHED', pid=4060),\n",
       " sconn(fd=-1, family=<AddressFamily.AF_INET: 2>, type=1, laddr=addr(ip='127.0.0.1', port=51359), raddr=addr(ip='127.0.0.1', port=51441), status='ESTABLISHED', pid=4060),\n",
       " sconn(fd=-1, family=<AddressFamily.AF_INET: 2>, type=1, laddr=addr(ip='127.0.0.1', port=55211), raddr=addr(ip='127.0.0.1', port=55198), status='ESTABLISHED', pid=10620),\n",
       " sconn(fd=-1, family=<AddressFamily.AF_INET: 2>, type=2, laddr=addr(ip='0.0.0.0', port=62297), raddr=(), status='NONE', pid=7400),\n",
       " sconn(fd=-1, family=<AddressFamily.AF_INET: 2>, type=1, laddr=addr(ip='127.0.0.1', port=55219), raddr=addr(ip='127.0.0.1', port=55218), status='ESTABLISHED', pid=10260),\n",
       " sconn(fd=-1, family=<AddressFamily.AF_INET: 2>, type=1, laddr=addr(ip='127.0.0.1', port=51374), raddr=addr(ip='127.0.0.1', port=51373), status='ESTABLISHED', pid=10620),\n",
       " sconn(fd=-1, family=<AddressFamily.AF_INET: 2>, type=1, laddr=addr(ip='192.168.73.74', port=53648), raddr=addr(ip='117.131.204.51', port=80), status='CLOSE_WAIT', pid=5480),\n",
       " sconn(fd=-1, family=<AddressFamily.AF_INET: 2>, type=1, laddr=addr(ip='192.168.73.74', port=60877), raddr=addr(ip='111.221.29.172', port=443), status='ESTABLISHED', pid=3980),\n",
       " sconn(fd=-1, family=<AddressFamily.AF_INET: 2>, type=1, laddr=addr(ip='192.168.73.74', port=60902), raddr=addr(ip='192.168.79.254', port=80), status='CLOSE_WAIT', pid=6596),\n",
       " sconn(fd=-1, family=<AddressFamily.AF_INET: 2>, type=1, laddr=addr(ip='192.168.73.74', port=63699), raddr=addr(ip='111.62.242.42', port=80), status='CLOSE_WAIT', pid=6704),\n",
       " sconn(fd=-1, family=<AddressFamily.AF_INET: 2>, type=2, laddr=addr(ip='0.0.0.0', port=53836), raddr=(), status='NONE', pid=7400),\n",
       " sconn(fd=-1, family=<AddressFamily.AF_INET: 2>, type=1, laddr=addr(ip='127.0.0.1', port=56263), raddr=addr(ip='127.0.0.1', port=56264), status='ESTABLISHED', pid=1492),\n",
       " sconn(fd=-1, family=<AddressFamily.AF_INET: 2>, type=1, laddr=addr(ip='127.0.0.1', port=52804), raddr=addr(ip='127.0.0.1', port=52805), status='ESTABLISHED', pid=1700),\n",
       " sconn(fd=-1, family=<AddressFamily.AF_INET: 2>, type=1, laddr=addr(ip='127.0.0.1', port=51436), raddr=addr(ip='127.0.0.1', port=51437), status='ESTABLISHED', pid=10620),\n",
       " sconn(fd=-1, family=<AddressFamily.AF_INET: 2>, type=1, laddr=addr(ip='127.0.0.1', port=52793), raddr=addr(ip='127.0.0.1', port=52794), status='ESTABLISHED', pid=1700),\n",
       " sconn(fd=-1, family=<AddressFamily.AF_INET: 2>, type=2, laddr=addr(ip='0.0.0.0', port=5353), raddr=(), status='NONE', pid=1360),\n",
       " sconn(fd=-1, family=<AddressFamily.AF_INET: 2>, type=1, laddr=addr(ip='127.0.0.1', port=53654), raddr=addr(ip='127.0.0.1', port=53653), status='ESTABLISHED', pid=5480),\n",
       " sconn(fd=-1, family=<AddressFamily.AF_INET: 2>, type=1, laddr=addr(ip='192.168.73.74', port=61635), raddr=addr(ip='146.185.175.64', port=443), status='ESTABLISHED', pid=5956),\n",
       " sconn(fd=-1, family=<AddressFamily.AF_INET: 2>, type=1, laddr=addr(ip='127.0.0.1', port=55200), raddr=addr(ip='127.0.0.1', port=55201), status='ESTABLISHED', pid=10620)]"
      ]
     },
     "execution_count": 40,
     "metadata": {},
     "output_type": "execute_result"
    }
   ],
   "source": [
    "psutil.net_connections()"
   ]
  },
  {
   "cell_type": "markdown",
   "metadata": {},
   "source": [
    "### 获取进程信息\n",
    "\n",
    "通过psutil可以获取到所有进程的详细信息："
   ]
  },
  {
   "cell_type": "code",
   "execution_count": 51,
   "metadata": {},
   "outputs": [
    {
     "name": "stdout",
     "output_type": "stream",
     "text": [
      "获取所有进程 id: 0      0\n",
      "1      4\n",
      "2    340\n",
      "3    560\n",
      "4    648\n",
      "dtype: int64\n",
      "进程的名字: <bound method Process.name of <psutil.Process(pid=10620, name='python.exe') at 2725209990872>>\n",
      "进程路径: D:\\ProgramData\\Anaconda3\\envs\\py36\\python.exe\n",
      "进程工作目录: C:\\Users\\Administrator\n",
      "进程启动的命令行: ['D:\\\\ProgramData\\\\Anaconda3\\\\envs\\\\py36\\\\python.exe', 'D:\\\\ProgramData\\\\Anaconda3\\\\envs\\\\py36\\\\Scripts\\\\jupyter-notebook-script.py', 'D:\\\\']\n",
      "父进程ID: 10332\n",
      "父进程: psutil.Process(pid=10332, name='jupyter-notebook.exe')\n",
      "子进程列表: [<psutil.Process(pid=4060, name='python.exe') at 2725209991768>, <psutil.Process(pid=1700, name='python.exe') at 2725209991096>, <psutil.Process(pid=10260, name='python.exe') at 2725209991040>, <psutil.Process(pid=1492, name='python.exe') at 2725209991488>]\n",
      "进程状态: running\n",
      "进程用户名: AR0YAJDWVL0KMTZ\\Administrator\n",
      "进程创建时间: 1515548116.0\n"
     ]
    },
    {
     "ename": "AttributeError",
     "evalue": "'Process' object has no attribute 'terminal'",
     "output_type": "error",
     "traceback": [
      "\u001b[1;31m---------------------------------------------------------------------------\u001b[0m",
      "\u001b[1;31mAttributeError\u001b[0m                            Traceback (most recent call last)",
      "\u001b[1;32m<ipython-input-51-afa011a4779e>\u001b[0m in \u001b[0;36m<module>\u001b[1;34m()\u001b[0m\n\u001b[0;32m     37\u001b[0m \u001b[1;33m\u001b[0m\u001b[0m\n\u001b[0;32m     38\u001b[0m \u001b[1;31m# 进程终端\u001b[0m\u001b[1;33m\u001b[0m\u001b[1;33m\u001b[0m\u001b[0m\n\u001b[1;32m---> 39\u001b[1;33m \u001b[0mprint\u001b[0m\u001b[1;33m(\u001b[0m\u001b[1;34m'进程终端:'\u001b[0m\u001b[1;33m,\u001b[0m \u001b[0mp\u001b[0m\u001b[1;33m.\u001b[0m\u001b[0mterminal\u001b[0m\u001b[1;33m(\u001b[0m\u001b[1;33m)\u001b[0m\u001b[1;33m)\u001b[0m\u001b[1;33m\u001b[0m\u001b[0m\n\u001b[0m\u001b[0;32m     40\u001b[0m \u001b[1;33m\u001b[0m\u001b[0m\n\u001b[0;32m     41\u001b[0m \u001b[1;31m# 进程使用的CPU时间\u001b[0m\u001b[1;33m\u001b[0m\u001b[1;33m\u001b[0m\u001b[0m\n",
      "\u001b[1;31mAttributeError\u001b[0m: 'Process' object has no attribute 'terminal'"
     ]
    }
   ],
   "source": [
    "from pandas import Series,DataFrame\n",
    "\n",
    "# 获取所有进程 id\n",
    "print('获取所有进程 id:',Series(psutil.pids()).head())\n",
    "\n",
    "# 获取指定进程ID=10620，其实就是当前Python交互环境\n",
    "p = psutil.Process(10620)\n",
    "# 进程的名字\n",
    "print('进程的名字:', p.name)\n",
    "\n",
    "# 进程路径\n",
    "print('进程路径:', p.exe())\n",
    "\n",
    "# 进程工作目录\n",
    "print('进程工作目录:', p.cwd())\n",
    "\n",
    "# 进程启动的命令行\n",
    "print('进程启动的命令行:', p.cmdline())\n",
    "\n",
    "# 父进程ID\n",
    "print('父进程ID:', p.ppid())\n",
    "\n",
    "# 父进程:\n",
    "print('父进程:', p.parent()) \n",
    "\n",
    "# 子进程列表\n",
    "print('子进程列表:', p.children())\n",
    "\n",
    "# 进程状态\n",
    "print('进程状态:', p.status())\n",
    "\n",
    "# 进程用户名\n",
    "print('进程用户名:', p.username())\n",
    "\n",
    "# 进程创建时间\n",
    "print('进程创建时间:', p.create_time()) \n",
    "\n",
    "# 进程终端\n",
    "print('进程终端:', p.terminal())\n",
    "\n",
    "# 进程使用的CPU时间\n",
    "print('进程使用的CPU时间:', p.cpu_times())\n",
    "\n",
    "# 进程使用的内存\n",
    "print('进程使用的内存:', p.memory_info())\n",
    "\n",
    "# 进程打开的文件\n",
    "print('进程打开的文件:', p.open_files())\n",
    "\n",
    "# 进程相关网络连接\n",
    "print('进程相关网络连接:', p.connections())\n",
    "\n",
    "# 进程的线程数量\n",
    "print('进程的线程数量:', p.num_threads())\n",
    "\n",
    "# 所有线程信息\n",
    "print('所有线程信息:', p.threads())\n",
    "\n",
    "# 进程环境变量\n",
    "print('进程环境变量:', p.environ())\n",
    "\n",
    "# 结束进程(在window是上不可用)\n",
    "p.terminate()"
   ]
  },
  {
   "cell_type": "markdown",
   "metadata": {},
   "source": [
    "psutil还提供了一个test()函数，可以模拟出ps命令的效果："
   ]
  },
  {
   "cell_type": "code",
   "execution_count": 52,
   "metadata": {},
   "outputs": [
    {
     "name": "stdout",
     "output_type": "stream",
     "text": [
      "USER         PID %MEM     VSZ     RSS TTY           START    TIME  COMMAND\n",
      "SYSTEM         0    ?       ?       4 ?             09:16   52:21  System Idle Process\n",
      "SYSTEM         4    ?     128     108 ?             09:16   04:23  System\n",
      "               8  0.5   15952   41904 ?             09:16   00:25  svchost.exe\n",
      "              80  0.8   42748   65736 ?             09:16   06:39  dwm.exe\n",
      "             340    ?     368    1164 ?             09:16   00:00  smss.exe\n",
      "             552  0.2    3920   14580 ?             09:16   00:01  svchost.exe\n",
      "             560  0.1    1392    4500 ?             09:16   00:01  csrss.exe\n",
      "             648  0.4    2396   31284 ?             09:16   00:48  csrss.exe\n",
      "Administra   656    ?   36992    1432 ?             10:31   00:00  jcef_helper.exe\n",
      "             672  0.1    1108    5604 ?             09:16   00:00  wininit.exe\n",
      "             708  0.1    2160    9928 ?             09:16   00:00  winlogon.exe\n",
      "             784  0.1    3104    7528 ?             09:16   00:07  services.exe\n",
      "             792  0.2    5644   15308 ?             09:16   00:07  lsass.exe\n",
      "             880  0.2    6352   20632 ?             09:16   00:06  svchost.exe\n",
      "             944  0.1    4932   10440 ?             09:16   00:12  svchost.exe\n",
      "             964  0.3   13432   25252 ?             09:16   00:10  svchost.exe\n",
      "            1156    ?    2344    1936 ?             09:16   00:00  nvvsvc.exe\n",
      "            1204  0.3    8988   23736 ?             09:16   00:04  svchost.exe\n",
      "            1312  0.3   17124   26648 ?             09:16   00:12  svchost.exe\n",
      "            1360  0.2    8488   20380 ?             09:16   00:06  svchost.exe\n",
      "            1384    ?   13860    2632 ?             09:16   00:03  nvxdsync.exe\n",
      "Administra  1492  2.6  222392  214220 ?             11:29   00:44  python.exe\n",
      "            1516    ?    1628      36 ?             09:16   00:00  igfxCUIService.exe\n",
      "Administra  1580    ?    4132    1416 ?             09:20   00:00  chrome.exe\n",
      "            1656  0.1    2344    9864 ?             09:16   00:01  svchost.exe\n",
      "Administra  1700    ?   42008    2872 ?             10:06   00:01  python.exe\n",
      "            1720    ?    1588      92 ?             09:16   00:00  RtkAudioService64.exe\n",
      "            1752    ?    5936     488 ?             09:16   00:00  RAVBg64.exe\n",
      "            1760    ?    5640     480 ?             09:16   00:00  RAVBg64.exe\n",
      "            1772  0.1    2912   11476 ?             09:16   00:00  svchost.exe\n",
      "Administra  1800    ?   44048    1568 ?             10:31   00:00  jcef_helper.exe\n",
      "            1828    ?    1468     352 ?             09:16   00:01  360rps.exe\n",
      "            1944  0.2    5424   18636 ?             09:16   00:03  svchost.exe\n",
      "            1976  0.1   18636    5096 ?             09:16   00:09  ZhuDongFangYu.exe\n",
      "            2060  0.2    6168   17844 ?             09:16   00:00  dasHost.exe\n",
      "Administra  2108    ?   37764     972 ?             10:30   00:00  jcef_helper.exe\n",
      "            2196    ?    2664     396 ?             09:19   00:00  obexsrv.exe\n",
      "            2284  0.1    1484    6824 ?             09:17   00:00  svchost.exe\n",
      "            2468  0.2    5200   17172 ?             09:17   00:13  svchost.exe\n",
      "            2476    ?     964      36 ?             09:17   00:00  ETDService.exe\n",
      "            2584  0.1   17648    8560 ?             09:17   00:01  QQProtect.exe\n",
      "Administra  3300  0.2   72396   13544 ?             11:21   00:05  chrome.exe\n",
      "Administra  3312  0.3   13044   26172 ?             14:39   00:14  SogouCloud.exe\n",
      "Administra  3432    ?    6696    1000 ?             09:17   00:00  ETDCtrl.exe\n",
      "Administra  3456  0.3    5600   22480 ?             09:17   00:02  sihost.exe\n",
      "Administra  3540  0.3    6324   25132 ?             09:17   00:00  svchost.exe\n",
      "Administra  3580  0.3    7880   22312 ?             09:17   00:05  taskhostw.exe\n",
      "            3728    ?     964    3568 ?             09:18   00:00  fontdrvhost.exe\n",
      "Administra  3756    ?   16044      36 ?             10:27   00:00  plugin_host.exe\n",
      "Administra  3792  0.4   10436   35028 ?             09:17   00:16  RuntimeBroker.exe\n",
      "Administra  3892  0.1    1456    7712 ?             09:17   00:00  ChsIME.exe\n",
      "Administra  3980  3.1  141400  253004 ?             09:17   03:36  explorer.exe\n",
      "Administra  3996    ?    4208     400 ?             09:21   00:00  TXPlatform.exe\n",
      "            4048    ?    2416     400 ?             09:17   00:00  ETDCtrlHelper.exe\n",
      "Administra  4060    ?   58436    2864 ?             09:35   00:07  python.exe\n",
      "Administra  4212  1.2   43012   97372 ?             09:17   00:07  ShellExperienceHost.exe\n",
      "Administra  4332    ?   18204    1012 ?             10:10   00:03  WeChatWeb.exe\n",
      "Administra  4428  0.9  108304   70576 ?             09:20   06:04  chrome.exe\n",
      "Administra  4456    ?    6600     424 ?             09:17   00:00  SogouImeBroker.exe\n",
      "Administra  4584    ?    7576     508 ?             09:17   00:00  igfxEM.exe\n",
      "Administra  4592  1.0   67980   80312 ?             09:17   00:03  SearchUI.exe\n",
      "Administra  4628    ?    5140     280 ?             09:17   00:00  igfxHK.exe\n",
      "Administra  4924    ?    4144     528 ?             09:17   00:00  RAVBg64.exe\n",
      "Administra  4948  0.2   39536   15140 ?             09:20   00:02  chrome.exe\n",
      "            4988    ?    3128     428 ?             09:19   00:00  devmonsrv.exe\n",
      "Administra  5008  1.5   79624  126012 ?             15:24   00:33  chrome.exe\n",
      "Administra  5112  0.1   88104    8924 ?             09:19   05:51  DingTalkHelper.exe\n",
      "Administra  5140    ?    5676     528 ?             09:18   00:00  RAVBg64.exe\n",
      "Administra  5216    ?    4060     608 ?             09:18   00:00  RtkNGUI64.exe\n",
      "Administra  5280  0.1    2168    8800 ?             09:18   00:00  rundll32.exe\n",
      "            5420  0.2    5220   12860 ?             15:10   00:18  WmiPrvSE.exe\n",
      "Administra  5472  0.4   56652   37048 ?             09:20   00:20  chrome.exe\n",
      "Administra  5480  2.9  738400  241744 ?             10:30   00:53  rcp.exe\n",
      "Administra  5528    ?    1888     932 ?             11:18   00:00  adb.exe\n",
      "Administra  5956  3.1  203160  258164 ?             09:20   13:39  chrome.exe\n",
      "Administra  6096  1.4  133636  114460 ?             09:20   01:02  chrome.exe\n",
      "Administra  6116  0.6  114944   51524 ?             10:10   00:43  WeChat.exe\n",
      "Administra  6176    ?    3756     904 ?             09:20   00:00  chrome.exe\n",
      "Administra  6236  0.7   70844   56132 ?             09:20   00:54  chrome.exe\n",
      "Administra  6240  0.6   74592   52608 ?             09:20   00:17  chrome.exe\n",
      "            6372    ?   39960    2324 ?             09:18   00:03  360sd.exe\n",
      "Administra  6380  0.2   46164   12744 ?             09:18   00:10  DingTalk.exe\n",
      "            6596  0.4  155692   30748 ?             09:18   04:59  360Tray.exe\n",
      "Administra  6632  0.1    2576    4704 ?             09:18   00:00  360bdoctor.exe\n",
      "Administra  6704  0.8  120992   69924 ?             09:21   07:22  QQ.exe\n",
      "Administra  7032  0.5   51472   42920 ?             09:20   00:11  chrome.exe\n",
      "Administra  7292  0.9   17128   71656 ?             09:34   00:12  conhost.exe\n",
      "            7400  0.4   48464   31756 ?             09:20   01:21  360rp.exe\n",
      "Administra  7784  2.3  155600  191036 ?             09:20   04:19  QQ.exe\n",
      "Administra  7920  0.7   97964   61088 ?             09:21   47:28  chrome.exe\n",
      "Administra  8548  0.2   25072   15284 ?             09:21   12:51  QQExternal.exe\n",
      "Administra  8564    ?    7284      32 ?             09:35   00:00  python.exe\n",
      "Administra  8928  0.2    3832   18892 ?             09:23   00:01  SystemSettingsBroker.exe\n",
      "Administra  9120  0.4   91744   30080 ?             09:31   00:15  OwtwareClient.exe\n",
      "Administra  9140  0.1   22020    4332 ?             10:27   00:24  sublime_text.exe\n",
      "Administra  9152  0.4   11980   31924 ?             10:00   00:00  ApplicationFrameHost.exe\n",
      "Administra  9228  1.5  149524  122308 ?             09:35   15:21  chrome.exe\n",
      "Administra  9796  0.2   23292   16148 ?             09:32   00:04  chrome.exe\n",
      "Administra 10148  0.2   29468   12752 ?             09:35   00:02  chrome.exe\n",
      "Administra 10260    ?   44608    2856 ?             11:00   00:01  python.exe\n",
      "Administra 10268  1.3  107208  106824 ?             09:35   02:45  chrome.exe\n",
      "Administra 10332    ?    1368      36 ?             09:35   00:00  jupyter-notebook.exe\n",
      "Administra 10440  0.1    1792    9600 ?             09:34   00:00  dllhost.exe\n",
      "Administra 10476    ?    1368      36 ?             09:35   00:00  jupyter.exe\n",
      "Administra 10496  0.4  159096   36008 ?             10:31   00:02  rcp.exe\n",
      "Administra 10536    ?    1728      36 ?             09:34   00:00  cmd.exe\n",
      "Administra 10620  0.3   53404   21836 ?             09:35   00:41  python.exe\n",
      "Administra 10944  0.1   28032    5468 ?             11:56   00:00  chrome.exe\n",
      "           11384  0.7   71188   60896 ?             10:40   00:39  Everything.exe\n",
      "           11992  0.1    1480    7764 ?             15:51   00:00  WmiApSrv.exe\n",
      "Administra 12156  0.9   99400   70624 ?             11:54   01:34  chrome.exe\n",
      "Administra 12168    ?    9296     568 ?             10:40   00:00  Everything.exe\n",
      "           12284  0.1    2136    8432 ?             15:49   00:00  WmiPrvSE.exe\n",
      "Administra 12380  0.8   14276   63764 ?             11:51   00:09  conhost.exe\n",
      "Administra 12404    ?    2000    2908 ?             11:51   00:00  cmd.exe\n",
      "Administra 12600  0.3    7316   23108 ?             15:10   00:02  wpscenter.exe\n",
      "           13452  0.1    1812    9056 ?             13:40   00:00  WUDFHost.exe\n",
      "Administra 14568  0.1   31660   11580 ?             15:10   00:04  wpscloudsvr.exe\n",
      "           14760  0.3   19804   28256 ?             15:49   00:07  WmiPrvSE.exe\n"
     ]
    },
    {
     "data": {
      "text/html": [
       "<div>\n",
       "<style scoped>\n",
       "    .dataframe tbody tr th:only-of-type {\n",
       "        vertical-align: middle;\n",
       "    }\n",
       "\n",
       "    .dataframe tbody tr th {\n",
       "        vertical-align: top;\n",
       "    }\n",
       "\n",
       "    .dataframe thead th {\n",
       "        text-align: right;\n",
       "    }\n",
       "</style>\n",
       "<table border=\"1\" class=\"dataframe\">\n",
       "  <thead>\n",
       "    <tr style=\"text-align: right;\">\n",
       "      <th></th>\n",
       "    </tr>\n",
       "  </thead>\n",
       "  <tbody>\n",
       "  </tbody>\n",
       "</table>\n",
       "</div>"
      ],
      "text/plain": [
       "Empty DataFrame\n",
       "Columns: []\n",
       "Index: []"
      ]
     },
     "execution_count": 52,
     "metadata": {},
     "output_type": "execute_result"
    }
   ],
   "source": [
    "psutil.test()"
   ]
  },
  {
   "cell_type": "markdown",
   "metadata": {},
   "source": [
    "## 参考\n",
    "\n",
    "1、[Pillow - 廖雪峰](https://www.liaoxuefeng.com/wiki/0014316089557264a6b348958f449949df42a6d3a2e542c000/0014320027235877860c87af5544f25a8deeb55141d60c5000)\n",
    "\n",
    "2、[requests - 廖雪峰](https://www.liaoxuefeng.com/wiki/0014316089557264a6b348958f449949df42a6d3a2e542c000/0015109021115795adfc5c8629f4f98985063b5a7e3ff87000)\n",
    "\n",
    "3、[chardet - 廖雪峰](https://www.liaoxuefeng.com/wiki/0014316089557264a6b348958f449949df42a6d3a2e542c000/001510905171877ca6fdf08614e446e835ea5d9bce75cf5000)\n",
    "\n",
    "4、[psutil - 廖雪峰](https://www.liaoxuefeng.com/wiki/0014316089557264a6b348958f449949df42a6d3a2e542c000/001511052957192bb91a56a2339485c8a8c79812b400d49000)\n"
   ]
  }
 ],
 "metadata": {
  "kernelspec": {
   "display_name": "Python 3",
   "language": "python",
   "name": "python3"
  },
  "language_info": {
   "codemirror_mode": {
    "name": "ipython",
    "version": 3
   },
   "file_extension": ".py",
   "mimetype": "text/x-python",
   "name": "python",
   "nbconvert_exporter": "python",
   "pygments_lexer": "ipython3",
   "version": "3.6.3"
  },
  "toc": {
   "nav_menu": {},
   "number_sections": true,
   "sideBar": true,
   "skip_h1_title": false,
   "toc_cell": false,
   "toc_position": {
    "height": "535px",
    "left": "0px",
    "right": "1105px",
    "top": "111px",
    "width": "261px"
   },
   "toc_section_display": "block",
   "toc_window_display": true
  }
 },
 "nbformat": 4,
 "nbformat_minor": 2
}
