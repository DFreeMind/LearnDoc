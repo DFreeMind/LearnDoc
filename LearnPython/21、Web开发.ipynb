{
 "cells": [
  {
   "cell_type": "markdown",
   "metadata": {},
   "source": [
    "![image](http://wx2.sinaimg.cn/thumbnail/69d4185bly1fmf9kfagd3j20ek0ekq88.jpg)\n",
    "# web开发\n",
    "最早的软件都是运行在大型机上的，软件使用者通过“哑终端”登陆到大型机上去运行软件。后来随着PC机的兴起，软件开始主要运行在桌面上，而数据库这样的软件运行在服务器端，这种Client/Server模式简称CS架构。\n",
    "\n",
    "随着互联网的兴起，人们发现，CS架构不适合Web，最大的原因是Web应用程序的修改和升级非常迅速，而CS架构需要每个客户端逐个升级桌面App，因此，Browser/Server模式开始流行，简称BS架构。\n",
    "\n",
    "在BS架构下，客户端只需要浏览器，应用程序的逻辑和数据都存储在服务器端。浏览器只需要请求服务器，获取Web页面，并把Web页面展示给用户即可。\n",
    "\n",
    "当然，Web页面也具有极强的交互性。由于Web页面是用HTML编写的，而HTML具备超强的表现力，并且，服务器端升级后，客户端无需任何部署就可以使用到新的版本，因此，BS架构迅速流行起来。\n",
    "\n",
    "今天，除了重量级的软件如Office，Photoshop等，大部分软件都以Web形式提供。比如，新浪提供的新闻、博客、微博等服务，均是Web应用。"
   ]
  },
  {
   "cell_type": "markdown",
   "metadata": {},
   "source": [
    "Web应用开发可以说是目前软件开发中最重要的部分。Web开发也经历了好几个阶段：\n",
    "1. 静态Web页面：由文本编辑器直接编辑并生成静态的HTML页面，如果要修改Web页面的内容，就需要再次编辑HTML源文件，早期的互联网Web页面就是静态的；\n",
    "2. CGI：由于静态Web页面无法与用户交互，比如用户填写了一个注册表单，静态Web页面就无法处理。要处理用户发送的动态数据，出现了Common Gateway Interface，简称CGI，用C/C++编写。\n",
    "3. ASP/JSP/PHP：由于Web应用特点是修改频繁，用C/C++这样的低级语言非常不适合Web开发，而脚本语言由于开发效率高，与HTML结合紧密，因此，迅速取代了CGI模式。ASP是微软推出的用VBScript脚本编程的Web开发技术，而JSP用Java来编写脚本，PHP本身则是开源的脚本语言。\n",
    "4. MVC：为了解决直接用脚本语言嵌入HTML导致的可维护性差的问题，Web应用也引入了Model-View-Controller的模式，来简化Web开发。ASP发展为ASP.Net，JSP和PHP也有一大堆MVC框架。\n",
    "\n",
    "目前，Web开发技术仍在快速发展中，异步开发、新的MVVM前端技术层出不穷。Python的诞生历史比Web还要早，由于Python是一种解释型的脚本语言，开发效率高，所以非常适合用来做Web开发。Python有上百种Web开发框架，有很多成熟的模板技术，选择Python开发Web应用，不但开发效率高，而且运行速度快。本章我们会详细讨论Python Web开发技术"
   ]
  },
  {
   "cell_type": "markdown",
   "metadata": {},
   "source": [
    "## HTTP协议\n",
    "### HTTP请求\n",
    "\n",
    "跟踪了新浪的首页，我们来总结一下HTTP请求的流程：\n",
    "\n",
    "**步骤1：浏览器首先向服务器发送HTTP请求，请求包括：**\n",
    "\n",
    "方法：GET还是POST，GET仅请求资源，POST会附带用户数据；\n",
    "\n",
    "路径：/full/url/path；\n",
    "\n",
    "域名：由Host头指定：Host: www.sina.com.cn\n",
    "\n",
    "以及其他相关的Header；\n",
    "\n",
    "如果是POST，那么请求还包括一个Body，包含用户数据。\n",
    "\n",
    "**步骤2：服务器向浏览器返回HTTP响应，响应包括：**\n",
    "\n",
    "响应代码：200表示成功，3xx表示重定向，4xx表示客户端发送的请求有错误，5xx表示服务器端处理时发生了错误；\n",
    "\n",
    "响应类型：由Content-Type指定；\n",
    "\n",
    "以及其他相关的Header；\n",
    "\n",
    "通常服务器的HTTP响应会携带内容，也就是有一个Body，包含响应的内容，网页的HTML源码就在Body中。\n",
    "\n",
    "步骤3：如果浏览器还需要继续向服务器请求其他资源，比如图片，就再次发出HTTP请求，重复步骤1、2。\n",
    "\n",
    "Web采用的HTTP协议采用了非常简单的请求-响应模式，从而大大简化了开发。当我们编写一个页面时，我们只需要在HTTP请求中把HTML发送出去，不需要考虑如何附带图片、视频等，浏览器如果需要请求图片和视频，它会发送另一个HTTP请求，因此，一个HTTP请求只处理一个资源。\n",
    "\n",
    "HTTP协议同时具备极强的扩展性，虽然浏览器请求的是`http://www.sina.com.cn/`的首页，但是新浪在HTML中可以链入其他服务器的资源，比如`<img src=\"http://i1.sinaimg.cn/home/2013/1008/U8455P30DT20131008135420.png\">`，从而将请求压力分散到各个服务器上，并且，一个站点可以链接到其他站点，无数个站点互相链接起来，就形成了World Wide Web，简称WWW。"
   ]
  },
  {
   "cell_type": "markdown",
   "metadata": {},
   "source": [
    "### HTTP格式\n",
    "\n",
    "每个HTTP请求和响应都遵循相同的格式，一个HTTP包含Header和Body两部分，其中Body是可选的。\n",
    "\n",
    "HTTP协议是一种文本协议，所以，它的格式也非常简单。HTTP GET请求的格式：\n",
    "```\n",
    "GET /path HTTP/1.1\n",
    "Header1: Value1\n",
    "Header2: Value2\n",
    "Header3: Value3\n",
    "```\n",
    "每个Header一行一个，换行符是`\\r\\n`。HTTP POST请求的格式：\n",
    "```\n",
    "POST /path HTTP/1.1\n",
    "Header1: Value1\n",
    "Header2: Value2\n",
    "Header3: Value3\n",
    "\n",
    "body data goes here...\n",
    "```\n",
    "当遇到连续两个`\\r\\n`时，Header部分结束，后面的数据全部是Body。HTTP响应的格式：\n",
    "```\n",
    "200 OK\n",
    "Header1: Value1\n",
    "Header2: Value2\n",
    "Header3: Value3\n",
    "\n",
    "body data goes here...\n",
    "```"
   ]
  },
  {
   "cell_type": "markdown",
   "metadata": {},
   "source": [
    "HTTP响应如果包含body，也是通过`\\r\\n\\r\\n`来分隔的。请再次注意，Body的数据类型由`Content-Type`头来确定，如果是网页，Body就是文本，如果是图片，Body就是图片的二进制数据。\n",
    "\n",
    "当存在`Content-Encoding`时，Body数据是被压缩的，最常见的压缩方式是gzip，所以，看到`Content-Encoding: gzip`时，需要将Body数据先解压缩，才能得到真正的数据。压缩的目的在于减少Body的大小，加快网络传输。"
   ]
  },
  {
   "cell_type": "markdown",
   "metadata": {},
   "source": [
    "## WSGI接口\n",
    "了解了HTTP协议和HTML文档，我们其实就明白了一个Web应用的本质就是：\n",
    "1. 浏览器发送一个HTTP请求；\n",
    "2. 服务器收到请求，生成一个HTML文档；\n",
    "3. 服务器把HTML文档作为HTTP响应的Body发送给浏览器；\n",
    "4. 浏览器收到HTTP响应，从HTTP Body取出HTML文档并显示。\n",
    "\n",
    "所以，最简单的Web应用就是先把HTML用文件保存好，用一个现成的HTTP服务器软件，接收用户请求，从文件中读取HTML，返回。Apache、Nginx、Lighttpd等这些常见的静态服务器就是干这件事情的。\n",
    "\n",
    "如果要动态生成HTML，就需要把上述步骤自己来实现。不过，接受HTTP请求、解析HTTP请求、发送HTTP响应都是苦力活，如果我们自己来写这些底层代码，还没开始写动态HTML呢，就得花个把月去读HTTP规范。\n",
    "\n",
    "正确的做法是底层代码由专门的服务器软件实现，我们用Python专注于生成HTML文档。因为我们不希望接触到TCP连接、HTTP原始请求和响应格式，所以，需要一个统一的接口，让我们专心用Python编写Web业务。\n",
    "\n",
    "这个接口就是WSGI：Web Server Gateway Interface。WSGI接口定义非常简单，它只要求Web开发者实现一个函数，就可以响应HTTP请求。我们来看一个最简单的Web版本的“Hello, web!”："
   ]
  },
  {
   "cell_type": "code",
   "execution_count": null,
   "metadata": {},
   "outputs": [],
   "source": [
    "def application(environ, start_response):\n",
    "    start_response('200 OK', [('Content-Type', 'text/html')])\n",
    "    return [b'<h1>Hello, web!</h1>']"
   ]
  },
  {
   "cell_type": "markdown",
   "metadata": {},
   "source": [
    "上面的`application()`函数就是符合WSGI标准的一个HTTP处理函数，它接收两个参数：\n",
    "- `environ`：一个包含所有HTTP请求信息的`dict`对象；\n",
    "- `start_response`：一个发送HTTP响应的函数。\n",
    "\n",
    "在application()函数中，调用：`start_response('200 OK', [('Content-Type', 'text/html')])`\n",
    "\n",
    "就发送了HTTP响应的Header，注意Header只能发送一次，也就是只能调用一次`start_response()`函数。`start_response()`函数接收两个参数，一个是HTTP响应码，一个是一组`list`表示的HTTP Header，每个Header用一个包含两个`str`的`tuple`表示。\n",
    "\n",
    "通常情况下，都应该把`Content-Type`头发送给浏览器。其他很多常用的HTTP Header也应该发送。然后，函数的返回值`b'<h1>Hello, web!</h1>'`将作为HTTP响应的Body发送给浏览器。\n",
    "\n",
    "有了WSGI，我们关心的就是如何从`environ`这个`dict`对象拿到HTTP请求信息，然后构造HTML，通过`start_response()`发送Header，最后返回Body。整个`application()`函数本身没有涉及到任何解析HTTP的部分，也就是说，底层代码不需要我们自己编写，我们只负责在更高层次上考虑如何响应请求就可以了。\n",
    "\n",
    "不过，等等，这个`application()`函数怎么调用？如果我们自己调用，两个参数`environ`和`start_response`我们没法提供，返回的bytes也没法发给浏览器。所以`application()`函数必须由WSGI服务器来调用。有很多符合WSGI规范的服务器，我们可以挑选一个来用。但是现在，我们只想尽快测试一下我们编写的`application()`函数真的可以把HTML输出到浏览器，所以，要赶紧找一个最简单的WSGI服务器，把我们的Web应用程序跑起来。\n",
    "\n",
    "好消息是Python内置了一个WSGI服务器，这个模块叫wsgiref，它是用纯Python编写的WSGI服务器的参考实现。所谓“参考实现”是指该实现完全符合WSGI标准，但是不考虑任何运行效率，仅供开发和测试使用。"
   ]
  },
  {
   "cell_type": "markdown",
   "metadata": {},
   "source": [
    "### 运行WSGI服务\n",
    "\n",
    "我们先编写`hello.py`，实现Web应用程序的WSGI处理函数："
   ]
  },
  {
   "cell_type": "code",
   "execution_count": null,
   "metadata": {},
   "outputs": [],
   "source": [
    "# hello.py\n",
    "\n",
    "def application(environ, start_response):\n",
    "    start_response('200 OK', [('Content-Type', 'text/html')])\n",
    "    return [b'<h1>Hello, web!</h1>']"
   ]
  },
  {
   "cell_type": "markdown",
   "metadata": {},
   "source": [
    "然后，再编写一个`server.py`，负责启动WSGI服务器，加载`application()`函数："
   ]
  },
  {
   "cell_type": "code",
   "execution_count": null,
   "metadata": {},
   "outputs": [],
   "source": [
    "# server.py\n",
    "# 从wsgiref模块导入:\n",
    "from wsgiref.simple_server import make_server\n",
    "# 导入我们自己编写的application函数:\n",
    "from hello import application\n",
    "\n",
    "# 创建一个服务器，IP地址为空，端口是8000，处理函数是application:\n",
    "httpd = make_server('', 8000, application)\n",
    "print('Serving HTTP on port 8000...')\n",
    "# 开始监听HTTP请求:\n",
    "httpd.serve_forever()"
   ]
  },
  {
   "cell_type": "markdown",
   "metadata": {},
   "source": [
    "确保以上两个文件在同一个目录下，然后在命令行输入`python server.py`来启动WSGI服务器。注意：如果8000端口已被其他程序占用，启动将失败，请修改成其他端口。启动成功后，打开浏览器，输入`http://localhost:8000/`，就可以看到结果了：\n",
    "![image](http://ws1.sinaimg.cn/large/69d4185bly1fnh4g9q2oaj20ny06tmxj.jpg)"
   ]
  },
  {
   "cell_type": "markdown",
   "metadata": {},
   "source": [
    "如果你觉得这个Web应用太简单了，可以稍微改造一下，从`environ`里读取`PATH_INFO`，这样可以显示更加动态的内容："
   ]
  },
  {
   "cell_type": "code",
   "execution_count": null,
   "metadata": {},
   "outputs": [],
   "source": [
    "# hello.py\n",
    "\n",
    "def application(environ, start_response):\n",
    "    start_response('200 OK', [('Content-Type', 'text/html')])\n",
    "    body = '<h1>Hello, %s!</h1>' % (environ['PATH_INFO'][1:] or 'web')\n",
    "    return [body.encode('utf-8')]"
   ]
  },
  {
   "cell_type": "markdown",
   "metadata": {},
   "source": [
    "你可以在地址栏输入用户名作为URL的一部分，将返回`Hello, xxx!`：\n",
    "![image](http://ws1.sinaimg.cn/large/69d4185bly1fnh4k81df5j20og045jrk.jpg)"
   ]
  },
  {
   "cell_type": "markdown",
   "metadata": {},
   "source": [
    "## 使用Web框架\n",
    "了解了WSGI框架，我们发现：其实一个Web App，就是写一个WSGI的处理函数，针对每个HTTP请求进行响应。但是如何处理HTTP请求不是问题，问题是如何处理100个不同的URL。每一个URL可以对应GET和POST请求，当然还有PUT、DELETE等请求，但是我们通常只考虑最常见的GET和POST请求。一个最简单的想法是从`environ`变量里取出HTTP请求的信息，然后逐个判断：\n",
    "```python\n",
    "def application(environ, start_response):\n",
    "    method = environ['REQUEST_METHOD']\n",
    "    path = environ['PATH_INFO']\n",
    "    if method=='GET' and path=='/':\n",
    "        return handle_home(environ, start_response)\n",
    "    if method=='POST' and path='/signin':\n",
    "        return handle_signin(environ, start_response)\n",
    "    ...\n",
    "```\n",
    "只是这么写下去代码是肯定没法维护了。代码这么写没法维护的原因是因为WSGI提供的接口虽然比HTTP接口高级了不少，但和Web App的处理逻辑比，还是比较低级，我们需要在WSGI接口之上能进一步抽象，让我们专注于用一个函数处理一个URL，至于URL到函数的映射，就交给Web框架来做。\n",
    "\n",
    "由于用Python开发一个Web框架十分容易，所以Python有上百个开源的Web框架。这里我们先不讨论各种Web框架的优缺点，直接选择一个比较流行的Web框架——[Flask](http://flask.pocoo.org/)来使用。\n",
    "\n",
    "用Flask编写Web App比WSGI接口简单（这不是废话么，要是比WSGI还复杂，用框架干嘛？），我们先用pip安装Flask：\n",
    "```shell\n",
    "pip install flask\n",
    "```"
   ]
  },
  {
   "cell_type": "markdown",
   "metadata": {},
   "source": [
    "然后写一个app.py，处理3个URL，分别是：\n",
    "- `GET /`：首页，返回`Home`；\n",
    "- `GET /signin`：登录页，显示登录表单；\n",
    "- `POST /signin`：处理登录表单，显示登录结果。\n",
    "\n",
    "注意噢，同一个`URL/signin`分别有GET和POST两种请求，映射到两个处理函数中。\n",
    "\n",
    "Flask通过Python的装饰器在内部自动地把URL和函数给关联起来，所以，我们写出来的代码就像这样："
   ]
  },
  {
   "cell_type": "code",
   "execution_count": null,
   "metadata": {},
   "outputs": [],
   "source": [
    "from flask import Flask\n",
    "from flask import request\n",
    "\n",
    "app = Flask(__name__)\n",
    "\n",
    "@app.route('/', methods=['GET', 'POST'])\n",
    "def home():\n",
    "    return '<h1>Home</h1>'\n",
    "\n",
    "@app.route('/signin', methods=['GET'])\n",
    "def signin_form():\n",
    "    return '''<form action=\"/signin\" method=\"post\">\n",
    "              <p><input name=\"username\"></p>\n",
    "              <p><input name=\"password\" type=\"password\"></p>\n",
    "              <p><button type=\"submit\">Sign In</button></p>\n",
    "              </form>'''\n",
    "\n",
    "@app.route('/signin', methods=['POST'])\n",
    "def signin():\n",
    "    # 需要从request对象读取表单内容：\n",
    "    if request.form['username']=='admin' and request.form['password']=='password':\n",
    "        return '<h3>Hello, admin!</h3>'\n",
    "    return '<h3>Bad username or password.</h3>'\n",
    "\n",
    "if __name__ == '__main__':\n",
    "    app.run()"
   ]
  },
  {
   "cell_type": "markdown",
   "metadata": {},
   "source": [
    "运行`python app.py`，Flask自带的Server在端口5000上监听。打开浏览器，\n",
    "- 输入首页地址`http://localhost:5000/`；![image](http://ws1.sinaimg.cn/large/69d4185bly1fnh5eatdx1j206a02cjr6.jpg)\n",
    "- 再在浏览器地址栏输入`http://localhost:5000/signin`，会显示登录表单；![image](http://ws1.sinaimg.cn/large/69d4185bly1fnh5eucda3j207u0423yb.jpg)\n",
    "- 输入预设的用户名`admin`和口令`password`，登录成功；![image](http://ws1.sinaimg.cn/large/69d4185bly1fnh5fc4d5kj208e02f0sj.jpg)\n",
    "- 输入其他错误的用户名和口令，登录失败。![image](http://ws1.sinaimg.cn/large/69d4185bly1fnh5fqfqeuj208d031dfo.jpg)"
   ]
  },
  {
   "cell_type": "markdown",
   "metadata": {},
   "source": [
    "实际的Web App应该拿到用户名和口令后，去数据库查询再比对，来判断用户是否能登录成功。\n",
    "\n",
    "除了Flask，常见的Python Web框架还有：\n",
    "- [Django](https://www.djangoproject.com/)：全能型Web框架；\n",
    "- [web.py](http://webpy.org/)：一个小巧的Web框架；\n",
    "- [Bottle](http://bottlepy.org/)：和Flask类似的Web框架；\n",
    "- [Tornado](http://www.tornadoweb.org/)：Facebook的开源异步Web框架。\n",
    "\n",
    "当然了，因为开发Python的Web框架也不是什么难事，我们后面也会讲到开发Web框架的内容。"
   ]
  },
  {
   "cell_type": "markdown",
   "metadata": {},
   "source": [
    "## 使用模板\n",
    "Web框架把我们从WSGI中拯救出来了。现在，我们只需要不断地编写函数，带上URL，就可以继续Web App的开发了。\n",
    "\n",
    "但是，Web App不仅仅是处理逻辑，展示给用户的页面也非常重要。在函数中返回一个包含HTML的字符串，简单的页面还可以，但是，想想新浪首页的6000多行的HTML，你确信能在Python的字符串中正确地写出来么？反正我是做不到。\n",
    "\n",
    "俗话说得好，不懂前端的Python工程师不是好的产品经理。有Web开发经验的同学都明白，Web App最复杂的部分就在HTML页面。HTML不仅要正确，还要通过CSS美化，再加上复杂的JavaScript脚本来实现各种交互和动画效果。总之，生成HTML页面的难度很大。\n",
    "\n",
    "由于在Python代码里拼字符串是不现实的，所以，模板技术出现了。使用模板，我们需要预先准备一个HTML文档，这个HTML文档不是普通的HTML，而是嵌入了一些变量和指令，然后，根据我们传入的数据，替换后，得到最终的HTML，发送给用户：\n",
    "![img](https://ws1.sinaimg.cn/large/69d4185bly1fnh5ntjeivj20eq09gdgk.jpg)"
   ]
  },
  {
   "cell_type": "markdown",
   "metadata": {},
   "source": [
    "这就是传说中的MVC：Model-View-Controller，中文名“模型-视图-控制器”。\n",
    "\n",
    "Python处理URL的函数就是C：Controller，Controller负责业务逻辑，比如检查用户名是否存在，取出用户信息等等；包含变量`{{ name }}`的模板就是V：View，View负责显示逻辑，通过简单地替换一些变量，View最终输出的就是用户看到的HTML。MVC中的Model在哪？Model是用来传给View的，这样View在替换变量的时候，就可以从Model中取出相应的数据。\n",
    "\n",
    "上面的例子中，Model就是一个dict：`{ 'name': 'Michael' }`。\n",
    "\n",
    "只是因为Python支持关键字参数，很多Web框架允许传入关键字参数，然后，在框架内部组装出一个`dict`作为Model。现在，我们把上次直接输出字符串作为HTML的例子用高端大气上档次的MVC模式改写一下："
   ]
  },
  {
   "cell_type": "code",
   "execution_count": null,
   "metadata": {},
   "outputs": [],
   "source": [
    "from flask import Flask, request, render_template\n",
    "\n",
    "app = Flask(__name__)\n",
    "\n",
    "@app.route('/', methods=['GET', 'POST'])\n",
    "def home():\n",
    "    return render_template('home.html')\n",
    "\n",
    "@app.route('/signin', methods=['GET'])\n",
    "def signin_form():\n",
    "    return render_template('form.html')\n",
    "\n",
    "@app.route('/signin', methods=['POST'])\n",
    "def signin():\n",
    "    username = request.form['username']\n",
    "    password = request.form['password']\n",
    "    if username=='admin' and password=='password':\n",
    "        return render_template('signin-ok.html', username=username)\n",
    "    return render_template('form.html', message='Bad username or password', username=username)\n",
    "\n",
    "if __name__ == '__main__':\n",
    "    app.run()"
   ]
  },
  {
   "cell_type": "markdown",
   "metadata": {},
   "source": [
    "Flask通过`render_template()`函数来实现模板的渲染。和Web框架类似，Python的模板也有很多种。Flask默认支持的模板是[jinja2](http://jinja.pocoo.org/)，所以我们先直接安装jinja2：`pip install jinja2`。然后，开始编写jinja2模板。\n",
    "- home.html，用来显示首页的模板\n",
    "```html\n",
    "<html>\n",
    "<head>\n",
    "  <title>Home</title>\n",
    "</head>\n",
    "<body>\n",
    "  <h1 style=\"font-style:italic\">Home</h1>\n",
    "</body>\n",
    "</html>\n",
    "```\n",
    "- form.html， 用来显示登录表单的模板：\n",
    "```html\n",
    "<html>\n",
    "<head>\n",
    "  <title>Please Sign In</title>\n",
    "</head>\n",
    "<body>\n",
    "  {% if message %}\n",
    "  <p style=\"color:red\">{{ message }}</p>\n",
    "  {% endif %}\n",
    "  <form action=\"/signin\" method=\"post\">\n",
    "    <legend>Please sign in:</legend>\n",
    "    <p><input name=\"username\" placeholder=\"Username\" value=\"{{ username }}\"></p>\n",
    "    <p><input name=\"password\" placeholder=\"Password\" type=\"password\"></p>\n",
    "    <p><button type=\"submit\">Sign In</button></p>\n",
    "  </form>\n",
    "</body>\n",
    "</html>\n",
    "```"
   ]
  },
  {
   "cell_type": "markdown",
   "metadata": {},
   "source": [
    "- signin-ok.html，登录成功的模板：\n",
    "```html\n",
    "<html>\n",
    "<head>\n",
    "  <title>Welcome, {{ username }}</title>\n",
    "</head>\n",
    "<body>\n",
    "  <p>Welcome, {{ username }}!</p>\n",
    "</body>\n",
    "</html>\n",
    "```\n",
    "登录失败的模板呢？我们在`form.html`中加了一点条件判断，把`form.html`重用为登录失败的模板。最后，一定要把模板放到正确的`templates`目录下，`templates`和`app.py`在同级目录下。\n",
    "\n",
    "启动`python app.py`，看看使用模板的页面效果：\n",
    "![image](http://ws1.sinaimg.cn/large/69d4185bly1fnh6hxo4r7j207q06fq2t.jpg)"
   ]
  },
  {
   "cell_type": "markdown",
   "metadata": {},
   "source": [
    "通过MVC，我们在Python代码中处理M：Model和C：Controller，而V：View是通过模板处理的，这样，我们就成功地把Python代码和HTML代码最大限度地分离了。\n",
    "\n",
    "使用模板的另一大好处是，模板改起来很方便，而且，改完保存后，刷新浏览器就能看到最新的效果，这对于调试HTML、CSS和JavaScript的前端工程师来说实在是太重要了。\n",
    "\n",
    "在Jinja2模板中，我们用`{{ name }}`表示一个需要替换的变量。很多时候，还需要循环、条件判断等指令语句，在Jinja2中，用`{% ... %}`表示指令。\n",
    "\n",
    "比如循环输出页码：\n",
    "```\n",
    "{% for i in page_list %}\n",
    "    <a href=\"/page/{{ i }}\">{{ i }}</a>\n",
    "{% endfor %}\n",
    "```\n",
    "如果page_list是一个list：[1, 2, 3, 4, 5]，上面的模板将输出5个超链接。\n",
    "\n",
    "除了Jinja2，常见的模板还有：\n",
    "- [Mako](http://www.makotemplates.org/)：用`<% ... %>`和`${xxx}`的一个模板；\n",
    "- [Cheetah](http://www.cheetahtemplate.org/)：也是用`<% ... %>`和`${xxx}`的一个模板；\n",
    "- [Django](https://www.djangoproject.com/)：Django是一站式框架，内置一个用`{% ... %}`和`{{ xxx }}`的模板。"
   ]
  },
  {
   "cell_type": "markdown",
   "metadata": {},
   "source": [
    "## 参考\n",
    "\n",
    "1、[web开发 - 廖雪峰](https://www.liaoxuefeng.com/wiki/0014316089557264a6b348958f449949df42a6d3a2e542c000/0014320118765877e93ecea4e6449acb157e9efae8b40b6000)\n",
    "\n",
    "2、[HTTP协议 - 廖雪峰](https://www.liaoxuefeng.com/wiki/0014316089557264a6b348958f449949df42a6d3a2e542c000/001432011939547478fd5482deb47b08716557cc99764e0000)\n",
    "\n",
    "3、[WSGI接口 - 廖雪峰](https://www.liaoxuefeng.com/wiki/0014316089557264a6b348958f449949df42a6d3a2e542c000/001432012393132788f71e0edad4676a3f76ac7776f3a16000)\n",
    "\n",
    "4、[使用Web框架 - 廖雪峰](https://www.liaoxuefeng.com/wiki/0014316089557264a6b348958f449949df42a6d3a2e542c000/001432012745805707cb9f00a484d968c72dbb7cfc90b91000)\n",
    "\n",
    "5、[使用模板 - 廖雪峰](https://www.liaoxuefeng.com/wiki/0014316089557264a6b348958f449949df42a6d3a2e542c000/0014320129740415df73bf8f81e478982bf4d5c8aa3817a000)"
   ]
  }
 ],
 "metadata": {
  "kernelspec": {
   "display_name": "Python 3",
   "language": "python",
   "name": "python3"
  },
  "language_info": {
   "codemirror_mode": {
    "name": "ipython",
    "version": 3
   },
   "file_extension": ".py",
   "mimetype": "text/x-python",
   "name": "python",
   "nbconvert_exporter": "python",
   "pygments_lexer": "ipython3",
   "version": "3.6.3"
  },
  "toc": {
   "nav_menu": {},
   "number_sections": true,
   "sideBar": true,
   "skip_h1_title": false,
   "toc_cell": false,
   "toc_position": {
    "height": "560px",
    "left": "0px",
    "right": "1120px",
    "top": "111px",
    "width": "246px"
   },
   "toc_section_display": "block",
   "toc_window_display": true
  }
 },
 "nbformat": 4,
 "nbformat_minor": 2
}
