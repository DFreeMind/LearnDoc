{
 "cells": [
  {
   "cell_type": "markdown",
   "metadata": {},
   "source": [
    "![image](http://wx2.sinaimg.cn/thumbnail/69d4185bly1fmf9kfagd3j20ek0ekq88.jpg)\n",
    "# List 与 Tuple"
   ]
  },
  {
   "cell_type": "markdown",
   "metadata": {},
   "source": [
    "## List\n",
    "`List` 是 python 内置的基本类型之一，`List` 是一个**有序**的集合，可以随时增删元素。可以通过如下方式创建一个含有国家的 List。"
   ]
  },
  {
   "cell_type": "code",
   "execution_count": 1,
   "metadata": {},
   "outputs": [],
   "source": [
    "countrys = [\"China\",\"Japan\",\"South Korea\"]"
   ]
  },
  {
   "cell_type": "markdown",
   "metadata": {},
   "source": [
    "通过 len 方法可以查看 list的大小"
   ]
  },
  {
   "cell_type": "code",
   "execution_count": 2,
   "metadata": {},
   "outputs": [
    {
     "name": "stdout",
     "output_type": "stream",
     "text": [
      "3\n"
     ]
    }
   ],
   "source": [
    "print(len(countrys))"
   ]
  },
  {
   "cell_type": "markdown",
   "metadata": {},
   "source": [
    "### 访问元素\n",
    "通过索引可以访问 List 中的元素，python 中的 List 索引是从 0 开始，因此索引的最大值应为`len(List) - 1`，访问时使用 `[]`。若索引的值超出了 List 的长度，会报 `IndexError` 错误。"
   ]
  },
  {
   "cell_type": "code",
   "execution_count": 4,
   "metadata": {},
   "outputs": [
    {
     "name": "stdout",
     "output_type": "stream",
     "text": [
      "China\n",
      "South Korea\n"
     ]
    },
    {
     "ename": "IndexError",
     "evalue": "list index out of range",
     "output_type": "error",
     "traceback": [
      "\u001b[1;31m---------------------------------------------------------------------------\u001b[0m",
      "\u001b[1;31mIndexError\u001b[0m                                Traceback (most recent call last)",
      "\u001b[1;32m<ipython-input-4-a00e36e20ba5>\u001b[0m in \u001b[0;36m<module>\u001b[1;34m()\u001b[0m\n\u001b[0;32m      1\u001b[0m \u001b[0mprint\u001b[0m\u001b[1;33m(\u001b[0m\u001b[0mcountrys\u001b[0m\u001b[1;33m[\u001b[0m\u001b[1;36m0\u001b[0m\u001b[1;33m]\u001b[0m\u001b[1;33m)\u001b[0m\u001b[1;33m\u001b[0m\u001b[0m\n\u001b[0;32m      2\u001b[0m \u001b[0mprint\u001b[0m\u001b[1;33m(\u001b[0m\u001b[0mcountrys\u001b[0m\u001b[1;33m[\u001b[0m\u001b[1;36m2\u001b[0m\u001b[1;33m]\u001b[0m\u001b[1;33m)\u001b[0m\u001b[1;33m\u001b[0m\u001b[0m\n\u001b[1;32m----> 3\u001b[1;33m \u001b[0mprint\u001b[0m\u001b[1;33m(\u001b[0m\u001b[0mcountrys\u001b[0m\u001b[1;33m[\u001b[0m\u001b[1;36m3\u001b[0m\u001b[1;33m]\u001b[0m\u001b[1;33m)\u001b[0m\u001b[1;33m\u001b[0m\u001b[0m\n\u001b[0m",
      "\u001b[1;31mIndexError\u001b[0m: list index out of range"
     ]
    }
   ],
   "source": [
    "print(countrys[0])\n",
    "print(countrys[2])\n",
    "print(countrys[3])"
   ]
  },
  {
   "cell_type": "markdown",
   "metadata": {},
   "source": [
    "快速的访问 List 的最后一个元素也可以使用 `-1`，一次类推`-2`则表示倒数第二个元素。"
   ]
  },
  {
   "cell_type": "code",
   "execution_count": 6,
   "metadata": {},
   "outputs": [
    {
     "name": "stdout",
     "output_type": "stream",
     "text": [
      "South Korea\n",
      "China\n"
     ]
    },
    {
     "ename": "IndexError",
     "evalue": "list index out of range",
     "output_type": "error",
     "traceback": [
      "\u001b[1;31m---------------------------------------------------------------------------\u001b[0m",
      "\u001b[1;31mIndexError\u001b[0m                                Traceback (most recent call last)",
      "\u001b[1;32m<ipython-input-6-0b2126b43faf>\u001b[0m in \u001b[0;36m<module>\u001b[1;34m()\u001b[0m\n\u001b[0;32m      2\u001b[0m \u001b[0mprint\u001b[0m\u001b[1;33m(\u001b[0m\u001b[0mcountrys\u001b[0m\u001b[1;33m[\u001b[0m\u001b[1;33m-\u001b[0m\u001b[1;36m3\u001b[0m\u001b[1;33m]\u001b[0m\u001b[1;33m)\u001b[0m\u001b[1;33m\u001b[0m\u001b[0m\n\u001b[0;32m      3\u001b[0m \u001b[1;31m# 操作索引范围会报错\u001b[0m\u001b[1;33m\u001b[0m\u001b[1;33m\u001b[0m\u001b[0m\n\u001b[1;32m----> 4\u001b[1;33m \u001b[0mprint\u001b[0m\u001b[1;33m(\u001b[0m\u001b[0mcountrys\u001b[0m\u001b[1;33m[\u001b[0m\u001b[1;33m-\u001b[0m\u001b[1;36m4\u001b[0m\u001b[1;33m]\u001b[0m\u001b[1;33m)\u001b[0m\u001b[1;33m\u001b[0m\u001b[0m\n\u001b[0m",
      "\u001b[1;31mIndexError\u001b[0m: list index out of range"
     ]
    }
   ],
   "source": [
    "print(countrys[-1])\n",
    "print(countrys[-3])\n",
    "# 操作索引范围会报错\n",
    "print(countrys[-4])"
   ]
  },
  {
   "cell_type": "markdown",
   "metadata": {},
   "source": [
    "### 添加元素\n",
    "List 大小是可变的，可以通过 `append` 方法向 List 追加元素，`append` 是向List最后边追加，若要想在制定的位置插入，可以使用 `insert(index, value)` ，相应的原位置上的元素后移。"
   ]
  },
  {
   "cell_type": "code",
   "execution_count": 7,
   "metadata": {},
   "outputs": [
    {
     "name": "stdout",
     "output_type": "stream",
     "text": [
      "['China', 'Japan', 'South Korea', 'Russia']\n",
      "['China', 'Japan', 'French', 'South Korea', 'Russia']\n"
     ]
    }
   ],
   "source": [
    "countrys.append(\"Russia\")\n",
    "print(countrys)\n",
    "\n",
    "countrys.insert(2, \"French\")\n",
    "print(countrys)"
   ]
  },
  {
   "cell_type": "markdown",
   "metadata": {},
   "source": [
    "### 删除元素\n",
    "删除 List 中的元素可以使用 `pop`，无参数的 `pop()`默认删除最后一个元素，有索引的 `pop(index)` 删除指定位置的元素。"
   ]
  },
  {
   "cell_type": "code",
   "execution_count": 8,
   "metadata": {},
   "outputs": [
    {
     "name": "stdout",
     "output_type": "stream",
     "text": [
      "['China', 'Japan', 'French', 'South Korea', 'Russia']\n",
      "['China', 'Japan', 'French', 'South Korea']\n",
      "['China', 'French', 'South Korea']\n"
     ]
    }
   ],
   "source": [
    "print(countrys)\n",
    "countrys.pop()\n",
    "print(countrys)\n",
    "countrys.pop(1)\n",
    "print(countrys)"
   ]
  },
  {
   "cell_type": "markdown",
   "metadata": {},
   "source": [
    "去除重复的元素，可以使用 set 将 list 转成 set，或使用 dict 通过 fromkeys() 将 list 转成 dict 的 key，再去获取 dict 的 key 即可。"
   ]
  },
  {
   "cell_type": "code",
   "execution_count": 2,
   "metadata": {},
   "outputs": [
    {
     "name": "stdout",
     "output_type": "stream",
     "text": [
      "{0, 1, 2, 4, 5, 6, 7, 8, 9}\n",
      "{1: None, 2: None, 4: None, 5: None, 6: None, 7: None, 8: None, 9: None, 0: None}\n"
     ]
    },
    {
     "data": {
      "text/plain": [
       "[1, 2, 4, 5, 6, 7, 8, 9, 0]"
      ]
     },
     "execution_count": 2,
     "metadata": {},
     "output_type": "execute_result"
    }
   ],
   "source": [
    "a=[1,2,4,2,4,5,6,5,7,8,9,0]\n",
    "print(set(a))\n",
    "b={}\n",
    "b=b.fromkeys(a)\n",
    "print(b)\n",
    "c=list(b.keys())\n",
    "c"
   ]
  },
  {
   "cell_type": "markdown",
   "metadata": {},
   "source": [
    "### 置换元素\n",
    "置换 List 中的元素，可以通过索引访问到元素之后使用`=`赋值语句改变该位置上的值。"
   ]
  },
  {
   "cell_type": "code",
   "execution_count": 9,
   "metadata": {},
   "outputs": [
    {
     "name": "stdout",
     "output_type": "stream",
     "text": [
      "['China', 'French', 'South Korea']\n",
      "['China', 'Japan', 'South Korea']\n"
     ]
    }
   ],
   "source": [
    "print(countrys)\n",
    "countrys[1] = \"Japan\"\n",
    "print(countrys)"
   ]
  },
  {
   "cell_type": "markdown",
   "metadata": {},
   "source": [
    "### List中数据类型及嵌套List\n",
    "List中的元素可以是同一种类型的数据也可以是不同类型的数据，甚至可以是一个其他对象，因此List中可以嵌套另一个List，甚至形成多级嵌套，当然并不推荐将List的嵌套层级设置过多。"
   ]
  },
  {
   "cell_type": "code",
   "execution_count": 10,
   "metadata": {},
   "outputs": [],
   "source": [
    "# 不同的数据类型\n",
    "list1 = [\"Person\", \"Animal\",26,38]\n",
    "\n",
    "# 嵌套List\n",
    "list2 = [\"Person\",[\"Name\",\"weduoo\",\"Age\",28],\"animal\",26,38]\n",
    "\n",
    "# 对象类型\n",
    "p = [\"Name\",\"weduoo\",\"Age\",28]\n",
    "list3 = [\"Person\",p,\"animal\"]"
   ]
  },
  {
   "cell_type": "markdown",
   "metadata": {},
   "source": [
    "对于嵌套的list可以使用多个`[]`来访问。"
   ]
  },
  {
   "cell_type": "code",
   "execution_count": 11,
   "metadata": {},
   "outputs": [
    {
     "name": "stdout",
     "output_type": "stream",
     "text": [
      "['Name', 'weduoo', 'Age', 28]\n",
      "weduoo\n"
     ]
    }
   ],
   "source": [
    "# 访问第一级\n",
    "print(list3[1])\n",
    "# 访问第二级\n",
    "print(list3[1][1])"
   ]
  },
  {
   "cell_type": "markdown",
   "metadata": {},
   "source": [
    "### 列表推导（list comprehension）\n",
    "结合 for 循环与 list 使用列表推导可以快速的生成新的 list，如下："
   ]
  },
  {
   "cell_type": "code",
   "execution_count": 2,
   "metadata": {},
   "outputs": [
    {
     "name": "stdout",
     "output_type": "stream",
     "text": [
      "[1, 4, 9, 16, 25, 36, 49, 64, 81, 100]\n",
      "[1, 4, 9, 16, 25, 36, 49, 64, 81, 100]\n"
     ]
    }
   ],
   "source": [
    "# 一般写法\n",
    "sqlist=[]\n",
    "for x in range(1,11):\n",
    "     sqlist.append(x*x)\n",
    "print(sqlist)\n",
    "\n",
    "# 使用列表推导的写法，一步完成\n",
    "sqlist=[x*x for x in range(1,11)]\n",
    "print(sqlist)"
   ]
  },
  {
   "cell_type": "code",
   "execution_count": null,
   "metadata": {},
   "outputs": [],
   "source": [
    "# 选择需要的数据进行生成\n",
    "sqlist=[x*x for x in range(1,11) if x%2 != 0] # 只要奇数\n",
    "print(sqlist)"
   ]
  },
  {
   "cell_type": "markdown",
   "metadata": {},
   "source": [
    "任何序列只要支持迭代都可以使用列表推导："
   ]
  },
  {
   "cell_type": "code",
   "execution_count": 3,
   "metadata": {},
   "outputs": [
    {
     "data": {
      "text/plain": [
       "['C', 'M', 'P', 'R', 'H', 'N', 'S', 'N']"
      ]
     },
     "execution_count": 3,
     "metadata": {},
     "output_type": "execute_result"
    }
   ],
   "source": [
    "[ch.upper() for ch in 'comprehension' if ch not in 'aeiou']"
   ]
  },
  {
   "cell_type": "markdown",
   "metadata": {},
   "source": [
    "### 练习\n",
    "使用列表推导从`wordlist = ['cat','dog','rabbit']`生成如下的结果：\n",
    "1. `['c', 'a', 't', 'd', 'o', 'g', 'r', 'a', 'b', 'b', 'i', 't']`\n",
    "2. 去除重复值的`['c', 'a', 't', 'd', 'o', 'g', 'r', 'a', 'b', 'i']`"
   ]
  },
  {
   "cell_type": "code",
   "execution_count": 9,
   "metadata": {},
   "outputs": [
    {
     "name": "stdout",
     "output_type": "stream",
     "text": [
      "['c', 'a', 't', 'd', 'o', 'g', 'r', 'a', 'b', 'b', 'i', 't']\n",
      "['c', 'a', 't', 'd', 'o', 'g', 'r', 'a', 'b', 'b', 'i', 't']\n",
      "['c', 'a', 't', 'd', 'o', 'g', 'r', 'a', 'b', 'b', 'i', 't']\n"
     ]
    }
   ],
   "source": [
    "# 生成单独列表\n",
    "# 第一种写法：\n",
    "wordlist = ['cat','dog','rabbit']\n",
    "letterlist = [ch for word in wordlist for ch in word]\n",
    "print(letterlist)\n",
    "\n",
    "# 第二种写法：\n",
    "print([ch for ch in \"\".join(wordlist)])\n",
    "\n",
    "# 第三种写法：\n",
    "print([word[i] for word in wordlist for i in range(len(word))])"
   ]
  },
  {
   "cell_type": "markdown",
   "metadata": {},
   "source": [
    "第二种写法的生成过程如下：![image](http://ws3.sinaimg.cn/large/69d4185bly1fnxb0nd7cdg20mb09amzk.gif)"
   ]
  },
  {
   "cell_type": "code",
   "execution_count": 8,
   "metadata": {},
   "outputs": [
    {
     "name": "stdout",
     "output_type": "stream",
     "text": [
      "['o', 'r', 'a', 't', 'i', 'b', 'g', 'c', 'd']\n"
     ]
    }
   ],
   "source": [
    "# 去除重复值，将上述三种写法放入set中在转成list即可\n",
    "print(list(set([word[i] for word in wordlist for i in range(len(word))])))"
   ]
  },
  {
   "cell_type": "markdown",
   "metadata": {},
   "source": [
    " ### 总结\n",
    " List 支持的操作：\n",
    "\n",
    "| Operation Name      | [ ]   | Access an element of a sequence         |\n",
    "| ------------- | ----- | --------------------------------------- |\n",
    "| indexing      | [ ]   | Access an element of a sequence         |\n",
    "| concatenation | +     | Combine sequences together              |\n",
    "| repetition    | *     | Concatenate a repeated number of times,   |\n",
    "| membership    | in    | Ask whether an item is in a sequence    |\n",
    "| length        | len   | Ask the number of items in the sequence |\n",
    "| slicing       | [ : ] | Extract a part of a sequence            |\n",
    "|               |       |                                         |"
   ]
  },
  {
   "cell_type": "code",
   "execution_count": 9,
   "metadata": {},
   "outputs": [
    {
     "name": "stdout",
     "output_type": "stream",
     "text": [
      "[[1, 2, 3, 4], [1, 2, 3, 4], [1, 2, 3, 4]]\n",
      "[[1, 2, 45, 4], [1, 2, 45, 4], [1, 2, 45, 4]]\n"
     ]
    }
   ],
   "source": [
    "myList = [1,2,3,4]\n",
    "A = [myList]*3\n",
    "print(A)\n",
    "myList[2]=45\n",
    "print(A)"
   ]
  },
  {
   "cell_type": "markdown",
   "metadata": {},
   "source": [
    "上述的动态过程可查看参考2文章中的动态过程（点击 show codelens 即可看到），整合图如下：![image](http://ws3.sinaimg.cn/large/69d4185bly1fnu2oix24hj20gz0cet92.jpg)"
   ]
  },
  {
   "cell_type": "markdown",
   "metadata": {},
   "source": [
    "动图如下：![image](http://ws3.sinaimg.cn/large/69d4185bly1fnu2wocjk3g20lo09q0th.gif)"
   ]
  },
  {
   "cell_type": "markdown",
   "metadata": {},
   "source": [
    "list 中常见的操作：![image](http://ws4.sinaimg.cn/large/69d4185bly1fnu3n7wtfij20iw0ay74n.jpg)\n",
    "\n",
    "操作示意图如下：![image](http://ws4.sinaimg.cn/large/69d4185bly1fnu3np4qu5g20mw0csmyl.gif)"
   ]
  },
  {
   "cell_type": "code",
   "execution_count": null,
   "metadata": {},
   "outputs": [],
   "source": []
  },
  {
   "cell_type": "markdown",
   "metadata": {},
   "source": [
    "## Tuple\n",
    "Tuple 与 List类似都是有序的，但Tupe中的元素不可修改。使用`()`可以创建一个元组，同样可以通过角标来访问 Tuple中的元素，但Tuple没有append和insert来改变Tuple的值。"
   ]
  },
  {
   "cell_type": "code",
   "execution_count": 12,
   "metadata": {},
   "outputs": [
    {
     "name": "stdout",
     "output_type": "stream",
     "text": [
      "China\n",
      "Japan\n"
     ]
    },
    {
     "ename": "IndexError",
     "evalue": "tuple index out of range",
     "output_type": "error",
     "traceback": [
      "\u001b[1;31m---------------------------------------------------------------------------\u001b[0m",
      "\u001b[1;31mIndexError\u001b[0m                                Traceback (most recent call last)",
      "\u001b[1;32m<ipython-input-12-1676e9487cd2>\u001b[0m in \u001b[0;36m<module>\u001b[1;34m()\u001b[0m\n\u001b[0;32m      5\u001b[0m \u001b[0mprint\u001b[0m\u001b[1;33m(\u001b[0m\u001b[0mt_countrys\u001b[0m\u001b[1;33m[\u001b[0m\u001b[1;36m0\u001b[0m\u001b[1;33m]\u001b[0m\u001b[1;33m)\u001b[0m\u001b[1;33m\u001b[0m\u001b[0m\n\u001b[0;32m      6\u001b[0m \u001b[0mprint\u001b[0m\u001b[1;33m(\u001b[0m\u001b[0mt_countrys\u001b[0m\u001b[1;33m[\u001b[0m\u001b[1;36m1\u001b[0m\u001b[1;33m]\u001b[0m\u001b[1;33m)\u001b[0m\u001b[1;33m\u001b[0m\u001b[0m\n\u001b[1;32m----> 7\u001b[1;33m \u001b[0mprint\u001b[0m\u001b[1;33m(\u001b[0m\u001b[0mt_countrys\u001b[0m\u001b[1;33m[\u001b[0m\u001b[1;36m3\u001b[0m\u001b[1;33m]\u001b[0m\u001b[1;33m)\u001b[0m\u001b[1;33m\u001b[0m\u001b[0m\n\u001b[0m",
      "\u001b[1;31mIndexError\u001b[0m: tuple index out of range"
     ]
    }
   ],
   "source": [
    "# 创建元组\n",
    "t_countrys = (\"China\",\"Japan\",\"South Korea\")\n",
    "\n",
    "# 访问元组元素\n",
    "print(t_countrys[0])\n",
    "print(t_countrys[1])\n",
    "\n",
    "# 超出索引访问会报错\n",
    "print(t_countrys[3])"
   ]
  },
  {
   "cell_type": "markdown",
   "metadata": {},
   "source": [
    "### 一个元素的元组\n",
    "定义一个空的 tuple 可以直接写 `t = ()`，但在定义一个元素的元组时需要注意，如果写成 `t = (1)`，得到的结果并不是元组而是一个赋值语句 `t = 1`，这是因为`()`可以是数学运算的小括号，因此为了与此区分有一个元素的tuple可以写成`t = (1,)`"
   ]
  },
  {
   "cell_type": "code",
   "execution_count": 15,
   "metadata": {},
   "outputs": [
    {
     "name": "stdout",
     "output_type": "stream",
     "text": [
      "()\n",
      "1\n",
      "(1,)\n"
     ]
    }
   ],
   "source": [
    "# 空的元组\n",
    "print(())\n",
    "\n",
    "print((1))\n",
    "\n",
    "# 一个元素的tuple\n",
    "print((1,))"
   ]
  },
  {
   "cell_type": "markdown",
   "metadata": {},
   "source": [
    "### “可变”的元组\n",
    "元组的不可变性质的是元组元素的指向不可变，但指向的如果是一个可变的数据，那他的值也是变的。如下："
   ]
  },
  {
   "cell_type": "code",
   "execution_count": 16,
   "metadata": {},
   "outputs": [
    {
     "name": "stdout",
     "output_type": "stream",
     "text": [
      "('a', 'b', ['A', 'B'])\n",
      "('a', 'b', ['X', 'Y'])\n"
     ]
    }
   ],
   "source": [
    "t = ('a', 'b', ['A', 'B'])\n",
    "print(t)\n",
    "t[2][0] = 'X'\n",
    "t[2][1] = 'Y'\n",
    "print(t)"
   ]
  },
  {
   "cell_type": "markdown",
   "metadata": {},
   "source": [
    "在定义时tuple包含了三个元素：\n",
    "![image](http://wx1.sinaimg.cn/large/69d4185bly1fmkvq4js38j209q078743.jpg)\n",
    "当我们把list的元素'A'和'B'修改为'X'和'Y'后，tuple变为：\n",
    "![image](https://ws1.sinaimg.cn/large/69d4185bly1fmkvrj09vwj209q078743.jpg)\n",
    "\n",
    "表面上看，tuple的元素确实变了，但其实变的不是tuple的元素，而是list的元素。tuple一开始指向的list并没有改成别的list，所以，tuple所谓的“不变”是说，tuple的每个元素，指向永远不变。即指向'a'，就不能改成指向'b'，指向一个list，就不能改成指向其他对象，但指向的这个list本身是可变的！\n",
    "\n",
    "理解了“指向不变”后，要创建一个内容也不变的tuple怎么做？那就必须保证tuple的每一个元素本身也不能变。"
   ]
  },
  {
   "cell_type": "code",
   "execution_count": 19,
   "metadata": {},
   "outputs": [
    {
     "name": "stdout",
     "output_type": "stream",
     "text": [
      "['X', 'Y']\n",
      "('a', 'b', ['A', 'B'])\n"
     ]
    }
   ],
   "source": [
    "l = [\"A\",\"B\"]\n",
    "t1 = (\"a\",\"b\",l)\n",
    "l = [\"X\",\"Y\"]\n",
    "print(l)\n",
    "print(t1)"
   ]
  },
  {
   "cell_type": "markdown",
   "metadata": {},
   "source": [
    "以上的操作 `l` 的值已经改变，为什么`t1`的值没有改变呢？这是因为改变`l`时，改变了 `l` 的指向，但并没有改变`t1`中的指向，如下图：\n",
    "![image](http://wx3.sinaimg.cn/large/69d4185bly1fml126wxd8j20q507h3yl.jpg)"
   ]
  },
  {
   "cell_type": "markdown",
   "metadata": {},
   "source": [
    "【参考】\n",
    "\n",
    "1、[使用list和tuple - 廖雪峰](https://www.liaoxuefeng.com/wiki/0014316089557264a6b348958f449949df42a6d3a2e542c000/0014316724772904521142196b74a3f8abf93d8e97c6ee6000)\n",
    "\n",
    "2、[Built-in Collection Data Types](http://interactivepython.org/courselib/static/pythonds/Introduction/GettingStartedwithData.html#built-in-collection-data-types)\n",
    "\n",
    "3、[Control Structures](http://interactivepython.org/runestone/static/pythonds/Introduction/ControlStructures.html)"
   ]
  },
  {
   "cell_type": "code",
   "execution_count": 8,
   "metadata": {},
   "outputs": [
    {
     "name": "stdout",
     "output_type": "stream",
     "text": [
      "4502447440\n",
      "4502447472\n",
      "4502447440\n",
      "1\n"
     ]
    }
   ],
   "source": [
    "a = 1\n",
    "def fun(a):\n",
    "    print(id(a))\n",
    "    a = 2\n",
    "    print(id(a))\n",
    "fun(a)\n",
    "print(id(a))\n",
    "print (a)  # 1"
   ]
  },
  {
   "cell_type": "code",
   "execution_count": 12,
   "metadata": {},
   "outputs": [
    {
     "name": "stdout",
     "output_type": "stream",
     "text": [
      "4502447440\n",
      "4502447440\n",
      "4542452040\n",
      "4502447440\n"
     ]
    }
   ],
   "source": [
    "n = 1\n",
    "l = [1]\n",
    "print(id(1))\n",
    "print(id(n))\n",
    "print(id(l))\n",
    "print(id(l[0]))"
   ]
  },
  {
   "cell_type": "code",
   "execution_count": null,
   "metadata": {},
   "outputs": [],
   "source": []
  },
  {
   "cell_type": "code",
   "execution_count": null,
   "metadata": {},
   "outputs": [],
   "source": []
  },
  {
   "cell_type": "code",
   "execution_count": null,
   "metadata": {},
   "outputs": [],
   "source": []
  }
 ],
 "metadata": {
  "kernelspec": {
   "display_name": "Python 3",
   "language": "python",
   "name": "python3"
  },
  "language_info": {
   "codemirror_mode": {
    "name": "ipython",
    "version": 3
   },
   "file_extension": ".py",
   "mimetype": "text/x-python",
   "name": "python",
   "nbconvert_exporter": "python",
   "pygments_lexer": "ipython3",
   "version": "3.6.4"
  },
  "toc": {
   "base_numbering": 1,
   "nav_menu": {},
   "number_sections": true,
   "sideBar": true,
   "skip_h1_title": false,
   "title_cell": "Table of Contents",
   "title_sidebar": "Contents",
   "toc_cell": false,
   "toc_position": {
    "height": "507px",
    "left": "0px",
    "right": "1061px",
    "top": "111px",
    "width": "283px"
   },
   "toc_section_display": "block",
   "toc_window_display": true
  }
 },
 "nbformat": 4,
 "nbformat_minor": 2
}
