{
 "cells": [
  {
   "cell_type": "code",
   "execution_count": null,
   "metadata": {},
   "outputs": [],
   "source": []
  },
  {
   "cell_type": "markdown",
   "metadata": {},
   "source": [
    "# 性能\n",
    "## 性能测试"
   ]
  },
  {
   "cell_type": "code",
   "execution_count": 1,
   "metadata": {},
   "outputs": [],
   "source": [
    "def f1(lIn):\n",
    "    l1 = sorted(lIn)\n",
    "    l2 = [i for i in l1 if i<0.5]\n",
    "    return [i*i for i in l2]\n",
    "\n",
    "def f2(lIn):\n",
    "    l1 = [i for i in lIn if i<0.5]\n",
    "    l2 = sorted(l1)\n",
    "    return [i*i for i in l2]\n",
    "\n",
    "def f3(lIn):\n",
    "    l1 = [i*i for i in lIn]\n",
    "    l2 = sorted(l1)\n",
    "    return [i for i in l1 if i<(0.5*0.5)]"
   ]
  },
  {
   "cell_type": "code",
   "execution_count": 5,
   "metadata": {},
   "outputs": [
    {
     "name": "stdout",
     "output_type": "stream",
     "text": [
      "         7 function calls in 0.061 seconds\n",
      "\n",
      "   Ordered by: standard name\n",
      "\n",
      "   ncalls  tottime  percall  cumtime  percall filename:lineno(function)\n",
      "        1    0.000    0.000    0.058    0.058 <ipython-input-1-680fd28d947b>:1(f1)\n",
      "        1    0.007    0.007    0.007    0.007 <ipython-input-1-680fd28d947b>:3(<listcomp>)\n",
      "        1    0.005    0.005    0.005    0.005 <ipython-input-1-680fd28d947b>:4(<listcomp>)\n",
      "        1    0.003    0.003    0.061    0.061 <string>:1(<module>)\n",
      "        1    0.000    0.000    0.061    0.061 {built-in method builtins.exec}\n",
      "        1    0.047    0.047    0.047    0.047 {built-in method builtins.sorted}\n",
      "        1    0.000    0.000    0.000    0.000 {method 'disable' of '_lsprof.Profiler' objects}\n",
      "\n",
      "\n",
      "         7 function calls in 0.035 seconds\n",
      "\n",
      "   Ordered by: standard name\n",
      "\n",
      "   ncalls  tottime  percall  cumtime  percall filename:lineno(function)\n",
      "        1    0.000    0.000    0.034    0.034 <ipython-input-1-680fd28d947b>:6(f2)\n",
      "        1    0.007    0.007    0.007    0.007 <ipython-input-1-680fd28d947b>:7(<listcomp>)\n",
      "        1    0.005    0.005    0.005    0.005 <ipython-input-1-680fd28d947b>:9(<listcomp>)\n",
      "        1    0.001    0.001    0.035    0.035 <string>:1(<module>)\n",
      "        1    0.000    0.000    0.035    0.035 {built-in method builtins.exec}\n",
      "        1    0.022    0.022    0.022    0.022 {built-in method builtins.sorted}\n",
      "        1    0.000    0.000    0.000    0.000 {method 'disable' of '_lsprof.Profiler' objects}\n",
      "\n",
      "\n",
      "         7 function calls in 0.044 seconds\n",
      "\n",
      "   Ordered by: standard name\n",
      "\n",
      "   ncalls  tottime  percall  cumtime  percall filename:lineno(function)\n",
      "        1    0.000    0.000    0.041    0.041 <ipython-input-1-680fd28d947b>:11(f3)\n",
      "        1    0.005    0.005    0.005    0.005 <ipython-input-1-680fd28d947b>:12(<listcomp>)\n",
      "        1    0.004    0.004    0.004    0.004 <ipython-input-1-680fd28d947b>:14(<listcomp>)\n",
      "        1    0.002    0.002    0.044    0.044 <string>:1(<module>)\n",
      "        1    0.000    0.000    0.044    0.044 {built-in method builtins.exec}\n",
      "        1    0.032    0.032    0.032    0.032 {built-in method builtins.sorted}\n",
      "        1    0.000    0.000    0.000    0.000 {method 'disable' of '_lsprof.Profiler' objects}\n",
      "\n",
      "\n"
     ]
    }
   ],
   "source": [
    "# 对性能进行测试\n",
    "import cProfile\n",
    "import random\n",
    "lIn = [random.random() for i in range(100000)]\n",
    "cProfile.run('f1(lIn)')\n",
    "cProfile.run('f2(lIn)')\n",
    "cProfile.run('f3(lIn)')"
   ]
  },
  {
   "cell_type": "code",
   "execution_count": 7,
   "metadata": {},
   "outputs": [
    {
     "name": "stdout",
     "output_type": "stream",
     "text": [
      "{1: None, 2: None, 4: None, 5: None, 6: None, 7: None, 8: None, 9: None, 0: None}\n"
     ]
    },
    {
     "data": {
      "text/plain": [
       "[1, 2, 4, 5, 6, 7, 8, 9, 0]"
      ]
     },
     "execution_count": 7,
     "metadata": {},
     "output_type": "execute_result"
    }
   ],
   "source": []
  },
  {
   "cell_type": "code",
   "execution_count": null,
   "metadata": {},
   "outputs": [],
   "source": []
  },
  {
   "cell_type": "code",
   "execution_count": null,
   "metadata": {},
   "outputs": [],
   "source": []
  },
  {
   "cell_type": "code",
   "execution_count": null,
   "metadata": {},
   "outputs": [],
   "source": []
  },
  {
   "cell_type": "code",
   "execution_count": null,
   "metadata": {},
   "outputs": [],
   "source": []
  }
 ],
 "metadata": {
  "kernelspec": {
   "display_name": "Python 3",
   "language": "python",
   "name": "python3"
  },
  "language_info": {
   "codemirror_mode": {
    "name": "ipython",
    "version": 3
   },
   "file_extension": ".py",
   "mimetype": "text/x-python",
   "name": "python",
   "nbconvert_exporter": "python",
   "pygments_lexer": "ipython3",
   "version": "3.6.4"
  },
  "toc": {
   "base_numbering": 1,
   "nav_menu": {},
   "number_sections": true,
   "sideBar": true,
   "skip_h1_title": false,
   "title_cell": "Table of Contents",
   "title_sidebar": "Contents",
   "toc_cell": false,
   "toc_position": {},
   "toc_section_display": true,
   "toc_window_display": true
  }
 },
 "nbformat": 4,
 "nbformat_minor": 2
}
