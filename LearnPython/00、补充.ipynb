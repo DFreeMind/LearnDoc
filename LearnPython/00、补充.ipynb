{
 "cells": [
  {
   "cell_type": "code",
   "execution_count": 3,
   "metadata": {},
   "outputs": [],
   "source": [
    "import os"
   ]
  },
  {
   "cell_type": "markdown",
   "metadata": {},
   "source": [
    "# 性能\n",
    "## 性能测试"
   ]
  },
  {
   "cell_type": "code",
   "execution_count": 1,
   "metadata": {},
   "outputs": [],
   "source": [
    "def f1(lIn):\n",
    "    l1 = sorted(lIn)\n",
    "    l2 = [i for i in l1 if i<0.5]\n",
    "    return [i*i for i in l2]\n",
    "\n",
    "def f2(lIn):\n",
    "    l1 = [i for i in lIn if i<0.5]\n",
    "    l2 = sorted(l1)\n",
    "    return [i*i for i in l2]\n",
    "\n",
    "def f3(lIn):\n",
    "    l1 = [i*i for i in lIn]\n",
    "    l2 = sorted(l1)\n",
    "    return [i for i in l1 if i<(0.5*0.5)]"
   ]
  },
  {
   "cell_type": "code",
   "execution_count": 5,
   "metadata": {},
   "outputs": [
    {
     "name": "stdout",
     "output_type": "stream",
     "text": [
      "         7 function calls in 0.061 seconds\n",
      "\n",
      "   Ordered by: standard name\n",
      "\n",
      "   ncalls  tottime  percall  cumtime  percall filename:lineno(function)\n",
      "        1    0.000    0.000    0.058    0.058 <ipython-input-1-680fd28d947b>:1(f1)\n",
      "        1    0.007    0.007    0.007    0.007 <ipython-input-1-680fd28d947b>:3(<listcomp>)\n",
      "        1    0.005    0.005    0.005    0.005 <ipython-input-1-680fd28d947b>:4(<listcomp>)\n",
      "        1    0.003    0.003    0.061    0.061 <string>:1(<module>)\n",
      "        1    0.000    0.000    0.061    0.061 {built-in method builtins.exec}\n",
      "        1    0.047    0.047    0.047    0.047 {built-in method builtins.sorted}\n",
      "        1    0.000    0.000    0.000    0.000 {method 'disable' of '_lsprof.Profiler' objects}\n",
      "\n",
      "\n",
      "         7 function calls in 0.035 seconds\n",
      "\n",
      "   Ordered by: standard name\n",
      "\n",
      "   ncalls  tottime  percall  cumtime  percall filename:lineno(function)\n",
      "        1    0.000    0.000    0.034    0.034 <ipython-input-1-680fd28d947b>:6(f2)\n",
      "        1    0.007    0.007    0.007    0.007 <ipython-input-1-680fd28d947b>:7(<listcomp>)\n",
      "        1    0.005    0.005    0.005    0.005 <ipython-input-1-680fd28d947b>:9(<listcomp>)\n",
      "        1    0.001    0.001    0.035    0.035 <string>:1(<module>)\n",
      "        1    0.000    0.000    0.035    0.035 {built-in method builtins.exec}\n",
      "        1    0.022    0.022    0.022    0.022 {built-in method builtins.sorted}\n",
      "        1    0.000    0.000    0.000    0.000 {method 'disable' of '_lsprof.Profiler' objects}\n",
      "\n",
      "\n",
      "         7 function calls in 0.044 seconds\n",
      "\n",
      "   Ordered by: standard name\n",
      "\n",
      "   ncalls  tottime  percall  cumtime  percall filename:lineno(function)\n",
      "        1    0.000    0.000    0.041    0.041 <ipython-input-1-680fd28d947b>:11(f3)\n",
      "        1    0.005    0.005    0.005    0.005 <ipython-input-1-680fd28d947b>:12(<listcomp>)\n",
      "        1    0.004    0.004    0.004    0.004 <ipython-input-1-680fd28d947b>:14(<listcomp>)\n",
      "        1    0.002    0.002    0.044    0.044 <string>:1(<module>)\n",
      "        1    0.000    0.000    0.044    0.044 {built-in method builtins.exec}\n",
      "        1    0.032    0.032    0.032    0.032 {built-in method builtins.sorted}\n",
      "        1    0.000    0.000    0.000    0.000 {method 'disable' of '_lsprof.Profiler' objects}\n",
      "\n",
      "\n"
     ]
    }
   ],
   "source": [
    "# 对性能进行测试\n",
    "import cProfile\n",
    "import random\n",
    "lIn = [random.random() for i in range(100000)]\n",
    "cProfile.run('f1(lIn)')\n",
    "cProfile.run('f2(lIn)')\n",
    "cProfile.run('f3(lIn)')"
   ]
  },
  {
   "cell_type": "code",
   "execution_count": 7,
   "metadata": {},
   "outputs": [
    {
     "name": "stdout",
     "output_type": "stream",
     "text": [
      "{1: None, 2: None, 4: None, 5: None, 6: None, 7: None, 8: None, 9: None, 0: None}\n"
     ]
    },
    {
     "data": {
      "text/plain": [
       "[1, 2, 4, 5, 6, 7, 8, 9, 0]"
      ]
     },
     "execution_count": 7,
     "metadata": {},
     "output_type": "execute_result"
    }
   ],
   "source": [
    "a=[1,2,4,2,4,5,6,5,7,8,9,0]\n",
    "b={}\n",
    "b=b.fromkeys(a)\n",
    "print(b)\n",
    "c=list(b.keys())\n",
    "c"
   ]
  },
  {
   "cell_type": "markdown",
   "metadata": {},
   "source": [
    "# 文件、解析"
   ]
  },
  {
   "cell_type": "markdown",
   "metadata": {},
   "source": [
    "## 在文件夹中查找文件\n",
    "可以使用 `os.walk()`\n",
    "\n",
    "另外还有 `os.glob()` 或者 `os.iglob()`"
   ]
  },
  {
   "cell_type": "code",
   "execution_count": 4,
   "metadata": {},
   "outputs": [
    {
     "name": "stdout",
     "output_type": "stream",
     "text": [
      "./ ['.ipynb_checkpoints', 'data', 'script'] ['16、常用内建模块 - 2.ipynb', '03、python-字符编码.ipynb', '14、进程和线程.ipynb', '09、模块.ipynb', '11、面向对象高级编程.ipynb', '05、Dict、Set、不可变对象.ipynb', '02、条件判断与循环.ipynb', '08、函数式编程-2.ipynb', '17、常见的第三方模块.ipynb', '16、常用内建模块 - 1.ipynb', '13、IO编程.ipynb', '20、访问数据库.ipynb', '07、高级特性.ipynb', '10、面向对象编程-补充.ipynb', '15、正则表达式.ipynb', '12、错误、调试和测试.ipynb', '01、python基础.ipynb', '0、补充.ipynb', '22、异步IO.ipynb', '21、Web开发.ipynb', '解析iPhone健康数据.ipynb', '18、网络编程.ipynb', '23、Python中的魔法方法.ipynb', '08、函数式编程-1.ipynb', '00、补充.ipynb', '06、函数.ipynb', '10、面向对象编程.ipynb', '19、电子邮件.ipynb', '04、List 与 Tuple.ipynb']\n",
      "./.ipynb_checkpoints [] ['00、补充-checkpoint.ipynb']\n",
      "./data [] ['img-1.jpg', 'test_img_thumbnail.jpg', 'test_2.jpg', 'struct_bmp.bmp', 'sina.html', 'code.jpg', 'test_img_blur.jpg', 'test_img.jpg', 'test_0.jpg', 'dump.txt', 'write.txt', 'test_0_thumbnail.jpg', 'img-2.png', 'io-zh.txt', 'test.db']\n",
      "./script ['__pycache__', 'mvc', 'awesome-python3-webapp'] ['udp_client.py', 'wsgi_hello.py', 'socket_client.py', 'task_master.py', 'send_email.py', 'task_worker.py', 'socket_server.py', 'receive_email.py', 'udp_server.py', 'flask_app.py', 'wsgi_server.py']\n",
      "./script/__pycache__ [] ['wsgi_hello.cpython-36.pyc']\n",
      "./script/mvc ['templates'] ['app.py', 'form.html']\n",
      "./script/mvc/templates [] ['signin-ok.html', 'form.html', 'home.html']\n",
      "./script/awesome-python3-webapp ['www'] ['LICENSE.txt']\n",
      "./script/awesome-python3-webapp/www [] ['orm.py', 'app.py']\n"
     ]
    }
   ],
   "source": [
    "for root, dirs, files in os.walk('./'):\n",
    "    print(root, dirs, files)"
   ]
  },
  {
   "cell_type": "markdown",
   "metadata": {},
   "source": [
    "## 解析命令行\n",
    "\n",
    "使用 sys.argv 来计算"
   ]
  },
  {
   "cell_type": "code",
   "execution_count": null,
   "metadata": {},
   "outputs": [],
   "source": []
  },
  {
   "cell_type": "markdown",
   "metadata": {},
   "source": [
    "# GUI"
   ]
  },
  {
   "cell_type": "markdown",
   "metadata": {},
   "source": [
    "## TK"
   ]
  },
  {
   "cell_type": "markdown",
   "metadata": {},
   "source": [
    "### 按键事件监听\n",
    "\n",
    "【参考】\n",
    "- [tkinter 对键盘和鼠标事件的处理](https://www.cnblogs.com/hhh5460/p/6701817.html)"
   ]
  },
  {
   "cell_type": "code",
   "execution_count": null,
   "metadata": {},
   "outputs": [],
   "source": []
  },
  {
   "cell_type": "code",
   "execution_count": null,
   "metadata": {},
   "outputs": [],
   "source": []
  },
  {
   "cell_type": "code",
   "execution_count": null,
   "metadata": {},
   "outputs": [],
   "source": []
  },
  {
   "cell_type": "code",
   "execution_count": null,
   "metadata": {},
   "outputs": [],
   "source": []
  }
 ],
 "metadata": {
  "kernelspec": {
   "display_name": "Python 3",
   "language": "python",
   "name": "python3"
  },
  "language_info": {
   "codemirror_mode": {
    "name": "ipython",
    "version": 3
   },
   "file_extension": ".py",
   "mimetype": "text/x-python",
   "name": "python",
   "nbconvert_exporter": "python",
   "pygments_lexer": "ipython3",
   "version": "3.6.5"
  },
  "toc": {
   "base_numbering": 1,
   "nav_menu": {},
   "number_sections": true,
   "sideBar": true,
   "skip_h1_title": false,
   "title_cell": "Table of Contents",
   "title_sidebar": "Contents",
   "toc_cell": false,
   "toc_position": {
    "height": "calc(100% - 180px)",
    "left": "10px",
    "top": "150px",
    "width": "377px"
   },
   "toc_section_display": true,
   "toc_window_display": true
  }
 },
 "nbformat": 4,
 "nbformat_minor": 2
}
