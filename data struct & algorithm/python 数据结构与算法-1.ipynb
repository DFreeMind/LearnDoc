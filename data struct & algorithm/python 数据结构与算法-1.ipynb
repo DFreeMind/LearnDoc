{
 "cells": [
  {
   "cell_type": "markdown",
   "metadata": {},
   "source": [
    "![image](http://wx2.sinaimg.cn/thumbnail/69d4185bly1fmf9kfagd3j20ek0ekq88.jpg)\n",
    "# python 数据结构与算法"
   ]
  },
  {
   "cell_type": "markdown",
   "metadata": {},
   "source": [
    "**ADT**：abstract data type。 --> **data structure**\n",
    "\n",
    "**implementation-independent**：实现无关\n",
    "\n",
    "封装（encapsulation）、数据隐藏（information hiding）：![img](https://ws1.sinaimg.cn/large/69d4185bly1fnttr9ydeej207807rjs7.jpg)"
   ]
  },
  {
   "cell_type": "code",
   "execution_count": 3,
   "metadata": {
    "scrolled": true
   },
   "outputs": [
    {
     "name": "stdout",
     "output_type": "stream",
     "text": [
      "2.0\n",
      "2.3333333333333335\n",
      "0.5\n",
      "2\n",
      "0\n",
      "1\n",
      "3\n"
     ]
    }
   ],
   "source": [
    "# / 整数除法为浮点数\n",
    "print(6/3) \n",
    "print(7/3)\n",
    "print(3/6)\n",
    "\n",
    "# // 取整数\n",
    "print(7//3)\n",
    "print(3//6)\n",
    "\n",
    "# % 取模（取余数）\n",
    "print(7%3)\n",
    "print(3%6)"
   ]
  },
  {
   "cell_type": "markdown",
   "metadata": {},
   "source": [
    "## 基准测试\n",
    "### 执行时间\n",
    "使用 for 循环的计算方式"
   ]
  },
  {
   "cell_type": "code",
   "execution_count": 14,
   "metadata": {},
   "outputs": [
    {
     "name": "stdout",
     "output_type": "stream",
     "text": [
      "Sum is 50005000 required  0.0010004 seconds\n",
      "Sum is 50005000 required  0.0009997 seconds\n",
      "Sum is 50005000 required  0.0010002 seconds\n",
      "Sum is 50005000 required  0.0020015 seconds\n",
      "Sum is 50005000 required  0.0010011 seconds\n",
      "Sum is 5000050000 required  0.0100057 seconds\n",
      "Sum is 5000050000 required  0.0080070 seconds\n",
      "Sum is 5000050000 required  0.0130076 seconds\n",
      "Sum is 5000050000 required  0.0160108 seconds\n",
      "Sum is 5000050000 required  0.0070062 seconds\n",
      "Sum is 500000500000 required  0.0730469 seconds\n",
      "Sum is 500000500000 required  0.0680463 seconds\n",
      "Sum is 500000500000 required  0.0730479 seconds\n",
      "Sum is 500000500000 required  0.0800521 seconds\n",
      "Sum is 500000500000 required  0.0710492 seconds\n"
     ]
    }
   ],
   "source": [
    "import time\n",
    "\n",
    "def sumOfN(n):\n",
    "   start = time.time()\n",
    "   theSum = 0\n",
    "   for i in range(1,n+1):\n",
    "      theSum = theSum + i\n",
    "   end = time.time()\n",
    "\n",
    "   return theSum,end-start\n",
    "\n",
    "# 测试执行时间\n",
    "for i in range(5):\n",
    "       print(\"Sum is %d required %10.7f seconds\"%sumOfN(10000))\n",
    "        \n",
    "for i in range(5):\n",
    "       print(\"Sum is %d required %10.7f seconds\"%sumOfN(100000))\n",
    "\n",
    "for i in range(5):\n",
    "       print(\"Sum is %d required %10.7f seconds\"%sumOfN(1000000))"
   ]
  },
  {
   "cell_type": "markdown",
   "metadata": {},
   "source": [
    "适应公式计算的方式"
   ]
  },
  {
   "cell_type": "code",
   "execution_count": 18,
   "metadata": {},
   "outputs": [
    {
     "name": "stdout",
     "output_type": "stream",
     "text": [
      "Sum is 50005000 required  0.0000000 seconds\n",
      "Sum is 5000050000 required  0.0000000 seconds\n",
      "Sum is 500000500000 required  0.0000000 seconds\n",
      "Sum is 50000005000000 required  0.0000000 seconds\n",
      "Sum is 5000000050000000 required  0.0000000 seconds\n"
     ]
    }
   ],
   "source": [
    "import time\n",
    "\n",
    "def sumOfN(n):\n",
    "   start = time.time()\n",
    "   theSum =  (n*(n+1))/2\n",
    "   end = time.time()\n",
    "\n",
    "   return theSum,end-start\n",
    "\n",
    "# 测试执行时间\n",
    "for n in (10000, 100000, 1000000, 10000000, 100000000):\n",
    "    print(\"Sum is %d required %10.7f seconds\"%sumOfN(n))\n"
   ]
  },
  {
   "cell_type": "markdown",
   "metadata": {},
   "source": [
    "## Big-O Notation"
   ]
  },
  {
   "cell_type": "markdown",
   "metadata": {},
   "source": [
    "A good basic unit of computation for comparing the summation algorithms shown earlier might be to count *the number of assignment statements performed to compute the sum*. In the function sumOfN, the number of assignment statements is 1 (theSum=0) plus the value of n (the number of times we perform **theSum=theSum+i**). We can denote this by a function, call it T, where **T(n)=1+n**. The parameter n is often referred to as the **“size of the problem,”** and we can read this as “T(n) is the time it takes to solve a problem of size n, namely 1+n steps.”"
   ]
  },
  {
   "cell_type": "markdown",
   "metadata": {},
   "source": [
    "The **order of magnitude** function describes the part of **T(n)** that increases the fastest as the value of n increases. Order of magnitude is often called Big-O notation (for “order”) and written as O(f(n)). It provides a useful approximation to the actual number of steps in the computation. The function f(n) provides a simple representation of the dominant part of the original T(n).\n",
    "\n",
    "In the above example, **T(n)=1+n**. As n gets large, the constant 1 will become less and less significant to the final result. If we are looking for an approximation for T(n)T(n), then we can drop the 1 and simply say that the running time is **O(n)**. It is important to note that the 1 is certainly significant for **T(n)**. However, as n gets large, our approximation will be just as accurate without it.\n",
    "\n",
    "As another example, suppose that for some algorithm, the exact number of steps is **T(n)=5n<sup>2</sup>+27n+1005**. When n is small, say 1 or 2, the constant 1005 seems to be the dominant part of the function. However, as n gets larger, the **n<sup>2</sup>** term becomes the most important. In fact, when n is really large, the other two terms become insignificant in the role that they play in determining the final result. Again, to approximate **T(n)** as n gets large, we can ignore the other terms and focus on **5n<sup>2</sup>**. In addition, the coefficient **5** becomes insignificant as n gets large. We would say then that the function T(n)has an order of magnitude **f(n)=n<sup>2</sup>**, or simply that it is **O(n<sup>2</sup>)**.\n",
    "\n"
   ]
  },
  {
   "cell_type": "markdown",
   "metadata": {},
   "source": [
    "常见算法数量级及其执行时间变化图：![image](http://wx3.sinaimg.cn/large/69d4185bly1fnyov704yyj20r70e7wfz.jpg)"
   ]
  },
  {
   "cell_type": "code",
   "execution_count": null,
   "metadata": {},
   "outputs": [],
   "source": [
    "# 第一部分\n",
    "a=5\n",
    "b=6\n",
    "c=10\n",
    "# 第二部分\n",
    "for i in range(n):\n",
    "   for j in range(n):\n",
    "      x = i * i\n",
    "      y = j * j\n",
    "      z = i * j\n",
    "# 第三部分\n",
    "for k in range(n):\n",
    "   w = a*k + 45\n",
    "   v = b*b\n",
    "# 第四部分\n",
    "d = 33"
   ]
  },
  {
   "cell_type": "markdown",
   "metadata": {},
   "source": [
    "The number of assignment operations is the sum of four terms. \n",
    "- The first term is the constant **3**, representing the three assignment statements at the start of the fragment. \n",
    "- The second term is **3n<sup>2</sup>** since there are three statements that are performed **n<sup>2</sup>** times due to the nested iteration. \n",
    "- The third term is **2n**, two statements iterated n times. \n",
    "- Finally, the fourth term is the constant **1**, representing the final assignment statement. \n",
    "\n",
    "This gives us **T(n)=3+3n<sup>2</sup>+2n+1=3n<sup>2</sup>+2n+4**. By looking at the exponents, we can easily see that the **n<sup>2</sup>** term will be dominant and therefore this fragment of code is **O(n<sup>2</sup>)**. Note that all of the other terms as well as the coefficient on the dominant term can be ignored as n grows larger.\n",
    "\n",
    "below shows a few of the common Big-O functions as they compare with the **T(n)** function discussed above. Note that **T(n)** is initially larger than the cubic function. However, as n grows, the cubic function quickly overtakes **T(n)**. It is easy to see that **T(n)** then follows the quadratic function as nn continues to grow.\n",
    "![img](https://ws1.sinaimg.cn/large/69d4185bly1fnypbp1vmdj20k80ej0t3.jpg)"
   ]
  },
  {
   "cell_type": "markdown",
   "metadata": {},
   "source": [
    "## self check\n",
    "Write two Python functions to find the minimum number in a list. The first function should compare each number to every other number on the list. **O(n<sup>2</sup>)**. The second function should be linear **O(n)**"
   ]
  },
  {
   "cell_type": "code",
   "execution_count": 24,
   "metadata": {},
   "outputs": [
    {
     "name": "stdout",
     "output_type": "stream",
     "text": [
      "n2value 6\n",
      "nvalue 6\n"
     ]
    }
   ],
   "source": [
    "nlist = [34,23,6,11,7,9,32,54]\n",
    "\n",
    "# 二次时间复杂度\n",
    "n2value = nlist[0]\n",
    "for i in nlist:\n",
    "    issamllest = True\n",
    "    for j in nlist:\n",
    "        if i > j:\n",
    "            issamllest = False\n",
    "    if issamllest:\n",
    "        n2value = i\n",
    "print(\"n2value\", n2value)\n",
    "\n",
    "# 现行时间复杂度\n",
    "nvalue = nlist[0] \n",
    "for item in nlist:\n",
    "    if item < nvalue:\n",
    "        nvalue = item\n",
    "print(\"nvalue\",nvalue)"
   ]
  },
  {
   "cell_type": "code",
   "execution_count": 27,
   "metadata": {},
   "outputs": [
    {
     "data": {
      "text/plain": [
       "range(1, 29)"
      ]
     },
     "execution_count": 27,
     "metadata": {},
     "output_type": "execute_result"
    }
   ],
   "source": [
    "range(1,29)"
   ]
  },
  {
   "cell_type": "code",
   "execution_count": 48,
   "metadata": {},
   "outputs": [
    {
     "name": "stdout",
     "output_type": "stream",
     "text": [
      "[]\n"
     ]
    }
   ],
   "source": [
    "from datetime import datetime\n",
    "days = list(range(1,29))\n",
    "months = list(range(1,13))\n",
    "noweekday = []\n",
    "nextyear = 1\n",
    "for day in days:\n",
    "    noweek = True\n",
    "    for month in months:\n",
    "        i = 0\n",
    "        while i < nextyear:\n",
    "            week = datetime(2018 + i, month, day).weekday()\n",
    "            if week == 6:\n",
    "                noweek = False\n",
    "                break\n",
    "            i += 1\n",
    "    if noweek:\n",
    "        noweekday.append(day)\n",
    "\n",
    "print(noweekday)"
   ]
  },
  {
   "cell_type": "markdown",
   "metadata": {},
   "source": [
    "# python中常见数据结构评估"
   ]
  },
  {
   "cell_type": "markdown",
   "metadata": {},
   "source": [
    "## List\n",
    "### 多种方法生成List比较\n",
    "在 list 中索引操作与为索引位置分配的操作的时间复杂度都是线性的 **O(1)** ，扩展 list 的操作 appped 的时间复杂度为 **O(1)** ，而连接操作则是 **O(k)** （k是被连接 list 的大小）。如下四个生成list的方法："
   ]
  },
  {
   "cell_type": "code",
   "execution_count": 8,
   "metadata": {},
   "outputs": [
    {
     "name": "stdout",
     "output_type": "stream",
     "text": [
      "concat  1.8479930273260834 milliseconds\n",
      "append  0.09362109296989729 milliseconds\n",
      "comprehension  0.04085787887652259 milliseconds\n",
      "list range  0.016793391117516876 milliseconds\n"
     ]
    }
   ],
   "source": [
    "# 使用连接操作\n",
    "def test1():\n",
    "    l = []\n",
    "    for i in range(1000):\n",
    "        l = l + [i]\n",
    "# 使用append方法\n",
    "def test2():\n",
    "    l = []\n",
    "    for i in range(1000):\n",
    "        l.append(i)\n",
    "# 使用列表推导\n",
    "def test3():\n",
    "    l = [i for i in range(1000)]\n",
    "# 使用list包裹range\n",
    "def test4():\n",
    "    l = list(range(1000))\n",
    "    \n",
    "# 使用 timeit 测试代码\n",
    "from timeit import Timer\n",
    "\n",
    "t1 = Timer(\"test1()\", \"from __main__ import test1\")\n",
    "print(\"concat \",t1.timeit(number=1000), \"milliseconds\")\n",
    "t2 = Timer(\"test2()\", \"from __main__ import test2\")\n",
    "print(\"append \",t2.timeit(number=1000), \"milliseconds\")\n",
    "t3 = Timer(\"test3()\", \"from __main__ import test3\")\n",
    "print(\"comprehension \",t3.timeit(number=1000), \"milliseconds\")\n",
    "t4 = Timer(\"test4()\", \"from __main__ import test4\")\n",
    "print(\"list range \",t4.timeit(number=1000), \"milliseconds\")\n"
   ]
  },
  {
   "cell_type": "markdown",
   "metadata": {},
   "source": [
    "在这个案例中，语句 `from __main__ import test1` 将方法 `test1` 从 `__main__` 空间导入到了 `timeit` 设置的用于测试的空间。`timeit`之所以这么做，是为了在测试的时候避免你随意创建变量的影响，这些变量可能会以一些遇见不到的方式影响到程序的执行。\n",
    "\n",
    "从上面的运行结果可以看到，`concat` 方法比其他方法要满了很多，`append` 方法又比列表推导与`range`方法慢，而是用`range`方法是最快的。\n",
    "\n",
    "List 常见操作的时间复杂度：![image](http://ws4.sinaimg.cn/large/69d4185bly1fnzl9z22jjj20h3095aa9.jpg)"
   ]
  },
  {
   "cell_type": "markdown",
   "metadata": {},
   "source": [
    "### POP操作\n",
    "由上图可以看到`pop()`与`pop(i)`的操作相差很大，这是因为`pop()`是弹出最后一个，而`pop(i)`从第一个弹出的同时还需要将后续数据的索引相应的前移一位。\n",
    "\n",
    "可以做一个如下的测试，在固定大小的list中测试`pop()`与`pop(1)`测试花费时间，然后再次在不同大小的list上测试`pop()`与`pop(1)`的时间消耗。希望得到的结果是，无论list的大小是多少`pop()`操作时间消耗都是固定的，而`pop(1)`的时间消耗是线性增长的。"
   ]
  },
  {
   "cell_type": "code",
   "execution_count": 10,
   "metadata": {},
   "outputs": [
    {
     "name": "stdout",
     "output_type": "stream",
     "text": [
      "pop from zero:  3.2996193134854366\n",
      "pop from end:  0.000121184943964181\n"
     ]
    }
   ],
   "source": [
    "popzero = timeit.Timer(\"x.pop(0)\",\n",
    "                       \"from __main__ import x\")\n",
    "popend = timeit.Timer(\"x.pop()\",\n",
    "                      \"from __main__ import x\")\n",
    "\n",
    "x = list(range(2000000))\n",
    "print('pop from zero: ', popzero.timeit(number=1000))\n",
    "\n",
    "x = list(range(2000000))\n",
    "print('pop from end: ', popend.timeit(number=1000))"
   ]
  },
  {
   "cell_type": "markdown",
   "metadata": {},
   "source": [
    "由上述输出的结果可以看到 pop end 是 pop zero 性能的27000倍。从上述代码也可以注意到两点：\n",
    "1. 我们没有定义方法，而是使用了 `from __main__ import x` 。这样做是为了能够单独测量某一个操作，是测量的结果更加精确。\n",
    "2. 我们让测试执行了 1000 次，每执行完一次操作之后，x 的大小都会减 1，但因为 x 的总大小是 2000000 ，所以执行完成之后的 x 的大小也只减少了**0.05%**\n",
    "\n",
    "上述的输出可以看到，`pop(0)` 的速度慢于 `pop()`，但是并没有展示出 `pop(0)` 是 **O(n)** ，`pop()` 是 **O(1)** 。所我们需要做如下的测试："
   ]
  },
  {
   "cell_type": "code",
   "execution_count": null,
   "metadata": {},
   "outputs": [],
   "source": [
    "popzero = Timer(\"x.pop(0)\",\n",
    "                \"from __main__ import x\")\n",
    "popend = Timer(\"x.pop()\",\n",
    "               \"from __main__ import x\")\n",
    "print(\"pop(0)   pop()\")\n",
    "for i in range(1000000,100000001,1000000):\n",
    "    x = list(range(i))\n",
    "    pt = popend.timeit(number=1000)\n",
    "    x = list(range(i))\n",
    "    pz = popzero.timeit(number=1000)\n",
    "    print(\"%15.5f, %15.5f\" %(pz,pt))"
   ]
  },
  {
   "cell_type": "markdown",
   "metadata": {},
   "source": [
    "上述运行的结果绘成图之后如下：![img](https://ws1.sinaimg.cn/large/69d4185bly1fnzm10prjdj20mq0hjmyc.jpg)\n",
    "可以看到`pop(0)` 是 **O(n)** ，`pop()` 是 **O(1)** 。"
   ]
  },
  {
   "cell_type": "markdown",
   "metadata": {},
   "source": [
    "## Dict\n",
    "不同于 list 使用 索引访问数据，Dict 是依据 key 来访问数据。Dict 的取值与赋值都是**O（1）** 操作；判断 key 值是否存在于 Dict中也是**O（1）** ，只有在极少数情况下会退化成 **O（n）** 。Dict 常见的操作的 **Big-O** 如下：![image](http://ws4.sinaimg.cn/large/69d4185bly1fnzmcuxkkdj20fl06zdfs.jpg)"
   ]
  },
  {
   "cell_type": "markdown",
   "metadata": {},
   "source": [
    "**Dict 与 list 包含操作的对比**\n",
    "\n",
    "通过实现预期得到的结果为：Dict的为 **O(1)** ，list的为 **O(n)** 。"
   ]
  },
  {
   "cell_type": "code",
   "execution_count": null,
   "metadata": {},
   "outputs": [],
   "source": [
    "import timeit\n",
    "import random\n",
    "\n",
    "for i in range(10000,1000001,20000):\n",
    "    t = timeit.Timer(\"random.randrange(%d) in x\"%i,\"from __main__ import random,x\")\n",
    "    x = list(range(i))\n",
    "    lst_time = t.timeit(number=1000)\n",
    "    x = {j:None for j in range(i)}\n",
    "    d_time = t.timeit(number=1000)\n",
    "    print(\"%d,%10.3f,%10.3f\" % (i, lst_time, d_time))"
   ]
  },
  {
   "cell_type": "markdown",
   "metadata": {},
   "source": [
    "上述代码的输出结果为：\n",
    "```\n",
    "10000,     0.101,     0.001\n",
    "30000,     0.228,     0.002\n",
    "50000,     0.394,     0.001\n",
    "...\n",
    "510000,     3.977,     0.002\n",
    "530000,     3.958,     0.002\n",
    "550000,     4.250,     0.002\n",
    "570000,     4.261,     0.002\n",
    "...\n",
    "950000,     8.044,     0.002\n",
    "970000,     7.862,     0.003\n",
    "990000,     7.783,     0.003\n",
    "```"
   ]
  },
  {
   "cell_type": "markdown",
   "metadata": {},
   "source": [
    "将上述结果以图表的形式输出，可以得到如下图：![img](https://ws1.sinaimg.cn/large/69d4185bly1fnzrz3zktyj20mq0hjab8.jpg)"
   ]
  },
  {
   "cell_type": "markdown",
   "metadata": {},
   "source": [
    "从上面的输出结果可以看到，Dict的包含操作为 **O(1)** ，list的包含炒作为 **O(n)** 。下面的连接给出了python 中常见结合操作的时间复杂度：https://wiki.python.org/moin/TimeComplexity"
   ]
  },
  {
   "cell_type": "markdown",
   "metadata": {},
   "source": [
    "## Bog-O练习\n",
    "- [评估程序](http://interactivepython.org/runestone/static/pythonds/AlgorithmAnalysis/DiscussionQuestions.html)"
   ]
  },
  {
   "cell_type": "code",
   "execution_count": 51,
   "metadata": {
    "scrolled": true
   },
   "outputs": [
    {
     "data": {
      "image/png": "[encoded data removed]",
      "text/plain": [
       "<matplotlib.figure.Figure at 0x255826d71d0>"
      ]
     },
     "metadata": {},
     "output_type": "display_data"
    }
   ],
   "source": [
    "import numpy as np\n",
    "import matplotlib.pyplot as plt\n",
    "%matplotlib inline\n",
    "\n",
    "# 对数\n",
    "def mytest1(n):\n",
    "    i = n\n",
    "    while i > 0:\n",
    "        k = 2 + 2\n",
    "        i = i // 2\n",
    "\n",
    "x = []\n",
    "y = []\n",
    "for n in range(1000,1000000,5000):\n",
    "    x.append(n)\n",
    "    t1 = Timer(\"mytest1(%d)\"%n, \"from __main__ import mytest1\")\n",
    "    y.append(t1.timeit(number=10000))\n",
    "    \n",
    "yy = np.log(x)\n",
    "\n",
    "plt.subplot(2, 1, 1)\n",
    "plt.plot(x,y,'or')\n",
    "plt.subplot(2, 1, 2)\n",
    "plt.plot(x,yy)\n",
    "plt.show()"
   ]
  },
  {
   "cell_type": "code",
   "execution_count": 60,
   "metadata": {},
   "outputs": [
    {
     "data": {
      "image/png": "[encoded data removed]",
      "text/plain": [
       "<matplotlib.figure.Figure at 0x25582608240>"
      ]
     },
     "metadata": {},
     "output_type": "display_data"
    }
   ],
   "source": [
    "# 三次方\n",
    "def mytest1(n):\n",
    "    for i in range(n):\n",
    "        for j in range(n):\n",
    "            for k in range(n):\n",
    "                k = 2 + 2\n",
    "                \n",
    "x = []\n",
    "y = []\n",
    "for n in range(10,100,5):\n",
    "    x.append(n)\n",
    "    t1 = Timer(\"mytest1(%d)\"%n, \"from __main__ import mytest1\")\n",
    "    y.append(t1.timeit(number=2))\n",
    "    \n",
    "plt.subplot(2, 1, 1)\n",
    "plt.plot(x,y,'or')\n",
    "plt.show()"
   ]
  },
  {
   "cell_type": "markdown",
   "metadata": {},
   "source": [
    "## Programming Exercises\n",
    "### list index operator\n",
    "Devise an experiment to verify that the list index operator is **O(1)**"
   ]
  },
  {
   "cell_type": "code",
   "execution_count": 77,
   "metadata": {},
   "outputs": [
    {
     "name": "stdout",
     "output_type": "stream",
     "text": [
      "500\n",
      "458\n",
      "0.0013969150339180488\n"
     ]
    },
    {
     "data": {
      "image/png": "[encoded data removed]",
      "text/plain": [
       "<matplotlib.figure.Figure at 0x255eb27a860>"
      ]
     },
     "metadata": {},
     "output_type": "display_data"
    }
   ],
   "source": [
    "import random\n",
    "import timeit\n",
    "\n",
    "x = []\n",
    "y = []\n",
    "for n in range(100,100000,200):\n",
    "    t = timeit.Timer(\"l[random.randrange(%d)]\"%n,\"from __main__ import random,l\")\n",
    "    x.append(n) \n",
    "    l = list(range(n))\n",
    "    y.append(t.timeit(number=1000))\n",
    "\n",
    "print(len(x))\n",
    "print(len([i for i in y if 0.001<i and i < 0.002]))\n",
    "print(np.average(y))\n",
    "plt.subplot(2, 1, 1)\n",
    "plt.plot(x,y,'or')\n",
    "plt.show()"
   ]
  },
  {
   "cell_type": "markdown",
   "metadata": {},
   "source": [
    "### del on list and dict\n",
    "Devise an experiment that compares the performance of the del operator on lists and dictionaries."
   ]
  },
  {
   "cell_type": "code",
   "execution_count": 128,
   "metadata": {},
   "outputs": [
    {
     "data": {
      "image/png": "[encoded data removed]",
      "text/plain": [
       "<matplotlib.figure.Figure at 0x25585df09e8>"
      ]
     },
     "metadata": {},
     "output_type": "display_data"
    }
   ],
   "source": [
    "import timeit\n",
    "import random\n",
    "import numpy as np\n",
    "import matplotlib.pyplot as plt\n",
    "%matplotlib inline\n",
    "\n",
    "yd = []\n",
    "yl = []\n",
    "xx = []\n",
    "for i in range(1000,100001,2000):\n",
    "    xx.append(i)\n",
    "    r = random.randrange(i)\n",
    "    t = timeit.Timer(\"del x[%d]\"%0, \"from __main__ import random,x\")\n",
    "    x = list(range(i))\n",
    "    lst_time = t.timeit(number=1)\n",
    "    \n",
    "    td = timeit.Timer(\"del x[%d]\"%0, \"from __main__ import random,x\")\n",
    "    x = {j:None for j in range(i)}\n",
    "    d_time = td.timeit(number=1)\n",
    "    \n",
    "    yl.append(lst_time)\n",
    "    yd.append(d_time)\n",
    "\n",
    "plt.plot(xx,yl,'or',label='list')\n",
    "plt.plot( xx,yd,'og',label='Dict')\n",
    "plt.legend(loc='upper left')\n",
    "plt.show()"
   ]
  },
  {
   "cell_type": "markdown",
   "metadata": {},
   "source": [
    "由上图可以看到 list 的 `del` 操作是**O(n)** ，而 dict 的 del 操作是 **O(1)** 。"
   ]
  },
  {
   "cell_type": "code",
   "execution_count": null,
   "metadata": {},
   "outputs": [],
   "source": []
  },
  {
   "cell_type": "code",
   "execution_count": null,
   "metadata": {},
   "outputs": [],
   "source": []
  },
  {
   "cell_type": "code",
   "execution_count": null,
   "metadata": {},
   "outputs": [],
   "source": []
  },
  {
   "cell_type": "code",
   "execution_count": 107,
   "metadata": {},
   "outputs": [
    {
     "name": "stdout",
     "output_type": "stream",
     "text": [
      "[2, 4, 4]\n",
      "{0: None, 1: None, 3: None, 4: None, 5: None, 6: None, 7: None, 8: None, 9: None}\n"
     ]
    }
   ],
   "source": [
    "t = [1,2,4,4]\n",
    "del t[0]\n",
    "print(t)\n",
    "\n",
    "d = {0: None, 1: None, 2: None, 3: None, 4: None, 5: None, 6: None, 7: None, 8: None, 9: None}\n",
    "del d[2]\n",
    "print(d)"
   ]
  },
  {
   "cell_type": "code",
   "execution_count": 102,
   "metadata": {},
   "outputs": [
    {
     "data": {
      "text/plain": [
       "0"
      ]
     },
     "execution_count": 102,
     "metadata": {},
     "output_type": "execute_result"
    }
   ],
   "source": [
    "random.randint(0,10)\n",
    "random.randrange(2)"
   ]
  },
  {
   "cell_type": "code",
   "execution_count": null,
   "metadata": {},
   "outputs": [],
   "source": []
  },
  {
   "cell_type": "code",
   "execution_count": null,
   "metadata": {},
   "outputs": [],
   "source": []
  },
  {
   "cell_type": "markdown",
   "metadata": {},
   "source": [
    "# 参考\n",
    "## 算法参考\n",
    "- [Big-O Notation](http://interactivepython.org/runestone/static/pythonds/AlgorithmAnalysis/BigONotation.html)\n",
    "- [Lists](http://interactivepython.org/runestone/static/pythonds/AlgorithmAnalysis/Lists.html)\n",
    "- [Dictionaries](http://interactivepython.org/runestone/static/pythonds/AlgorithmAnalysis/Dictionaries.html)\n"
   ]
  },
  {
   "cell_type": "markdown",
   "metadata": {},
   "source": [
    "## 工具参考\n",
    "- [timeit — 测量小代码片的执行时间](http://python.usyiyi.cn/translate/python_278/library/timeit.html)\n",
    "- [Python图表绘制：matplotlib绘图库入门](https://www.cnblogs.com/wei-li/archive/2012/05/23/2506940.html)\n",
    "- [Matplotlib 教程](https://liam0205.me/2014/09/11/matplotlib-tutorial-zh-cn/)\n",
    "- [十分钟入门Matplotlib](http://codingpy.com/article/a-quick-intro-to-matplotlib/)"
   ]
  },
  {
   "cell_type": "code",
   "execution_count": null,
   "metadata": {},
   "outputs": [],
   "source": []
  },
  {
   "cell_type": "code",
   "execution_count": null,
   "metadata": {},
   "outputs": [],
   "source": []
  },
  {
   "cell_type": "code",
   "execution_count": null,
   "metadata": {},
   "outputs": [],
   "source": []
  },
  {
   "cell_type": "code",
   "execution_count": null,
   "metadata": {},
   "outputs": [],
   "source": []
  }
 ],
 "metadata": {
  "kernelspec": {
   "display_name": "Python 3",
   "language": "python",
   "name": "python3"
  },
  "language_info": {
   "codemirror_mode": {
    "name": "ipython",
    "version": 3
   },
   "file_extension": ".py",
   "mimetype": "text/x-python",
   "name": "python",
   "nbconvert_exporter": "python",
   "pygments_lexer": "ipython3",
   "version": "3.6.3"
  },
  "toc": {
   "nav_menu": {},
   "number_sections": true,
   "sideBar": true,
   "skip_h1_title": false,
   "toc_cell": false,
   "toc_position": {
    "height": "535px",
    "left": "0px",
    "right": "1096px",
    "top": "111px",
    "width": "248px"
   },
   "toc_section_display": "block",
   "toc_window_display": true
  }
 },
 "nbformat": 4,
 "nbformat_minor": 2
}
