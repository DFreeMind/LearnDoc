{
 "cells": [
  {
   "cell_type": "markdown",
   "metadata": {},
   "source": [
    "![image](http://wx2.sinaimg.cn/thumbnail/69d4185bly1fmf9kfagd3j20ek0ekq88.jpg)\n",
    "# 递归"
   ]
  },
  {
   "cell_type": "markdown",
   "metadata": {},
   "source": [
    "**Recursion** is a method of solving problems that involves breaking a problem down into smaller and smaller subproblems until you get to a small enough problem that it can be solved trivially. Usually recursion involves a function calling itself. \n",
    "\n",
    "递归的关键就是把大的问题不断地划分为小的问题，知道不能在小为止。"
   ]
  },
  {
   "cell_type": "markdown",
   "metadata": {},
   "source": [
    "## 求一组数的和\n",
    "### 使用 while 或者 for 循环\n",
    "一组数如：`[1, 3, 5, 7, 9]`进行求和，我们可以使用循环计算数组的和，如下："
   ]
  },
  {
   "cell_type": "code",
   "execution_count": 1,
   "metadata": {},
   "outputs": [
    {
     "name": "stdout",
     "output_type": "stream",
     "text": [
      "25\n"
     ]
    }
   ],
   "source": [
    "def listsum(numList):\n",
    "    theSum = 0\n",
    "    for i in numList:\n",
    "        theSum = theSum + i\n",
    "    return theSum\n",
    "\n",
    "print(listsum([1,3,5,7,9]))"
   ]
  },
  {
   "cell_type": "markdown",
   "metadata": {},
   "source": [
    "### 使用递归\n",
    "但当我们不使用循环应该怎么计算呢？考虑如下的场景，我们一对数为单位进行计算，并使用全括号表达式书写，形式如下：`((((1+3)+5)+7)+9)`，或者从右边开始计算：`(1+(3+(5+(7+9))))`。可以看到最里面的小括号`(7+9)`是不需要循环或者其他数据结构，因此可以使用下面的简化序列来计算组中的和：![image](http://wx1.sinaimg.cn/large/69d4185bly1fo6tr4d9tjj205e02x743.jpg)\n",
    "转换成python程序就是，用list的第一个值（`numList[0]`）与后面的值相加（`numList[1:]`），写成函数的形式如下：`listSum(numList)=first(numList)+listSum(rest(numList))`"
   ]
  },
  {
   "cell_type": "code",
   "execution_count": 2,
   "metadata": {},
   "outputs": [
    {
     "name": "stdout",
     "output_type": "stream",
     "text": [
      "25\n"
     ]
    }
   ],
   "source": [
    "def listsum(numList):\n",
    "    # 检查 list 的长度，跳出递归的关键\n",
    "    if len(numList) == 1:\n",
    "        return numList[0]\n",
    "    else:\n",
    "        return numList[0] + listsum(numList[1:])\n",
    "\n",
    "print(listsum([1,3,5,7,9]))"
   ]
  },
  {
   "cell_type": "markdown",
   "metadata": {},
   "source": [
    "以上递归调用的过程，及其最终计算的过程如下：![image](http://wx1.sinaimg.cn/large/69d4185bly1fo6ua3m30aj20nk0apabv.jpg)\n",
    "\n",
    "开始我们不断把问题划分为小的问题，直到问题不能再继续划分为止。当到达了划分的终点，我们就是可以把这些小问题拼接起来，直到把最初的问题解决。当最顶层的问题返回时，我们就得到了最终的答案。动态效果可以参考：[Calculating the Sum of a List of Numbers](http://interactivepython.org/runestone/static/pythonds/Recursion/pythondsCalculatingtheSumofaListofNumbers.html)"
   ]
  },
  {
   "cell_type": "markdown",
   "metadata": {},
   "source": [
    "## 递归三原则\n",
    "就如阿西莫夫机器人原则一样，递归也有三个原则：\n",
    "1. 递归算法必须要有一个基本情况（即最小问题）\n",
    "2. 递归算法必须改变状态并向着基本情况移动\n",
    "3. 递归算法必须调用自己，即递归"
   ]
  },
  {
   "cell_type": "markdown",
   "metadata": {},
   "source": [
    "基本情况就是可以让递归算法可以停止的情况，一个基本情况就是一个典型的足够小的可以直接解决的问题。在求数组和的例子中，基本情况就是 list 的长度为 1 。\n",
    "\n",
    "状态的改变意味着算法使用的某些数据被修改了，这些数据意味着我们的问题以某种方式变得越来越小。在数组求和的例子中，我们的基本数据结构是 list，因此我们更关注 list 状态的改变。在数组求和情况中，我们的基本情况是 list 的长度为1，因此我们的处理进程就是朝着**缩短 list** 的方向前进，而完成整个操做的正是行代码`numList[0] + listsum(numList[1:])`。\n",
    "\n",
    "最后一个规则：算法必须调用他自己。\n",
    "\n",
    "**练习**\n",
    "`fact(n)` 定义为 n * n-1 * n-2 ... ，且 fact（0）为 1 ，那么此递归的基本情况是什么？\n",
    "\n",
    "此问题的基本情况为 n <= 1，此情况既可以满足 fact（0）为 1，又可以满足 fact（1）为 1。"
   ]
  },
  {
   "cell_type": "markdown",
   "metadata": {},
   "source": [
    "## 应用 - 将整数转为以任意数为基底的字符串\n",
    "在前面使用 stack 做过类似的转换，此处将使用递归来完成类似的操作。例如整数769转为字符串'769'，对于单个数字我们可以使用一个整数序列`convString = '0123456789'`，从中查找需要转换的数即可`convString[7]`。而通过除 10 取余的方式可以将 769 转为单个数字，且递归的基本情况就是整数小于基底。示意图如下： ![img](https://ws1.sinaimg.cn/large/69d4185bly1fo7ojuvnlqj209u076t8t.jpg)\n",
    "\n",
    "因此，转换的步骤可以总结为如下：\n",
    "1. 将原始数字转为一串单个数字\n",
    "2. 通过查找将单个数字转为字符串\n",
    "3. 将单个字符串连接成最终的结果\n",
    "\n",
    "以十六进制转换为例，代码如下："
   ]
  },
  {
   "cell_type": "code",
   "execution_count": 1,
   "metadata": {},
   "outputs": [
    {
     "name": "stdout",
     "output_type": "stream",
     "text": [
      "5AD\n"
     ]
    }
   ],
   "source": [
    "def toStr(n,base):\n",
    "    convertString = \"0123456789ABCDEF\"\n",
    "    # 检查基本情况\n",
    "    if n < base:\n",
    "        return convertString[n]\n",
    "    else:\n",
    "        # 递归调用\n",
    "        return toStr(n//base,base) + convertString[n%base]\n",
    "\n",
    "print(toStr(1453,16))"
   ]
  },
  {
   "cell_type": "markdown",
   "metadata": {},
   "source": [
    "### 练习\n",
    "#### 字符串反转\n",
    "输入一个字符串返回一个顺序相反的字符串，如输入'weduoo' 返回 'ooudew'"
   ]
  },
  {
   "cell_type": "code",
   "execution_count": 8,
   "metadata": {},
   "outputs": [
    {
     "name": "stdout",
     "output_type": "stream",
     "text": [
      "ooudew\n",
      "\n"
     ]
    }
   ],
   "source": [
    "def revelStr(string):\n",
    "    if len(string) == 1 or len(string) == 0:\n",
    "        return string\n",
    "    else:\n",
    "        return revelStr(string[1:]) + string[0]\n",
    "\n",
    "print(revelStr('weduoo'))\n",
    "print(revelStr(''))"
   ]
  },
  {
   "cell_type": "markdown",
   "metadata": {},
   "source": [
    "#### 回文判断\n",
    "需要移除特殊的字符如：`madam i'm adam`。"
   ]
  },
  {
   "cell_type": "code",
   "execution_count": 21,
   "metadata": {},
   "outputs": [
    {
     "name": "stdout",
     "output_type": "stream",
     "text": [
      "True\n",
      "True\n",
      "False\n",
      "True\n",
      "True\n",
      "True\n"
     ]
    }
   ],
   "source": [
    "def removeWhite(s):\n",
    "    reps = [\" \", \",\",\"'\",\"-\",\";\",\".\"]\n",
    "    for i in reps:\n",
    "        s = s.replace(i,\"\")\n",
    "    return s.lower()\n",
    "\n",
    "def isPal(s):\n",
    "    new = removeWhite(s)\n",
    "    revStr = revelStr(new)\n",
    "    return new == revStr\n",
    "\n",
    "print(isPal(\"Go hang a salami; I'm a lasagna hog.\"))\n",
    "print(isPal(\"radar\"))\n",
    "print(isPal(\"hello\"))\n",
    "print(isPal(\"\"))\n",
    "print(isPal(\"hannah\"))\n",
    "print(isPal(\"madam i'm adam\"))"
   ]
  },
  {
   "cell_type": "markdown",
   "metadata": {},
   "source": [
    "## 栈帧（Stack Frames）：实现递归\n",
    "使用栈实现递归调用如下："
   ]
  },
  {
   "cell_type": "code",
   "execution_count": null,
   "metadata": {},
   "outputs": [],
   "source": [
    "# 从 线性结构一章导入\n",
    "rStack = Stack()\n",
    "\n",
    "def toStr(n,base):\n",
    "    convertString = \"0123456789ABCDEF\"\n",
    "    while n > 0:\n",
    "        if n < base:\n",
    "            rStack.push(convertString[n])\n",
    "        else:\n",
    "            rStack.push(convertString[n % base])\n",
    "        n = n // base\n",
    "    res = \"\"\n",
    "    while not rStack.isEmpty():\n",
    "        res = res + str(rStack.pop())\n",
    "    return res\n",
    "\n",
    "print(toStr(1453,16))"
   ]
  },
  {
   "cell_type": "markdown",
   "metadata": {},
   "source": [
    "上面程序没循环一次就向 stack 中添加一个值，最终只要把数据从 stack 中弹出，然后连接起来就是我们的最终结果，stack 中的值如下：![img](https://ws1.sinaimg.cn/large/69d4185bly1fo7wfwg0itj205m05omx5.jpg)\n",
    "\n",
    "上面程序的实现可以一窥 python 如何实现递归调用的。在python中，当一个函数被调用，一个栈帧（Stack Frames）就被分配用于处理函数的局部变量。当函数返回时，返回值被留在栈帧的顶部，供调用函数去访问。如下展示了返回语句之后的调用栈：![img](https://ws1.sinaimg.cn/large/69d4185bly1fo7ws0f0j5j208h08paac.jpg)"
   ]
  },
  {
   "cell_type": "markdown",
   "metadata": {},
   "source": [
    "从上可以看到`toStr(2//2,2) `调用在栈上产生一个`1`返回值，这个返回值又会在表达式` \"1\" + convertString[2%2]`中来替代函数（`toStr(1,2)`）的调用，这会又会在栈顶产生一个`10`值。通过这种方式，python调用栈来代替我们显示的使用栈。\n",
    "\n",
    "栈帧为函数使用的变量提供了作用域，虽然重复的调用了相同的函数，但每次调用都为函数局部变量创建了新的作用域。"
   ]
  },
  {
   "cell_type": "markdown",
   "metadata": {},
   "source": [
    "## 递归可视化\n",
    "可视化使用 python 的标准图形模块`turtle`。如下绘画一个螺旋形的示例："
   ]
  },
  {
   "cell_type": "code",
   "execution_count": 1,
   "metadata": {},
   "outputs": [],
   "source": [
    "import turtle\n",
    "import random\n",
    "turtle.colormode(255)\n",
    "myTurtle = turtle.Turtle()\n",
    "myWin = turtle.Screen()\n",
    "\n",
    "def drawSpiral(myTurtle, lineLen):\n",
    "    if lineLen > 0:\n",
    "        r = random.randint(0,255)\n",
    "        g = random.randint(0,255)\n",
    "        b = random.randint(0,255)\n",
    "        myTurtle.color(int(r),int(g),int(b))\n",
    "        myTurtle.forward(lineLen)\n",
    "        myTurtle.right(90)\n",
    "        drawSpiral(myTurtle,lineLen-1)\n",
    "myTurtle.setposition(-200,200)\n",
    "myTurtle.speed(0)\n",
    "drawSpiral(myTurtle,450)\n",
    "myWin.exitonclick()"
   ]
  },
  {
   "cell_type": "markdown",
   "metadata": {},
   "source": [
    "### 分形树\n",
    "使用递归实现的分形树如下：![image](http://wx1.sinaimg.cn/large/69d4185bly1fo7z7z2ffbj207q07f0sk.jpg)\n",
    "树中的每一个节点都是一次递归调用，每个最终节点都是当前递归的结束。"
   ]
  },
  {
   "cell_type": "code",
   "execution_count": null,
   "metadata": {},
   "outputs": [],
   "source": [
    "# 原始代码\n",
    "import turtle\n",
    "\n",
    "def tree(branchLen,t):\n",
    "    if branchLen > 5:\n",
    "        t.forward(branchLen)\n",
    "        t.right(20)\n",
    "        tree(branchLen-15,t)\n",
    "        t.left(40)\n",
    "        tree(branchLen-15,t)\n",
    "        t.right(20)\n",
    "        t.backward(branchLen)\n",
    "\n",
    "def main():\n",
    "    t = turtle.Turtle()\n",
    "    myWin = turtle.Screen()\n",
    "    t.left(90)\n",
    "    t.up()\n",
    "    t.backward(100)\n",
    "    t.down()\n",
    "    t.color(\"green\")\n",
    "    t.speed(1)\n",
    "    tree(75,t)\n",
    "    myWin.exitonclick()\n",
    "\n",
    "main()"
   ]
  },
  {
   "cell_type": "code",
   "execution_count": null,
   "metadata": {},
   "outputs": [],
   "source": [
    "import turtle\n",
    "import random\n",
    "\n",
    "def tree(branchLen,t):\n",
    "    if branchLen > 5:\n",
    "        r = random.randint(0,255)\n",
    "        g = random.randint(0,255)\n",
    "        b = random.randint(0,255)\n",
    "        t.color(int(r),int(g),int(b))\n",
    "        t.forward(branchLen)\n",
    "        t.right(20)\n",
    "        # 递归调用生成右侧\n",
    "        tree(branchLen-5,t)\n",
    "        t.left(40)\n",
    "        # 递归调用生成左侧\n",
    "        tree(branchLen-5,t)\n",
    "        t.right(20)\n",
    "        t.backward(branchLen)\n",
    "        \n",
    "def main():\n",
    "    turtle.colormode(255)\n",
    "    t = turtle.Turtle()\n",
    "    myWin = turtle.Screen()\n",
    "    \n",
    "    t.left(90)\n",
    "    t.up()\n",
    "    t.backward(100)\n",
    "    t.setx(-150)\n",
    "    t.down()\n",
    "    t.color(\"green\")\n",
    "    t.speed(0)\n",
    "    tree(100,t)\n",
    "    myWin.exitonclick()\n",
    "\n",
    "main()"
   ]
  },
  {
   "cell_type": "markdown",
   "metadata": {},
   "source": [
    "### 谢尔宾斯基三角(Sierpinski Triangle)\n",
    "其形式如下：![img](https://ws1.sinaimg.cn/large/69d4185bly1fo7zumri99j20cl0ba40p.jpg)"
   ]
  },
  {
   "cell_type": "code",
   "execution_count": 1,
   "metadata": {},
   "outputs": [],
   "source": [
    "import turtle\n",
    "import random\n",
    "def drawst(Linelen, t):\n",
    "    if Linelen > 10:\n",
    "        r = random.randint(0, 255)\n",
    "        g = random.randint(0, 255)\n",
    "        b = random.randint(0, 255)\n",
    "        t.color(r,g,b)\n",
    "        t.forward(Linelen)\n",
    "        t.left(120)\n",
    "        drawst(Linelen/2, t)\n",
    "        t.forward(Linelen)\n",
    "        t.left(120)\n",
    "        drawst(Linelen/2, t)\n",
    "        t.forward(Linelen)\n",
    "        t.left(120)\n",
    "        drawst(Linelen/2, t)\n",
    "    \n",
    "def main():\n",
    "    t = turtle.Turtle()\n",
    "    myWin = turtle.Screen()\n",
    "    turtle.colormode(255)\n",
    "    t.speed(0)\n",
    "    t.backward(100)\n",
    "    drawst(300,t)\n",
    "    myWin.exitonclick()\n",
    "main()"
   ]
  },
  {
   "cell_type": "code",
   "execution_count": null,
   "metadata": {},
   "outputs": [],
   "source": [
    "import turtle\n",
    "\n",
    "def drawTriangle(points,color,myTurtle):\n",
    "    myTurtle.fillcolor(color)\n",
    "    myTurtle.up()\n",
    "    myTurtle.goto(points[0][0],points[0][1])\n",
    "    myTurtle.down()\n",
    "    myTurtle.begin_fill()\n",
    "    myTurtle.goto(points[1][0],points[1][1])\n",
    "    myTurtle.goto(points[2][0],points[2][1])\n",
    "    myTurtle.goto(points[0][0],points[0][1])\n",
    "    myTurtle.end_fill()\n",
    "\n",
    "def getMid(p1,p2):\n",
    "    return ( (p1[0]+p2[0]) / 2, (p1[1] + p2[1]) / 2)\n",
    "\n",
    "def sierpinski(points,degree,myTurtle):\n",
    "    colormap = ['blue','red','green','white','yellow',\n",
    "                'violet','orange']\n",
    "    drawTriangle(points,colormap[degree],myTurtle)\n",
    "    if degree > 0:\n",
    "        sierpinski([points[0],\n",
    "                        getMid(points[0], points[1]),\n",
    "                        getMid(points[0], points[2])],\n",
    "                   degree-1, myTurtle)\n",
    "        sierpinski([points[1],\n",
    "                        getMid(points[0], points[1]),\n",
    "                        getMid(points[1], points[2])],\n",
    "                   degree-1, myTurtle)\n",
    "        sierpinski([points[2],\n",
    "                        getMid(points[2], points[1]),\n",
    "                        getMid(points[0], points[2])],\n",
    "                   degree-1, myTurtle)\n",
    "\n",
    "def main():\n",
    "    myTurtle = turtle.Turtle()\n",
    "    myWin = turtle.Screen()\n",
    "    myPoints = [[-100,-50],[0,100],[100,-50]]\n",
    "    myTurtle.speed(0)\n",
    "    sierpinski(myPoints,6,myTurtle)\n",
    "    myWin.exitonclick()\n",
    "main()"
   ]
  },
  {
   "cell_type": "markdown",
   "metadata": {},
   "source": [
    "上述代码运行的过程如下：![image](http://ws4.sinaimg.cn/large/69d4185bly1fo8sx0cjaug208606h77m.gif)"
   ]
  },
  {
   "cell_type": "markdown",
   "metadata": {},
   "source": [
    "具体绘制的过程与初始化设置有关，假设执行上的顺序为左下、顶部、右下。`sierpinski` 函数会调用他自己，开始先绘制左下角，一直绘制到允许的最小值，然后再退回去绘制其他部分。接着去绘制最顶部的部分，知道绘制到允许到的最小值，最后是右下角。\n",
    "\n",
    "使用图形可以很好地展示递归的调用过程，以左下角部分的绘制为例，递归的调用示意图如下：![img](https://ws1.sinaimg.cn/large/69d4185bly1fo8t6tpm41j20ci0bmt9k.jpg)"
   ]
  },
  {
   "cell_type": "markdown",
   "metadata": {},
   "source": [
    "## 汉诺塔\n",
    "可参考[Tower of Hanoi](http://interactivepython.org/runestone/static/pythonds/Recursion/TowerofHanoi.html?lastPosition=2164)。代码如下："
   ]
  },
  {
   "cell_type": "code",
   "execution_count": 6,
   "metadata": {},
   "outputs": [
    {
     "name": "stdout",
     "output_type": "stream",
     "text": [
      "moving disk from A to B\n",
      "moving disk from A to C\n",
      "moving disk from B to C\n",
      "moving disk from A to B\n",
      "moving disk from C to A\n",
      "moving disk from C to B\n",
      "moving disk from A to B\n"
     ]
    }
   ],
   "source": [
    "def moveTower(height,fromPole, toPole, withPole):\n",
    "    if height >= 1:\n",
    "        moveTower(height-1,fromPole,withPole,toPole)\n",
    "        moveDisk(fromPole,toPole)\n",
    "        moveTower(height-1,withPole,toPole,fromPole)\n",
    "\n",
    "def moveDisk(fp,tp):\n",
    "    print(\"moving disk from\",fp,\"to\",tp)\n",
    "\n",
    "moveTower(3,\"A\",\"B\",\"C\")"
   ]
  },
  {
   "cell_type": "markdown",
   "metadata": {},
   "source": [
    "## 迷宫探索\n",
    "把小乌龟放在一个迷宫中，让其探索自由的探索，如下：![img](https://ws1.sinaimg.cn/large/69d4185bly1fo920htje1j209g09r0t1.jpg)\n",
    "\n",
    "具体过程的探索，可以查看此文章[Exploring a Maze](http://interactivepython.org/runestone/static/pythonds/Recursion/ExploringaMaze.html)\n",
    "\n",
    "迷宫的形式如下（S 为开始探索的起点，从左侧读取数据转成数组）：![image](http://ws4.sinaimg.cn/large/69d4185bly1fo92f55zuxj20ie05w3yh.jpg)\n",
    "\n",
    "完整代码如下："
   ]
  },
  {
   "cell_type": "code",
   "execution_count": null,
   "metadata": {},
   "outputs": [],
   "source": [
    "import turtle\n",
    "\n",
    "PART_OF_PATH = 'O'\n",
    "TRIED = '.'\n",
    "OBSTACLE = '+'\n",
    "DEAD_END = '-'\n",
    "\n",
    "class Maze:\n",
    "    # 初始化一个迷宫\n",
    "    def __init__(self,mazeFileName):\n",
    "        rowsInMaze = 0\n",
    "        columnsInMaze = 0\n",
    "        self.mazelist = []\n",
    "        # 读取迷宫的文件\n",
    "        mazeFile = open(mazeFileName,'r')\n",
    "        rowsInMaze = 0\n",
    "        for line in mazeFile:\n",
    "            rowList = []\n",
    "            col = 0\n",
    "            for ch in line[:-1]:\n",
    "                rowList.append(ch)\n",
    "                if ch == 'S':\n",
    "                    self.startRow = rowsInMaze\n",
    "                    self.startCol = col\n",
    "                col = col + 1\n",
    "            rowsInMaze = rowsInMaze + 1\n",
    "            self.mazelist.append(rowList)\n",
    "            columnsInMaze = len(rowList)\n",
    "\n",
    "        self.rowsInMaze = rowsInMaze\n",
    "        self.columnsInMaze = columnsInMaze\n",
    "        self.xTranslate = -columnsInMaze/2\n",
    "        self.yTranslate = rowsInMaze/2\n",
    "        self.t = Turtle(shape='turtle')\n",
    "        setup(width=600,height=600)\n",
    "        setworldcoordinates(-(columnsInMaze-1)/2-.5,\n",
    "                            -(rowsInMaze-1)/2-.5,\n",
    "                            (columnsInMaze-1)/2+.5,\n",
    "                            (rowsInMaze-1)/2+.5)\n",
    "    # 绘制迷宫\n",
    "    def drawMaze(self):\n",
    "        self.t.speed(6)\n",
    "        self.wn.tracer(0)\n",
    "        for y in range(self.rowsInMaze):\n",
    "            for x in range(self.columnsInMaze):\n",
    "                if self.mazelist[y][x] == OBSTACLE:\n",
    "                    self.drawCenteredBox(x+self.xTranslate,\n",
    "                                         -y+self.yTranslate,\n",
    "                                         'tan')\n",
    "        self.t.color('black','blue')\n",
    "    \n",
    "    # 绘制砖块\n",
    "    def drawCenteredBox(self,x,y,color):\n",
    "        tracer(0)\n",
    "        self.t.up()\n",
    "        self.t.goto(x-.5,y-.5)\n",
    "        self.t.color('black',color)\n",
    "        self.t.setheading(90)\n",
    "        self.t.down()\n",
    "        self.t.begin_fill()\n",
    "        for i in range(4):\n",
    "            self.t.forward(1)\n",
    "            self.t.right(90)\n",
    "        self.t.end_fill()\n",
    "        update()\n",
    "        tracer(1)\n",
    "    \n",
    "    # 移动乌龟\n",
    "    def moveTurtle(self,x,y):\n",
    "        self.t.up()\n",
    "        self.t.setheading(self.t.towards(x+self.xTranslate,\n",
    "                                         -y+self.yTranslate))\n",
    "        self.t.goto(x+self.xTranslate,-y+self.yTranslate)\n",
    "        \n",
    "    # 绘制面包屑（用于标识是否已走过）\n",
    "    def dropBreadcrumb(self,color):\n",
    "        self.t.dot(color)\n",
    "    \n",
    "    # 更新位置\n",
    "    def updatePosition(self,row,col,val=None):\n",
    "        if val:\n",
    "            self.mazelist[row][col] = val\n",
    "        self.moveTurtle(col,row)\n",
    "\n",
    "        if val == PART_OF_PATH:\n",
    "            color = 'green'\n",
    "        elif val == OBSTACLE:\n",
    "            color = 'red'\n",
    "        elif val == TRIED:\n",
    "            color = 'black'\n",
    "        elif val == DEAD_END:\n",
    "            color = 'red'\n",
    "        else:\n",
    "            color = None\n",
    "\n",
    "        if color:\n",
    "            self.dropBreadcrumb(color)\n",
    "    \n",
    "    # 判断是否已经找到出口\n",
    "    def isExit(self,row,col):\n",
    "         return (row == 0 or\n",
    "                 row == self.rowsInMaze-1 or\n",
    "                 col == 0 or\n",
    "                 col == self.columnsInMaze-1 )\n",
    "\n",
    "    def __getitem__(self,idx):\n",
    "         return self.mazelist[idx]\n",
    "\n",
    "    "
   ]
  },
  {
   "cell_type": "code",
   "execution_count": null,
   "metadata": {},
   "outputs": [],
   "source": [
    "def searchFrom(maze, startRow, startColumn):\n",
    "    # try each of four directions from this point until we find a way out.\n",
    "    # base Case return values:\n",
    "    #  1. We have run into an obstacle, return false\n",
    "    maze.updatePosition(startRow, startColumn)\n",
    "    if maze[startRow][startColumn] == OBSTACLE :\n",
    "        return False\n",
    "    #  2. We have found a square that has already been explored\n",
    "    if maze[startRow][startColumn] == TRIED or maze[startRow][startColumn] == DEAD_END:\n",
    "        return False\n",
    "    # 3. We have found an outside edge not occupied by an obstacle\n",
    "    if maze.isExit(startRow,startColumn):\n",
    "        maze.updatePosition(startRow, startColumn, PART_OF_PATH)\n",
    "        return True\n",
    "    maze.updatePosition(startRow, startColumn, TRIED)\n",
    "    # Otherwise, use logical short circuiting to try each direction\n",
    "    # in turn (if needed)\n",
    "    found = searchFrom(maze, startRow-1, startColumn) or \\\n",
    "            searchFrom(maze, startRow+1, startColumn) or \\\n",
    "            searchFrom(maze, startRow, startColumn-1) or \\\n",
    "            searchFrom(maze, startRow, startColumn+1)\n",
    "    if found:\n",
    "        maze.updatePosition(startRow, startColumn, PART_OF_PATH)\n",
    "    else:\n",
    "        maze.updatePosition(startRow, startColumn, DEAD_END)\n",
    "    return found\n",
    "\n",
    "# maze2.txt中存着迷宫的地图\n",
    "myMaze = Maze('maze2.txt')\n",
    "myMaze.drawMaze()\n",
    "myMaze.updatePosition(myMaze.startRow,myMaze.startCol)\n",
    "\n",
    "searchFrom(myMaze, myMaze.startRow, myMaze.startCol)"
   ]
  },
  {
   "cell_type": "markdown",
   "metadata": {},
   "source": [
    "运行代码可以看到如下的效果：![image](http://ws4.sinaimg.cn/large/69d4185bly1fo92oqfz0tg20av0b2wk8.gif)"
   ]
  },
  {
   "cell_type": "markdown",
   "metadata": {},
   "source": [
    "修改移动方向的顺序，可以得到不同的路线图，如下：![image](http://ws4.sinaimg.cn/large/69d4185bly1fo93a67xbpj20cf0anjrr.jpg)"
   ]
  },
  {
   "cell_type": "markdown",
   "metadata": {},
   "source": [
    "## 动态规划 - 硬币面值组合\n",
    "参考[Dynamic Programming](http://interactivepython.org/runestone/static/pythonds/Recursion/DynamicProgramming.html)\n",
    "\n"
   ]
  },
  {
   "cell_type": "markdown",
   "metadata": {},
   "source": [
    "## 总结\n",
    "- All recursive algorithms must have a base case.\n",
    "- A recursive algorithm must change its state and make progress toward the base case.\n",
    "- A recursive algorithm must call itself (recursively).\n",
    "- Recursion can take the place of iteration in some cases.\n",
    "- Recursive algorithms often map very naturally to a formal expression of the problem you are trying to solve.\n",
    "- Recursion is not always the answer. Sometimes a recursive solution may be more computationally expensive than an alternative algorithm.\n"
   ]
  },
  {
   "cell_type": "markdown",
   "metadata": {},
   "source": [
    "## 讨论\n",
    "1. Draw a call stack for the Tower of Hanoi problem. Assume that you start with a stack of three disks.\n",
    "2. Using the recursive rules as described, draw a Sierpinski triangle using paper and pencil.\n",
    "3. Using the dynamic programming algorithm for making change, find the smallest number of coins that you can use to make 33 cents in change. In addition to the usual coins assume that you have an 8 cent coin.\n",
    "\n",
    "# 编程练习\n",
    "[Programming Exercises](http://interactivepython.org/runestone/static/pythonds/Recursion/pythondsProgrammingExercises.html)"
   ]
  },
  {
   "cell_type": "markdown",
   "metadata": {},
   "source": [
    "# 参考\n",
    "1. [The Three Laws of Recursion](http://interactivepython.org/runestone/static/pythonds/Recursion/TheThreeLawsofRecursion.html?lastPosition=0)\n",
    "1. [Stack Frames: Implementing Recursion](http://interactivepython.org/runestone/static/pythonds/Recursion/StackFramesImplementingRecursion.html#lst-recstack)\n",
    "1. [Introduction: Visualizing Recursion](http://interactivepython.org/runestone/static/pythonds/Recursion/pythondsintro-VisualizingRecursion.html#fig-tree2)\n",
    "1. [Sierpinski Triangle](http://interactivepython.org/runestone/static/pythonds/Recursion/pythondsSierpinskiTriangle.html)"
   ]
  }
 ],
 "metadata": {
  "kernelspec": {
   "display_name": "Python 3",
   "language": "python",
   "name": "python3"
  },
  "language_info": {
   "codemirror_mode": {
    "name": "ipython",
    "version": 2
   },
   "file_extension": ".py",
   "mimetype": "text/x-python",
   "name": "python",
   "nbconvert_exporter": "python",
   "pygments_lexer": "ipython2",
   "version": "2.7.14"
  },
  "toc": {
   "nav_menu": {},
   "number_sections": true,
   "sideBar": true,
   "skip_h1_title": false,
   "toc_cell": false,
   "toc_position": {
    "height": "535px",
    "left": "0px",
    "right": "984px",
    "top": "111px",
    "width": "382px"
   },
   "toc_section_display": "block",
   "toc_window_display": true
  }
 },
 "nbformat": 4,
 "nbformat_minor": 2
}
