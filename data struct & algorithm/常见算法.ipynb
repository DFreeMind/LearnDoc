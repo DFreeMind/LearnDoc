{
 "cells": [
  {
   "cell_type": "markdown",
   "metadata": {},
   "source": [
    "![image](http://wx2.sinaimg.cn/thumbnail/69d4185bly1fmf9kfagd3j20ek0ekq88.jpg)\n",
    "# 常见算法"
   ]
  },
  {
   "cell_type": "markdown",
   "metadata": {},
   "source": [
    "## 计算算法\n",
    "### 欧几里得最大公约数算法"
   ]
  },
  {
   "cell_type": "markdown",
   "metadata": {},
   "source": [
    "欧几里德算法又称辗转相除法，用于计算两个整数m, n的最大公约数。其计算原理依赖于下面的定理：\n",
    "\n",
    "    gcd(m, n) = gcd(n, m mod n)\n",
    "\n",
    "这个定理的意思是：整数m、n的最大公约数等于n和m除以n的余数的最大公约数。 \n",
    "\n",
    "例如：有两个整数：120和45，我们按照上面的方法求他们的最大公约数。\n",
    "\n",
    "1. gcd(120, 45) = gcd(45, 120 % 45) = gcd(45, 30)\n",
    "2. gcd(45, 30) = gcd(30, 45 % 30) = gcd(30, 15)\n",
    "3. gcd(30, 15) = gcd(15, 30 % 15) = gcd(15, 0) = 15\n",
    "\n",
    "当 m % n 等于零时，即求15和0的最大公约数时，这个循环应该终止，15就是120和45的最大公约数。"
   ]
  },
  {
   "cell_type": "code",
   "execution_count": 1,
   "metadata": {},
   "outputs": [
    {
     "data": {
      "text/plain": [
       "8"
      ]
     },
     "execution_count": 1,
     "metadata": {},
     "output_type": "execute_result"
    }
   ],
   "source": [
    "def gcd(m, n):\n",
    "    while n:\n",
    "        m, n = n, m % n\n",
    "    return m\n",
    "\n",
    "gcd(8,16)"
   ]
  },
  {
   "cell_type": "code",
   "execution_count": null,
   "metadata": {},
   "outputs": [],
   "source": []
  },
  {
   "cell_type": "markdown",
   "metadata": {},
   "source": [
    "## 排序算法\n",
    "### 快速排序\n",
    "\n",
    "先从待排序的数组中找出一个数作为基准数（取第一个数即可），然后将原来的数组划分成两部分：小于基准数的左子数组和大于等于基准数的右子数组。然后对这两个子数组再递归重复上述过程，直到两个子数组的所有数都分别有序。最后返回“左子数组” + “基准数” + “右子数组”，即是最终排序好的数组。\n",
    "\n",
    "可参考：\n",
    "- [用python实现快速排序算法](http://blog.csdn.net/dnxbjyj/article/details/70217804)\n",
    "- [快速排序的时间和空间复杂度](https://www.tianmaying.com/tutorial/quick-sort)\n",
    "- [常用排序算法稳定性、时间复杂度分析（转，有改动）](http://www.cnblogs.com/nannanITeye/archive/2013/04/11/3013737.html)"
   ]
  },
  {
   "cell_type": "code",
   "execution_count": 11,
   "metadata": {},
   "outputs": [
    {
     "name": "stdout",
     "output_type": "stream",
     "text": [
      "[1, 2, 3, 4, 5, 6, 7, 8, 9, 10]\n"
     ]
    }
   ],
   "source": [
    "# 第一种写法\n",
    "def quicksort(nums):\n",
    "    if len(nums) <= 1:\n",
    "        return nums\n",
    "\n",
    "    # 左子数组\n",
    "    less = []\n",
    "    # 右子数组\n",
    "    greater = []\n",
    "    # 基准数\n",
    "    base = nums.pop()\n",
    "\n",
    "    # 对原数组进行划分\n",
    "    for x in nums:\n",
    "        if x < base:\n",
    "            less.append(x)\n",
    "        else:\n",
    "            greater.append(x)\n",
    "\n",
    "    # 递归调用\n",
    "    return quicksort(less) + [base] + quicksort(greater)\n",
    "\n",
    "def main():\n",
    "    nums = [6,1,2,7,9,3,4,5,10,8]\n",
    "    print(quicksort(nums))\n",
    "\n",
    "main()"
   ]
  },
  {
   "cell_type": "code",
   "execution_count": 12,
   "metadata": {},
   "outputs": [
    {
     "name": "stdout",
     "output_type": "stream",
     "text": [
      "[1, 4, 63, 78, 98, 215, 254]\n"
     ]
    }
   ],
   "source": [
    "# 第二种更加简洁的写法\n",
    "def quick_sort(list):\n",
    "    \"\"\"Quicksort\"\"\"\n",
    "    if list == []: \n",
    "        return []\n",
    "    else:\n",
    "        pivot = list[0]\n",
    "        lesser = quick_sort([x for x in list[1:] if x < pivot])\n",
    "        greater = quick_sort([x for x in list[1:] if x >= pivot])\n",
    "        return lesser + [pivot] + greater\n",
    "\n",
    "def min_element(list):\n",
    "    sort_list = quick_sort(list)\n",
    "    return sort_list\n",
    "\n",
    "print(min_element([98,4,1,78,215,63,254]))"
   ]
  },
  {
   "cell_type": "code",
   "execution_count": null,
   "metadata": {},
   "outputs": [],
   "source": []
  }
 ],
 "metadata": {
  "kernelspec": {
   "display_name": "Python 3",
   "language": "python",
   "name": "python3"
  },
  "language_info": {
   "codemirror_mode": {
    "name": "ipython",
    "version": 3
   },
   "file_extension": ".py",
   "mimetype": "text/x-python",
   "name": "python",
   "nbconvert_exporter": "python",
   "pygments_lexer": "ipython3",
   "version": "3.6.3"
  },
  "toc": {
   "nav_menu": {},
   "number_sections": true,
   "sideBar": true,
   "skip_h1_title": false,
   "toc_cell": false,
   "toc_position": {
    "height": "535px",
    "left": "0px",
    "right": "1041px",
    "top": "111px",
    "width": "301px"
   },
   "toc_section_display": "block",
   "toc_window_display": true
  }
 },
 "nbformat": 4,
 "nbformat_minor": 2
}
