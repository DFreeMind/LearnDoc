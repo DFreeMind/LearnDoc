{
 "cells": [
  {
   "cell_type": "markdown",
   "metadata": {},
   "source": [
    "![image](http://wx2.sinaimg.cn/thumbnail/69d4185bly1fmf9kfagd3j20ek0ekq88.jpg)"
   ]
  },
  {
   "cell_type": "markdown",
   "metadata": {},
   "source": [
    "# 线性数据结构\n",
    "Stacks、queues、deques、 和 lists 等集合元素的顺序是由元素的插入顺序来决定，一个元素在另一个元素的前面或者后面，这样的数据结构就称为**线性数据结构** 。\n",
    "\n",
    "线性结构有两个结尾（`end`），可以叫做`left`或者`right`，也可以叫做`front`或者`rear`，也可以叫做`top`或者`bottom`。给结尾（`end`）的名字并没有实际的意义，一个线性结构与另一个是通过添加`add`与`remove`操作来区分，特别是这些操作发生的位置。如，有的线性结构只允许从一个结尾添加，另一个可能两个结尾都允许。\n",
    "\n",
    "这些变体在计算机科学上产生了很多有用的数据结构。"
   ]
  },
  {
   "cell_type": "markdown",
   "metadata": {},
   "source": [
    "## 栈（stack）\n",
    "栈（有时候也成为“下推栈”[push-down stack]）是一个有序的集合，添加和移除已存在的元素都在同一个`end`，此`end`被称为`top`，而相对的另一边称为`base`。<sup>[2]</sup>\n",
    "\n",
    "栈的`base`的意义在于，元素存贮位置越接近`base`表示在栈中存在的时间越久，最新添加的元素，在位置上会最先被移除。这种排序规则有时候也被称为后入先出（LIFO-last in first out），在集合中提供了基于时间长度的排序，越新的元素越接近`top`，越久的元素越接近`base`。\n",
    "\n",
    "栈在生活中有很多应用的案例，如自主餐厅的盘子，你总是拿走`top`的盘子，然后将下一个盘子暴露给另一个顾客。又如，浏览器浏览网页，并点击后退按钮后退的例子。再如，桌子上有一摞书，我们只能看到在`top`的书，为了能看到其他书，我们需要移除`top`的书，示意图如下：![image](http://wx2.sinaimg.cn/large/69d4185bly1fo0qnpakhej20jg066my9.jpg)"
   ]
  },
  {
   "cell_type": "markdown",
   "metadata": {},
   "source": [
    "One of the most useful ideas related to stacks comes from the simple observation of items as they are added and then removed. Assume you start out with a clean desktop. Now place books one at a time on top of each other. You are constructing a stack. Consider what happens when you begin removing books. The order that they are removed is exactly the reverse of the order that they were placed. **Stacks are fundamentally important, as they can be used to reverse the order of items**. The order of insertion is the reverse of the order of removal.![img](https://ws1.sinaimg.cn/large/69d4185bly1fo0qouh2w9j20e6065wfa.jpg)"
   ]
  },
  {
   "cell_type": "markdown",
   "metadata": {},
   "source": [
    "### 栈抽象数据类型\n",
    "\n",
    "可以通过以下操作和结构来定义一个抽象的栈。\n",
    "- `Stack()`：创建一个栈，不需要参数，返回一个空栈\n",
    "- `push(item)`：向栈的顶部`top`添加一个元素，需要参数且无返回值\n",
    "- `pop()`：从栈顶移除一个元素，不需要参数同时返回被移除的元素。栈被修改\n",
    "- `peek()`：返回处在栈顶的元素，但不移出。栈没有被修改\n",
    "- `isEmpty()`：判断栈是否为空，不需要参数，返回boolean值\n",
    "- `size()`：返回栈中元素的个数\n",
    "\n",
    "如下示例IMG-1：![image](http://wx2.sinaimg.cn/large/69d4185bly1fo0r57qkvqj20cf074aa5.jpg)"
   ]
  },
  {
   "cell_type": "markdown",
   "metadata": {},
   "source": [
    "### 使用python实现一个栈\n",
    "我们选择使用 list 来实现栈，因为 list 是一个有序元素的集合，且 python 的 list 提供了一系列的方法。我们只需要决定list的那一边作为 stack 的 `top`，哪一边作为`base`，一定决定了，就可以使用 list 的 `append`与`pop`来操作 stack。\n",
    "\n",
    "此处我么选择 list 的 `end` 作为stack 的 `top`，一个实现方法如下："
   ]
  },
  {
   "cell_type": "code",
   "execution_count": 3,
   "metadata": {},
   "outputs": [],
   "source": [
    "class Stack:\n",
    "    def __init__(self):\n",
    "        self.items = []\n",
    "\n",
    "    def isEmpty(self):\n",
    "        return self.items == []\n",
    "\n",
    "    def push(self, item):\n",
    "        self.items.append(item)\n",
    "\n",
    "    def pop(self):\n",
    "        return self.items.pop()\n",
    "\n",
    "    def peek(self):\n",
    "        return self.items[len(self.items)-1]\n",
    "\n",
    "    def size(self):\n",
    "        return len(self.items)"
   ]
  },
  {
   "cell_type": "code",
   "execution_count": 4,
   "metadata": {},
   "outputs": [
    {
     "name": "stdout",
     "output_type": "stream",
     "text": [
      "True\n",
      "dog\n",
      "3\n",
      "False\n",
      "8.4\n",
      "True\n",
      "2\n"
     ]
    }
   ],
   "source": [
    "# 使用栈\n",
    "s=Stack()\n",
    "\n",
    "print(s.isEmpty())\n",
    "s.push(4)\n",
    "s.push('dog')\n",
    "print(s.peek())\n",
    "s.push(True)\n",
    "print(s.size())\n",
    "print(s.isEmpty())\n",
    "s.push(8.4)\n",
    "print(s.pop())\n",
    "print(s.pop())\n",
    "print(s.size())"
   ]
  },
  {
   "cell_type": "markdown",
   "metadata": {},
   "source": [
    "以上我们实现是使用 list 的`end`作为 stack 的 `top`，如果选择 list 的 `begging` 作为 stack 的`top`，那么就要现实的使用list的 `pop()`与`insert`方法，实现如下："
   ]
  },
  {
   "cell_type": "code",
   "execution_count": 5,
   "metadata": {},
   "outputs": [
    {
     "name": "stdout",
     "output_type": "stream",
     "text": [
      "true\n"
     ]
    }
   ],
   "source": [
    "class Stack:\n",
    "    def __init__(self):\n",
    "        self.items = []\n",
    "\n",
    "    def isEmpty(self):\n",
    "        return self.items == []\n",
    "\n",
    "    def push(self, item):\n",
    "        self.items.insert(0,item)\n",
    "\n",
    "    def pop(self):\n",
    "        return self.items.pop(0)\n",
    "\n",
    "    def peek(self):\n",
    "        return self.items[0]\n",
    "\n",
    "    def size(self):\n",
    "        return len(self.items)\n",
    "\n",
    "s = Stack()\n",
    "s.push('hello')\n",
    "s.push('true')\n",
    "print(s.pop())"
   ]
  },
  {
   "cell_type": "markdown",
   "metadata": {},
   "source": [
    "Recall that the `append` and `pop()` operations were both **O(1)** . This means that the first implementation will perform `push` and `pop` in constant time no matter how many items are on the stack. The performance of the second implementation suffers in that the `insert(0)` and `pop(0)` operations will both require **O(n)** for a stack of size n. Clearly, even though the implementations are logically equivalent, they would have very different timings when performing benchmark testing."
   ]
  },
  {
   "cell_type": "markdown",
   "metadata": {},
   "source": [
    "### 练习\n",
    "Write a function revstring(mystr) that uses a stack to reverse the characters in a string."
   ]
  },
  {
   "cell_type": "code",
   "execution_count": 6,
   "metadata": {},
   "outputs": [
    {
     "name": "stdout",
     "output_type": "stream",
     "text": [
      "ooudew\n"
     ]
    }
   ],
   "source": [
    "def revstring(mystr):\n",
    "    source = Stack()\n",
    "    for ch in mystr:\n",
    "        source.push(ch)\n",
    "        \n",
    "    new = ''\n",
    "    while not source.isEmpty():\n",
    "        new += source.pop()\n",
    "    return new\n",
    "\n",
    "print(revstring('weduoo'))"
   ]
  },
  {
   "cell_type": "markdown",
   "metadata": {},
   "source": [
    "### 应用 - 简单平衡圆括号\n",
    "此应用可以用于检测程序或者数学公式中圆括号“（）”使用是否正确，平衡圆括号的示意图如下：![img](https://ws1.sinaimg.cn/large/69d4185bly1fo0ys6vzetj20a1038mxb.jpg)\n",
    "\n",
    "使用stack实现此方法的思路如下：\n",
    "- 遇到 `\"(\"` 将其放入到stack中\n",
    "- 遇到 `\")\"`就进行出栈操作，在执行弹栈操作之前判断stack是否为空，如果此时为空则圆括号不平衡\n",
    "- 一直遍历字符串，直到字符串结束，如果此时stack为空，则圆括号是平衡的，若不为空则是不平衡的"
   ]
  },
  {
   "cell_type": "code",
   "execution_count": 7,
   "metadata": {},
   "outputs": [
    {
     "name": "stdout",
     "output_type": "stream",
     "text": [
      "True\n",
      "False\n"
     ]
    }
   ],
   "source": [
    "def parChecker(symbolString):\n",
    "    # 初始化参数\n",
    "    s = Stack()\n",
    "    balanced = True\n",
    "    index = 0\n",
    "    while index < len(symbolString) and balanced:\n",
    "        symbol = symbolString[index]\n",
    "        if symbol == \"(\":\n",
    "            # 入栈\n",
    "            s.push(symbol)\n",
    "        else:\n",
    "            # 出栈先判断是否为空\n",
    "            if s.isEmpty():\n",
    "                balanced = False\n",
    "            else:\n",
    "                s.pop()\n",
    "\n",
    "        index = index + 1\n",
    "\n",
    "    if balanced and s.isEmpty():\n",
    "        return True\n",
    "    else:\n",
    "        return False\n",
    "\n",
    "print(parChecker('((()))'))\n",
    "print(parChecker('(()'))"
   ]
  },
  {
   "cell_type": "markdown",
   "metadata": {},
   "source": [
    "### 应用 - 通用平衡圆括号\n",
    "上面的的只是匹配了圆括号，但在一般的程序中会含有更多类型的括号，如`{ { ( [ ] [ ] ) } ( ) }`。为了实现更通用的方法，我们只需修改上述代码的这部分就可以：\n",
    "```python\n",
    "if s.isEmpty():\n",
    "    balanced = False\n",
    "else:\n",
    "    s.pop()\n",
    "```    "
   ]
  },
  {
   "cell_type": "code",
   "execution_count": 8,
   "metadata": {
    "code_folding": []
   },
   "outputs": [
    {
     "name": "stdout",
     "output_type": "stream",
     "text": [
      "True\n",
      "False\n"
     ]
    }
   ],
   "source": [
    "def parChecker(symbolString):\n",
    "    s = Stack()\n",
    "    balanced = True\n",
    "    index = 0\n",
    "    while index < len(symbolString) and balanced:\n",
    "        symbol = symbolString[index]\n",
    "        if symbol in \"([{\":\n",
    "            s.push(symbol)\n",
    "        else:\n",
    "            if s.isEmpty():\n",
    "                balanced = False\n",
    "            else:\n",
    "                top = s.pop()\n",
    "                if not matches(top,symbol):\n",
    "                       balanced = False\n",
    "        index = index + 1\n",
    "    if balanced and s.isEmpty():\n",
    "        return True\n",
    "    else:\n",
    "        return False\n",
    "\n",
    "def matches(open,close):\n",
    "    opens = \"([{\"\n",
    "    closers = \")]}\"\n",
    "    return opens.index(open) == closers.index(close)\n",
    "\n",
    "print(parChecker('{{([][])}()}'))\n",
    "print(parChecker('[{()]'))"
   ]
  },
  {
   "cell_type": "markdown",
   "metadata": {},
   "source": [
    "### 应用 - 十进制数转二进制数\n",
    "可以使用`Divide by 2`算法来实现，如下图：![img](https://ws1.sinaimg.cn/large/69d4185bly1fo10gxif2qj20fe076jrn.jpg)\n",
    "\n",
    "实现代码如下："
   ]
  },
  {
   "cell_type": "code",
   "execution_count": 9,
   "metadata": {},
   "outputs": [
    {
     "name": "stdout",
     "output_type": "stream",
     "text": [
      "101010\n",
      "11101001\n",
      "10001\n",
      "101101\n",
      "1100000\n"
     ]
    }
   ],
   "source": [
    "def divideBy2(decNumber):\n",
    "    remstack = Stack()\n",
    "\n",
    "    while decNumber > 0:\n",
    "        # 取余数然后入栈\n",
    "        rem = decNumber % 2\n",
    "        remstack.push(rem)\n",
    "        # 取整\n",
    "        decNumber = decNumber // 2\n",
    "\n",
    "    binString = \"\"\n",
    "    while not remstack.isEmpty():\n",
    "        binString = binString + str(remstack.pop())\n",
    "\n",
    "    return binString\n",
    "\n",
    "print(divideBy2(42))\n",
    "print(divideBy2(233))\n",
    "print(divideBy2(17))\n",
    "print(divideBy2(45))\n",
    "print(divideBy2(96))"
   ]
  },
  {
   "cell_type": "markdown",
   "metadata": {},
   "source": [
    "### 应用 - 十进制数转任意（1-16）进制数\n",
    "只需要将上面代码代码稍作转换即可。"
   ]
  },
  {
   "cell_type": "code",
   "execution_count": 13,
   "metadata": {},
   "outputs": [
    {
     "name": "stdout",
     "output_type": "stream",
     "text": [
      "11001\n",
      "19\n",
      "25\n"
     ]
    }
   ],
   "source": [
    "def baseConverter(decNumber,base):\n",
    "    digits = \"0123456789ABCDEF\"\n",
    "\n",
    "    remstack = Stack()\n",
    "\n",
    "    while decNumber > 0:\n",
    "        rem = decNumber % base\n",
    "        remstack.push(rem)\n",
    "        decNumber = decNumber // base\n",
    "\n",
    "    newString = \"\"\n",
    "    while not remstack.isEmpty():\n",
    "        newString = newString + digits[remstack.pop()]\n",
    "\n",
    "    return newString\n",
    "\n",
    "print(baseConverter(25,2))\n",
    "print(baseConverter(25,16))\n",
    "print(baseConverter(25,10))"
   ]
  },
  {
   "cell_type": "markdown",
   "metadata": {},
   "source": [
    "## 中缀、前缀、后缀表达式"
   ]
  },
  {
   "cell_type": "markdown",
   "metadata": {},
   "source": [
    "### 操作解析\n",
    "**中缀**\n",
    "如 B * C，其中的 `*` 就是中缀表达式，因为 `*` 位于操作数的两端。\n",
    "\n",
    "**前缀**\n",
    "`A+B` 在前缀表达式中可以写成 `+AB`\n",
    "\n",
    "**后缀**\n",
    "`A+B` 在前缀表达式中可以写成 `AB+`\n",
    "\n",
    "三者不含括号的操作如下：![image](http://wx2.sinaimg.cn/large/69d4185bly1fo11i6okd2j20iu02w3yb.jpg)\n",
    "\n",
    "含有括号的操作：![image](http://wx2.sinaimg.cn/large/69d4185bly1fo121cj1o5j20j501uq2q.jpg)\n",
    "\n",
    "多元复杂操作：![image](http://wx2.sinaimg.cn/large/69d4185bly1fo1222x4ezj20ix051746.jpg)"
   ]
  },
  {
   "cell_type": "markdown",
   "metadata": {},
   "source": [
    "从上面的列表操作结果可以总结出规律，在前缀中与靠前的符号优先级越低，在后缀中则是越靠后优先级越低。如下图:![image](http://wx2.sinaimg.cn/large/69d4185bly1fo13oeztupj20lt0daaaq.jpg)"
   ]
  },
  {
   "cell_type": "markdown",
   "metadata": {},
   "source": [
    "从前后缀表达式推导中缀表达式：![image](http://wx2.sinaimg.cn/large/69d4185bly1fo13o3dnrlj20jx0800su.jpg)"
   ]
  },
  {
   "cell_type": "markdown",
   "metadata": {},
   "source": [
    "### 中缀转成为前缀与后缀表达式"
   ]
  },
  {
   "cell_type": "markdown",
   "metadata": {},
   "source": [
    "**第一种方法：全括号法**\n",
    "\n",
    "实现方法为将表达式修改为全括号表达式，在后缀表达式中将右括号替换为相应配对括号里面的符号，如下：![img](https://ws1.sinaimg.cn/large/69d4185bly1fo1vp5utmsj207y023746.jpg)\n",
    "\n",
    "前缀表达式操作方式则如下：![img](https://ws1.sinaimg.cn/large/69d4185bly1fo1vpr3xayj207y028q2t.jpg)\n",
    "\n",
    "如下示例，将: (A + B) * C - (D - E) * (F + G)转换为前缀或者后缀表达式：![img](https://ws1.sinaimg.cn/large/69d4185bly1fo1vt060zkj20dm03gjrc.jpg)"
   ]
  },
  {
   "cell_type": "markdown",
   "metadata": {},
   "source": [
    "**第二种：通用转后缀方法**\n",
    "\n",
    "此处依然使用stack来完成操作：\n",
    "1. 创建一个空的stack，如`opstack`，用于存储操作符；创建一个空的 list 用于存储输出\n",
    "2. 将输入的表达式字符串使用`split`的切分（此处假设使用空格来分割表达式的每个符号与操作出）转成 list\n",
    "3. 从左到右扫描被转成 list 的字符串\n",
    "    - 如果遇到操作数，就将其放入输出list中\n",
    "    - 如果是左圆括号，则将其放入stack中\n",
    "    - 如果遇到右圆括号，进行弹栈操作，直到相关的左括号被移除，并追加每一个操作符到输出list的末尾\n",
    "    - 如果是操作符 `+`、`-`、`*`、`/` 则进行入栈操作。但，首先需要移除在`opstack`栈中具有较高或者相同等级的操作符，然后将它添加到输出list中。\n",
    "4. 当表达式被全部处理以后，检查opstack，仍然在栈中的操作符，可以直接追加到输出list中\n",
    "\n",
    "以`A * B + C * D`为例，处理过程如下：![image](http://wx2.sinaimg.cn/large/69d4185bly1fo1xm34oaij20hp08awfg.jpg)\n",
    "\n",
    "代码如下："
   ]
  },
  {
   "cell_type": "code",
   "execution_count": 19,
   "metadata": {},
   "outputs": [
    {
     "name": "stdout",
     "output_type": "stream",
     "text": [
      "A B * C D * +\n",
      "A B + C * D E - F G + * -\n",
      "5 3 4 2 - ** *\n"
     ]
    }
   ],
   "source": [
    "def infixToPostfix(infixexpr):\n",
    "    prec = {}\n",
    "    prec[\"**\"] = 4\n",
    "    prec[\"*\"] = 3\n",
    "    prec[\"/\"] = 3\n",
    "    prec[\"+\"] = 2\n",
    "    prec[\"-\"] = 2\n",
    "    prec[\"(\"] = 1\n",
    "    opStack = Stack()\n",
    "    postfixList = []\n",
    "    tokenList = infixexpr.split()\n",
    "\n",
    "    for token in tokenList:\n",
    "        if token in \"ABCDEFGHIJKLMNOPQRSTUVWXYZ\" or token in \"0123456789\":\n",
    "            # 将操作数放入 list 中\n",
    "            postfixList.append(token)\n",
    "        elif token == '(':\n",
    "            # 左括号放入 stack 中\n",
    "            opStack.push(token)\n",
    "        elif token == ')':\n",
    "            # 右括号 进行 弹栈操作\n",
    "            topToken = opStack.pop()\n",
    "            while topToken != '(':\n",
    "                # 若弹出的不是左括号，则将其追缴到 list中\n",
    "                # 并继续弹栈操作，直到遇到左括号\n",
    "                postfixList.append(topToken)\n",
    "                topToken = opStack.pop()\n",
    "        else:\n",
    "            # 遇到操作符的处理\n",
    "            while (not opStack.isEmpty()) and \\\n",
    "               (prec[opStack.peek()] >= prec[token]):\n",
    "                # 比当前操作符优先级高的操作符进行出站操作\n",
    "                # 并将其加入到输出list中\n",
    "                  postfixList.append(opStack.pop())\n",
    "            opStack.push(token)\n",
    "    \n",
    "    # 判断 stack是否为空，不为空则将说有的元素弹出\n",
    "    # 并将其加入到 list 中\n",
    "    while not opStack.isEmpty():\n",
    "        postfixList.append(opStack.pop())\n",
    "    \n",
    "    # 输出最终救过\n",
    "    return \" \".join(postfixList)\n",
    "\n",
    "print(infixToPostfix(\"A * B + C * D\"))\n",
    "print(infixToPostfix(\"( A + B ) * C - ( D - E ) * ( F + G )\"))\n",
    "print(infixToPostfix(\"5 * 3 ** ( 4 - 2 )\"))"
   ]
  },
  {
   "cell_type": "markdown",
   "metadata": {},
   "source": [
    "### 后缀表表达式的计算\n",
    "此处依然使用 stack 作为存储的数据结构，具体计算步奏如下：\n",
    "1. 创建一个空的`operandStack` 栈\n",
    "2. 通过 split 方法将后缀表达式字符串转成 list\n",
    "3. 从左到右扫描list\n",
    "    - 如果标识只一个操作数则，将字符串转成int类型放入到 `operandStack` 中\n",
    "    - 如果标识是 `*`、 `/`、 `+`、 `-` ，需要从 `operandStack` 中弹出两个数进行算数计算，弹出的第一个数作为操作的第二个数，弹出的第二个数作为操作的第二个数(在做除法时很中要)，然后把结果重新放入 `operandStack` 中。\n",
    "4. 当处理完成所有的输入，`operandStack` 中只有一个数，将其弹出既是最后的值\n",
    "\n",
    "如计算`4 5 6 * +`的过程：![img](https://ws1.sinaimg.cn/large/69d4185bly1fo24qrrij9j20a8068mxu.jpg)\n",
    "\n",
    "计算`7 8 + 3 2 + /` 的过程：![img](https://ws1.sinaimg.cn/large/69d4185bly1fo24rgcn6aj20bo055t9b.jpg) \n",
    "\n",
    "代码实现如下："
   ]
  },
  {
   "cell_type": "code",
   "execution_count": 12,
   "metadata": {},
   "outputs": [
    {
     "name": "stdout",
     "output_type": "stream",
     "text": [
      "3.0\n"
     ]
    }
   ],
   "source": [
    "def postfixEval(postfixExpr):\n",
    "    operandStack = Stack()\n",
    "    tokenList = postfixExpr.split()\n",
    "\n",
    "    for token in tokenList:\n",
    "        if token in \"0123456789\":\n",
    "            operandStack.push(int(token))\n",
    "        else:\n",
    "            operand2 = operandStack.pop()\n",
    "            operand1 = operandStack.pop()\n",
    "            result = doMath(token,operand1,operand2)\n",
    "            operandStack.push(result)\n",
    "    return operandStack.pop()\n",
    "\n",
    "def doMath(op, op1, op2):\n",
    "    if op == \"*\":\n",
    "        return op1 * op2\n",
    "    elif op == \"/\":\n",
    "        return op1 / op2\n",
    "    elif op == \"+\":\n",
    "        return op1 + op2\n",
    "    else:\n",
    "        return op1 - op2\n",
    "\n",
    "print(postfixEval('7 8 + 3 2 + /'))"
   ]
  },
  {
   "cell_type": "markdown",
   "metadata": {},
   "source": [
    "## 队列（Queue）"
   ]
  },
  {
   "cell_type": "markdown",
   "metadata": {},
   "source": [
    "队列是有序集合，元素在一端添加，通常称为`rear`，在另一端移除元素，通常称为`front`。通常在 `front` 端的元素出现的时间较长，在`rear`端的元素都是最近添加的。此种规则被称为FIFO（First In First Out），也被称为“先到先服务”原则（First-come，First-served）。如下图：![img](https://ws1.sinaimg.cn/large/69d4185bly1fo266srn7zj20ce0393yh.jpg)\n",
    "\n",
    "在购物店排队，看电影等着检票都可以看做是队列。这些场景的特点就是只有一条线可以排，不能在中间插队。计算机的打印、任务调度，也都需要用到队列。"
   ]
  },
  {
   "cell_type": "markdown",
   "metadata": {},
   "source": [
    "### 队列抽象数据类型\n",
    "队列抽象数据类型由数据结构与操作类定义，结构如上所述，且有如下操作：\n",
    "- `Queue()` 创建一个空的队列，不需要参数\n",
    "- `enqueue(item)` 添加一个元素到`rear`，参数为待添加元素，无返回值\n",
    "- `dequeue()` 从队列的 `front` 移除一个元素，不需要参数，返回被移除的元素\n",
    "- `isEmpty()` 判断队列是否为空，不需要参数，返回一个布尔值\n",
    "- `size()` 返回队列的大小，不需要参数\n",
    "\n",
    "示例操作如下：![image](http://ws4.sinaimg.cn/large/69d4185bly1fo26nbo81qj20be07d0sp.jpg)"
   ]
  },
  {
   "cell_type": "markdown",
   "metadata": {},
   "source": [
    "### 使用python实现Queue\n",
    "依然使用 list 来构建 queue，我们只需要决定那一段作为`rear`，哪一段作为`front`。此处适应 `0` 位置作为 `rear`，可以使用 list 的 insert 做 enqueue 操作，也可知 enqueue操作的时间复杂度为O(n)。另一端作为 `front` ，dequeue 使用 list 的 pop 操作完成，可以知道 dequeue 的时间复杂度为 O(1)。\n",
    "\n",
    "代码实现如下："
   ]
  },
  {
   "cell_type": "code",
   "execution_count": 20,
   "metadata": {},
   "outputs": [],
   "source": [
    "class Queue:\n",
    "    def __init__(self):\n",
    "        self.items = []\n",
    "\n",
    "    def isEmpty(self):\n",
    "        return self.items == []\n",
    "\n",
    "    def enqueue(self, item):\n",
    "        self.items.insert(0,item)\n",
    "\n",
    "    def dequeue(self):\n",
    "        return self.items.pop()\n",
    "\n",
    "    def size(self):\n",
    "        return len(self.items)\n"
   ]
  },
  {
   "cell_type": "markdown",
   "metadata": {},
   "source": [
    "### 情景模拟 - 烫手山芋（Hot Potato）\n",
    "即有一个山芋，几个人排成一圈，将山芋依次从一个人传到下一临近的人，喊停的时候，山芋在谁的手里就将谁剔除。循环往复，直到只剩下一个人为止。如下示意图：![img](https://ws1.sinaimg.cn/large/69d4185bly1fo275fs9pij20ai081wfj.jpg)\n",
    "\n",
    "此情景与现代的约瑟夫斯问题类似，可参考：[百度百科](https://baike.baidu.com/item/%E7%BA%A6%E7%91%9F%E5%A4%AB%E9%97%AE%E9%A2%98)、[wiki](https://zh.wikipedia.org/wiki/%E7%BA%A6%E7%91%9F%E5%A4%AB%E6%96%AF%E9%97%AE%E9%A2%98)"
   ]
  },
  {
   "cell_type": "markdown",
   "metadata": {},
   "source": [
    "使用队列实现的大致流程如下：![img](https://ws1.sinaimg.cn/large/69d4185bly1fo27gmfpitj20e006it98.jpg)\n",
    "Assume that the child holding the potato will be at the front of the queue. Upon passing the potato, the simulation will simply dequeue and then immediately enqueue that child, putting her at the end of the line. She will then wait until all the others have been at the front before it will be her turn again. After num dequeue/enqueue operations, the child at the front will be removed permanently and another cycle will begin. This process will continue until only one name remains (the size of the queue is 1)."
   ]
  },
  {
   "cell_type": "code",
   "execution_count": 21,
   "metadata": {},
   "outputs": [
    {
     "name": "stdout",
     "output_type": "stream",
     "text": [
      "David\n",
      "Kent\n",
      "Jane\n",
      "Bill\n",
      "Brad\n",
      "Susan\n"
     ]
    }
   ],
   "source": [
    "def hotPotato(namelist, num):\n",
    "    simqueue = Queue()\n",
    "    # 将数据放入队列中，保证与原始顺序一致\n",
    "    for name in namelist:\n",
    "        simqueue.enqueue(name)\n",
    "        \n",
    "    # 队列大小等于 1 时停止\n",
    "    while simqueue.size() > 1:\n",
    "        # 按照设定的循环次数循环\n",
    "        for i in range(num):\n",
    "            # 出队与入队操作\n",
    "            simqueue.enqueue(simqueue.dequeue())\n",
    "        # 让拿着 potato 的人出队\n",
    "        print(simqueue.dequeue())\n",
    "    # 返回最后的元素\n",
    "    return simqueue.dequeue()\n",
    "\n",
    "print(hotPotato([\"Bill\",\"David\",\"Susan\",\"Jane\",\"Kent\",\"Brad\"],7))"
   ]
  },
  {
   "cell_type": "markdown",
   "metadata": {},
   "source": [
    "### 情景模拟 - 打印任务"
   ]
  },
  {
   "cell_type": "markdown",
   "metadata": {},
   "source": [
    "主要模拟步奏如下：\n",
    "1. Create a queue of print tasks. Each task will be given a timestamp upon its arrival. The queue is empty to start.\n",
    "2. For each second (`currentSecond`):\n",
    "    - Does a new print task get created? If so, add it to the queue with the `currentSecond` as the timestamp.\n",
    "    - If the printer is not busy and if a task is waiting,\n",
    "        - Remove the next task from the print queue and assign it to the printer.\n",
    "        - Subtract the timestamp from the `currentSecond` to compute the waiting time for that task.\n",
    "        - Append the waiting time for that task to a list for later processing.\n",
    "        - Based on the number of pages in the print task, figure out how much time will be required.\n",
    "    - The printer now does one second of printing if necessary. It also subtracts one second from the time required for that task.\n",
    "    - If the task has been completed, in other words the time required has reached zero, the printer is no longer busy.\n",
    "3. After the simulation is complete, compute the average waiting time from the list of waiting times generated.\n"
   ]
  },
  {
   "cell_type": "code",
   "execution_count": 22,
   "metadata": {},
   "outputs": [],
   "source": [
    "# 用于追踪是否有打印任务\n",
    "class Printer:\n",
    "    def __init__(self, ppm):\n",
    "        # 每分钟处理的打印页数\n",
    "        self.pagerate = ppm # pages-per-minute\n",
    "        self.currentTask = None\n",
    "        self.timeRemaining = 0\n",
    "\n",
    "    # 减少内部计时器\n",
    "    def tick(self):\n",
    "        if self.currentTask != None:\n",
    "            self.timeRemaining = self.timeRemaining - 1\n",
    "            # 任务完成置空\n",
    "            if self.timeRemaining <= 0:\n",
    "                self.currentTask = None\n",
    "    \n",
    "    # 判断队列中是否有任务\n",
    "    def busy(self):\n",
    "        if self.currentTask != None:\n",
    "            return True\n",
    "        else:\n",
    "            return False\n",
    "\n",
    "    def startNext(self,newtask):\n",
    "        self.currentTask = newtask\n",
    "        self.timeRemaining = newtask.getPages() * 60/self.pagerate"
   ]
  },
  {
   "cell_type": "code",
   "execution_count": 23,
   "metadata": {},
   "outputs": [],
   "source": [
    "import random\n",
    "# 打印任务\n",
    "class Task:\n",
    "    def __init__(self,time):\n",
    "        # 任务时间戳，表示任务被创建的时间\n",
    "        self.timestamp = time\n",
    "        # 随机生成需要打印的页数\n",
    "        self.pages = random.randrange(1,21)\n",
    "\n",
    "    def getStamp(self):\n",
    "        return self.timestamp\n",
    "\n",
    "    def getPages(self):\n",
    "        return self.pages\n",
    "\n",
    "    def waitTime(self, currenttime):\n",
    "        # 返回当前任务当代的时间\n",
    "        return currenttime - self.timestamp"
   ]
  },
  {
   "cell_type": "code",
   "execution_count": 28,
   "metadata": {},
   "outputs": [
    {
     "name": "stdout",
     "output_type": "stream",
     "text": [
      "Average Wait 179.95 secs   0 tasks remaining.\n",
      "Average Wait 146.94 secs   2 tasks remaining.\n",
      "Average Wait 232.65 secs   0 tasks remaining.\n",
      "Average Wait 180.45 secs   0 tasks remaining.\n",
      "Average Wait  50.67 secs   0 tasks remaining.\n",
      "Average Wait  38.67 secs   1 tasks remaining.\n",
      "Average Wait  63.29 secs   0 tasks remaining.\n",
      "Average Wait 219.91 secs   2 tasks remaining.\n",
      "Average Wait  76.44 secs   0 tasks remaining.\n",
      "Average Wait 123.79 secs   1 tasks remaining.\n",
      "\n",
      "Average Wait  36.04 secs   0 tasks remaining.\n",
      "Average Wait  12.53 secs   0 tasks remaining.\n",
      "Average Wait   9.71 secs   0 tasks remaining.\n",
      "Average Wait  38.54 secs   1 tasks remaining.\n",
      "Average Wait   0.00 secs   0 tasks remaining.\n",
      "Average Wait  19.65 secs   0 tasks remaining.\n",
      "Average Wait   0.00 secs   0 tasks remaining.\n",
      "Average Wait   2.68 secs   0 tasks remaining.\n",
      "Average Wait   4.00 secs   0 tasks remaining.\n",
      "Average Wait  67.15 secs   0 tasks remaining.\n"
     ]
    }
   ],
   "source": [
    "import random\n",
    "# 住模拟函数\n",
    "def simulation(numSeconds, pagesPerMinute):\n",
    "    labprinter = Printer(pagesPerMinute)\n",
    "    printQueue = Queue()\n",
    "    waitingtimes = []\n",
    "\n",
    "    for currentSecond in range(numSeconds):\n",
    "\n",
    "        if newPrintTask():\n",
    "            # 创建新任务\n",
    "            task = Task(currentSecond)\n",
    "            printQueue.enqueue(task)\n",
    "\n",
    "        if (not labprinter.busy()) and (not printQueue.isEmpty()):\n",
    "            nexttask = printQueue.dequeue()\n",
    "            waitingtimes.append(nexttask.waitTime(currentSecond))\n",
    "            labprinter.startNext(nexttask)\n",
    "\n",
    "        labprinter.tick()\n",
    "\n",
    "    averageWait=sum(waitingtimes)/len(waitingtimes)\n",
    "    print(\"Average Wait %6.2f secs %3d tasks remaining.\"%(averageWait,printQueue.size()))\n",
    "\n",
    "def newPrintTask():\n",
    "    # 判断一个新任务是否被创建\n",
    "    num = random.randrange(1,181)\n",
    "    if num == 180:\n",
    "        return True\n",
    "    else:\n",
    "        return False\n",
    "\n",
    "for i in range(10):\n",
    "    simulation(3600,5)\n",
    "print()    \n",
    "for i in range(10):\n",
    "    simulation(3600,10)"
   ]
  },
  {
   "cell_type": "markdown",
   "metadata": {},
   "source": [
    "We were trying to answer a question about whether the current printer could handle the task load if it were set to print with a better quality but slower page rate. The approach we took was to write a simulation that modeled the printing tasks as random events of various lengths and arrival times.\n",
    "\n",
    "The output above shows that with 5 pages per minute printing, the average waiting time varied from a low of 17 seconds to a high of 376 seconds (about 6 minutes). With a faster printing rate, the low value was 1 second with a high of only 28. In addition, in 8 out of 10 runs at 5 pages per minute there were print tasks still waiting in the queue at the end of the hour.\n",
    "\n",
    "Therefore, we are perhaps persuaded that slowing the printer down to get better quality may not be a good idea. Students cannot afford to wait that long for their papers, especially when they need to be getting on to their next class. A six-minute wait would simply be too long.\n",
    "\n",
    "This type of simulation analysis allows us to answer many questions, commonly known as “what if” questions. All we need to do is vary the parameters used by the simulation and we can simulate any number of interesting behaviors. For example,\n",
    "- What if enrollment goes up and the average number of students increases by 20?\n",
    "- What if it is Saturday and students are not needing to get to class? Can they afford to wait?\n",
    "- What if the size of the average print task decreases since Python is such a powerful language and programs tend to be much shorter?\n",
    "\n",
    "These questions could all be answered by modifying the above simulation. However, it is important to remember that the simulation is only as good as the assumptions that are used to build it. Real data about the number of print tasks per hour and the number of students per hour was necessary to construct a robust simulation."
   ]
  },
  {
   "cell_type": "markdown",
   "metadata": {},
   "source": [
    "## 双队列（deque）\n",
    "### 操作与实现"
   ]
  },
  {
   "cell_type": "markdown",
   "metadata": {},
   "source": [
    "双队列也被称为双端队列，元素也是按顺序存放在其中，在性质上与stack类似，但在添加与移除元素上又与stack不同。在deque中，既可以在front添加元素又可以在rear中添加。deque兼有stack与Queue特性，但把deque当做那种类型使用有你自己决定。deque的示意图如下：![img](https://ws1.sinaimg.cn/large/69d4185bly1fo5dyzfetlj20gb03v3yu.jpg)"
   ]
  },
  {
   "cell_type": "markdown",
   "metadata": {},
   "source": [
    "deque应该具有以下操作：\n",
    "- `Deque()` 创建一个空的双队列，不需要参数，并返回一个空的双队列。\n",
    "- `addFront(item)` 从`front`向双队列添加元素， 参数为被添加的元素，无返回。\n",
    "- `addRear(item)` 从`rear`向双队列添加元素， 参数为被添加的元素，无返回。\n",
    "- `removeFront()` 从`front`从双队列删除元素， 无参数，返回被移除的元素。\n",
    "- `removeRear()` 从`rear`从双队列删除元素， 无参数，返回被移除的元素。\n",
    "- `isEmpty()` 判断双队里是否为空，不需要参数，返回布尔值。\n",
    "- `size()` 返回双队列的大小，不需要参数，返回一个int值。\n",
    "\n",
    "操作示例如下（将右侧定义为front）：![image](http://wx4.sinaimg.cn/large/69d4185bly1fo5eby0cuyj20dm07igln.jpg)\n",
    "\n",
    "使用python实现如下："
   ]
  },
  {
   "cell_type": "code",
   "execution_count": 3,
   "metadata": {},
   "outputs": [],
   "source": [
    "# 假设 list 的 0 位置为 rear\n",
    "class Deque:\n",
    "    def __init__(self):\n",
    "        self.items = []\n",
    "\n",
    "    def isEmpty(self):\n",
    "        return self.items == []\n",
    "    # 时间复杂度为 O(1)\n",
    "    def addFront(self, item):\n",
    "        self.items.append(item)\n",
    "    \n",
    "    # 时间复杂度为 O(n)\n",
    "    def addRear(self, item):\n",
    "        self.items.insert(0,item)\n",
    "        \n",
    "    # 时间复杂度为 O(1)\n",
    "    def removeFront(self):\n",
    "        return self.items.pop()\n",
    "\n",
    "    # 时间复杂度为 O(n)\n",
    "    def removeRear(self):\n",
    "        return self.items.pop(0)\n",
    "\n",
    "    def size(self):\n",
    "        return len(self.items)\n"
   ]
  },
  {
   "cell_type": "markdown",
   "metadata": {},
   "source": [
    "### 应用 - 回文检测\n",
    "回文即一个单词从前往后读与从后往前读都是同一个单词，如 radar、toot等。此功能使用deque可以很好地实现，示意图如下：![img](https://ws1.sinaimg.cn/large/69d4185bly1fo5eq0teqij20gb0b1t9b.jpg)"
   ]
  },
  {
   "cell_type": "code",
   "execution_count": 4,
   "metadata": {},
   "outputs": [
    {
     "name": "stdout",
     "output_type": "stream",
     "text": [
      "False\n",
      "True\n"
     ]
    }
   ],
   "source": [
    "def palchecker(aString):\n",
    "    chardeque = Deque()\n",
    "\n",
    "    for ch in aString:\n",
    "        chardeque.addRear(ch)\n",
    "\n",
    "    stillEqual = True\n",
    "\n",
    "    while chardeque.size() > 1 and stillEqual:\n",
    "        first = chardeque.removeFront()\n",
    "        last = chardeque.removeRear()\n",
    "        if first != last:\n",
    "            stillEqual = False\n",
    "\n",
    "    return stillEqual\n",
    "\n",
    "print(palchecker(\"lsdkjfskf\"))\n",
    "print(palchecker(\"radar\"))"
   ]
  },
  {
   "cell_type": "markdown",
   "metadata": {},
   "source": [
    "## List\n",
    "### 无序Llist（unorder list）\n",
    "无序list应该具有以下操作：\n",
    "- `List()` creates a new list that is empty. It needs no parameters and returns an empty list.\n",
    "- `add(item)` adds a new item to the list. It needs the item and returns nothing. Assume the item is not already in the list.\n",
    "- `remove(item)` removes the item from the list. It needs the item and modifies the list. Assume the item is present in the list.\n",
    "- `search(item)` searches for the item in the list. It needs the item and returns a boolean value.\n",
    "- `isEmpty()` tests to see whether the list is empty. It needs no parameters and returns a boolean value.\n",
    "- `size()` returns the number of items in the list. It needs no parameters and returns an integer.\n",
    "- `append(item)` adds a new item to the end of the list making it the last item in the collection. It needs the item and returns nothing. Assume the item is not already in the list.\n",
    "- `index(item)` returns the position of item in the list. It needs the item and returns the index. Assume the item is in the list.\n",
    "- `insert(pos,item)` adds a new item to the list at position pos. It needs the item and returns nothing. Assume the item is not already in the list and there are **enough existing items to have position pos**.\n",
    "- `pop()` removes and returns the last item in the list. It needs nothing and returns an item. Assume the list has at least one item.\n",
    "- `pop(pos)` removes and returns the item at position pos. It needs the position and returns the item. Assume the item is in the list."
   ]
  },
  {
   "cell_type": "markdown",
   "metadata": {},
   "source": [
    "### 实现无序List：Linked List\n"
   ]
  },
  {
   "cell_type": "markdown",
   "metadata": {},
   "source": [
    "虽然在无序list中每个元素的相对为中需要我们维护，但是考虑到在连续的内存中其实是不需要的，如下图，我们只需要知道其中一个元素的位置及其下一个元素的位置，这样我们就能确定整个linked list中元素的位置。![img](https://ws1.sinaimg.cn/large/69d4185bly1fo5ki3t6agj207h04ia9w.jpg)![img](https://ws1.sinaimg.cn/large/69d4185bly1fo5kif0lndj209i04gmx4.jpg)\n",
    "\n",
    "这样我们只需要知道第一个（head）元素的位置，就可以找到第二个元素的位置，通过第二个元素的位置又可以找到第三个元素的位置，依次类推。当然最后一个元素也应该知道再没有下一个元素了。"
   ]
  },
  {
   "cell_type": "markdown",
   "metadata": {},
   "source": [
    "#### Node类\n",
    "`node`类是实现 linked list 的基本单元，`node` 包含有两类信息，一种是元素自己本身的信息也就是数据字段（data field），一种是下一个节点的引用。实现如下："
   ]
  },
  {
   "cell_type": "code",
   "execution_count": 4,
   "metadata": {},
   "outputs": [
    {
     "name": "stdout",
     "output_type": "stream",
     "text": [
      "93\n"
     ]
    }
   ],
   "source": [
    "class Node:\n",
    "    def __init__(self,initdata):\n",
    "        self.data = initdata\n",
    "        self.next = None\n",
    "    # 获取节点数据\n",
    "    def getData(self):\n",
    "        return self.data\n",
    "    # 获取下一个节点的引用\n",
    "    def getNext(self):\n",
    "        return self.next\n",
    "\n",
    "    def setData(self,newdata):\n",
    "        self.data = newdata\n",
    "\n",
    "    def setNext(self,newnext):\n",
    "        self.next = newnext\n",
    "\n",
    "temp = Node(93)\n",
    "print(temp.getData())"
   ]
  },
  {
   "cell_type": "markdown",
   "metadata": {},
   "source": [
    "`None`引用是一个特殊的引用，在 linked list 的实现中起着重要的作用。当 `self.next = None` 时，表明没有下一个节点，当前节点就是最后一个节点（end）。当初始化一个Node是，next的值为none，意思是当前节点是“接地”的，在画图时也是用接地符号表示，如下图：![image](http://ws2.sinaimg.cn/large/69d4185bly1fo5lomxg92j209b05t74f.jpg)"
   ]
  },
  {
   "cell_type": "markdown",
   "metadata": {},
   "source": [
    "#### 无序Linked List类\n",
    "Linked list 就是一组 node 集合，每个节点含有下一个节点的引用，只要找到了第一个（head）node，就可以持续的找到下一个node。因此，Linked List 必须要维护第一个节点的引用。所以，Linked List 的初始代码如下：\n",
    "```python\n",
    "class UnorderedList:\n",
    "\n",
    "    def __init__(self):\n",
    "        self.head = None\n",
    "```\n",
    "当构建一个list的时候，里面并没有元素，`mylist = UnorderedList()`，如下图：![img](https://ws1.sinaimg.cn/large/69d4185bly1fo5m7iet7hj206t0273yj.jpg)\n",
    "\n",
    "list只含有对第一个元素的引用，并不包含其他信息，如下：![img](https://ws1.sinaimg.cn/large/69d4185bly1fo5m8pggonj20fo03p74g.jpg)"
   ]
  },
  {
   "cell_type": "markdown",
   "metadata": {},
   "source": [
    "`isEmpty`用于判断list是否为空，如下：\n",
    "```python\n",
    "def isEmpty(self):\n",
    "    return self.head == None\n",
    "```\n",
    "当head为`None`时，说明当前list还没有元素。"
   ]
  },
  {
   "cell_type": "markdown",
   "metadata": {},
   "source": [
    "So, how do we get items into our list? We need to implement the `add` method. However, before we can do that, we need to address the important question of where in the linked list to place the new item. Since this list is unordered, the specific location of the new item with respect to the other items already in the list is not important. The new item can go anywhere. With that in mind, it makes sense to place the new item in the easiest location possible.\n",
    "\n",
    "Recall that the linked list structure provides us with only one entry point, the head of the list. All of the other nodes can only be reached by accessing the first node and then following `next` links. This means that the easiest place to add the new node is right at the head, or beginning, of the list. In other words, we will make the new item the first item of the list and the existing items will need to be linked to this new first item so that they follow.\n",
    "```python\n",
    "mylist.add(31)\n",
    "mylist.add(77)\n",
    "mylist.add(17)\n",
    "mylist.add(93)\n",
    "mylist.add(26)\n",
    "mylist.add(54)\n",
    "```"
   ]
  },
  {
   "cell_type": "markdown",
   "metadata": {},
   "source": [
    "添加方法实现如下：\n",
    "```python\n",
    "def add(self,item):\n",
    "    temp = Node(item)\n",
    "    temp.setNext(self.head)\n",
    "    self.head = temp\n",
    "```\n",
    "当执行`add`方法时，执行的流程如下：![img](https://ws1.sinaimg.cn/large/69d4185bly1fo5mmw7n5uj20c903pwer.jpg)\n",
    "但当把最后两行代码反过来，就会导致后面的元素无法访问，示意图如下：![img](https://ws1.sinaimg.cn/large/69d4185bly1fo5mp5n7ngj20cq04laag.jpg)"
   ]
  },
  {
   "cell_type": "markdown",
   "metadata": {},
   "source": [
    "`size`、 `search` 和 `remove`– 都是基于链表遍历技术（**linked list traversal**）。\n",
    "```python\n",
    "def size(self):\n",
    "    current = self.head\n",
    "    count = 0\n",
    "    while current != None:\n",
    "        count = count + 1\n",
    "        current = current.getNext()\n",
    "\n",
    "    return count\n",
    "```\n",
    "示意图如下：![img](https://ws1.sinaimg.cn/large/69d4185bly1fo5mtyvo40j20f1042aae.jpg)\n"
   ]
  },
  {
   "cell_type": "markdown",
   "metadata": {},
   "source": [
    "`search` 方法的实现如下：\n",
    "```python\t\n",
    "def search(self,item):\n",
    "    current = self.head\n",
    "    found = False\n",
    "    while current != None and not found:\n",
    "        if current.getData() == item:\n",
    "            found = True\n",
    "        else:\n",
    "            current = current.getNext()\n",
    "\n",
    "    return found\n",
    "```\n",
    "如执行`mylist.search(17)`那么流程就如下：![img](https://ws1.sinaimg.cn/large/69d4185bly1fo5o6wjk4hj20e804djrr.jpg)"
   ]
  },
  {
   "cell_type": "markdown",
   "metadata": {},
   "source": [
    "`remove`方法如下：\n",
    "```python\n",
    "def remove(self,item):\n",
    "    current = self.head\n",
    "    previous = None\n",
    "    found = False\n",
    "    while not found:\n",
    "        if current.getData() == item:\n",
    "            found = True\n",
    "        else:\n",
    "            previous = current\n",
    "            current = current.getNext()\n",
    "\n",
    "    if previous == None:\n",
    "        self.head = current.getNext()\n",
    "    else:\n",
    "        previous.setNext(current.getNext())\n",
    "\n",
    "```\n",
    "执行的流程如下：![image](http://wx4.sinaimg.cn/large/69d4185bly1fo5p5w4yzuj20g10dl408.jpg)\n",
    "\n",
    "需要考虑在第一个位置找到需要删除的元素情况，如下：![image](http://wx4.sinaimg.cn/large/69d4185bly1fo5pqphmq8j20fm083mxn.jpg)"
   ]
  },
  {
   "cell_type": "markdown",
   "metadata": {},
   "source": [
    "#### Linked List完整代码"
   ]
  },
  {
   "cell_type": "code",
   "execution_count": 5,
   "metadata": {},
   "outputs": [],
   "source": [
    "class UnorderedList:\n",
    "\n",
    "    def __init__(self):\n",
    "        self.head = None\n",
    "        \n",
    "    # 判断 Linked List 是否为空\n",
    "    def isEmpty(self):\n",
    "        return self.head == None\n",
    "\n",
    "    # 添加元素\n",
    "    def add(self,item):\n",
    "        temp = Node(item)\n",
    "        # 将新添加的节点，添加到head的位置\n",
    "        temp.setNext(self.head)\n",
    "        self.head = temp\n",
    "        \n",
    "    # linked list 大小\n",
    "    def size(self):\n",
    "        current = self.head\n",
    "        count = 0\n",
    "        while current != None:\n",
    "            count = count + 1\n",
    "            current = current.getNext()\n",
    "\n",
    "        return count\n",
    "    \n",
    "    # 查找元素\n",
    "    def search(self,item):\n",
    "        current = self.head\n",
    "        found = False\n",
    "        while current != None and not found:\n",
    "            if current.getData() == item:\n",
    "                found = True\n",
    "            else:\n",
    "                current = current.getNext()\n",
    "\n",
    "        return found\n",
    "    \n",
    "    # 移除元素\n",
    "    def remove(self,item):\n",
    "        current = self.head\n",
    "        previous = None\n",
    "        found = False\n",
    "        while not found:\n",
    "            if current.getData() == item:\n",
    "                found = True\n",
    "            else:\n",
    "                previous = current\n",
    "                current = current.getNext()\n",
    "\n",
    "        if previous == None:\n",
    "            self.head = current.getNext()\n",
    "        else:\n",
    "            previous.setNext(current.getNext())\n",
    "    \n",
    "    # 在end 处追加一个元素\n",
    "    def append(self, item):\n",
    "        current = self.head\n",
    "        temp = Node(item)\n",
    "        last = None\n",
    "        while current != None:\n",
    "            last = current\n",
    "            current = current.getNext()\n",
    "            \n",
    "        if last == None:\n",
    "            self.head = temp\n",
    "        else:\n",
    "            last.setNext(temp)\n",
    "    \n",
    "    # 指定节点插入元素，追加的为止大于list的大小\n",
    "    # 则将其追加到最后\n",
    "    def insert(self, pos ,item):\n",
    "        temp = Node(item)\n",
    "        current = self.head\n",
    "        if pos >= self.size():\n",
    "            self.append(item)\n",
    "        else:\n",
    "            index = 0\n",
    "            while current != None and index < pos - 1:\n",
    "                current = current.getNext()\n",
    "                index = index + 1\n",
    "            next_node = current.getNext()\n",
    "            if pos == 0:\n",
    "                temp.setNext(self.head)\n",
    "                self.head = temp\n",
    "            else:\n",
    "                temp.setNext(next_node)\n",
    "                current.setNext(temp)\n",
    "    \n",
    "    # 返回元素在 list 中的位置\n",
    "    def index(self, item):\n",
    "        current = self.head\n",
    "        index = 0\n",
    "        isFound = True\n",
    "        while current.getData()!=item and current != None:\n",
    "            current = current.getNext()\n",
    "            index += 1\n",
    "        return index\n",
    "    \n",
    "    # 弹出最后一个元素\n",
    "    def poplast(self):\n",
    "        current = self.head\n",
    "        index = 1\n",
    "        previous = current\n",
    "        while current != None and index < self.size():\n",
    "            previous = current\n",
    "            current = current.getNext()\n",
    "            index += 1\n",
    "        previous.setNext(None)\n",
    "        return current.getData()\n",
    "    \n",
    "    # 弹出指定位置的元素\n",
    "    def pop(self, pos=-1):\n",
    "        current = self.head\n",
    "        if pos == -1 or pos >= self.size():\n",
    "            pos = self.size() - 1\n",
    "        index = 0\n",
    "        previous = None\n",
    "        while current != None and index < pos:\n",
    "            previous = current\n",
    "            current = current.getNext()\n",
    "            index += 1\n",
    "        if pos == 0:\n",
    "            self.head = current.getNext()\n",
    "        else:\n",
    "            previous.setNext(current.getNext())\n",
    "        current.setNext = None\n",
    "        return current.getData()\n",
    "    \n",
    "    def __str__(self):\n",
    "        current = self.head\n",
    "        l = []\n",
    "        while current != None:\n",
    "            l.append(current.getData())\n",
    "            current=current.getNext()\n",
    "        return str(l)"
   ]
  },
  {
   "cell_type": "code",
   "execution_count": 8,
   "metadata": {},
   "outputs": [
    {
     "name": "stdout",
     "output_type": "stream",
     "text": [
      "[54, 26, 93, 17, 77, 31]\n",
      "False\n",
      "6\n",
      "True\n",
      "[54, 26, 93, 17, 77, 31, 59] 7\n",
      "[54, 26, 25, 93, 17, 77, 31, 59] mylist.insert(2,25)\n",
      "[54, 26, 25, 93, 17, 77, 31, 59, 100] mylist.insert(12,100)\n",
      "[95, 54, 26, 25, 93, 17, 77, 31, 59, 100] mylist.insert(0,95)\n",
      "[95, 97, 54, 26, 25, 93, 17, 77, 31, 59, 100] mylist.insert(1,97)\n",
      "1\n",
      "100 [95, 97, 54, 26, 25, 93, 17, 77, 31, 59]\n",
      "97 [95, 54, 26, 25, 93, 17, 77, 31, 59]\n",
      "95 [54, 26, 25, 93, 17, 77, 31, 59]\n"
     ]
    }
   ],
   "source": [
    "# 测试\n",
    "mylist = UnorderedList()\n",
    "mylist.add(31)\n",
    "mylist.add(77)\n",
    "mylist.add(17)\n",
    "mylist.add(93)\n",
    "mylist.add(26)\n",
    "mylist.add(54)\n",
    "print(mylist)\n",
    "print(mylist.isEmpty())\n",
    "print(mylist.size())\n",
    "print(mylist.search(17))\n",
    "mylist.append(59)\n",
    "print(mylist, mylist.size())\n",
    "mylist.insert(2,25)\n",
    "print(mylist, \"mylist.insert(2,25)\")\n",
    "mylist.insert(12,100)\n",
    "print(mylist, \"mylist.insert(12,100)\")\n",
    "mylist.insert(0,95)\n",
    "print(mylist, \"mylist.insert(0,95)\")\n",
    "mylist.insert(1,97)\n",
    "print(mylist, \"mylist.insert(1,97)\")\n",
    "print(mylist.index(97))\n",
    "print(mylist.pop(), mylist)\n",
    "print(mylist.pop(1), mylist)\n",
    "print(mylist.pop(0), mylist)"
   ]
  },
  {
   "cell_type": "markdown",
   "metadata": {},
   "source": [
    "### 有序 List\n",
    "实现方法与Linked List类似，数据按照顺序排列，含有以下方法：\n",
    "- `OrderedList()` creates a new ordered list that is empty. It needs no parameters and returns an empty list.\n",
    "- `add(item)` adds a new item to the list making sure that the order is preserved. It needs the item and returns nothing. Assume the item is not already in the list.\n",
    "- `remove(item)` removes the item from the list. It needs the item and modifies the list. Assume the item is present in the list.\n",
    "- `search(item)` searches for the item in the list. It needs the item and returns a boolean value.\n",
    "- `isEmpty()` tests to see whether the list is empty. It needs no parameters and returns a boolean value.\n",
    "- `size()` returns the number of items in the list. It needs no parameters and returns an integer.\n",
    "- `index(item)` returns the position of item in the list. It needs the item and returns the index. Assume the item is in the list.\n",
    "- `pop()` removes and returns the last item in the list. It needs nothing and returns an item. Assume the list has at least one item.\n",
    "- `pop(pos)` removes and returns the item at position pos. It needs the position and returns the item. Assume the item is in the list."
   ]
  },
  {
   "cell_type": "markdown",
   "metadata": {},
   "source": [
    "`isEmpty()`、`size()`、`remove(item)`与 Linked List的实现类似，`search(item)`与`add`会有所不同。如`search(item)`，当我们在搜索时，应为是有序List我们不一定要搜索整个list，如当我们在下面list中查找45，但当我们查找到54是其实就可以停止了。![img](https://ws1.sinaimg.cn/large/69d4185bly1fo6r8w1pkmj20e803st90.jpg)"
   ]
  },
  {
   "cell_type": "markdown",
   "metadata": {},
   "source": [
    "添加则需要把元素添加到他大于前面的但有小于后面值的位置，如下：![img](https://ws1.sinaimg.cn/large/69d4185bly1fo6rmi15dej20e805mdg8.jpg)"
   ]
  },
  {
   "cell_type": "code",
   "execution_count": null,
   "metadata": {},
   "outputs": [],
   "source": [
    "class OrderedList:\n",
    "    def __init__(self):\n",
    "        self.head = None\n",
    "\n",
    "    def search(self,item):\n",
    "        current = self.head\n",
    "        found = False\n",
    "        stop = False\n",
    "        while current != None and not found and not stop:\n",
    "            if current.getData() == item:\n",
    "                found = True\n",
    "            else:\n",
    "                if current.getData() > item:\n",
    "                    stop = True\n",
    "                else:\n",
    "                    current = current.getNext()\n",
    "\n",
    "        return found\n",
    "\n",
    "    def add(self,item):\n",
    "        current = self.head\n",
    "        previous = None\n",
    "        stop = False\n",
    "        while current != None and not stop:\n",
    "            if current.getData() > item:\n",
    "                stop = True\n",
    "            else:\n",
    "                previous = current\n",
    "                current = current.getNext()\n",
    "\n",
    "        temp = Node(item)\n",
    "        # 在 list 中不含有值和含有一个值且大于被添加的值\n",
    "        if previous == None:\n",
    "            temp.setNext(self.head)\n",
    "            self.head = temp\n",
    "        else:\n",
    "            temp.setNext(current)\n",
    "            previous.setNext(temp)\n",
    "\n",
    "    def isEmpty(self):\n",
    "        return self.head == None\n",
    "\n",
    "    def size(self):\n",
    "        current = self.head\n",
    "        count = 0\n",
    "        while current != None:\n",
    "            count = count + 1\n",
    "            current = current.getNext()\n",
    "\n",
    "        return count\n",
    "\n",
    "\n",
    "mylist = OrderedList()\n",
    "mylist.add(31)\n",
    "mylist.add(77)\n",
    "mylist.add(17)\n",
    "mylist.add(93)\n",
    "mylist.add(26)\n",
    "mylist.add(54)\n",
    "\n",
    "print(mylist.size())\n",
    "print(mylist.search(93))\n",
    "print(mylist.search(100))\n",
    "        "
   ]
  },
  {
   "cell_type": "markdown",
   "metadata": {},
   "source": [
    "### 对于Linked List 与Ordered List 的分析\n",
    "To analyze the complexity of the linked list operations, we need to consider whether they require traversal. Consider a linked list that has n nodes. The `isEmpty` method is O(1) since it requires one step to check the head reference for `None`. `size`, on the other hand, will always require n steps since there is no way to know how many nodes are in the linked list without traversing from head to end. Therefore, `length` is O(n). Adding an item to an unordered list will always be O(1) since we simply place the new node at the head of the linked list. However, `search` and `remove`, as well as `add` for an ordered list, all require the traversal process. Although on average they may need to traverse only half of the nodes, these methods are all O(n) since in the worst case each will process every node in the list.\n",
    "\n",
    "You may also have noticed that the performance of this implementation differs from the actual performance given earlier for Python lists. This suggests that linked lists are not the way Python lists are implemented. The actual implementation of a Python list is based on the notion of an array. "
   ]
  },
  {
   "cell_type": "markdown",
   "metadata": {},
   "source": [
    "## 章节讨论\n",
    "http://interactivepython.org/runestone/static/pythonds/BasicDS/DiscussionQuestions.html\n",
    "\n",
    "## 编程练习\n",
    "http://interactivepython.org/runestone/static/pythonds/BasicDS/ProgrammingExercises.html"
   ]
  },
  {
   "cell_type": "markdown",
   "metadata": {},
   "source": [
    "# 参考\n",
    "1. [What Are Linear Structures?](http://interactivepython.org/runestone/static/pythonds/BasicDS/WhatAreLinearStructures.html)\n",
    "1. [What is a Stack?](http://interactivepython.org/runestone/static/pythonds/BasicDS/WhatisaStack.html)\n",
    "1. [Implementing a Stack in Python](http://interactivepython.org/runestone/static/pythonds/BasicDS/ImplementingaStackinPython.html)\n",
    "1. [Simple Balanced Parentheses](http://interactivepython.org/runestone/static/pythonds/BasicDS/SimpleBalancedParentheses.html?lastPosition=300)\n",
    "1. [Balanced Symbols (A General Case)](http://interactivepython.org/runestone/static/pythonds/BasicDS/BalancedSymbols%28AGeneralCase%29.html?lastPosition=0)\n",
    "1. [Converting Decimal Numbers to Binary Numbers](http://interactivepython.org/runestone/static/pythonds/BasicDS/ConvertingDecimalNumberstoBinaryNumbers.html)\n",
    "1. [Infix, Prefix and Postfix Expressions](http://interactivepython.org/runestone/static/pythonds/BasicDS/InfixPrefixandPostfixExpressions.html?lastPosition=1000)\n",
    "1. [The Queue Abstract Data Type](http://interactivepython.org/runestone/static/pythonds/BasicDS/TheQueueAbstractDataType.html)\n",
    "1. [Simulation: Hot Potato](http://interactivepython.org/runestone/static/pythonds/BasicDS/SimulationHotPotato.html)\n",
    "1. [Simulation: Printing Tasks](http://interactivepython.org/runestone/static/pythonds/BasicDS/SimulationPrintingTasks.html)\n",
    "1. [The Deque Abstract Data Type](http://interactivepython.org/runestone/static/pythonds/BasicDS/TheDequeAbstractDataType.html)\n",
    "1. [Implementing an Ordered List](http://interactivepython.org/runestone/static/pythonds/BasicDS/ImplementinganOrderedList.html#fig-orderinsert)\n"
   ]
  },
  {
   "cell_type": "code",
   "execution_count": null,
   "metadata": {},
   "outputs": [],
   "source": []
  }
 ],
 "metadata": {
  "kernelspec": {
   "display_name": "Python 3",
   "language": "python",
   "name": "python3"
  },
  "language_info": {
   "codemirror_mode": {
    "name": "ipython",
    "version": 3
   },
   "file_extension": ".py",
   "mimetype": "text/x-python",
   "name": "python",
   "nbconvert_exporter": "python",
   "pygments_lexer": "ipython3",
   "version": "3.6.3"
  },
  "toc": {
   "nav_menu": {},
   "number_sections": true,
   "sideBar": true,
   "skip_h1_title": false,
   "toc_cell": false,
   "toc_position": {
    "height": "535px",
    "left": "0px",
    "right": "984px",
    "top": "111px",
    "width": "382px"
   },
   "toc_section_display": "block",
   "toc_window_display": true
  }
 },
 "nbformat": 4,
 "nbformat_minor": 2
}
