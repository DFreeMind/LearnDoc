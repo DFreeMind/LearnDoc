{
 "cells": [
  {
   "cell_type": "markdown",
   "metadata": {
    "toc": true
   },
   "source": [
    "<h1>Table of Contents<span class=\"tocSkip\"></span></h1>\n",
    "<div class=\"toc\" style=\"margin-top: 1em;\"><ul class=\"toc-item\"><li><span><a href=\"#算法的时间与空间复杂度\" data-toc-modified-id=\"算法的时间与空间复杂度-1\"><span class=\"toc-item-num\">1&nbsp;&nbsp;</span>算法的时间与空间复杂度</a></span><ul class=\"toc-item\"><li><span><a href=\"#时间复杂度\" data-toc-modified-id=\"时间复杂度-1.1\"><span class=\"toc-item-num\">1.1&nbsp;&nbsp;</span>时间复杂度</a></span><ul class=\"toc-item\"><li><span><a href=\"#求解算法的时间复杂度的具体步骤是\" data-toc-modified-id=\"求解算法的时间复杂度的具体步骤是-1.1.1\"><span class=\"toc-item-num\">1.1.1&nbsp;&nbsp;</span>求解算法的时间复杂度的具体步骤是</a></span></li><li><span><a href=\"#常用的算法的时间复杂度和空间复杂度\" data-toc-modified-id=\"常用的算法的时间复杂度和空间复杂度-1.1.2\"><span class=\"toc-item-num\">1.1.2&nbsp;&nbsp;</span>常用的算法的时间复杂度和空间复杂度</a></span></li></ul></li><li><span><a href=\"#算法的空间复杂度\" data-toc-modified-id=\"算法的空间复杂度-1.2\"><span class=\"toc-item-num\">1.2&nbsp;&nbsp;</span>算法的空间复杂度</a></span></li></ul></li></ul></div>"
   ]
  },
  {
   "cell_type": "markdown",
   "metadata": {},
   "source": [
    "# 算法的时间与空间复杂度\n",
    "参考：\n",
    "\n",
    "1. [算法的时间复杂度和空间复杂度-总结](http://blog.csdn.net/zolalad/article/details/11848739)"
   ]
  },
  {
   "cell_type": "markdown",
   "metadata": {},
   "source": [
    "一个用高级语言编写的程序在计算机上运行时所消耗的时间取决于下列因素：\n",
    "1. 算法采用的策略、方法；\n",
    "2. 编译产生的代码质量；\n",
    "3. 问题的输入规模；\n",
    "4.  机器执行指令的速度。\n",
    "\n",
    "**一个算法是由控制结构（顺序、分支和循环3种）和原操作（指固有数据类型的操作）构成的，则算法时间取决于两者的综合效果。为了便于比较同一个问题的不同算法，通常的做法是，从算法中选取一种对于所研究的问题（或算法类型）来说是基本操作的原操作，以该基本操作的重复执行的次数作为算法的时间量度。**"
   ]
  },
  {
   "cell_type": "markdown",
   "metadata": {},
   "source": [
    "## 时间复杂度 \n",
    "- **时间频度** 一个算法执行所耗费的时间，从理论上是不能算出来的，必须上机运行测试才能知道。但我们不可能也没有必要对每个算法都上机测试，只需知道哪个算法花费的时间多，哪个算法花费的时间少就可以了。并且一个算法花费的时间与算法中语句的执行次数成正比例，哪个算法中语句执行次数多，它花费时间就多。一个算法中的语句*执行次数*称为*语句频度*或*时间频度*。记为`T(n)`。\n",
    "\n",
    "- **时间复杂度** 在刚才提到的时间频度中，n称为问题的规模，当n不断变化时，时间频度T(n)也会不断变化。但有时我们想知道它变化时呈现什么规律。为此，我们引入时间复杂度概念。 一般情况下，算法中基本操作重复执行的次数是问题规模n的某个函数，用`T(n)`表示，若有某个辅助函数`f(n)`,使得当n趋近于无穷大时，`T(n)/f(n)`的极限值为不等于零的常数，则称f(n)是T(n)的同*数量级函数*。记作`T(n)=Ｏ(f(n))`,称Ｏ(f(n)) 为算法的*渐进时间复杂度*，简称*时间复杂度*。"
   ]
  },
  {
   "cell_type": "markdown",
   "metadata": {},
   "source": [
    "`T (n) = O(f (n))` 表示存在一个常数C，使得在当n趋于正无穷时总有 `T (n) ≤ C * f(n)`。简单来说，就是T(n)在n趋于正无穷时最大也就跟f(n)差不多大。也就是说当n趋于正无穷时T (n)的**上界**是`C * f(n)`。其虽然对f(n)没有规定，但是一般都是取尽可能简单的函数。例如，O(2n^2+n +1) = O (3n^2+n+3) = O (7n^2 + n) = O ( n^2 ) ，一般都只用O(n^2)表示就可以了。注意到大O符号里隐藏着一个常数C，所以f(n)里一般不加系数。如果把T(n)当做一棵树，那么O(f(n))所表达的就是树干，只关心其中的主干，其他的细枝末节全都抛弃不管。\n",
    "\n",
    "在各种不同算法中，若算法中语句执行次数为一个常数，则时间复杂度为O(1),另外，在时间频度不相同时，时间复杂度有可能相同，如T(n)=n<sup>2</sup>+3n+4与T(n)=4n<sup>2</sup>+2n+1它们的频度不同，但时间复杂度相同，都为O(n<sup>2</sup>)。 按数量级递增排列，常见的时间复杂度有：常数阶O(1),对数阶O(log<sub>2</sub>n),线性阶O(n), 线性对数阶O(nlog<sub>2</sub>n),平方阶O(n<sup>2</sup>)，立方阶O(n<sup>3</sup>),...， k次方阶O(n<sup>k</sup>),指数阶O(2<sup>n</sup>)。随着问题规模n的不断增大，上述时间复杂度不断增大，算法的执行效率越低。\n",
    "![img](https://ws1.sinaimg.cn/large/69d4185bly1fnsudiyhrtj20gc06kt99.jpg)\n",
    "从图中可见，我们应该尽可能选用多项式阶O(n<sup>k</sup>)的算法，而不希望用指数阶的算法。\n",
    "\n",
    "常见的算法时间复杂度由小到大依次为：Ο(1)＜Ο(log<sub>2</sub>n)＜Ο(n)＜Ο(nlog<sub>2</sub>n)＜Ο(n<sup>2</sup>)＜Ο(n<sup>3</sup>)＜…＜Ο(2<sup>n</sup>)＜Ο(n!)"
   ]
  },
  {
   "cell_type": "markdown",
   "metadata": {},
   "source": [
    "### 求解算法的时间复杂度的具体步骤是\n",
    "- 找出算法中的基本语句；\n",
    "\n",
    "算法中执行次数最多的那条语句就是基本语句，通常是最内层循环的循环体。\n",
    "\n",
    "- 计算基本语句的执行次数的数量级；\n",
    "\n",
    "只需计算基本语句执行次数的数量级，这就意味着只要保证基本语句执行次数的函数中的最高次幂正确即可，可以忽略所有低次幂和最高次幂的系数。这样能够简化算法分析，并且使注意力集中在最重要的一点上：增长率。\n",
    "\n",
    "- 用大Ο记号表示算法的时间性能。\n",
    "\n",
    "将基本语句执行次数的数量级放入大Ο记号中。\n",
    "如果算法中包含嵌套的循环，则基本语句通常是最内层的循环体，如果算法中包含并列的循环，则将并列循环的时间复杂度相加。如下："
   ]
  },
  {
   "cell_type": "markdown",
   "metadata": {},
   "source": [
    "```java\n",
    "for (i=1; i<=n; i++)  \n",
    "       x++;  \n",
    "for (i=1; i<=n; i++)  \n",
    "    　for (j=1; j<=n; j++)  \n",
    "          x++;  \n",
    "```\n",
    "第一个for循环的时间复杂度为Ο(n)，第二个for循环的时间复杂度为Ο(n2)，则整个算法的时间复杂度为Ο(n+n2)=Ο(n2)。\n",
    "　　Ο(1)表示基本语句的执行次数是一个常数，一般来说，只要算法中不存在循环语句，其时间复杂度就是Ο(1)。其中Ο(log2n)、Ο(n)、 Ο(nlog2n)、Ο(n2)和Ο(n3)称为多项式时间，而Ο(2n)和Ο(n!)称为指数时间。计算机科学家普遍认为前者（即多项式时间复杂度的算法）是有效算法，把这类问题称为P（Polynomial,多项式）类问题，而把后者（即指数时间复杂度的算法）称为NP（Non-Deterministic Polynomial, 非确定多项式）问题。"
   ]
  },
  {
   "cell_type": "markdown",
   "metadata": {},
   "source": [
    "### 常用的算法的时间复杂度和空间复杂度\n",
    "![img](https://ws1.sinaimg.cn/large/69d4185bly1fnsw1gk9mvj20ey09y0y8.jpg)"
   ]
  },
  {
   "cell_type": "markdown",
   "metadata": {},
   "source": [
    "## 算法的空间复杂度"
   ]
  },
  {
   "cell_type": "markdown",
   "metadata": {},
   "source": [
    "空间复杂度(Space Complexity)是对一个算法在运行过程中**临时占用存储空间**大小的量度。\n",
    "\n",
    "一个算法在计算机存储器上所占用的存储空间，包括存储**算法本身**所占用的存储空间，算法的**输入输出数据**所占用的存储空间和算法在运行过程中**临时占用的存储空间**这三个方面。\n",
    "- 算法的输入输出数据所占用的存储空间是由要解决的问题决定的，是通过参数表由调用函数传递而来的，它不随本算法的不同而改变。\n",
    "- 存储算法本身所占用的存储空间与算法书写的长短成正比，要压缩这方面的存储空间，就必须编写出较短的算法。\n",
    "- 算法在运行过程中临时占用的存储空间随算法的不同而异，有的算法只需要占用少量的临时工作单元，而且不随问题规模的大小而改变，我们称这种算法是“就地”进行的，是节省存储的算法，如这一节介绍过的几个算法都是如此；有的算法需要占用的临时工作单元数与解决问题的规模n有关，它随着n的增大而增大，当n较大时，将占用较多的存储单元。"
   ]
  },
  {
   "cell_type": "code",
   "execution_count": null,
   "metadata": {},
   "outputs": [],
   "source": []
  },
  {
   "cell_type": "code",
   "execution_count": null,
   "metadata": {},
   "outputs": [],
   "source": []
  },
  {
   "cell_type": "code",
   "execution_count": null,
   "metadata": {},
   "outputs": [],
   "source": []
  },
  {
   "cell_type": "markdown",
   "metadata": {},
   "source": []
  }
 ],
 "metadata": {
  "kernelspec": {
   "display_name": "Python 3",
   "language": "python",
   "name": "python3"
  },
  "language_info": {
   "codemirror_mode": {
    "name": "ipython",
    "version": 3
   },
   "file_extension": ".py",
   "mimetype": "text/x-python",
   "name": "python",
   "nbconvert_exporter": "python",
   "pygments_lexer": "ipython3",
   "version": "3.6.3"
  },
  "toc": {
   "nav_menu": {},
   "number_sections": true,
   "sideBar": true,
   "skip_h1_title": false,
   "toc_cell": true,
   "toc_position": {
    "height": "507px",
    "left": "0px",
    "right": "1053px",
    "top": "111px",
    "width": "291px"
   },
   "toc_section_display": "block",
   "toc_window_display": true
  }
 },
 "nbformat": 4,
 "nbformat_minor": 2
}
