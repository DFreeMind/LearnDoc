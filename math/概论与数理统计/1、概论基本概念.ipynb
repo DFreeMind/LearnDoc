{
 "cells": [
  {
   "cell_type": "markdown",
   "metadata": {},
   "source": [
    "**确定现象：** 在一定的条件下必然发生，如石头上抛之后必然下落\n",
    "\n",
    "**统计规律性：** 在一定的条件下，可能出现这样的结果，也可能出现那样的结果，而在实验之前并不能预知确切的结果。   \n",
    "如抛硬币，在抛之前我们并不知道是正面朝上，还是反面朝上。但在大量的重复实现之后，又呈现出一定的规律性，这种在大量重复实验或者观察中呈现的固有规律就是统计规律性。\n",
    "\n",
    "**随机现象：**在个别实验中呈现出不确定性，在大量的重复实验中结果又具有统计规律的现象"
   ]
  },
  {
   "cell_type": "markdown",
   "metadata": {},
   "source": [
    "# 随机试验"
   ]
  },
  {
   "cell_type": "markdown",
   "metadata": {},
   "source": [
    "在概论中他是更广泛的概念，它包括各种各样的科学实验，甚至包括对某一事物的某一特征的观察也可以认为是一种试验。\n",
    "如下例子：\n",
    "\n",
    "- $E_1$：抛一枚硬币，观察正面H、反面T出现的情况\n",
    "- $E_2$：将一枚硬币抛掷三次，观察正面H、反面T出现的情况。\n",
    "- $E_3$：将一枚硬币抛掷三次，观察出现正面的次数。\n",
    "- $E_4$：抛一颗骰子，观察出现的点数。\n",
    "- $E_5$：记录某城市120急救电话台一昼夜接到的呼唤次数。\n",
    "- $E_6$：在一批灯泡中任意抽取一只，测试它的寿命。\n",
    "- $E_7$：记录某地一昼夜的最高温度和最低温度。\n",
    "\n",
    "上面举出了七个试验的例子，它们有着共同的特点。例如，试验$E_1$，有两种\n",
    "可能结果，出现H或者出现T，但在抛掷之前不能确定出现H还是出现T，这个实验可以在相同条件下重复进行。\n",
    "\n",
    "概括起来实验有如下的特点：\n",
    "- 1：可以在*相同条件*下*重复*地进行；\n",
    "- 2：每次试验的可能结果不止一个，并且能事先明确试验的所有可能结果；\n",
    "- 3：进行一次试验之前不能确定哪一个结果会出现，\n",
    "\n",
    "在概率论中，我们将具有上述三个特点的试验称为${\\color{Red} {随机试验}}$。"
   ]
  },
  {
   "cell_type": "markdown",
   "metadata": {},
   "source": [
    "# 样本空间、随机事件"
   ]
  },
  {
   "cell_type": "markdown",
   "metadata": {},
   "source": [
    "## 样本空间"
   ]
  },
  {
   "cell_type": "markdown",
   "metadata": {},
   "source": [
    "随机试验 E 所有可能结果组成的集合成为 E 的**样本空间** ，记为 S 。样本空间的元素，即 E 的每个可能的结果，称为**样本点**。\n",
    "以随机实验章节的 7 个试验为例，可以得到每个试验的样本空间：\n",
    "\n",
    "- $S_1$：$\\{H, T\\}$\n",
    "- $S_2$：$\\{HHH,HHT,HTH,THH,HTT,THT,TTH,TTT\\}$\n",
    "- $S_3$：$\\{0,1,2,3\\}$\n",
    "- $S_4$：$\\{1,2,3,4,5,6\\}$\n",
    "- $S_5$：$\\{0,1,2,3...\\}$\n",
    "- $S_6$：$\\{t | t \\ge 0 \\}$\n",
<<<<<<< HEAD
    "- $S_7$：$\\{ (x,y)|T_0 \\le x \\le y \\le T_1\\}$ x,y 表示这一地区的最低和最高温度，且设这一地区温度不小于$T_0$，也不大于$T_1$"
   ]
  },
  {
   "cell_type": "markdown",
   "metadata": {},
   "source": [
    "## 随机事件"
   ]
  },
  {
   "cell_type": "markdown",
   "metadata": {},
   "source": [
    "一般，我们称试验 E 的样本空间 S 的子集为 E 的**随机事件**，简称**事件**。如在 $E_6$ 中，灯泡寿命大于 500 的样本点组成的集合，就是 $S_6$ 的一个子集，A=$\\{ t | t \\ge 500\\}$。A 就是 $E_6$ 的一个随机事件。\n",
    "在每次试验中，当且仅当这一子集中的一个样本点出现时，称这一**事件发生**.特别，由一个样本点组成的单点集，称为**基本事件**.例如，试验E~1~有两个基本事件{H）和（T）；试验E~4~有6个基本事件{1}，{2}，…，{6}。\n",
    "样本空间S包含所有的样本点，它是S自身的子集，在每次试验中它总是发生的，S称为**必然事件**.空集 φ 不包含任何样本点，它也作为样本空间的子集，它在每次试验中都不发生，φ 称为**不可能事件**."
   ]
  },
  {
   "cell_type": "markdown",
   "metadata": {},
   "source": [
    "## 事件之间的关系与事件的运算"
   ]
  },
  {
   "cell_type": "markdown",
   "metadata": {},
   "source": [
=======
    "- $S_7$：$\\{ (x,y)|T_0 \\le x \\le y \\le T_1\\}$ x,y 表示这一地区的最低和最高温度，且设这一地区温度不小于$T_0$，也不大于$T_1$\n",
    "\n",
    "2、** 随机事件**\n",
    "\n",
    "一般，我们称试验 E 的样本空间 S 的子集为 E 的**随机事件**，简称**事件**。如在 $E_6$ 中，灯泡寿命大于 500 的样本点组成的集合，就是 $S_6$ 的一个子集，A=$\\{ t | t \\ge 500\\}$。A 就是 $E_6$ 的一个随机事件。\n",
    "在每次试验中，当且仅当这一子集中的一个样本点出现时，称这一**事件发生**.特别，由一个样本点组成的单点集，称为**基本事件**.例如，试验E~1~有两个基本事件{H）和（T）；试验E~4~有6个基本事件{1}，{2}，…，{6}。\n",
    "样本空间S包含所有的样本点，它是S自身的子集，在每次试验中它总是发生的，S称为**必然事件**.空集 φ 不包含任何样本点，它也作为样本空间的子集，它在每次试验中都不发生，φ 称为**不可能事件**.\n",
    "\n",
    "3、** 事件之间的关系与时间的运算**\n",
    "\n",
>>>>>>> parent of 82dd419... 添加 LeetCode 、完善相关文档
    "事件是一个集合，因此事件也可以按照集合的方式来操作。以下给出的是在概率论中的含义。\n",
    "\n",
    "- $A \\subset B$：事件 B 包含事件 A，即 A 的发生必然导致 B 的发生。若 $A \\subset B$ 同时 $B \\subset A$，则 $A=B$，称事件 A 与事件 B ** 相等**。\n",
    "\n",
    "- $A \\cup B = \\{x | x \\in A 或者 x \\in B \\}$：事件 A 与事件 B 的** 和事件**。当且仅当  A、B 中的一个一个事件发生，事件 $A\\cup B$发生。类似的 $ \\bigcup_{k=1}^{n} A_k$ 为 n 个事件 $A_1,A_2,\\dots ,A_n$ 的和事件。\n",
    "\n",
    "- $A \\cap B = \\{x | x \\in A 且 x \\in B \\}$：事件 A 与事件 B 的** 积事件**。当且仅当  A、B 同时发生，事件 $A \\cap B$发生。类似的 $ \\bigcap_{k=1}^{n} A_k$ 为 n 个事件 $A_1,A_2,\\dots ,A_n$ 的积事件。\n",
    "\n",
    "- $A - B = \\{x | x \\in A 且 x \\notin B \\}$：事件 A 与事件 B 的** 差事件**。当且仅当  A发生、B 不发生，事件 $A - B$发生。\n",
    "\n",
    "- $A \\cap B = \\phi$：称为事件 A 和 B 是** 不相容**的，或** 互斥的**。即事件 A 和 B 不可能同时发生。基本事件是两两互不相容的。\n",
    "\n",
    "- $A \\cup B = S 且 A \\cap B = \\phi$：称事件 A 和 B 为** 互逆事件**，又称 A 和 B 互为** 对立事件**。即对于每次试验，事件 A、B 中必有一个发生，且仅有一个发生。 A 的对立时事件记为 $\\overline{A}$，$\\overline{A} = S-A$\n",
    "\n",
    "关系图如下：\n",
    "![image](https://ws3.sinaimg.cn/large/69d4185bly1fvtqfs770oj20io0ai75v.jpg)"
   ]
  },
  {
   "cell_type": "markdown",
   "metadata": {},
   "source": [
<<<<<<< HEAD
    "## 集合的相关运算"
   ]
  },
  {
   "cell_type": "markdown",
   "metadata": {},
   "source": [
=======
    "4、集合的相关运算\n",
    "\n",
>>>>>>> parent of 82dd419... 添加 LeetCode 、完善相关文档
    "1. 交换律：\n",
    "    $$A \\cap B = B \\cap A ; A \\cup B = B \\cup A$$ \n",
    "2. 结合律：\n",
    "    $$A \\cup (B \\cup C) = (A \\cup B) \\cup C $$ \n",
    "    $$A \\cap (B \\cap C) = (A \\cap B) \\cap C$$\n",
    "3. 分配率：\n",
    "    $$A \\cup (B \\cap C) = (A \\cup B) \\cap (A \\cup C)$$\n",
    "    $$A \\cap (B \\cup C) = (A \\cap B) \\cup (A \\cap C)$$\n",
    "4. 德摩根律：\n",
    "    $$\\overline{A \\cup B} = \\overline{A} \\cap \\overline{B}$$\n",
    "    $$\\overline{A \\cap B} = \\overline{A} \\cup \\overline{B}$$"
   ]
  },
  {
   "cell_type": "markdown",
   "metadata": {},
   "source": [
    "## 示例"
   ]
  },
  {
   "cell_type": "markdown",
   "metadata": {},
   "source": [
    "如下图的电路图：![image](https://wx4.sinaimg.cn/large/69d4185bly1fvu06uqakkj207f062wej.jpg)\n",
    "\n",
    "A 表示灯亮这一事件，B、C、D 分别表示开关Ⅰ、Ⅱ、Ⅲ的闭合事件。由上图可以知道 BC、BD可以触发灯亮，即 $BC \\subset A；BD \\subset A$，也就是 $BC \\cup BD = A; A = \\{BC,BD\\}$。\n",
    "\n",
    "而 $\\overline{B}A = \\phi$，这是因为$\\overline{B}$表示 Ⅰ 开关断开，由上图可以知道等肯定是不亮的，即表示事件 $ \\overline{B} $ 与事件 A 是互不相容的，即互斥，A 和 $\\overline{B}$不可能同时发生。\n",
    "\n",
    "又，$\\overline{B \\cup C} = \\overline{B} \\cap \\overline{C}$，左边表示 Ⅰ、Ⅱ 至少有一个闭合的逆事件，即 Ⅰ、Ⅱ 都不闭合，即$\\overline{B},\\overline{C}$ 同时发生。"
   ]
  },
  {
   "cell_type": "markdown",
   "metadata": {},
   "source": [
    "# 频率与概率\n",
    "**关键词：频数、频率、概率、频率的稳定性、统计规律性**"
   ]
  },
  {
   "cell_type": "markdown",
   "metadata": {},
   "source": [
    "## 频率"
   ]
  },
  {
   "cell_type": "markdown",
   "metadata": {},
   "source": [
    "定义：在相同条件下，进行 n 次试验，在 n 次实验中，事件 A 发生的次数$n_A$ 称为事件 A 发生的**频数**。比值 $n_A/n$ 称为事件 A 发生的**频率**，记做：$f_n(A)$。因此，可知，频率具有以下性质：\n",
    "1. $0 \\le f_n(A) \\le 1$\n",
    "2. $f_n(S)=1$\n",
    "3. 若$A_1、A_2，... A_k$ 是两两互不相容的事件，则：$f_n(A_1 \\cup A_2 \\cup \\dots \\cup A_k) = f_n(A_1) + f_n(A_2) + \\cdots +f_n(A_k)$\n",
    "\n",
    "但是频率，即事件发生的频繁程度并不能用来表征事件在一次试验中发生的可能性。"
   ]
  },
  {
   "cell_type": "markdown",
   "metadata": {},
   "source": [
    "## 概率"
   ]
  },
  {
   "cell_type": "markdown",
   "metadata": {},
   "source": [
    "定义：设 E 是随机试验，S 是它的样本空间。对于 E 的每一个事件 A 赋予一个实数，记为 $P(A)$ ，称为事件 A 的**概率**，如果集合函数$P(\\cdot)$ 满足下列条件：\n",
    "1. 非负性：对于每个事件，有 $P(A) \\ge 0$\n",
    "2. 规范性：对于必然事件 S，有 $P(S) = 1$\n",
    "3. 可列可加性：设 $A_1,A_2,\\cdots$是两两互不相容的事件，即对于 $A_iA_j = \\phi,i \\ne j, i,j = 1,2,\\cdots$有：$P(A_1 \\cup A_2 \\cup \\cdots) = P(A_1) + P(A_2) + \\cdots \\tag{3.1}$\n",
    "\n",
    "由概率的定义可以推到如下的性质：\n",
    "1. \n",
    "    $$\\large{P(\\phi)=0}$$\n",
    "2. 有限可加性：若 $A_1,A_2,\\cdots A_n$ 是两两互不相容的事件，那么有：\n",
    "    $$\\large{P(A_1 \\cup A_2 \\cup \\cdots \\cup A_n) = P(A_1) + P(A_2) + \\cdots + P(A_n)} \\tag{3.2}$$\n",
    "    \n",
    "3. 设 A、B 是两个事件，若 $A \\subset B$ ，则有：\n",
    "    $$\\large{P(B-A) = P(B) - P(A)} \\tag{3.3}$$\n",
    "    $$\\large{P(B) \\ge P(A)} \\tag{3.4}$$\n",
    "    \n",
    "4. 对于任一事件A，\n",
    "    $$P(A) \\le 1$$\n",
    "    \n",
    "5. **逆事件的概率** 对于任一事件 A，有\n",
    "    $$P(\\overline{A}) = 1 - P(A)$$\n",
    "    \n",
    "6. **加法公式** 对于任意两个事件 A，B，有：\n",
    "    $$P(A \\cup B) = P(A) + P(B) - P(AB)  \\qquad (3.5)$$\n",
    "  推广到三个事件：\n",
    "    $$P(A_1 \\cup A_2 \\cup A_3) = P(A_1) + P(A_2) + P(A_3) - P(A_1A_2) - P(A_1A_3) - P(A_2A_3) + P(A_1A_2A_3)  \\qquad (3.6)$$\n",
    "  对于任意 n 个事件  $A_1,A_2,\\cdots A_n$ ，使用归纳法可得到：\n",
    "    $$P(A_1 \\cup A_2 \\cup \\cdots \\cup A_n) = \\sum_{i=1}^{n}P(A_i) - \\sum_{1 \\le i \\le j \\le n}^{n}P(A_iA_j) + \\sum_{1 \\le i \\le j \\le k \\le n}^{n}P(A_iA_jA_k) + \\cdots + (-1)^{n-1}P(A_1A_2 \\cdots A_n)  \\qquad (3.7)$$"
   ]
  },
  {
   "cell_type": "markdown",
   "metadata": {},
   "source": [
    "# 等可能概型（古典概型）\n",
    "**关键词：等可能概型、古典概型、放回抽样、不放回抽样、超几何分布、实际推断原理**"
   ]
  },
  {
   "cell_type": "markdown",
   "metadata": {},
   "source": [
    "实验的样本包含有限个元素，且每个基本事件发生的可能性相同，这种事件成为**等可能概型**。他在概论的发展初期是主要的研究对象，所以成为**古典概型**\n",
    "\n",
    "1、**等可能概型的计算公式**\n",
    "\n",
    "设试验的样本空间为 $ S=\\{ e_1, e_2,\\cdots,e_n \\} $，每个基本事件发生的肯性相同，即 $ P(\\{e_1\\})=P(\\{e_2\\})=\\cdots=P(\\{e_n\\})$。又由于基本事件是两两互不相容的，因此有：\n",
    "$$\n",
    "\\large{\n",
    "\\begin{split}\n",
    "1 = P(S) &= P(\\{e_1\\}) \\cup P(\\{e_2\\}) \\cup \\cdots \\cup P(\\{e_n\\}) \\\\\n",
    "         &= P(\\{e_1\\})+P(\\{e_2\\})+\\cdots+P(\\{e_n\\}) \\\\\n",
    "         &= nP(\\{e_1\\})\n",
    "\\end{split}\n",
    "}\n",
    "$$"
   ]
  },
  {
   "cell_type": "markdown",
   "metadata": {},
   "source": [
    "若事件 A 包含 k 个基本事件，即 $A = \\{e_{i_1}\\}\\bigcup\\{e_{i_2}\\}\\bigcup \\cdots \\bigcup \\{e_{i_k}\\}$，这里 $i_1,i_2,\\cdots,i_k$ 是 $1,2,\\cdots,n$ 中某 k 个不同的数，那么就有：\n",
    "$$\n",
    "\\large{\n",
    "\\begin{split}\n",
    "P(A) = \\sum_{j = 1}^{k}P(\\{e_{i_j}\\}) = \\frac{k}{n} = \\frac{A包含的基本事件数}{S中包含的基本事件总数}\n",
    "\\end{split}\\tag{4.1}\n",
    "}\n",
    "$$\n",
    "\n",
    "上式就是等可能概型中事件 A 的概率计算公式。"
   ]
  },
  {
   "cell_type": "markdown",
   "metadata": {},
   "source": [
    "超几何概率分布：\n",
    "$$\n",
    "\\large{\n",
    "\\begin{split}\n",
    "p = \n",
    "\\begin{pmatrix}\n",
    "D \\\\\n",
    "k\n",
    "\\end{pmatrix}\n",
    "\\begin{pmatrix}\n",
    "N - D \\\\\n",
    "n - k\n",
    "\\end{pmatrix}\n",
    "\\big/\n",
    "\\begin{pmatrix}\n",
    "N \\\\\n",
    "n\n",
    "\\end{pmatrix}\n",
    "\\end{split}\n",
    "}\n",
    "$$\n",
    "\n",
    "对于任意实数 a 以及非负整数 r，定义：\n",
    "$$\n",
    "\\large{\n",
    "\\begin{split}\n",
    "\\begin{pmatrix}\n",
    "a \\\\\n",
    "r\n",
    "\\end{pmatrix} = \n",
    "\\frac{a(a-1)\\cdots (a - r + 1)}{r!}, \\begin{pmatrix}\n",
    "a \\\\\n",
    "0\n",
    "\\end{pmatrix} = 0\n",
    "\\end{split}\n",
    "}\n",
    "$$\n",
    "\n",
    "例如：\n",
    "$$\n",
    "\\large{\n",
    "\\begin{split}\n",
    "\\begin{pmatrix}\n",
    "-\\pi \\\\\n",
    "3\n",
    "\\end{pmatrix} = \n",
    "\\frac{(-\\pi)(-\\pi-1)(-\\pi - 2)}{3!} = -\\frac{\\pi(\\pi+1)(\\pi+2)}{3!}\n",
    "\\end{split}\n",
    "}\n",
    "$$"
   ]
  },
  {
   "cell_type": "markdown",
   "metadata": {},
   "source": [
    "## 示例"
   ]
  },
  {
   "cell_type": "markdown",
   "metadata": {},
   "source": [
    "1、将 n 只球随机的放入 N (N ≥ n) 个盒子中去，试求每个盒子至多有一只球的概率（设盒子的容量不限）\n",
    "\n",
    "解：将 n 只球让入 N 个盒子中去，每一种放法都是一个基本事件。易知，这是古典概率问题。因为每一只球都可以放入 N 个盒子中的任一个盒子，故共有 $N \\times N \\times \\cdots \\times N = N^n$ 种不同的放法，而每个盒子中至多放一只求共有 $N(N-1)\\cdots [N - (n-1)]$ 种不同的放法，因此所求的概率为：\n",
    "$$\n",
    "\\large{\n",
    "\\begin{split}\n",
    "\\mathcal{p} = \\frac{N(N-1) \\cdots (N - n + 1)}{N \\times N \\times \\cdots \\times N} = \\frac{A_{N}^{n}}{N^n}\n",
    "\\end{split}\n",
    "}\n",
    "$$\n",
    "\n",
    "许多问题和本例具有相同的数据模型。例如，假设每人的生日在一年 365 天的任意一天是等可能的，即都等于 $1/365$ ，那么随机选取 n(n ≤ 365) 个人，他们的生日各不相同的概率为：\n",
    "$$\n",
    "\\large{\n",
    "\\begin{split}\n",
    "\\frac{365\\bullet 364 \\bullet \\cdots \\bullet (365 - n + 1) }{365^n}\n",
    "\\end{split}\n",
    "}\n",
    "$$"
   ]
  },
  {
   "cell_type": "markdown",
   "metadata": {},
   "source": [
    "因而，n 个人至少有两个人生日相同的概率为：\n",
    "$$\n",
    "\\large{\n",
    "\\begin{split}\n",
    "\\mathcal{p} = 1 - \\frac{365\\bullet 364 \\bullet \\cdots \\bullet (365 - n + 1) }{365^n}\n",
    "\\end{split}\n",
    "}\n",
    "$$\n",
    "\n",
    "结果计算有如下结果：\n",
    "![image](https://wx4.sinaimg.cn/large/69d4185bly1fz7c57elbvj20el02mjri.jpg)\n",
    "\n",
    "从上表中可以看出，在仅有 64 人的班级里，至少有两个人生日相同这一事件的概率与 1 相差无几。"
   ]
  },
  {
   "cell_type": "markdown",
   "metadata": {},
   "source": [
    "----\n",
    "\n",
    "2、 在 1 ~ 2000 的整数中随机取一个数，问取到的整数既不能被 6 整除，又不能被 8 整除的概。\n",
    "\n",
    "解：设 A 为事件 取到的整数能被 6 整除，B 为事件取到的数能被 8 整除，那么所求的概率就为：\n",
    "$$\n",
    "\\large{\n",
    "\\begin{split}\n",
    "P(\\overline{A}\\;\\overline{B}) \n",
    "&= P(\\overline{A\\cup B}) = 1 - P(A\\cup B) \\\\\n",
    "&= 1 - [P(A) + P(B) - P(AB)]\n",
    "\\end{split}\n",
    "}\n",
    "$$\n",
    "\n",
    "由于 $333 < 2000/6 < 334$ 所以 $$\\large{P(A) = \\frac{333}{2000}}$$\n",
    "由于 $2000/8 = 250 $ 所以 $$\\large{P(B) = \\frac{259}{2000}}$$\n",
    "又由于一个数能同时被 6 和 8 整除就相当于被 24 整除，因此有 $83 < 2000/24 < 84$，所以 $$\\large{P(AB) = \\frac{83}{2000}}$$\n",
    "\n",
    "于是所求的概率为：\n",
    "$$\n",
    "\\large{\n",
    "\\begin{split}\n",
    "p = 1 - \\left(\\frac{333}{2000} + \\frac{259}{2000} - \\frac{83}{2000}\\right) = \\frac{3}{4}\n",
    "\\end{split}\n",
    "}\n",
    "$$"
   ]
  },
  {
   "cell_type": "markdown",
   "metadata": {},
   "source": [
    "----\n",
    "3、 某接待站在某一周层接待过 12 次来访，已知所有这个 12 次接待都是在周二和周四进行的，问是否可以推断接地阿德时间是有规定的。\n",
    "\n",
    "解：假设接待的时间没有规定，而各个来访者在一周的任一天中去接待站的可能性是一样的，那么 12 此接待来访者都是在周二和周四的概率为：\n",
    "$$\n",
    "\\large{\n",
    "\\begin{split}\n",
    "\\frac{2^{12}}{7^{12}} = 0.0000003\n",
    "\\end{split}\n",
    "}\n",
    "$$\n",
    "\n",
    "人们在长期的实践中总结得到：**概率很小的事件在一次实验中实际上几乎是不发生的**（称之为 **实际推断原理**）。现在很小的概率事件在一次实验中发生了，因此有理由怀疑假设的正确性，从而推断接待站不是每天都接待来访者，即认为接待时间是有规定的。"
   ]
  },
  {
   "cell_type": "markdown",
   "metadata": {},
   "source": [
    "# 条件概率"
   ]
  },
  {
   "cell_type": "markdown",
   "metadata": {},
   "source": [
    "## 条件概率"
   ]
  },
  {
   "cell_type": "markdown",
   "metadata": {},
   "source": [
    "所谓的条件概率即，事件 A 已经发生的情况下事件 B 发生的概率。如下示例：\n",
    "```\n",
    "将一枚硬币抛两次，观察期出现正反面的情况。设事件 A 为 \"至少有一次为 H \"，事件 B 为“两次抛出同一面”。现在求已知 A 已经发生的条件下事件 B 的概率.\n",
    "```\n",
    "\n",
    "这里，样本空间为 $S = \\{HH, HT, TH, TT\\},A = \\{HH, HT, TH\\},B = \\{HH, TT\\}$。可以知道哦啊这是古典概型的问题，已知事件 A 已经发生，有了这一信息，知道 TT 不可能发生，即知试验所有的可能结果所构成的集合为 A，A 中共有 3 个元素，其中只有 $HH \\in B$。于是，在事件 A 发生的条件下事件 B 发生的概率为（记为$P(B|A)$）：\n",
    "$$\n",
    "\\large{\n",
    "\\begin{split}\n",
    "P(B|A) =  \\frac{1}{3}\n",
    "\\end{split}\n",
    "}\n",
    "$$\n",
    "这里我们可以看到， $P(B) = 2/4 \\neq P(B|A)$，这个很容易理解，因为在求 $P(B|A)$ 时我们是在限制在事件 A 已经发生的条件下考虑事件 B 发生的概率。另外也可以知道：\n",
    "$$\n",
    "\\large{\n",
    "\\begin{split}\n",
    "P(A) =  \\frac{3}{4}, P(AB) = \\frac{1}{4}, P(B|A) = \\frac{1}{3} = \\frac{1/4}{3/4}\n",
    "\\end{split}\n",
    "}\n",
    "$$"
   ]
  },
  {
   "cell_type": "markdown",
   "metadata": {},
   "source": [
    "故有：\n",
    "$$\n",
    "\\large{\n",
    "\\begin{split}\n",
    "P(B|A) = \\frac{P(AB)}{P(A)}\n",
    "\\end{split}\n",
    "}\n",
    "$$\n",
    " 对于一般古典概型问题，若仍以 $P(B|A)$记事件 A 已经发生的情况下时间 B 发生的概率，则上式仍然成立。事实上，设试验的基本时间总数为 n，A 所包含的基本事件个数为 m (m > 0) ，AB 所包含的事件数为 k ，既有：\n",
    "$$\n",
    "\\large{\n",
    "\\begin{split}\n",
    "P(B|A) = \\frac{k}{m} = \\frac{k/n}{m/n} = \\frac{P(AB)}{P(A)}\n",
    "\\end{split}\n",
    "}\n",
    "$$"
   ]
  },
  {
   "cell_type": "markdown",
   "metadata": {},
   "source": [
    "**定义：** 设事件 A，B 是两个事件，且 P(A) > 0，称\n",
    "$$\n",
    "\\large{\n",
    "\\begin{split}\n",
    "P(B|A) = \\frac{P(AB)}{P(A)}\n",
    "\\end{split}\\tag{5.1}\n",
    "}\n",
    "$$\n",
    "为在事件 A 发生的条件下事件 B 发生的**条件概率**\n",
    "\n",
    "不难验证，条件概率 $P(\\cdot|A)$符合概率定义中的三个条件：\n",
    "1. **非负性**：对于每一个事件 B，有 P(B|A)≥0\n",
    "2. **规范性**：对于必然事件 S，有 P(S|A)=1\n",
    "3. **可列可加性**：设 $B_1,B_2,\\cdots$是两两不相容的事件则有：\n",
    "$$\n",
    "\\large{\n",
    "\\begin{split}\n",
    "P\\left(\\bigcup_{i=1}^{\\infty} B_i|A\\right) = \\sum_{i=1}^{\\infty}P(B_i|A)\n",
    "\\end{split}\n",
    "}\n",
    "$$\n",
    "\n",
    "例如，对于任意事件 $B_1,B_2$，有：$P(B_1\\cup B_2|A) = P(B_1|A)+P(B_2|A) - P(B_1B_2|A)$"
   ]
  },
  {
   "cell_type": "markdown",
   "metadata": {},
   "source": [
    "## 乘法定理"
   ]
  },
  {
   "cell_type": "markdown",
   "metadata": {},
   "source": [
    "由条件概率的定义(5.1)式，可以得到如下的定理：\n",
    "\n",
    "**乘法定理**：设 $P(A) >0$，则有：\n",
    "$$\n",
    "\\large{\n",
    "\\begin{split}\n",
    "P(AB) = P(B|A)P(A)\n",
    "\\end{split}\\tag{5.2}\n",
    "}\n",
    "$$\n",
    "上式也称为 **乘法公式**。上式也可以推广到对个事件积的情况，例如，设 A、B、C 为事件，且 P(AB) > 0，则有\n",
    "$$\n",
    "\\large{\n",
    "\\begin{split}\n",
    "P(ABC) = P(C|AB)\\underbrace{P(B|A)P(A)}_{P(AB)}\n",
    "\\end{split}\\tag{5.3}\n",
    "}\n",
    "$$\n",
    "\n",
    "在这里注意到由假设 $P(AB)>0$ 可以推得 $P(A)≥P(AB)>0$\n",
    "\n",
    "一般设 $A_1,A_2,\\cdots,A_n$为 n 个事件 $n ≥ 2$，且 $P(A_1A_2\\cdots A_{n-1})>0$则有：\n",
    "$$\n",
    "\\large{\n",
    "\\begin{split}\n",
    "P(A_1A_2\\cdots A_{n}) =& P(A_n|A_1A_2\\cdots A_{n-1})P(A_{n-1}|A_1A_2\\cdots A_{n-2})\\\\\n",
    "&P(A_{n-2}|A_1A_2\\cdots A_{n-3})\\cdots P(A_2|A_1)P(A_1)\n",
    "\\end{split}\\tag{5.4}\n",
    "}\n",
    "$$"
   ]
  },
  {
   "cell_type": "markdown",
   "metadata": {},
   "source": [
    "## 全概率公式和贝叶斯公式"
   ]
  },
  {
   "cell_type": "markdown",
   "metadata": {},
   "source": [
    "**定义**：设 S 为试验 E 的样本空间， $B_1,B_2,\\cdots,B_n$ 为 E 的一组事件，若：\n",
    "- $\\large{B_iB_j=\\phi,i\\neq j, i,j = 1,2,\\cdots,n;}$\n",
    "- $\\large{B_1\\cup B_2\\cup \\cdots \\cup B_n = S}$\n",
    "\n",
    "则称$B_1,B_2,\\cdots,B_n$为样本空间 S 的一个 **划分**。\n",
    "\n",
    "若 $B_1,B_2,\\cdots,B_n$ 是样本空间的一个划分，那么对每次试验，事件 $B_1,B_2,\\cdots,B_n$ 中比有一个且仅有一个发生。\n",
    "\n",
    "例如，设试验 E 为“掷一颗筛子观察期点数”。他的样本空间 $S = \\{1,2,3,4,5,6\\}$，E 的一组事件$B_1=\\{1,2,3\\},$$B_2=\\{4,5\\},B_3=\\{6\\}$ 是 S 的一个划分。而事件组$C_1=\\{1,2,3\\},$$C_2=\\{3,45\\},C_3=\\{5,6\\}$ 不是 S 的划分。\n",
    "\n",
    "----"
   ]
  },
  {
   "cell_type": "markdown",
   "metadata": {},
   "source": [
    "**定理** 设试验 E 的样本空间为 S ，A 为 E 的事件，$B_1,B_2,\\cdots,B_n$ 为 S 的一个划分，且 $P(B_i)>0 \\;i = 1,2,\\cdots,n$，则：\n",
    "$$\n",
    "\\large{\n",
    "\\begin{split}\n",
    "P(A) = P(A|B_1)P(B_1) + P(A|B_2)P(B_2) + \\cdots + P(A|B_n)P(B_n)\n",
    "\\end{split}\\tag{5.5}\n",
    "}\n",
    "$$\n",
    "上式称为 **全概率公式**\n",
    "\n",
    "在很多实际问题中 P(A) 不易求得，但很容易找到 S 的一个划分 $B_1,B_2,\\cdots,B_n$，且 $P(B_i)$ 或者 $P(A|B_i)$ 或为已知，或容易求得，那么就可以根据上式计算出 P(A)"
   ]
  },
  {
   "cell_type": "markdown",
   "metadata": {},
   "source": [
    "----\n",
    "**定理**：设试验 E 的样本空间为 S ，A 为 E 的事件，$B_1,B_2,\\cdots,B_n$ 为 S 的一个划分，且 $P(A)>0,P(B_i)>0 \\;i = 1,2,\\cdots,n$，则:\n",
    "$$\n",
    "\\large{\n",
    "\\begin{split}\n",
    "P(B_i|A) = \\frac{P(A|B_i)P(B_i)}{\\sum_{i=1}^{n}P(A|B_i)P(B_i)} \\;\\; i = 1,2,\\cdots,n\n",
    "\\end{split}\\tag{5.6}\n",
    "}\n",
    "$$\n",
    "\n",
    "上式称为**贝叶斯公式**"
   ]
  },
  {
   "cell_type": "markdown",
   "metadata": {},
   "source": [
    "对于全概率公式和贝叶斯公式，但 n=2 时，并将 $B_1$记为 B，此时 $B_2$ 就是 $\\bar{B}$，那么全概率公式和贝叶斯公式就为：\n",
    "$$\n",
    "\\large{\n",
    "\\begin{split}\n",
    "P(A) &= P(A|B)P(B) + P(A|\\bar{B})P(\\bar{B}) \\\\\n",
    "P(B|A) &= \\frac{P(AB)}{P(A)} = \\frac{P(A|B)P(B)}{P(A|B)P(B) + P(A|\\bar{B})P(\\bar{B})}\n",
    "\\end{split}\n",
    "}\n",
    "$$"
   ]
  },
  {
   "cell_type": "markdown",
   "metadata": {},
   "source": [
    "## 示例"
   ]
  },
  {
   "cell_type": "markdown",
   "metadata": {},
   "source": [
    "1、对以往的数据分析结果表明，当机器调整良好时，产品的合格率为 98% ，而当机器发生故障时，其合格率为 55%。每天早上机器开动时，机器调整良好的概率为 95%。试求一种某日早上第一件产品是合格产品时，机器调整良好的概率是多少？\n",
    "\n",
    "解： 设 A 时间为“产品合格”，B 事件“机器调整良好”。已知 P(A|B) = 0.98，P(B) = 0.95，$P(A|\\bar{B})=0.55,P(\\bar{B})=0.05$，所需要求的概率为 P(B|A)，由贝叶斯公式得到：\n",
    "$$\n",
    "\\large{\n",
    "\\begin{split}\n",
    "P(B|A) &= \\frac{P(A|B)P(B)}{P(A|B)P(B) + P(A|\\bar{B})P(\\bar{B})}\\\\\n",
    "&= \\frac{0.98\\times 0.95}{0.98\\times 0.95 + 0.55 \\times 0.05} = 0.97\n",
    "\\end{split}\n",
    "}\n",
    "$$\n",
    "\n",
    "这就是说，当生产出第一件产品是合格产品是，此时机器调整良好的概率为 0.97。这里概率 0.95 是由*以往的数据分析得到的*叫做 **先验概率**，而在得到信息（即生产成的第一件产品是合格产品）之后在重新加以修正的概率（即0.97）为**后验概率**。有了后验概率我们就能对机器的情况进一步了解。"
   ]
  },
  {
   "cell_type": "markdown",
   "metadata": {},
   "source": [
    "# 独立性"
   ]
  },
  {
   "cell_type": "markdown",
   "metadata": {},
   "source": [
    "**定义** 设 A、B 是两事件，如果满足：\n",
    "$$\n",
    "\\large{\n",
    "\\begin{split}\n",
    "P(AB)=P(A)P(B)\n",
    "\\end{split}\\tag{6.1}\n",
    "}\n",
    "$$\n",
    "\n",
    "则称事件 A、B **相互独立**，简称 A、B **独立**。\n",
    "\n",
    "**定理一** 设 A、B 是两事件，且 $P(A)>0$，若 A、B 相互独立，则 $P(B|A)=P(B)$，反之亦然。\n",
    "\n",
    "**定理二** 若事件 A 和 B相互独立，则下列各个事件也相互独立。A 与$\\bar{B}$，$\\bar{A}$ 与B，$\\bar{A}$ 与$\\bar{B}$"
   ]
  },
  {
   "cell_type": "markdown",
   "metadata": {},
   "source": [
    "**定义** 设 A、B、C 三个事件，如果满足等式：\n",
    "$$\n",
    "\\large{\n",
    "\\left.\n",
    "\\begin{aligned}\n",
    "P(AB) &= P(A)P(B) \\\\\n",
    "P(BC) &= P(B)P(C) \\\\\n",
    "P(AC) &= P(A)P(C) \\\\\n",
    "P(ABC) &= P(A)P(B)P(C) \\\\\n",
    "\\end{aligned}\n",
    "\\right\\}\n",
    "}\n",
    "$$\n",
    "\n",
    "则称 A、B、C **相互独立**"
   ]
  },
  {
   "cell_type": "markdown",
   "metadata": {},
   "source": [
    "一般，设$A_1,A_2,\\cdots,A_n$ 是 $n(n ≥ 2)$ 个事件，如果对其中的任意 2 个，任意 3 个，... ，任意 n 个事件的积事件的概率，都等于各个事件的概率之积，则称事件 $A_1,A_2,\\cdots,A_n$ **相互独立**\n",
    "\n",
    "由定义可以得到如下的推论：\n",
    "- 若事件 $A_1,A_2,\\cdots,A_n (n ≥ 2)$ 相互独立，则其中任意 $k(2 ≤ n ≤ n)$个事件也相互独立\n",
    "- 若事件 $A_1,A_2,\\cdots,A_n (n ≥ 2)$ 相互独立，则将 $A_1,A_2,\\cdots,A_n$ 中任意多个事件换成他们的对立事件，所得得到 n 个事件仍然独立\n",
    "\n",
    "**两个事件相互独立的含义是他们其中的一个已经发生了，不影响另一个事件发生的概率**。在实际的应用中，对于事件的独立性常常根据事件的实际意义去判断。一般若实际情况分析，A、B 两事件之间没有关联关系或者关联很微弱，那么就认为他们是相互独立的。例如 A、B 分别表示甲乙两个患感冒，如果甲乙两人的活动范围相距很远，就认为 A、B 相互独立。若 A、B 住在同一个房间里，那就不能认为 A、B 相互独立了。"
   ]
  },
  {
   "cell_type": "markdown",
   "metadata": {},
   "source": [
    "## 示例"
   ]
  },
  {
   "cell_type": "markdown",
   "metadata": {},
   "source": [
    "1、甲乙两人进行乒乓球比赛，每局甲胜的概率为 $p,p≥1/2$。问对甲而言，才去三局两胜有利，还是采取五局三胜制有利。设个局胜负相互独立。\n",
    "\n",
    "解：采取两局三胜制，家最终获胜，其胜局的情况是：甲甲、已甲甲、甲已甲。而这三种结局互不相容，于是由于独立性得甲的最终获胜的概率为：\n",
    "$$\n",
    "\\large{\n",
    "\\begin{split}\n",
    "p_1 = p^2 + 2p^2(1-p)\n",
    "\\end{split}\n",
    "}\n",
    "$$\n",
    "\n",
    "采取五局三胜制，甲最终获胜，至少需要比赛3局（可能3局，可能 4 局，可能 5局），且最后一句胜的必须是甲，而前面甲需要胜两局。例如，共 4局，则甲的胜局情况为：甲乙甲甲、乙甲甲甲、甲甲乙甲，且这三中结局互不相容，有独立性得在五局三胜制下甲最终获胜的概率为：\n",
    "$$\n",
    "\\large{\n",
    "\\begin{split}\n",
    "p_2 = \\underbrace{p^3}_{3局} + \\underbrace{\\begin{pmatrix}\n",
    "3 \\\\\n",
    "2\n",
    "\\end{pmatrix}p^3(1-p)}_{4局} + \\underbrace{\\begin{pmatrix}\n",
    "4 \\\\\n",
    "2\n",
    "\\end{pmatrix}p^3(1-p)^2}_{5局}\n",
    "\\end{split}\n",
    "}\n",
    "$$"
   ]
  },
  {
   "cell_type": "markdown",
   "metadata": {},
   "source": [
    "而：\n",
    "$$\n",
    "\\large{\n",
    "\\begin{split}\n",
    "p_2 - p_1 &= p^2(6p^3 - 15p^2 + 12p - 3) \\\\\n",
    "          &= 3p^2(p-1)^2(2p-1)\n",
    "\\end{split}\n",
    "}\n",
    "$$\n",
    "\n",
    "当 $p > 1/2$时， $p_2>p_1$；当 $p = 1/2$时， $p_2=p_1=1/2$； 故当 $p > 1/2$时，对甲来说采取五局三胜制更有利。"
   ]
  },
  {
   "cell_type": "markdown",
   "metadata": {},
   "source": []
  },
  {
   "cell_type": "markdown",
   "metadata": {},
   "source": []
  },
  {
   "cell_type": "markdown",
   "metadata": {},
   "source": []
  },
  {
   "cell_type": "markdown",
   "metadata": {},
   "source": []
  },
  {
   "cell_type": "markdown",
   "metadata": {},
   "source": []
  },
  {
   "cell_type": "markdown",
   "metadata": {},
   "source": []
  }
 ],
 "metadata": {
  "kernelspec": {
   "display_name": "Python 3",
   "language": "python",
   "name": "python3"
  },
  "language_info": {
   "codemirror_mode": {
    "name": "ipython",
    "version": 3
   },
   "file_extension": ".py",
   "mimetype": "text/x-python",
   "name": "python",
   "nbconvert_exporter": "python",
   "pygments_lexer": "ipython3",
   "version": "3.6.4"
  },
  "toc": {
   "base_numbering": 1,
   "nav_menu": {},
   "number_sections": true,
   "sideBar": true,
   "skip_h1_title": false,
   "title_cell": "Table of Contents",
   "title_sidebar": "Contents",
   "toc_cell": false,
   "toc_position": {
    "height": "calc(100% - 180px)",
    "left": "10px",
    "top": "150px",
    "width": "298px"
   },
   "toc_section_display": true,
   "toc_window_display": true
  }
 },
 "nbformat": 4,
 "nbformat_minor": 2
}
