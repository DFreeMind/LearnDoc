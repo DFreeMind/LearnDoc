{
 "cells": [
  {
   "cell_type": "markdown",
   "metadata": {},
   "source": [
    "# 随机变量"
   ]
  },
  {
   "cell_type": "markdown",
   "metadata": {},
   "source": [
    "在上一章我们看得到一些随机试验，他们的记过可以用数来表示。此时样本空间 S  的元素是一个数，如 $S_3,S_5$；但有些则不然，如 $S_1,S_2$ 。当样本空间 S 的元素不是一个数时，对于 S 就难以描述和研究。现在就需要将随机实验的每一个结果，即将 S 中的每一个元素 $e$ 与实数 x 对应起来，从而引入了随机变量的概念。如下的几个示例。"
   ]
  },
  {
   "cell_type": "markdown",
   "metadata": {},
   "source": [
    "----\n",
    "**例 1** 在第一章第4节中，将一枚硬币抛掷三次，观察出现正面和反面的情况，样本空间是：\n",
    "$$\n",
    "\\large{\n",
    "\\begin{split}\n",
    "S= \\{HHH,HHT,HTH,THH,HTT,THT,TTH,TTT\\}\n",
    "\\end{split}\n",
    "}\n",
    "$$\n",
    "\n",
    "以 $X$ 记三次投掷得到正面 H 的总，那么对于样本空间 $S=\\{e\\}$ （使用 $e$ 表示样本空间的元素，而样本空间记做 $\\{e\\}$）中每一个样本点 $e$ ，$X$ 都有一个数与之对应。**$X$ 是样本空间 S 上的一个实值单值函数，他的定义域是样本空间 S，值域是实数集合 $\\{0,1,2,3\\}$**.使用函数记号，可以将 X 写成如下形式：\n",
    "$$\n",
    "\\large{\n",
    "X = X(e)=\n",
    "\\begin{cases}\n",
    "3,& e = HHH \\\\ \n",
    "2,& e = HHT,HTH,THH \\\\\n",
    "1,& e = HTT,THT,TTH \\\\\n",
    "0,& e = TTT\n",
    "\\end{cases}\n",
    "}\n",
    "$$"
   ]
  },
  {
   "cell_type": "markdown",
   "metadata": {},
   "source": [
    "----\n",
    "**例2**  在一袋中装有编号分别为 1，2，3 的 3 只小球，在袋中任取一只球，放回，在任取一只球，记录他们的号码，试验的样本空间 $S = \\{e\\} = \\{(i,j)|i,j=1,2,3\\}$，i、j 分别为 第一次和第二次取到球的号码，以 $X$ 记两球号码之和。我们可以看到，对于实验的每一个结果 $e=(i,j)\\in S, X$ 都有一个指定的值 $i+j$ 与之对应。如下：\n",
    "![image](https://wx3.sinaimg.cn/large/69d4185bly1fzc6bdpv3pj206q05bweg.jpg)\n",
    "\n",
    "$X$ 是定义在样本空间 S 上的单值实值函数，它的定义域是样本空间 S，值域是实数结合 $\\{2,3,4,5,6\\}$。$X$ 可以写成：\n",
    "$$\n",
    "\\large{\n",
    "\\begin{split}\n",
    "X = X(e) = X((i,j)) = i + j,\\;\\; i,j = 1,2,3\n",
    "\\end{split}\n",
    "}\n",
    "$$"
   ]
  },
  {
   "cell_type": "markdown",
   "metadata": {},
   "source": [
    "---\n",
    "**定义** 设随机试验样本的空间 $S = \\{e\\}, X = X(e)$ 是定义在样本空间 S 上的实值单值函数，称 $X = X(e)$ 为随机变量。\n",
    "\n",
    "下图给出了样本点 $e$ 与 实数$X = X(e)$ 对应的示意图:\n",
    "![image](https://wx2.sinaimg.cn/large/69d4185bly1fzc6nkomrhj209d02wjre.jpg)"
   ]
  },
  {
   "cell_type": "markdown",
   "metadata": {},
   "source": [
    "有许多随机试验，他们的结果本身就是一个数，即样本点 $e$ 本身是一个数。我们两 $X = X(e) = e$，那么 $X$ 就是随机变量。例如用 $Y$ 记某个车间一天缺勤的人数，以 $W$ 记某地区第一季度的降雨量，以 $Z$ 记某工厂某天的耗电量，以 $N$ 记某医院某一天的挂号数，那么 $Y，W，Z，N$ 都是随机变量。\n",
    "\n",
    "**随机变量的取值随着试验的结果而定，而试验的各个结果出现有一定的概率，因而随机变量的取值有一定的概率**。例如，在例1中 $X$ 取值为 2，记做 $X=2$，对应于样本点的集合 $A = \\{HHT,HTH,THH\\}$，这是一个事件，当仅当事件 A 发生时有 $X=2$。我们成概率 $P(A) = P{HHT,HTH,THH}$ 为 $X=2$的概率，即 $P\\{X=2\\}=P(A) = 3/8$，以后，还将事件 $A = \\{HHT,HTH,THH\\}$ 说成是事件 $X=2$ ，类似的有：\n",
    "$$\n",
    "\\large{\n",
    "\\begin{split}\n",
    "P\\{X ≤ 1\\} = P\\{HTT,THT,TTH,TT\\} = \\frac{1}{2}\n",
    "\\end{split}\n",
    "}\n",
    "$$\n",
    "\n",
    "一般，若 L 是一个实数集合，将 $X$ 在 L 上取值写成 $\\{X \\in L\\}$，他表示事件 $B = \\{e|X(e) \\in L\\}$，即 B 是由 S 中事使得 $\\{X(e) \\in L\\}$ 的所有样本点 $e$ 所组成的事件，此时有：\n",
    "$$\n",
    "\\large{\n",
    "\\begin{split}\n",
    "P\\{X \\in L\\} = P(B) = P\\{e | X(e) \\in L\\}\n",
    "\\end{split}\n",
    "}\n",
    "$$\n",
    "\n",
    "随机变量的取值随实验的结果而定，在试验之前不能预知他取什么样的值，且他的取值有一定的概率。这些性质显示了随机变量有普通变量的本质差异。\n",
    "\n",
    "随机变量的引入，使我们能用随机变量来描述各种随机现象，并能利用数学分析的方法对随机试验的结果进行深入广泛的研究和讨论。"
   ]
  },
  {
   "cell_type": "markdown",
   "metadata": {},
   "source": [
    "# 离散型随机变量及其分布律"
   ]
  },
  {
   "cell_type": "markdown",
   "metadata": {},
   "source": [
    "有些随机变量，他全部可能取到的值是有限个或可列无限多个，这种随机变量称为**离散型随机变量**。例如某城市的 120 急救电话台一昼夜收到的呼叫次数就是离散型随机变量，若以 $T$ 记某元器件的寿命，他所有可能的取值充满一个区间，是无法按一定次序一一列举出来的，因为他是一个非离散型随机变量。\n",
    "\n",
    "容易知道掌握一个离散型随机变量 $X$ 的统计规律，必须起只需要知道 $X$ 的所有可能取值以及每一个取值可能的概率。\n",
    "\n",
    "设离散型随机变量 $X$ 的所有肯能取值为 $x_k(k=1,2,\\cdots)$，$X$ 取各个值的概率，即事件$\\{X=x_k\\}$的概率，为：\n",
    "$$\n",
    "\\large{\n",
    "\\begin{split}\n",
    "P\\{X=x_k\\} = p_k, \\;\\; k=1,2.\\,\\cdots\n",
    "\\end{split}\\tag{2.1}\n",
    "}\n",
    "$$\n",
    "\n",
    "由概率的定义，$p_k$ 应满足一下两个条件:\n",
    "- $p_k ≥ 0, k=1,2,\\cdots$\n",
    "- $\\sum_{k=1}^{\\infty} p_k = 1$"
   ]
  },
  {
   "cell_type": "markdown",
   "metadata": {},
   "source": [
    "我们称 (2.1) 式为离散型随机变量 $X$ 的**分布律**。分布律可以用使用表格表述成如下形式：\n",
    "![image](https://wx1.sinaimg.cn/large/69d4185bly1fzeew29jyej20cm02oq2x.jpg)\n",
    "\n",
    "上图直观的展示了随机变量 $X$ 的各个取值的规律。$X$ 取各个值各占一定的概率，这些概率和起来是 1 。可以想象成：概率 1 以一定的规律分布在各个可能的值上，这就是上图叫做分布律的缘故。"
   ]
  },
  {
   "cell_type": "markdown",
   "metadata": {},
   "source": [
    "---\n",
    "**例1** 设一汽车在开往目的地的道路上需要经过四组信号灯，每组信号灯以 1/2 的概率允许或者禁止汽车通过。以 $X$ 表示汽车首次停下时，他已经通过的信号灯组数（设各组信号灯的工作是相互独立的），求 $X$ 的分布律。\n",
    "\n",
    "解：以 p 表示每组信号灯禁止汽车通过的概率，易知 $X$ 的分布律为：\n",
    "![image](https://ws3.sinaimg.cn/large/69d4185bly1fzefg0e9kbj20i802eaa4.jpg)\n",
    "\n",
    "或者写成 :\n",
    "$$\n",
    "\\large{\n",
    "\\begin{split}\n",
    "P\\{X=k\\}=(1-p)^kp,k=0,1,2,3, p\\{X=4\\} = (1-p)^4\n",
    "\\end{split}\n",
    "}\n",
    "$$\n",
    "\n",
    "以 p = 1/2 带入得：\n",
    "![image](https://ws1.sinaimg.cn/large/69d4185bly1fzeforuystj20i302awek.jpg)"
   ]
  },
  {
   "cell_type": "markdown",
   "metadata": {},
   "source": [
    "## (0-1)分布"
   ]
  },
  {
   "cell_type": "markdown",
   "metadata": {},
   "source": [
    "设随机变量 $X$ 只可能取 0 和 1 两个值，他的分布律是：\n",
    "$$\n",
    "\\large{\n",
    "\\begin{split}\n",
    "P\\{X=k\\}=p^k(1-p)^{1-k},k=0,1\\;\\; (0 < p < 1)\n",
    "\\end{split}\n",
    "}\n",
    "$$\n",
    "\n",
    "则称 $X$ 服从以 p 为参数的 `(0-1)` 分布或两点分布。`(0-1)` 的分布律也可以写成：\n",
    "![image](https://wx2.sinaimg.cn/large/69d4185bly1fzefup6fh1j208y02ga9z.jpg)"
   ]
  },
  {
   "cell_type": "markdown",
   "metadata": {},
   "source": [
    "对于一个随机试验，如果他的样本空间只包含两个元素，即 $S=\\{e_1,e_2\\}$ ，我们总能在 S 上定义一个服从 `(0-1)` 分布的随机变量：\n",
    "$$\n",
    "\\large{\n",
    "X = X(e) = \n",
    "\\begin{cases}\n",
    "0,& 当 e=e_1 \\\\ \n",
    "1,& 当 e=e_2\n",
    "\\end{cases}\n",
    "}\n",
    "$$\n",
    "来描述这个随机试验的结果。例如，对新生婴儿的性别进行登记，检查产品的质量是否合格，某车间的电力消耗是否超过负荷及其前面讨论的抛硬币都可以使用 `(0-1)` 来描述，`(0-1)` 分布也是经常遇到的一种分布。"
   ]
  },
  {
   "cell_type": "markdown",
   "metadata": {},
   "source": [
    "## 伯努利试验、二项分布"
   ]
  },
  {
   "cell_type": "markdown",
   "metadata": {},
   "source": [
    "设试验 E 只可能有两个结果：$A,\\bar{A}$，则称 E 为**伯努利（Bernoulli）试验**。设 $P(A)=p (0<p<1)$，此时 $P(\\bar{A})=1-p$，将 E 独立重复的进行 n 次，则称这一串重复的独立试验为 **n 重伯努利试验**。\n",
    "\n",
    "这里 `重复` 是指在每次实验中 $P(A)=p$ 保持不变；`独立`是指各次的结果互不影响。若以 $C_i$ 记做第 i 次的是实验结果，$C_i$为 A 或者 $\\bar{A},i=1,2, \\cdots,n$。独立是指:\n",
    "$$\n",
    "\\large{\n",
    "\\begin{split}\n",
    "P(C_1C_2\\cdots C_n) = P(C_1)P(C_2)\\cdots P(C_n)\n",
    "\\end{split}\n",
    "}\n",
    "$$"
   ]
  },
  {
   "cell_type": "markdown",
   "metadata": {},
   "source": [
    "n 重伯努利试验是一种很重要的数学模型，他有很广泛的使用，是研究最多的模型之一。\n",
    "\n",
    "例如：$E$ 是跑一枚硬币观察得到正面或者反面。 $A$ 表示得到正面，这是一个伯努利试验。如将硬币抛 n 次，就是 n 重伯努利试验。又如抛一个筛子，若 $A$ 表示得到 1 点数，$\\bar{A}$ 表示非 1 的点数，将骰子抛 n 次，就是 n 重伯努利试验。再如，在袋中装 $a$ 只白球，$b$ 只黑球，试验 $E$ 是在袋中任取一个球，观察其颜色，以 $A$ 表示取到白球，$P(A) = a/(a+b)$。若连续取 n 次做放回抽样，这样就是 n 重伯努利试验。但不放回抽样就不是，虽然每次试验都有$P(A) = a/(a+b)$，但各次相互试验不在独立，因而不再是 n 重伯努利试验了。\n",
    "\n",
    "以 $X$ 表示 n 重伯努利试验中试验 $A$ 发生的次数，$X$ 是一个随机变量，我们来求他的分布律。 $X$ 的所有可能取值为 0、1、2、...、n。由于各次试验时相互独立的，因此事件 $A$ 在指定的 $k(0\\ge k \\le n)$ 次试验中发生，在其他 $n-k$ 次试验中 $A$ 不发生的概率为：\n",
    "$$\n",
    "\\large{\n",
    "\\begin{split}\n",
    "\\underbrace{p\\cdot p \\cdot \\cdots \\cdot p}_{k个}\\cdot\\underbrace{(1-p)\\cdot (1-p) \\cdot \\cdots \\cdot (1-p)}_{n-k 个} = p^k(1-p)^{n-k}\n",
    "\\end{split}\n",
    "}\n",
    "$$"
   ]
  },
  {
   "cell_type": "markdown",
   "metadata": {},
   "source": [
    "\n",
    "这种指定方式共有 $\\begin{pmatrix} n\\\\ k\\end{pmatrix}$种，他们两两互不相容，故在 n 此试验中 $A$ 发生 k 次的概率为 $\\begin{pmatrix} n\\\\ k\\end{pmatrix}p^k(1-p)^{n-k}$，记 $q = 1-p$，既有\n",
    "$$\n",
    "\\large{\n",
    "\\begin{split}\n",
    "P\\{X=k\\} = \\begin{pmatrix} n\\\\ k\\end{pmatrix}p^k(1-p)^{n-k},\\;\\; k=0,1,2,3,\\cdots,n\n",
    "\\end{split}\\tag{2.2}\n",
    "}\n",
    "$$\n",
    "显然\n",
    "$$\n",
    "\\large{\n",
    "\\begin{split}\n",
    "P\\{X=k\\} &\\ge 0,\\;\\; k=0,1,2,3,\\cdots,n \\\\\n",
    "\\sum_{k=0}^{n}P\\{X=k\\} &= \\sum_{k=0}^{n}\n",
    "\\begin{pmatrix} n\\\\ k\\end{pmatrix}p^k(1-p)^{n-k}=(p+q)^n = 1 \n",
    "\\end{split}\n",
    "}\n",
    "$$"
   ]
  },
  {
   "cell_type": "markdown",
   "metadata": {},
   "source": [
    "即 $P\\{X=k\\}$满足条件概率定义的两个条件。注意到 $\\begin{pmatrix} n\\\\ k\\end{pmatrix}p^k(1-p)^{n-k}$ 刚好是二项式$(p+q)^n$的展开式中出现 $p^k$ 的那一项，我们称随机变量 $X$ 服从参数为 $n,p$ 的`二项分布`，并记做 $X\\sim b(n,p)$。\n",
    "\n",
    "特别在 $n=1$时，二项分布可以化简为：\n",
    "$$\n",
    "\\large{\n",
    "\\begin{split}\n",
    "P\\{X=k\\} = p^kq^{1-k},\\;\\; k=0,1\n",
    "\\end{split}\n",
    "}\n",
    "$$\n",
    "这就是`(0-1)分布`。"
   ]
  },
  {
   "cell_type": "markdown",
   "metadata": {},
   "source": [
    "## 泊松分布"
   ]
  },
  {
   "cell_type": "markdown",
   "metadata": {},
   "source": [
    "设随机变量 $X$ 所有可能的取值为 $0,1,2,\\cdots,$ 而去各个值的概率为：\n",
    "$$\n",
    "\\large{\n",
    "\\begin{split}\n",
    "P\\{X=k\\} = \\frac{\\lambda^k e^{-\\lambda}}{k!}\n",
    "\\end{split}\n",
    "}\n",
    "$$\n",
    "其中，$\\lambda > 0$ 是常数，则称 $X$服从参数为 $\\lambda$ 的 **`泊松分布`**，记为 $X \\sim \\pi(\\lambda)$.\n",
    "\n",
    "易知，$P\\{X=k\\} \\ge 0,k=0,1,2,\\cdots$，且有\n",
    "$$\n",
    "\\large{\n",
    "\\begin{split}\n",
    "\\sum_{k=0}^{\\infty} P\\{X=k\\} \n",
    "= \\sum_{k=0}^{\\infty}\\frac{\\lambda^k e^{-\\lambda}}{k!}\n",
    "= e^{-\\lambda}\\sum_{k=0}^{\\infty}\\frac{\\lambda^k}{k!} \n",
    "= e^{-\\lambda} \\cdot e^{\\lambda} = 1 \n",
    "\\end{split}\n",
    "}\n",
    "$$\n",
    "即 $P\\{X=k\\}$ 满足概率分布的条件。\n"
   ]
  },
  {
   "cell_type": "markdown",
   "metadata": {},
   "source": [
    "具有波分分布的随机变量在实际应用中是很多的，例如，一本书一页的印刷错误数，某地区一天内邮递遗失的信件数，某一医院在一天内的急诊病人数，某一地区一个时间内发生的交通事故数，在一个时间间隔内某种放射性物质发出的、经过计数器的 $\\alpha$ 粒子数都服从泊松分布。\n",
    "\n",
    "**`泊松定理`** 设 $\\lambda$ 是一个常数，n 是任意的整数，设 $np_n = \\lambda$，则对于任一固定的非负整数 k，有\n",
    "$$\n",
    "\\large{\n",
    "\\begin{split}\n",
    "\\lim_{n \\rightarrow \\infty} \\begin{pmatrix} n\\\\ k\\end{pmatrix}p_n^k(1-p_n)^{n-k}=\\frac{\\lambda^k e^{-\\lambda}}{k!}\n",
    "\\end{split}\n",
    "}\n",
    "$$\n",
    "\n",
    "定理的条件 $np_n = \\lambda$ 意味着当 n 很大时 $p_n$ 必定很小，因此，上述定理表明当 n 很大，p 很小时有以下近似公式：\n",
    "$$\n",
    "\\large{\n",
    "\\begin{split}\n",
    "\\begin{pmatrix} n\\\\ k\\end{pmatrix}p^k(1-p)^{n-k} \\approx \\frac{\\lambda^k e^{-\\lambda}}{k!}(\\lambda = np)\n",
    "\\end{split}\\tag{2.3}\n",
    "}\n",
    "$$\n",
    "\n",
    "也就是说，以 n、p 为参数的二项分布的概率值可以由参数为 $\\lambda = np$ 的泊松分布的概率近似，上式也能用来做二项分布概率的近似计算。"
   ]
  },
  {
   "cell_type": "markdown",
   "metadata": {},
   "source": [
    "# 随机变量的分布函数"
   ]
  },
  {
   "cell_type": "markdown",
   "metadata": {},
   "source": [
    "对于非离散型随机变量 $X$ ，由于其可能值不能一一列举出来，因为就不能像离散型随机变量那样可以使用分布律来描述他。另外，我们通常所遇到的非离散型随机变量取任一指定的实数值的概率都等于 0 。再者在实际中，对于这样的随机变量，例如误差 $\\epsilon$，元件的寿命 T 等，我们并不会对误差 $\\epsilon = 0.05mm$，寿命 $T = 1251.3h$ 的概率感兴趣，而是考虑误差落在某个区间内的概率，寿命 T 大于某个数的概率，因为我们转向研究随机变量所有的值落在一个区间 $(x_1,x_2]$的概率：$P\\{x_1 \\lt X \\le x_2\\}$ ，但由于\n",
    "$$\n",
    "\\large{\n",
    "\\begin{split}\n",
    "P\\{x_1 \\lt X \\le x_2\\}=P\\{X \\le x_2\\} - P\\{X \\le x_1\\}\n",
    "\\end{split}\n",
    "}\n",
    "$$\n",
    "所以我们知道 $P\\{X=x_2\\}$ 和 $P\\{X=x_1\\}$ 就可以了。\n",
    "\n",
    "**`定义`** 设 $X$ 是一个随机变量， $x$\n",
    "$$\n",
    "\\large{\n",
    "\\begin{split}\n",
    "F(x) = P\\{X\\le x\\}, -\\infty \\lt x \\lt \\infty\n",
    "\\end{split}\n",
    "}\n",
    "$$\n",
    "成为 $X$ 的 `分布函数`。\n",
    "\n",
    "对于任意实数 $x_1,x_2(x_1 \\lt x_2)$，有\n",
    "$$\n",
    "\\large{\n",
    "\\begin{split}\n",
    "P\\{x_1 \\le X \\le x_2\\} &= P\\{X \\le x_2\\} - P\\{X \\le x_1\\}\\\\\n",
    "&= F(x_2) - F(x_1)\n",
    "\\end{split}\\tag{3.1}\n",
    "}\n",
    "$$"
   ]
  },
  {
   "cell_type": "markdown",
   "metadata": {},
   "source": [
    "因此，若已知 $X$ 的分布函数，我们知道$X$落在任一区间$(x_1,x_2]$上的概率，从这个意义上说，**分布函数完整的描述了随机变量的统计规律**。分布函数是一个普通的函数，正是通过它，我们将能用数学的方法来研究随机变量。\n",
    "\n",
    "如果将 $X$ 看成是数轴上的随机点的坐标，那么，，分布函数 $F(x)$在 $x$ 处的函数值就表示 $X$ 落在区间 $(-\\infty,x]$上的概率，通过图形表示就是\n",
    "![image](https://ws4.sinaimg.cn/large/69d4185bly1fzfhax0d0bj20b3035weh.jpg)\n",
    "\n",
    "分布函数$F(x)$具有以下性质：\n",
    "- $F(x)$ 是一个不减函数\n",
    "- $0 \\le F(x) \\le 1$\n",
    "- $F(x+0)=F(x)$\n",
    "\n",
    "前面的两个式子可以通过几何加以说明\n",
    "![image](https://ws3.sinaimg.cn/large/69d4185bly1fzfhscjpawj20ar020gli.jpg)\n",
    "如上图，将区间点 $x$ 沿数轴无限向左移动（即 $x \\rightarrow -\\infty$），则*随机点 $X$ 落在点 $x$ 左边* 这一事件趋于不可能事件，从而器概率趋于 0 ，既有 $F(-\\infty)=0$；又若将点$x$ 无限右移（即 $x \\rightarrow \\infty$），则 *随机点 $X$ 落在点 $x$ 左边*这一事件趋于必然事件，从而器概率趋于1，$F(\\infty)=0$。"
   ]
  },
  {
   "cell_type": "markdown",
   "metadata": {},
   "source": [
    "---\n",
    "**例1** 设随机变量 $X$ 的分布律为\n",
    "![image](https://wx1.sinaimg.cn/large/69d4185bly1fzfi2ywcrzj20ci02nglk.jpg)\n",
    "求 $X$ 的分布函数，并求 $P\\{X \\le 1/2\\},P\\{3/2 \\lt X \\le 1/2\\},P\\{2 \\le X \\le 3\\}$\n",
    "\n",
    "解：$X$ 仅在 $x=-1,2,3$ 三点处其概率不等于 0 ，而 $F(x)$ 的值是 $X \\le x$ 的累积概率，由概率的有限可加性，知它即为小于或等于$x$的那些$x_k$处的概率 $p_k$之和，有\n",
    "$$\n",
    "\\large{\n",
    "F(x)=\n",
    "\\begin{cases}\n",
    "0,& x < -1 \\\\ \n",
    "P\\{X = -1\\}, &-1 \\le x \\lt 2 \\\\\n",
    "P\\{X = -1\\} + P\\{X = 2\\} , & 2 \\le x \\lt 3 \\\\\n",
    "1, & x \\gt 3\n",
    "\\end{cases}\n",
    "}\n",
    "$$\n",
    "即\n",
    "$$\n",
    "\\large{\n",
    "F(x)=\n",
    "\\begin{cases}\n",
    "0,& x < -1 \\\\ \n",
    "\\frac{1}{4}, &-1 \\le x \\lt 2 \\\\\n",
    "\\frac{3}{4} , & 2 \\le x \\lt 3 \\\\\n",
    "1, & x \\gt 3\n",
    "\\end{cases}\n",
    "}\n",
    "$$"
   ]
  },
  {
   "cell_type": "markdown",
   "metadata": {},
   "source": [
    "$F(x)$ 的图形可以通过下图展示，他是一条阶梯型曲线，\n",
    "![image](https://ws3.sinaimg.cn/large/69d4185bly1fzfi2ywcrzj20ci02nglk.jpg)\n",
    "在$x=-1,2,3$ 处有跳跃点，跳跃点的值为 $1/4, 1/2, 1/4$，又\n",
    "$$\n",
    "\\large{\n",
    "\\begin{split}\n",
    "&P\\left\\{X \\le \\frac{1}{2}\\right\\} = F\\left(\\frac{1}{2}\\right) = \\frac{1}{4} \\\\\n",
    "&P\\left\\{\\frac{3}{2} \\lt X \\le \\frac{5}{2}\\right\\} = F\\left(\\frac{5}{2} \\right)- F\\left(\\frac{3}{2}\\right) =\\frac{3}{4} - \\frac{1}{4} =  \\frac{1}{2} \\\\\n",
    "&P\\left\\{2 \\lt X \\le 3\\right\\} = F\\left(3 \\right)- F\\left(2\\right) + P\\{X=2\\}=1 -\\frac{3}{4} + \\frac{1}{2} =  \\frac{3}{4}\n",
    "\\end{split}\n",
    "}\n",
    "$$\n"
   ]
  },
  {
   "cell_type": "markdown",
   "metadata": {},
   "source": [
    "一般，设离散型随机变量 $X$ 的分布律为：\n",
    "$$\n",
    "\\large{\n",
    "\\begin{split}\n",
    "P\\{X=x_k\\}=p_k,\\;\\; k=1,2,\\cdots\n",
    "\\end{split}\n",
    "}\n",
    "$$\n",
    "由概率的可加性得 $X$ 的分布函数为：\n",
    "$$\n",
    "\\large{\n",
    "\\begin{split}\n",
    "F(x) = P\\{X \\le x\\} = \\sum_{x_k \\le x}P\\{X=x_k\\}\n",
    "\\end{split}\n",
    "}\n",
    "$$\n",
    "即\n",
    "$$\n",
    "\\large{\n",
    "\\begin{split}\n",
    "F(x) = \\sum_{x_k \\le x}p_k\n",
    "\\end{split}\\tag{3.2}\n",
    "}\n",
    "$$\n",
    "这里和式是对于所有满足 $x_k \\le x$ 的 $k$ 的求和，分布函数 $F(x)$ 在 $x=x_k(k=1,2,\\cdots)$ 处有跳跃，其跳跃值为 $p_k=P\\{X=x_k\\}$"
   ]
  },
  {
   "cell_type": "markdown",
   "metadata": {},
   "source": [
    "# 连续性随机变量及其概率密度"
   ]
  },
  {
   "cell_type": "markdown",
   "metadata": {},
   "source": [
    "如果对于随机变量 $X$ 的分布函数 $F(x)$ ，存在非负可积函数 $f(x)$，使对于任意实数 $x$ 有\n",
    "$$\n",
    "\\large{\n",
    "\\begin{split}\n",
    "F(x) = \\int_{-\\infty}^{x}f(t)d t\n",
    "\\end{split}\\tag{4.1}\n",
    "}\n",
    "$$\n",
    "则称 $X$ 为 **`连续性随机变量`**，$f(x)$ 称为 $X$ 的**`概率密度函数`**，简称 **`概率密度`**\n",
    "\n",
    "根据数学分析的知识知连续性随机变量的分布函数时连续函数。在实际应用中遇到的基本上是离散型或者连续性随机变量。"
   ]
  },
  {
   "cell_type": "markdown",
   "metadata": {},
   "source": [
    "由定义可知，概率密度函数 $f(x)$ 有以下的性质：\n",
    "- $f(x) \\gt 0$\n",
    "- $\\int_{-\\infty}^{\\infty}f(x)dx=1$\n",
    "- 对任意实数 $x_1,x_2(x_1 \\lt x_2)$，有 $P\\{x_1 \\lt X \\le x_2\\}=F(x_2) - F(x_1) = \\int_{x_1}^{x_2}f(x)dx$\n",
    "- 若 $f(x)$ 在点 $x$ 处连续，则有 $F'(x) = f(x)$\n",
    "\n",
    "反之，若$f(x)$ 具备前两个性质，引入 $G(x) = \\int_{-\\infty}^{x}f(t)dt$，他是某一个随机变量 $X$ 的分布函数，$f(x)$ 是 $X$ 的概率密度函数。\n",
    "\n",
    "由第二条性质知道介于曲线 $y=f(x)$与 $Ox$ 轴之间的面积等于 1（下图左）。由性质第三条知道 $X$ 落在区间 $(x_1,x_2]$ 的概率 $P\\{x_1 \\lt x \\le x_2\\}$ 等于区间 $(x_1,x_2]$上曲线 $y=f(x)$ 之下的曲边梯形的面积（下图右）\n",
    "![image](https://wx2.sinaimg.cn/large/69d4185bly1fzfmfgawo1j20jl06074p.jpg)"
   ]
  },
  {
   "cell_type": "markdown",
   "metadata": {},
   "source": [
    "由第四条性质 $f(x)$ 在连续的点 $x$ 处有\n",
    "$$\n",
    "\\large{\n",
    "\\begin{split}\n",
    "f(x) &= \\lim_{\\Delta x \\rightarrow 0^+} \\frac{F(x+\\Delta x) - F(x)}{\\Delta x} \\\\\n",
    "&= \\lim_{\\Delta x \\rightarrow 0^+}\\frac{P\\{x \\lt X \\le x + \\Delta x\\}}{\\Delta x}\n",
    "\\end{split}\\tag{4.2}\n",
    "}\n",
    "$$\n",
    "从这里我们可以看到概率密度的定义与物理学中的线密度的定义类型，这就是为什么 $f(x)$ 称为概率密度的缘故。由上式知道，若不计高阶无穷小\n",
    "$$\n",
    "\\large{\n",
    "\\begin{split}\n",
    "P\\{x \\lt X \\le x + \\Delta x\\} \\approx f(x)\\Delta x\n",
    "\\end{split}\\tag{4.3}\n",
    "}\n",
    "$$\n",
    "这表示 $X$ 落在小区间 $(x,x+\\Delta x]$ 上的概率近似的等于$f(x)\\Delta x$。"
   ]
  },
  {
   "cell_type": "markdown",
   "metadata": {},
   "source": [
    "---\n",
    "**`例1`** 设随机变量 $X$ 的概率密度\n",
    "\n",
    "$$\n",
    "\\large{\n",
    "f(x) = \n",
    "\\begin{cases}\n",
    "kx, & 0 \\le x \\lt 3 \\\\ \n",
    "2 - \\frac{x}{2}, & 3 \\le x \\le 4 \\\\\n",
    "0, & 其他\n",
    "\\end{cases}\n",
    "}\n",
    "$$\n",
    "(1) 确定常数 $k$ ；(2) 求 $X$ 的分布函数 $F(x)$；(3) 求 $P\\{1 \\lt X \\le 7/2\\}$\n",
    "\n",
    "**解** (1) 由 $\\int_{-\\infty}^{\\infty} f(x)dx = 1$ 得\n",
    "$$\n",
    "\\large{\n",
    "\\begin{split}\n",
    "\\int_{0}^{3}kx dx + \\int_{3}^{4}(2-\\frac{x}{2})dx = 1\n",
    "\\end{split}\n",
    "}\n",
    "$$\n",
    "求得 $k=1/6$，于是 $X$ 的概率概率密度为\n",
    "$$\n",
    "\\large{\n",
    "f(x) = \n",
    "\\begin{cases}\n",
    "\\frac{x}{6}, & 0 \\le x \\lt 3 \\\\ \n",
    "2 - \\frac{x}{2}, & 3 \\le x \\lt 4 \\\\\n",
    "0, & 其他\n",
    "\\end{cases}\n",
    "}\n",
    "$$"
   ]
  },
  {
   "cell_type": "markdown",
   "metadata": {},
   "source": [
    "(2) $X$ 的分布函数为\n",
    "$$\n",
    "\\large{\n",
    "F(x) = \n",
    "\\begin{cases}\n",
    "0, & x \\lt 0 \\\\\n",
    "\\int_{0}^{x}\\frac{x}{6}dx, & 0 \\le x \\lt 3 \\\\ \n",
    "\\int_{0}^{3}\\frac{x}{6}dx + \\int_{3}^{x}(2 - \\frac{x}{2})dx, & 3 \\le x \\lt 4 \\\\\n",
    "1, & x \\ge 4\n",
    "\\end{cases}\n",
    "}\n",
    "$$\n",
    "即\n",
    "$$\n",
    "\\large{\n",
    "F(x) = \n",
    "\\begin{cases}\n",
    "0, & x \\lt 0 \\\\\n",
    "\\frac{x^2}{12}, & 0 \\le x \\lt 3 \\\\ \n",
    "-3 + 2x - \\frac{x^2}{4}, & 3 \\le x \\lt 4 \\\\\n",
    "1, & x \\ge 4\n",
    "\\end{cases}\n",
    "}\n",
    "$$\n",
    "\n",
    "(3) $P\\{1 \\lt X \\le 7/2\\} = F(7/2) - F(1) = 41/48$"
   ]
  },
  {
   "cell_type": "markdown",
   "metadata": {},
   "source": [
    "需要指出的是，对于连续性随机变量 $X$ 来说，他取任一指定实数值 $a$ 的概率均为 0，即$P\\{X=a\\}=0$。事实上，设 $X$ 的分布函数为 $F(x)，\\Delta x \\gt 0$ ，则由 $\\{X=a\\} \\subset \\{a - \\Delta x \\lt X \\le a \\}$ 得\n",
    "$$\n",
    "\\large{\n",
    "\\begin{split}\n",
    "0 \\le P\\{X=a\\} \\le P\\{a - \\Delta x \\lt X \\le a \\} = F(a) - F(a - \\Delta x)\n",
    "\\end{split}\n",
    "}\n",
    "$$\n",
    "上面不等式中令 $\\Delta x \\rightarrow 0$，并注意到 $X$ 为连续性随机变量，其分布函数 $F(x)$ 是连续的，即得 \n",
    "$$\n",
    "\\large{\n",
    "P\\{X=a\\}=0\n",
    "}\\tag{4.4}\n",
    "$$\n",
    "\n",
    "据此，**在计算连续性随机性比阿尼浪落在某一区间的概率时，可以不必区分该区间是开区间或笔记区间**。例如\n",
    "$$\n",
    "\\large{\n",
    "\\begin{split}\n",
    "P\\{a \\lt X \\le b\\} = P\\{a \\le X \\le b\\} = P\\{a \\lt X \\lt b\\}\n",
    "\\end{split}\n",
    "}\n",
    "$$\n",
    "在这几，事件 $\\{X=a\\}$并非不可能事件，但有 $P\\{X=a\\}=0$ 。这就是说，若 A 是不可能时间，则有 $P(A)=0$；反之，若 $P(A)=0$，并不一定意味着 A  是不可能事件。\n"
   ]
  },
  {
   "cell_type": "markdown",
   "metadata": {},
   "source": [
    "## 均匀分布"
   ]
  },
  {
   "cell_type": "markdown",
   "metadata": {},
   "source": [
    "若连续性随机变量 $X$ 具有概率密度\n",
    "$$\n",
    "\\large{\n",
    "f(x) = \n",
    "\\begin{cases}\n",
    "\\frac{1}{b-a},& a \\lt x \\lt b \\\\ \n",
    "0,& 其他\n",
    "\\end{cases}\\tag{4.5}\n",
    "}\n",
    "$$\n",
    "则称 $X$ 在区间 $(a,b)$ 上服从 **`均匀分布`**，记做 $X \\sim U(a,b)$\n",
    "\n",
    "易知，$f(x) \\ge 0, 且 \\int_{-\\infty}^{\\infty}f(x)dx=1$。"
   ]
  },
  {
   "cell_type": "markdown",
   "metadata": {},
   "source": [
    "在区间$(a,b)$上服从均匀分布的随机变量 $X$ ，具有下述意义的等可能性，即他落在区间 $(a,b)$ 中任意等长度的子区间内的可能性是相同的。或者说他落在 $(a,b)$  子区间内的概率只依赖于子区间的长度而与子区间的位置无关。事实上任一长度为 $l$ 的子区间$(c,c+l),a \\le c \\lt c+l \\le b$有\n",
    "$$\n",
    "\\large{\n",
    "\\begin{split}\n",
    "P\\{c \\lt X \\le c+l\\} = \\int_{c}^{c+l}f(x)dx = \\int_{c}^{c+l}\\frac{1}{b-a}=\\frac{l}{b-a}\n",
    "\\end{split}\n",
    "}\n",
    "$$\n",
    "由此可以得到 $X$ 的分布函数\n",
    "$$\n",
    "\\large{\n",
    "F(x) = \n",
    "\\begin{cases}\n",
    "0,& x \\lt a \\\\ \n",
    "\\frac{x-a}{b-a}, &x a \\le x \\lt b \\\\\n",
    "1, & x \\ge b\n",
    "\\end{cases}\n",
    "}\\tag{4.6}\n",
    "$$\n",
    "\n",
    "\n",
    "$f(x),F(x)$ 的示意图如下：\n",
    "![image](https://wx1.sinaimg.cn/large/69d4185bly1fzfo9bck82j20go0630sw.jpg)"
   ]
  },
  {
   "cell_type": "markdown",
   "metadata": {},
   "source": [
    "## 指数分布"
   ]
  },
  {
   "cell_type": "markdown",
   "metadata": {},
   "source": [
    "\n",
    "\n",
    "若连续变量 $X$ 的概率密度为\n",
    "$$\n",
    "\\large{\n",
    "f(x) = \n",
    "\\begin{cases}\n",
    "\\frac{1}{\\theta}e^{-x/\\theta},&x>0 \\\\ \n",
    "0,& 其他\n",
    "\\end{cases}\n",
    "}\\tag{4.7}\n",
    "$$\n",
    "其中 $\\theta \\gt 0$ 为常数，则称 $X$ 服从参数为 $\\theta$  的**`指数分布`** .\n",
    "\n",
    "易知，$f(x) ≥0$，且 $\\int_{-\\infty}^{\\infty}f(x)dx=1$ 。由上式也可以得到随机变量 $X$ 的分布函数为\n",
    "$$\n",
    "\\large{\n",
    "F(x)= \n",
    "\\begin{cases}\n",
    "1-e^{-x/\\theta},&x>0 \\\\ \n",
    "0,&其他\n",
    "\\end{cases}\n",
    "}\n",
    "$$\n"
   ]
  },
  {
   "cell_type": "markdown",
   "metadata": {},
   "source": [
    "服从指数分布的随机变量 $X$ 具有以下的性质：对任意 $s,t > 0$ 有 $P\\{X  \\gt s + t  | X  \\gt s \\} = P\\{X \\gt t\\} \\tag{4.8}$ \n",
    "\n",
    "事实上 \n",
    "$$\n",
    "\\large{\n",
    "\\begin{split}\n",
    "P\\{X  \\gt s + t  | X  \\gt s \\} &= \\frac{P\\{(X  \\gt s + t)  \\cap (X  \\gt s) \\}}{P\\{X  \\gt s\\}} \\\\\n",
    "&= \\frac{P\\{ X  \\gt s + t \\}}{P\\{X  \\gt s\\}}  = \\frac{1 - F(s + t)}{1-F(s)} \\\\\n",
    "&= \\frac{e^{-(s+t)/\\theta}}{e^{-s/\\theta}} = e^{-t/\\theta} \\\\\n",
    "&= P\\{X \\gt t\\}\n",
    "\\end{split}\n",
    "}\n",
    "$$\n",
    "性质 (4.8)  称为 **无记忆性**。如果 $X$ 是某一元件的寿命，那么 （4.8）表明：已知元器件使用了 $s$ 小时，他总共能使用至少 $s+t$ 小时的条件概率，与从开始使用时就算起他至少能用 $t$ 小时的概率相等。这就是说，原件对他已使用过 $s$ 小时是没有记忆的，具有这一性质是指数分布有广泛应用的重要原因。指数分布在可靠性理论和排队论中有广泛的使用。"
   ]
  },
  {
   "cell_type": "markdown",
   "metadata": {},
   "source": [
    "## 正态分布"
   ]
  },
  {
   "cell_type": "markdown",
   "metadata": {},
   "source": [
    "若连续型随机变量 $X$ 的概率密度为：\n",
    "$$\n",
    "\\large{\n",
    "\\begin{split}\n",
    "f(x) = \\frac{1}{\\sqrt{2 \\pi} \\sigma} e^{-\\frac{(x-\\mu)^2}{2\\sigma^2}}, -\\infty < x < \\infty \n",
    "\\end{split}\\tag{4.9}\n",
    "}\n",
    "$$\n",
    "其中 $\\sigma,\\mu (\\sigma > 0)$ 为常数，则称 $X$ 服从参数为 $\\mu,\\sigma$ 的 **正态分布** 或 **高斯(Gauss)分布​**，记为 $X \\sim N(\\mu, \\sigma^2)$ \n",
    "\n",
    "$f(x)$ 的图形如下\n",
    "\n",
    "![image](https://ws3.sinaimg.cn/large/69d4185bly1fzotekhulkj209705c0sp.jpg)"
   ]
  },
  {
   "cell_type": "markdown",
   "metadata": {},
   "source": [
    "他具有以下的性质\n",
    "\n",
    "- 曲线关于 $x = \\mu$ 对称，这表明对于任意 $h > 0 $ 有 $P\\{\\mu- h < X ≤ \\mu\\} = P\\{\\mu < X ≤ \\mu + h\\}$\n",
    "- 当 $x=\\mu$ 时取到最大值 $f(\\mu) = \\frac{1}{\\sqrt{2\\pi}\\sigma}$ \n",
    "\n",
    "$x$ 离 $\\mu$ 越远，$f(x)$ 的值越小。这表明对于同样长度的区间，当区间离 $\\mu$ 越远，$X$ 落在在这个区间的概率越小。在 $x = \\mu \\pm \\sigma$ 处曲线有拐点，曲线以 $Ox$ 轴为渐近线。\n",
    "\n",
    "如果固定 $\\sigma$ ，改变 $\\mu$ 的值，图形会沿着 $Ox$ 轴平移而不改变形状，如上图。可见正态分布的概率密度曲线 $y=f(x)$ 的位置完全由参数 $\\mu$ 来决定，$\\mu$ 称为**位置参数**。\n",
    "\n",
    "如果固定 $\\mu$ ，改变 $\\sigma$ ，又有最大值为 $f(\\mu) = \\frac{1}{\\sqrt{2\\pi}\\sigma}$ ，可知当 $\\sigma$ 越小时图形变得越尖，因而 $X$ 落在 $\\mu$ 附近的概率越大\n",
    "\n",
    "![image](https://ws2.sinaimg.cn/large/69d4185bly1fzpwvu4bymj20ar05s74f.jpg)\n",
    "\n"
   ]
  },
  {
   "cell_type": "markdown",
   "metadata": {},
   "source": [
    "由式 4.9 得到 $X$ 的分布函数为\n",
    "$$\n",
    "\\large{\n",
    "\\begin{split}\n",
    "F(x) = \\frac{1}{\\sqrt{2\\pi}\\sigma} \\int_{-\\infty}^{x}e^{-\\frac{(t-\\mu)^2}{2\\sigma^2}}dt\n",
    "\\end{split}\\tag{4.10}\n",
    "}\n",
    "$$\n",
    "如下图\n",
    "\n",
    "![image](https://ws1.sinaimg.cn/large/69d4185bly1fzpx7uox6lj209r05mglj.jpg)\n",
    "\n",
    "特别的，当 $\\mu=0,\\sigma=1$ 时称随机变量 $X$ 服从 **标准正态分布**。其概率密度和分布函数分别为 $\\varphi(x), \\Phi(x)$ 表示，既有：\n",
    "\n",
    "$$\n",
    "\\large{\n",
    "\\begin{split}\n",
    "\\varphi(x) &= \\frac{1}{\\sqrt{2\\pi}}e^{-x^2/2} \\\\\n",
    "\\end{split}\\tag{4.11}\n",
    "}\n",
    "$$\n",
    "\n",
    "$$\n",
    "\\large{\n",
    "\\begin{split}\n",
    "\\Phi(x) &=  \\frac{1}{\\sqrt{2\\pi}} \\int_{-\\infty}^{x}e^{-t^2/2}dt\n",
    "\\end{split}\\tag{4.12}\n",
    "}\n",
    "$$\n",
    "\n",
    "易知，$\\Phi(-x) = 1 - \\Phi(x)$ ，一般，若 $X \\sim N(\\mu, \\sigma^2)$ ，我们只需要一个线性变换就可以将其化成一个标准正态分布。"
   ]
  },
  {
   "cell_type": "markdown",
   "metadata": {},
   "source": [
    "`引理`  若 $X \\sim N(\\mu, \\sigma^2)$ ，则 $Z = \\frac{X-\\mu}{\\sigma} \\sim N(0,1)$ \n",
    "\n",
    "于是，若 $X \\sim N(\\mu, \\sigma^2)$ ，则他的分布函数 $F(x)$ 可以写成\n",
    "$$\n",
    "\\large{\n",
    "\\begin{split}\n",
    "F(x) = P\\{X ≤ x\\} = P\\{ \\frac{X-\\mu}{\\sigma} ≤  \\frac{x-\\mu}{\\sigma}\\} = \\Phi\\left(\\frac{x-\\mu}{\\sigma}\\right)\n",
    "\\end{split}\\tag{4.13}\n",
    "}\n",
    "$$\n",
    "对于任意区间 $(x_1, x_2]$ 有\n",
    "$$\n",
    "\\large{\n",
    "\\begin{split}\n",
    "P\\{x_1 < X ≤ x_2\\} &= P\\left\\{\\frac{x_1-\\mu}{\\sigma} < \\frac{X-\\mu}{\\sigma} ≤ \\frac{x_2-\\mu}{\\sigma} \\right\\} \\\\\n",
    "&= \\Phi\\left(\\frac{x_2-\\mu}{\\sigma}\\right) - \\Phi\\left(\\frac{x_1-\\mu}{\\sigma}\\right)\n",
    "\\end{split}\n",
    "}\n",
    "$$\n",
    "不同倍数的 $\\sigma$ 数据分布图\n",
    "\n",
    "![image](https://wx2.sinaimg.cn/large/69d4185bly1fzpy7ol07mj20lj09yaar.jpg)\n",
    "\n",
    "可以看到，尽管正态变量的取值范围是 $(-\\infty, \\infty)$ ，但它的值落在 $(\\mu - 3\\sigma, \\mu + 3\\sigma)$ 内几乎是可以肯定的事，这就是常说的 $3\\sigma$ 原则。"
   ]
  },
  {
   "cell_type": "markdown",
   "metadata": {},
   "source": [
    "# 随机变量的函数分布"
   ]
  },
  {
   "cell_type": "markdown",
   "metadata": {},
   "source": [
    "在实际中，我们对某些随机变量的函数更感兴趣。例如，在一些实验中，所关心的随机变量往往不能由直接测量的随机变量的函数。比如我们能测量圆轴截面的直径 $d$ ，而关心的却是截面的面积 $A= \\frac{1}{4}\\pi d^2$ 。在这里，随机变量 $A$ 是随机变量 $d$ 的函数。此一节，我们讨论如何由已知随机变量 $X$ 的概率分布求得他的函数 $Y=\\text{g}(X)$ （$\\text{g}(\\cdot)$ 是已知的连续函数）的概率分布。这里 $Y$ 是这样的随机变量，当 $X$ 取 $x$ 时，$Y$ 的取值 $\\text{g}(x)$。 "
   ]
  },
  {
   "cell_type": "markdown",
   "metadata": {},
   "source": [
    "**`例1`** 设随机变量 $X$ 具有概率密度\n",
    "$$\n",
    "\\large{\n",
    "f_X(x) = \n",
    "\\begin{cases}\n",
    "\\frac{x}{8},& 0< x < 4 \\\\ \n",
    "0, & 其他\n",
    "\\end{cases}\n",
    "}\n",
    "$$\n",
    "求随机变量 $Y= 2X + 8$ 的概率密度\n",
    "\n",
    "**解**：分别记 $X，Y $ 的分布函数为 $F_X(x),F_Y(y)$  。下面先来求 $F_Y(y)$\n",
    "$$\n",
    "\\large{\n",
    "\\begin{split}\n",
    "F_Y(y) &= P\\{Y ≤ y\\} = P\\{2X + 8 ≤y\\} \\\\\n",
    "&= P\\left\\{X ≤ \\frac{y-8}{2}\\right\\} = F_X\\left(\\frac{y-8}{2}\\right)\n",
    "\\end{split}\n",
    "}\n",
    "$$\n",
    "将 $F_Y(y)$ 关于 $y$ 求导数，得 $Y= 2X+ 8$ 的概率密度为：\n",
    "$$\n",
    "\\large{\n",
    "\\begin{split}\n",
    "f_Y(y) &= f_X\\left(\\frac{y-8}{2}\\right)\\left(\\frac{y-8}{2}\\right)' \\\\\n",
    "&= \\begin{cases}\n",
    "\\frac{1}{8}\\left(\\frac{y-8}{2}\\right)\\cdot \\frac{1}{2},& 0 < \\frac{y-2}{8} < 4 \\\\ \n",
    "0,& 其他\n",
    "\\end{cases} \\\\\n",
    "&=\\begin{cases}\n",
    "\\frac{y-8}{32} , & 8 < y < 16 \\\\ \n",
    "0,& 其他\n",
    "\\end{cases}\n",
    "\\end{split}\n",
    "}\n",
    "$$\n",
    "\n",
    "------"
   ]
  },
  {
   "cell_type": "markdown",
   "metadata": {},
   "source": [
    " **`例2`** 设随机变量 $X$ 具有概率密度函数 $f_X(x), -\\infty < x < \\infty$ ，求 $Y=X^2$ 的概率密度。\n",
    "\n",
    "**解** 分别记 $X，Y$ 的分布函数 $F_X(x),F_Y(y)$ 。先来求 $Y$ 的分布函数 $F_Y(y)$ ，由于 $Y=X^2 ≥0$ ，故当 $y≤0$ 时 $F_Y(y)=0$ ，当 $y > 0$ 时有：\n",
    "$$\n",
    "\\large{\n",
    "\\begin{split}\n",
    "F_Y(y) &= P\\{Y ≤ y\\} = P\\{X^2 ≤ y\\} \\\\\n",
    "&= P\\{-\\sqrt{y} ≤ X ≤ \\sqrt{y}\\} \\\\\n",
    "&= F_X(\\sqrt{y}) - F_X(-\\sqrt{y})\n",
    "\\end{split}\n",
    "}\n",
    "$$\n",
    "将 $F_Y(y)$ 关于 $y$ 求导，即得 $Y$ 的概率密度为：\n",
    "$$\n",
    "\\large{\n",
    "f_Y(y) = \n",
    "\\begin{cases}\n",
    "\\frac{1}{2\\sqrt{y}}[f_X(\\sqrt{y}) + f_X(-\\sqrt{y})], & y>0 \\\\ \n",
    "0, & y ≤ 0 \n",
    "\\end{cases}\\tag{5.1}\n",
    "}\n",
    "$$\n",
    "例如，设 $X \\sim N(0,1)$ ，其概率密度为：\n",
    "$$\n",
    "\\large{\n",
    "\\begin{split}\n",
    "\\varphi(x) = \\frac{1}{\\sqrt{2\\pi}}e^{-x^2/2}, -\\infty < x < \\infty\n",
    "\\end{split}\n",
    "}\n",
    "$$\n",
    "那么由 5.1 式得 $Y=X^2$ 的概率密度为：\n",
    "$$\n",
    "\\large{\n",
    "f_Y(y) = \n",
    "\\begin{cases}\n",
    "\\frac{1}{\\sqrt{2\\pi}}y^{-1/2}e^{-y/2}, & y>0 \\\\ \n",
    "0, & y ≤ 0 \n",
    "\\end{cases}\n",
    "}\n",
    "$$\n",
    "\n",
    "---"
   ]
  },
  {
   "cell_type": "markdown",
   "metadata": {},
   "source": [
    "**`定理`**  设随机变量 $X$ 具有概率密度函数 $f_X(x), -\\infty < x < \\infty$ ，又设函数 $\\text{g}(x)$ 处处可导且恒有 $\\text{g}(x)' > 0$ (或者恒有 $\\text{g}(x)' < 0$ ) ，则 $Y=\\text{g}(X)$ 是连续型随机变量，其概率密度函数为：\n",
    "$$\n",
    "\\large{\n",
    "f_Y(y) = \n",
    "\\begin{cases}\n",
    "f_X[h(y)]|h'(y)|, & \\alpha < y < \\beta \\\\ \n",
    "0, & 其他\n",
    "\\end{cases}\\tag{5.2}\n",
    "}\n",
    "$$\n",
    "其中 $\\alpha = min\\{\\text{g}(-\\infty),\\text{g}(\\infty)\\}, \\beta = max\\{\\text{g}(-\\infty),\\text{g}(\\infty)\\} $  ， $h(x)$ 是  $\\text{g}(x)$ 的反函数。\n",
    "\n",
    "------\n"
   ]
  },
  {
   "cell_type": "markdown",
   "metadata": {},
   "source": [
    "**`例3`** 设随机变量 $X \\sim N(\\mu,\\sigma^2)$ 证明 $X$ 的线性函数 $Y= aX + b (a \\neq 0)$ 也服从正态分布。\n",
    "\n",
    "**证** $X$ 的概率密度函数为\n",
    "$$\n",
    "\\large{\n",
    "\\begin{split}\n",
    "f_X(x) = \\frac{1}{\\sqrt{2\\pi}\\sigma}e^{-\\frac{(x-\\mu)^2}{2\\sigma^2}}, -\\infty < x < \\infty\n",
    "\\end{split}\n",
    "}\n",
    "$$\n",
    "现在 $y= \\text{g}(x) = ax + b$，由这一个式子解得：\n",
    "$$\n",
    "\\large{\n",
    "\\begin{split}\n",
    "x = h(y) = \\frac{y-b}{a},且\\;\\; h'(y) = \\frac{1}{a}\n",
    "\\end{split}\n",
    "}\n",
    "$$\n",
    " 由 5.2 式可得 $Y= aX + b$ 的概率密度为：\n",
    "$$\n",
    "\\large{\n",
    "\\begin{split}\n",
    "f_Y(y)=\\frac{1}{|a|}f_X\\left(\\frac{y-b}{a}\\right), -\\infty < y < \\infty\n",
    "\\end{split}\n",
    "}\n",
    "$$\n",
    "即\n",
    "$$\n",
    "\\large{\n",
    "\\begin{split}\n",
    "f_Y(y) &= \\frac{1}{|a|}\\frac{1}{\\sqrt{2\\pi}\\sigma}e^{-\\frac{(\\frac{y-b}{a}-\\mu)^2}{2\\sigma^2}} \\\\\n",
    "&= \\frac{1}{|a|\\sigma \\sqrt{2\\pi}} e^{-\\frac{[y-(b+a\\mu)]^2}{2(a\\sigma)^2}}, -\\infty < y < \\infty\n",
    "\\end{split}\n",
    "}\n",
    "$$\n",
    "即有 $Y=aX+b \\sim N(a\\mu + b,(a\\sigma)^2)$ 。特别，在上例中取 $a = \\frac{1}{\\sigma},b=-\\frac{\\mu}{\\sigma}$ 得：\n",
    "$$\n",
    "\\large{\n",
    "\\begin{split}\n",
    "Y = \\frac{X - \\mu}{\\sigma} \\sim N(0,1)\n",
    "\\end{split}\n",
    "}\n",
    "$$\n",
    "这就是上一节引理的结果。"
   ]
  }
 ],
 "metadata": {
  "kernelspec": {
   "display_name": "Python 3",
   "language": "python",
   "name": "python3"
  },
  "language_info": {
   "codemirror_mode": {
    "name": "ipython",
    "version": 3
   },
   "file_extension": ".py",
   "mimetype": "text/x-python",
   "name": "python",
   "nbconvert_exporter": "python",
   "pygments_lexer": "ipython3",
   "version": "3.6.7"
  },
  "toc": {
   "base_numbering": 1,
   "nav_menu": {},
   "number_sections": true,
   "sideBar": true,
   "skip_h1_title": false,
   "title_cell": "Table of Contents",
   "title_sidebar": "Contents",
   "toc_cell": false,
   "toc_position": {},
   "toc_section_display": true,
   "toc_window_display": true
  }
 },
 "nbformat": 4,
 "nbformat_minor": 2
}
