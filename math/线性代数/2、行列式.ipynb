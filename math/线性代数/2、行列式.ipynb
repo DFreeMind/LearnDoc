{
 "cells": [
  {
   "cell_type": "markdown",
   "metadata": {
    "toc": true
   },
   "source": [
    "<h1>目录<span class=\"tocSkip\"></span></h1>\n",
    "<div class=\"toc\"><ul class=\"toc-item\"><li><span><a href=\"#矩阵的行列式\" data-toc-modified-id=\"矩阵的行列式-1\"><span class=\"toc-item-num\">1&nbsp;&nbsp;</span>矩阵的行列式</a></span></li><li><span><a href=\"#行列式的性质\" data-toc-modified-id=\"行列式的性质-2\"><span class=\"toc-item-num\">2&nbsp;&nbsp;</span>行列式的性质</a></span><ul class=\"toc-item\"><li><span><a href=\"#行运算\" data-toc-modified-id=\"行运算-2.1\"><span class=\"toc-item-num\">2.1&nbsp;&nbsp;</span>行运算</a></span></li><li><span><a href=\"#相关补充\" data-toc-modified-id=\"相关补充-2.2\"><span class=\"toc-item-num\">2.2&nbsp;&nbsp;</span>相关补充</a></span></li></ul></li><li><span><a href=\"#相关应用\" data-toc-modified-id=\"相关应用-3\"><span class=\"toc-item-num\">3&nbsp;&nbsp;</span>相关应用</a></span><ul class=\"toc-item\"><li><span><a href=\"#伴随矩阵\" data-toc-modified-id=\"伴随矩阵-3.1\"><span class=\"toc-item-num\">3.1&nbsp;&nbsp;</span>伴随矩阵</a></span></li><li><span><a href=\"#克拉默法则\" data-toc-modified-id=\"克拉默法则-3.2\"><span class=\"toc-item-num\">3.2&nbsp;&nbsp;</span>克拉默法则</a></span></li><li><span><a href=\"#向量积\" data-toc-modified-id=\"向量积-3.3\"><span class=\"toc-item-num\">3.3&nbsp;&nbsp;</span>向量积</a></span></li><li><span><a href=\"#相关补充\" data-toc-modified-id=\"相关补充-3.4\"><span class=\"toc-item-num\">3.4&nbsp;&nbsp;</span>相关补充</a></span></li></ul></li></ul></div>"
   ]
  },
  {
   "cell_type": "markdown",
   "metadata": {},
   "source": [
    "# 矩阵的行列式\n",
    "**概念：子式（minor）、余子式（cofactor）、余子式展开（cofactor expansion）**"
   ]
  },
  {
   "cell_type": "markdown",
   "metadata": {},
   "source": [
    "对每一个 n×n 的矩阵 A，均可对应一个变量 det(A)，他的值告诉我们矩阵是否是非奇异的。\n",
    "\n",
    "**定义：令 A=($a_{ij}$) 为 n×n 的矩阵，并用$M_{ij}$ 表示删除 A 中包含$a_{ij}$ 的行和列得到的 (n-1)×(n-1) 矩阵，矩阵$M_{ij}$的行列式称为 $a_{ij}$ 的子式（minor）。定义$a_{ij}$的余子式（cofactor）为$A_{ij}$ 为**：\n",
    "$$\n",
    "\\large{\n",
    "\\begin{split}\n",
    "A_{ij} = (-1)^{i+j}\\det(M_{ij})\n",
    "\\end{split} \\tag{1}\n",
    "}\n",
    "$$\n",
    "\n",
    "对于一个 2×2 的矩阵 A 的行列式就可以写成如下形式：\n",
    "$$\n",
    "\\large{\n",
    "\\begin{split}\n",
    "A &= \\begin{bmatrix}\n",
    "a_{11} & a_{12} \\\\\n",
    "a_{12} & a_{22}\n",
    "\\end{bmatrix}，行列式记做\\det(A)=\\begin{vmatrix}\n",
    "a_{11} & a_{12} \\\\\n",
    "a_{12} & a_{22}\n",
    "\\end{vmatrix}\\\\\n",
    "\\det(A) &= a_{11}A_{11} + a_{12}A_{12} \\quad (n=2) \n",
    "\\end{split}\\tag{2}\n",
    "}\n",
    "$$\n",
    "\n",
    "上式 det(A) 称为按 A 的第一行的**余子式展开（cofactor expansion）**。我们还可以按照第二行展开，更可以按照列的方式展开，展开的方式并没有严格的限制。"
   ]
  },
  {
   "cell_type": "markdown",
   "metadata": {},
   "source": [
    "**定义：**一个 n×n 的矩阵 A 的**行列式（determinant）**，记为 det(A) ，是一个与矩阵 A 对应的标量，它可如下递归定义：\n",
    "$$\n",
    "\\large{\n",
    "\\det(A) = \\begin{cases}\n",
    "a_{11} \\quad &当 n=1 时 \\\\ \n",
    "a_{11}A_{11} + a_{12}A_{12} + \\cdots +a_{1n}A_{1n} &当 n \\lt 1时\n",
    "\\end{cases}\n",
    "}\n",
    "$$\n",
    "其中：\n",
    "$$\n",
    "\\large{\n",
    "A_{1j} = (-1)^{1+j}\\det(M_{1j}), \\quad j=1,\\cdots,n\n",
    "}\n",
    "$$\n",
    "为 A 第一行元素对应的余子式。"
   ]
  },
  {
   "cell_type": "markdown",
   "metadata": {},
   "source": [
    "**定理：** 设 A 为一 n×n 矩阵，其中 n >= 2，则 det(A) 可表示为 A 的任何行或列的余子式展开，即：\n",
    "$$\n",
    "\\large{\n",
    "\\begin{split}\n",
    "\\det(A) &= a_{i1}A_{i1} + a_{i2}A_{i2} + \\cdots + a_{in}A_{in} \\\\\n",
    "        &= a_{1j}A_{1j} + a_{2j}A_{2j} + \\cdots + a_{nj}A_{nj}\n",
    "\\end{split}\n",
    "}\n",
    "$$\n",
    "其中 i=1,...,n，且 j = 1,...,n"
   ]
  },
  {
   "cell_type": "markdown",
   "metadata": {},
   "source": [
    "一个 4×4 的行列式的余子式展开包含四个 3×3 的行列式。我们通常使用零元素最多的行或者列展开以减少工作量，例如：计算\n",
    "$$\n",
    "\\large{\n",
    "\\begin{vmatrix}\n",
    "0 & 2 & 3 & 0 \\\\\n",
    "0 & 4 & 5 & 0 \\\\\n",
    "0 & 1 & 0 & 3 \\\\\n",
    "2 & 0 & 1 & 3 \n",
    "\\end{vmatrix}\n",
    "}\n",
    "$$\n",
    "\n",
    "可以沿着第一列向下展开，前三项就可以省略，剩下的是：\n",
    "$$\n",
    "\\large{\n",
    "-2\\begin{vmatrix}\n",
    "2 & 3 & 0 \\\\\n",
    "4 & 5 & 0 \\\\\n",
    "1 & 0 & 3 \n",
    "\\end{vmatrix} = -2\\cdot 3 \\cdot \\begin{vmatrix}\n",
    "2 & 3 \\\\\n",
    "4 & 5 \n",
    "\\end{vmatrix} = 12\n",
    "}\n",
    "$$\n",
    "\n",
    "对于 n <= 3 ，我可以看到一个 n×n 的矩阵 A 是非奇异矩阵的充要条件是 $det(A) \\neq 0$，接下来我们会看到对于任何 n 这个都是成立的。"
   ]
  },
  {
   "cell_type": "markdown",
   "metadata": {},
   "source": [
    "**定理：设 A 为一个 n×n 的矩阵，则 $\\color{red}{det(A^T) = det(A)}$ **\n",
    "\n",
    "**定理：设 A 为一个 n×n 的三角矩阵，则 A 的行列式等于 A 的对角元素的乘积**\n",
    "\n",
    "**定理：令 A 为一个 n×n 的矩阵**\n",
    "- 若 A 有一行或者一列包含的元素全部为零，那么 det(A)=0\n",
    "- 若 A 有两行或者两列相等，那么det(A)=0"
   ]
  },
  {
   "cell_type": "markdown",
   "metadata": {},
   "source": [
    "# 行列式的性质\n",
    "**概念：**"
   ]
  },
  {
   "cell_type": "markdown",
   "metadata": {},
   "source": [
    "**引理：** 令 A 为一个 n×n 的矩阵。若$A_{jk}$ 表示$a_{jk}$的余子式，其中 k=1,...,n，则：\n",
    "$$\n",
    "\\large{\n",
    "a_{i1}A_{j1} + a_{i2}A_{j2} + \\cdots + a_{in}A_{jn} = \n",
    "\\begin{cases}\n",
    "det(A),&当 i= j \\\\ \n",
    "0,&当 i \\neq j \n",
    "\\end{cases}\n",
    "}\\tag{3}\n",
    "$$"
   ]
  },
  {
   "cell_type": "markdown",
   "metadata": {},
   "source": [
    "## 行运算"
   ]
  },
  {
   "cell_type": "markdown",
   "metadata": {},
   "source": [
    "若 E 为一个初等矩阵，则：\n",
    "$$\n",
    "\\large{\n",
    "\\begin{split}\n",
    "det(EA) = det(E)det(A) = det(AE)\n",
    "\\end{split}\n",
    "}\n",
    "$$\n",
    "其中：\n",
    "$$\n",
    "\\large{\n",
    "det(E) = \n",
    "\\begin{cases}\n",
    "-1, & 若 E 为第一类初等矩阵 \\\\ \n",
    " \\alpha\\neq 0, & 若 E 为第二类初等矩阵 \\\\\n",
    " 1, & 若 E 为第三类初等矩阵 \n",
    "\\end{cases}\n",
    "}\\tag{4}\n",
    "$$\n",
    "\n",
    "行或者列运算对于行列式作用的总结：\n",
    "- 交换两个行或者列改变行列式的符号\n",
    "- 矩阵某行或者列乘以一个标量的作用是将行列式乘以这个标量\n",
    "- 将某行或者列的倍数加到某行或者某列上不改变行列式的值\n",
    "- 如果矩阵的某行或者列为另一行或者列的倍数，则矩阵的行列式必为零"
   ]
  },
  {
   "cell_type": "markdown",
   "metadata": {},
   "source": [
    "**定理：一个 n×n 的矩阵 A 是奇异的充要条件为 det(A) = 0**\n",
    "\n",
    "一个计算 det(A) 的方法是，将 A 化简为行阶梯形:\n",
    "$$\n",
    "\\large{\n",
    "U=E_kE_{k-1}...E_1A\n",
    "}\n",
    "$$\n",
    "，如果 U 的最后一行包含的元素全为零，则 A 是奇异的，且 det(A)=0。否则 A 为非奇异的，且：\n",
    "$$\n",
    "\\large{\n",
    "det(A) = [det(E_k)det(E_{k-1})...det(E_1)]^{-1}\n",
    "}\n",
    "$$\n",
    "\n",
    "事实上，如果 A 为非奇异矩阵，容易将 A 化为三角形，这可仅通过行运算一和三实现，因此：\n",
    "$$\n",
    "\\large{\n",
    "T=E_kE_{k-1}...E_1A\n",
    "}\n",
    "$$\n",
    "\n",
    "且\n",
    "$$\n",
    "\\large{\n",
    "det(A) = \\pm det(T)=\\pm t_{11}t_{22}...t_{nn}\n",
    "}\n",
    "$$\n",
    "其中$t_{ii}$为 T 的对角元素，如果行运算一使用了偶数次，则符号为正，否则为负。"
   ]
  },
  {
   "cell_type": "markdown",
   "metadata": {},
   "source": [
    "**定理：若 A 和 B 均为 n×n 矩阵，则 det(AB)=det(A)det(B)。**"
   ]
  },
  {
   "cell_type": "markdown",
   "metadata": {},
   "source": [
    "## 相关补充"
   ]
  },
  {
   "cell_type": "markdown",
   "metadata": {},
   "source": [
    "1.若 A 为一 n×n 的矩阵，$\\alpha$ 为一个标量，那么有：\n",
    "$$\n",
    "\\large{\n",
    "\\begin{split}\n",
    "det(\\alpha A) = \\alpha^{n}det(A)\n",
    "\\end{split}\n",
    "}\n",
    "$$\n",
    "\n",
    "2.若 A 为一非奇异矩阵，那么有：\n",
    "$$\n",
    "\\large{\n",
    "\\begin{split}\n",
    "det(A^{-1}) = \\frac{1}{det(A)}\n",
    "\\end{split}\n",
    "}\n",
    "$$\n",
    "\n",
    "3.若 A 和 B 为 k×k \n",
    "$$\n",
    "\\large{\n",
    "\\begin{split}\n",
    "M = \\begin{bmatrix}\n",
    "O & B \\\\\n",
    "A & O\n",
    "\\end{bmatrix}\n",
    "\\end{split}\n",
    "}\n",
    "$$\n",
    "那么就有，\n",
    "$$\n",
    "\\large{\n",
    "\\begin{split}\n",
    "det(M) = (-1)^{k}det(A)det(B)\n",
    "\\end{split}\n",
    "}\n",
    "$$"
   ]
  },
  {
   "cell_type": "markdown",
   "metadata": {},
   "source": [
    "4.$\\color{red}{det(AB) = det(BA)}$\n",
    "\n",
    "5.$\\color{red}{det(A^{k}) = det(A)^{k}}$"
   ]
  },
  {
   "cell_type": "markdown",
   "metadata": {},
   "source": [
    "# 相关应用"
   ]
  },
  {
   "cell_type": "markdown",
   "metadata": {},
   "source": [
    "## 伴随矩阵"
   ]
  },
  {
   "cell_type": "markdown",
   "metadata": {},
   "source": [
    "令 A 为一 n×n 的矩阵，定义如下一个矩阵：\n",
    "$$\n",
    "\\large{\n",
    "\\begin{split}\n",
    "\\mathsf{adj} \\;A = \\begin{bmatrix}\n",
    "A_{11} & A_{21} & \\cdots & A_{n1} \\\\\n",
    "A_{12} & A_{22} & \\cdots & A_{n2} \\\\\n",
    "\\vdots &  &  &  \\\\\n",
    "A_{1n} & A_{2n} & \\cdots & A_{n1}\n",
    "\\end{bmatrix}\n",
    "\\end{split}\n",
    "}\n",
    "$$\n",
    "\n",
    "称为矩阵 A 的**伴随（adjoint）**。因此要构建此矩阵，只需要将原矩阵的元素用他们的余子式替代，然后将结果矩阵转置就可以得到。"
   ]
  },
  {
   "cell_type": "markdown",
   "metadata": {},
   "source": [
    "由公式（3）可以得到：\n",
    "$$\n",
    "\\large{\n",
    "\\begin{split}\n",
    "A(adj \\;A) = det(A)I\n",
    "\\end{split}\n",
    "}\n",
    "$$\n",
    "\n",
    "若 A 为非奇异矩阵，则 det(A) 为非零标量，且可以记为：\n",
    "$$\n",
    "\\large{\n",
    "\\begin{split}\n",
    "A\\left(\\frac{1}{det(A)}\\;adj \\;A\\right) = I\n",
    "\\end{split}\n",
    "}\n",
    "$$\n",
    "\n",
    "因此：\n",
    "$$\n",
    "\\large{\n",
    "\\begin{split}\n",
    "A^{-1} = \\frac{1}{det(A)}\\;adj \\;A \\quad 其中，det(A) \\neq 0\n",
    "\\end{split}\n",
    "}\\tag{5}\n",
    "$$"
   ]
  },
  {
   "cell_type": "markdown",
   "metadata": {},
   "source": [
    "## 克拉默法则"
   ]
  },
  {
   "cell_type": "markdown",
   "metadata": {},
   "source": [
    "令 A 为一 n×n 的非奇异矩阵，并令$\\boldsymbol{b} \\in \\mathbf{R}^n$.令 $A_i$ 为将矩阵 A 中第 i 列替换为 $\\boldsymbol{b}$ 得到的矩阵。若$\\boldsymbol{x}$ 为方程组 $A\\boldsymbol{x} = \\boldsymbol{b}$ 的唯一解，则：\n",
    "$$\n",
    "\\large{\n",
    "\\begin{split}\n",
    "x_i = \\frac{det(A_i)}{det(A)},\\; i=1,2,...,n\n",
    "\\end{split}\n",
    "}\\tag{6}\n",
    "$$\n",
    "\n",
    "如下方程组：\n",
    "$$\n",
    "\\large{\n",
    "\\begin{split}\n",
    "x_1 + 2x_2 + x_3 &= 5 \\\\\n",
    "2x_1 + 2x_2 + x_3 &= 6 \\\\\n",
    "x_1 + 2x_2 + 3x_3 &= 9\n",
    "\\end{split}\n",
    "}\n",
    "$$"
   ]
  },
  {
   "cell_type": "markdown",
   "metadata": {},
   "source": [
    "那么就有：\n",
    "$$\n",
    "\\large{\n",
    "\\begin{split}\n",
    "det(A) = \\begin{vmatrix}\n",
    "1 & 2 & 1 \\\\\n",
    "2 & 2 & 1 \\\\\n",
    "1 & 2 & 3 \n",
    "\\end{vmatrix} = -4 \\quad\n",
    "det(A_1) = \\begin{vmatrix}\n",
    "5 & 2 & 1 \\\\\n",
    "6 & 2 & 1 \\\\\n",
    "9 & 2 & 3 \n",
    "\\end{vmatrix} = -4\n",
    "\\end{split}\n",
    "}\n",
    "$$\n",
    "$$\n",
    "\\large{\n",
    "\\begin{split}\n",
    "det(A_2) = \\begin{vmatrix}\n",
    "1 & 5 & 1 \\\\\n",
    "2 & 6 & 1 \\\\\n",
    "1 & 9 & 3 \n",
    "\\end{vmatrix} = -4 \\quad\n",
    "det(A_3) = \\begin{vmatrix}\n",
    "1 & 2 & 5 \\\\\n",
    "2 & 2 & 6 \\\\\n",
    "1 & 2 & 9 \n",
    "\\end{vmatrix} = -8\n",
    "\\end{split}\n",
    "}\n",
    "$$\n",
    "\n",
    "因此有：\n",
    "$$\n",
    "\\large{\n",
    "\\begin{split}\n",
    "x_1 = \\frac{det(A_1)}{det(A)} = 1,\\;x_2 = \\frac{det(A_2)}{det(A)} = 1,\\;x_3 = \\frac{det(A_3)}{det(A)} = 2\n",
    "\\end{split}\n",
    "}\n",
    "$$"
   ]
  },
  {
   "cell_type": "markdown",
   "metadata": {},
   "source": [
    "克拉默法则给出了一个将 n×n 的线性方程组的解用行列式表示的便利方法，然而，要计算出结果，我们需要计算 n+1 个 n 阶行列式，即使计算两个这样的行列式，通常也要用多于**高斯消元法**的计算量。"
   ]
  },
  {
   "cell_type": "markdown",
   "metadata": {},
   "source": [
    "## 向量积"
   ]
  },
  {
   "cell_type": "markdown",
   "metadata": {},
   "source": [
    "给定 $\\mathbf{R}^3$ 中的两个向量$\\boldsymbol{x},\\boldsymbol{y}$，可定义第三个向量，即**向量积**，又称为**外积**，记为：\n",
    "$$\n",
    "\\large{\n",
    "\\begin{split}\n",
    "\\boldsymbol{x} × \\boldsymbol{y} = \\begin{bmatrix}\n",
    "x_2y_3 - y_2x_3 \\\\\n",
    "y_1x_3 - x_1y_3 \\\\\n",
    "x_1y_2 - y_1y_2\n",
    "\\end{bmatrix}\n",
    "\\end{split}\n",
    "}\n",
    "$$"
   ]
  },
  {
   "cell_type": "markdown",
   "metadata": {},
   "source": [
    "若 C 为任意形如：\n",
    "$$\n",
    "\\large{\n",
    "C = \\begin{bmatrix}\n",
    "\\omega_1 & \\omega_2 & \\omega_3 \\\\\n",
    "x_1 & x_2 & x_3 \\\\\n",
    "y_1 & y_2 & y_3 \n",
    "\\end{bmatrix}\n",
    "}\n",
    "$$\n",
    "\n",
    "的矩阵，则：\n",
    "$$\n",
    "\\large{\n",
    "\\begin{split}\n",
    "\\boldsymbol{x} × \\boldsymbol{y} = C_{11}\\boldsymbol{e}_1 + C_{12}\\boldsymbol{e}_2 + C_{13}\\boldsymbol{e}_3 = \\begin{bmatrix} C_{11} \\\\ C_{12} \\\\ C_{13} \\end{bmatrix}\n",
    "\\end{split}\n",
    "}\n",
    "$$"
   ]
  },
  {
   "cell_type": "markdown",
   "metadata": {},
   "source": [
    "沿第一行用因子展开 det(C) 可以看到：\n",
    "$$\n",
    "\\large{\n",
    "\\begin{split} \n",
    "det(C) = \\omega_1C_{11} + \\omega_2C_{12} + \\omega_3C_{13} = \\boldsymbol{\\omega}^{\\mathsf{T}}(\\boldsymbol{x} × \\boldsymbol{y})\n",
    "\\end{split}\n",
    "}\n",
    "$$\n",
    "\n",
    "特别的，若 ω = x或者 ω = y，则矩阵 C 将有两个相同的行，因此他们的行列式为 0 ，于是有：\n",
    "$$\n",
    "\\large{\n",
    "\\begin{split}\n",
    "\\boldsymbol{x}^{\\mathsf{T}}(\\boldsymbol{x} × \\boldsymbol{y}) = \\boldsymbol{y}^{\\mathsf{T}}(\\boldsymbol{x} × \\boldsymbol{y}) = 0\n",
    "\\end{split}\n",
    "}\\tag{7}\n",
    "$$"
   ]
  },
  {
   "cell_type": "markdown",
   "metadata": {},
   "source": [
    "在线性代数中使用矩阵向量积：\n",
    "$$\n",
    "\\large{\n",
    "\\boldsymbol{x} × \\boldsymbol{y} = \\begin{bmatrix}\n",
    "\\boldsymbol{e}_1 & \\boldsymbol{e}_2 & \\boldsymbol{e}_3 \\\\\n",
    "x_1 & x_2 & x_3 \\\\\n",
    "y_1 & y_2 & y_3 \n",
    "\\end{bmatrix}\n",
    "}\n",
    "$$"
   ]
  },
  {
   "cell_type": "markdown",
   "metadata": {},
   "source": [
    "## 相关补充"
   ]
  },
  {
   "cell_type": "markdown",
   "metadata": {},
   "source": [
    "1.若 A 是奇异的，那么就有：\n",
    "$$\n",
    "\\large{\n",
    "\\begin{split}\n",
    "A\\; adj A = det(A)I = 0\n",
    "\\end{split}\n",
    "}\n",
    "$$\n",
    "\n",
    "2.若 A 为非奇异的 n×n 的矩阵，其中 n > 1，那么就有：\n",
    "$$\n",
    "\\large{\n",
    "\\begin{split}\n",
    "det(adj \\;A) = (det(A))^{n-1}\n",
    "\\end{split}\n",
    "}\n",
    "$$\n",
    "\n",
    "3.若 A 为非奇异的，那么 adj A 也是非奇异的，且：\n",
    "$$\n",
    "\\large{\n",
    "\\begin{split}\n",
    "(adj(A))^{-1} = det(A^{-1})A = adj\\;A^{-1}\n",
    "\\end{split}\n",
    "}\n",
    "$$\n",
    "\n",
    "4.若 A 为奇异矩阵，则 adj A 也为奇异矩阵\n",
    "\n",
    "5.若 det(A)，那么 adj(adj A) = A"
   ]
  },
  {
   "cell_type": "markdown",
   "metadata": {},
   "source": [
    "6.设$\\boldsymbol{x},\\boldsymbol{y},\\boldsymbol{z}$为$\\mathbf{R}^n$中的向量，则有下面结论：\n",
    "- $\\boldsymbol{x} \\times \\boldsymbol{x} = 0$\n",
    "- $\\boldsymbol{y} \\times \\boldsymbol{x} = -(\\boldsymbol{x} \\times \\boldsymbol{y})$\n",
    "- $\\boldsymbol{x} \\times (\\boldsymbol{y} + \\boldsymbol{z}) = (\\boldsymbol{x} \\times \\boldsymbol{y}) + (\\boldsymbol{x} \\times \\boldsymbol{z})$"
   ]
  }
 ],
 "metadata": {
  "kernelspec": {
   "display_name": "Python 3",
   "language": "python",
   "name": "python3"
  },
  "language_info": {
   "codemirror_mode": {
    "name": "ipython",
    "version": 3
   },
   "file_extension": ".py",
   "mimetype": "text/x-python",
   "name": "python",
   "nbconvert_exporter": "python",
   "pygments_lexer": "ipython3",
   "version": "3.6.4"
  },
  "toc": {
   "base_numbering": 1,
   "nav_menu": {},
   "number_sections": true,
   "sideBar": true,
   "skip_h1_title": false,
   "title_cell": "目录",
   "title_sidebar": "Contents",
   "toc_cell": true,
   "toc_position": {
    "height": "calc(100% - 180px)",
    "left": "10px",
    "top": "150px",
    "width": "268px"
   },
   "toc_section_display": true,
   "toc_window_display": false
  }
 },
 "nbformat": 4,
 "nbformat_minor": 2
}
