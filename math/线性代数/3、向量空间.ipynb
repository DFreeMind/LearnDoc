{
 "cells": [
  {
   "cell_type": "markdown",
   "metadata": {},
   "source": [
    "# 相关定义"
   ]
  },
  {
   "cell_type": "markdown",
   "metadata": {},
   "source": [
    "## 欧几里得向量空间"
   ]
  },
  {
   "cell_type": "markdown",
   "metadata": {},
   "source": [
    "最基本的向量空间就是欧几里得向量空间 $\\mathbf{R}^n, n=1,2,3...$，为了简单起见这里首先考虑 $\\mathbf{R}^2$，其中的非零向量表示为**有向线段**，这有助于理解 $\\mathbf{R}^2$ 中的乘法和加法。给定一个非零向量 \n",
    "$$\n",
    "\\boldsymbol{x} = \n",
    "\\begin{bmatrix}\n",
    "x_1 \\\\\n",
    "x_2 \n",
    "\\end{bmatrix}\n",
    "$$\n",
    "\n",
    "可以将其和一个坐标平面上从 $(0, 0), (x_1, x_2)$ 的有向线段对应起来。\n",
    "\n",
    "我们将向量 $\n",
    "\\boldsymbol{x} = \n",
    "\\begin{bmatrix}\n",
    "x_1 \\\\\n",
    "x_2 \n",
    "\\end{bmatrix}\n",
    "$ 的欧几里得长度看成是任何表示 $\\boldsymbol{x}$ 的有向线段的长度，可以表示为 $\\sqrt{x_1^2 + x_2^2}$。每一个$\n",
    "\\boldsymbol{x} = \n",
    "\\begin{bmatrix}\n",
    "x_1 \\\\\n",
    "x_2 \n",
    "\\end{bmatrix}\n",
    "$ 和标量 $\\alpha$ 的乘积 $\\alpha \\boldsymbol{x}$ 定义为：\n",
    "$\n",
    "\\alpha\n",
    "\\begin{bmatrix}\n",
    "x_1 \\\\\n",
    "x_2 \n",
    "\\end{bmatrix} = \\begin{bmatrix}\n",
    "\\alpha x_1 \\\\\n",
    "\\alpha x_2 \n",
    "\\end{bmatrix}\n",
    "$\n"
   ]
  },
  {
   "cell_type": "markdown",
   "metadata": {},
   "source": [
    "两个向量：\n",
    "$$\n",
    "\\large{\n",
    "\\begin{split}\n",
    "\\pmb{u} = \\begin{bmatrix}\n",
    "u_1\\\\\n",
    "u_2\n",
    "\\end{bmatrix}, \\pmb{v} = \\begin{bmatrix}\n",
    "v_1\\\\\n",
    "v_2\n",
    "\\end{bmatrix}\n",
    "\\end{split}\n",
    "}\n",
    "$$\n",
    "\n",
    "的和定义为：\n",
    "$$\n",
    "\\large{\n",
    "\\begin{split}\n",
    "\\pmb{u + v} = \\begin{bmatrix}\n",
    "u_1 + v_1\\\\\n",
    "u_2 + v_2\n",
    "\\end{bmatrix}\n",
    "\\end{split}\n",
    "}\n",
    "$$\n",
    "\n",
    "一般的，$\\mathbf{R}^n$ 中的变量乘法和加法可以可以定义为：\n",
    "$$\n",
    "\\large{\n",
    "\\begin{split}\n",
    "\\alpha\\pmb{x} = \\begin{bmatrix}\n",
    "x_1\\\\\n",
    "x_2 \\\\\n",
    "\\vdots\\\\\n",
    "x_n\n",
    "\\end{bmatrix}, \\pmb{x+y} = \\begin{bmatrix}\n",
    "x_1 + y_1\\\\\n",
    "x_2 + y_2 \\\\\n",
    "\\vdots \\\\\n",
    "x_n + y_n\n",
    "\\end{bmatrix}\n",
    "\\end{split}\n",
    "}\n",
    "$$"
   ]
  },
  {
   "cell_type": "markdown",
   "metadata": {},
   "source": [
    "## 向量空间 R"
   ]
  },
  {
   "cell_type": "markdown",
   "metadata": {},
   "source": [
    "我们可以将 $\\mathbf{R}^n$ 空间看成是所有元素都是实数的 n×1 矩阵集合。$\\mathbf{R}^n$ 中的向量加法和标量乘法都是通常的矩阵的加法和标量乘法。更一般的 $\\mathbf{R}^{m \\times n}$ 表示所有 m×n 的矩阵的集合。\n",
    "\n",
    "**定义** 令 V 唯一定义了加法和标量乘法的集合。 这意味着，对 V 中的每一对元素 $\\pmb{x,y}$ ，可以唯一对应于 V 中的一个元素 $\\pmb{x + y}$，且对每一个 V 中的元素 $\\pmb{x}$ 和每一个标量 $\\alpha$ ，可以唯一对应于 V 中的每一个元素 $\\alpha \\pmb{x}$，如果集合 V 连同其上的加法和标量乘法运算满足于下面的公理，则称为**向量空间（vector space）**：\n",
    "- A1. 对于 V 中的任何 $\\pmb{x,y}$, $\\pmb{x+y} = \\pmb{y+x}$\n",
    "- A2. 对于 V 中的任何 $\\pmb{x,y,z}$, $\\pmb{(x + y) + z} = \\pmb{x + (y + z)}$\n",
    "- A3. V 中存在一个元素 $\\pmb{0}$，满足对任意的 $\\pmb{x} \\in V$ 有 $\\pmb{x+0=x}$\n",
    "- A4. 对每一 $\\pmb{x} \\in V$ ，存在 V 中的任意一个元素 $-\\pmb{x}$，满足 $\\pmb{x}+\\pmb{(-x)}=\\pmb{0}$\n",
    "- A5. 对任意标量 $\\alpha$ 和 V 中的元素 $\\pmb{x,y}$，有 $\\alpha(\\pmb{x+y}) = \\alpha\\pmb{x}+\\alpha\\pmb{y}$\n",
    "- A6. 对任意标量 $\\alpha,\\beta$ 及其 $\\pmb{x}\\in V$，有 $(\\alpha+\\beta)\\pmb{x}=\\alpha\\pmb{x} + \\beta\\pmb{x}$ \n",
    "- A7. 对任意标量 $\\alpha,\\beta$ 及其 $\\pmb{x}\\in V$，有 $(\\alpha\\beta)\\pmb{x}=\\alpha(\\beta\\pmb{x})$ \n",
    "- A8. 对所有 $\\pmb{x}\\in V$，有 $1\\cdot\\pmb{x} = \\pmb{x}$\n",
    "\n",
    "我们称集合 V 为向量空间的全集，其中的元素称为 **向量（vector）**。"
   ]
  },
  {
   "cell_type": "markdown",
   "metadata": {},
   "source": [
    "定义的一个重要部分就是两个运算的**封闭性**，这个性质可以归纳如下：\n",
    "- C1. 若 $\\pmb{x}\\in V$，且 $\\alpha$ 为标量，则 $\\alpha \\pmb{x} \\in V$\n",
    "- C2. 若 $\\pmb{x,y}\\in V$，则 $\\pmb{x+y}\\in V$\n",
    "\n",
    "如下例，$W = \\{(a, 1)|a 是实数\\}$，就不满足封闭性，如其中的 (3, 1)，(5, 1)， (3, 1)+(5, 1)=(8,2)显然结果不在 W 中，因此上述集合不满足 C2。"
   ]
  },
  {
   "cell_type": "markdown",
   "metadata": {},
   "source": [
    "## 向量空间 C"
   ]
  },
  {
   "cell_type": "markdown",
   "metadata": {},
   "source": [
    "用 $C[a,b]$ 表示**所有**定义在闭区间 $[a, b]$ 上的**实值连续函数**，此时，全集为函数的集合。因此，我们的向量为 $C[a,b]$ 上的函数， $C[a,b]$ 中两个函数的和 $f+g$定义为对所有 $[a, b]$ 中的 $x$，\n",
    "$$\n",
    "\\large{\n",
    "\\begin{split}\n",
    "(f+g)(x) = f(x) +g(x)\n",
    "\\end{split}\n",
    "}\n",
    "$$\n",
    "\n",
    "新函数 $f+g$ 也是 $C[a, b]$ 的元素，因此两个连续函数的和仍然是连续函数。若 $f$ 为 $C[a, b]$ 中的函数，$\\alpha$ 为一个实数，则 $\\alpha f$ 定义为对所有 $[a, b]$ 中的 的$x$，\n",
    "$$\n",
    "\\large{\n",
    "\\begin{split}\n",
    "(\\alpha f)(x) = \\alpha f(x)\n",
    "\\end{split}\n",
    "}\n",
    "$$\n",
    "\n",
    "显然 $\\alpha f$ 也是 $C[a, b]$ 的元素，因为一个常数乘以一个连续函数也总是连续函数。因此，我们可以在 $C[a, b]$ 上，定义了加法和乘法运算。\n",
    "\n",
    "我们可以证明该向量空间满足所有的公理。"
   ]
  },
  {
   "cell_type": "markdown",
   "metadata": {},
   "source": [
    "## 向量空间 P"
   ]
  },
  {
   "cell_type": "markdown",
   "metadata": {},
   "source": [
    "令 $P_n$ 表示次数小于 n 的所有的多项式的集合，定义 $p + q$ 和 $\\alpha p$ 为对所有的实数 x 有，\n",
    "$$\n",
    "\\large{\n",
    "\\begin{split}\n",
    "(p + q)(x) &= p(x) + q(x) \\\\\n",
    "(\\alpha p)(x) &= \\alpha p(x)\n",
    "\\end{split}\n",
    "}\n",
    "$$\n",
    "\n",
    "此时零向量是零多项式：\n",
    "$$\n",
    "\\large{\n",
    "\\begin{split}\n",
    "z(x) = 0x^{n-1} + 0x^{n-2} + \\cdots + 0x + 0\n",
    "\\end{split}\n",
    "}\n",
    "$$\n",
    "\n",
    "可以证明该向量空间也满足全部的定理。"
   ]
  },
  {
   "cell_type": "markdown",
   "metadata": {},
   "source": [
    "## 向量空间的其他性质"
   ]
  },
  {
   "cell_type": "markdown",
   "metadata": {},
   "source": [
    "**定理** 若 V 为向量空间，且 $\\pmb{x}$ 为 V 中的任一元素，则：\n",
    "1. $0\\pmb{x} = \\pmb{0}$\n",
    "1. $\\pmb{x+y=0}$ 蕴含 $\\pmb{y=-x}$（即 $\\pmb{x}$ 的加法逆元是唯一的）\n",
    "1. $(-1)\\pmb{x} = \\pmb{-x}$"
   ]
  },
  {
   "cell_type": "markdown",
   "metadata": {},
   "source": [
    "# 子空间\n",
    "概念：**真子空间(proper subsapce)、真子空间(proper subsapce)**"
   ]
  },
  {
   "cell_type": "markdown",
   "metadata": {},
   "source": [
    "**定义** 若 S 为向量空间 V 的*非空子集*，其 S 满足如下条件：\n",
    "1. 对任意标量 $\\alpha$ ，若 $\\pmb{x} \\in S$ 则 $\\alpha \\pmb{x} \\in S$\n",
    "2. 若 $\\pmb{x} \\in S$ 且 若 $\\pmb{y} \\in S$，则 $\\pmb{x+y} \\in S$\n",
    "\n",
    "则 S 称为 V 的**子空间(subspace)**\n",
    "\n",
    "条件 1 说明， S 在标量乘法意义下是封闭的，也就是说，S 中的一个元素乘以一个标量，其结果仍为 S 中的一个元素。条件 2 说明，S 在加法意义下是封闭的，也就是说，两个 S 中元素的和仍为 S 中的一个元素。\n",
    "\n",
    "令 S 为向量空间 V 的一个子空间，利用 V 上的加法和标量乘法运算，我们可以构造一个新的以 S 为全集的数学系统。\n",
    "\n",
    "**向量空间的任何子空间仍为向量空间**\n",
    "\n",
    "注意：\n",
    "1. 在向量空间 V  中，容易验证 $\\{\\pmb{0}\\}$ 和 V 是 V 的子空间，所有其他子空间称为 **真子空间(proper subsapce)**，称$\\{\\pmb{0}\\}$ 为**零子空间(zero subspace)**\n",
    "2. 为了证明一个向量空间的子集 S 构成一个子空间，我们必须证明 S 为非空的且满足定义中的闭包性质(1)和(2)。由于每个子空间必包含零向量，因此可以通过证明 $\\{\\pmb{0}\\}\\in S$ 来验证 S 是非空的。"
   ]
  },
  {
   "cell_type": "markdown",
   "metadata": {},
   "source": [
    "**示例**\n",
    "\n",
    "令 S 为所有此时小于 n 的多项式集合，且 $p(0)=0$. 集合 S 为非空的，因为他含有零多项式，我们说 S 为 $P_n$ 的子空间，因为：\n",
    "- 若 $p(x) \\in S$，且 $\\alpha$ 为标量，则 $\\alpha p(0)=\\alpha \\cdot 0 = 0$，因此，$\\alpha p \\in S$\n",
    "- 若 $p(x), q(x)$ 是 S 中的元素，则 $(p+q)(0) = p(0)+q(0) = 0 + 0 = 0$，因此 $p + q \\in S$"
   ]
  },
  {
   "cell_type": "markdown",
   "metadata": {},
   "source": [
    "## 矩阵的零空间"
   ]
  },
  {
   "cell_type": "markdown",
   "metadata": {},
   "source": [
    "令 A 为一 m × n 的矩阵，令 $N(A)$ 为所有齐次方程组 $A\\pmb{x} = \\pmb{0}$ 的解的集合，于是：\n",
    "$$\n",
    "\\large{\n",
    "\\begin{split}\n",
    "N(A) = \\{\\pmb{x} \\in \\mathbf{R}^n | A\\pmb{x} = \\pmb{0}\\}\n",
    "\\end{split}\n",
    "}\n",
    "$$\n",
    "\n",
    "我们说 $N(A)$ 为 $\\mathbf{R}^n$ 的子空间。显然 $\\pmb{0} \\in N{A}$，所以 $N(A)$ 非空，若 $\\pmb{x} \\in N{A}$，且 $\\alpha$ 为一标量，则：\n",
    "$$\n",
    "\\large{\n",
    "\\begin{split}\n",
    "A(\\alpha \\pmb{x}) = \\alpha A(\\pmb{x}) = \\alpha \\pmb{0} = \\pmb{0}\n",
    "\\end{split}\n",
    "}\n",
    "$$\n",
    "\n",
    "因此 $\\alpha \\pmb{x} \\in N(A)$. 若 $\\pmb{x,y}$ 都是 N(A) 中的元素，则：\n",
    "$$\n",
    "\\large{\n",
    "\\begin{split}\n",
    "A(\\pmb{x + y}) = A(\\pmb{x}) + A(\\pmb{y}) = \\pmb{0} + \\pmb{0} = \\pmb{0}\n",
    "\\end{split}\n",
    "}\n",
    "$$\n",
    "\n",
    "因此，$\\pmb{x+y} \\in N(A)$.由此可以得到 N(A) 是 $\\mathbf{R}^n$ 的一个子空间。所有齐次方程组 $A\\pmb{x} = \\pmb{0}$ 的解的结合构成$\\mathbf{R}^n$ 的一个子空间。子空间 $N(A)$ 称为 A 的**零空间（nullsapace）**"
   ]
  },
  {
   "cell_type": "markdown",
   "metadata": {},
   "source": [
    "## 向量集合的张成"
   ]
  },
  {
   "cell_type": "markdown",
   "metadata": {},
   "source": [
    "定义 $v_1, v_2, \\cdots, v_n$ 为向量空间 V 中的向量，$\\alpha_1 v_1 + \\alpha_2 v_2 + \\cdots + \\alpha_n v_n$（其中 $\\alpha_1,\\alpha_2,\\cdots,\\alpha_n$ 为标量）称为向量$v_1,v_2,\\cdots,v_n$的**线性组合（linear combination）**，向量  $v_1,v_2,\\cdots,v_n$ 的所有线性组合构成的集合称 $v_1,v_2,\\cdots,v_n$ 的**张成（span）**。向量 $v_1,v_2,\\cdots,v_n$ 的张成记为$\\text{Span}(v_1,v_2,\\cdots,v_n)$\n",
    "\n",
    "在三维空间中有 $\\text{Span}(e_1,e_2,e_3)=\\mathbf{R}^3$"
   ]
  },
  {
   "cell_type": "code",
   "execution_count": null,
   "metadata": {},
   "outputs": [],
   "source": []
  },
  {
   "cell_type": "code",
   "execution_count": null,
   "metadata": {},
   "outputs": [],
   "source": []
  },
  {
   "cell_type": "code",
   "execution_count": null,
   "metadata": {},
   "outputs": [],
   "source": []
  },
  {
   "cell_type": "code",
   "execution_count": null,
   "metadata": {},
   "outputs": [],
   "source": []
  },
  {
   "cell_type": "code",
   "execution_count": null,
   "metadata": {},
   "outputs": [],
   "source": []
  },
  {
   "cell_type": "code",
   "execution_count": null,
   "metadata": {},
   "outputs": [],
   "source": []
  },
  {
   "cell_type": "code",
   "execution_count": null,
   "metadata": {},
   "outputs": [],
   "source": []
  },
  {
   "cell_type": "code",
   "execution_count": null,
   "metadata": {},
   "outputs": [],
   "source": []
  },
  {
   "cell_type": "code",
   "execution_count": null,
   "metadata": {},
   "outputs": [],
   "source": []
  },
  {
   "cell_type": "code",
   "execution_count": null,
   "metadata": {},
   "outputs": [],
   "source": []
  },
  {
   "cell_type": "code",
   "execution_count": null,
   "metadata": {},
   "outputs": [],
   "source": []
  },
  {
   "cell_type": "code",
   "execution_count": null,
   "metadata": {},
   "outputs": [],
   "source": []
  },
  {
   "cell_type": "code",
   "execution_count": null,
   "metadata": {},
   "outputs": [],
   "source": []
  },
  {
   "cell_type": "code",
   "execution_count": null,
   "metadata": {},
   "outputs": [],
   "source": []
  },
  {
   "cell_type": "code",
   "execution_count": null,
   "metadata": {},
   "outputs": [],
   "source": []
  }
 ],
 "metadata": {
  "kernelspec": {
   "display_name": "Python 3",
   "language": "python",
   "name": "python3"
  },
  "language_info": {
   "codemirror_mode": {
    "name": "ipython",
    "version": 3
   },
   "file_extension": ".py",
   "mimetype": "text/x-python",
   "name": "python",
   "nbconvert_exporter": "python",
   "pygments_lexer": "ipython3",
   "version": "3.6.7"
  },
  "toc": {
   "base_numbering": 1,
   "nav_menu": {},
   "number_sections": true,
   "sideBar": true,
   "skip_h1_title": false,
   "title_cell": "Table of Contents",
   "title_sidebar": "Contents",
   "toc_cell": false,
   "toc_position": {
    "height": "calc(100% - 180px)",
    "left": "10px",
    "top": "150px",
    "width": "247.797px"
   },
   "toc_section_display": true,
   "toc_window_display": true
  }
 },
 "nbformat": 4,
 "nbformat_minor": 2
}
