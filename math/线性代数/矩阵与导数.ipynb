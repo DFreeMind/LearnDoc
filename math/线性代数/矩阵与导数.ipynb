{
 "cells": [
  {
   "cell_type": "markdown",
   "metadata": {
    "toc": true
   },
   "source": [
    "<h1>目录<span class=\"tocSkip\"></span></h1>\n",
    "<div class=\"toc\"><ul class=\"toc-item\"><li><span><a href=\"#布局\" data-toc-modified-id=\"布局-1\"><span class=\"toc-item-num\">1&nbsp;&nbsp;</span>布局</a></span><ul class=\"toc-item\"><li><span><a href=\"#雅各比矩阵\" data-toc-modified-id=\"雅各比矩阵-1.1\"><span class=\"toc-item-num\">1.1&nbsp;&nbsp;</span>雅各比矩阵</a></span></li><li><span><a href=\"#海森矩阵\" data-toc-modified-id=\"海森矩阵-1.2\"><span class=\"toc-item-num\">1.2&nbsp;&nbsp;</span>海森矩阵</a></span></li></ul></li><li><span><a href=\"#基本求导规则\" data-toc-modified-id=\"基本求导规则-2\"><span class=\"toc-item-num\">2&nbsp;&nbsp;</span>基本求导规则</a></span><ul class=\"toc-item\"><li><span><a href=\"#标量对向量\" data-toc-modified-id=\"标量对向量-2.1\"><span class=\"toc-item-num\">2.1&nbsp;&nbsp;</span>标量对向量</a></span></li><li><span><a href=\"#向量对标量\" data-toc-modified-id=\"向量对标量-2.2\"><span class=\"toc-item-num\">2.2&nbsp;&nbsp;</span>向量对标量</a></span></li><li><span><a href=\"#向量对向量\" data-toc-modified-id=\"向量对向量-2.3\"><span class=\"toc-item-num\">2.3&nbsp;&nbsp;</span>向量对向量</a></span></li><li><span><a href=\"#标量对矩阵\" data-toc-modified-id=\"标量对矩阵-2.4\"><span class=\"toc-item-num\">2.4&nbsp;&nbsp;</span>标量对矩阵</a></span></li><li><span><a href=\"#矩阵对标量\" data-toc-modified-id=\"矩阵对标量-2.5\"><span class=\"toc-item-num\">2.5&nbsp;&nbsp;</span>矩阵对标量</a></span></li></ul></li><li><span><a href=\"#维度分析\" data-toc-modified-id=\"维度分析-3\"><span class=\"toc-item-num\">3&nbsp;&nbsp;</span>维度分析</a></span><ul class=\"toc-item\"><li><span><a href=\"#第一种\" data-toc-modified-id=\"第一种-3.1\"><span class=\"toc-item-num\">3.1&nbsp;&nbsp;</span>第一种</a></span></li><li><span><a href=\"#第二种\" data-toc-modified-id=\"第二种-3.2\"><span class=\"toc-item-num\">3.2&nbsp;&nbsp;</span>第二种</a></span></li><li><span><a href=\"#第三种\" data-toc-modified-id=\"第三种-3.3\"><span class=\"toc-item-num\">3.3&nbsp;&nbsp;</span>第三种</a></span></li></ul></li><li><span><a href=\"#常用求导公式\" data-toc-modified-id=\"常用求导公式-4\"><span class=\"toc-item-num\">4&nbsp;&nbsp;</span>常用求导公式</a></span><ul class=\"toc-item\"><li><span><a href=\"#常用\" data-toc-modified-id=\"常用-4.1\"><span class=\"toc-item-num\">4.1&nbsp;&nbsp;</span>常用</a></span></li><li><span><a href=\"#向量对向量\" data-toc-modified-id=\"向量对向量-4.2\"><span class=\"toc-item-num\">4.2&nbsp;&nbsp;</span>向量对向量</a></span></li><li><span><a href=\"#标量对向量\" data-toc-modified-id=\"标量对向量-4.3\"><span class=\"toc-item-num\">4.3&nbsp;&nbsp;</span>标量对向量</a></span></li><li><span><a href=\"#向量对标量\" data-toc-modified-id=\"向量对标量-4.4\"><span class=\"toc-item-num\">4.4&nbsp;&nbsp;</span>向量对标量</a></span></li><li><span><a href=\"#标量对矩阵\" data-toc-modified-id=\"标量对矩阵-4.5\"><span class=\"toc-item-num\">4.5&nbsp;&nbsp;</span>标量对矩阵</a></span></li><li><span><a href=\"#矩阵对标量\" data-toc-modified-id=\"矩阵对标量-4.6\"><span class=\"toc-item-num\">4.6&nbsp;&nbsp;</span>矩阵对标量</a></span></li></ul></li></ul></div>"
   ]
  },
  {
   "cell_type": "markdown",
   "metadata": {},
   "source": [
    "# 布局\n",
    "【参考】\n",
    "- [github.io - 闲话矩阵求导](http://xuehy.github.io/blog/2014/04/18/2014-04-18-matrixcalc/index.html)\n",
    "- [csdn - （Math）矩阵求导](https://blog.csdn.net/mounty_fsc/article/details/51588794)"
   ]
  },
  {
   "cell_type": "markdown",
   "metadata": {},
   "source": [
    "矩阵求导有两种布局，分子布局(numerator layout)和分母布局(denominator layout)。为了阐明这两种布局的区别，我们先来看最简单的求导规则。首先是向量 y 对标量 x 求导，我们假定所有的向量都是列向量：\n",
    "$$\n",
    "\\large{\n",
    "\\begin{split}\n",
    "\\mathbf{y}=\\begin{bmatrix}y_{1}\\\\\n",
    "y_{2}\\\\\n",
    "\\vdots\\\\\n",
    "y_{m}\n",
    "\\end{bmatrix}\n",
    "\\end{split}\n",
    "}\n",
    "$$\n",
    "在分子布局下：\n",
    "$$\n",
    "\\large{\n",
    "\\begin{split}\n",
    "\\frac{\\partial\\mathbf{y}}{\\partial x}=\\begin{bmatrix}\\frac{\\partial y_{1}}{\\partial x}\\\\\n",
    "\\frac{\\partial y_{2}}{\\partial x}\\\\\n",
    "\\vdots\\\\\n",
    "\\frac{\\partial y_{m}}{\\partial x}\n",
    "\\end{bmatrix}\n",
    "\\end{split}\n",
    "}\n",
    "$$\n",
    "\n",
    "而在分母布局下：\n",
    "$$\n",
    "\\large{\n",
    "\\begin{split}\n",
    "\\frac{\\partial\\mathbf{y}}{\\partial x}=\\begin{bmatrix}\\frac{\\partial y_{1}}{\\partial x} & \\frac{\\partial y_{2}}{\\partial x} & \\cdots & \\frac{\\partial y_{m}}{\\partial x}\\end{bmatrix}\n",
    "\\end{split}\n",
    "}\n",
    "$$"
   ]
  },
  {
   "cell_type": "markdown",
   "metadata": {},
   "source": [
    "出现这种情况取决于把谁看做是列向量，以 x、y均为列向量为例：\n",
    "- 分子布局(Numerator layout)是把分子看做列向量，分母看做行向量，即 y 为列向量$$\\large{\\frac{\\partial \\boldsymbol{y}}{\\partial \\boldsymbol{x}^T}}$$ 即Jacobian formulation。\n",
    "- 分母布局(Denominator layout)是把分母看做列向量，分子看做行向量，即 x 为列向量$$\\large{\\frac{\\partial \\boldsymbol{y}^T}{\\partial \\boldsymbol{x}}}$$ 即Hessian formulation。\n",
    "\n",
    "即，是什么布局则其保持不变，令一个做一下转置，对于矩阵求导亦是如此。\n",
    "\n",
    "需要注意的是：\n",
    "- 并非所有书与论文从头为都是统一那个分子布局或者分母分的，往往是结合起来使用，根据上下文来确认。\n",
    "- 分母布局与分子布局呈转置关系\n",
    "\n",
    "**以下求导如若没有指明，则均是分母布局**。"
   ]
  },
  {
   "cell_type": "markdown",
   "metadata": {},
   "source": [
    "## 雅各比矩阵\n",
    "【参考】\n",
    "- [Derivatives of Functions of Two or More Variables](http://www.tcd.ie/Economics/staff/paredesm/~EC2040/Lecture12.pdf)"
   ]
  },
  {
   "cell_type": "markdown",
   "metadata": {},
   "source": [
    "由布局部分可知，分子布局即使雅各比（Jacobian）矩阵形式。雅各比矩阵与一组方程，假设我们有两个方程，有两个未知量，即：\n",
    "$$\n",
    "\\large{\n",
    "\\begin{split}\n",
    "y_1 &= f_1(x_1,x_2) \\\\\n",
    "y_2 &= f_2(x_2,x_2)\n",
    "\\end{split}\n",
    "}\n",
    "$$\n",
    "\n",
    "每个方程都有两个一阶偏导数，那么两个方程就有 2×2=4 个一阶偏导数。那么 2×2 个一阶偏导数的雅各比矩阵形式如下：\n",
    "$$\n",
    "\\large{\n",
    "J= \n",
    "\\begin{bmatrix}\n",
    "\\frac{\\partial y_1}{\\partial x_1} & \\frac{\\partial y_1}{\\partial x_2} \\\\\n",
    "\\frac{\\partial y_2}{\\partial x_1} & \\frac{\\partial y_2}{\\partial x_2} \\\\\n",
    "\\end{bmatrix}\n",
    "}\n",
    "$$\n",
    "\n",
    "可知，雅各比矩阵的每一行都是一个方程对其每个变量的偏导数。"
   ]
  },
  {
   "cell_type": "markdown",
   "metadata": {},
   "source": [
    "如下示例：若$y_1 = x_1x_2, y_2 = x_1+x_2$，那么雅各比矩阵即为：\n",
    "\n",
    "$$\n",
    "\\large{\n",
    "J= \n",
    "\\begin{bmatrix}\n",
    "x_2 & x_1 \\\\\n",
    "1 & 1 \n",
    "\\end{bmatrix}\n",
    "}\n",
    "$$"
   ]
  },
  {
   "cell_type": "markdown",
   "metadata": {},
   "source": [
    "如果泛化到 n 个方程组和 n 个变量时形式为：\n",
    "$$\n",
    "\\large{\n",
    "\\begin{split}\n",
    "y_1 &= f_1(x_1,x_2,\\cdots,x_n) \\\\\n",
    "y_2 &= f_2(x_1,x_2,\\cdots,x_n) \\\\\n",
    "\\vdots \\\\\n",
    "y_n &= f_n(x_1,x_2,\\cdots,x_n) \\\\\n",
    "\\end{split}\n",
    "\\quad \\Rightarrow \\quad\n",
    "J= \n",
    "\\begin{bmatrix}\n",
    "\\frac{\\partial y_1}{\\partial x_1} & \\frac{\\partial y_1}{\\partial x_2} & \\cdots & \\frac{\\partial y_1}{\\partial x_n} \\\\\n",
    "\\frac{\\partial y_2}{\\partial x_1} & \\frac{\\partial y_2}{\\partial x_2} & \\cdots & \\frac{\\partial y_2}{\\partial x_n}\\\\\n",
    "\\vdots & \\vdots & \\ddots & \\vdots\\\\\n",
    "\\frac{\\partial y_n}{\\partial x_1} & \\frac{\\partial y_n}{\\partial x_2} & \\cdots & \\frac{\\partial y_n}{\\partial x_n}\\\\\n",
    "\\end{bmatrix}\n",
    "}\n",
    "$$"
   ]
  },
  {
   "cell_type": "markdown",
   "metadata": {},
   "source": [
    "为什么雅各比矩阵形式是矩阵导数的分子形式呢？如下图：\n",
    "![image](https://ws3.sinaimg.cn/large/69d4185bly1fx1pr5dp6yj206304aglo.jpg)\n",
    "\n",
    "表示矩阵导数的第一行的取值。"
   ]
  },
  {
   "cell_type": "markdown",
   "metadata": {},
   "source": [
    "## 海森矩阵"
   ]
  },
  {
   "cell_type": "markdown",
   "metadata": {},
   "source": [
    "海森矩阵（Hessian matrix）只与一个方程关联，如$y = f(x_1,x_2)$:\n",
    "- 她有 2 个一阶偏导数：$\\frac{\\partial y}{x_1}, \\frac{\\partial y}{x_2}$\n",
    "- 有 2×2 个二阶偏导数：$\\frac{\\partial^2 y}{\\partial x_1\\partial x_1} , \\frac{\\partial^2 y}{\\partial x_2\\partial x_1}, \\frac{\\partial^2 y}{\\partial x_1\\partial x_2} , \\frac{\\partial^2 y}{\\partial x_2\\partial x_2}$\n",
    "\n",
    "海森矩阵是二阶偏导数，其中每一行是一阶偏导数分别对变量的求导，即第一行是一阶偏导对第一个变量的求导，第二行则是对第二个变量的求导，形式如下：\n",
    "$$\n",
    "\\large{\n",
    "H= \n",
    "\\begin{bmatrix}\n",
    "\\frac{\\partial^2 y}{\\partial x_1\\partial x_1} & \\frac{\\partial^2 y}{\\partial x_2\\partial x_1} \\\\\n",
    "\\frac{\\partial^2 y}{\\partial x_1\\partial x_2} & \\frac{\\partial^2 y}{\\partial x_2\\partial x_2} \\\\\n",
    "\\end{bmatrix}\n",
    "}\n",
    "$$"
   ]
  },
  {
   "cell_type": "markdown",
   "metadata": {},
   "source": [
    "如，$y = x_1^4 + x_2^2x_1^2 + x_2^3$，那么海森矩阵就为：\n",
    "$$\n",
    "\\large{\n",
    "H= \n",
    "\\begin{bmatrix}\n",
    "12x_1^2 + 2x_2^2 & 4x_1x_2 \\\\\n",
    "4x_1x_2 & 2x_1^2 + 6x_2  \\\\\n",
    "\\end{bmatrix}\n",
    "}\n",
    "$$"
   ]
  },
  {
   "cell_type": "markdown",
   "metadata": {},
   "source": [
    "将其推广到 n 个变量时，即$y = f(x_1,x_2,\\cdots,x_n)$，那么他将有 n 个一阶导数，n×n 个二阶导数，那么海森矩阵形式如下：\n",
    "$$\n",
    "\\large{\n",
    "H= \n",
    "\\begin{bmatrix}\n",
    "\\frac{\\partial^2 y}{\\partial x_1\\partial x_1} & \\frac{\\partial^2 y}{\\partial x_2\\partial x_1} & \\cdots &  \\frac{\\partial^2 y}{\\partial x_n\\partial x_1}\\\\\n",
    "\\frac{\\partial^2 y}{\\partial x_1\\partial x_2} & \\frac{\\partial^2 y}{\\partial x_2\\partial x_2} & \\cdots &  \\frac{\\partial^2 y}{\\partial x_n\\partial x_2}\\\\\n",
    "\\vdots & \\vdots & \\ddots & \\vdots \\\\\n",
    "\\frac{\\partial^2 y}{\\partial x_1\\partial x_n} & \\frac{\\partial^2 y}{\\partial x_2\\partial x_n} & \\cdots &  \\frac{\\partial^2 y}{\\partial x_n\\partial x_n}\n",
    "\\end{bmatrix}\n",
    "}\n",
    "$$"
   ]
  },
  {
   "cell_type": "markdown",
   "metadata": {},
   "source": [
    "海森矩阵式是二阶导数，为什么分母的形式是海森矩阵形式呢？这里我们可以把向量 $\\boldsymbol{y}$ 中的每个值是变量的一阶导数，那么海森矩阵的形式就是导数的分母形式，如下图：\n",
    "![image](https://ws4.sinaimg.cn/large/69d4185bly1fx1pvm94d8j2064041dfw.jpg)\n",
    "\n",
    "表示矩阵导数的第一行的值。可以看到转置一下刚好是分子形式。"
   ]
  },
  {
   "cell_type": "markdown",
   "metadata": {},
   "source": [
    "# 基本求导规则\n",
    "【参考】\n",
    "- [Vector and Matrix Calculus](https://www.kamperh.com/notes/kamper_matrixcalculus13.pdf)\n",
    "\n",
    "【补充】\n",
    "- [The Matrix Calculus You Need For Deep Learning](https://explained.ai/matrix-calculus/index.html)"
   ]
  },
  {
   "cell_type": "markdown",
   "metadata": {},
   "source": [
    "总的来说，涉及矩阵和向量的求导不外乎五大类别，\n",
    "- 向量对标量\n",
    "- 标量对向量\n",
    "- 向量对向量\n",
    "- 矩阵对标量\n",
    "- 标量对矩阵\n",
    "\n",
    "如下表格：\n",
    "![image](https://ws4.sinaimg.cn/large/69d4185bly1fx1q4khtm5j20n2066gmk.jpg)"
   ]
  },
  {
   "cell_type": "markdown",
   "metadata": {},
   "source": [
    "## 标量对向量\n",
    "即 $f:\\mathbb{R}^n \\rightarrow \\mathbb{R}，\\boldsymbol{x} \\in \\mathbb{R}^n$，求得分子形式的结果被称为梯度（gradient），也有的部分布局，两者都成为梯度。"
   ]
  },
  {
   "cell_type": "markdown",
   "metadata": {},
   "source": [
    "$$\n",
    "\\large{\n",
    "\\begin{split}\n",
    "\\underbrace{\\frac{\\partial y}{\\partial\\boldsymbol{x}}=\n",
    "\\begin{bmatrix}\n",
    "\\frac{\\partial y}{\\partial x_{1}}&\n",
    "\\frac{\\partial y}{\\partial x_{2}}&\n",
    "\\cdots&\n",
    "\\frac{\\partial y}{\\partial x_{m}}\n",
    "\\end{bmatrix}}_{分子布局} & \\qquad \n",
    "\\underbrace{\\frac{\\partial y}{\\partial\\boldsymbol{x}}=\n",
    "\\begin{bmatrix}\n",
    "\\frac{\\partial y}{\\partial x_{1}}\\\\\n",
    "\\frac{\\partial y}{\\partial x_{2}}\\\\\n",
    "\\vdots\\\\\n",
    "\\frac{\\partial y}{\\partial x_{m}}\n",
    "\\end{bmatrix}}_{分母布局} \n",
    "\\end{split}\\tag{1}\n",
    "}\n",
    "$$"
   ]
  },
  {
   "cell_type": "markdown",
   "metadata": {},
   "source": [
    "## 向量对标量\n",
    "即 $f:\\mathbb{R}^n \\rightarrow \\mathbb{R}^m，x \\in \\mathbb{R}, f(x) = [f_1(x),f_2(x),\\cdots,f_m(x)]^T$"
   ]
  },
  {
   "cell_type": "markdown",
   "metadata": {},
   "source": [
    "$$\n",
    "\\large{\n",
    "\\begin{split}\n",
    "\\underbrace{\\frac{\\partial\\boldsymbol{y}}{\\partial x}=\n",
    "\\begin{bmatrix}\n",
    "\\frac{\\partial y_{1}}{\\partial x}\\\\\n",
    "\\frac{\\partial y_{2}}{\\partial x}\\\\\n",
    "\\vdots\\\\\n",
    "\\frac{\\partial y_{m}}{\\partial x} \n",
    "\\end{bmatrix}}_{分子布局} & \\qquad\n",
    "\\underbrace{\\frac{\\partial\\boldsymbol{y}}{\\partial x}=\n",
    "\\begin{bmatrix}\n",
    "\\frac{\\partial y_{1}}{\\partial x} & \n",
    "\\frac{\\partial y_{2}}{\\partial x} & \n",
    "\\cdots & \n",
    "\\frac{\\partial y_{m}}{\\partial x}\n",
    "\\end{bmatrix}}_{分母布局}\n",
    "\\end{split}\\tag{2}\n",
    "}\n",
    "$$"
   ]
  },
  {
   "cell_type": "markdown",
   "metadata": {},
   "source": [
    "## 向量对向量\n",
    "即 $f:\\mathbb{R}^n \\rightarrow \\mathbb{R}^m，\\boldsymbol{x} \\in \\mathbb{R}^n, f(x) = [f_1(x),f_2(x),\\cdots,f_m(x)]^T$"
   ]
  },
  {
   "cell_type": "markdown",
   "metadata": {},
   "source": [
    "$$\n",
    "\\large{\n",
    "\\begin{split}\n",
    "\\boldsymbol{x}=\\begin{bmatrix}x_{1}\\\\\n",
    "x_{2}\\\\\n",
    "\\vdots\\\\\n",
    "x_{n}\n",
    "\\end{bmatrix} \\qquad \n",
    "\\boldsymbol{y}=\\begin{bmatrix}y_{1}\\\\\n",
    "y_{2}\\\\\n",
    "\\vdots\\\\\n",
    "y_{m}\n",
    "\\end{bmatrix}\n",
    "\\end{split}\n",
    "}\n",
    "$$\n",
    "有：\n",
    "$$\n",
    "\\large{\n",
    "\\begin{split}\n",
    "\\underbrace{\\frac{\\partial\\boldsymbol{y}}{\\partial\\boldsymbol{x}}=\n",
    "\\begin{bmatrix}\n",
    "\\frac{\\partial y_{1}}{\\partial x_{1}} & \\frac{\\partial y_{1}}{\\partial x_{2}} & \\cdots & \\frac{\\partial y_{1}}{\\partial x_{n}}\\\\\n",
    "\\frac{\\partial y_{2}}{\\partial x_{1}} & \\frac{\\partial y_{2}}{\\partial x_{2}} & \\cdots & \\frac{\\partial y_{2}}{\\partial x_{n}}\\\\\n",
    "\\vdots & \\vdots & \\ddots & \\vdots\\\\\n",
    "\\frac{\\partial y_{m}}{\\partial x_{1}} & \\frac{\\partial y_{m}}{\\partial x_{2}} & \\cdots & \\frac{\\partial y_{m}}{\\partial x_{n}}\n",
    "\\end{bmatrix}}_{分子布局}\n",
    "&\\qquad\n",
    "\\underbrace{\\frac{\\partial\\boldsymbol{y}}{\\partial\\boldsymbol{x}}=\\begin{bmatrix}\\frac{\\partial y_{1}}{\\partial x_{1}} & \\frac{\\partial y_{2}}{\\partial x_{1}} & \\cdots & \\frac{\\partial y_{m}}{\\partial x_{1}}\\\\\n",
    "\\frac{\\partial y_{1}}{\\partial x_{2}} & \\frac{\\partial y_{2}}{\\partial x_{2}} & \\cdots & \\frac{\\partial y_{m}}{\\partial x_{2}}\\\\\n",
    "\\vdots & \\vdots & \\ddots & \\vdots\\\\\n",
    "\\frac{\\partial y_{1}}{\\partial x_{n}} & \\frac{\\partial y_{2}}{\\partial x_{n}} & \\cdots & \\frac{\\partial y_{m}}{\\partial x_{n}}\n",
    "\\end{bmatrix}}_{分母布局}\n",
    "\\end{split}\\tag{3}\n",
    "}\n",
    "$$"
   ]
  },
  {
   "cell_type": "markdown",
   "metadata": {},
   "source": [
    "## 标量对矩阵\n",
    "即 $f:\\mathbb{R}^{m×n} \\rightarrow \\mathbb{R}，\\boldsymbol{X} \\in \\mathbb{R}^{m×n}$"
   ]
  },
  {
   "cell_type": "markdown",
   "metadata": {},
   "source": [
    "$$\n",
    "\\large{\n",
    "\\begin{split}\n",
    "\\underbrace{\\frac{\\partial y}{\\partial\\boldsymbol{X}}=\n",
    "\\begin{bmatrix}\\frac{\\partial y}{\\partial x_{11}} & \\frac{\\partial y}{\\partial x_{21}} & \\cdots & \\frac{\\partial y}{\\partial x_{q1}}\\\\\n",
    "\\frac{\\partial y}{\\partial x_{12}} & \\frac{\\partial y}{\\partial x_{22}} & \\cdots & \\frac{\\partial y}{\\partial x_{q2}}\\\\\n",
    "\\vdots & \\vdots & \\ddots & \\vdots\\\\\n",
    "\\frac{\\partial y}{\\partial x_{1p}} & \\frac{\\partial y}{\\partial x_{2p}} & \\cdots & \\frac{\\partial y}{\\partial x_{qp}}\n",
    "\\end{bmatrix}}_{分子布局}\n",
    "&\\qquad\n",
    "\\underbrace{\\frac{\\partial y}{\\partial\\boldsymbol{X}}=\n",
    "\\begin{bmatrix}\\frac{\\partial y}{\\partial x_{11}} & \\frac{\\partial y}{\\partial x_{12}} & \\cdots & \\frac{\\partial y}{\\partial x_{1q}}\\\\\n",
    "\\frac{\\partial y}{\\partial x_{21}} & \\frac{\\partial y}{\\partial x_{22}} & \\cdots & \\frac{\\partial y}{\\partial x_{2q}}\\\\\n",
    "\\vdots & \\vdots & \\ddots & \\vdots\\\\\n",
    "\\frac{\\partial y}{\\partial x_{p1}} & \\frac{\\partial y}{\\partial x_{p2}} & \\cdots & \\frac{\\partial y}{\\partial x_{pq}}\n",
    "\\end{bmatrix}}_{分母布局}\n",
    "\\end{split}\\tag{4}\n",
    "}\n",
    "$$"
   ]
  },
  {
   "cell_type": "markdown",
   "metadata": {},
   "source": [
    "## 矩阵对标量\n",
    "只有分子布局"
   ]
  },
  {
   "cell_type": "markdown",
   "metadata": {},
   "source": [
    "$$\n",
    "\\large{\n",
    "\\begin{split}\n",
    "\\underbrace{\\frac{\\partial\\boldsymbol{y}}{\\partial x}=\n",
    "\\begin{bmatrix}\n",
    "\\frac{\\partial y_{11}}{\\partial x} & \\frac{\\partial y_{12}}{\\partial x} & \\cdots & \\frac{\\partial y_{1m}}{\\partial x}\\\\\n",
    "\\frac{\\partial y_{21}}{\\partial x} & \\frac{\\partial y_{22}}{\\partial x} & \\cdots & \\frac{\\partial y_{2m}}{\\partial x}\\\\\n",
    "\\vdots & \\vdots & \\ddots & \\vdots\\\\\n",
    "\\frac{\\partial y_{n1}}{\\partial x} & \\frac{\\partial y_{n2}}{\\partial x} & \\cdots & \\frac{\\partial y_{nm}}{\\partial x}\n",
    "\\end{bmatrix}}_{分子布局}\n",
    "\\end{split}\\tag{5}\n",
    "}\n",
    "$$"
   ]
  },
  {
   "cell_type": "markdown",
   "metadata": {},
   "source": [
    "# 维度分析"
   ]
  },
  {
   "cell_type": "markdown",
   "metadata": {},
   "source": [
    "接下来我们来看一些常见的求导，首先是 $\\frac{\\partial\\boldsymbol{Ax}}{\\partial\\boldsymbol{x}}$ ，注意到 $(\\boldsymbol{Ax})_{i}=a_{i1}x_{1}+a_{i2}x_{2}+\\cdots+a_{in}x_{n}$ ，即\n",
    "$$\n",
    "\\large{\n",
    "\\begin{split}\n",
    "\\boldsymbol{Ax} = \n",
    "\\begin{bmatrix}\n",
    "(\\boldsymbol{Ax})_1 \\\\\n",
    "(\\boldsymbol{Ax})_2 \\\\\n",
    "\\vdots \\\\\n",
    "(\\boldsymbol{Ax})_m\n",
    "\\end{bmatrix} &\\qquad，再有\\;\\; \n",
    "\\boldsymbol{x} = \n",
    "\\begin{bmatrix}\n",
    "x_1 \\\\\n",
    "x_2 \\\\\n",
    "\\vdots \\\\\n",
    "x_n\n",
    "\\end{bmatrix}\n",
    "\\end{split}\n",
    "}\n",
    "$$\n",
    "\n",
    "于是利用向量对向量求导法则，我们有：\n",
    "$$\n",
    "\\large{\n",
    "\\begin{split}\n",
    "\\frac{\\partial\\mathbf{(\\mathbf{Ax}})}{\\partial\\mathbf{x}}=\n",
    "\\begin{bmatrix}\\frac{\\partial(\\mathbf{Ax})_{1}}{\\partial x_{1}} & \\frac{\\partial(\\mathbf{Ax})_{2}}{\\partial x_{1}} & \\cdots & \\frac{\\partial(\\mathbf{Ax})_{m}}{\\partial x_{1}}\\\\\n",
    "\\frac{\\partial(\\mathbf{Ax})_{1}}{\\partial x_{2}} & \\frac{\\partial(\\mathbf{Ax})_{2}}{\\partial x_{2}} & \\cdots & \\frac{\\partial(\\mathbf{Ax})_{m}}{\\partial x_{2}}\\\\\n",
    "\\vdots & \\vdots & \\ddots & \\vdots\\\\\n",
    "\\frac{\\partial(\\mathbf{Ax})_{1}}{\\partial x_{n}} & \\frac{\\partial(\\mathbf{Ax})_{2}}{\\partial x_{n}} & \\cdots & \\frac{\\partial(\\mathbf{Ax})_{m}}{\\partial x_{n}}\n",
    "\\end{bmatrix}\n",
    "=\n",
    "\\begin{bmatrix}a_{11} & a_{21} & \\cdots & a_{m1}\\\\\n",
    "a_{12} & a_{22} & \\cdots & a_{m2}\\\\\n",
    "\\vdots & \\vdots & \\ddots & \\vdots\\\\\n",
    "a_{1n} & a_{2n} & \\cdots & a_{mn}\n",
    "\\end{bmatrix}=\\mathbf{A}^{\\mathrm{T}}\n",
    "\\end{split}\n",
    "}\n",
    "$$\n",
    "\n",
    "理论上对于任意的表达式，我们都可以通过定义出发，利用上面这种形式推导得到。但是对于一些复杂的求导，这个时候恐怕逐项展开分析就不是很靠谱了。我们先来看求导分类的前三类，对于这三类问题，我们来看一个非常强大的方法，通过分析维度来得到结果。"
   ]
  },
  {
   "cell_type": "markdown",
   "metadata": {},
   "source": [
    "## 第一种"
   ]
  },
  {
   "cell_type": "markdown",
   "metadata": {},
   "source": [
    "考虑 $\\large{\\frac{\\partial\\boldsymbol{Au}}{\\partial\\boldsymbol{x}}}$ , A 与 x 无关，所以 A 肯定可以先提出求导式，至于去哪了暂时不清楚。假如 $\\large{\\boldsymbol{A}\\in\\mathbb{R}^{m\\times n},\\boldsymbol{u}\\in\\mathbb{R}^{n\\times1},\\boldsymbol{x}\\in\\mathbb{R}^{p\\times1}}$。我们知道最后结果肯定和 $\\large{\\frac{\\partial\\boldsymbol{u}}{\\partial\\boldsymbol{x}}}$ 有关，注意到 $\\large{\\frac{\\partial\\boldsymbol{u}}{\\partial\\boldsymbol{x}}\\in\\mathbb{R}^{p\\times n}}$ ,于是 A 只能转置以后添在后面，因此：\n",
    "$$\n",
    "\\large{\n",
    "\\begin{split}\n",
    "\\frac{\\partial\\boldsymbol{Au}}{\\partial\\boldsymbol{x}}=\\frac{\\partial\\boldsymbol{u}}{\\partial\\boldsymbol{x}}\\mathbf{A}^{\\mathrm{T}}\n",
    "\\end{split}\\tag{6}\n",
    "}\n",
    "$$"
   ]
  },
  {
   "cell_type": "markdown",
   "metadata": {},
   "source": [
    "同样对于 $\\large{\\frac{\\partial a\\boldsymbol{u}}{\\partial\\boldsymbol{x}},a}$ 和 x 相关的标量，假定 $\\large{\\boldsymbol{u}\\in\\mathbb{R}^{m\\times1},\\boldsymbol{x}\\in\\mathbb{R}^{n\\times1}}$ ,根据乘积法则（非精确版本），前一个部分肯定是 $\\large{a\\frac{\\partial\\boldsymbol{u}}{\\partial\\boldsymbol{x}}}$ , 后一部分为 $\\large{\\frac{\\partial a}{\\partial\\boldsymbol{x}}\\in\\mathbb{R}^{n\\times1}}$ 和 u 的某种形式的积,分析维度发现只能是 $\\large{\\frac{\\partial a}{\\partial\\boldsymbol{x}}\\boldsymbol{u}^{\\mathrm{T}}}$ 。于是：\n",
    "$$\n",
    "\\large{\n",
    "\\begin{split}\n",
    "\\frac{\\partial a\\boldsymbol{u}}{\\partial\\boldsymbol{x}}=a\\frac{\\partial\\boldsymbol{u}}{\\partial\\boldsymbol{x}}+\\frac{\\partial a}{\\partial\\boldsymbol{x}}\\boldsymbol{u}^{\\mathrm{T}}\n",
    "\\end{split}\\tag{7}\n",
    "}\n",
    "$$\n",
    "\n",
    "我们发现，虽然乘积法则的精准形式无法应用于矩阵求导中，然而这种非精确的乘积法则可以准确的告诉我们哪些项一定会出现在结果中，然后通过分析维度，我们就可以写出结果。"
   ]
  },
  {
   "cell_type": "markdown",
   "metadata": {},
   "source": [
    "## 第二种"
   ]
  },
  {
   "cell_type": "markdown",
   "metadata": {},
   "source": [
    "再看 $\\large{\\frac{\\partial\\boldsymbol{x}^{\\mathrm{T}}\\boldsymbol{Ax}}{\\partial\\boldsymbol{x}}}$ ,其中 A 和 x 无关，为了分析这个问题，我们考虑一个更一般的问题：\n",
    "$$\n",
    "\\large{\n",
    "\\begin{split}\n",
    "\\frac{\\partial\\boldsymbol{x}^{\\mathrm{T}}\\boldsymbol{Ay}}{\\partial\\boldsymbol{x}},\\mathbf{x}\\in\\mathbb{R}^{m\\times1},\\boldsymbol{y}\\in\\mathbb{R}^{n\\times1}\n",
    "\\end{split}\n",
    "}\n",
    "$$\n",
    "\n",
    "我们利用非精确的乘积法则，可以将这个分成两部分：\n",
    "$$\n",
    "\\large{\n",
    "\\begin{split}\n",
    "\\frac{\\partial\\text{(}\\boldsymbol{x}^{\\mathrm{T}}\\boldsymbol{A)y}}{\\partial\\boldsymbol{x}}\n",
    "\\end{split}\n",
    "}\n",
    "$$\n",
    "于是结果和两部分相关，分别为：\n",
    "$$\n",
    "\\large{\n",
    "\\begin{split}\n",
    "\\frac{\\partial\\boldsymbol{y}}{\\partial\\boldsymbol{x}}\\in\\mathbb{R}^{m\\times n}\n",
    ",&\\quad\n",
    "\\frac{\\partial\\boldsymbol{x}^{\\mathrm{T}}\\mathbf{A}}{\\partial\\boldsymbol{x}}=\\boldsymbol{A}\\in\\mathbb{R}^{m\\times n}\n",
    "\\end{split}\n",
    "}\n",
    "$$"
   ]
  },
  {
   "cell_type": "markdown",
   "metadata": {},
   "source": [
    "同样通过分析维度以及式（6）（7），我们可以得到：\n",
    "$$\n",
    "\\large{\n",
    "\\begin{split}\n",
    "\\frac{\\partial\\text{(}\\boldsymbol{x}^{\\mathrm{T}}\\boldsymbol{A)y}}{\\partial\\boldsymbol{x}} \n",
    "&= \\frac{\\partial\\text{(}\\boldsymbol{x}^{\\mathrm{T}}\\boldsymbol{A)}}{\\partial\\boldsymbol{x}} \\cdot \\boldsymbol{y}  + \\frac{\\partial\\boldsymbol{y}}{\\partial\\boldsymbol{x}} \\cdot (\\boldsymbol{x}^{\\mathrm{T}}\\boldsymbol{A})^{\\mathrm{T}} \\\\\n",
    "&= \\boldsymbol{A \\cdot y} + \\frac{\\partial\\boldsymbol{y}}{\\partial\\boldsymbol{x}}\\mathbf{A}^{\\mathrm{T}}\\boldsymbol{x}\n",
    "\\end{split}\\tag{8}\n",
    "}\n",
    "$$\n",
    "\n",
    "因此：\n",
    "$$\n",
    "\\large{\n",
    "\\begin{split}\n",
    "\\frac{\\partial\\mathbf{x}^{\\mathrm{T}}\\mathbf{Ax}}{\\partial\\mathbf{x}}=(\\mathbf{A}^{\\mathrm{T}}+\\mathbf{A})\\mathbf{x}\n",
    "\\end{split}\\tag{9}\n",
    "}\n",
    "$$"
   ]
  },
  {
   "cell_type": "markdown",
   "metadata": {},
   "source": [
    "## 第三种"
   ]
  },
  {
   "cell_type": "markdown",
   "metadata": {},
   "source": [
    "最后看一个式子:\n",
    "$$\n",
    "\\large{\n",
    "\\begin{split}\n",
    "\\frac{\\partial\\boldsymbol{a}^{\\mathsf{T}}\\boldsymbol{xx}^{\\mathsf{T}}\\boldsymbol{b}}{\\partial\\boldsymbol{x}},\\boldsymbol{a,b,x}\\in\\mathbb{R}^{m\\times1} &\\;\\; 有 \\;\\; \n",
    "\\frac{\\partial\\boldsymbol{a}^{\\mathsf{T}}\\boldsymbol{xx}^{\\mathsf{T}}\\boldsymbol{b}}{\\partial\\boldsymbol{x}}=\\frac{\\partial(\\boldsymbol{a}^{\\mathsf{T}}\\boldsymbol{x)(x}^{\\mathsf{T}}\\boldsymbol{b)}}{\\partial\\boldsymbol{x}}\n",
    "\\end{split}\n",
    "}\n",
    "$$\n",
    "\n",
    "可知：\n",
    "$$\n",
    "\\large{\n",
    "\\begin{split}\n",
    "\\frac{\\partial(\\boldsymbol{a}^{\\mathsf{T}}\\boldsymbol{x)}}{\\partial\\boldsymbol{x}}=\\boldsymbol{a},&\\;\n",
    "\\frac{\\partial(\\boldsymbol{x}^{\\mathsf{T}}\\boldsymbol{b)}}{\\partial\\boldsymbol{x}}=\\boldsymbol{b}\n",
    "\\end{split}\n",
    "}\n",
    "$$\n",
    "\n",
    "所以(注意到 $a^Tx\\in ℝ，x^Tb\\in ℝ$ 因此在求导结果中既可以转置，也可以不转置，如下面第一部分进行了转置，第二部分则没有)\n",
    "$$\n",
    "\\large{\n",
    "\\begin{split}\n",
    "\\frac{\\partial\\boldsymbol{a}^{\\mathsf{T}}\\boldsymbol{xx}^{\\mathsf{T}}\\boldsymbol{b}}{\\partial\\boldsymbol{x}}\n",
    "&=\\frac{\\partial(\\boldsymbol{a}^{\\mathsf{T}}\\boldsymbol{x)(x}^{\\mathsf{T}}\\boldsymbol{b)}}{\\partial\\boldsymbol{x}}\\\\\n",
    "&=\\boldsymbol{a}(\\boldsymbol{x}^{\\mathsf{T}}\\boldsymbol{b})^\\mathsf{T}+\\boldsymbol{ba}^{\\mathsf{T}}\\boldsymbol{x}\\\\\n",
    "&=(\\boldsymbol{ab}^{\\mathrm{T}}+\\boldsymbol{ba}^{\\mathrm{T}})\\boldsymbol{x}\n",
    "\\end{split}\\tag{10}\n",
    "}\n",
    "$$"
   ]
  },
  {
   "cell_type": "markdown",
   "metadata": {},
   "source": [
    "# 常用求导公式\n",
    "【参考】\n",
    "- [wikipedia - Matrix calculus](https://en.wikipedia.org/wiki/Matrix_calculus)"
   ]
  },
  {
   "cell_type": "markdown",
   "metadata": {},
   "source": [
    "## 常用\n",
    "以下布局均使用分母布局，u 和 v均是 x 的函数"
   ]
  },
  {
   "cell_type": "markdown",
   "metadata": {},
   "source": [
    "$$\n",
    "\\large{\n",
    "\\begin{split}\n",
    "\\frac{\\partial(\\boldsymbol{u}(x) + \\boldsymbol{v}(x))}{\\partial \\boldsymbol{x}} &= \\frac{\\partial \\boldsymbol{u}(x)}{\\partial \\boldsymbol{x}} + \\frac{\\partial \\boldsymbol{v}(x)}{\\partial \\boldsymbol{x}} \\\\\n",
    "\\frac{\\partial \\boldsymbol{Ax}}{\\partial \\boldsymbol{x}} &= \\boldsymbol{A}^{\\mathsf{T}} \\\\\n",
    "\\frac{\\partial \\boldsymbol{a}}{\\partial \\boldsymbol{x}} &= \\boldsymbol{0} \\\\\n",
    "\\frac{\\partial \\boldsymbol{x}^T\\boldsymbol{Ab}}{\\partial \\boldsymbol{x}} &= \\boldsymbol{Ab} \\\\\n",
    "\\frac{\\partial \\boldsymbol{x}^T\\boldsymbol{Ax}}{\\partial \\boldsymbol{x}} &= \\boldsymbol{(A+A^T)x} \\\\\n",
    "\\frac{\\partial \\boldsymbol{x}^T\\boldsymbol{Ax}}{\\partial \\boldsymbol{x}} &= \\boldsymbol{2Ax} \\;如果A是对称的\n",
    "\\end{split}\n",
    "}\n",
    "$$"
   ]
  },
  {
   "cell_type": "markdown",
   "metadata": {},
   "source": [
    "## 向量对向量"
   ]
  },
  {
   "cell_type": "markdown",
   "metadata": {},
   "source": [
    "![image](https://wx4.sinaimg.cn/large/69d4185bly1fx10s168pnj20jp0enwgj.jpg)"
   ]
  },
  {
   "cell_type": "markdown",
   "metadata": {},
   "source": [
    "## 标量对向量"
   ]
  },
  {
   "cell_type": "markdown",
   "metadata": {},
   "source": [
    "![image](https://ws1.sinaimg.cn/large/69d4185bly1fx115whvmlj20sw0gutbl.jpg)\n",
    "![image](https://wx1.sinaimg.cn/large/69d4185bly1fx116kdzqyj20sv0huwhi.jpg)"
   ]
  },
  {
   "cell_type": "markdown",
   "metadata": {},
   "source": [
    "## 向量对标量"
   ]
  },
  {
   "cell_type": "markdown",
   "metadata": {},
   "source": [
    "![image](https://wx1.sinaimg.cn/large/69d4185bly1fx2rcs64rjj20m90f9mzr.jpg)"
   ]
  },
  {
   "cell_type": "markdown",
   "metadata": {},
   "source": [
    "## 标量对矩阵"
   ]
  },
  {
   "cell_type": "markdown",
   "metadata": {},
   "source": [
    "![image](https://ws2.sinaimg.cn/large/69d4185bly1fx2rjb2batj20sx0i1goy.jpg)"
   ]
  },
  {
   "cell_type": "markdown",
   "metadata": {},
   "source": [
    "## 矩阵对标量"
   ]
  },
  {
   "cell_type": "markdown",
   "metadata": {},
   "source": [
    "![image](https://ws2.sinaimg.cn/large/69d4185bly1fx2rkwgd1gj20sx0g241g.jpg)"
   ]
  }
 ],
 "metadata": {
  "kernelspec": {
   "display_name": "Python 3",
   "language": "python",
   "name": "python3"
  },
  "language_info": {
   "codemirror_mode": {
    "name": "ipython",
    "version": 3
   },
   "file_extension": ".py",
   "mimetype": "text/x-python",
   "name": "python",
   "nbconvert_exporter": "python",
   "pygments_lexer": "ipython3",
   "version": "3.6.4"
  },
  "toc": {
   "base_numbering": 1,
   "nav_menu": {},
   "number_sections": true,
   "sideBar": true,
   "skip_h1_title": false,
   "title_cell": "目录",
   "title_sidebar": "Contents",
   "toc_cell": true,
   "toc_position": {
    "height": "calc(100% - 180px)",
    "left": "10px",
    "top": "150px",
    "width": "260px"
   },
   "toc_section_display": true,
   "toc_window_display": true
  }
 },
 "nbformat": 4,
 "nbformat_minor": 2
}
