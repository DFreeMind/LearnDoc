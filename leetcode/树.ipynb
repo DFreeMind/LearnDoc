{
 "cells": [
  {
   "cell_type": "markdown",
   "metadata": {},
   "source": [
    "# 树形数据结构"
   ]
  },
  {
   "cell_type": "markdown",
   "metadata": {},
   "source": []
  },
  {
   "cell_type": "markdown",
   "metadata": {},
   "source": []
  },
  {
   "cell_type": "markdown",
   "metadata": {},
   "source": [
    "# 应用"
   ]
  },
  {
   "cell_type": "markdown",
   "metadata": {},
   "source": [
    "## 二叉树的最大深度（E 104题）"
   ]
  },
  {
   "cell_type": "markdown",
   "metadata": {},
   "source": [
    "给定一个二叉树，找出其最大深度。\n",
    "\n",
    "二叉树的深度为根节点到最远叶子节点的最长路径上的节点数。\n",
    "\n",
    "**说明:** 叶子节点是指没有子节点的节点。\n",
    "\n",
    "**示例：**\n",
    "给定二叉树 `[3,9,20,null,null,15,7]`，\n",
    "\n",
    "```\n",
    "    3\n",
    "   / \\\n",
    "  9  20\n",
    "    /  \\\n",
    "   15   7\n",
    "```\n",
    "\n",
    "返回它的最大深度 3 。"
   ]
  },
  {
   "cell_type": "code",
   "execution_count": null,
   "metadata": {},
   "outputs": [],
   "source": [
    "# Definition for a binary tree node.\n",
    "# class TreeNode:\n",
    "#     def __init__(self, x):\n",
    "#         self.val = x\n",
    "#         self.left = None\n",
    "#         self.right = None\n",
    "# 39 / 39 个通过测试用例\n",
    "# 执行用时: 80 ms, 在Maximum Depth of Binary Tree的Python3提交中击败了12.04% 的用户\n",
    "# 内存消耗: 8 MB, 在Maximum Depth of Binary Tree的Python3提交中击败了98.48% 的用户\n",
    "# Runtime: 32 ms, faster than 98.96% of Python \n",
    "# Memory Usage: 13.8 MB, less than 100.00% of Python\n",
    "class Solution:\n",
    "    def maxDepth(self, root):\n",
    "        \"\"\"\n",
    "        :type root: TreeNode\n",
    "        :rtype: int\n",
    "        \"\"\"\n",
    "        if not root: return 0\n",
    "        \n",
    "        nodes = [[root]]\n",
    "        n = 0\n",
    "        while len(nodes[-1]) > 0:\n",
    "            t = []\n",
    "            for node in nodes[-1]:\n",
    "                if node.left:\n",
    "                    t.append(node.left)\n",
    "                if node.right:\n",
    "                    t.append(node.right)\n",
    "            nodes.append(t)\n",
    "            n += 1\n",
    "            \n",
    "        return n"
   ]
  },
  {
   "cell_type": "markdown",
   "metadata": {},
   "source": [
    "递归的写法"
   ]
  },
  {
   "cell_type": "code",
   "execution_count": null,
   "metadata": {},
   "outputs": [],
   "source": [
    "class Solution:\n",
    "    def maxDepth(self, root):\n",
    "        if not root:\n",
    "            return 0\n",
    "        return 1 + max(self.maxDepth(root.left), self.maxDepth(root.right))"
   ]
  },
  {
   "cell_type": "markdown",
   "metadata": {},
   "source": [
    "## 二叉树最大宽度（M 662题）\n",
    "- [662. Maximum Width of Binary Tree](https://leetcode.com/articles/maximum-width-of-binary-tree/)"
   ]
  },
  {
   "cell_type": "markdown",
   "metadata": {},
   "source": [
    "给定一个二叉树，编写一个函数来获取这个树的最大宽度。树的宽度是所有层中的最大宽度。这个二叉树与**满二叉树（full binary tree）**结构相同，但一些节点为空。\n",
    "\n",
    "每一层的宽度被定义为两个端点（该层最左和最右的非空节点，两端点间的`null`节点也计入长度）之间的长度。\n",
    "\n",
    "**示例 1:**\n",
    "\n",
    "```\n",
    "输入: \n",
    "\n",
    "           1\n",
    "         /   \\\n",
    "        3     2\n",
    "       / \\     \\  \n",
    "      5   3     9 \n",
    "\n",
    "输出: 4\n",
    "解释: 最大值出现在树的第 3 层，宽度为 4 (5,3,null,9)。\n",
    "```\n",
    "\n",
    "**示例 2:**\n",
    "\n",
    "```\n",
    "输入: \n",
    "\n",
    "          1\n",
    "         /  \n",
    "        3    \n",
    "       / \\       \n",
    "      5   3     \n",
    "\n",
    "输出: 2\n",
    "解释: 最大值出现在树的第 3 层，宽度为 2 (5,3)。\n",
    "```\n",
    "\n",
    "**示例 3:**\n",
    "\n",
    "```\n",
    "输入: \n",
    "\n",
    "          1\n",
    "         / \\\n",
    "        3   2 \n",
    "       /        \n",
    "      5      \n",
    "\n",
    "输出: 2\n",
    "解释: 最大值出现在树的第 2 层，宽度为 2 (3,2)。\n",
    "```\n",
    "\n",
    "**示例 4:**\n",
    "\n",
    "```\n",
    "输入: \n",
    "\n",
    "          1\n",
    "         / \\\n",
    "        3   2\n",
    "       /     \\  \n",
    "      5       9 \n",
    "     /         \\\n",
    "    6           7\n",
    "输出: 8\n",
    "解释: 最大值出现在树的第 4 层，宽度为 8 (6,null,null,null,null,null,null,7)。\n",
    "```\n",
    "\n",
    "**注意:** 答案在32位有符号整数的表示范围内。\n",
    "\n"
   ]
  },
  {
   "cell_type": "code",
   "execution_count": null,
   "metadata": {},
   "outputs": [],
   "source": [
    "# Definition for a binary tree node.\n",
    "# class TreeNode(object):\n",
    "#     def __init__(self, x):\n",
    "#         self.val = x\n",
    "#         self.left = None\n",
    "#         self.right = None\n",
    "# 执行用时: 2056 ms, 在Maximum Width of Binary Tree的Python提交中击败了0.00% 的用户\n",
    "# 内存消耗: 17.5 MB, 在Maximum Width of Binary Tree的Python提交中击败了0.00% 的用户\n",
    "# Runtime: 1596 ms, faster than 1.13% of Python\n",
    "# Memory Usage: 17.3 MB, less than 100.00% of Python\n",
    "class Solution(object):\n",
    "    def widthOfBinaryTree(self, root):\n",
    "        \"\"\"\n",
    "        :type root: TreeNode\n",
    "        :rtype: int\n",
    "        \"\"\"\n",
    "        if not root: return 0\n",
    "        nodes = [[root]]\n",
    "        rtn = [1]\n",
    "        while len(nodes[-1]) > 0:\n",
    "            t = []\n",
    "            for i,node in enumerate(nodes[-1]):\n",
    "                if node:\n",
    "                    t.append(node.left if node.left else None)\n",
    "                    t.append(node.right if node.right else None)\n",
    "                else:\n",
    "                    t.append(None)\n",
    "                    t.append(None)\n",
    "            nodes.append(t)\n",
    "            while t and not t[0]:\n",
    "                del t[0]\n",
    "            while t and not t[-1]:\n",
    "                del t[-1]\n",
    "            rtn.append(len(t))\n",
    "        return max(rtn)"
   ]
  },
  {
   "cell_type": "markdown",
   "metadata": {},
   "source": [
    "## N叉树的前序遍历（E 589题）"
   ]
  },
  {
   "cell_type": "markdown",
   "metadata": {},
   "source": [
    "给定一个 N 叉树，返回其节点值的*前序遍历*。\n",
    "\n",
    "例如，给定一个 `3叉树` :\n",
    "\n",
    "![img](https://assets.leetcode-cn.com/aliyun-lc-upload/uploads/2018/10/12/narytreeexample.png)\n",
    "\n",
    "返回其前序遍历: `[1,3,5,6,2,4]`。\n",
    "\n",
    "**说明:** 递归法很简单，你可以使用迭代法完成此题吗?"
   ]
  },
  {
   "cell_type": "code",
   "execution_count": null,
   "metadata": {},
   "outputs": [],
   "source": [
    "# 使用递归的方法\n",
    "# \n",
    "\"\"\"\n",
    "# Definition for a Node.\n",
    "class Node(object):\n",
    "    def __init__(self, val, children):\n",
    "        self.val = val\n",
    "        self.children = children\n",
    "\"\"\"\n",
    "class Solution(object):\n",
    "    def preorder(self, root):\n",
    "        \"\"\"\n",
    "        :type root: Node\n",
    "        :rtype: List[int]\n",
    "        \"\"\"\n",
    "        vals = []\n",
    "        def dfs(root):\n",
    "            if root:\n",
    "                vals.append(root.val)\n",
    "                for node in root.children:\n",
    "                    dfs(node)\n",
    "                \n",
    "        dfs(root)\n",
    "        return vals"
   ]
  },
  {
   "cell_type": "code",
   "execution_count": null,
   "metadata": {},
   "outputs": [],
   "source": [
    "# 使用迭代的方法\n",
    "# Runtime: 104 ms, faster than 90.62% of Python\n",
    "# Memory Usage: 18.3 MB, less than 100.00% of Python\n",
    "\"\"\"\n",
    "# Definition for a Node.\n",
    "class Node(object):\n",
    "    def __init__(self, val, children):\n",
    "        self.val = val\n",
    "        self.children = children\n",
    "\"\"\"\n",
    "class Solution(object):\n",
    "    def preorder(self, root):\n",
    "        \"\"\"\n",
    "        :type root: Node\n",
    "        :rtype: List[int]\n",
    "        \"\"\"\n",
    "        vals = []\n",
    "        stack = root and [root]\n",
    "        \n",
    "        while stack:\n",
    "            node = stack.pop()\n",
    "            vals.append(node.val)\n",
    "            \n",
    "            if node.children:\n",
    "                stack += [node for node in node.children[::-1]]\n",
    "                \n",
    "        return vals"
   ]
  },
  {
   "cell_type": "markdown",
   "metadata": {},
   "source": [
    "## 对称二叉树（E 101题）"
   ]
  },
  {
   "cell_type": "markdown",
   "metadata": {},
   "source": [
    "给定一个二叉树，检查它是否是镜像对称的。\n",
    "\n",
    "例如，二叉树 `[1,2,2,3,4,4,3]` 是对称的。\n",
    "\n",
    "```\n",
    "    1\n",
    "   / \\\n",
    "  2   2\n",
    " / \\ / \\\n",
    "3  4 4  3\n",
    "```\n",
    "\n",
    "但是下面这个 `[1,2,2,null,3,null,3]` 则不是镜像对称的:\n",
    "\n",
    "```\n",
    "    1\n",
    "   / \\\n",
    "  2   2\n",
    "   \\   \\\n",
    "   3    3\n",
    "```\n",
    "\n",
    "**说明:**\n",
    "\n",
    "如果你可以运用递归和迭代两种方法解决这个问题，会很加分。"
   ]
  },
  {
   "cell_type": "code",
   "execution_count": null,
   "metadata": {},
   "outputs": [],
   "source": [
    "# Definition for a binary tree node.\n",
    "# class TreeNode(object):\n",
    "#     def __init__(self, x):\n",
    "#         self.val = x\n",
    "#         self.left = None\n",
    "#         self.right = None\n",
    "# 执行用时: 1660 ms, 在Symmetric Tree的Python提交中击败了0.99% 的用户\n",
    "# 内存消耗: 156.3 MB, 在Symmetric Tree的Python提交中击败了0.88% 的用户\n",
    "class Solution(object):\n",
    "    def isSymmetric(self, root):\n",
    "        \"\"\"\n",
    "        :type root: TreeNode\n",
    "        :rtype: bool\n",
    "        \"\"\"\n",
    "        if not root: return True\n",
    "        nodes_list = root and [[root]]\n",
    "        while any(nodes_list[-1]):\n",
    "            t = []\n",
    "            v = []\n",
    "            for node in nodes_list[-1]:\n",
    "                if node and (node.left or node.right):\n",
    "                    t.append(node.left if node.left else None)\n",
    "                    t.append(node.right if node.right else None)\n",
    "                else:\n",
    "                    t.append(None)\n",
    "                    t.append(None)\n",
    "                v.append(node.val if node else None)\n",
    "            if v != v[::-1]:\n",
    "                return False\n",
    "            nodes_list.append(t)\n",
    "        return True"
   ]
  },
  {
   "cell_type": "markdown",
   "metadata": {},
   "source": [
    "使用双迭代法"
   ]
  },
  {
   "cell_type": "code",
   "execution_count": null,
   "metadata": {},
   "outputs": [],
   "source": [
    "# Definition for a binary tree node.\n",
    "# class TreeNode(object):\n",
    "#     def __init__(self, x):\n",
    "#         self.val = x\n",
    "#         self.left = None\n",
    "#         self.right = None\n",
    "# Runtime: 36 ms, faster than 26.73% of Python\n",
    "# Memory Usage: 11 MB, less than 65.99% of Python\n",
    "class Solution(object):\n",
    "    def isSymmetric(self, root):\n",
    "        \"\"\"\n",
    "        :type root: TreeNode\n",
    "        :rtype: bool\n",
    "        \"\"\"\n",
    "        if not root: return True\n",
    "        stack = [root, root]\n",
    "        while stack:\n",
    "            n1 = stack.pop()\n",
    "            n2 = stack.pop()\n",
    "            \n",
    "            if n1 is None and n2 is None: continue\n",
    "            if not n1 or not n2: return False\n",
    "            if n1.val != n2.val: return False\n",
    "            stack.append(n1.left)\n",
    "            stack.append(n2.right)\n",
    "            stack.append(n1.right)\n",
    "            stack.append(n2.left)\n",
    "        return True"
   ]
  },
  {
   "cell_type": "markdown",
   "metadata": {},
   "source": [
    "使用递归方法"
   ]
  },
  {
   "cell_type": "code",
   "execution_count": null,
   "metadata": {},
   "outputs": [],
   "source": [
    "# Definition for a binary tree node.\n",
    "# class TreeNode(object):\n",
    "#     def __init__(self, x):\n",
    "#         self.val = x\n",
    "#         self.left = None\n",
    "#         self.right = None\n",
    "# Runtime: 24 ms, faster than 100.00% of Python\n",
    "# Memory Usage: 10.9 MB, less than 86.55% of Python\n",
    "class Solution(object):\n",
    "    def isSymmetric(self, root):\n",
    "        \"\"\"\n",
    "        :type root: TreeNode\n",
    "        :rtype: bool\n",
    "        \"\"\"\n",
    "        return self.dfs(root, root)\n",
    "    \n",
    "    def dfs(self, root1, root2):\n",
    "        if not root1 and not root2: return True\n",
    "        if not root1 or not root2: return False\n",
    "        \n",
    "        return root1.val == root2.val and \\\n",
    "                self.dfs(root1.left, root2.right) and \\\n",
    "                self.dfs(root1.right, root2.left)"
   ]
  },
  {
   "cell_type": "markdown",
   "metadata": {},
   "source": [
    "## 路径总和（E 112题）"
   ]
  },
  {
   "cell_type": "markdown",
   "metadata": {},
   "source": [
    "给定一个二叉树和一个目标和，判断该树中是否存在根节点到叶子节点的路径，这条路径上所有节点值相加等于目标和。\n",
    "\n",
    "**说明:** 叶子节点是指没有子节点的节点。\n",
    "\n",
    "**示例:** \n",
    "给定如下二叉树，以及目标和 `sum = 22`，\n",
    "\n",
    "```\n",
    "              5\n",
    "             / \\\n",
    "            4   8\n",
    "           /   / \\\n",
    "          11  13  4\n",
    "         /  \\      \\\n",
    "        7    2      1\n",
    "```\n",
    "\n",
    "返回 `true`, 因为存在目标和为 22 的根节点到叶子节点的路径 `5->4->11->2`。"
   ]
  },
  {
   "cell_type": "code",
   "execution_count": null,
   "metadata": {},
   "outputs": [],
   "source": [
    "# Definition for a binary tree node.\n",
    "# class TreeNode(object):\n",
    "#     def __init__(self, x):\n",
    "#         self.val = x\n",
    "#         self.left = None\n",
    "#         self.right = None\n",
    "# 执行用时: 44 ms, 在Path Sum的Python提交中击败了95.81% 的用户\n",
    "# 内存消耗: 11.1 MB, 在Path Sum的Python提交中击败了56.41% 的用户\n",
    "class Solution(object):\n",
    "    def hasPathSum(self, root, sum):\n",
    "        \"\"\"\n",
    "        :type root: TreeNode\n",
    "        :type sum: int\n",
    "        :rtype: bool\n",
    "        \"\"\"\n",
    "        t = 0\n",
    "        if self.dfs(root, sum, t):\n",
    "            return True\n",
    "        else:\n",
    "            return False\n",
    "    \n",
    "    def dfs(self, root, total, t):\n",
    "        if not root:\n",
    "            return False\n",
    "        if root:\n",
    "            t += root.val\n",
    "        if not root.left and not root.right and t == total:\n",
    "            return True\n",
    "        \n",
    "        left = self.dfs(root.left, total, t)\n",
    "        right = self.dfs(root.right, total, t)\n",
    "        \n",
    "        return left or right"
   ]
  },
  {
   "cell_type": "markdown",
   "metadata": {},
   "source": [
    "迭代的 DFS 方法："
   ]
  },
  {
   "cell_type": "code",
   "execution_count": null,
   "metadata": {},
   "outputs": [],
   "source": [
    "def hasPathSum(self, root, sum):\n",
    "    if not root:\n",
    "        return False\n",
    "    stack = [(root, root.val)]\n",
    "    while stack:\n",
    "        curr, val = stack.pop()\n",
    "        if not curr.left and not curr.right:\n",
    "            if val == sum:\n",
    "                return True\n",
    "        if curr.right:\n",
    "            stack.append((curr.right, val+curr.right.val))\n",
    "        if curr.left:\n",
    "            stack.append((curr.left, val+curr.left.val))\n",
    "    return False"
   ]
  },
  {
   "cell_type": "markdown",
   "metadata": {},
   "source": [
    "迭代 BFS 方法："
   ]
  },
  {
   "cell_type": "code",
   "execution_count": null,
   "metadata": {},
   "outputs": [],
   "source": [
    "def hasPathSum(self, root, sum):\n",
    "    if not root:\n",
    "        return False\n",
    "    queue = [(root, sum-root.val)]\n",
    "    while queue:\n",
    "        curr, val = queue.pop(0)\n",
    "        if not curr.left and not curr.right:\n",
    "            if val == 0:\n",
    "                return True\n",
    "        if curr.left:\n",
    "            queue.append((curr.left, val-curr.left.val))\n",
    "        if curr.right:\n",
    "            queue.append((curr.right, val-curr.right.val))\n",
    "    return False"
   ]
  },
  {
   "cell_type": "markdown",
   "metadata": {},
   "source": [
    "## 求根到叶子节点数字之和（M 129题）"
   ]
  },
  {
   "cell_type": "markdown",
   "metadata": {},
   "source": [
    "给定一个二叉树，它的每个结点都存放一个 `0-9` 的数字，每条从根到叶子节点的路径都代表一个数字。\n",
    "\n",
    "例如，从根到叶子节点路径 `1->2->3` 代表数字 `123`。\n",
    "\n",
    "计算从根到叶子节点生成的所有数字之和。\n",
    "\n",
    "**说明:** 叶子节点是指没有子节点的节点。\n",
    "\n",
    "**示例 1:**\n",
    "\n",
    "```\n",
    "输入: [1,2,3]\n",
    "    1\n",
    "   / \\\n",
    "  2   3\n",
    "输出: 25\n",
    "解释:\n",
    "从根到叶子节点路径 1->2 代表数字 12.\n",
    "从根到叶子节点路径 1->3 代表数字 13.\n",
    "因此，数字总和 = 12 + 13 = 25.\n",
    "```\n",
    "\n",
    "**示例 2:**\n",
    "\n",
    "```\n",
    "输入: [4,9,0,5,1]\n",
    "    4\n",
    "   / \\\n",
    "  9   0\n",
    " / \\\n",
    "5   1\n",
    "输出: 1026\n",
    "解释:\n",
    "从根到叶子节点路径 4->9->5 代表数字 495.\n",
    "从根到叶子节点路径 4->9->1 代表数字 491.\n",
    "从根到叶子节点路径 4->0 代表数字 40.\n",
    "因此，数字总和 = 495 + 491 + 40 = 1026.\n",
    "```"
   ]
  },
  {
   "cell_type": "code",
   "execution_count": null,
   "metadata": {},
   "outputs": [],
   "source": [
    "# Definition for a binary tree node.\n",
    "# class TreeNode(object):\n",
    "#     def __init__(self, x):\n",
    "#         self.val = x\n",
    "#         self.left = None\n",
    "#         self.right = None\n",
    "# 执行用时: 40 ms, 在Sum Root to Leaf Numbers的Python提交中击败了9.09% 的用户\n",
    "# 内存消耗: 7.4 MB, 在Sum Root to Leaf Numbers的Python提交中击败了64.52% 的用户\n",
    "class Solution(object):\n",
    "    def sumNumbers(self, root):\n",
    "        \"\"\"\n",
    "        :type root: TreeNode\n",
    "        :rtype: int\n",
    "        \"\"\"\n",
    "        if not root: return 0\n",
    "        p = str(root.val)\n",
    "        self.rtn = 0\n",
    "        def dfs(root, p):\n",
    "            if not root:\n",
    "                return 0\n",
    "            if not root.left and not root.right:\n",
    "                self.rtn += int(p)\n",
    "            dfs(root.left, p + str(root.left.val) if root.left else p )\n",
    "            dfs(root.right, p + str(root.right.val) if root.right else p)\n",
    "        dfs(root, p)\n",
    "        return self.rtn"
   ]
  },
  {
   "cell_type": "markdown",
   "metadata": {},
   "source": [
    "DFS 与 stack 迭代方式"
   ]
  },
  {
   "cell_type": "code",
   "execution_count": null,
   "metadata": {},
   "outputs": [],
   "source": [
    "def sumNumbers(self, root):\n",
    "    if not root: return 0\n",
    "    stack, res = [(root, root.val)], 0\n",
    "    while stack:\n",
    "        node, value = stack.pop()\n",
    "        if node:\n",
    "            if not node.left and not node.right:\n",
    "                res += value\n",
    "            if node.right:\n",
    "                stack.append((node.right, value * 10 + node.right.val))\n",
    "            if node.left:\n",
    "                stack.append((node.left, value * 10 + node.left.val))\n",
    "    return res"
   ]
  },
  {
   "cell_type": "markdown",
   "metadata": {},
   "source": [
    "BFS 与 QUEUE 迭代方式"
   ]
  },
  {
   "cell_type": "code",
   "execution_count": null,
   "metadata": {},
   "outputs": [],
   "source": [
    "def sumNumbers(self, root):\n",
    "    if not root:\n",
    "        return 0\n",
    "    queue, res = collections.deque([(root, root.val)]), 0\n",
    "    while queue:\n",
    "        node, value = queue.popleft()\n",
    "        if node:\n",
    "            if not node.left and not node.right:\n",
    "                res += value\n",
    "            if node.left:\n",
    "                queue.append((node.left, value*10+node.left.val))\n",
    "            if node.right:\n",
    "                queue.append((node.right, value*10+node.right.val))\n",
    "    return res"
   ]
  },
  {
   "cell_type": "markdown",
   "metadata": {},
   "source": [
    "递归方法"
   ]
  },
  {
   "cell_type": "code",
   "execution_count": null,
   "metadata": {},
   "outputs": [],
   "source": [
    "def sumNumbers(self, root):\n",
    "    self.res = 0\n",
    "    self.dfs(root, 0)\n",
    "    return self.res\n",
    "    \n",
    "def dfs(self, root, value):\n",
    "    if root:\n",
    "        self.dfs(root.left, value * 10 + root.val)\n",
    "        self.dfs(root.right, value * 10 + root.val)\n",
    "        if not root.left and not root.right:\n",
    "            self.res += value * 10 + root.val"
   ]
  },
  {
   "cell_type": "markdown",
   "metadata": {},
   "source": [
    "## 二叉树展开为链表（M 114题）"
   ]
  },
  {
   "cell_type": "markdown",
   "metadata": {},
   "source": [
    "给定一个二叉树，[原地](https://baike.baidu.com/item/%E5%8E%9F%E5%9C%B0%E7%AE%97%E6%B3%95/8010757)将它展开为链表。\n",
    "\n",
    "例如，给定二叉树\n",
    "\n",
    "```\n",
    "    1\n",
    "   / \\\n",
    "  2   5\n",
    " / \\   \\\n",
    "3   4   6\n",
    "```\n",
    "\n",
    "将其展开为：\n",
    "\n",
    "```\n",
    "1\n",
    " \\\n",
    "  2\n",
    "   \\\n",
    "    3\n",
    "     \\\n",
    "      4\n",
    "       \\\n",
    "        5\n",
    "         \\\n",
    "          6\n",
    "```"
   ]
  },
  {
   "cell_type": "code",
   "execution_count": null,
   "metadata": {},
   "outputs": [],
   "source": [
    "# Definition for a binary tree node.\n",
    "# class TreeNode(object):\n",
    "#     def __init__(self, x):\n",
    "#         self.val = x\n",
    "#         self.left = None\n",
    "#         self.right = None\n",
    "# 执行用时: 36 ms, 在Flatten Binary Tree to Linked List的Python提交中击败了59.02% 的用户\n",
    "# 内存消耗: 7.6 MB, 在Flatten Binary Tree to Linked List的Python提交中击败了87.88% 的用户\n",
    "\n",
    "class Solution(object):\n",
    "    def flatten(self, root):\n",
    "        \"\"\"\n",
    "        :type root: TreeNode\n",
    "        :rtype: void Do not return anything, modify root in-place instead.\n",
    "        \"\"\"\n",
    "        if not root: return root\n",
    "        stack = [root]\n",
    "        nodes = []\n",
    "        while stack:\n",
    "            node = stack.pop()\n",
    "            nodes.append(node)\n",
    "            if node.right:\n",
    "                stack.append(node.right)\n",
    "            if node.left:\n",
    "                stack.append(node.left)\n",
    "        for i,node in enumerate(nodes[:-1]):\n",
    "            node.left = None\n",
    "            node.right = nodes[i+1]"
   ]
  },
  {
   "cell_type": "markdown",
   "metadata": {},
   "source": [
    "后续遍历法"
   ]
  },
  {
   "cell_type": "code",
   "execution_count": null,
   "metadata": {},
   "outputs": [],
   "source": [
    "class Solution(object):\n",
    "    def flatten(self, root):\n",
    "        \"\"\"\n",
    "        :type root: TreeNode\n",
    "        :rtype: void Do not return anything, modify root in-place instead.\n",
    "        \"\"\"\n",
    "        self.prev = None\n",
    "        \n",
    "        def dfsr(root):\n",
    "            if not root: return ;\n",
    "            dfsr(root.right)\n",
    "            dfsr(root.left)\n",
    "            root.right = self.prev\n",
    "            root.left = null\n",
    "            self.prev = root\n",
    "        dfsr(root)"
   ]
  },
  {
   "cell_type": "code",
   "execution_count": 32,
   "metadata": {},
   "outputs": [
    {
     "data": {
      "text/plain": [
       "['Shogun']"
      ]
     },
     "execution_count": 32,
     "metadata": {},
     "output_type": "execute_result"
    }
   ],
   "source": [
    "class Solution(object):\n",
    "    def findRestaurant(self, list1, list2):\n",
    "        \"\"\"\n",
    "        :type list1: List[str]\n",
    "        :type list2: List[str]\n",
    "        :rtype: List[str]\n",
    "        \"\"\"\n",
    "        d1 = {name:i for i,name in enumerate(list1)}\n",
    "        rtn = {}\n",
    "        for i, name in enumerate(list2):\n",
    "            if name in d1:\n",
    "                rtn[name] = d1[name] + i\n",
    "        m = min(rtn.values())\n",
    "        r = []\n",
    "        for key,value in rtn.items():\n",
    "            if value == m:\n",
    "                r.append(key)\n",
    "        return r\n",
    "        \n",
    "l1 = [\"Shogun\",\"Tapioca Express\",\"Burger King\",\"KFC\"]\n",
    "l2 = [\"Piatti\",\"The Grill at Torrey Pines\",\"Hungry Hunter Steakhouse\",\"Shogun\"]\n",
    "s = Solution()\n",
    "s.findRestaurant(l1, l2)"
   ]
  },
  {
   "cell_type": "code",
   "execution_count": 48,
   "metadata": {},
   "outputs": [
    {
     "data": {
      "text/plain": [
       "True"
      ]
     },
     "execution_count": 48,
     "metadata": {},
     "output_type": "execute_result"
    }
   ],
   "source": [
    "not 4 & 3"
   ]
  },
  {
   "cell_type": "code",
   "execution_count": 45,
   "metadata": {},
   "outputs": [
    {
     "data": {
      "text/plain": [
       "16"
      ]
     },
     "execution_count": 45,
     "metadata": {},
     "output_type": "execute_result"
    }
   ],
   "source": [
    "2**4"
   ]
  },
  {
   "cell_type": "code",
   "execution_count": null,
   "metadata": {},
   "outputs": [],
   "source": []
  }
 ],
 "metadata": {
  "kernelspec": {
   "display_name": "Python 3",
   "language": "python",
   "name": "python3"
  },
  "language_info": {
   "codemirror_mode": {
    "name": "ipython",
    "version": 3
   },
   "file_extension": ".py",
   "mimetype": "text/x-python",
   "name": "python",
   "nbconvert_exporter": "python",
   "pygments_lexer": "ipython3",
   "version": "3.6.7"
  },
  "toc": {
   "base_numbering": 1,
   "nav_menu": {},
   "number_sections": true,
   "sideBar": true,
   "skip_h1_title": false,
   "title_cell": "Table of Contents",
   "title_sidebar": "Contents",
   "toc_cell": false,
   "toc_position": {},
   "toc_section_display": true,
   "toc_window_display": true
  }
 },
 "nbformat": 4,
 "nbformat_minor": 2
}
