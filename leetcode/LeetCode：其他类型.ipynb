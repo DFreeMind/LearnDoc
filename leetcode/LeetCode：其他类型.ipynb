{
 "cells": [
  {
   "cell_type": "markdown",
   "metadata": {},
   "source": [
    "# 数学"
   ]
  },
  {
   "cell_type": "markdown",
   "metadata": {},
   "source": [
    "## 3 的幂数\n",
    "- [326. Power of Three](https://leetcode.com/articles/power-of-three/)"
   ]
  },
  {
   "cell_type": "markdown",
   "metadata": {},
   "source": [
    "给定一个整数，写一个函数来判断它是否是 3 的幂次方。\n",
    "\n",
    "示例 1:\n",
    "```python\n",
    "输入: 27\n",
    "输出: true\n",
    "```\n",
    "示例 2:\n",
    "```python\n",
    "输入: 0\n",
    "输出: false\n",
    "```\n",
    "示例 4:\n",
    "```python\n",
    "输入: 45\n",
    "输出: false\n",
    "```\n",
    "\n",
    "进阶：你能不使用循环或者递归来完成本题吗？"
   ]
  },
  {
   "cell_type": "code",
   "execution_count": null,
   "metadata": {},
   "outputs": [],
   "source": [
    "# 啰嗦的写法\n",
    "class Solution:\n",
    "    def isPowerOfThree(self, n):\n",
    "        \"\"\"\n",
    "        :type n: int\n",
    "        :rtype: bool\n",
    "        \"\"\"\n",
    "        if n == 0:\n",
    "            return False\n",
    "        if n == 1:\n",
    "            return True\n",
    "        while True:\n",
    "            print(n % 3)\n",
    "            if n % 3 != 0:\n",
    "                return False\n",
    "            n = n // 3\n",
    "            if n == 1:\n",
    "                return True\n",
    "            \n",
    "        return True"
   ]
  },
  {
   "cell_type": "code",
   "execution_count": 1,
   "metadata": {},
   "outputs": [],
   "source": [
    "# 相对简洁的写法\n",
    "class Solution:\n",
    "    def isPowerOfThree(self, n):\n",
    "        if n < 1:\n",
    "            return False\n",
    "        while n > 1:\n",
    "            if n % 3 == 0:\n",
    "                n = n // 3\n",
    "            else:\n",
    "                return False\n",
    "        return True"
   ]
  },
  {
   "cell_type": "code",
   "execution_count": null,
   "metadata": {},
   "outputs": [],
   "source": [
    "# 更简洁的写法\n",
    "class Solution:\n",
    "    def isPowerOfThree(self, n):\n",
    "        \"\"\"\n",
    "        :type n: int\n",
    "        :rtype: bool\n",
    "        \"\"\"\n",
    "        if n<1:\n",
    "            return False\n",
    "        \n",
    "        while n%3 == 0:\n",
    "            n/=3\n",
    "        return n == 1"
   ]
  },
  {
   "cell_type": "code",
   "execution_count": null,
   "metadata": {},
   "outputs": [],
   "source": [
    "# 最简单，以及最快的方法\n",
    "return n > 0 && 1162261467 % n == 0;"
   ]
  },
  {
   "cell_type": "code",
   "execution_count": 2,
   "metadata": {},
   "outputs": [
    {
     "data": {
      "text/plain": [
       "4"
      ]
     },
     "execution_count": 2,
     "metadata": {},
     "output_type": "execute_result"
    }
   ],
   "source": [
    "[0,0,0,0,1].count(0)"
   ]
  },
  {
   "cell_type": "code",
   "execution_count": 10,
   "metadata": {},
   "outputs": [],
   "source": [
    "class Solution:\n",
    "    def numSubarraysWithSum(self, A, S):\n",
    "        \"\"\"\n",
    "        :type A: List[int]\n",
    "        :type S: int\n",
    "        :rtype: int\n",
    "        \"\"\"\n",
    "        if sum(A) < S:\n",
    "            return 0\n",
    "        \n",
    "        if S == 0:\n",
    "            return self.zero(A)\n",
    "        \n",
    "        \n",
    "    \n",
    "    def zero(self, A):\n",
    "        numz = 0\n",
    "        rtn = 0\n",
    "        i = 0\n",
    "        while i < len(A):\n",
    "            if A[i] == 0 and i != len(A) - 1:\n",
    "                numz += 1\n",
    "            else:\n",
    "                if A[i] == 0:\n",
    "                    numz += 1\n",
    "                rtn += numz * (numz + 1) // 2\n",
    "                numz = 1\n",
    "            i += 1\n",
    "        return rtn\n",
    "    \n",
    "    def unzero(self, A, S):\n",
    "        anchor, left, right = 0, 0, 0\n",
    "        lflag, rflag = True, True\n",
    "        lzero, rzero = 0, 0\n",
    "        \n",
    "        total = 0\n",
    "        rtn = 0\n",
    "        for i,num in enumerate(A):\n",
    "            total += num\n",
    "            if num == 1 and lflag:\n",
    "                left = i\n",
    "                lflag = False\n",
    "                continue\n",
    "            if num == 0 and lflag:\n",
    "                lzero += 1\n",
    "                \n",
    "            if total == S and rflag:\n",
    "                if num == 1:\n",
    "                    rflag = i\n",
    "                    rflag = False\n",
    "            elif total > S:\n",
    "                rzero += 1\n",
    "                if lzero == 0:\n",
    "                    lzero = 1\n",
    "                if rzero == 0:\n",
    "                    rzero = 1\n",
    "                rtn += lzero * rzero\n",
    "                \n",
    "                \n",
    "                \n",
    "        \n",
    "        "
   ]
  },
  {
   "cell_type": "code",
   "execution_count": 11,
   "metadata": {},
   "outputs": [
    {
     "name": "stdout",
     "output_type": "stream",
     "text": [
      "CPU times: user 12 µs, sys: 1 µs, total: 13 µs\n",
      "Wall time: 16.7 µs\n"
     ]
    },
    {
     "data": {
      "text/plain": [
       "15"
      ]
     },
     "execution_count": 11,
     "metadata": {},
     "output_type": "execute_result"
    }
   ],
   "source": [
    "A = [0,0,0,0,0]; S = 0 # 15\n",
    "s = Solution()\n",
    "%time s.numSubarraysWithSum(A, S)"
   ]
  },
  {
   "cell_type": "code",
   "execution_count": null,
   "metadata": {},
   "outputs": [],
   "source": []
  },
  {
   "cell_type": "code",
   "execution_count": null,
   "metadata": {},
   "outputs": [],
   "source": []
  },
  {
   "cell_type": "code",
   "execution_count": null,
   "metadata": {},
   "outputs": [],
   "source": []
  },
  {
   "cell_type": "code",
   "execution_count": null,
   "metadata": {},
   "outputs": [],
   "source": []
  },
  {
   "cell_type": "code",
   "execution_count": null,
   "metadata": {},
   "outputs": [],
   "source": []
  },
  {
   "cell_type": "code",
   "execution_count": null,
   "metadata": {},
   "outputs": [],
   "source": []
  },
  {
   "cell_type": "code",
   "execution_count": null,
   "metadata": {},
   "outputs": [],
   "source": []
  },
  {
   "cell_type": "code",
   "execution_count": null,
   "metadata": {},
   "outputs": [],
   "source": []
  },
  {
   "cell_type": "code",
   "execution_count": null,
   "metadata": {},
   "outputs": [],
   "source": []
  },
  {
   "cell_type": "code",
   "execution_count": null,
   "metadata": {},
   "outputs": [],
   "source": []
  },
  {
   "cell_type": "code",
   "execution_count": null,
   "metadata": {},
   "outputs": [],
   "source": []
  },
  {
   "cell_type": "code",
   "execution_count": null,
   "metadata": {},
   "outputs": [],
   "source": []
  }
 ],
 "metadata": {
  "kernelspec": {
   "display_name": "Python 3",
   "language": "python",
   "name": "python3"
  },
  "language_info": {
   "codemirror_mode": {
    "name": "ipython",
    "version": 3
   },
   "file_extension": ".py",
   "mimetype": "text/x-python",
   "name": "python",
   "nbconvert_exporter": "python",
   "pygments_lexer": "ipython3",
   "version": "3.6.7"
  },
  "toc": {
   "base_numbering": 1,
   "nav_menu": {},
   "number_sections": true,
   "sideBar": true,
   "skip_h1_title": false,
   "title_cell": "Table of Contents",
   "title_sidebar": "Contents",
   "toc_cell": false,
   "toc_position": {},
   "toc_section_display": true,
   "toc_window_display": true
  }
 },
 "nbformat": 4,
 "nbformat_minor": 2
}
