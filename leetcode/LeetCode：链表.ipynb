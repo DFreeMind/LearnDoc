{
 "cells": [
  {
   "cell_type": "markdown",
   "metadata": {},
   "source": [
    "# 链表的基本知识"
   ]
  },
  {
   "cell_type": "markdown",
   "metadata": {},
   "source": [
    "## 简介"
   ]
  },
  {
   "cell_type": "markdown",
   "metadata": {},
   "source": [
    "- [python数据结构之链表（linked list）](https://blog.csdn.net/qq_39422642/article/details/78988976)\n",
    "- [python数据结构-链表](http://zhaochj.github.io/2016/05/12/2016-05-12-%E6%95%B0%E6%8D%AE%E7%BB%93%E6%9E%84-%E9%93%BE%E8%A1%A8/)"
   ]
  },
  {
   "cell_type": "markdown",
   "metadata": {},
   "source": [
    "![链表](https://wx1.sinaimg.cn/large/69d4185bly1fzs724p6y7j20id07gq3r.jpg)\n",
    "\n",
    "链表中的基本要素：\n",
    "\n",
    "- 结点(也可以叫节点或元素)，每一个结点有两个域，左边部份叫值域，用于存放用户数据；右边叫指针域，一般是存储着到下一个元素的指针\n",
    "- head结点，head是一个特殊的结节，head结点永远指向第一个结点\n",
    "- tail结点，tail结点也是一个特殊的结点，tail结点永远指向最后一个节点\n",
    "- None，链表中最后一个结点指针域的指针指向None值，因也叫接地点，所以有些资料上用电气上的接地符号代表None\n"
   ]
  },
  {
   "cell_type": "markdown",
   "metadata": {},
   "source": [
    "链表的常用方法：\n",
    "\n",
    "- LinkedList() 创建空链表，不需要参数，返回值是空链表\n",
    "- is_empty() 测试链表是否为空，不需要参数，返回值是布尔值\n",
    "- append(data) 在尾部增加一个元素作为列表最后一个。参数是要追加的元素，无返回值\n",
    "- iter() 遍历链表，无参数，无返回值，此方法一般是一个生成器\n",
    "- insert(idx,value) 插入一个元素，参数为插入元素的索引和值\n",
    "- remove(idx)移除1个元素，参数为要移除的元素或索引，并修改链表\n",
    "- size() 返回链表的元素数，不需要参数，返回值是个整数\n",
    "- search(item) 查找链表某元素，参数为要查找的元素或索引，返回是布尔值"
   ]
  },
  {
   "cell_type": "code",
   "execution_count": null,
   "metadata": {},
   "outputs": [],
   "source": []
  },
  {
   "cell_type": "markdown",
   "metadata": {},
   "source": [
    "# 应用"
   ]
  },
  {
   "cell_type": "markdown",
   "metadata": {},
   "source": [
    "## 删除链表中的节点（E 237题）\n",
    "- [237. Delete Node in a Linked List](https://leetcode.com/articles/delete-node-linked-list/)\n",
    "- [237. 删除链表中的节点](https://leetcode-cn.com/articles/delete-node-in-a-linked-list/)"
   ]
  },
  {
   "cell_type": "markdown",
   "metadata": {},
   "source": [
    "请编写一个函数，使其可以删除某个链表中给定的（非末尾）节点，你将只被给定要求被删除的节点。现有一个链表 -- head = [4,5,1,9]，它可以表示为:\n",
    "![链表](https://ws2.sinaimg.cn/large/69d4185bly1fzt26u8ispj20az01t745.jpg)\n",
    "示例 1:\n",
    "```python\n",
    "输入: head = [4,5,1,9], node = 5\n",
    "输出: [4,1,9]\n",
    "解释: 给定你链表中值为 5 的第二个节点，那么在调用了你的函数之后，该链表应变为 4 -> 1 -> 9.\n",
    "```\n",
    "示例 2:\n",
    "```python\n",
    "输入: head = [4,5,1,9], node = 1\n",
    "输出: [4,5,9]\n",
    "解释: 给定你链表中值为 1 的第三个节点，那么在调用了你的函数之后，该链表应变为 4 -> 5 -> 9.\n",
    "```\n",
    "\n",
    "说明:\n",
    "- 链表至少包含两个节点。\n",
    "- 链表中所有节点的值都是唯一的。\n",
    "- 给定的节点为非末尾节点并且一定是链表中的一个有效节点。\n",
    "- 不要从你的函数中返回任何结果。"
   ]
  },
  {
   "cell_type": "markdown",
   "metadata": {},
   "source": [
    "**官方解法**\n",
    "\n",
    "从链表里删除一个节点 node 的最常见方法是修改之前节点的 next 指针，使其指向之后的节点。\n",
    "![img](https://wx3.sinaimg.cn/large/69d4185bly1fzt2g6smw4j20im03c0so.jpg)\n",
    "\n",
    "因为我们无法访问我们想要删除的节点之前的节点，我们始终不能修改该节点的 next 指针。相反，我们必须将想要删除的节点的值替换为它后面节点中的值，然后删除它之后的节点。\n",
    "![img](https://ws1.sinaimg.cn/large/69d4185bly1fzt2h1ckelj20im02cmx1.jpg)\n",
    "![img](https://ws3.sinaimg.cn/large/69d4185bly1fzt2gj6cztj20im03cglj.jpg)\n",
    "![img](https://ws1.sinaimg.cn/large/69d4185bly1fzt2hb80jaj20fc02cwec.jpg)\n",
    "  \n",
    "因为我们知道要删除的节点不是列表的末尾，所以我们可以保证这种方法是可行的。"
   ]
  },
  {
   "cell_type": "code",
   "execution_count": null,
   "metadata": {},
   "outputs": [],
   "source": [
    "# Definition for singly-linked list.\n",
    "# class ListNode:\n",
    "#     def __init__(self, x):\n",
    "#         self.val = x\n",
    "#         self.next = None\n",
    "\n",
    "class Solution:\n",
    "    def deleteNode(self, node):\n",
    "        \"\"\"\n",
    "        :type node: ListNode\n",
    "        :rtype: void Do not return anything, modify node in-place instead.\n",
    "        \"\"\"\n",
    "        node.val = node.next.val\n",
    "        node.next = node.next.next"
   ]
  },
  {
   "cell_type": "markdown",
   "metadata": {},
   "source": [
    "## 删除链表的倒数第N个节点 （M 19题）\n",
    "- [19. 删除链表的倒数第N个节点](https://leetcode-cn.com/articles/remove-nth-node-from-end-of-list/)\n",
    "- [19. Remove Nth Node From End of List](https://leetcode.com/articles/remove-nth-node-from-end-of-list/)"
   ]
  },
  {
   "cell_type": "markdown",
   "metadata": {},
   "source": [
    "给定一个链表，删除链表的倒数第 n 个节点，并且返回链表的头结点。\n",
    "\n",
    "示例：\n",
    "```python\n",
    "给定一个链表: 1->2->3->4->5, 和 n = 2.\n",
    "当删除了倒数第二个节点后，链表变为 1->2->3->5.\n",
    "```\n",
    "说明：给定的 n 保证是有效的。\n",
    "\n",
    "进阶：你能尝试使用一趟扫描实现吗？\n",
    "\n",
    "需要额外空间的解法："
   ]
  },
  {
   "cell_type": "code",
   "execution_count": null,
   "metadata": {},
   "outputs": [],
   "source": [
    "# Definition for singly-linked list.\n",
    "# class ListNode:\n",
    "#     def __init__(self, x):\n",
    "#         self.val = x\n",
    "#         self.next = None\n",
    "\n",
    "class Solution:\n",
    "    def removeNthFromEnd(self, head, n):\n",
    "        \"\"\"\n",
    "        :type head: ListNode\n",
    "        :type n: int\n",
    "        :rtype: ListNode\n",
    "        \"\"\"\n",
    "        size = 0\n",
    "        curr = head\n",
    "        nodes = [curr]\n",
    "        while curr:\n",
    "            nodes.append(curr)\n",
    "            curr = curr.next\n",
    "            size += 1\n",
    "        print(size)\n",
    "        if size == n:\n",
    "            head = head.next\n",
    "        elif size == 1:\n",
    "            nodes[-2].next = None\n",
    "        else:\n",
    "            nodes[- (n + 1)].next = nodes[-n].next\n",
    "            \n",
    "        return head "
   ]
  },
  {
   "cell_type": "markdown",
   "metadata": {},
   "source": [
    "双指针方法\n",
    "```java\n",
    "public ListNode removeNthFromEnd(ListNode head, int n) {\n",
    "    ListNode dummy = new ListNode(0);\n",
    "    dummy.next = head;\n",
    "    ListNode first = dummy;\n",
    "    ListNode second = dummy;\n",
    "    // Advances first pointer so that the gap between first and second is n nodes apart\n",
    "    for (int i = 1; i <= n + 1; i++) {\n",
    "        first = first.next;\n",
    "    }\n",
    "    // Move first to the end, maintaining the gap\n",
    "    while (first != null) {\n",
    "        first = first.next;\n",
    "        second = second.next;\n",
    "    }\n",
    "    second.next = second.next.next;\n",
    "    return dummy.next;\n",
    "}\n",
    "```"
   ]
  },
  {
   "cell_type": "code",
   "execution_count": null,
   "metadata": {},
   "outputs": [],
   "source": [
    "# Definition for singly-linked list.\n",
    "# class ListNode:\n",
    "#     def __init__(self, x):\n",
    "#         self.val = x\n",
    "#         self.next = None\n",
    "\n",
    "class Solution:\n",
    "    def removeNthFromEnd(self, head, n):\n",
    "        \"\"\"\n",
    "        :type head: ListNode\n",
    "        :type n: int\n",
    "        :rtype: ListNode\n",
    "        \"\"\"\n",
    "        dummy = ListNode(0)\n",
    "        dummy.next = head\n",
    "        first = dummy\n",
    "        second = dummy\n",
    "        \n",
    "        for _ in range(n+1):\n",
    "            first = first.next\n",
    "            \n",
    "        while not first:\n",
    "            first = first.next\n",
    "            second = second.next\n",
    "        second.next = second.next.next\n",
    "        return dummy.next"
   ]
  },
  {
   "cell_type": "markdown",
   "metadata": {},
   "source": [
    "## 合并两个有序链表（E 21题）\n",
    "- [Python solutions (iteratively, recursively, iteratively in-place).](https://leetcode.com/problems/merge-two-sorted-lists/discuss/9735/Python-solutions-(iteratively-recursively-iteratively-in-place).)"
   ]
  },
  {
   "cell_type": "markdown",
   "metadata": {},
   "source": [
    "将两个有序链表合并为一个新的有序链表并返回。新链表是通过拼接给定的两个链表的所有节点组成的。 \n",
    "\n",
    "示例：\n",
    "```python\n",
    "输入：1->2->4, 1->3->4\n",
    "输出：1->1->2->3->4->4\n",
    "```"
   ]
  },
  {
   "cell_type": "code",
   "execution_count": null,
   "metadata": {},
   "outputs": [],
   "source": [
    "# Definition for singly-linked list.\n",
    "# class ListNode:\n",
    "#     def __init__(self, x):\n",
    "#         self.val = x\n",
    "#         self.next = None\n",
    "# 208 / 208 个通过测试用例； 执行用时：56 ms； 89.07%\n",
    "class Solution:\n",
    "    def mergeTwoLists(self, l1, l2):\n",
    "        \"\"\"\n",
    "        :type l1: ListNode\n",
    "        :type l2: ListNode\n",
    "        :rtype: ListNode\n",
    "        \"\"\"\n",
    "        if not l1: return l2\n",
    "        if not l2: return l1\n",
    "        dummy = ListNode(0)\n",
    "        curr = dummy\n",
    "        while l1 and l2:\n",
    "            if l1.val < l2.val:\n",
    "                curr.next = l1\n",
    "                curr = curr.next\n",
    "                l1 = l1.next\n",
    "            else:\n",
    "                curr.next = l2\n",
    "                curr = curr.next\n",
    "                l2 = l2.next\n",
    "        if l1:\n",
    "            curr.next = l1\n",
    "        if l2:\n",
    "            curr.next = l2\n",
    "        \n",
    "        return dummy.next"
   ]
  },
  {
   "cell_type": "markdown",
   "metadata": {},
   "source": [
    "更为简洁的写法"
   ]
  },
  {
   "cell_type": "code",
   "execution_count": null,
   "metadata": {},
   "outputs": [],
   "source": [
    "def mergeTwoLists1(self, l1, l2):\n",
    "    dummy = cur = ListNode(0)\n",
    "    while l1 and l2:\n",
    "        if l1.val < l2.val:\n",
    "            cur.next = l1\n",
    "            l1 = l1.next\n",
    "        else:\n",
    "            cur.next = l2\n",
    "            l2 = l2.next\n",
    "        cur = cur.next\n",
    "    cur.next = l1 or l2\n",
    "    return dummy.next"
   ]
  },
  {
   "cell_type": "markdown",
   "metadata": {},
   "source": [
    "## 合并K个排序链表（H 23题）\n",
    "- [23. Merge k Sorted List](https://leetcode.com/articles/merge-k-sorted-list/)\n",
    "- [排序算法](https://www.cs.cmu.edu/~adamchik/15-121/lectures/Sorting%20Algorithms/sorting.html)"
   ]
  },
  {
   "cell_type": "markdown",
   "metadata": {},
   "source": [
    "合并 k 个排序链表，返回合并后的排序链表。请分析和描述算法的复杂度。\n",
    "\n",
    "示例:\n",
    "```python\n",
    "输入:\n",
    "[\n",
    "  1->4->5,\n",
    "  1->3->4,\n",
    "  2->6\n",
    "]\n",
    "输出: 1->1->2->3->4->4->5->6\n",
    "```"
   ]
  },
  {
   "cell_type": "code",
   "execution_count": null,
   "metadata": {},
   "outputs": [],
   "source": [
    "# Definition for singly-linked list.\n",
    "# class ListNode:\n",
    "#     def __init__(self, x):\n",
    "#         self.val = x\n",
    "#         self.next = None\n",
    "# 131 / 131 个通过测试用例; 执行用时：80 ms; 99.46%\n",
    "# Runtime: 52 ms, faster than 99.70% of Python\n",
    "# Memory Usage: 13.5 MB, less than 38.79% of Python\n",
    "class Solution:\n",
    "    def mergeKLists(self, lists):\n",
    "        \"\"\"\n",
    "        :type lists: List[ListNode]\n",
    "        :rtype: ListNode\n",
    "        \"\"\"\n",
    "        nodes = []\n",
    "        for linknode in lists:\n",
    "            curr = linknode\n",
    "            while curr:\n",
    "                nodes.append((curr, curr.val))\n",
    "                curr = curr.next\n",
    "        nodes.sort(key=lambda x: x[1])\n",
    "        \n",
    "        dummy = curr = ListNode(0)\n",
    "        for node in nodes:\n",
    "            curr.next = node[0]\n",
    "            curr = curr.next\n",
    "        return dummy.next"
   ]
  },
  {
   "cell_type": "markdown",
   "metadata": {},
   "source": [
    "## 环形链表（E 141题）\n",
    "- [141. Linked List Cycle](https://leetcode.com/articles/linked-list-cycle/)\n",
    "- [141. 环形链表](https://leetcode-cn.com/articles/linked-list-cycle/)\n",
    "- [wikipedia - Cycle detection](https://en.wikipedia.org/wiki/Cycle_detection#Tortoise_and_hare)"
   ]
  },
  {
   "cell_type": "markdown",
   "metadata": {},
   "source": [
    "给定一个链表，判断链表中是否有环。\n",
    "\n",
    "为了表示给定链表中的环，我们使用整数 `pos` 来表示链表尾连接到链表中的位置（索引从 0 开始）。 如果 `pos` 是 -1，则在该链表中没有环。\n",
    "\n",
    "示例 1：\n",
    "```python\n",
    "输入：head = [3,2,0,-4], pos = 1\n",
    "输出：true\n",
    "解释：链表中有一个环，其尾部连接到第二个节点。\n",
    "```\n",
    "![img](https://wx3.sinaimg.cn/large/69d4185bly1fzy8ntnx64j20er04r0sr.jpg)\n",
    "\n",
    "示例 2：\n",
    "```python\n",
    "输入：head = [1,2], pos = 0\n",
    "输出：true\n",
    "解释：链表中有一个环，其尾部连接到第一个节点。\n",
    "```\n",
    "![img](https://ws3.sinaimg.cn/large/69d4185bly1fzy8olof7kj205l02xglg.jpg)\n",
    "\n",
    "示例 3：\n",
    "```python\n",
    "输入：head = [1], pos = -1\n",
    "输出：false\n",
    "解释：链表中没有环。\n",
    "```\n",
    "![img](https://wx3.sinaimg.cn/large/69d4185bly1fzy8pfbu0ej201t01twe9.jpg)\n",
    "\n",
    "进阶：你能用 O(1)（即，常量）内存解决此问题吗？"
   ]
  },
  {
   "cell_type": "code",
   "execution_count": null,
   "metadata": {},
   "outputs": [],
   "source": [
    "# Definition for singly-linked list.\n",
    "# class ListNode(object):\n",
    "#     def __init__(self, x):\n",
    "#         self.val = x\n",
    "#         self.next = None\n",
    "# 17 / 17 个通过测试用例; 执行用时：1748 ms; 1.76%\n",
    "# Runtime: 2104 ms, faster than 1.00% of Python\n",
    "# Memory Usage: 16.2 MB, less than 73.09% of Python\n",
    "class Solution(object):\n",
    "    def hasCycle(self, head):\n",
    "        \"\"\"\n",
    "        :type head: ListNode\n",
    "        :rtype: bool\n",
    "        \"\"\"\n",
    "        vals = []\n",
    "        cur = head\n",
    "        while cur:\n",
    "            if cur in vals:\n",
    "                return True\n",
    "            vals.append(cur)\n",
    "            cur = cur.next\n",
    "        return False"
   ]
  },
  {
   "cell_type": "markdown",
   "metadata": {},
   "source": [
    "## 两数相加（M 2题）\n",
    "- [2. Add Two Numbers](https://leetcode.com/articles/add-two-numbers/)"
   ]
  },
  {
   "cell_type": "markdown",
   "metadata": {},
   "source": [
    "给出两个 非空 的链表用来表示两个非负的整数。其中，它们各自的位数是按照 逆序 的方式存储的，并且它们的每个节点只能存储 一位 数字。\n",
    "\n",
    "如果，我们将这两个数相加起来，则会返回一个新的链表来表示它们的和。您可以假设除了数字 0 之外，这两个数都不会以 0 开头。\n",
    "\n",
    "示例：\n",
    "```python\n",
    "输入：(2 -> 4 -> 3) + (5 -> 6 -> 4)\n",
    "输出：7 -> 0 -> 8\n",
    "原因：342 + 465 = 807\n",
    "```\n",
    "\n",
    "此题与合并两个链表类似"
   ]
  },
  {
   "cell_type": "code",
   "execution_count": null,
   "metadata": {},
   "outputs": [],
   "source": [
    "# Definition for singly-linked list.\n",
    "# class ListNode(object):\n",
    "#     def __init__(self, x):\n",
    "#         self.val = x\n",
    "#         self.next = None\n",
    "# 1563 / 1563 个通过测试用例; 执行用时：84 ms; 85.64%\n",
    "# Runtime: 68 ms, faster than 92.64% of Python\n",
    "# Memory Usage: 7 MB, less than 92.93% of Python\n",
    "class Solution(object):\n",
    "    def addTwoNumbers(self, l1, l2):\n",
    "        \"\"\"\n",
    "        :type l1: ListNode\n",
    "        :type l2: ListNode\n",
    "        :rtype: ListNode\n",
    "        \"\"\"\n",
    "        res = 0\n",
    "        curr = None\n",
    "        while l1 and l2:\n",
    "            total = l1.val + l2.val + res\n",
    "            node = ListNode(total % 10)\n",
    "            node.next = curr\n",
    "            curr = node.next\n",
    "            res = total // 10\n",
    "            l1 = l1.next\n",
    "            l2 = l2.next\n",
    "        while l1:\n",
    "            total = l1.val + res\n",
    "            node = ListNode(total % 10)\n",
    "            node.next = curr\n",
    "            curr = node.next\n",
    "            res = total // 10\n",
    "            l1 = l1.next\n",
    "        while l2:\n",
    "            total = l2.val + res\n",
    "            node = ListNode(total % 10)\n",
    "            node.next = curr\n",
    "            curr = node.next\n",
    "            res = total // 10\n",
    "            l2 = l2.next\n",
    "        return curr"
   ]
  },
  {
   "cell_type": "code",
   "execution_count": null,
   "metadata": {},
   "outputs": [],
   "source": []
  },
  {
   "cell_type": "code",
   "execution_count": null,
   "metadata": {},
   "outputs": [],
   "source": []
  },
  {
   "cell_type": "code",
   "execution_count": null,
   "metadata": {},
   "outputs": [],
   "source": []
  },
  {
   "cell_type": "markdown",
   "metadata": {},
   "source": [
    "# 其他"
   ]
  },
  {
   "cell_type": "markdown",
   "metadata": {},
   "source": [
    "## 回文链表（E 234题）"
   ]
  },
  {
   "cell_type": "markdown",
   "metadata": {},
   "source": [
    "请判断一个链表是否为回文链表。\n",
    "\n",
    "示例 1:\n",
    "```python\n",
    "输入: 1->2\n",
    "输出: false\n",
    "```\n",
    "示例 2:\n",
    "```python\n",
    "输入: 1->2->2->1\n",
    "输出: true\n",
    "```\n",
    "进阶：你能否用 O(n) 时间复杂度和 O(1) 空间复杂度解决此题？"
   ]
  },
  {
   "cell_type": "code",
   "execution_count": null,
   "metadata": {},
   "outputs": [],
   "source": [
    "# Definition for singly-linked list.\n",
    "# class ListNode(object):\n",
    "#     def __init__(self, x):\n",
    "#         self.val = x\n",
    "#         self.next = None\n",
    "# 26 / 26 个通过测试用例; 执行用时：92 ms; 99.45%\n",
    "# Runtime: 72 ms; Memory Usage: 27.5 MB\n",
    "class Solution(object):\n",
    "    def isPalindrome(self, head):\n",
    "        \"\"\"\n",
    "        :type head: ListNode\n",
    "        :rtype: bool\n",
    "        \"\"\"\n",
    "        vals = []\n",
    "        curr = head\n",
    "        while curr:\n",
    "            vals.append(curr.val)\n",
    "            curr = curr.next\n",
    "        \n",
    "        return vals == vals[::-1]"
   ]
  },
  {
   "cell_type": "markdown",
   "metadata": {},
   "source": [
    "时间复杂度为 O(n) 空间复杂度为 O(1) 的解法。"
   ]
  },
  {
   "cell_type": "code",
   "execution_count": null,
   "metadata": {},
   "outputs": [],
   "source": [
    "# Definition for singly-linked list.\n",
    "# class ListNode(object):\n",
    "#     def __init__(self, x):\n",
    "#         self.val = x\n",
    "#         self.next = None\n",
    "def isPalindrome(self, head):\n",
    "    fast = slow = head\n",
    "    # find the mid node，关键部分\n",
    "    while fast and fast.next:\n",
    "        fast = fast.next.next\n",
    "        slow = slow.next\n",
    "    # reverse the second half，用于后期比较\n",
    "    node = None\n",
    "    while slow:\n",
    "        nxt = slow.next\n",
    "        slow.next = node\n",
    "        node = slow\n",
    "        slow = nxt\n",
    "    # compare the first and second half nodes\n",
    "    while node: # while node and head:\n",
    "        if node.val != head.val:\n",
    "            return False\n",
    "        node = node.next\n",
    "        head = head.next\n",
    "    return True"
   ]
  },
  {
   "cell_type": "markdown",
   "metadata": {},
   "source": [
    "## 反转链表（E 206题）\n",
    "- [Python - Iterative & Recursive 公瑾](https://leetcode.com/problems/reverse-linked-list/discuss/140916/Python-Iterative-and-Recursive)"
   ]
  },
  {
   "cell_type": "markdown",
   "metadata": {},
   "source": [
    "反转一个单链表。\n",
    "\n",
    "示例:\n",
    "```python\n",
    "输入: 1->2->3->4->5->NULL\n",
    "输出: 5->4->3->2->1->NULL\n",
    "```\n",
    "进阶: 你可以迭代或递归地反转链表。你能否用两种方法解决这道题？"
   ]
  },
  {
   "cell_type": "code",
   "execution_count": null,
   "metadata": {},
   "outputs": [],
   "source": [
    "# Definition for singly-linked list.\n",
    "# class ListNode:\n",
    "#     def __init__(self, x):\n",
    "#         self.val = x\n",
    "#         self.next = None\n",
    "# 27 / 27 个通过测试用例； 执行用时：56 ms； 51.94%\n",
    "class Solution:\n",
    "    def reverseList(self, head):\n",
    "        \"\"\"\n",
    "        :type head: ListNode\n",
    "        :rtype: ListNode\n",
    "        \"\"\"\n",
    "        if not head: return head\n",
    "        nxt = head.next\n",
    "        head.next = None\n",
    "        while nxt:\n",
    "            temp = nxt.next\n",
    "            nxt.next = head\n",
    "            head = nxt\n",
    "            nxt = temp\n",
    "        return head"
   ]
  },
  {
   "cell_type": "markdown",
   "metadata": {},
   "source": [
    "更简洁的写法"
   ]
  },
  {
   "cell_type": "code",
   "execution_count": null,
   "metadata": {},
   "outputs": [],
   "source": [
    "# Runtime: 24 ms, faster than 100.00% of Python\n",
    "# Memory Usage: 9.3 MB, less than 36.83% of Python\n",
    "class Solution:\n",
    "    def reverseList(self, head):\n",
    "        \"\"\"\n",
    "        :type head: ListNode\n",
    "        :rtype: ListNode\n",
    "        \"\"\"\n",
    "        cur, prev = head, None\n",
    "        while cur:\n",
    "            cur.next, prev, cur = prev, cur, cur.next\n",
    "        return prev"
   ]
  },
  {
   "cell_type": "code",
   "execution_count": null,
   "metadata": {},
   "outputs": [],
   "source": []
  },
  {
   "cell_type": "code",
   "execution_count": null,
   "metadata": {},
   "outputs": [],
   "source": []
  },
  {
   "cell_type": "code",
   "execution_count": null,
   "metadata": {},
   "outputs": [],
   "source": []
  },
  {
   "cell_type": "code",
   "execution_count": null,
   "metadata": {},
   "outputs": [],
   "source": []
  },
  {
   "cell_type": "code",
   "execution_count": null,
   "metadata": {},
   "outputs": [],
   "source": []
  },
  {
   "cell_type": "code",
   "execution_count": null,
   "metadata": {},
   "outputs": [],
   "source": []
  },
  {
   "cell_type": "code",
   "execution_count": null,
   "metadata": {},
   "outputs": [],
   "source": []
  },
  {
   "cell_type": "code",
   "execution_count": null,
   "metadata": {},
   "outputs": [],
   "source": []
  },
  {
   "cell_type": "code",
   "execution_count": null,
   "metadata": {},
   "outputs": [],
   "source": []
  },
  {
   "cell_type": "code",
   "execution_count": null,
   "metadata": {},
   "outputs": [],
   "source": []
  },
  {
   "cell_type": "code",
   "execution_count": null,
   "metadata": {},
   "outputs": [],
   "source": []
  },
  {
   "cell_type": "code",
   "execution_count": null,
   "metadata": {},
   "outputs": [],
   "source": []
  },
  {
   "cell_type": "code",
   "execution_count": null,
   "metadata": {},
   "outputs": [],
   "source": []
  },
  {
   "cell_type": "code",
   "execution_count": null,
   "metadata": {},
   "outputs": [],
   "source": []
  },
  {
   "cell_type": "code",
   "execution_count": null,
   "metadata": {},
   "outputs": [],
   "source": []
  }
 ],
 "metadata": {
  "kernelspec": {
   "display_name": "Python 3",
   "language": "python",
   "name": "python3"
  },
  "language_info": {
   "codemirror_mode": {
    "name": "ipython",
    "version": 3
   },
   "file_extension": ".py",
   "mimetype": "text/x-python",
   "name": "python",
   "nbconvert_exporter": "python",
   "pygments_lexer": "ipython3",
   "version": "3.6.7"
  },
  "toc": {
   "base_numbering": 1,
   "nav_menu": {},
   "number_sections": true,
   "sideBar": true,
   "skip_h1_title": false,
   "title_cell": "Table of Contents",
   "title_sidebar": "Contents",
   "toc_cell": false,
   "toc_position": {
    "height": "calc(100% - 180px)",
    "left": "10px",
    "top": "150px",
    "width": "304px"
   },
   "toc_section_display": true,
   "toc_window_display": true
  }
 },
 "nbformat": 4,
 "nbformat_minor": 2
}
