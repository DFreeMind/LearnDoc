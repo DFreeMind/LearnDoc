{
 "cells": [
  {
   "cell_type": "markdown",
   "metadata": {},
   "source": [
    "# 朴素贝叶斯上手\n",
    "## Gaussian Naive Bayes"
   ]
  },
  {
   "cell_type": "code",
   "execution_count": null,
   "metadata": {},
   "outputs": [],
   "source": [
    "import numpy as np\n",
    "X = np.array([[-1, -1], [-2, -1], [-3, -2], [1, 1], [2, 1], [3, 2]])\n",
    "Y = np.array([1, 1, 1, 2, 2, 2])\n",
    "\n",
    "from sklearn.naive_bayes import GaussianNB\n",
    "clf = GaussianNB()\n",
    "clf.fit(X, Y)\n",
    "GaussianNB(priors=None)\n",
    "print(clf.predict([[-0.8, -1]]))"
   ]
  },
  {
   "cell_type": "code",
   "execution_count": null,
   "metadata": {},
   "outputs": [],
   "source": [
    "clf_pf = GaussianNB()\n",
    "clf_pf.partial_fit(X, Y, np.unique(Y))\n",
    "GaussianNB(priors=None)\n",
    "print(clf_pf.predict([[-0.8, -1]]))"
   ]
  },
  {
   "cell_type": "markdown",
   "metadata": {},
   "source": [
    "### 有关地形数据的高斯 NB 部署"
   ]
  },
  {
   "cell_type": "code",
   "execution_count": null,
   "metadata": {},
   "outputs": [],
   "source": [
    "from prep_terrain_data import makeTerrainData\n",
    "from class_vis import prettyPicture, output_image\n",
    "from ClassifyNB import classify\n",
    "\n",
    "import numpy as np\n",
    "import pylab as pl\n",
    "\n",
    "\n",
    "features_train, labels_train, features_test, labels_test = makeTerrainData()\n",
    "\n",
    "### the training data (features_train, labels_train) have both \"fast\" and \"slow\" points mixed\n",
    "### in together--separate them so we can give them different colors in the scatterplot,\n",
    "### and visually identify them\n",
    "grade_fast = [features_train[ii][0] for ii in range(0, len(features_train)) if labels_train[ii]==0]\n",
    "bumpy_fast = [features_train[ii][1] for ii in range(0, len(features_train)) if labels_train[ii]==0]\n",
    "grade_slow = [features_train[ii][0] for ii in range(0, len(features_train)) if labels_train[ii]==1]\n",
    "bumpy_slow = [features_train[ii][1] for ii in range(0, len(features_train)) if labels_train[ii]==1]\n",
    "\n",
    "\n",
    "# You will need to complete this function imported from the ClassifyNB script.\n",
    "# Be sure to change to that code tab to complete this quiz.\n",
    "clf = classify(features_train, labels_train)\n",
    "\n",
    "\n",
    "### draw the decision boundary with the text points overlaid\n",
    "prettyPicture(clf, features_test, labels_test)\n",
    "output_image(\"test.png\", \"png\", open(\"test.png\", \"rb\").read())\n"
   ]
  },
  {
   "cell_type": "markdown",
   "metadata": {},
   "source": [
    "## SVM "
   ]
  },
  {
   "cell_type": "code",
   "execution_count": null,
   "metadata": {},
   "outputs": [],
   "source": [
    "import sys\n",
    "from class_vis import prettyPicture\n",
    "from prep_terrain_data import makeTerrainData\n",
    "\n",
    "import matplotlib.pyplot as plt\n",
    "import copy\n",
    "import numpy as np\n",
    "import pylab as pl\n",
    "\n",
    "\n",
    "features_train, labels_train, features_test, labels_test = makeTerrainData()\n",
    "\n",
    "\n",
    "########################## SVM #################################\n",
    "### we handle the import statement and SVC creation for you here\n",
    "from sklearn.svm import SVC\n",
    "clf = SVC(kernel=\"linear\")\n",
    "\n",
    "#### now your job is to fit the classifier\n",
    "#### using the training features/labels, and to\n",
    "#### make a set of predictions on the test data\n",
    "clf.fit(features_train, labels_train)\n",
    "\n",
    "#### store your predictions in a list named pred\n",
    "pred = clf.predict(features_test)\n",
    "\n",
    "\n",
    "from sklearn.metrics import accuracy_score\n",
    "acc = accuracy_score(pred, labels_test)\n",
    "\n",
    "def submitAccuracy():\n",
    "    return acc"
   ]
  },
  {
   "cell_type": "markdown",
   "metadata": {},
   "source": [
    "## 决策树\n",
    "### 决策树编码\n",
    "结果会看到如下的图：\n",
    "![image](http://wx1.sinaimg.cn/large/69d4185bly1fn60zhwmpyj20du09wwex.jpg)"
   ]
  },
  {
   "cell_type": "code",
   "execution_count": null,
   "metadata": {},
   "outputs": [],
   "source": [
    "# studentMain.py\n",
    "#!/usr/bin/python\n",
    "\n",
    "\"\"\" lecture and example code for decision tree unit \"\"\"\n",
    "\n",
    "import sys\n",
    "from class_vis import prettyPicture, output_image\n",
    "from prep_terrain_data import makeTerrainData\n",
    "\n",
    "import matplotlib.pyplot as plt\n",
    "import numpy as np\n",
    "import pylab as pl\n",
    "from classifyDT import classify\n",
    "\n",
    "features_train, labels_train, features_test, labels_test = makeTerrainData()\n",
    "\n",
    "### the classify() function in classifyDT is where the magic\n",
    "### happens--fill in this function in the file 'classifyDT.py'!\n",
    "clf = classify(features_train, labels_train)\n",
    "\n",
    "\n",
    "#### grader code, do not modify below this line\n",
    "\n",
    "prettyPicture(clf, features_test, labels_test)\n",
    "output_image(\"test.png\", \"png\", open(\"test.png\", \"rb\").read())\n"
   ]
  },
  {
   "cell_type": "code",
   "execution_count": null,
   "metadata": {},
   "outputs": [],
   "source": [
    "# classifyDT.py\n",
    "def classify(features_train, labels_train):\n",
    "    \n",
    "    ### your code goes here--should return a trained decision tree classifer\n",
    "    from sklearn import tree\n",
    "    \n",
    "    clf = tree.DecisionTreeClassifier()\n",
    "    clf = clf.fit(features_train, labels_train)\n",
    "    return clf"
   ]
  },
  {
   "cell_type": "markdown",
   "metadata": {},
   "source": [
    "### 决策树准确性\n",
    "输出：`{\"message\": \"{'acc': 0.908}\"}`"
   ]
  },
  {
   "cell_type": "code",
   "execution_count": null,
   "metadata": {},
   "outputs": [],
   "source": [
    "import sys\n",
    "from class_vis import prettyPicture\n",
    "from prep_terrain_data import makeTerrainData\n",
    "\n",
    "import numpy as np\n",
    "import pylab as pl\n",
    "\n",
    "features_train, labels_train, features_test, labels_test = makeTerrainData()\n",
    "\n",
    "########################## DECISION TREE #################################\n",
    "#### your code goes here\n",
    "from sklearn import tree\n",
    "from sklearn.metrics import accuracy_score\n",
    "\n",
    "clf = tree.DecisionTreeClassifier()\n",
    "clf = clf.fit(features_train, labels_train)\n",
    "\n",
    "pred = clf.predict(features_test)\n",
    "acc = accuracy_score(pred, labels_test)### you fill this in!\n",
    "### be sure to compute the accuracy on the test set\n",
    "\n",
    "\n",
    "    \n",
    "def submitAccuracies():\n",
    "  return {\"acc\":round(acc,3)}\n",
    "\n"
   ]
  },
  {
   "cell_type": "markdown",
   "metadata": {},
   "source": [
    "### 决策树准确性\n",
    "决策树的参数可参考[sklearn.tree.DecisionTreeClassifier](http://scikit-learn.org/stable/modules/generated/sklearn.tree.DecisionTreeClassifier.html#sklearn.tree.DecisionTreeClassifier)\n",
    "\n",
    "min_samples_split 对于精确对的影响，测试为 2 与 50 的精确度。\n",
    "\n",
    "输出如下结果：`{\"message\": \"{'acc_min_samples_split_50': 0.912, 'acc_min_samples_split_2': 0.908}\"}`"
   ]
  },
  {
   "cell_type": "code",
   "execution_count": null,
   "metadata": {},
   "outputs": [],
   "source": [
    "import sys\n",
    "from class_vis import prettyPicture\n",
    "from prep_terrain_data import makeTerrainData\n",
    "\n",
    "import matplotlib.pyplot as plt\n",
    "import numpy as np\n",
    "import pylab as pl\n",
    "\n",
    "features_train, labels_train, features_test, labels_test = makeTerrainData()\n",
    "\n",
    "########################## DECISION TREE #################################\n",
    "### your code goes here--now create 2 decision tree classifiers,\n",
    "### one with min_samples_split=2 and one with min_samples_split=50\n",
    "### compute the accuracies on the testing data and store\n",
    "### the accuracy numbers to acc_min_samples_split_2 and\n",
    "### acc_min_samples_split_50, respectively\n",
    "\n",
    "from sklearn import tree\n",
    "from sklearn.metrics import accuracy_score\n",
    "\n",
    "clf2 = tree.DecisionTreeClassifier(min_samples_split = 2)\n",
    "clf2 = clf2.fit(features_train, labels_train)\n",
    "pred2 = clf2.predict(features_test)\n",
    "acc_min_samples_split_2 = accuracy_score(pred2, labels_test)\n",
    "\n",
    "clf50 = tree.DecisionTreeClassifier(min_samples_split = 50)\n",
    "clf50 = clf50.fit(features_train, labels_train)\n",
    "pred50 = clf50.predict(features_test)\n",
    "acc_min_samples_split_50 = accuracy_score(pred50, labels_test)\n",
    "\n",
    "\n",
    "def submitAccuracies():\n",
    "  return {\"acc_min_samples_split_2\":round(acc_min_samples_split_2,3),\n",
    "          \"acc_min_samples_split_50\":round(acc_min_samples_split_50,3)}"
   ]
  },
  {
   "cell_type": "code",
   "execution_count": null,
   "metadata": {},
   "outputs": [],
   "source": [
    "# 使用 scipy 计算熵\n",
    "import scipy.stats\n",
    "print scipy.stats.entropy([1,1],base=2)"
   ]
  },
  {
   "cell_type": "markdown",
   "metadata": {},
   "source": [
    "## 回归\n",
    "### Sklearn 中的年龄/净值回归\n",
    "在[udacity](https://classroom.udacity.com/nanodegrees/nd009-cn-advanced/parts/4463c984-c2f2-43d6-a618-e6267bcbb4ed/modules/91d12374-ccfd-408f-90e6-4eefec28bbdc/lessons/5409540887/concepts/30400486110923)中运行代码，将看到如下的输出：\n",
    "![img](https://ws1.sinaimg.cn/large/69d4185bly1fn82r02e8hj20e80aot96.jpg)"
   ]
  },
  {
   "cell_type": "code",
   "execution_count": null,
   "metadata": {},
   "outputs": [],
   "source": [
    "# studentMain.py\n",
    "#!/usr/bin/python\n",
    "\n",
    "import numpy\n",
    "import matplotlib\n",
    "matplotlib.use('agg')\n",
    "\n",
    "import matplotlib.pyplot as plt\n",
    "from studentRegression import studentReg\n",
    "from class_vis import prettyPicture, output_image\n",
    "\n",
    "from ages_net_worths import ageNetWorthData\n",
    "\n",
    "ages_train, ages_test, net_worths_train, net_worths_test = ageNetWorthData()\n",
    "\n",
    "reg = studentReg(ages_train, net_worths_train)\n",
    "\n",
    "\n",
    "plt.clf()\n",
    "plt.scatter(ages_train, net_worths_train, color=\"b\", label=\"train data\")\n",
    "plt.scatter(ages_test, net_worths_test, color=\"r\", label=\"test data\")\n",
    "plt.plot(ages_test, reg.predict(ages_test), color=\"black\")\n",
    "plt.legend(loc=2)\n",
    "plt.xlabel(\"ages\")\n",
    "plt.ylabel(\"net worths\")\n",
    "\n",
    "\n",
    "plt.savefig(\"test.png\")\n",
    "output_image(\"test.png\", \"png\", open(\"test.png\", \"rb\").read())"
   ]
  },
  {
   "cell_type": "code",
   "execution_count": null,
   "metadata": {},
   "outputs": [],
   "source": [
    "# studentRegression.py\n",
    "def studentReg(ages_train, net_worths_train):\n",
    "    ### import the sklearn regression module, create, and train your regression\n",
    "    ### name your regression reg\n",
    "    \n",
    "    ### your code goes here!\n",
    "    from sklearn import linear_model\n",
    "    \n",
    "    reg = linear_model.LinearRegression()\n",
    "    reg.fit(ages_train, net_worths_train)\n",
    "    \n",
    "    return reg"
   ]
  },
  {
   "cell_type": "markdown",
   "metadata": {},
   "source": [
    "### 练习提取信息\n",
    "运行将会得到如下输出：\n",
    "```json\n",
    "{\n",
    "    \"slope\": 6.473549549577059, \n",
    "    \"stats on training\": 0.8745882358217186, \n",
    "    \"intercept\": -14.35378330775552, \n",
    "    \"stats on test\": 0.812365729230847, \n",
    "    \"networth\": 160.43205453082507\n",
    "}\n",
    "```"
   ]
  },
  {
   "cell_type": "code",
   "execution_count": null,
   "metadata": {},
   "outputs": [],
   "source": [
    "# ages_net_worths.py\n",
    "import numpy\n",
    "import random\n",
    "\n",
    "def ageNetWorthData():\n",
    "\n",
    "    random.seed(42)\n",
    "    numpy.random.seed(42)\n",
    "\n",
    "    ages = []\n",
    "    for ii in range(100):\n",
    "        ages.append( random.randint(20,65) )\n",
    "    net_worths = [ii * 6.25 + numpy.random.normal(scale=40.) for ii in ages]\n",
    "### need massage list into a 2d numpy array to get it to work in LinearRegression\n",
    "    ages       = numpy.reshape( numpy.array(ages), (len(ages), 1))\n",
    "    net_worths = numpy.reshape( numpy.array(net_worths), (len(net_worths), 1))\n",
    "\n",
    "    from sklearn.cross_validation import train_test_split\n",
    "    ages_train, ages_test, net_worths_train, net_worths_test = train_test_split(ages, net_worths)\n",
    "\n",
    "    return ages_train, ages_test, net_worths_train, net_worths_test"
   ]
  },
  {
   "cell_type": "code",
   "execution_count": null,
   "metadata": {},
   "outputs": [],
   "source": [
    "# regressionQuiz.py\n",
    "import numpy\n",
    "import matplotlib.pyplot as plt\n",
    "\n",
    "# from ages_net_worths import ageNetWorthData\n",
    "\n",
    "ages_train, ages_test, net_worths_train, net_worths_test = ageNetWorthData()\n",
    "\n",
    "from sklearn.linear_model import LinearRegression\n",
    "\n",
    "reg = LinearRegression()\n",
    "reg.fit(ages_train, net_worths_train)\n",
    "\n",
    "### get Katie's net worth (she's 27)\n",
    "### sklearn predictions are returned in an array, so you'll want to index into\n",
    "### the output to get what you want, e.g. net_worth = predict([[27]])[0][0] (not\n",
    "### exact syntax, the point is the [0] at the end). In addition, make sure the\n",
    "### argument to your prediction function is in the expected format - if you get\n",
    "### a warning about needing a 2d array for your data, a list of lists will be\n",
    "### interpreted by sklearn as such (e.g. [[27]]).\n",
    "km_net_worth = reg.predict([[27]])[0][0] ### fill in the line of code to get the right value\n",
    "\n",
    "### get the slope\n",
    "### again, you'll get a 2-D array, so stick the [0][0] at the end\n",
    "### fill in the line of code to get the right value\n",
    "### reg.coef_输出为 [[ 6.47354955]]\n",
    "slope = reg.coef_[0][0] \n",
    "\n",
    "### get the intercept\n",
    "### here you get a 1-D array, so stick [0] on the end to access\n",
    "### the info we want\n",
    "### fill in the line of code to get the right value\n",
    "### reg.intercept_ 输出为 [-14.35378331]\n",
    "intercept = reg.intercept_[0]\n",
    "\n",
    "\n",
    "### get the score on test data\n",
    "test_score = reg.score(ages_test, net_worths_test) ### fill in the line of code to get the right value\n",
    "\n",
    "\n",
    "### get the score on the training data\n",
    "training_score = reg.score(ages_train, net_worths_train) ### fill in the line of code to get the right value\n",
    "\n",
    "\n",
    "\n",
    "def submitFit():\n",
    "    # all of the values in the returned dictionary are expected to be\n",
    "    # numbers for the purpose of the grader.\n",
    "    return {\"networth\":km_net_worth,\n",
    "            \"slope\":slope,\n",
    "            \"intercept\":intercept,\n",
    "            \"stats on test\":test_score,\n",
    "            \"stats on training\": training_score}"
   ]
  },
  {
   "cell_type": "code",
   "execution_count": 22,
   "metadata": {},
   "outputs": [
    {
     "data": {
      "text/plain": [
       "[('a', 1), ('c', 3)]"
      ]
     },
     "execution_count": 22,
     "metadata": {},
     "output_type": "execute_result"
    }
   ],
   "source": [
    "data = [('a',1),('b',4),('c',3),('d',5)]\n",
    "sorted(data, key = lambda t:t[1])[:2]"
   ]
  },
  {
   "cell_type": "markdown",
   "metadata": {},
   "source": [
    "# 交叉验证\n",
    "## 在 Sklearn 中分开的训练/测试"
   ]
  },
  {
   "cell_type": "code",
   "execution_count": null,
   "metadata": {},
   "outputs": [],
   "source": [
    "# studentCode.py\n",
    "#!/usr/bin/python\n",
    "\n",
    "\"\"\" \n",
    "PLEASE NOTE:\n",
    "The api of train_test_split changed and moved from sklearn.cross_validation to\n",
    "sklearn.model_selection(version update from 0.17 to 0.18)\n",
    "\n",
    "The correct documentation for this quiz is here: \n",
    "http://scikit-learn.org/0.17/modules/cross_validation.html\n",
    "\"\"\"\n",
    "\n",
    "from sklearn import datasets\n",
    "from sklearn.svm import SVC\n",
    "\n",
    "iris = datasets.load_iris()\n",
    "features = iris.data\n",
    "labels = iris.target\n",
    "\n",
    "###############################################################\n",
    "### YOUR CODE HERE\n",
    "###############################################################\n",
    "\n",
    "### import the relevant code and make your train/test split\n",
    "### name the output datasets features_train, features_test,\n",
    "### labels_train, and labels_test\n",
    "# PLEASE NOTE: The import here changes depending on your version of sklearn\n",
    "from sklearn import cross_validation # for version 0.17\n",
    "# For version 0.18\n",
    "# from sklearn.model_selection import train_test_split\n",
    "\n",
    "\n",
    "### set the random_state to 0 and the test_size to 0.4 so\n",
    "### we can exactly check your result\n",
    "features_train, features_test, labels_train, labels_test \n",
    "        = cross_validation.train_test_split(features, labels, test_size=0.4)\n",
    "\n",
    "###############################################################\n",
    "# DONT CHANGE ANYTHING HERE\n",
    "clf = SVC(kernel=\"linear\", C=1.)\n",
    "clf.fit(features_train, labels_train)\n",
    "\n",
    "print clf.score(features_test, labels_test)\n",
    "##############################################################\n",
    "def submitAcc():\n",
    "    return clf.score(features_test, labels_test)"
   ]
  },
  {
   "cell_type": "code",
   "execution_count": null,
   "metadata": {},
   "outputs": [],
   "source": [
    "# subFunction.py\n",
    "def submitAcc():\n",
    "    return clf.score(features_test, labels_test)"
   ]
  },
  {
   "cell_type": "markdown",
   "metadata": {},
   "source": [
    "# 误差原因\n",
    "## Noisy Data, Complex Model"
   ]
  },
  {
   "cell_type": "code",
   "execution_count": 19,
   "metadata": {},
   "outputs": [
    {
     "name": "stdout",
     "output_type": "stream",
     "text": [
      "Regressor score: 1.0000\n"
     ]
    },
    {
     "data": {
      "image/png": "[encoded data removed]",
      "text/plain": [
       "<matplotlib.figure.Figure at 0x1176bdfd0>"
      ]
     },
     "metadata": {
      "image/png": {
       "height": 300,
       "width": 414
      }
     },
     "output_type": "display_data"
    }
   ],
   "source": [
    "# In this exercise we'll examine a learner which has high variance, and tries to learn\n",
    "# nonexistant patterns in the data.\n",
    "# Use the learning curve function from sklearn.learning_curve to plot learning curves\n",
    "# of both training and testing error.\n",
    "# CODE YOU HAVE TO TYPE IN IS IN LINE 35\n",
    "%matplotlib inline\n",
    "# 用于支持 retina 屏幕\n",
    "%config InlineBackend.figure_format = 'retina'\n",
    "from sklearn.tree import DecisionTreeRegressor\n",
    "import matplotlib.pyplot as plt\n",
    "# PLEASE NOTE:\n",
    "# In sklearn 0.18, the import would be from sklearn.model_selection import learning_curve\n",
    "# from sklearn.learning_curve import learning_curve # sklearn version 0.17\n",
    "from sklearn.model_selection import learning_curve # sklearn version 0.18\n",
    "from sklearn.cross_validation import KFold\n",
    "from sklearn.metrics import explained_variance_score, make_scorer\n",
    "import numpy as np\n",
    "\n",
    "# Set the learning curve parameters; you'll need this for learning_curves\n",
    "size = 1000\n",
    "cv = KFold(size,shuffle=True)\n",
    "score = make_scorer(explained_variance_score)\n",
    "\n",
    "# Create a series of data that forces a learner to have high variance\n",
    "X = np.round(np.reshape(np.random.normal(scale=5,size=2*size),(-1,2)),2)\n",
    "y = np.array([[np.sin(x[0]+np.sin(x[1]))] for x in X])\n",
    "\n",
    "def plot_curve():\n",
    "    # Defining our regression algorithm\n",
    "    reg = DecisionTreeRegressor()\n",
    "    # Fit our model using X and y\n",
    "    reg.fit(X,y)\n",
    "    print \"Regressor score: {:.4f}\".format(reg.score(X,y))\n",
    "    \n",
    "    # TODO: Use learning_curve imported above to create learning curves for both the\n",
    "    #       training data and testing data. You'll need reg, X, y, cv and score from above.\n",
    "    \n",
    "    train_sizes, train_scores, test_scores = learning_curve(reg, X, y, cv=cv, scoring=score, train_sizes=np.linspace(.01, 1.0, 10))\n",
    "    \n",
    "    # Taking the mean of the test and training scores\n",
    "    train_scores_mean = np.mean(train_scores,axis=1)\n",
    "    test_scores_mean = np.mean(test_scores,axis=1)\n",
    "    \n",
    "    # Plotting the training curves and the testing curves using train_scores_mean and test_scores_mean \n",
    "    plt.plot(train_sizes ,train_scores_mean,'-o',color='b',label=\"train_scores_mean\")\n",
    "    plt.plot(train_sizes,test_scores_mean ,'-o',color='r',label=\"test_scores_mean\")\n",
    "    \n",
    "    # Plot aesthetics\n",
    "    plt.ylim(-0.1, 1.1)\n",
    "    plt.ylabel(\"Curve Score\")\n",
    "    plt.xlabel(\"Training Points\")\n",
    "    plt.legend(bbox_to_anchor=(1.1, 1.2))\n",
    "    plt.show()\n",
    "\n",
    "plot_curve()"
   ]
  },
  {
   "cell_type": "code",
   "execution_count": null,
   "metadata": {},
   "outputs": [],
   "source": []
  },
  {
   "cell_type": "code",
   "execution_count": null,
   "metadata": {},
   "outputs": [],
   "source": []
  },
  {
   "cell_type": "code",
   "execution_count": null,
   "metadata": {},
   "outputs": [],
   "source": []
  },
  {
   "cell_type": "code",
   "execution_count": null,
   "metadata": {},
   "outputs": [],
   "source": []
  },
  {
   "cell_type": "code",
   "execution_count": null,
   "metadata": {},
   "outputs": [],
   "source": []
  },
  {
   "cell_type": "code",
   "execution_count": null,
   "metadata": {},
   "outputs": [],
   "source": []
  },
  {
   "cell_type": "code",
   "execution_count": null,
   "metadata": {},
   "outputs": [],
   "source": []
  },
  {
   "cell_type": "code",
   "execution_count": null,
   "metadata": {},
   "outputs": [],
   "source": []
  },
  {
   "cell_type": "code",
   "execution_count": null,
   "metadata": {},
   "outputs": [],
   "source": []
  },
  {
   "cell_type": "code",
   "execution_count": null,
   "metadata": {},
   "outputs": [],
   "source": []
  },
  {
   "cell_type": "code",
   "execution_count": null,
   "metadata": {},
   "outputs": [],
   "source": []
  }
 ],
 "metadata": {
  "kernelspec": {
   "display_name": "Python 3",
   "language": "python",
   "name": "python3"
  },
  "language_info": {
   "codemirror_mode": {
    "name": "ipython",
    "version": 3
   },
   "file_extension": ".py",
   "mimetype": "text/x-python",
   "name": "python",
   "nbconvert_exporter": "python",
   "pygments_lexer": "ipython3",
   "version": "3.6.3"
  },
  "toc": {
   "nav_menu": {
    "height": "264px",
    "width": "289px"
   },
   "number_sections": true,
   "sideBar": true,
   "skip_h1_title": false,
   "toc_cell": false,
   "toc_position": {
    "height": "769px",
    "left": "0px",
    "right": "1096px",
    "top": "111px",
    "width": "301px"
   },
   "toc_section_display": "block",
   "toc_window_display": true
  }
 },
 "nbformat": 4,
 "nbformat_minor": 2
}
