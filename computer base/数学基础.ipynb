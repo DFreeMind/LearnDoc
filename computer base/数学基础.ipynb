{
 "cells": [
  {
   "cell_type": "markdown",
   "metadata": {},
   "source": [
    "# 基础"
   ]
  },
  {
   "cell_type": "markdown",
   "metadata": {},
   "source": [
    "## 插值\n",
    "- [线性插值](https://www.w3cplus.com/canvas/interpolation.html)\n",
    "\n",
    "- [OpenCV ——双线性插值（Bilinear interpolation）](http://www.cnblogs.com/yssongest/p/5303151.html)\n"
   ]
  },
  {
   "cell_type": "markdown",
   "metadata": {},
   "source": [
    "## 贝塞尔曲线"
   ]
  },
  {
   "cell_type": "markdown",
   "metadata": {},
   "source": [
    "- [贝塞尔曲线原理(简单阐述)](http://www.cnblogs.com/hnfxs/p/3148483.html)\n",
    "- [贝塞尔曲线拟合原理](https://blog.csdn.net/shenziheng1/article/details/54410816)\n",
    "- [谈谈贝塞尔曲线](http://www.cnblogs.com/zhangrunchao/p/6178366.html)"
   ]
  },
  {
   "cell_type": "markdown",
   "metadata": {},
   "source": [
    "# 距离"
   ]
  },
  {
   "cell_type": "markdown",
   "metadata": {},
   "source": [
    "## 豪斯多夫距离(hausdorff)\n",
    "\n",
    "- [Hausdorff distance](http://www.cnblogs.com/yhlx125/p/5478147.html)\n",
    "\n",
    "豪斯多夫距离具有方向性"
   ]
  },
  {
   "cell_type": "markdown",
   "metadata": {},
   "source": [
    "## 规划\n",
    "\n",
    "### 动态规划\n",
    "- [Dynamic Programming](http://www.csie.ntnu.edu.tw/~u91029/DynamicProgramming.html)\n",
    "- [算法-动态规划 Dynamic Programming--从菜鸟到老鸟](https://blog.csdn.net/u013309870/article/details/75193592)\n",
    "- [Dynamic Programming – 7 Steps to Solve any DP Interview Problem](http://blog.refdash.com/dynamic-programming-tutorial-example/)\n",
    "\n",
    "**概念**\n",
    "- 最优子结构\n",
    "- 边界\n",
    "- 状态和状态转移方程。\n",
    "\n",
    "**编辑距离**\n",
    "- [编辑距离算法（Edit Distance）](https://blog.csdn.net/chichoxian/article/details/53944188)\n",
    "- [动态规划求编辑距离](http://qinxuye.me/article/get-edit-distance-by-dynamic-programming/)\n",
    "- [8.动态规划（1）——字符串的编辑距离](https://www.cnblogs.com/yulinfeng/p/7096882.html)"
   ]
  },
  {
   "cell_type": "markdown",
   "metadata": {},
   "source": [
    "\n",
    "### 动态时间规整\n",
    "- [【重大修改】动态时间规整（Dynamic Time Warping）](https://blog.csdn.net/zb1165048017/article/details/49226315)\n",
    "- [算法笔记-DTW动态时间规整](https://blog.csdn.net/raym0ndkwan/article/details/45614813)\n",
    "- [动态时间规整-DTW算法](https://www.cnblogs.com/xingshansi/p/6924911.html)\n",
    "- [经典算法（3）：动态时间规整算法（DTW）](https://blog.csdn.net/qcyfred/article/details/53824507)\n",
    "\n",
    "**相关概念**\n",
    "- 代价矩阵（Cost Matrix）\n",
    "- 自相似矩阵（Self Similarity Matrix）\n",
    "\n",
    "DTW 要求输入的数据列数必须相等，行数不一定相等，如下面的输入是合法的：\n",
    "```python\n",
    "a = [[1, 2], [3, 4], [5, 6]]\n",
    "b = [[1, 3], [2, 7]]\n",
    "```\n",
    "但下面的数据是不合法的：\n",
    "```python\n",
    "a = [[1, 2], [3, 4], [5, 6]]\n",
    "b = [[1], [2]]\n",
    "```\n",
    "\n",
    "代价矩阵的寻找及其两个序列的对应关系\n",
    "![img](https://wx3.sinaimg.cn/large/69d4185bly1ft04hwpfaqj20ba0biaah.jpg)\n",
    "![img](https://wx3.sinaimg.cn/large/69d4185bly1ft04h6oftsj20h808tjs0.jpg)"
   ]
  },
  {
   "cell_type": "code",
   "execution_count": null,
   "metadata": {},
   "outputs": [],
   "source": []
  },
  {
   "cell_type": "markdown",
   "metadata": {},
   "source": [
    "# 变换"
   ]
  },
  {
   "cell_type": "markdown",
   "metadata": {},
   "source": [
    "## 放射变换"
   ]
  },
  {
   "cell_type": "code",
   "execution_count": null,
   "metadata": {},
   "outputs": [],
   "source": []
  }
 ],
 "metadata": {
  "kernelspec": {
   "display_name": "Python 3",
   "language": "python",
   "name": "python3"
  },
  "language_info": {
   "codemirror_mode": {
    "name": "ipython",
    "version": 3
   },
   "file_extension": ".py",
   "mimetype": "text/x-python",
   "name": "python",
   "nbconvert_exporter": "python",
   "pygments_lexer": "ipython3",
   "version": "3.6.5"
  },
  "toc": {
   "base_numbering": 1,
   "nav_menu": {},
   "number_sections": true,
   "sideBar": true,
   "skip_h1_title": false,
   "title_cell": "Table of Contents",
   "title_sidebar": "Contents",
   "toc_cell": false,
   "toc_position": {
    "height": "calc(100% - 180px)",
    "left": "10px",
    "top": "150px",
    "width": "374px"
   },
   "toc_section_display": true,
   "toc_window_display": true
  }
 },
 "nbformat": 4,
 "nbformat_minor": 2
}
