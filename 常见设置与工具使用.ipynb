{
 "cells": [
  {
   "cell_type": "markdown",
   "metadata": {
    "toc": true
   },
   "source": [
    "<h1>Table of Contents<span class=\"tocSkip\"></span></h1>\n",
    "<div class=\"toc\"><ul class=\"toc-item\"><li><span><a href=\"#常见设置\" data-toc-modified-id=\"常见设置-1\"><span class=\"toc-item-num\">1&nbsp;&nbsp;</span>常见设置</a></span><ul class=\"toc-item\"><li><span><a href=\"#mysql常见设置\" data-toc-modified-id=\"mysql常见设置-1.1\"><span class=\"toc-item-num\">1.1&nbsp;&nbsp;</span>mysql常见设置</a></span><ul class=\"toc-item\"><li><span><a href=\"#设置远程访问\" data-toc-modified-id=\"设置远程访问-1.1.1\"><span class=\"toc-item-num\">1.1.1&nbsp;&nbsp;</span>设置远程访问</a></span></li><li><span><a href=\"#修改root密码\" data-toc-modified-id=\"修改root密码-1.1.2\"><span class=\"toc-item-num\">1.1.2&nbsp;&nbsp;</span>修改root密码</a></span></li></ul></li></ul></li><li><span><a href=\"#sublime-使用\" data-toc-modified-id=\"sublime-使用-2\"><span class=\"toc-item-num\">2&nbsp;&nbsp;</span>sublime 使用</a></span></li></ul></div>"
   ]
  },
  {
   "cell_type": "markdown",
   "metadata": {},
   "source": [
    "# 常见设置"
   ]
  },
  {
   "cell_type": "markdown",
   "metadata": {},
   "source": [
    "## mysql常见设置"
   ]
  },
  {
   "cell_type": "markdown",
   "metadata": {},
   "source": [
    "### 设置远程访问\n",
    "\n",
    "```sql\n",
    "-- 为root永不设置远程访问\n",
    "GRANT ALL PRIVILEGES ON *.* TO 'root'@'%'WITH GRANT OPTION\n",
    "\n",
    "-- 为某个用户设置密码访问\n",
    "GRANT ALL PRIVILEGES ON *.* TO 'myuser'@'%'IDENTIFIED BY 'mypassword' WITH GRANT OPTION\n",
    "\n",
    "--最后刷新权限\n",
    "FLUSH PRIVILEGES; \n",
    "```"
   ]
  },
  {
   "cell_type": "markdown",
   "metadata": {},
   "source": [
    "### 修改root密码\n",
    "1.  用SET PASSWORD命令\n",
    "```sql\n",
    "SET PASSWORD FOR 'root'@'localhost' = PASSWORD('newpass');\n",
    "```\n",
    "2. 用mysqladmin\n",
    "```sql\n",
    "mysqladmin -u root password \"newpass\"\n",
    "--如果root已经设置过密码，采用如下方法\n",
    "mysqladmin -u root password oldpass \"newpass\"\n",
    "```\n",
    "3. 用UPDATE直接编辑user表\n",
    "```sql\n",
    "use mysql;\n",
    "UPDATE user SET Password = PASSWORD('newpass') WHERE user = 'root';\n",
    "FLUSH PRIVILEGES;\n",
    "```"
   ]
  },
  {
   "cell_type": "code",
   "execution_count": null,
   "metadata": {},
   "outputs": [],
   "source": []
  },
  {
   "cell_type": "code",
   "execution_count": null,
   "metadata": {},
   "outputs": [],
   "source": []
  },
  {
   "cell_type": "markdown",
   "metadata": {},
   "source": [
    "# sublime 使用"
   ]
  },
  {
   "cell_type": "code",
   "execution_count": null,
   "metadata": {},
   "outputs": [],
   "source": []
  },
  {
   "cell_type": "code",
   "execution_count": null,
   "metadata": {},
   "outputs": [],
   "source": []
  },
  {
   "cell_type": "code",
   "execution_count": null,
   "metadata": {},
   "outputs": [],
   "source": []
  },
  {
   "cell_type": "code",
   "execution_count": null,
   "metadata": {},
   "outputs": [],
   "source": []
  }
 ],
 "metadata": {
  "kernelspec": {
   "display_name": "Python 3",
   "language": "python",
   "name": "python3"
  },
  "language_info": {
   "codemirror_mode": {
    "name": "ipython",
    "version": 3
   },
   "file_extension": ".py",
   "mimetype": "text/x-python",
   "name": "python",
   "nbconvert_exporter": "python",
   "pygments_lexer": "ipython3",
   "version": "3.6.4"
  },
  "toc": {
   "base_numbering": 1,
   "nav_menu": {},
   "number_sections": true,
   "sideBar": true,
   "skip_h1_title": false,
   "title_cell": "Table of Contents",
   "title_sidebar": "Contents",
   "toc_cell": true,
   "toc_position": {
    "height": "507px",
    "left": "0px",
    "right": "967.688px",
    "top": "111px",
    "width": "376px"
   },
   "toc_section_display": "block",
   "toc_window_display": true
  }
 },
 "nbformat": 4,
 "nbformat_minor": 2
}
