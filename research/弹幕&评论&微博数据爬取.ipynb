{
 "cells": [
  {
   "cell_type": "markdown",
   "metadata": {},
   "source": [
    "# 北京女子图鉴"
   ]
  },
  {
   "cell_type": "code",
   "execution_count": null,
   "metadata": {},
   "outputs": [],
   "source": [
    "import matplotlib.pyplot as plt\n",
    "import numpy as np\n",
    "import pandas as pd\n",
    "from tqdm import tqdm\n",
    "from pyecharts import Bar\n",
    "from pyecharts import online\n",
    "\n",
    "%matplotlib inline\n",
    "%config InlineBackend.figure_format = 'retina'\n",
    "\n",
    "# 让 pyecharts 在 jupyter 下载时有图片\n",
    "online()"
   ]
  },
  {
   "cell_type": "code",
   "execution_count": null,
   "metadata": {},
   "outputs": [],
   "source": [
    "# 获取优酷评论方法\n",
    "def get_youku_comments():\n",
    "    pass\n",
    "\n",
    "# 获取优酷弹幕方法\n",
    "def get_youku_dm():\n",
    "    pass"
   ]
  },
  {
   "cell_type": "code",
   "execution_count": null,
   "metadata": {},
   "outputs": [],
   "source": [
    "import base64\n",
    " \n",
    "char = \"\\xc0\\xc4\\xc8\\xcc\\xd0\\xd4\\xd8\\xdc\\xe0\\xe4\"\n",
    "char_map = {char[i]: str(i) for i in range(len(char))}\n",
    " \n",
    "# suffix = \"wy024\"\n",
    "suffix = \"\"\n",
    "suffix_map = {suffix[i]: str(i*2) for i in range(len(suffix))}\n",
    " \n",
    "def uid2eid(uid):\n",
    "    \"\"\" 用户数字ID 加密为 字符串ID\"\"\"\n",
    "    return encrypt(uid, prefix=\"P\")\n",
    " \n",
    "def uid2vid(uid):\n",
    "    \"\"\" 视频数字ID 加密为 字符串ID \"\"\"\n",
    "    return encrypt(uid, prefix=\"\\\\\")\n",
    " \n",
    "def eid2uid(eid):\n",
    "    \"\"\" 字符串ID 解密为 数字ID \"\"\"\n",
    "    # 判断最后一位是否需要进行fix\n",
    "    fix = suffix_map[eid[-1]] if eid[-1] in suffix else \"\"\n",
    "    # 去掉最后一位\n",
    "    eid = eid[:-1]\n",
    "    ss = base64.b64decode(eid)[1:]\n",
    "    num = []\n",
    "    for s in ss:\n",
    "        num.append(char_map[s])\n",
    " \n",
    "    num.append(fix)\n",
    "    uid = int(\"\".join(num)) / 4\n",
    "    return uid\n",
    " \n",
    "def encrypt(id, prefix):\n",
    "    num = str(int(id)*4)\n",
    "    fix = \"=\"\n",
    "    if len(num) % 3 == 0:\n",
    "        fix = suffix[int(num[-1])/2]\n",
    "        num = num[:-1]\n",
    " \n",
    "    ss = prefix\n",
    "    for s in str(num):\n",
    "        ss += char[int(s)]\n",
    " \n",
    "    eid = base64.b64encode(ss) + fix\n",
    "    return eid"
   ]
  },
  {
   "cell_type": "code",
   "execution_count": null,
   "metadata": {},
   "outputs": [],
   "source": []
  },
  {
   "cell_type": "markdown",
   "metadata": {},
   "source": [
    "## 优酷相关"
   ]
  },
  {
   "cell_type": "markdown",
   "metadata": {},
   "source": [
    "### 评论\n",
    "评论 URL：\n",
    "http://p.comments.youku.com/ycp/comment/pc/commentList?app=100-DDwODVkv&objectId=884389334&objectType=1&listType=0&currentPage=6&pageSize=30&sign=2056692c183efe4254a20c2e431946a3&time=1525611949\n",
    "\n",
    "- objectId：视频 ID\n",
    "- currentPage：评论当前页面\n",
    "- pageSize：页面评论数量\n",
    "\n",
    "**返回的数据**\n",
    "```json\n",
    "{\n",
    "    \"code\": 0, \n",
    "    \"data\": {\n",
    "        \"sourceCommentSize\": 629, \n",
    "        \"totalSize\": 837, \n",
    "        \"totalPage\": 21, \n",
    "        \"pageSize\": 30, \n",
    "        \"comment\": [\n",
    "            {\n",
    "                \"atUsers\": { }, \n",
    "                \"flags\": { }, \n",
    "                \"upCount\": 8, \n",
    "                \"parentCommentId\": 0, \n",
    "                \"userId\": 1155192313, \n",
    "                \"content\": \"感觉最后会跟卢家凯在一起\", \n",
    "                \"downCount\": 0, \n",
    "                \"replyCount\": 0, \n",
    "                \"createTime\": 1524649229889, \n",
    "                \"userIsLiked\": 0, \n",
    "                \"parentComment\": { }, \n",
    "                \"id\": 3409500200, \n",
    "                \"user\": {\n",
    "                    \"vipInfo\": {}, \n",
    "                    \"userLevel\": 17, \n",
    "                    \"avatarMiddle\": \"https://wwc.alicdn.com/avatar/getAvatar.do?userId=859825765&width=160&height=160&type=sns\", \n",
    "                    \"avatarLarge\": \"https://wwc.alicdn.com/avatar/getAvatar.do?userId=859825765&width=160&height=160&type=sns\", \n",
    "                    \"userName\": \"n小允\", \n",
    "                    \"userId\": 1155192313, \n",
    "                    \"userCode\": \"UNDYyMDc2OTI1Mg==\", \n",
    "                    \"avatarSmall\": \"https://wwc.alicdn.com/avatar/getAvatar.do?userId=859825765&width=160&height=160&type=sns\"\n",
    "                }\n",
    "            }\n",
    "        ], \n",
    "        \"currentPage\": 6, \n",
    "        \"hot\": [ ]\n",
    "    }\n",
    "}\n",
    "```"
   ]
  },
  {
   "cell_type": "markdown",
   "metadata": {},
   "source": [
    "### 弹幕\n",
    "弹幕查询地址：http://service.danmu.youku.com/list?mat=30&mcount=1&ct=1001&iid=884389334&aid=329435&cid=97&lid=0&ouid=0\n",
    "\n",
    "参数：\n",
    "- mat：第几次请求弹幕（mat 需要根据实际的弹幕量进行调整）\n",
    "- iid：视频 ID\n",
    "\n",
    "返回数据格式：\n",
    "```json\n",
    "{\n",
    "    \"count\": 16, \n",
    "    \"filtered\": 1, \n",
    "    \"result\": [\n",
    "        {\n",
    "            \"aid\": 329435, \n",
    "            \"content\": \"单身的话还是会去北京\", \n",
    "            \"createtime\": 1524581256000, \n",
    "            \"ct\": 3002, \n",
    "            \"id\": 707049746, \n",
    "            \"iid\": 884389334, \n",
    "            \"ipaddr\": 1740701100, \n",
    "            \"level\": 1, \n",
    "            \"lid\": 0, \n",
    "            \"mat\": 30, \n",
    "            \"ouid\": 685162531, \n",
    "            \"playat\": 1800214, \n",
    "            \"propertis\": \"{\\\"pos\\\":3,\\\"size\\\":1,\\\"effect\\\":0,\\\"color\\\":15060379,\\\"color2\\\":12098412}\", \n",
    "            \"status\": 99, \n",
    "            \"type\": 1, \n",
    "            \"uid\": 685162531, \n",
    "            \"ver\": 1\n",
    "        }\n",
    "    ]\n",
    "}\n",
    "```"
   ]
  },
  {
   "cell_type": "markdown",
   "metadata": {},
   "source": [
    "## 解析代码"
   ]
  },
  {
   "cell_type": "markdown",
   "metadata": {},
   "source": [
    "### 弹幕"
   ]
  },
  {
   "cell_type": "code",
   "execution_count": null,
   "metadata": {},
   "outputs": [],
   "source": [
    "\"\"\"\n",
    "请求每一集的弹幕\n",
    "danmu_csv: 保存到 csv 文件的文件流\n",
    "vid: 视频 id\n",
    "episode_cn: 当前集的中文名\n",
    "\"\"\"\n",
    "def get_youku_danmu(danmu_csv,vid,episode_cn):\n",
    "    MAT = 1\n",
    "    FLAG = True\n",
    "    while FLAG:\n",
    "        print(episode_cn,\"----\", MAT)\n",
    "        url = \"http://service.danmu.youku.com/list?mat=\"+str(MAT)+\"&mcount=1&ct=1001&iid=\"+vid+\"&aid=329435&cid=97&lid=0&ouid=0\"\n",
    "        data = requests.get(url).json()\n",
    "        if len(data[\"result\"]) > 0:\n",
    "            # 解析数据\n",
    "            parse_youku_danmu(danmu_csv,data[\"result\"],episode_cn)\n",
    "            MAT += 1\n",
    "            time.sleep(1)\n",
    "        else:\n",
    "            FLAG = False\n",
    "            \n",
    "\"\"\"\n",
    "弹幕数据解析\n",
    "\"\"\"\n",
    "def parse_youku_danmu(danmu_csv,danmus,episode_cn):\n",
    "    for danmu in danmus:\n",
    "        uid = danmu[\"uid\"]\n",
    "        ipaddr = danmu[\"ipaddr\"]\n",
    "        episode_id = danmu[\"iid\"]\n",
    "        createtime = danmu[\"createtime\"]\n",
    "        content = danmu[\"content\"]\n",
    "        danmu_csv.writerow((uid,ipaddr,episode_id,episode_cn,createtime,content))\n",
    "\n",
    "def youku_danmu(filepath,episodes):\n",
    "    danmu = open(filepath,\"a\")\n",
    "    danmu_csv = csv.writer(danmu)\n",
    "    danmu_csv.writerow([\"uid\",\"ipaddr\",\"episode_id\",\"episode_cn\",\"createtime\",\"content\"])\n",
    "    \n",
    "    for i,episode in (enumerate(episodes)):\n",
    "        get_youku_danmu(danmu_csv,episode[0],episode[1])\n",
    "    \n",
    "    danmu.close()"
   ]
  },
  {
   "cell_type": "code",
   "execution_count": null,
   "metadata": {},
   "outputs": [],
   "source": [
    "bjnztj =[(\"880078209\",\"第 01 集\"),(\"880078104\",\"第 02 集\"),(\"880078056\",\"第 03 集\"),(\"880109272\",\"第 04 集\"),(\"880112230\",\"第 05 集\"),\\\n",
    "         (\"880112798\",\"第 06 集\"),(\"880143160\",\"第 07 集\"),(\"880144723\",\"第 08 集\"),(\"880145085\",\"第 09 集\"),(\"880179270\",\"第 10 集\"),\\\n",
    "         (\"880179884\",\"第 11 集\"),(\"884389334\",\"第 12 集\"),(\"884389588\",\"第 13 集\"),(\"888106992\",\"第 14 集\"),(\"888106801\",\"第 15 集\"),\\\n",
    "         (\"888107530\",\"第 16 集\"),(\"888151519\",\"第 17 集\"),(\"888152909\",\"第 18 集\"),(\"888153384\",\"第 19 集\"),(\"888176615\",\"第 20 集\")]\n"
   ]
  },
  {
   "cell_type": "code",
   "execution_count": null,
   "metadata": {},
   "outputs": [],
   "source": [
    "bjnztj_file = \"/Users/weduoo/Desktop/youku/bjnztj_danmu.csv\"\n",
    "youku_danmu(bjnztj_file,bjnztj)"
   ]
  },
  {
   "cell_type": "markdown",
   "metadata": {},
   "source": [
    "### 评论"
   ]
  },
  {
   "cell_type": "code",
   "execution_count": null,
   "metadata": {},
   "outputs": [],
   "source": [
    "\"\"\"\n",
    "请求每一集的评论\n",
    "danmu_csv: 保存到 csv 文件的文件流\n",
    "vid: 视频 id\n",
    "episode_cn: 当前集的中文名\n",
    "\"\"\"\n",
    "def get_youku_comments(comment_csv,vid,episode_cn):\n",
    "    PAGE = 1\n",
    "    FLAG = True\n",
    "    while FLAG:\n",
    "        print(episode_cn,\"----\", PAGE)\n",
    "        url = \"http://p.comments.youku.com/ycp/comment/pc/commentList?app=100-DDwODVkv&objectId=\"+vid+\"&objectType=1&listType=0&currentPage=\"+str(PAGE)+\"&pageSize=30&sign=c8c7a7ab7056176b3b28ebdd27769a21&time=1525962252\"\n",
    "        data = requests.get(url).json()\n",
    "        if len(data[\"data\"][\"comment\"]) > 0:\n",
    "            # 解析数据\n",
    "            parse_youku_comments(comment_csv,data[\"data\"][\"comment\"],vid,episode_cn)\n",
    "            PAGE += 1\n",
    "            time.sleep(1)\n",
    "        else:\n",
    "            FLAG = False\n",
    "            \n",
    "\"\"\"\n",
    "评论数据解析\n",
    "\"\"\"\n",
    "def parse_youku_comments(comment_csv,comments,vid,episode_cn):\n",
    "    for comment in comments:\n",
    "        userId = comment[\"user\"][\"userId\"]\n",
    "        userName = comment[\"user\"][\"userName\"]\n",
    "        createTime = comment[\"createTime\"]\n",
    "        upCount = comment[\"upCount\"]\n",
    "        downCount = comment[\"downCount\"]\n",
    "        content = comment[\"content\"].replace(\"\\n\",\"\")\n",
    "        comment_csv.writerow((userId,userName,vid,episode_cn,createTime,upCount,downCount,content))\n",
    "\n",
    "def youku_comments(filepath,episodes):\n",
    "    comment = open(filepath,\"a\")\n",
    "    comment_csv = csv.writer(comment)\n",
    "    comment_csv.writerow([\"userId\",\"userName\",\"episode_id\",\"episode_cn\",\"createTime\",\"upCount\",\"downCount\",\"content\"])\n",
    "    \n",
    "    for i,episode in (enumerate(episodes)):\n",
    "        get_youku_comments(comment_csv,episode[0],episode[1])\n",
    "    \n",
    "    comment.close()"
   ]
  },
  {
   "cell_type": "code",
   "execution_count": null,
   "metadata": {},
   "outputs": [],
   "source": [
    "bjnztj_cmments_file = \"/Users/weduoo/Desktop/youku/bjnztj_comments.csv\"\n",
    "youku_comments(bjnztj_cmments_file,bjnztj)"
   ]
  },
  {
   "cell_type": "code",
   "execution_count": null,
   "metadata": {},
   "outputs": [],
   "source": []
  },
  {
   "cell_type": "markdown",
   "metadata": {},
   "source": [
    "## 弹幕数据分析"
   ]
  },
  {
   "cell_type": "code",
   "execution_count": null,
   "metadata": {},
   "outputs": [],
   "source": [
    "bjnvtj_danmu = pd.read_csv(\"/Users/weduoo/Desktop/youku/bjnztj_danmu.csv\")\n",
    "bjnvtj_danmu.head()"
   ]
  },
  {
   "cell_type": "code",
   "execution_count": null,
   "metadata": {},
   "outputs": [],
   "source": [
    "ips = pd.read_csv(\"/Users/weduoo/Desktop/ip_cn.csv\")\n",
    "ips.head()"
   ]
  },
  {
   "cell_type": "code",
   "execution_count": null,
   "metadata": {},
   "outputs": [],
   "source": [
    "def convert_ip(ip_list):\n",
    "    ip_city = []\n",
    "    for ip in tqdm(ip_list):\n",
    "        city = ips[(ip >= ips[\"int_start\"] ) & (ip <=ips[\"int_end\"])]\n",
    "        if len(city) > 0:\n",
    "            ip_city.append(city[\"sheng\"].values[0])\n",
    "        else:\n",
    "            ip_city.append(\"局域\")\n",
    "    return ip_city"
   ]
  },
  {
   "cell_type": "code",
   "execution_count": null,
   "metadata": {},
   "outputs": [],
   "source": [
    "bjnvtj_danmu[\"ip_city\"] = convert_ip(list(bjnvtj_danmu[\"ipaddr\"]))\n",
    "bjnvtj_danmu.head()"
   ]
  },
  {
   "cell_type": "code",
   "execution_count": null,
   "metadata": {},
   "outputs": [],
   "source": [
    "from pyecharts import Pie\n",
    "bjnvtj_city = bjnvtj_danmu.groupby(\"ip_city\").size()\n",
    "bjnvtj_city_x = list(bjnvtj_city.index)\n",
    "bjnvtj_city_y = list(bjnvtj_city.values)\n",
    "pie = Pie(\"甄嬛传评论数量地区占比\",title_pos='center',height=550)\n",
    "pie.add(\"\", bjnvtj_city_x, bjnvtj_city_y, is_label_show=True,legend_pos='left',is_legend_show=False,radius=[45, 70])\n",
    "pie"
   ]
  },
  {
   "cell_type": "code",
   "execution_count": null,
   "metadata": {},
   "outputs": [],
   "source": [
    "bar = Bar(\"北京女子图鉴地区占比\",title_pos='center',height=550,width=900)\n",
    "bar.add(\"\", bjnvtj_city_x, bjnvtj_city_y, is_label_show=True,legend_pos='left',is_legend_show=False)\n",
    "bar"
   ]
  },
  {
   "cell_type": "code",
   "execution_count": null,
   "metadata": {},
   "outputs": [],
   "source": [
    "from pyecharts import Map\n",
    "map = Map(\"地区分布\",title_pos='center', width=800, height=600)\n",
    "map.add(\"\", bjnvtj_city_x, np.array(bjnvtj_city_y)/100, maptype='china', is_visualmap=True,is_label_show=True,\n",
    "        visual_text_color='#000')\n",
    "map"
   ]
  },
  {
   "cell_type": "code",
   "execution_count": null,
   "metadata": {},
   "outputs": [],
   "source": [
    "def save_wordcloud(text,path,name):\n",
    "    # 用于支持中文的设置\n",
    "    font = '/Library/Fonts/Songti.ttc'\n",
    "    wordcloud = WordCloud(background_color=\"white\",font_path=font,\\\n",
    "                          width=1000, height=1000, margin=2).generate(text)\n",
    "    # 生成图片\n",
    "    plt.figure(figsize=(14,14))\n",
    "    plt.imshow(wordcloud)\n",
    "    plt.axis(\"off\")\n",
    "#     plt.show()\n",
    "    wordcloud.to_file(path + name + \".png\")"
   ]
  },
  {
   "cell_type": "code",
   "execution_count": null,
   "metadata": {},
   "outputs": [],
   "source": [
    "def remove_words(txt):\n",
    "    words = [\"哈\",\"呵\",\"啦\",\"啊\",\"陈可\",\"杨大赫\",\"张超\",\"卢家凯\",\"朱朝阳\",\"吴昊\",\"向荣\",\"于扬\",\"许斯明\",\n",
    "             \"王涛\",\"何志\",\"黄越彬\",\"无语\",\"愤怒\"]\n",
    "    for word in words:\n",
    "        txt = txt.replace(word,\"\")\n",
    "    return txt"
   ]
  },
  {
   "cell_type": "code",
   "execution_count": null,
   "metadata": {},
   "outputs": [],
   "source": [
    "def city_wordcloud(path):\n",
    "    citys = bjnvtj_danmu.groupby(\"ip_city\").size().index\n",
    "    for city in tqdm(list(citys)):\n",
    "        contents = bjnvtj_danmu[bjnvtj_danmu[\"ip_city\"] == city][\"content\"]\n",
    "        texts = []\n",
    "        for text in list(contents):\n",
    "            texts.append(remove_words(text))\n",
    "        save_wordcloud(\"\".join(texts),path,city)\n",
    "city_wordcloud(\"/Users/weduoo/Desktop/youku/\")"
   ]
  },
  {
   "cell_type": "markdown",
   "metadata": {},
   "source": [
    "## 评论数据分析"
   ]
  },
  {
   "cell_type": "code",
   "execution_count": null,
   "metadata": {},
   "outputs": [],
   "source": [
    "comments = pd.read_csv(\"/Users/weduoo/Desktop/youku/bjnztj_comments.csv\")\n",
    "comments.head()"
   ]
  },
  {
   "cell_type": "code",
   "execution_count": null,
   "metadata": {},
   "outputs": [],
   "source": [
    "def convert_user_city(userIds):\n",
    "    user_city = []\n",
    "    for uid in tqdm(userIds):\n",
    "        city = bjnvtj_danmu[bjnvtj_danmu[\"uid\"] == uid]\n",
    "        if len(city) > 0:\n",
    "            user_city.append(city[\"ip_city\"].values[0])\n",
    "        else:\n",
    "            user_city.append(\"未知\")\n",
    "    return user_city\n",
    "comments[\"city\"] = convert_user_city(list(comments[\"userId\"]))\n",
    "comments.head()"
   ]
  },
  {
   "cell_type": "code",
   "execution_count": null,
   "metadata": {},
   "outputs": [],
   "source": [
    "c_city = comments.groupby(\"city\").size()\n",
    "print(c_city.index)\n",
    "print(c_city.values)"
   ]
  },
  {
   "cell_type": "code",
   "execution_count": null,
   "metadata": {
    "scrolled": true
   },
   "outputs": [],
   "source": [
    "upCount = comments[comments[\"downCount\"] > 50].groupby(\"episode_cn\")\n",
    "def episode_wordcloud(path):\n",
    "    episodes = upCount.size().index\n",
    "    for episode in tqdm(list(episodes)):\n",
    "        contents = comments[(comments[\"episode_cn\"] == episode) & (comments[\"downCount\"] > 50)][\"content\"]\n",
    "        texts = []\n",
    "        for text in list(contents):\n",
    "            texts.append(remove_words(text))\n",
    "        save_wordcloud(\"\".join(texts),path,episode)\n",
    "episode_wordcloud(\"/Users/weduoo/Desktop/youku/\")"
   ]
  },
  {
   "cell_type": "code",
   "execution_count": null,
   "metadata": {},
   "outputs": [],
   "source": []
  },
  {
   "cell_type": "markdown",
   "metadata": {},
   "source": [
    "# 微博信息获取"
   ]
  },
  {
   "cell_type": "markdown",
   "metadata": {},
   "source": [
    "## 信息获取说明\n",
    "### 用户微博获取\n",
    "微博 url：https://m.weibo.cn/api/container/getIndex?type=uid&value=1192329374&containerid=1076031192329374\n",
    "微博 url(含页数)：https://m.weibo.cn/api/container/getIndex?type=uid&value=1192329374&containerid=1076031192329374&page=2\n",
    "\n",
    "**参数：**\n",
    "- type：类型， 用户id，[uid]\n",
    "- value：类型的值，用户id， [1192329374]\n",
    "- containerid：容器类型，107603 + 用户 id\n",
    "- page: 页数，每页返回 10 条微博\n",
    "\n",
    "**返回数据**\n",
    "\n",
    "这里值获取微博信息不获取其他信息，因此在 `cards` 数组里只获取 `card_type` 类型为 `9` 的 cards。接着就是获取 mblog 里面的微博信息，需要后去如下的信息：\n",
    "- id/idstr/mid: 当前微博的 id\n",
    "- created_at: 在什么时间创建（不太有意义）\n",
    "- text: 实际的微博，表情会与文本一起存在\n",
    "- raw_text: 原微博，在是**转发**的微博时会有此属性\n",
    "- source: 微博从什么平台发布\n",
    "- reposts_count: 转发数量\n",
    "- comments_count: 评论数量\n",
    "- attitudes_count: 点赞数量\n",
    "\n",
    "获取微博配的图片，图片在 `pics` 属性中，若是纯文字则没有图片。在最层的 `url` 中存储的是小图片，在 `large` 中存贮的是大图。\n",
    "\n",
    "获取微博配的视频，视频在 `page_info` 中，之后在找到 `media_info` 里面的 `stream_url` 就是视频的地址。\n",
    "\n",
    "若属性里还有 `retweeted_status` 就说明此条微博时评论引用微博。暂时不处理这种微博，只记录。\n",
    "```json\n",
    "{\n",
    "    \"ok\": 1, \n",
    "    \"data\": {\n",
    "        \"cards\": [\n",
    "            {\n",
    "                \"card_type\": 9, \n",
    "                \"itemid\": \"1076031192329374_-_4237116843937317\", \n",
    "                \"scheme\": \"https://m.weibo.cn/status/GfzzSgwh7?mblogid=GfzzSgwh7&luicode=10000011&lfid=1076031192329374\", \n",
    "                \"mblog\": {\n",
    "                    \"created_at\": \"2小时前\", \n",
    "                    \"id\": \"4237116843937317\", \n",
    "                    \"idstr\": \"4237116843937317\", \n",
    "                    \"mid\": \"4237116843937317\", \n",
    "                    \"can_edit\": false, \n",
    "                    \"text\": \"今天好孩子发布会，好像瘦点儿了<span class=\\\"url-icon\\\"><img src=\\\"//h5.sinaimg.cn/m/emoticon/icon/default/d_touxiao-3458a765a2.png\\\" style=\\\"width:1em;height:1em;\\\" alt=\\\"[偷笑]\\\"></span> 看着我拉着婴儿车旋转舞动会不会很嗨🤗 ​​​\", \n",
    "                    \"textLength\": 75, \n",
    "                    \"source\": \"\", \n",
    "                    \"favorited\": false, \n",
    "                    \"thumbnail_pic\": \"http://wx4.sinaimg.cn/thumbnail/4711809ely1fr2z4cfy47j21l6280e81.jpg\", \n",
    "                    \"bmiddle_pic\": \"http://wx4.sinaimg.cn/bmiddle/4711809ely1fr2z4cfy47j21l6280e81.jpg\", \n",
    "                    \"original_pic\": \"http://wx4.sinaimg.cn/large/4711809ely1fr2z4cfy47j21l6280e81.jpg\", \n",
    "                    \"is_paid\": false, \n",
    "                    \"mblog_vip_type\": 0, \n",
    "                    \"user\": {}, \n",
    "                    \"picStatus\": \"0:1,1:1,2:1,3:1,4:1,5:1\", \n",
    "                    \"reposts_count\": 3343, \n",
    "                    \"comments_count\": 4917, \n",
    "                    \"attitudes_count\": 82175, \n",
    "                    \"pending_approval_count\": 0, \n",
    "                    \"isLongText\": false, \n",
    "                    \"visible\": {}, \n",
    "                    \"more_info_type\": 0, \n",
    "                    \"content_auth\": 0, \n",
    "                    \"edit_config\": {}, \n",
    "                    \"mblogtype\": 0, \n",
    "                    \"weibo_position\": 1, \n",
    "                    \"bid\": \"GfzzSgwh7\", \n",
    "                    \"pics\": [\n",
    "                        {\n",
    "                            \"pid\": \"4711809ely1fr2z4cfy47j21l6280e81\", \n",
    "                            \"url\": \"https://wx4.sinaimg.cn/orj360/4711809ely1fr2z4cfy47j21l6280e81.jpg\", \n",
    "                            \"size\": \"orj360\", \n",
    "                            \"geo\": {}, \n",
    "                            \"large\": {\"url\":\"\"}\n",
    "                        }\n",
    "                    ]\n",
    "                }, \n",
    "                \"show_type\": 0\n",
    "            }\n",
    "        ], \n",
    "        \"showAppTips\": 0, \n",
    "        \"scheme\": \"sinaweibo://cardlist?containerid=1076031192329374&extparam=&luicode=10000011&lfid=1076031192329374&featurecode=\"\n",
    "    }\n",
    "}\n",
    "```"
   ]
  },
  {
   "cell_type": "markdown",
   "metadata": {},
   "source": [
    "### 获取微博的评论\n",
    "获取评论方式 url：https://m.weibo.cn/api/comments/show?id=4236304998304332&page=1\n",
    "\n",
    "参数：\n",
    "- id: 当前微博 id，可以从微博请求连接中获取到\n",
    "- page: 当前第几页\n",
    "\n",
    "**返回数据**\n",
    "\n",
    "这里要获取用户的评论和用户基本信息，所有的返回数据在 `data/data` 数组中需要获取如下信息：\n",
    "- `source`: 发布的设备，\n",
    "- `text`: 评论信息\n",
    "- `like_counts`: 点赞数量\n",
    "- `user` 字段中需要获取如下信息：\n",
    "    - `id`: 用户的id，用于统计参与的用户\n",
    "    - `profile_url`: 用户的首页信息地址\n",
    "    - `screen_name`: 昵称\n",
    "\n",
    "```json\n",
    "{\n",
    "    \"ok\": 1, \n",
    "    \"msg\": \"数据获取成功\", \n",
    "    \"data\": {\n",
    "        \"data\": [\n",
    "            {\n",
    "                \"id\": 4237164545724845, \n",
    "                \"created_at\": \"2分钟前\", \n",
    "                \"source\": \"前后2000万 OPPO R11s\", \n",
    "                \"user\": {\n",
    "                    \"id\": 6510497406, \n",
    "                    \"screen_name\": \"风继续吹-201511\", \n",
    "                    \"profile_image_url\": \"https://tvax4.sinaimg.cn/crop.0.0.132.132.180/0076BnMGly8fpjoi3pd5bj303o03omx0.jpg\", \n",
    "                    \"verified\": false, \n",
    "                    \"verified_type\": -1, \n",
    "                    \"mbtype\": 0, \n",
    "                    \"profile_url\": \"https://m.weibo.cn/u/6510497406?uid=6510497406&luicode=10000011&lfid=1076031192329374\", // 个人主页地址\n",
    "                    \"remark\": \"\", \n",
    "                    \"following\": false, //我是否关注\n",
    "                    \"follow_me\": false // 是否关注我\n",
    "                }, \n",
    "                \"text\": \"挺美的 辣妈 很美\", // 评论\n",
    "                \"like_counts\": 0,  // 点赞数量\n",
    "                \"liked\": false // 我是否点赞\n",
    "            }\n",
    "        ], \n",
    "        \"total_number\": 5283, \n",
    "        \"max\": 529\n",
    "    }\n",
    "}\n",
    "```"
   ]
  },
  {
   "cell_type": "markdown",
   "metadata": {},
   "source": [
    "### 获取微博点赞数据 \n",
    "点赞信息获取 url：https://m.weibo.cn/api/attitudes/show?id=4237116843937317&page=1\n",
    "\n",
    "**参数：**\n",
    "- `id`: 词条微博的 id\n",
    "- `page`: 第几页，每页展示 50 条\n",
    "\n",
    "**返回数据**\n",
    "\n",
    "需要获取的数据在 `data/data` 字段中，需获取如下信息\n",
    "- `source`: 操作设备名称\n",
    "- `user`:用户信息\n",
    "    - `id`: 用户 id\n",
    "    - `profile_url`: 个人主页地址\n",
    "    - `screen_name`: 昵称\n",
    "```json\n",
    "{\n",
    "    \"ok\": 1, \n",
    "    \"msg\": \"数据获取成功\", \n",
    "    \"data\": {\n",
    "        \"total_number\": 104951, \n",
    "        \"max\": 2100, \n",
    "        \"data\": [\n",
    "            {\n",
    "                \"id\": 4237168459296182, \n",
    "                \"created_at\": \"刚刚\", \n",
    "                \"source\": \"柔光自拍vivo X7\", \n",
    "                \"user\": {\n",
    "                    \"id\": 5803297786, \n",
    "                    \"screen_name\": \"Shirley-的主场\", \n",
    "                    \"profile_image_url\": \"https://tva1.sinaimg.cn/crop.0.0.438.438.180/006kK2Rcjw8ezfaiyje3qj30c60c6mxn.jpg\", \n",
    "                    \"verified\": false, \n",
    "                    \"verified_type\": -1, \n",
    "                    \"mbtype\": 0, \n",
    "                    \"profile_url\": \"https://m.weibo.cn/u/5803297786?uid=5803297786&luicode=10000011&lfid=1076031192329374\", \n",
    "                    \"remark\": \"\", \n",
    "                    \"following\": false, \n",
    "                    \"follow_me\": false\n",
    "                }\n",
    "            }\n",
    "        ]\n",
    "    }\n",
    "}\n",
    "```"
   ]
  },
  {
   "cell_type": "markdown",
   "metadata": {},
   "source": [
    "### 获取微博转发数据\n",
    "微博转发信息获取 url：https://m.weibo.cn/api/statuses/repostTimeline?id=4237116843937317&page=1\n",
    "\n",
    "**参数：**\n",
    "- `id`: 此条微博的id\n",
    "- `page`: 第几页，每页显示 10 条\n",
    "\n",
    "**返回数据：**\n",
    "\n",
    "返回的数据均在 `data/data` 字段下，此处要获取如下信息：\n",
    "- `text`: 转发时的评论，如果内容为 \"转发微博\" 则表示值转发不评论\n",
    "- `user`:用户信息\n",
    "    - `id`: 用户 id\n",
    "    - `profile_url`: 个人主页地址\n",
    "    - `screen_name`: 昵称\n",
    "\n",
    "```json\n",
    "{\n",
    "    \"ok\": 1, \n",
    "    \"msg\": \"数据获取成功\", \n",
    "    \"data\": {\n",
    "        \"data\": [\n",
    "            {\n",
    "                \"id\": 4237170380036347, \n",
    "                \"raw_text\": \"转发微博\", \n",
    "                \"text\": \"转发微博\", \n",
    "                \"created_at\": \"刚刚\", \n",
    "                \"user\": {\n",
    "                    \"id\": 3675989462, \n",
    "                    \"screen_name\": \"海斗su\", \n",
    "                    \"profile_image_url\": \"https://tvax4.sinaimg.cn/crop.0.0.664.664.180/db1b25d6ly8fisne8026pj20ig0iggmq.jpg\", \n",
    "                    \"verified\": false, \n",
    "                    \"verified_type\": -1, \n",
    "                    \"mbtype\": 2, \n",
    "                    \"profile_url\": \"https://m.weibo.cn/u/3675989462?uid=3675989462&luicode=10000011&lfid=1076031192329374\", \n",
    "                    \"remark\": \"\", \n",
    "                    \"following\": false, \n",
    "                    \"follow_me\": false\n",
    "                }, \n",
    "                \"like_counts\": 0, \n",
    "                \"liked\": false\n",
    "            }\n",
    "        ], \n",
    "        \"total_number\": 3565, \n",
    "        \"hot_total_number\": 5, \n",
    "        \"max\": 357\n",
    "    }\n",
    "}\n",
    "\n",
    "```"
   ]
  },
  {
   "cell_type": "markdown",
   "metadata": {},
   "source": [
    "### 获取微博中评论、转发、点赞的用户的信息\n",
    "获取用户信息：（super-帅比）https://m.weibo.cn/api/container/getIndex?uid=6013003248&luicode=10000011&lfid=1076036013003248&featurecode=20000320&containerid=1005056013003248\n",
    "\n",
    "containerid 为：100505 + 用户 id\n",
    "\n",
    "用户基础信息获取：[https://m.weibo.cn/api/container/getIndex?containerid=2302836013003248_-\n",
    "_INFO&title=%25E5%259F%25BA%25E6%259C%25AC%25E8%25B5%2584%25E6%2596%2599&\n",
    "luicode=10000011&lfid=2302836013003248&featurecode=20000320]\n",
    "\n",
    "** 参数: ** \n",
    "- containerid 为：230283 + 用户 id\n",
    "- lfid 为：230283 + 用户 id\n",
    "\n",
    "**返回数据：**\n",
    "\n",
    "所有的数据均在 `data/cards` 中，需要从每个 card 中获取到 `card_group`, 从中在获取到 `昵称``性别``所在地``简介``注册时间` 信息。\n",
    "```json\n",
    "{\n",
    "    \"ok\": 1, \n",
    "    \"data\": {\n",
    "        \"cardlistInfo\": {}, \n",
    "        \"cards\": [\n",
    "            {\n",
    "                \"card_type\": 11, \n",
    "                \"show_type\": 2, \n",
    "                \"card_group\": [\n",
    "                    {\n",
    "                        \"card_type\": 41, \n",
    "                        \"item_name\": \"昵称\", \n",
    "                        \"item_content\": \"Dejlige_\"\n",
    "                    }, \n",
    "                    {\n",
    "                        \"card_type\": 41, \n",
    "                        \"item_name\": \"性别\", \n",
    "                        \"item_content\": \"女\"\n",
    "                    }, \n",
    "                    {\n",
    "                        \"card_type\": 41, \n",
    "                        \"item_name\": \"所在地\", \n",
    "                        \"item_content\": \"山西 运城\"\n",
    "                    }, \n",
    "                    {\n",
    "                        \"card_type\": 41, \n",
    "                        \"item_name\": \"简介\", \n",
    "                        \"item_content\": \"底线 蔡徐坤 ❤️\"\n",
    "                    }\n",
    "                ]\n",
    "            }, \n",
    "            {\n",
    "                \"card_type\": 11, \n",
    "                \"show_type\": 2, \n",
    "                \"is_asyn\": 0, \n",
    "                \"card_group\": [ \n",
    "                    {\n",
    "                        \"card_type\": 41, \n",
    "                        \"item_name\": \"注册时间\", \n",
    "                        \"item_content\": \"2016-01-28\"\n",
    "                    }\n",
    "                ]\n",
    "            }\n",
    "        ], \n",
    "        \"showAppTips\": 0, \n",
    "        \"scheme\": \"sinaweibo://cardlist?containerid=2302835841808579_-\n",
    "        _INFO&extparam=&luicode=10000011&lfid=2302835841808579&featurecode=\"\n",
    "    }\n",
    "}\n",
    "```"
   ]
  },
  {
   "cell_type": "code",
   "execution_count": null,
   "metadata": {},
   "outputs": [],
   "source": [
    "# 导入相关包\n",
    "import matplotlib.pyplot as plt\n",
    "import numpy as np\n",
    "import pandas as pd\n",
    "from tqdm import tqdm\n",
    "from pyecharts import Bar\n",
    "from pyecharts import online\n",
    "import urllib\n",
    "from urllib import request\n",
    "import json\n",
    "from retrying import retry\n",
    "import os\n",
    "import csv\n",
    "from tqdm import tqdm\n",
    "import time\n",
    "import ssl\n",
    "import requests\n",
    "\n",
    "%matplotlib inline\n",
    "%config InlineBackend.figure_format = 'retina'\n",
    "\n",
    "# 让 pyecharts 在 jupyter 下载时有图片\n",
    "online()\n",
    "\n",
    "# ssl 设置\n",
    "requests.packages.urllib3.disable_warnings()"
   ]
  },
  {
   "cell_type": "markdown",
   "metadata": {},
   "source": [
    "## 信息获取代码"
   ]
  },
  {
   "cell_type": "markdown",
   "metadata": {},
   "source": [
    "### 获取用户所发微博\n",
    "将微博保存在 csv 文件中"
   ]
  },
  {
   "cell_type": "code",
   "execution_count": null,
   "metadata": {},
   "outputs": [],
   "source": [
    "\"\"\"\n",
    "下载图片\n",
    "mid: 微博 id\n",
    "pics: 待下载的图片\n",
    "imagepath: 图片保存地址\n",
    "\"\"\" \n",
    "def download_images(mid,pics,imagepath):\n",
    "    for index,image_data in enumerate(pics):\n",
    "        # 大图\n",
    "        url = image_data[\"large\"][\"url\"]\n",
    "        #获得图片后缀\n",
    "        file_suffix = os.path.splitext(url)[1]\n",
    "        filename = imagepath  + str(mid) + \"_\" + str(index) + file_suffix\n",
    "        if not os.path.exists(filename):\n",
    "            print(\"下载..\",url,filename)\n",
    "            time.sleep(1)\n",
    "            image = requests.get(url,verify=False)\n",
    "            with open(filename, 'wb') as file:\n",
    "                file.write(image.content)"
   ]
  },
  {
   "cell_type": "code",
   "execution_count": null,
   "metadata": {},
   "outputs": [],
   "source": [
    "\"\"\"\n",
    "获取用户微博，并保存到指定路径的指定文件\n",
    "\"\"\"\n",
    "def get_mblog(uid,filepath,imagepath,weibo_log):\n",
    "    if not os.path.exists(imagepath):\n",
    "        print(imagepath, \"文件路径不存在\")\n",
    "        return\n",
    "    url = \"https://m.weibo.cn/api/container/getIndex?type=uid&value=\"+uid+\"&containerid=107603\"+uid+\"&page=\"\n",
    "    mblog_io = open(filepath,\"a\")\n",
    "    mblog_csv = csv.writer(mblog_io)\n",
    "    mblog_csv.writerow([\"mid\",\"created_at\",\"text\",\"source\",\"reposts_count\",\\\n",
    "                        \"comments_count\",\"attitudes_count\",\"is_reposts\"])\n",
    "    \n",
    "    with open(weibo_log) as f:\n",
    "        mids = f.read().splitlines()\n",
    "    logs = open(weibo_log,\"a\")\n",
    "    CARRY_ON = True\n",
    "    PAGE = 1\n",
    "    while CARRY_ON:\n",
    "        print(PAGE)\n",
    "        try:\n",
    "            rep = requests.get(url + str(PAGE),verify=False)\n",
    "            data = rep.json()\n",
    "            cards = data[\"data\"][\"cards\"]\n",
    "            if len(cards) > 0:\n",
    "                for card in cards:\n",
    "                    if card[\"card_type\"] == 9 and card[\"mblog\"][\"mid\"] not in mids:\n",
    "                        mblog = card[\"mblog\"]\n",
    "                        mid = mblog[\"mid\"]\n",
    "                        \n",
    "                        created_at = mblog[\"created_at\"]\n",
    "                        text = mblog[\"text\"]\n",
    "                        source = mblog[\"source\"]\n",
    "                        reposts_count = mblog[\"reposts_count\"]\n",
    "                        comments_count = mblog[\"comments_count\"]\n",
    "                        attitudes_count = mblog[\"attitudes_count\"]\n",
    "                        if \"retweeted_status\" in mblog.keys():\n",
    "                            is_reposts = 1\n",
    "                        else:\n",
    "                            is_reposts = 0\n",
    "\n",
    "                        mblog_csv.writerow((mid,created_at,text,source,reposts_count,\\\n",
    "                                            comments_count,attitudes_count,is_reposts))\n",
    "                        # 获取图片\n",
    "                        if \"pics\" in mblog.keys():\n",
    "                            download_images(mid,mblog[\"pics\"],imagepath)\n",
    "                        logs.writelines(mid+\"\\n\")\n",
    "                time.sleep(3)                    \n",
    "                PAGE += 1\n",
    "            else:\n",
    "                # 已无返回数据\n",
    "                CARRY_ON = False\n",
    "        except Exception:\n",
    "            print(\"产生错误\")\n",
    "            mblog_io.close()\n",
    "            logs.close()\n",
    "            print(\"重新开始\")\n",
    "            get_mblog(uid,filepath,imagepath,weibo_log)\n",
    "            raise\n",
    "    mblog_io.close()\n",
    "    logs.close()"
   ]
  },
  {
   "cell_type": "markdown",
   "metadata": {},
   "source": [
    "## 获取谢娜的微博"
   ]
  },
  {
   "cell_type": "code",
   "execution_count": null,
   "metadata": {},
   "outputs": [],
   "source": [
    "weibo_data = \"/Users/weduoo/Desktop/weibo/xiena.csv\"\n",
    "image_path =  \"/Users/weduoo/Desktop/weibo/xiena/\"\n",
    "weibo_logs = \"/Users/weduoo/Desktop/weibo/xiena_complete.txt\"\n",
    "get_mblog(\"1192329374\",weibo_data,image_path,weibo_logs)"
   ]
  },
  {
   "cell_type": "markdown",
   "metadata": {},
   "source": [
    "## 获取走饭的微博"
   ]
  },
  {
   "cell_type": "code",
   "execution_count": null,
   "metadata": {},
   "outputs": [],
   "source": [
    "weibo_data_zoufan = \"/Users/weduoo/Desktop/weibo/zoufan.csv\"\n",
    "image_path_zoufan =  \"/Users/weduoo/Desktop/weibo/zoufan/\"\n",
    "weibo_log_zoufan = \"/Users/weduoo/Desktop/weibo/zoufan_complete.txt\"\n",
    "get_mblog(\"1648007681\",weibo_data_zoufan,image_path_zoufan,weibo_log_zoufan)"
   ]
  },
  {
   "cell_type": "markdown",
   "metadata": {},
   "source": [
    "## 下载图片"
   ]
  },
  {
   "cell_type": "code",
   "execution_count": null,
   "metadata": {
    "scrolled": false
   },
   "outputs": [],
   "source": [
    "weibo_data_pics = \"/Users/weduoo/Desktop/weibo/pics.csv\"\n",
    "image_path_pics =  \"/Users/weduoo/Desktop/weibo/pics/\"\n",
    "weibo_log_pics = \"/Users/weduoo/Desktop/weibo/pics_complete.txt\"\n",
    "get_mblog(\"1304494805\",weibo_data_pics,image_path_pics,weibo_log_pics)"
   ]
  },
  {
   "cell_type": "markdown",
   "metadata": {},
   "source": [
    "## 获取最美中国风图片"
   ]
  },
  {
   "cell_type": "code",
   "execution_count": null,
   "metadata": {
    "scrolled": true
   },
   "outputs": [],
   "source": [
    "weibo_data_pics = \"/Users/weduoo/Desktop/weibo/chinabeau.csv\"\n",
    "image_path_pics =  \"/Users/weduoo/Desktop/weibo/chinabeau/\"\n",
    "weibo_log_pics = \"/Users/weduoo/Desktop/weibo/china_complete.txt\"\n",
    "get_mblog(\"2142452271\",weibo_data_pics,image_path_pics,weibo_log_pics)"
   ]
  },
  {
   "cell_type": "markdown",
   "metadata": {},
   "source": [
    "## 获取老树画画的微博与图片"
   ]
  },
  {
   "cell_type": "code",
   "execution_count": null,
   "metadata": {},
   "outputs": [],
   "source": [
    "weibo_data_pics = \"/Users/weduoo/Desktop/weibo/laoshu.csv\"\n",
    "image_path_pics =  \"/Users/weduoo/Desktop/weibo/laoshu/\"\n",
    "weibo_log_pics = \"/Users/weduoo/Desktop/weibo/laoshu_complete.txt\"\n",
    "get_mblog(\"1454064140\",weibo_data_pics,image_path_pics,weibo_log_pics)"
   ]
  },
  {
   "cell_type": "markdown",
   "metadata": {},
   "source": [
    "## 获取 nico 的微博"
   ]
  },
  {
   "cell_type": "code",
   "execution_count": null,
   "metadata": {},
   "outputs": [],
   "source": [
    "weibo_data_pics = \"/Users/weduoo/Desktop/weibo/nico/nico.csv\"\n",
    "image_path_pics =  \"/Users/weduoo/Desktop/weibo/nico/nico/\"\n",
    "weibo_log_pics = \"/Users/weduoo/Desktop/weibo/nico/nico_complete.txt\"\n",
    "get_mblog(\"2109243041\",weibo_data_pics,image_path_pics,weibo_log_pics)"
   ]
  },
  {
   "cell_type": "code",
   "execution_count": null,
   "metadata": {},
   "outputs": [],
   "source": [
    "ssl._create_default_https_context = ssl._create_unverified_context\n",
    "req = 'https://m.weibo.cn/api/container/getIndex?type=uid&value=1192329374&containerid=1076031192329374&page=2'\n",
    "data = urllib.request.urlopen(req).read()\n",
    "print(data)"
   ]
  },
  {
   "cell_type": "code",
   "execution_count": null,
   "metadata": {},
   "outputs": [],
   "source": [
    "from requests.packages import urllib3\n",
    " \n",
    "urllib3.disable_warnings()\n",
    "response = requests.get(req, verify=False)\n",
    "print(response.status_code)"
   ]
  },
  {
   "cell_type": "markdown",
   "metadata": {},
   "source": [
    "# 词语图分析"
   ]
  },
  {
   "cell_type": "code",
   "execution_count": null,
   "metadata": {},
   "outputs": [],
   "source": [
    "from wordcloud import WordCloud\n",
    "import matplotlib.pyplot as plt\n",
    "import re\n",
    "def create_wordcloud(text):\n",
    "    # 用于支持中文的设置\n",
    "    font = '/Library/Fonts/Songti.ttc'\n",
    "    wordcloud = WordCloud(background_color=\"white\",font_path=font,\\\n",
    "                          width=1000, height=1000, margin=2).generate(text)\n",
    "    # 生成图片\n",
    "    plt.figure(figsize=(14,14))\n",
    "    plt.imshow(wordcloud)\n",
    "    plt.axis(\"off\")\n",
    "    plt.show()"
   ]
  },
  {
   "cell_type": "markdown",
   "metadata": {},
   "source": [
    "## 走饭微博词云图"
   ]
  },
  {
   "cell_type": "code",
   "execution_count": null,
   "metadata": {},
   "outputs": [],
   "source": [
    "def zoufan_wordcloud():\n",
    "    data = pd.read_csv(\"/Users/weduoo/Desktop/weibo/zoufanV1.csv\")\n",
    "    weibo = []\n",
    "    for text in tqdm(list(data[\"text\"])):\n",
    "#         t = str(text).strip().replace(\"哈\",\"\").replace(\"呵\",\"\").replace(\"啦\",\"\").replace(\"啊\",\"\")\n",
    "#         t = remove_words(str(text))\n",
    "        text = re.sub('[a-zA-Z]','', str(text))\n",
    "        weibo.append(str(text).strip())\n",
    "    create_wordcloud(\"\\n\".join(weibo))\n",
    "zoufan_wordcloud()"
   ]
  },
  {
   "cell_type": "code",
   "execution_count": null,
   "metadata": {},
   "outputs": [],
   "source": [
    "a = \"weduoo.com\"\n",
    "id(a)"
   ]
  },
  {
   "cell_type": "code",
   "execution_count": null,
   "metadata": {},
   "outputs": [],
   "source": [
    "x=y=z=1"
   ]
  },
  {
   "cell_type": "code",
   "execution_count": null,
   "metadata": {},
   "outputs": [],
   "source": [
    "print(x,y,z)"
   ]
  },
  {
   "cell_type": "code",
   "execution_count": null,
   "metadata": {},
   "outputs": [],
   "source": [
    "a=b=[\"weduoo.com\",\"hello\"]\n",
    "a.append(\"weduoo.cn\")\n",
    "print(a,b)"
   ]
  },
  {
   "cell_type": "code",
   "execution_count": null,
   "metadata": {},
   "outputs": [],
   "source": [
    "import os\n",
    "rPath = \"/Users/weduoo/Desktop\"\n",
    "for path in os.listdir(rPath):\n",
    "    sPath = os.path.join(rPath, path)\n",
    "    if os.path.isdir(sPath):\n",
    "        print(sPath)   "
   ]
  },
  {
   "cell_type": "code",
   "execution_count": null,
   "metadata": {},
   "outputs": [],
   "source": [
    "b = dict(zip(('a','b','c','d','e'),(1,2,3,4,5)))\n",
    "print(b)"
   ]
  },
  {
   "cell_type": "code",
   "execution_count": null,
   "metadata": {},
   "outputs": [],
   "source": [
    "class A(object):\n",
    "    def go(self):\n",
    "        print(\"go A go!\")\n",
    "    def stop(self):\n",
    "        print(\"stop A stop!\")\n",
    "    def pause(self):\n",
    "        raise Exception(\"Not Implemented\")\n",
    "\n",
    "class B(A):\n",
    "    def go(self):\n",
    "        super(B, self).go()\n",
    "        print(\"go B go!\")\n",
    "\n",
    "class C(A):\n",
    "    def go(self):\n",
    "        super(C, self).go()\n",
    "        print(\"go C go!\")\n",
    "    def stop(self):\n",
    "        super(C, self).stop()\n",
    "        print(\"stop C stop!\")\n",
    "\n",
    "class D(B,C):\n",
    "    def go(self):\n",
    "        super(D, self).go()\n",
    "        print(\"go D go!\")\n",
    "    def stop(self):\n",
    "        super(D, self).stop()\n",
    "        print(\"stop D stop!\")\n",
    "    def pause(self):\n",
    "        print(\"wait D wait!\")\n",
    "\n",
    "class E(B,C): pass\n",
    "a = A()\n",
    "b = B()\n",
    "c = C()\n",
    "d = D()\n",
    "e = E()\n",
    "d.go()\n",
    "D.mro()"
   ]
  },
  {
   "cell_type": "code",
   "execution_count": null,
   "metadata": {},
   "outputs": [],
   "source": [
    "h=11122345\n",
    "print(sys.getrefcount(11122345))"
   ]
  },
  {
   "cell_type": "code",
   "execution_count": null,
   "metadata": {},
   "outputs": [],
   "source": [
    "import sys\n",
    "a = 10103\n",
    "init_cnt = sys.getrefcount(a) - 1\n",
    "\n",
    "print (\"init\", init_cnt)\n",
    "def func(c):\n",
    "    print ('in function, count: ', sys.getrefcount(c) - 1)\n",
    "    print ('函数调用，计数器增加', sys.getrefcount(c) - 1 - init_cnt)\n",
    "func(a)"
   ]
  },
  {
   "cell_type": "code",
   "execution_count": null,
   "metadata": {},
   "outputs": [],
   "source": [
    "id(a)"
   ]
  },
  {
   "cell_type": "code",
   "execution_count": null,
   "metadata": {},
   "outputs": [],
   "source": [
    "hex(id(a))"
   ]
  },
  {
   "cell_type": "markdown",
   "metadata": {},
   "source": [
    "# 清明上河图"
   ]
  },
  {
   "cell_type": "code",
   "execution_count": 3,
   "metadata": {},
   "outputs": [],
   "source": [
    "import requests\n",
    "import os\n",
    "import sys\n",
    "import time"
   ]
  },
  {
   "cell_type": "code",
   "execution_count": null,
   "metadata": {},
   "outputs": [],
   "source": [
    "def download_qmsht_patches(dirs):\n",
    "    pre = 115\n",
    "    url = 'http://en.dpm.org.cn/tilegenerator/dest/files/image/8831/2007/1900/img0009_files/15/'\n",
    "    for i in range(116):\n",
    "        for j in range(6):\n",
    "            name = str(i) + '_' + str(j) + '.jpg'\n",
    "            filename = os.path.join(dirs,name)\n",
    "            if not os.path.exists(filename):\n",
    "                print(\"下载..\",filename)\n",
    "                time.sleep(0.1)\n",
    "                image = requests.get(url+name,verify=False)\n",
    "                with open(filename, 'wb') as file:\n",
    "                    file.write(image.content)"
   ]
  },
  {
   "cell_type": "code",
   "execution_count": null,
   "metadata": {},
   "outputs": [],
   "source": [
    "download_qmsht_patches('/Users/weduoo/Desktop/qmsht/')"
   ]
  },
  {
   "cell_type": "markdown",
   "metadata": {},
   "source": [
    "## 图片拼接\n",
    "### 纵向拼接\n",
    "每一列有六个图片，第一张图片高 257 像素，中间四章高 258 像素，最后一张高 121 像素，总高 1410 像素。宽度每张图片均不一样。"
   ]
  },
  {
   "cell_type": "code",
   "execution_count": 19,
   "metadata": {},
   "outputs": [],
   "source": [
    "import os\n",
    "from PIL import Image"
   ]
  },
  {
   "cell_type": "code",
   "execution_count": 25,
   "metadata": {},
   "outputs": [],
   "source": [
    "def lengthways(origin_dir,dest_dir):\n",
    "    count = [0, 1, 2, 3, 4, 5]\n",
    "    # 六张图的高度\n",
    "    hs = [257, 258, 258, 258, 258, 121]\n",
    "    # 总高\n",
    "    HEIGHT = 1410\n",
    "    for i in range(116):\n",
    "        # 获取第一张图的宽度\n",
    "        w = Image.open(os.path.join(origin_dir, str(i) + '_' + str(0) + '.jpg')).size[0]\n",
    "        imagefile = []\n",
    "        for j in count:\n",
    "            name = str(i) + '_' + str(j) + '.jpg'\n",
    "            imagefile.append(Image.open(os.path.join(orgin_dir, name))) \n",
    "        target = Image.new('RGB', (w, HEIGHT))\n",
    "        x = 0\n",
    "        y = 0\n",
    "        for k,image in enumerate(imagefile):     \n",
    "            target.paste(image, (0, y))\n",
    "            y += hs[k] # 从上往下拼接，左上角的纵坐标递增\n",
    "        quality_value = 100\n",
    "        target.save(os.path.join(dest_dir,str(i)+'.jpg'), quality = quality_value) "
   ]
  },
  {
   "cell_type": "code",
   "execution_count": 26,
   "metadata": {},
   "outputs": [],
   "source": [
    "orgin = '/Users/weduoo/Desktop/qmsht/origin/'\n",
    "dest = '/Users/weduoo/Desktop/qmsht/second/'\n",
    "lengthways(orgin, dest)"
   ]
  },
  {
   "cell_type": "markdown",
   "metadata": {},
   "source": [
    "### 横向拼接\n",
    "高度固定为 1410 ，宽度需要根据实际计算出来"
   ]
  },
  {
   "cell_type": "code",
   "execution_count": 30,
   "metadata": {},
   "outputs": [],
   "source": [
    "def crosswise(origin_dir, dest_dir):\n",
    "    HEIGHT = 1410\n",
    "    # 存储 116 张图的宽度\n",
    "    ws = []\n",
    "    # 存储 116 张图片，用于拼接\n",
    "    images = []\n",
    "    for i in range(116):\n",
    "        img = Image.open(os.path.join(origin_dir, str(i)+'.jpg'))\n",
    "        images.append(img)\n",
    "        ws.append(img.size[0])\n",
    "    # 计算总的宽度\n",
    "    WIDTH = sum(ws)\n",
    "    print(WIDTH)\n",
    "    target = Image.new('RGB', (WIDTH, HEIGHT))\n",
    "    x = 0\n",
    "    y = 0\n",
    "    for k,image in enumerate(images):     \n",
    "        target.paste(image, (x, y))\n",
    "        x += ws[k] # 从左往右拼接，y 不变，x 值增加\n",
    "    quality_value = 100\n",
    "    target.save(os.path.join(dest_dir,'qmsht.jpg'), quality = quality_value) "
   ]
  },
  {
   "cell_type": "code",
   "execution_count": 31,
   "metadata": {},
   "outputs": [
    {
     "name": "stdout",
     "output_type": "stream",
     "text": [
      "29817\n"
     ]
    }
   ],
   "source": [
    "orgin2 = '/Users/weduoo/Desktop/qmsht/second/'\n",
    "dest2 = '/Users/weduoo/Desktop/qmsht/last/'\n",
    "crosswise(orgin2, dest2)"
   ]
  },
  {
   "cell_type": "code",
   "execution_count": 11,
   "metadata": {},
   "outputs": [
    {
     "name": "stdout",
     "output_type": "stream",
     "text": [
      "下载.. 171\n",
      "下载.. 172\n",
      "下载.. 173\n",
      "下载.. 174\n",
      "下载.. 175\n",
      "下载.. 176\n",
      "下载.. 177\n",
      "下载.. 178\n",
      "下载.. 179\n",
      "下载.. 180\n"
     ]
    }
   ],
   "source": [
    "url = 'https://image.slidesharecdn.com/linearalgebrawithaplications-131026133441-phpapp02/95/'\n",
    "       \n",
    "for i in range(171,181):\n",
    "    name = 'linear-algebra-with-aplications-steven-j-leon-'+str(i)+'-638.jpg?cb=1382794707'\n",
    "    filename = os.path.join('/Users/weduoo/Desktop/download/', str(i) + '.jpg')\n",
    "    if not os.path.exists(filename):\n",
    "        print(\"下载..\",i)\n",
    "        time.sleep(0.1)\n",
    "        image = requests.get(url+name,verify=True)\n",
    "        with open(filename, 'wb') as file:\n",
    "            file.write(image.content)"
   ]
  },
  {
   "cell_type": "code",
   "execution_count": null,
   "metadata": {},
   "outputs": [],
   "source": []
  }
 ],
 "metadata": {
  "kernelspec": {
   "display_name": "Python 3",
   "language": "python",
   "name": "python3"
  },
  "language_info": {
   "codemirror_mode": {
    "name": "ipython",
    "version": 3
   },
   "file_extension": ".py",
   "mimetype": "text/x-python",
   "name": "python",
   "nbconvert_exporter": "python",
   "pygments_lexer": "ipython3",
   "version": "3.5.6"
  },
  "toc": {
   "base_numbering": 1,
   "nav_menu": {},
   "number_sections": true,
   "sideBar": true,
   "skip_h1_title": false,
   "title_cell": "Table of Contents",
   "title_sidebar": "Contents",
   "toc_cell": false,
   "toc_position": {
    "height": "calc(100% - 180px)",
    "left": "10px",
    "top": "150px",
    "width": "316px"
   },
   "toc_section_display": true,
   "toc_window_display": true
  }
 },
 "nbformat": 4,
 "nbformat_minor": 2
}
