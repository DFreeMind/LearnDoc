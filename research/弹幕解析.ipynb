{
 "cells": [
  {
   "cell_type": "markdown",
   "metadata": {},
   "source": [
    "# 爱奇艺弹幕解析"
   ]
  },
  {
   "cell_type": "code",
   "execution_count": null,
   "metadata": {},
   "outputs": [],
   "source": []
  },
  {
   "cell_type": "markdown",
   "metadata": {},
   "source": [
    "## 解析 XML 文件\n",
    "弹幕的存储格式为\n",
    "```xml\n",
    "<data>\n",
    "\t<entry>\n",
    "\t\t<int>1</int>\n",
    "\t\t<list>\n",
    "\t\t\t<bulletInfo>\n",
    "\t\t\t\t<contentId>1417507431223347040</contentId>\n",
    "\t\t\t\t<content>哪句话能</content>\n",
    "\t\t\t\t<showTime>1</showTime>\n",
    "\t\t\t\t<font>30</font>\n",
    "\t\t\t\t<color>FFFFFF</color>\n",
    "\t\t\t\t<opacity>0</opacity>\n",
    "\t\t\t\t<position>0</position>\n",
    "\t\t\t\t<background>0</background>\n",
    "\t\t\t\t<contentType>0</contentType>\n",
    "\t\t\t\t<isReply>false</isReply>\n",
    "\t\t\t\t<userInfo>\n",
    "\t\t\t\t\t<uid>2059497678</uid>\n",
    "\t\t\t\t\t<udid>89ce7ce0600eb652b6189a0cbef7967e</udid>\n",
    "\t\t\t\t\t<name>null</name>\n",
    "\t\t\t\t</userInfo>\n",
    "\t\t\t</bulletInfo>\n",
    "\t\t</list>\n",
    "\t</entry>\n",
    "    ...\n",
    "<data>\n",
    "```"
   ]
  },
  {
   "cell_type": "code",
   "execution_count": null,
   "metadata": {},
   "outputs": [],
   "source": [
    "from xml.etree.ElementTree import parse\n",
    "def parse_dm_xml(dm_xml,episode,episode_zh,dm_csv):\n",
    "    with open(dm_xml, 'rb') as f:\n",
    "        doc = parse(dm_xml)\n",
    "        \n",
    "        # 解析弹幕\n",
    "        for item in doc.iterfind('data/entry/list/bulletInfo'):\n",
    "    #         uid=\"\"\n",
    "    #         udid=\"\"\n",
    "            for user in item.iterfind('userInfo'):\n",
    "                uid = user.findtext('uid')\n",
    "                udid = user.findtext('udid')\n",
    "\n",
    "            contentId = item.findtext('contentId')\n",
    "            content = item.findtext('content')\n",
    "            showTime = item.findtext('showTime')\n",
    "\n",
    "            dm_csv.writerow((uid , udid , contentId , content, showTime , episode, episode_zh))"
   ]
  },
  {
   "cell_type": "code",
   "execution_count": null,
   "metadata": {},
   "outputs": [],
   "source": [
    "import os\n",
    "import csv\n",
    "from tqdm import tqdm \n",
    "def parse_danmu(file_path):\n",
    "    # 创建存储弹幕信息的文件\n",
    "    dm = open(r'/Users/weduoo/Desktop/wlwz_dm.csv', 'w')\n",
    "    dm_csv = csv.writer(dm)\n",
    "    # 添加 csv 头部信息\n",
    "    dm_csv.writerow([\"uid\",\"udid\",\"contentId\",\"content\",\"showTime\",\"episode\",\"episode_zh\"])\n",
    "    # 读取存储每集弹幕的文件夹\n",
    "    dm_dirs = os.listdir(file_path)\n",
    "    \n",
    "    for i,dm_dir in tqdm(enumerate(dm_dirs)):\n",
    "        if not dm_dir.startswith('.'):\n",
    "            # 表示第几集\n",
    "            if i < 9:\n",
    "                episode = \"episode_0\" + str(i + 1)\n",
    "                episode_zh = \"第 0\" + str(i + 1) + \" 集\"\n",
    "            else:\n",
    "                episode = \"episode_\" + str(i + 1)\n",
    "                episode_zh = \"第 \" + str(i + 1) + \" 集\"\n",
    "            \n",
    "            dm_xmls = os.listdir(file_path + \"/\" + dm_dir)\n",
    "\n",
    "            for dm_xml in dm_xmls:\n",
    "                if not dm_xml.startswith('.'):\n",
    "                    # 读取 xml 文件\n",
    "                    dm_xml = file_path + \"/\" + dm_dir + \"/\" + dm_xml\n",
    "                    parse_dm_xml(dm_xml,episode,episode_zh,dm_csv)\n",
    "    dm.close()"
   ]
  },
  {
   "cell_type": "code",
   "execution_count": null,
   "metadata": {},
   "outputs": [],
   "source": [
    "parse_danmu(\"/Users/weduoo/Desktop/wlwz\")"
   ]
  },
  {
   "cell_type": "code",
   "execution_count": null,
   "metadata": {},
   "outputs": [],
   "source": [
    "import matplotlib.pyplot as plt\n",
    "import numpy as np\n",
    "import pandas as pd\n",
    "from tqdm import tqdm\n",
    "from pyecharts import Bar\n",
    "from pyecharts import online\n",
    "\n",
    "%matplotlib inline\n",
    "%config InlineBackend.figure_format = 'retina'\n",
    "\n",
    "# 让 pyecharts 在 jupyter 下载时有图片\n",
    "online()"
   ]
  },
  {
   "cell_type": "code",
   "execution_count": null,
   "metadata": {},
   "outputs": [],
   "source": [
    "data = pd.read_csv(\"/Users/weduoo/Desktop/wlwz_dm.csv\")\n",
    "data.head()"
   ]
  },
  {
   "cell_type": "code",
   "execution_count": null,
   "metadata": {},
   "outputs": [],
   "source": [
    "y = data.groupby(\"episode_zh\").size()\n",
    "bar = Bar(\"每集弹幕数量\",width=950)\n",
    "bar.add(\"Total\",list(y.index), y, is_label_show=True, \n",
    "        is_datazoom_show=True, datazoom_type='both',\n",
    "        datazoom_range=[10, 25])\n",
    "bar"
   ]
  },
  {
   "cell_type": "code",
   "execution_count": null,
   "metadata": {},
   "outputs": [],
   "source": [
    "data.groupby(\"udid\")[\"udid\"].value_counts().max()"
   ]
  },
  {
   "cell_type": "code",
   "execution_count": null,
   "metadata": {},
   "outputs": [],
   "source": [
    "# 筛选出含有李小璐的弹幕\n",
    "lxl = data[data[\"content\"].str.contains(\"李小璐\")]\n",
    "print(\"总评论数：\",len(lxl))\n",
    "print(\"参与的人数\", len(lxl.groupby(\"udid\")[\"udid\"].value_counts()))\n",
    "lxl\n",
    "y = lxl.groupby(\"episode_zh\").size()\n",
    "print(\"出现的集数\", len(list(y.index)))\n",
    "bar = Bar(\"出现李小璐的集数及其次数\",width=950)\n",
    "bar.add(\"Total\",list(y.index), y, is_label_show=True, \n",
    "        is_datazoom_show=True, datazoom_type='both',\n",
    "        datazoom_range=[10, 25])\n",
    "bar"
   ]
  },
  {
   "cell_type": "code",
   "execution_count": null,
   "metadata": {
    "scrolled": false
   },
   "outputs": [],
   "source": [
    "# 筛选出含有李小璐的弹幕\n",
    "lxl = data[data[\"content\"].str.contains(\"霍金\")]\n",
    "print(\"总评论数：\",len(lxl))\n",
    "print(\"参与的人数\", len(lxl.groupby(\"udid\")[\"udid\"].value_counts()))\n",
    "lxl\n",
    "y = lxl.groupby(\"episode_zh\").size()\n",
    "print(\"出现的集数\", len(list(y.index)))\n",
    "bar = Bar(\"出现李小璐的集数及其次数\",width=950)\n",
    "bar.add(\"Total\",list(y.index), y, is_label_show=True, \n",
    "        is_datazoom_show=True, datazoom_type='both',\n",
    "        datazoom_range=[10, 25])\n",
    "bar"
   ]
  },
  {
   "cell_type": "code",
   "execution_count": null,
   "metadata": {},
   "outputs": [],
   "source": [
    "# 筛选出含有李小璐的弹幕\n",
    "lxl = data[data[\"content\"].str.contains(\"哈哈\")]\n",
    "print(\"总评论数：\",len(lxl))\n",
    "print(\"参与的人数\", len(lxl.groupby(\"udid\")[\"udid\"].value_counts()))\n",
    "lxl\n",
    "y = lxl.groupby(\"episode_zh\").size()\n",
    "print(\"出现的集数\", len(list(y.index)))\n",
    "bar = Bar(\"出现李小璐的集数及其次数\",width=950)\n",
    "bar.add(\"Total\",list(y.index), y, is_label_show=True, \n",
    "        is_datazoom_show=True, datazoom_type='both',\n",
    "        datazoom_range=[10, 25])\n",
    "bar"
   ]
  },
  {
   "cell_type": "code",
   "execution_count": null,
   "metadata": {},
   "outputs": [],
   "source": [
    "from wordcloud import WordCloud\n",
    "import matplotlib.pyplot as plt\n",
    "def create_wordcloud(text):\n",
    "    # 用于支持中文的设置\n",
    "    font = '/Library/Fonts/Songti.ttc'\n",
    "    wordcloud = WordCloud(background_color=\"white\",font_path=font,\\\n",
    "                          width=1000, height=1000, margin=2).generate(text)\n",
    "    # 生成图片\n",
    "    plt.figure(figsize=(14,14))\n",
    "    plt.imshow(wordcloud)\n",
    "    plt.axis(\"off\")\n",
    "    plt.show()"
   ]
  },
  {
   "cell_type": "code",
   "execution_count": null,
   "metadata": {},
   "outputs": [],
   "source": [
    "dm_text = [] \n",
    "for text in list(data[\"content\"]):\n",
    "    t = text.strip().replace(\"哈\",\"\")\n",
    "    dm_text.append(t.strip())\n",
    "create_wordcloud(\"\\n\".join(dm_text))"
   ]
  },
  {
   "cell_type": "code",
   "execution_count": null,
   "metadata": {},
   "outputs": [],
   "source": []
  },
  {
   "cell_type": "markdown",
   "metadata": {},
   "source": [
    "# 乐视甄嬛传弹幕与评论解析`"
   ]
  },
  {
   "cell_type": "markdown",
   "metadata": {},
   "source": [
    "**以下信息均可以去掉 jQuery 参数**\n",
    "\n",
    "剧集信息 url：http://d-api-m.le.com/card/dynamic?platform=pc&callback=jQuery191011019487064499534_1525083223860&vid=1559865&cid=2&id=73868&pagesize=15&type=episode&isvip=0&page=1&_=1525083223861\n",
    "```\n",
    "```\n",
    "\n",
    "基础信息 url：http://v.stat.le.com/vplay/queryMmsTotalPCount?callback=jQuery19105577507525270364_1525079352904&vid=1559584&_=1525079352921\n",
    "```\n",
    "{\n",
    "    \"vdm_count\": 23544, \n",
    "    \"is_comm\": 1, \n",
    "    \"vreply\": 2285, \n",
    "    \"vcomm_count\": 7656, \n",
    "    \"vnpcomm\": 7120, \n",
    "    \"media_play_count\": 21326745, \n",
    "    \"is_dm\": 1, \n",
    "    \"up\": 74082, \n",
    "    \"down\": 23193\n",
    "}\n",
    "```\n",
    "\n",
    "弹幕请求 url：http://cdn.api.my.le.com/danmu/list?vid=1559584&cid=2&start=0&amount=2000&getcount=1\n",
    "```json\n",
    "{\n",
    "    \"code\": 200, \n",
    "    \"data\": {\n",
    "        \"list\": [], \n",
    "        \"user\": [ ], \n",
    "        \"vidDanmuCount\": \"18506\"\n",
    "    }\n",
    "}\n",
    " {\n",
    "    \"uid\": 291036303, \n",
    "    \"start\": 142.556, \n",
    "    \"txt\": \"齐妃上海人吧\", \n",
    "    \"color\": \"FFFFFF\", \n",
    "    \"font\": \"m\", \n",
    "    \"type\": \"txt\", \n",
    "    \"position\": 2, \n",
    "    \"addtime\": 1524814538, \n",
    "    \"from\": 2, \n",
    "    \"vip\": 3, \n",
    "    \"version\": \"7.12\", \n",
    "    \"region\": \"CN\", \n",
    "    \"appid\": 0, \n",
    "    \"sappid\": 0, \n",
    "    \"platid\": 0, \n",
    "    \"_id\": \"5248145388932101016\"\n",
    "}\n",
    "```\n",
    "\n"
   ]
  },
  {
   "cell_type": "markdown",
   "metadata": {},
   "source": [
    "评论请求 url：http://api.my.le.com/vcm/api/list?jsonp=jQuery19105577507525270364_1525079352904&type=video&rows=20&page=2&sort=&cid=2&source=1&xid=1559584&pid=73868&ctype=cmt%2Cimg%2Cvote&listType=1&_=1525079352922\n",
    "```json\n",
    "{\n",
    "    \"result\": \"200\", \n",
    "    \"total\": 7656, \n",
    "    \"replyTotal\": 2285, \n",
    "    \"data\": [], \n",
    "    \"rule\": 1, \n",
    "    \"authData\": [ ], \n",
    "    \"topData\": [ ], \n",
    "    \"godData\": [ ], \n",
    "    \"announcementData\": [ ], \n",
    "    \"version_time\": \"2018-04-30 16:00:27\"\n",
    "}\n",
    "{\n",
    "     \"_id\": \"5245677405075101068\", \n",
    "     \"content\": \"自插双眼？\", \n",
    "     \"vtime\": \"5天前\", \n",
    "     \"ctime\": \"1524567740\", \n",
    "     \"city\": \"北京\", \n",
    "     \"replynum\": 0, \n",
    "     \"voteFlag\": \"0\", \n",
    "     \"ip\": \"3698331511\", \n",
    "     \"like\": 3, \n",
    "     \"img\": false, \n",
    "     \"imgPack\": [ ], \n",
    "     \"htime\": 0, \n",
    "     \"pid\": \"73868\", \n",
    "     \"xid\": \"1559584\", \n",
    "     \"lid\": \"101\", \n",
    "     \"cid\": 2, \n",
    "     \"replys\": [ ], \n",
    "     \"source\": {\n",
    "         \"id\": 3, \n",
    "         \"detail\": \"乐视网\"\n",
    "     }, \n",
    "     \"cmtType\": \"cmt\", \n",
    "     \"vote\": [ ], \n",
    "     \"votenum\": 0, \n",
    "     \"status\": \"2\", \n",
    "     \"user\": {\n",
    "         \"uid\": \"173369259\", \n",
    "         \"ssouid\": \"173369259\", \n",
    "         \"username\": \"广东乐迷\", \n",
    "         \"photo\": \"http://i2.letvimg.com/lc01_iscms/201510/13/16/56/ab665c35af9d47beb2f7078cbaf308de.png\", \n",
    "         \"isvip\": 0, \n",
    "         \"cooperation\": [ ]\n",
    "     }, \n",
    "     \"isLike\": false, \n",
    "     \"isVoted\": false\n",
    "}, \n",
    "```"
   ]
  },
  {
   "cell_type": "code",
   "execution_count": null,
   "metadata": {},
   "outputs": [],
   "source": [
    "import urllib\n",
    "from urllib import request\n",
    "import json\n",
    "from retrying import retry\n",
    "import os\n",
    "import csv\n",
    "from tqdm import tqdm"
   ]
  },
  {
   "cell_type": "markdown",
   "metadata": {},
   "source": [
    "## 评论解析"
   ]
  },
  {
   "cell_type": "code",
   "execution_count": null,
   "metadata": {},
   "outputs": [],
   "source": [
    "\n",
    "\"\"\"\n",
    "获取剧集信息\n",
    "episode_nums:当前电视剧有多少集\n",
    "episode:当前电视剧 ID\n",
    "\"\"\"\n",
    "def get_episode(episode, episode_nums):\n",
    "    url = \"http://d-api-m.le.com/card/dynamic?platform=pc&vid=\" + str(episode) + \"&cid=2&id=73868&pagesize=\"+str(episode_nums)+\"&type=episode&isvip=0&page=1\"\n",
    "    rep = request.urlopen(url)\n",
    "    return json.loads(rep.read())\n",
    "\n",
    "\"\"\"\n",
    "获取基础评论信息\n",
    "episode_id:集 id\n",
    "\"\"\" \n",
    "def get_base_info(episode_id):\n",
    "    url = \"http://v.stat.le.com/vplay/queryMmsTotalPCount?vid=\" + str(episode_id)\n",
    "    rep = request.urlopen(url)\n",
    "    return json.loads(rep.read())\n",
    " \n",
    "\"\"\"\n",
    "获取评论信息\n",
    "vcomm_count:评论数量\n",
    "episode_id:集 id\n",
    "\"\"\"\n",
    "@retry\n",
    "def comm_get(vcomm_count,page,episode_id,pid):\n",
    "    url=\"http://api.my.le.com/vcm/api/list?type=video&rows=\"+str(vcomm_count)+\"&page=\"+str(page)+\"&sort=&cid=2&source=1&xid=\"+str(episode_id) +\"&pid=\"+str(pid)+\"&listType=1\"\n",
    "    rep = request.urlopen(url)\n",
    "    return json.loads(rep.read())\n",
    "\n",
    "\"\"\"\n",
    "解析评论\n",
    "comm_csv:写入 csv \n",
    "datas:评论数据\n",
    "episode:剧集信息\n",
    "\"\"\" \n",
    "def parse_comm(comm_csv, datas, episode):\n",
    "    for data in datas:\n",
    "        if (\"replys\" in data.keys()) and len(data[\"replys\"]) > 0:\n",
    "            parse_comm_sub(comm_csv, data[\"replys\"], episode)\n",
    "        # 用户\n",
    "        user = data[\"user\"]\n",
    "        uid = user[\"uid\"]\n",
    "        username = user[\"username\"]\n",
    "        isvip = user[\"isvip\"]\n",
    "        ip = data[\"ip\"]\n",
    "        city = data[\"city\"]\n",
    "\n",
    "        # 评论\n",
    "        content = data[\"content\"]\n",
    "        ctime = data[\"ctime\"]\n",
    "        like = data[\"like\"]\n",
    "        replynum = 0\n",
    "        if \"replynum\" in data.keys():\n",
    "            replynum = data[\"replynum\"]\n",
    "        \n",
    "        # 来源\n",
    "        source = data[\"source\"][\"detail\"]\n",
    "\n",
    "        # 剧集信息\n",
    "        title = episode[\"title\"]\n",
    "        subtitle = episode[\"subTitle\"]\n",
    "        play_count = episode[\"play_count\"]\n",
    "        \n",
    "        comm_csv.writerow((uid, username, isvip, ip, city, content, ctime, like, replynum, source, title, subtitle, play_count))\n",
    "\n",
    "def parse_comm_sub(comm_csv, datas, episode):\n",
    "    for data in datas:\n",
    "        if (\"replys\" in data.keys()) and len(data[\"replys\"]) > 0:\n",
    "            parse_comm_sub(comm_csv, data[\"replys\"], episode)\n",
    "        # 用户\n",
    "        user = data[\"user\"]\n",
    "        uid = user[\"uid\"]\n",
    "        username = user[\"username\"]\n",
    "        isvip = user[\"isvip\"]\n",
    "        ip = data[\"ip\"]\n",
    "        city = data[\"city\"]\n",
    "\n",
    "        # 评论\n",
    "        content = data[\"content\"]\n",
    "        ctime = data[\"ctime\"]\n",
    "        like = data[\"like\"]\n",
    "        replynum = 0\n",
    "        if \"replynum\" in data.keys():\n",
    "            replynum = data[\"replynum\"]\n",
    "        \n",
    "        # 来源\n",
    "        source = data[\"source\"][\"detail\"]\n",
    "\n",
    "        # 剧集信息\n",
    "        title = episode[\"title\"]\n",
    "        subtitle = episode[\"subTitle\"]\n",
    "        play_count = episode[\"play_count\"]\n",
    "        \n",
    "        comm_csv.writerow((uid, username, isvip, ip,city, content, ctime, like, replynum, source, title, subtitle, play_count))      "
   ]
  },
  {
   "cell_type": "code",
   "execution_count": null,
   "metadata": {},
   "outputs": [],
   "source": [
    "def create_comm(comm_io,episode_id,episode_nums,pid):\n",
    "    comm_csv = csv.writer(comm_io)\n",
    "    # 添加 csv 头部信息\n",
    "    comm_csv.writerow([\"uid\",\"username\",\"isvip\", \"ip\",\"city\",\"content\",\"ctime\",\"like\",\"replynum\",\"source\",\"title\",\"subtitle\",\"play_count\"])\n",
    "    episodes_data = get_episode(episode_id,episode_nums)\n",
    "    episodes = episodes_data[\"data\"][\"episode\"][\"videolist\"]\n",
    "    for episode in tqdm(episodes):\n",
    "        vid = episode[\"vid\"]\n",
    "        base_info = get_base_info(vid)\n",
    "        vcomm_count = base_info[\"vcomm_count\"]\n",
    "        # 一次最多 60 条\n",
    "        for i in range((vcomm_count//60) + 1 ):\n",
    "            comms = comm_get(60, i + 1,vid,pid)\n",
    "            parse_comm(comm_csv,comms[\"data\"],episode)\n",
    "    \n",
    "# 创建存储弹幕信息的文件\n",
    "comm = open(r'/Users/weduoo/Desktop/zhz_comm.csv', 'a')\n",
    "create_comm(comm,1559865,76,73868)\n",
    "comm.close()"
   ]
  },
  {
   "cell_type": "markdown",
   "metadata": {},
   "source": [
    "## 弹幕解析"
   ]
  },
  {
   "cell_type": "code",
   "execution_count": null,
   "metadata": {},
   "outputs": [],
   "source": [
    "\"\"\"\n",
    "获取弹幕信息\n",
    "vcomm_count:评论数量\n",
    "episode_id:集 id\n",
    "\"\"\"\n",
    "@retry\n",
    "def dm_get(start,episode_id):\n",
    "    url = \"http://cdn.api.my.le.com/danmu/list?vid=\"+str(episode_id)+\"&cid=2&start=\"+str(start)+\"&amount=2000\"\n",
    "    rep = request.urlopen(url)\n",
    "    return json.loads(rep.read())\n",
    "\n",
    "\"\"\"\n",
    "解析弹幕\n",
    "comm_csv:写入 csv \n",
    "datas:评论数据\n",
    "episode:剧集信息\n",
    "\"\"\" \n",
    "def parse_dm(dm_csv, datas, episode):\n",
    "    for data in datas:\n",
    "        uid = data[\"uid\"]\n",
    "        addtime = data[\"addtime\"]\n",
    "        version = data[\"version\"]\n",
    "        txt = data[\"txt\"]\n",
    "        types = data[\"type\"]\n",
    "        title = episode[\"title\"]\n",
    "        subtitle = episode[\"subTitle\"]\n",
    "        \n",
    "        dm_csv.writerow((uid, addtime, version, txt, types, title, subtitle))\n"
   ]
  },
  {
   "cell_type": "code",
   "execution_count": null,
   "metadata": {},
   "outputs": [],
   "source": [
    "def create_dm(dm_io,episode_id,episode_nums):\n",
    "    dm_csv = csv.writer(dm_io)\n",
    "    # 添加 csv 头部信息\n",
    "    dm_csv.writerow([\"uid\",\"addtime\",\"version\",\"txt\",\"type\",\"title\",\"subtitle\"])\n",
    "    episodes_data = get_episode(episode_id,episode_nums)\n",
    "    episodes = episodes_data[\"data\"][\"episode\"][\"videolist\"]\n",
    "    for episode in tqdm(episodes):\n",
    "        vid = episode[\"vid\"]\n",
    "        base_info = get_base_info(vid)\n",
    "        vdm_count = base_info[\"vdm_count\"]\n",
    "        \n",
    "        # 一次最多 60 条\n",
    "        for i in range(0,25,3):\n",
    "            dms = dm_get(i * 100,vid)\n",
    "            parse_dm(dm_csv, dms[\"data\"][\"list\"], episode)\n",
    "    \n",
    "# 创建存储弹幕信息的文件\n",
    "dm = open(r'/Users/weduoo/Desktop/zhz_dm.csv', 'a')\n",
    "create_dm(dm,1559865,76)\n",
    "dm.close()"
   ]
  },
  {
   "cell_type": "markdown",
   "metadata": {},
   "source": [
    "## 弹幕分析"
   ]
  },
  {
   "cell_type": "code",
   "execution_count": null,
   "metadata": {},
   "outputs": [],
   "source": [
    "import matplotlib.pyplot as plt\n",
    "import numpy as np\n",
    "import pandas as pd\n",
    "from tqdm import tqdm\n",
    "from pyecharts import Bar\n",
    "from pyecharts import online\n",
    "\n",
    "%matplotlib inline\n",
    "%config InlineBackend.figure_format = 'retina'\n",
    "\n",
    "# 让 pyecharts 在 jupyter 下载时有图片\n",
    "online()"
   ]
  },
  {
   "cell_type": "code",
   "execution_count": null,
   "metadata": {},
   "outputs": [],
   "source": [
    "data = pd.read_csv(\"/Users/weduoo/Desktop/zhz_dm.csv\")\n",
    "data.head()"
   ]
  },
  {
   "cell_type": "code",
   "execution_count": null,
   "metadata": {
    "scrolled": false
   },
   "outputs": [],
   "source": [
    "y = data.groupby(\"title\").size()\n",
    "bar = Bar(\"每集弹幕数量\",width=950)\n",
    "bar.add(\"Total\",list(y.index), y, is_label_show=True, \n",
    "        is_datazoom_show=True, datazoom_type='both',\n",
    "        datazoom_range=[10, 25])\n",
    "bar"
   ]
  },
  {
   "cell_type": "code",
   "execution_count": null,
   "metadata": {},
   "outputs": [],
   "source": [
    "from wordcloud import WordCloud\n",
    "import matplotlib.pyplot as plt\n",
    "def create_wordcloud(text):\n",
    "    # 用于支持中文的设置\n",
    "    font = '/Library/Fonts/Songti.ttc'\n",
    "    wordcloud = WordCloud(background_color=\"white\",font_path=font,\\\n",
    "                          width=1000, height=1000, margin=2).generate(text)\n",
    "    # 生成图片\n",
    "    plt.figure(figsize=(14,14))\n",
    "    plt.imshow(wordcloud)\n",
    "    plt.axis(\"off\")\n",
    "    plt.show()"
   ]
  },
  {
   "cell_type": "code",
   "execution_count": null,
   "metadata": {},
   "outputs": [],
   "source": [
    "import re\n",
    "dm_text = [] \n",
    "def remove_words(txt):\n",
    "    words = [\"哈\",\"呵\",\"啦\",\"啊\",\"皇上\",\"甄\",\"嬛\",\"弹幕呢\"]\n",
    "    for word in words:\n",
    "        txt = txt.replace(word,\"\")\n",
    "    return txt\n",
    "    \n",
    "for text in tqdm(list(data[\"txt\"])):\n",
    "#     t = str(text).strip().replace(\"哈\",\"\").replace(\"呵\",\"\").replace(\"啦\",\"\").replace(\"啊\",\"\")\n",
    "    t = remove_words(str(text))\n",
    "    t = re.sub('[a-zA-Z]','', t)\n",
    "    dm_text.append(t.strip())\n",
    "create_wordcloud(\"\\n\".join(dm_text))"
   ]
  },
  {
   "cell_type": "markdown",
   "metadata": {},
   "source": [
    "## IP 地址转化服务\n",
    "参考：\n",
    "- [python整数与IP地址转换 [转]](http://www.cnblogs.com/vovlie/archive/2012/10/17/2727029.html)\n",
    "\n",
    "ip 地址查询 url：http://ip.taobao.com/service/getIpInfo2.php?ip=8.8.8.8"
   ]
  },
  {
   "cell_type": "code",
   "execution_count": null,
   "metadata": {},
   "outputs": [],
   "source": [
    "# 整数转 IP\n",
    "def int2ip(x):\n",
    "    ch2 = lambda x: '.'.join([str(x//(256**i)%256) for i in range(3,-1,-1)])\n",
    "    return ch2(x)\n",
    "\n",
    "# ip 转整数\n",
    "def ip2int(x):\n",
    "    ch3 = lambda x:sum([256**j*int(i) for j,i in enumerate(x.split('.')[::-1])])\n",
    "    return ch3(x)\n",
    "def int2ip2location(x):\n",
    "    ip = int2ip(x)\n",
    "    url = \"http://ip.taobao.com/service/getIpInfo2.php?ip=\" + str(ip)\n",
    "    rep = request.urlopen(url)\n",
    "    data = json.loads(rep.read())[\"data\"]\n",
    "    if data[\"region\"] != \"XX\":\n",
    "        return data[\"region\"]\n",
    "    else:\n",
    "        return data[\"country\"]"
   ]
  },
  {
   "cell_type": "code",
   "execution_count": null,
   "metadata": {},
   "outputs": [],
   "source": [
    "int2ip2location(-556216572)"
   ]
  },
  {
   "cell_type": "code",
   "execution_count": null,
   "metadata": {},
   "outputs": [],
   "source": [
    "int2ip(-556216572)"
   ]
  },
  {
   "cell_type": "code",
   "execution_count": null,
   "metadata": {},
   "outputs": [],
   "source": [
    "ip2int('222.216.207.4')"
   ]
  },
  {
   "cell_type": "markdown",
   "metadata": {},
   "source": [
    "## 评论分析"
   ]
  },
  {
   "cell_type": "code",
   "execution_count": null,
   "metadata": {},
   "outputs": [],
   "source": [
    "comms = pd.read_csv(\"/Users/weduoo/Desktop/zhz_comm.csv\")\n",
    "comms.head()"
   ]
  },
  {
   "cell_type": "code",
   "execution_count": null,
   "metadata": {},
   "outputs": [],
   "source": [
    "comms[comms[\"ip\"] < 0].head()"
   ]
  },
  {
   "cell_type": "code",
   "execution_count": null,
   "metadata": {},
   "outputs": [],
   "source": [
    "ip_citys = {}\n",
    "ips = list(set(comms[\"ip\"]))\n",
    "for ip in tqdm(ips):\n",
    "    ip_citys[ip] = int2ip2location(ip)"
   ]
  },
  {
   "cell_type": "code",
   "execution_count": null,
   "metadata": {
    "scrolled": true
   },
   "outputs": [],
   "source": [
    "comms[\"ip_city\"] = comms[\"ip\"]\n",
    "tqdm(comms[\"ip_city\"].apply(int2ip2location))\n",
    "comms.head()"
   ]
  },
  {
   "cell_type": "code",
   "execution_count": null,
   "metadata": {},
   "outputs": [],
   "source": [
    "y = comms.groupby(\"title\").size()\n",
    "bar = Bar(\"每集评论数量\",width=950)\n",
    "bar.add(\"Total\",list(y.index), y, is_label_show=True, \n",
    "        is_datazoom_show=True, datazoom_type='both',\n",
    "        datazoom_range=[10, 25])\n",
    "bar"
   ]
  },
  {
   "cell_type": "code",
   "execution_count": null,
   "metadata": {},
   "outputs": [],
   "source": [
    "provinces = [\"北京\",\"天津\",\"上海\",\" 重庆\",\"黑龙江\",\"吉林\",\"辽宁\",\"河北\",\" 山西\",\" 青海\",\\\n",
    "         \"山东\",\"河南\",\"江苏\",\"安徽\",\"浙江\",\"福建\",\"江西\",\"湖南\",\"湖北\",\"广东\",\"台湾\",\"海南\",\\\n",
    "         \" 甘肃\",\"陕西\",\" 四川\",\" 贵州\",\"云南\"]"
   ]
  },
  {
   "cell_type": "code",
   "execution_count": null,
   "metadata": {
    "scrolled": false
   },
   "outputs": [],
   "source": [
    "citys = comms[\"city\"].str.replace(\"省\",\"\")\n",
    "citys = citys.str.replace(\"北京市\",\"北京\")\n",
    "citys = citys[citys.isin(provinces)]\n",
    "y = citys.value_counts()\n",
    "bar = Bar( str(len(y.index)) + \"个地区评论数分布\",width=950)\n",
    "print(list(y.index))\n",
    "bar.add(\"Total\",list(y.index), y, is_label_show=True, \n",
    "        is_datazoom_show=True, datazoom_type='both',\n",
    "        datazoom_range=[10, 25])\n",
    "bar"
   ]
  },
  {
   "cell_type": "code",
   "execution_count": null,
   "metadata": {},
   "outputs": [],
   "source": [
    "from pyecharts import Pie\n",
    "pie = Pie(title_pos='center',height=550)\n",
    "pie.add(\"\", list(y.index), y, is_label_show=True,legend_pos='left',is_legend_show=False,legend_orient='vertical',radius=[40, 75])\n",
    "pie"
   ]
  },
  {
   "cell_type": "code",
   "execution_count": null,
   "metadata": {},
   "outputs": [],
   "source": [
    "import re\n",
    "comms_text = [] \n",
    "def remove_words(txt):\n",
    "    words = [\"哈\",\"呵\",\"啦\",\"啊\",\"皇上\",\"甄\",\"嬛\",\"弹幕呢\"]\n",
    "    for word in words:\n",
    "        txt = txt.replace(word,\"\")\n",
    "    return txt\n",
    "    \n",
    "for text in tqdm(list(comms[\"content\"])):\n",
    "    t = remove_words(str(text))\n",
    "    t = re.sub('[a-zA-Z]','', t)\n",
    "    comms_text.append(t.strip())\n",
    "create_wordcloud(\"\\n\".join(comms_text))"
   ]
  },
  {
   "cell_type": "code",
   "execution_count": null,
   "metadata": {},
   "outputs": [],
   "source": []
  },
  {
   "cell_type": "markdown",
   "metadata": {},
   "source": [
    "# 欢乐颂弹幕及其评论解析"
   ]
  },
  {
   "cell_type": "code",
   "execution_count": null,
   "metadata": {},
   "outputs": [],
   "source": [
    "def create_comm(comm_io,episode_id,episode_nums,pid):\n",
    "    comm_csv = csv.writer(comm_io)\n",
    "    # 添加 csv 头部信息\n",
    "    comm_csv.writerow([\"uid\",\"username\",\"isvip\",\"ip\",\"city\",\"content\",\"ctime\",\"like\",\"replynum\",\"source\",\"title\",\"subtitle\",\"play_count\"])\n",
    "    episodes_data = get_episode(episode_id,episode_nums)\n",
    "    episodes = episodes_data[\"data\"][\"episode\"][\"videolist\"]\n",
    "    for episode in tqdm(episodes):\n",
    "        vid = episode[\"vid\"]\n",
    "        base_info = get_base_info(vid)\n",
    "        vcomm_count = base_info[\"vcomm_count\"]\n",
    "        # 一次最多 60 条\n",
    "        for i in range((vcomm_count//60) + 1 ):\n",
    "            comms = comm_get(60, i + 1,vid,pid)\n",
    "            parse_comm(comm_csv,comms[\"data\"],episode)\n",
    "    \n",
    "# 创建存储弹幕信息的文件\n",
    "comm = open(r'/Users/weduoo/Desktop/hls_comm.csv', 'a')\n",
    "create_comm(comm,29394106,55,10031905)\n",
    "comm.close()"
   ]
  },
  {
   "cell_type": "code",
   "execution_count": null,
   "metadata": {},
   "outputs": [],
   "source": [
    "def create_dm(dm_io,episode_id,episode_nums):\n",
    "    dm_csv = csv.writer(dm_io)\n",
    "    # 添加 csv 头部信息\n",
    "    dm_csv.writerow([\"uid\",\"addtime\",\"version\",\"txt\",\"type\",\"title\",\"subtitle\"])\n",
    "    episodes_data = get_episode(episode_id,episode_nums)\n",
    "    episodes = episodes_data[\"data\"][\"episode\"][\"videolist\"]\n",
    "    for episode in tqdm(episodes):\n",
    "        vid = episode[\"vid\"]\n",
    "        base_info = get_base_info(vid)\n",
    "        vdm_count = base_info[\"vdm_count\"]\n",
    "        \n",
    "        # 一次最多 60 条\n",
    "        for i in range(0,25,3):\n",
    "            dms = dm_get(i * 100,vid)\n",
    "            parse_dm(dm_csv, dms[\"data\"][\"list\"], episode)\n",
    "    \n",
    "# 创建存储弹幕信息的文件\n",
    "dm = open(r'/Users/weduoo/Desktop/hls_dm.csv', 'a')\n",
    "create_dm(dm,29394106,55)\n",
    "dm.close()"
   ]
  },
  {
   "cell_type": "code",
   "execution_count": null,
   "metadata": {},
   "outputs": [],
   "source": []
  },
  {
   "cell_type": "markdown",
   "metadata": {},
   "source": [
    "## 弹幕分析"
   ]
  },
  {
   "cell_type": "code",
   "execution_count": null,
   "metadata": {},
   "outputs": [],
   "source": [
    "data = pd.read_csv(\"/Users/weduoo/Desktop/hls_dm.csv\")\n",
    "data.head()"
   ]
  },
  {
   "cell_type": "code",
   "execution_count": null,
   "metadata": {},
   "outputs": [],
   "source": [
    "y = data.groupby(\"title\").size()\n",
    "bar = Bar(\"每集弹幕数量\",width=950)\n",
    "bar.add(\"Total\",list(y.index), y, is_label_show=True, \n",
    "        is_datazoom_show=True, datazoom_type='both',\n",
    "        datazoom_range=[10, 25])\n",
    "bar"
   ]
  },
  {
   "cell_type": "code",
   "execution_count": null,
   "metadata": {},
   "outputs": [],
   "source": [
    "import re\n",
    "dm_text = [] \n",
    "def remove_words(txt):\n",
    "    words = [\"哈\",\"呵\",\"啦\",\"啊\",\"皇上\",\"甄\",\"嬛\",\"弹幕呢\"]\n",
    "    for word in words:\n",
    "        txt = txt.replace(word,\"\")\n",
    "    return txt\n",
    "    \n",
    "for text in tqdm(list(data[\"txt\"])):\n",
    "    t = remove_words(str(text))\n",
    "    t = re.sub('[a-zA-Z]','', t)\n",
    "    dm_text.append(t.strip())\n",
    "create_wordcloud(\"\\n\".join(dm_text))"
   ]
  },
  {
   "cell_type": "markdown",
   "metadata": {},
   "source": [
    "## 评论分析"
   ]
  },
  {
   "cell_type": "code",
   "execution_count": null,
   "metadata": {},
   "outputs": [],
   "source": [
    "comms = pd.read_csv(\"/Users/weduoo/Desktop/hls_comm.csv\")\n",
    "comms.head()"
   ]
  },
  {
   "cell_type": "code",
   "execution_count": null,
   "metadata": {
    "scrolled": true
   },
   "outputs": [],
   "source": [
    "y = comms.groupby(\"title\").size()\n",
    "bar = Bar(\"每集评论数量\",width=950)\n",
    "bar.add(\"Total\",list(y.index), y, is_label_show=True, \n",
    "        is_datazoom_show=True, datazoom_type='both',\n",
    "        datazoom_range=[10, 25])\n",
    "bar"
   ]
  },
  {
   "cell_type": "code",
   "execution_count": null,
   "metadata": {},
   "outputs": [],
   "source": [
    "citys = comms[\"city\"].str.replace(\"省\",\"\")\n",
    "citys = citys.str.replace(\"北京市\",\"北京\")\n",
    "# citys = citys[citys.isin(provinces)]\n",
    "y = citys.value_counts()\n",
    "bar = Bar( str(len(y.index)) + \"个地区评论数分布\",width=950)\n",
    "print(list(y.index))\n",
    "bar.add(\"Total\",list(y.index), y, is_label_show=True, \n",
    "        is_datazoom_show=True, datazoom_type='both',\n",
    "        datazoom_range=[10, 25])\n",
    "bar"
   ]
  },
  {
   "cell_type": "code",
   "execution_count": null,
   "metadata": {},
   "outputs": [],
   "source": [
    "import re\n",
    "comms_text = [] \n",
    "def remove_words(txt):\n",
    "    words = [\"哈\",\"呵\",\"啦\",\"啊\",\"皇上\",\"甄\",\"嬛\",\"弹幕呢\"]\n",
    "    for word in words:\n",
    "        txt = txt.replace(word,\"\")\n",
    "    return txt\n",
    "    \n",
    "for text in tqdm(list(comms[\"content\"])):\n",
    "    t = remove_words(str(text))\n",
    "    t = re.sub('[a-zA-Z]','', t)\n",
    "    comms_text.append(t.strip())\n",
    "create_wordcloud(\"\\n\".join(comms_text))"
   ]
  },
  {
   "cell_type": "markdown",
   "metadata": {},
   "source": [
    "# 测试"
   ]
  },
  {
   "cell_type": "code",
   "execution_count": null,
   "metadata": {},
   "outputs": [],
   "source": [
    "import re\n",
    "s='~!@#adjdakdakjjkd002212ADSAADA()//../eqqwedadjadj'\n",
    "print(re.sub('[A-Za-z]','',s))"
   ]
  },
  {
   "cell_type": "code",
   "execution_count": null,
   "metadata": {},
   "outputs": [],
   "source": [
    "from urllib import request\n",
    "@retry\n",
    "def try_timeout():\n",
    "    url = \"http://api.my.le.com/vcm/api/list?type=video&rows=20&page=84&sort=&cid=2&\\\n",
    "    source=1&xid=29394106&pid=10031905&listType=1\"\n",
    "    response = request.urlopen(url)\n",
    "    response = response.read().decode('utf-8')\n",
    "    data = json.loads(response)\n",
    "    print(len(data[\"data\"]))\n",
    "try_timeout()"
   ]
  },
  {
   "cell_type": "code",
   "execution_count": null,
   "metadata": {},
   "outputs": [],
   "source": [
    "5038//60"
   ]
  },
  {
   "cell_type": "code",
   "execution_count": null,
   "metadata": {},
   "outputs": [],
   "source": [
    "from urllib import request\n",
    "@retry\n",
    "def try_timeout():\n",
    "    url = \"http://cdn.api.my.le.com/danmu/list?vid=1566616&cid=2&start=300&amount=2000\"\n",
    "    response = request.urlopen(url)\n",
    "    response = response.read().decode('utf-8')\n",
    "    data = json.loads(response)\n",
    "    print(len(data[\"data\"][\"list\"]))\n",
    "try_timeout()"
   ]
  },
  {
   "cell_type": "code",
   "execution_count": null,
   "metadata": {},
   "outputs": [],
   "source": [
    "import re\n",
    " \n",
    "content = 'jQuery19105577507525270364_1525079352904({\"result\":\"200\",\"total\":7656,\"replyTotal\":2285,\"data\":\"(123)\"})'\n",
    "result = re.findall('\\((.+)\\\\)', content)\n",
    "print(result)"
   ]
  },
  {
   "cell_type": "code",
   "execution_count": null,
   "metadata": {},
   "outputs": [],
   "source": [
    "d = {'name':\"Tom\", 'age':10, 'Tel':110}  \n",
    "#打印返回值  \n",
    "print('name' in d.keys())"
   ]
  },
  {
   "cell_type": "code",
   "execution_count": null,
   "metadata": {},
   "outputs": [],
   "source": [
    "25675//60"
   ]
  },
  {
   "cell_type": "code",
   "execution_count": null,
   "metadata": {},
   "outputs": [],
   "source": [
    "for i in range(0,25,3):\n",
    "    print(i)"
   ]
  },
  {
   "cell_type": "code",
   "execution_count": null,
   "metadata": {},
   "outputs": [],
   "source": [
    "import random\n",
    "from retrying import retry\n",
    "\n",
    "@retry\n",
    "def do_something_unreliable():\n",
    "    ri = random.randint(0, 10)\n",
    "    print(ri)\n",
    "    if ri > 1:\n",
    "        raise IOError(\"Broken sauce, everything is hosed!!!111one\")\n",
    "    else:\n",
    "        return \"Awesome sauce!\"\n",
    "\n",
    "print(do_something_unreliable())"
   ]
  },
  {
   "cell_type": "code",
   "execution_count": null,
   "metadata": {},
   "outputs": [],
   "source": [
    "1250000//76"
   ]
  },
  {
   "cell_type": "code",
   "execution_count": null,
   "metadata": {},
   "outputs": [],
   "source": []
  }
 ],
 "metadata": {
  "kernelspec": {
   "display_name": "Python 3",
   "language": "python",
   "name": "python3"
  },
  "language_info": {
   "codemirror_mode": {
    "name": "ipython",
    "version": 3
   },
   "file_extension": ".py",
   "mimetype": "text/x-python",
   "name": "python",
   "nbconvert_exporter": "python",
   "pygments_lexer": "ipython3",
   "version": "3.6.4"
  },
  "toc": {
   "base_numbering": 1,
   "nav_menu": {},
   "number_sections": true,
   "sideBar": true,
   "skip_h1_title": false,
   "title_cell": "Table of Contents",
   "title_sidebar": "Contents",
   "toc_cell": false,
   "toc_position": {
    "height": "calc(100% - 180px)",
    "left": "10px",
    "top": "150px",
    "width": "304px"
   },
   "toc_section_display": true,
   "toc_window_display": true
  }
 },
 "nbformat": 4,
 "nbformat_minor": 2
}
