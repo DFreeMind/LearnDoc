{
 "cells": [
  {
   "cell_type": "markdown",
   "metadata": {},
   "source": [
    "# jupyter 常见使用\n",
    "\n",
    "## 在jupyter中安装其他kernel\n",
    "\n",
    "### 为 jupyter 安装 scala kernel\n",
    "\n",
    "可以参考 Stack Overflow上的此问答：[How do I install Scala in Jupyter IPython Notebook?](https://stackoverflow.com/questions/35563545/how-do-i-install-scala-in-jupyter-ipython-notebook)\n",
    "\n",
    "Ensure you have IPython 3 installed. ipython --version should return a value >= 3.0. If it's not the case, a quick way of setting it up consists in installing the Anaconda Python distribution, and then running\n",
    "\n",
    "`$ pip install --upgrade \"ipython[all]\"`\n",
    "\n",
    "ipython --version should then return a value >= 3.0.\n",
    "\n",
    "Download the Jupyter Scala binaries for Scala 2.10 ([txz](https://oss.sonatype.org/content/repositories/snapshots/com/github/alexarchambault/jupyter/jupyter-scala-cli_2.10.5/0.2.0-SNAPSHOT/jupyter-scala_2.10.5-0.2.0-SNAPSHOT.tar.xz) or [zip](https://oss.sonatype.org/content/repositories/snapshots/com/github/alexarchambault/jupyter/jupyter-scala-cli_2.10.5/0.2.0-SNAPSHOT/jupyter-scala_2.10.5-0.2.0-SNAPSHOT.zip)) or Scala 2.11 ([txz](https://oss.sonatype.org/content/repositories/snapshots/com/github/alexarchambault/jupyter/jupyter-scala-cli_2.11.6/0.2.0-SNAPSHOT/jupyter-scala_2.11.6-0.2.0-SNAPSHOT.tar.xz) or [zip](https://oss.sonatype.org/content/repositories/snapshots/com/github/alexarchambault/jupyter/jupyter-scala-cli_2.11.6/0.2.0-SNAPSHOT/jupyter-scala_2.11.6-0.2.0-SNAPSHOT.zip)), and unpack them in a safe place. Then run once the jupyter-scala program (or jupyter-scala.bat on Windows) it contains. That will set-up the Jupyter Scala kernel for the current user.\n",
    "\n",
    "Check that Jupyter/IPython knows about Jupyter Scala by running\n",
    "\n",
    "`$ jupyter kernelspec list`\n",
    "\n",
    "This should print, among others, a line like\n",
    "\n",
    "scala211\n",
    "\n",
    "(or scala210 dependending on the Scala version you chose).\n",
    "\n",
    "Then run either IPython console with\n",
    "\n",
    "`$ ipython console --kernel scala211`\n",
    "\n",
    "and start using the Jupyter Scala kernel straightaway, or run Jupyter Notebook with\n",
    "\n",
    "`$ jupyter notebook`\n",
    "\n",
    "and create Scala 2.11 notebooks by choosing Scala 2.11 in the dropdown in the upper right of the Jupyter Notebook start page.\n",
    "\n",
    "**Note:** Since IPython has now been replaced by Jupyter, we replaced ipython in the above commands with jupyter"
   ]
  },
  {
   "cell_type": "markdown",
   "metadata": {},
   "source": [
    "## 添加 TOC 目录\n",
    "可以参考此文的设置方式：[jupyter notebook markdown TOC目录设置](http://lmingzhi.cn/2017/02/10/jupyter-notebook-markdown-toc%E7%9B%AE%E5%BD%95%E8%AE%BE%E7%BD%AE/)。\n",
    "\n",
    "![image](http://ws1.sinaimg.cn/large/69d4185bly1fmpjqf4hkvj20wh0gemyg.jpg)\n",
    "\n",
    "使用此方法安装最好使用一个虚拟环境（如使用anaconda），当不需要的时候可以很方便的将环境移除。"
   ]
  },
  {
   "cell_type": "code",
   "execution_count": 3,
   "metadata": {},
   "outputs": [
    {
     "data": {
      "text/plain": [
       "['',\n",
       " 'D:\\\\ProgramData\\\\Anaconda3\\\\envs\\\\py36\\\\python36.zip',\n",
       " 'D:\\\\ProgramData\\\\Anaconda3\\\\envs\\\\py36\\\\DLLs',\n",
       " 'D:\\\\ProgramData\\\\Anaconda3\\\\envs\\\\py36\\\\lib',\n",
       " 'D:\\\\ProgramData\\\\Anaconda3\\\\envs\\\\py36',\n",
       " 'D:\\\\ProgramData\\\\Anaconda3\\\\envs\\\\py36\\\\lib\\\\site-packages',\n",
       " 'D:\\\\ProgramData\\\\Anaconda3\\\\envs\\\\py36\\\\lib\\\\site-packages\\\\IPython\\\\extensions',\n",
       " 'C:\\\\Users\\\\Administrator\\\\.ipython']"
      ]
     },
     "execution_count": 3,
     "metadata": {},
     "output_type": "execute_result"
    }
   ],
   "source": [
    "import sys\n",
    "sys.path"
   ]
  },
  {
   "cell_type": "markdown",
   "metadata": {},
   "source": [
    "## 常见配置"
   ]
  },
  {
   "cell_type": "markdown",
   "metadata": {},
   "source": [
    "### 开启对 retina 的支持\n",
    "`%config InlineBackend.figure_format = 'retina'`"
   ]
  },
  {
   "cell_type": "markdown",
   "metadata": {},
   "source": [
    "### 修改启动时的目录\n",
    " \n",
    "修改启动是的目录可以在启动时指定启动的目录如下：\n",
    " \n",
    " `(py36) C:\\Users\\Administrator>jupyter notebook D:\\`\n",
    "这样在启动的时候看到的就是`D:\\`盘的目录。"
   ]
  },
  {
   "cell_type": "code",
   "execution_count": null,
   "metadata": {},
   "outputs": [],
   "source": []
  },
  {
   "cell_type": "markdown",
   "metadata": {},
   "source": [
    "## matplotlib 使用"
   ]
  },
  {
   "cell_type": "markdown",
   "metadata": {},
   "source": [
    "- [Python图表绘制：matplotlib绘图库入门](https://www.cnblogs.com/wei-li/archive/2012/05/23/2506940.html)\n",
    "- [Matplotlib 教程](https://liam0205.me/2014/09/11/matplotlib-tutorial-zh-cn/)\n",
    "- [十分钟入门Matplotlib](http://codingpy.com/article/a-quick-intro-to-matplotlib/)\n",
    "- [Legend guide](https://matplotlib.org/users/legend_guide.html)\n",
    "- [Legend 图例](https://morvanzhou.github.io/tutorials/data-manipulation/plt/2-5-lagend/)"
   ]
  },
  {
   "cell_type": "markdown",
   "metadata": {},
   "source": [
    "## 在线工具"
   ]
  },
  {
   "cell_type": "markdown",
   "metadata": {},
   "source": [
    "- [图形化查看python程序运行过程的工具](http://interactivepython.org/runestone/static/pythonds/Introduction/ControlStructures.html)"
   ]
  },
  {
   "cell_type": "markdown",
   "metadata": {},
   "source": [
    "## 在 jupyter 中使用 LaTeX"
   ]
  },
  {
   "cell_type": "markdown",
   "metadata": {},
   "source": [
    "- [如何使用jupyter编写数学公式(译)](https://www.jianshu.com/p/93ccc63e5a1b)"
   ]
  },
  {
   "cell_type": "code",
   "execution_count": null,
   "metadata": {},
   "outputs": [],
   "source": []
  },
  {
   "cell_type": "code",
   "execution_count": null,
   "metadata": {},
   "outputs": [],
   "source": []
  }
 ],
 "metadata": {
  "kernelspec": {
   "display_name": "Python 3",
   "language": "python",
   "name": "python3"
  },
  "language_info": {
   "codemirror_mode": {
    "name": "ipython",
    "version": 3
   },
   "file_extension": ".py",
   "mimetype": "text/x-python",
   "name": "python",
   "nbconvert_exporter": "python",
   "pygments_lexer": "ipython3",
   "version": "3.6.4"
  },
  "toc": {
   "base_numbering": 1,
   "nav_menu": {},
   "number_sections": true,
   "sideBar": true,
   "skip_h1_title": false,
   "title_cell": "Table of Contents",
   "title_sidebar": "Contents",
   "toc_cell": false,
   "toc_position": {
    "height": "769px",
    "left": "0px",
    "right": "20px",
    "top": "111px",
    "width": "438px"
   },
   "toc_section_display": "block",
   "toc_window_display": true
  }
 },
 "nbformat": 4,
 "nbformat_minor": 2
}
