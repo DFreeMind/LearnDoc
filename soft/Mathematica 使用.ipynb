{
 "cells": [
  {
   "cell_type": "markdown",
   "metadata": {},
   "source": [
    "# Mathematica 数学软件的使用"
   ]
  },
  {
   "cell_type": "markdown",
   "metadata": {},
   "source": [
    "几点注意事项：\n",
    "- 在写指数或者相乘时中间要加上一个空格，如$\\mathbf{ ne^{nx} }$ 就要写成 $\\mathbf{ n \\ e^{n \\ x} }$ ，不然得不到自己想要的结果。"
   ]
  },
  {
   "cell_type": "markdown",
   "metadata": {},
   "source": [
    "## 绘图\n",
    "绘图基本上使用 Plot 函数来完成，可以参考文档\n",
    "- 绘制绝对值函数的时候需要使用 Abs 函数，可参考[数值函数](http://reference.wolfram.com/language/tutorial/NumericalFunctions.html.zh)"
   ]
  },
  {
   "cell_type": "code",
   "execution_count": null,
   "metadata": {},
   "outputs": [],
   "source": []
  },
  {
   "cell_type": "markdown",
   "metadata": {},
   "source": [
    "## 常见功能"
   ]
  },
  {
   "cell_type": "markdown",
   "metadata": {},
   "source": [
    "### 表达式\n",
    "- 化简表达式\n",
    "`Simplify[Sin[x]^2 + Cos[x]^2]`\n",
    "可参考 [How to| 化简表达式](http://reference.wolfram.com/language/howto/RefineAndSimplifyExpressions.html.zh)"
   ]
  },
  {
   "cell_type": "markdown",
   "metadata": {},
   "source": [
    "### 求微积分\n",
    "使用 `f'` 或者 `D[函数,变量]`"
   ]
  },
  {
   "cell_type": "markdown",
   "metadata": {},
   "source": [
    "### 求积分\n",
    "参考[How to| 计算积分](http://reference.wolfram.com/language/howto/DoAnIntegral.html.zh)\n",
    "\n",
    "`Integrate[Sin[x], x]`\n",
    "\n",
    "需要注意的是平方的写法，$\\int(Cos[x]^2 + Sin[x]) dx$"
   ]
  },
  {
   "cell_type": "markdown",
   "metadata": {},
   "source": [
    "## 快捷输入"
   ]
  },
  {
   "cell_type": "markdown",
   "metadata": {},
   "source": [
    "### 键盘快捷键\n",
    "- [键盘快捷键列表](http://reference.wolfram.com/language/tutorial/KeyboardShortcutListing.html)"
   ]
  },
  {
   "cell_type": "markdown",
   "metadata": {},
   "source": [
    "### 特殊字符\n",
    "- [Wolfram Cloud 的键盘快捷键列表](http://reference.wolfram.com/language/tutorial/KeyboardShortcutListingWolframCloud.html.zh)"
   ]
  },
  {
   "cell_type": "markdown",
   "metadata": {},
   "source": [
    "### 算符\n",
    "- [算符](http://reference.wolfram.com/language/tutorial/Operators.html)"
   ]
  },
  {
   "cell_type": "code",
   "execution_count": null,
   "metadata": {},
   "outputs": [],
   "source": []
  },
  {
   "cell_type": "code",
   "execution_count": null,
   "metadata": {},
   "outputs": [],
   "source": []
  }
 ],
 "metadata": {
  "kernelspec": {
   "display_name": "Python 3",
   "language": "python",
   "name": "python3"
  },
  "language_info": {
   "codemirror_mode": {
    "name": "ipython",
    "version": 3
   },
   "file_extension": ".py",
   "mimetype": "text/x-python",
   "name": "python",
   "nbconvert_exporter": "python",
   "pygments_lexer": "ipython3",
   "version": "3.6.4"
  },
  "toc": {
   "base_numbering": 1,
   "nav_menu": {},
   "number_sections": true,
   "sideBar": true,
   "skip_h1_title": false,
   "title_cell": "Table of Contents",
   "title_sidebar": "Contents",
   "toc_cell": false,
   "toc_position": {},
   "toc_section_display": true,
   "toc_window_display": true
  }
 },
 "nbformat": 4,
 "nbformat_minor": 2
}
