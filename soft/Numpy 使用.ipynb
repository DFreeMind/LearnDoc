{
 "cells": [
  {
   "cell_type": "markdown",
   "metadata": {},
   "source": [
    "# NumPy 学习"
   ]
  },
  {
   "cell_type": "code",
   "execution_count": 1,
   "metadata": {},
   "outputs": [],
   "source": [
    "import numpy as np"
   ]
  },
  {
   "cell_type": "markdown",
   "metadata": {},
   "source": [
    "常用函数：\n",
    "- np.empty()\n",
    "- np.ones()\n",
    "- np.zeros()"
   ]
  },
  {
   "cell_type": "markdown",
   "metadata": {},
   "source": [
    "特殊\n",
    "- np.ones_like(), np.zeros_like(), np.full_like(), np.empty_like()\n"
   ]
  },
  {
   "cell_type": "markdown",
   "metadata": {},
   "source": [
    "矩阵\n",
    "- np.identiy(), 单位矩阵\n",
    "- np.eye(nums, k), k 表示相对于对角线的偏移\n",
    "- np.diag()"
   ]
  },
  {
   "cell_type": "markdown",
   "metadata": {},
   "source": [
    "切片\n",
    "- `a[m]` Select element at index m, where m is an integer (start counting form 0).\n",
    "- `a[-m]` Select the mth element from the end of the list, where m is an integer. The last element in the list is addressed as -1, the second-to-last element as -2, and so on.\n",
    "- `a[m:n]` Select elements with index starting at m and ending at n −1 (m and n are integers).\n",
    "- `a[:]` or `a[0:-1]` Select all elements in the given axis.\n",
    "- `a[:n]` Select elements starting with index 0 and going up to index n −1 (integer).\n",
    "- `a[m:]` or a[m:-1] Select elements starting with index m (integer) and going up to the last element in the array.\n",
    "- `a[m:n:p]` Select elements with index m through n (exclusive), with increment p.\n",
    "- `a[::-1]` Select all the elements, in reverse order."
   ]
  },
  {
   "cell_type": "markdown",
   "metadata": {},
   "source": [
    "花式索引\n",
    "- A[[1, 3, 5]]\n",
    "- A[A > 0.5]"
   ]
  },
  {
   "cell_type": "markdown",
   "metadata": {},
   "source": [
    "![image](https://wx1.sinaimg.cn/large/69d4185bly1fy68pgiufsj20yw0v9gue.jpg)"
   ]
  },
  {
   "cell_type": "code",
   "execution_count": null,
   "metadata": {},
   "outputs": [],
   "source": []
  },
  {
   "cell_type": "code",
   "execution_count": null,
   "metadata": {},
   "outputs": [],
   "source": []
  },
  {
   "cell_type": "code",
   "execution_count": 90,
   "metadata": {},
   "outputs": [],
   "source": [
    "import numpy as np\n",
    "import matplotlib.pyplot as plt\n",
    "\n",
    "%matplotlib inline\n",
    "%config InlineBackend.figure_format = \"retina\""
   ]
  },
  {
   "cell_type": "markdown",
   "metadata": {},
   "source": [
    "## 数组操作"
   ]
  },
  {
   "cell_type": "code",
   "execution_count": 16,
   "metadata": {},
   "outputs": [
    {
     "data": {
      "text/plain": [
       "array([[[ 0,  1,  2],\n",
       "        [ 3,  4,  5],\n",
       "        [ 6,  7,  8]],\n",
       "\n",
       "       [[ 9, 10, 11],\n",
       "        [12, 13, 14],\n",
       "        [15, 16, 17]],\n",
       "\n",
       "       [[18, 19, 20],\n",
       "        [21, 22, 23],\n",
       "        [24, 25, 26]],\n",
       "\n",
       "       [[27, 28, 29],\n",
       "        [30, 31, 32],\n",
       "        [33, 34, 35]]])"
      ]
     },
     "execution_count": 16,
     "metadata": {},
     "output_type": "execute_result"
    }
   ],
   "source": [
    "arr = np.array([i for i in range(36)])\n",
    "# -1 用于根据以有的值推断此值，如下一个36个值，已经有两个维度都是3，那么剩下的就是 36/(3 × 3) = 4\n",
    "d3 = arr.reshape((-1,3,3))\n",
    "d3"
   ]
  },
  {
   "cell_type": "code",
   "execution_count": 23,
   "metadata": {},
   "outputs": [
    {
     "name": "stdout",
     "output_type": "stream",
     "text": [
      "length: 4\n",
      "get the first element:\n",
      " [[0 1 2]\n",
      " [3 4 5]\n",
      " [6 7 8]]\n"
     ]
    },
    {
     "data": {
      "text/plain": [
       "array([[[ 0,  1,  2],\n",
       "        [ 3,  4,  5],\n",
       "        [ 6,  7,  8]],\n",
       "\n",
       "       [[ 9, 10, 11],\n",
       "        [12, 13, 14],\n",
       "        [15, 16, 17]]])"
      ]
     },
     "execution_count": 23,
     "metadata": {},
     "output_type": "execute_result"
    }
   ],
   "source": [
    "# 即包含四个二维数组\n",
    "print(\"length:\",len(d3))\n",
    "# 即是一个 3 × 3 的数组\n",
    "print(\"get the first element:\\n\",d3[0])\n",
    "d3[0:2]"
   ]
  },
  {
   "cell_type": "code",
   "execution_count": 27,
   "metadata": {},
   "outputs": [
    {
     "name": "stdout",
     "output_type": "stream",
     "text": [
      "[[[ 0  1  2]\n",
      "  [ 3  4  5]]\n",
      "\n",
      " [[ 9 10 11]\n",
      "  [12 13 14]]]\n",
      "[[[ 1  2]\n",
      "  [ 4  5]]\n",
      "\n",
      " [[10 11]\n",
      "  [13 14]]]\n"
     ]
    }
   ],
   "source": [
    "# 取出每个元素的前两行\n",
    "print(d3[0:2,0:2])\n",
    "\n",
    "# 取出每个元素的前两行，以及后两列， 一层一层的往里递进\n",
    "print(d3[0:2,0:2,1:3])"
   ]
  },
  {
   "cell_type": "code",
   "execution_count": null,
   "metadata": {},
   "outputs": [],
   "source": [
    "# 线性代数工具\n",
    "np.linalg\n",
    "# 计算各种距离的公式\n",
    "# 闵可夫斯基距离\n",
    "np.linalg.norm()"
   ]
  },
  {
   "cell_type": "markdown",
   "metadata": {},
   "source": [
    "# 操作"
   ]
  },
  {
   "cell_type": "markdown",
   "metadata": {},
   "source": [
    "## shape 操作"
   ]
  },
  {
   "cell_type": "markdown",
   "metadata": {},
   "source": [
    "常见的有：\n",
    "- `np.reshape`、`np.ndarray.reshape`: Reshape an N-dimensional array. The total number of elements must remain the same.\n",
    "- `np.ndarray.flatten`: Create a **copy** of an N-dimensional array and reinterpret it as a onedimensional array (that is, all dimensions are collapsed into one).\n",
    "- `np.ravel`、`np.ndarray.ravel`: Create a view (if possible, otherwise a copy) of an N-dimensional array in which it is interpreted as a one-dimensional array. \n",
    "- `np.squeeze`: Remove axes with length 1.\n",
    "- `np.expand_dims`、`np.newaxis`: Adds a new axis (dimension) of length 1 to an array, where np.newaxis is used with array indexing.\n",
    "- `np.transpose`、`np.ndarray.transpose`、`np.ndarray.T`: Transpose the array. The transpose operation corresponds to reversing (or more generally, permuting) the axes of the array.\n",
    "- `np.hstack`: Stack a list of arrays horizontally (along axis 1): For example, given a list of column vectors, append the columns to form a matrix.\n",
    "- `np.vstack`: Stack a list of arrays vertically (along axis 0): For example, given a list of row vectors, append the rows to form a matrix.\n",
    "- `np.dstack`: Stack arrays depth-wise (along axis 2).\n",
    "- `np.concatenate`: Create a new array by appending arrays after each other, along a given axis.\n",
    "- `np.resize`: Resize an array. Creates a new **copy** of the original array, with the requested size. If necessary, the orignal array will **repeated** to fill up the new array.\n",
    "- `np.append`: Append an element to an array. Creates a new **copy** of the array.\n",
    "- `np.insert`: Insert a new element at a given position. Creates a new **copy** of the array.\n",
    "- `np.delete`: Delete an element at a given position. Creates a new **copy** of the array."
   ]
  },
  {
   "cell_type": "markdown",
   "metadata": {},
   "source": [
    "## 算术操作"
   ]
  },
  {
   "cell_type": "markdown",
   "metadata": {},
   "source": [
    "广播规则\n",
    "![image](https://wx4.sinaimg.cn/large/69d4185bly1fy69i38x2lj20kk0hm404.jpg)"
   ]
  },
  {
   "cell_type": "markdown",
   "metadata": {},
   "source": [
    "## 逐元素操作"
   ]
  },
  {
   "cell_type": "markdown",
   "metadata": {},
   "source": [
    "**数学函数 1：**\n",
    "- `np.cos`, `np.sin`, `np.tan`: Trigonometric functions.\n",
    "- `np.arccos`, `np.arcsin`, `np.arctan`: Inverse trigonometric functions.\n",
    "- `np.cosh`, `np.sinh`, `np.tanh`: Hyperbolic trigonometric functions.\n",
    "- `np.arccosh`, `np.arcsinh`, `np.arctanh`: Inverse hyperbolic trigonometric functions.\n",
    "- `np.sqrt`: Square root.\n",
    "- `np.exp`: Exponential.\n",
    "- `np.log`, `np.log2`, `np.log10`: Logarithms of base e, 2, and 10, respectively."
   ]
  },
  {
   "cell_type": "markdown",
   "metadata": {},
   "source": [
    "**数学函数 2：**\n",
    "- `np.add`, `np.subtract`, `np.multiply`, `np.divide`: Addition, subtraction, multiplication and division of two NumPy arrays.\n",
    "- `np.power`: Raise first input argument to the power of the second input argument (applied elementwise).\n",
    "- `np.remainder`: The remainder of division.\n",
    "- `np.reciprocal`: The reciprocal (inverse) of each element.\n",
    "- `np.real`, `np.imag`, `np.conj`: The real part, imaginary part, and the complex conjugate of the elements in the input arrays.\n",
    "- `np.sign`, `np.abs`: The sign and the absolute value.\n",
    "- `np.floor`, `np.ceil`, `np.rint`: Convert to integer values.\n",
    "- `np.round`: Round to a given number of decimals."
   ]
  },
  {
   "attachments": {
    "image.png": {
     "image/png": "[encoded data removed]"
    }
   },
   "cell_type": "markdown",
   "metadata": {},
   "source": [
    "**聚合函数**\n",
    "- `np.mean`: The average of all values in the array.\n",
    "- `np.std`: Standard deviation.\n",
    "- `np.var`: Variance.\n",
    "- `np.sum`: Sum of all elements.\n",
    "- `np.prod`: Product of all elements.\n",
    "- `np.cumsum`: Cumulative sum of all elements.\n",
    "- `np.cumprod`: Cumulative product of all elements.\n",
    "- `np.min`, `np.max`: The minimum / maximum value in an array.\n",
    "- `np.argmin`, `np.argmax`: The index of the minimum / maximum value in an array.\n",
    "- `np.all`: Return True if all elements in the argument array are nonzero.\n",
    "- `np.any`: Return True if any of the elements in the argument array is nonzero\n",
    "![image.png](attachment:image.png)"
   ]
  },
  {
   "cell_type": "markdown",
   "metadata": {},
   "source": [
    "**逻辑函数**\n",
    "- `np.where`: Choose values from two arrays depending on the value of a condition array.\n",
    "- `np.choose`: Choose values from a list of arrays depending on the values of a given index array.\n",
    "- `np.select`: Choose values from a list of arrays depending on a list of conditions.\n",
    "- `np.nonzero`: Return an array with indices of nonzero elements.\n",
    "- `np.logical_and`: Perform and elementwise AND operation.\n",
    "- `np.logical_or`, `np.logical_xor`: Elementwise OR/XOR operations.\n",
    "- `np.logical_not`: Elementwise NOT operation (inverting)."
   ]
  },
  {
   "cell_type": "markdown",
   "metadata": {},
   "source": [
    "**集合操作**\n",
    "- `np.unique`: Create a new array with unique elements, where each value only appears once.\n",
    "- `np.in1d`: Test for the existence of an array of elements in another array.\n",
    "- `np.intersect1d`: Return an array with elements that are contained in two given arrays.\n",
    "- `np.setdiff1d`: Return an array with elements that are contained in one but not the other, of two given arrays.\n",
    "- `np.union1d`: Return an array with elements that are contained in either, or both, of two given arrays."
   ]
  },
  {
   "cell_type": "markdown",
   "metadata": {},
   "source": [
    "**数组操作**\n",
    "- `np.transpose`, `np.ndarray.transpose`, `np.ndarray.T`: The transpose (reverse axes) of an array\n",
    "- `np.fliplr / np.flipud`: Reverse the elements in each row / column.\n",
    "- `np.rot90`: Rotate the elements along the first two axes by 90 degrees.\n",
    "- `np.sort`, `np.ndarray.sort`: Sort the element of an array along a given specified axis (which default to the last axis of the array). The np.ndarray method sort performs the sorting in place, modifying the input array."
   ]
  },
  {
   "cell_type": "markdown",
   "metadata": {},
   "source": [
    "### **矩阵操作**\n",
    "- `np.dot`: Matrix multiplication (dot product) between two given arrays representing vectors, arrays, or tensors.\n",
    "- `np.inner`: Scalar multiplication (inner product) between two arrays representing vectors.\n",
    "- `np.cross`: The cross product between two arrays that represent vectors.\n",
    "- `np.tensordot`: Dot product along specified axes of multidimensional arrays.\n",
    "- `np.outer`: Outer product (tensor product of vectors) between two arrays representing vectors.\n",
    "- `np.kron`: Kronecker product (tensor product of matrices) between arrays representing matrices and higher-dimensional arrays.\n",
    "- `np.einsum`: Evaluates Einstein’s summation convention for multidimensional arrays."
   ]
  },
  {
   "cell_type": "markdown",
   "metadata": {},
   "source": [
    "复杂矩阵点成的改善：复杂的矩阵乘法，使用 numpy 的 ndarray 常规乘法会变得非常复杂，如下：\n",
    "```python\n",
    "A = np.random.rand(3, 3)\n",
    "B = np.random.rand(3, 3)\n",
    "Ap = np.dot(B, np.dot(A, np.linalg.inv(B)))\n",
    "# 或者 \n",
    "# Ap = B.dot(A.dot(np.linalg.inv(B)))\n",
    "```\n",
    "\n",
    "使用 numpy 的 matrix 可以得到改善：\n",
    "```python\n",
    "A = np.matrix(A)\n",
    "B = np.matrix(B)\n",
    "Ap = B * A * B.I\n",
    "```\n",
    "\n",
    "鉴于 matrix 操作代码的一致性及其可读性，建议使用如下方式：\n",
    "```python\n",
    "A = np.asmatrix(A)\n",
    "B = np.asmatrix(B)\n",
    "Ap = B * A * B.I\n",
    "Ap = np.asarray(Ap)\n",
    "```"
   ]
  },
  {
   "cell_type": "code",
   "execution_count": 2,
   "metadata": {},
   "outputs": [
    {
     "data": {
      "text/plain": [
       "matrix([[ 0.63109455,  0.69525012,  0.5227598 ],\n",
       "        [ 0.7911306 ,  0.00590138,  0.008819  ],\n",
       "        [ 0.26641796,  0.72361183,  0.90336654]])"
      ]
     },
     "execution_count": 2,
     "metadata": {},
     "output_type": "execute_result"
    }
   ],
   "source": [
    "A = np.random.rand(3, 3)\n",
    "np.matrix(A).H"
   ]
  },
  {
   "cell_type": "code",
   "execution_count": 3,
   "metadata": {},
   "outputs": [
    {
     "name": "stdout",
     "output_type": "stream",
     "text": [
      "Help on property:\n",
      "\n",
      "    Returns the (complex) conjugate transpose of `self`.\n",
      "    \n",
      "    Equivalent to ``np.transpose(self)`` if `self` is real-valued.\n",
      "    \n",
      "    Parameters\n",
      "    ----------\n",
      "    None\n",
      "    \n",
      "    Returns\n",
      "    -------\n",
      "    ret : matrix object\n",
      "        complex conjugate transpose of `self`\n",
      "    \n",
      "    Examples\n",
      "    --------\n",
      "    >>> x = np.matrix(np.arange(12).reshape((3,4)))\n",
      "    >>> z = x - 1j*x; z\n",
      "    matrix([[  0. +0.j,   1. -1.j,   2. -2.j,   3. -3.j],\n",
      "            [  4. -4.j,   5. -5.j,   6. -6.j,   7. -7.j],\n",
      "            [  8. -8.j,   9. -9.j,  10.-10.j,  11.-11.j]])\n",
      "    >>> z.getH()\n",
      "    matrix([[  0. +0.j,   4. +4.j,   8. +8.j],\n",
      "            [  1. +1.j,   5. +5.j,   9. +9.j],\n",
      "            [  2. +2.j,   6. +6.j,  10.+10.j],\n",
      "            [  3. +3.j,   7. +7.j,  11.+11.j]])\n",
      "\n"
     ]
    }
   ],
   "source": [
    "help(np.matrix.H)"
   ]
  },
  {
   "cell_type": "markdown",
   "metadata": {},
   "source": [
    "## 其他"
   ]
  },
  {
   "cell_type": "markdown",
   "metadata": {},
   "source": [
    "- np.pi\n",
    "- np.vectorize()\n",
    "```python\n",
    "# 在 NumPy 的数组上不起作用\n",
    "def heaviside(x):\n",
    "    return 1 if x > 0 else 0\n",
    "heaviside = np.vectorize(heaviside)\n",
    "x = np.linspace(-5, 5, 11)\n",
    "heaviside(x) # array([0, 0, 0, 0, 0, 0, 1, 1, 1, 1, 1])\n",
    "```\n",
    "速度更快的定义方法为：\n",
    "```python\n",
    "def heaviside(x):\n",
    "    return 1.0 * (x > 0)\n",
    "```"
   ]
  },
  {
   "cell_type": "markdown",
   "metadata": {},
   "source": [
    "- np.asmatrix()\n"
   ]
  },
  {
   "cell_type": "code",
   "execution_count": 17,
   "metadata": {},
   "outputs": [
    {
     "name": "stdout",
     "output_type": "stream",
     "text": [
      "[[ 0.56  0.44  0.79]\n",
      " [ 0.13  0.37  0.91]\n",
      " [ 0.15  0.7   0.79]]\n"
     ]
    }
   ],
   "source": [
    "a = np.random.rand(3,3)\n",
    "a = np.round(a, decimals=2)\n",
    "print(a)"
   ]
  },
  {
   "cell_type": "code",
   "execution_count": 18,
   "metadata": {},
   "outputs": [
    {
     "data": {
      "text/plain": [
       "array([[ 0.13,  0.37,  0.79],\n",
       "       [ 0.15,  0.44,  0.79],\n",
       "       [ 0.56,  0.7 ,  0.91]])"
      ]
     },
     "execution_count": 18,
     "metadata": {},
     "output_type": "execute_result"
    }
   ],
   "source": [
    "a.sort(axis=0)\n",
    "a"
   ]
  },
  {
   "cell_type": "markdown",
   "metadata": {},
   "source": [
    "## Linear Algebra Tools"
   ]
  },
  {
   "cell_type": "markdown",
   "metadata": {},
   "source": [
    "### 归一化操作\n",
    "归一化，将矩阵规格化到0-1之间"
   ]
  },
  {
   "cell_type": "code",
   "execution_count": 105,
   "metadata": {},
   "outputs": [],
   "source": [
    "matrix = np.random.random((1000,2))"
   ]
  },
  {
   "cell_type": "code",
   "execution_count": 106,
   "metadata": {},
   "outputs": [
    {
     "data": {
      "image/png": "[encoded data removed]",
      "text/plain": [
       "<matplotlib.figure.Figure at 0x10c0a8588>"
      ]
     },
     "metadata": {},
     "output_type": "display_data"
    }
   ],
   "source": [
    "x = [i[0] for i in matrix]\n",
    "y = [i[1] for i in matrix]\n",
    "plt.scatter(x,y)\n",
    "plt.show()"
   ]
  },
  {
   "cell_type": "code",
   "execution_count": 117,
   "metadata": {},
   "outputs": [
    {
     "data": {
      "text/plain": [
       "7331"
      ]
     },
     "execution_count": 117,
     "metadata": {},
     "output_type": "execute_result"
    }
   ],
   "source": [
    "# 寻找中心数\n",
    "def pivotIndex(nums):\n",
    "        \"\"\"\n",
    "        :type nums: List[int]\n",
    "        :rtype: int\n",
    "        \"\"\"\n",
    "        pivot = -1\n",
    "        for i in range(len(nums)):\n",
    "            lsum = sum(nums[0:i])\n",
    "            rsum = sum(nums[i+1:len(nums)+1])\n",
    "            if lsum == rsum:\n",
    "                pivot = i\n",
    "                break\n",
    "        return pivot \n"
   ]
  },
  {
   "cell_type": "code",
   "execution_count": 123,
   "metadata": {},
   "outputs": [
    {
     "data": {
      "text/plain": [
       "0"
      ]
     },
     "execution_count": 123,
     "metadata": {},
     "output_type": "execute_result"
    }
   ],
   "source": [
    "# 寻找最大数且是第二大的数的两倍以上\n",
    "def dominantIndex(nums):\n",
    "        en = enumerate(nums)\n",
    "        s = sorted(en,key = lambda x: x[1],reverse=True)\n",
    "        if len(s) == 1:\n",
    "            return 0\n",
    "        if s[0][1] >= 2 * s[1][1]:\n",
    "            return s[0][0]\n",
    "        return -1\n",
    "    \n",
    "dominantIndex([1,0])"
   ]
  },
  {
   "cell_type": "code",
   "execution_count": 133,
   "metadata": {},
   "outputs": [
    {
     "name": "stdout",
     "output_type": "stream",
     "text": [
      "[3, 0, 0]\n",
      "[3, 1, 5]\n"
     ]
    }
   ],
   "source": [
    "# 数加一操作\n",
    "def plusOne(digits):\n",
    "        \"\"\"\n",
    "        :type digits: List[int]\n",
    "        :rtype: List[int]\n",
    "        \"\"\"\n",
    "        digit_str = ''.join(map(str,digits))\n",
    "        res = str(int(digit_str) + 1)\n",
    "        \n",
    "        return [int(i) for i in res]\n",
    "print(plusOne([2,9,9]))\n",
    "print(plusOne([3,1,4]))"
   ]
  },
  {
   "cell_type": "code",
   "execution_count": null,
   "metadata": {},
   "outputs": [],
   "source": []
  },
  {
   "cell_type": "code",
   "execution_count": null,
   "metadata": {},
   "outputs": [],
   "source": []
  },
  {
   "cell_type": "code",
   "execution_count": null,
   "metadata": {},
   "outputs": [],
   "source": []
  },
  {
   "cell_type": "code",
   "execution_count": null,
   "metadata": {},
   "outputs": [],
   "source": []
  },
  {
   "cell_type": "code",
   "execution_count": null,
   "metadata": {},
   "outputs": [],
   "source": []
  },
  {
   "cell_type": "markdown",
   "metadata": {},
   "source": [
    "# 参考\n",
    "- [py|数据分析之numpy](https://zhuanlan.zhihu.com/p/31458314)\n",
    "- [科学计算库 numpy](http://www.naodongopen.com/tag/numpy)\n",
    "- [Numpy 笔记(二): 多维数组的切片(slicing)和索引(indexing)](http://www.zmonster.me/2016/03/09/numpy-slicing-and-indexing.html)\n",
    "\n",
    "\n",
    "- [numpy中负值统一置0技巧与分析](https://blog.csdn.net/grey_csdn/article/details/69371653)"
   ]
  },
  {
   "cell_type": "code",
   "execution_count": null,
   "metadata": {},
   "outputs": [],
   "source": []
  },
  {
   "cell_type": "code",
   "execution_count": 87,
   "metadata": {},
   "outputs": [
    {
     "name": "stdout",
     "output_type": "stream",
     "text": [
      "[('f', 6), ('s', 5), ('a', 4), ('e', 3), ('w', 2), ('r', 2), ('v', 2), ('d', 2), ('z', 2), ('q', 1), ('x', 1)]\n",
      "fs\n"
     ]
    }
   ],
   "source": [
    "def returnTopK(src,K):\n",
    "    d = {x:src.count(x) for x in src}\n",
    "    l = [(key,d[key]) for key in d]\n",
    "    ordered = sorted(l,key = lambda x: x[1], reverse=True)\n",
    "    print(ordered)\n",
    "    result = \"\".join([x[0] for x in ordered[0:K]])\n",
    "    return result\n",
    "print(returnTopK(\"qewrevxsdafasfsfasfasfwerzdzfv\",2))"
   ]
  },
  {
   "cell_type": "code",
   "execution_count": 89,
   "metadata": {},
   "outputs": [
    {
     "data": {
      "text/plain": [
       "collections.Counter"
      ]
     },
     "execution_count": 89,
     "metadata": {},
     "output_type": "execute_result"
    }
   ],
   "source": []
  },
  {
   "cell_type": "code",
   "execution_count": 128,
   "metadata": {},
   "outputs": [
    {
     "data": {
      "text/plain": [
       "['1', '2', '3', '4']"
      ]
     },
     "execution_count": 128,
     "metadata": {},
     "output_type": "execute_result"
    }
   ],
   "source": [
    "list(\"1234\")"
   ]
  },
  {
   "cell_type": "code",
   "execution_count": 130,
   "metadata": {},
   "outputs": [
    {
     "data": {
      "text/plain": [
       "<map at 0x108f9b0f0>"
      ]
     },
     "execution_count": 130,
     "metadata": {},
     "output_type": "execute_result"
    }
   ],
   "source": [
    "map(int, list(\"1234\"))"
   ]
  },
  {
   "cell_type": "code",
   "execution_count": null,
   "metadata": {},
   "outputs": [],
   "source": []
  }
 ],
 "metadata": {
  "kernelspec": {
   "display_name": "Python 3",
   "language": "python",
   "name": "python3"
  },
  "language_info": {
   "codemirror_mode": {
    "name": "ipython",
    "version": 3
   },
   "file_extension": ".py",
   "mimetype": "text/x-python",
   "name": "python",
   "nbconvert_exporter": "python",
   "pygments_lexer": "ipython3",
   "version": "3.6.7"
  },
  "toc": {
   "base_numbering": 1,
   "nav_menu": {},
   "number_sections": true,
   "sideBar": true,
   "skip_h1_title": false,
   "title_cell": "Table of Contents",
   "title_sidebar": "Contents",
   "toc_cell": false,
   "toc_position": {
    "height": "calc(100% - 180px)",
    "left": "10px",
    "top": "150px",
    "width": "198px"
   },
   "toc_section_display": true,
   "toc_window_display": true
  }
 },
 "nbformat": 4,
 "nbformat_minor": 2
}
