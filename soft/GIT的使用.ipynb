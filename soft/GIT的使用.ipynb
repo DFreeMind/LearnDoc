{
 "cells": [
  {
   "cell_type": "markdown",
   "metadata": {
    "toc": true
   },
   "source": [
    "<h1>Table of Contents<span class=\"tocSkip\"></span></h1>\n",
    "<div class=\"toc\" style=\"margin-top: 1em;\"><ul class=\"toc-item\"><li><span><a href=\"#GIT-使用教程\" data-toc-modified-id=\"GIT-使用教程-1\"><span class=\"toc-item-num\">1&nbsp;&nbsp;</span>GIT 使用教程</a></span><ul class=\"toc-item\"><li><span><a href=\"#操作\" data-toc-modified-id=\"操作-1.1\"><span class=\"toc-item-num\">1.1&nbsp;&nbsp;</span>操作</a></span><ul class=\"toc-item\"><li><span><a href=\"#配置\" data-toc-modified-id=\"配置-1.1.1\"><span class=\"toc-item-num\">1.1.1&nbsp;&nbsp;</span>配置</a></span></li><li><span><a href=\"#创建仓库\" data-toc-modified-id=\"创建仓库-1.1.2\"><span class=\"toc-item-num\">1.1.2&nbsp;&nbsp;</span>创建仓库</a></span></li><li><span><a href=\"#添加文件\" data-toc-modified-id=\"添加文件-1.1.3\"><span class=\"toc-item-num\">1.1.3&nbsp;&nbsp;</span>添加文件</a></span></li></ul></li><li><span><a href=\"#版本管理\" data-toc-modified-id=\"版本管理-1.2\"><span class=\"toc-item-num\">1.2&nbsp;&nbsp;</span>版本管理</a></span><ul class=\"toc-item\"><li><span><a href=\"#版本回退\" data-toc-modified-id=\"版本回退-1.2.1\"><span class=\"toc-item-num\">1.2.1&nbsp;&nbsp;</span>版本回退</a></span><ul class=\"toc-item\"><li><span><a href=\"#查看提交历史\" data-toc-modified-id=\"查看提交历史-1.2.1.1\"><span class=\"toc-item-num\">1.2.1.1&nbsp;&nbsp;</span>查看<em>提交</em>历史</a></span></li><li><span><a href=\"#版本回退-HEAD\" data-toc-modified-id=\"版本回退-HEAD-1.2.1.2\"><span class=\"toc-item-num\">1.2.1.2&nbsp;&nbsp;</span>版本回退 HEAD</a></span></li><li><span><a href=\"#使用版本号回退\" data-toc-modified-id=\"使用版本号回退-1.2.1.3\"><span class=\"toc-item-num\">1.2.1.3&nbsp;&nbsp;</span>使用版本号回退</a></span></li><li><span><a href=\"#查看命令历史\" data-toc-modified-id=\"查看命令历史-1.2.1.4\"><span class=\"toc-item-num\">1.2.1.4&nbsp;&nbsp;</span>查看<em>命令</em>历史</a></span></li></ul></li><li><span><a href=\"#工作区和暂存区\" data-toc-modified-id=\"工作区和暂存区-1.2.2\"><span class=\"toc-item-num\">1.2.2&nbsp;&nbsp;</span>工作区和暂存区</a></span><ul class=\"toc-item\"><li><span><a href=\"#工作区（Working-Directory）\" data-toc-modified-id=\"工作区（Working-Directory）-1.2.2.1\"><span class=\"toc-item-num\">1.2.2.1&nbsp;&nbsp;</span>工作区（Working Directory）</a></span></li><li><span><a href=\"#版本库（Repository）\" data-toc-modified-id=\"版本库（Repository）-1.2.2.2\"><span class=\"toc-item-num\">1.2.2.2&nbsp;&nbsp;</span>版本库（Repository）</a></span></li><li><span><a href=\"#git-diff-解析\" data-toc-modified-id=\"git-diff-解析-1.2.2.3\"><span class=\"toc-item-num\">1.2.2.3&nbsp;&nbsp;</span>git diff 解析</a></span></li></ul></li><li><span><a href=\"#管理修改\" data-toc-modified-id=\"管理修改-1.2.3\"><span class=\"toc-item-num\">1.2.3&nbsp;&nbsp;</span>管理修改</a></span></li><li><span><a href=\"#撤销修改\" data-toc-modified-id=\"撤销修改-1.2.4\"><span class=\"toc-item-num\">1.2.4&nbsp;&nbsp;</span>撤销修改</a></span><ul class=\"toc-item\"><li><span><a href=\"#使用-git-checkout----file-丢弃工作区修改\" data-toc-modified-id=\"使用-git-checkout----file-丢弃工作区修改-1.2.4.1\"><span class=\"toc-item-num\">1.2.4.1&nbsp;&nbsp;</span>使用 git checkout -- file 丢弃工作区修改</a></span></li><li><span><a href=\"#使用-git-reset-HEAD-file-撤回暂存区的修改\" data-toc-modified-id=\"使用-git-reset-HEAD-file-撤回暂存区的修改-1.2.4.2\"><span class=\"toc-item-num\">1.2.4.2&nbsp;&nbsp;</span>使用 git reset HEAD file 撤回暂存区的修改</a></span></li><li><span><a href=\"#小结\" data-toc-modified-id=\"小结-1.2.4.3\"><span class=\"toc-item-num\">1.2.4.3&nbsp;&nbsp;</span>小结</a></span></li></ul></li><li><span><a href=\"#删除文件\" data-toc-modified-id=\"删除文件-1.2.5\"><span class=\"toc-item-num\">1.2.5&nbsp;&nbsp;</span>删除文件</a></span></li></ul></li><li><span><a href=\"#远程库\" data-toc-modified-id=\"远程库-1.3\"><span class=\"toc-item-num\">1.3&nbsp;&nbsp;</span>远程库</a></span></li><li><span><a href=\"#分支管理\" data-toc-modified-id=\"分支管理-1.4\"><span class=\"toc-item-num\">1.4&nbsp;&nbsp;</span>分支管理</a></span><ul class=\"toc-item\"><li><span><a href=\"#创建与合并分支\" data-toc-modified-id=\"创建与合并分支-1.4.1\"><span class=\"toc-item-num\">1.4.1&nbsp;&nbsp;</span>创建与合并分支</a></span><ul class=\"toc-item\"><li><span><a href=\"#分支原理\" data-toc-modified-id=\"分支原理-1.4.1.1\"><span class=\"toc-item-num\">1.4.1.1&nbsp;&nbsp;</span>分支原理</a></span></li><li><span><a href=\"#创建分支\" data-toc-modified-id=\"创建分支-1.4.1.2\"><span class=\"toc-item-num\">1.4.1.2&nbsp;&nbsp;</span>创建分支</a></span></li><li><span><a href=\"#切换分支\" data-toc-modified-id=\"切换分支-1.4.1.3\"><span class=\"toc-item-num\">1.4.1.3&nbsp;&nbsp;</span>切换分支</a></span></li><li><span><a href=\"#合并分支\" data-toc-modified-id=\"合并分支-1.4.1.4\"><span class=\"toc-item-num\">1.4.1.4&nbsp;&nbsp;</span>合并分支</a></span></li><li><span><a href=\"#删除分支\" data-toc-modified-id=\"删除分支-1.4.1.5\"><span class=\"toc-item-num\">1.4.1.5&nbsp;&nbsp;</span>删除分支</a></span></li><li><span><a href=\"#小结\" data-toc-modified-id=\"小结-1.4.1.6\"><span class=\"toc-item-num\">1.4.1.6&nbsp;&nbsp;</span>小结</a></span></li></ul></li><li><span><a href=\"#解决冲突\" data-toc-modified-id=\"解决冲突-1.4.2\"><span class=\"toc-item-num\">1.4.2&nbsp;&nbsp;</span>解决冲突</a></span><ul class=\"toc-item\"><li><span><a href=\"#合并\" data-toc-modified-id=\"合并-1.4.2.1\"><span class=\"toc-item-num\">1.4.2.1&nbsp;&nbsp;</span>合并</a></span></li><li><span><a href=\"#解决冲突\" data-toc-modified-id=\"解决冲突-1.4.2.2\"><span class=\"toc-item-num\">1.4.2.2&nbsp;&nbsp;</span>解决冲突</a></span></li></ul></li><li><span><a href=\"#分支管理策略\" data-toc-modified-id=\"分支管理策略-1.4.3\"><span class=\"toc-item-num\">1.4.3&nbsp;&nbsp;</span>分支管理策略</a></span><ul class=\"toc-item\"><li><span><a href=\"#非Fast-Forward模式\" data-toc-modified-id=\"非Fast-Forward模式-1.4.3.1\"><span class=\"toc-item-num\">1.4.3.1&nbsp;&nbsp;</span>非Fast Forward模式</a></span></li><li><span><a href=\"#分支策略\" data-toc-modified-id=\"分支策略-1.4.3.2\"><span class=\"toc-item-num\">1.4.3.2&nbsp;&nbsp;</span>分支策略</a></span></li></ul></li><li><span><a href=\"#Bug分支\" data-toc-modified-id=\"Bug分支-1.4.4\"><span class=\"toc-item-num\">1.4.4&nbsp;&nbsp;</span>Bug分支</a></span><ul class=\"toc-item\"><li><span><a href=\"#stash-保存现场\" data-toc-modified-id=\"stash-保存现场-1.4.4.1\"><span class=\"toc-item-num\">1.4.4.1&nbsp;&nbsp;</span>stash 保存现场</a></span></li></ul></li><li><span><a href=\"#Feature分支\" data-toc-modified-id=\"Feature分支-1.4.5\"><span class=\"toc-item-num\">1.4.5&nbsp;&nbsp;</span>Feature分支</a></span></li><li><span><a href=\"#多人协作\" data-toc-modified-id=\"多人协作-1.4.6\"><span class=\"toc-item-num\">1.4.6&nbsp;&nbsp;</span>多人协作</a></span><ul class=\"toc-item\"><li><span><a href=\"#推送分支\" data-toc-modified-id=\"推送分支-1.4.6.1\"><span class=\"toc-item-num\">1.4.6.1&nbsp;&nbsp;</span>推送分支</a></span></li><li><span><a href=\"#抓取分支\" data-toc-modified-id=\"抓取分支-1.4.6.2\"><span class=\"toc-item-num\">1.4.6.2&nbsp;&nbsp;</span>抓取分支</a></span></li></ul></li><li><span><a href=\"#标签管理\" data-toc-modified-id=\"标签管理-1.4.7\"><span class=\"toc-item-num\">1.4.7&nbsp;&nbsp;</span>标签管理</a></span><ul class=\"toc-item\"><li><span><a href=\"#创建标签\" data-toc-modified-id=\"创建标签-1.4.7.1\"><span class=\"toc-item-num\">1.4.7.1&nbsp;&nbsp;</span>创建标签</a></span></li></ul></li><li><span><a href=\"#操作标签\" data-toc-modified-id=\"操作标签-1.4.8\"><span class=\"toc-item-num\">1.4.8&nbsp;&nbsp;</span>操作标签</a></span></li></ul></li><li><span><a href=\"#自定义Git\" data-toc-modified-id=\"自定义Git-1.5\"><span class=\"toc-item-num\">1.5&nbsp;&nbsp;</span>自定义Git</a></span><ul class=\"toc-item\"><li><span><a href=\"#忽略特殊文件\" data-toc-modified-id=\"忽略特殊文件-1.5.1\"><span class=\"toc-item-num\">1.5.1&nbsp;&nbsp;</span>忽略特殊文件</a></span></li><li><span><a href=\"#配置别名\" data-toc-modified-id=\"配置别名-1.5.2\"><span class=\"toc-item-num\">1.5.2&nbsp;&nbsp;</span>配置别名</a></span><ul class=\"toc-item\"><li><span><a href=\"#配置文件\" data-toc-modified-id=\"配置文件-1.5.2.1\"><span class=\"toc-item-num\">1.5.2.1&nbsp;&nbsp;</span>配置文件</a></span></li></ul></li></ul></li></ul></li></ul></div>"
   ]
  },
  {
   "cell_type": "markdown",
   "metadata": {},
   "source": [
    "# GIT 使用教程"
   ]
  },
  {
   "cell_type": "markdown",
   "metadata": {},
   "source": [
    "## 操作\n",
    "### 配置\n",
    "全局的用户名及其密码配置\n",
    "```shell\n",
    "git config --global user.name \"Your Name\"\n",
    "git config --global user.email \"email@example.com\"\n",
    "```\n",
    "### 创建仓库\n",
    "首先创建一个用作仓库的目录\n",
    "```sehll\n",
    "mkdir learngit\n",
    "```\n",
    "创建好目录之后进入，使用`git init`就可以把当前的目录初始化为仓库。\n",
    "```\n",
    "$ git init\n",
    "Initialized empty Git repository in D:/GitHub/learngit/.git/\n",
    "```\n",
    "之后可以看到一个隐藏的目录`.git`，这个目录是Git来跟踪管理版本库的，没事千万不要手动修改这个目录里面的文件，不然改乱了，就把Git仓库给破坏了。里面的内容如下：\n",
    "![image](http://wx2.sinaimg.cn/large/69d4185bly1fnij00qx8cj20hf06faa6.jpg)"
   ]
  },
  {
   "cell_type": "markdown",
   "metadata": {},
   "source": [
    "之后就可以在当前创建好的版本库上进行版本管理的操作，但所有的操作都应该在版本库里面完成，即此处创建的 `learngit` 版本库中，因为放在其他目录里面 git 是无法追踪到的，且 git 只能管理文本不不能管理二进制文件，如 word 这样的二进制文件就无法在git中进行版本管理。\n",
    "\n",
    "### 添加文件\n",
    "在 learngit 文件夹中创建一个 readme.txt 文件，输入如下的内容：\n",
    "```\n",
    "Git is a version control system.\n",
    "Git is free software.\n",
    "```\n",
    "将文件添加到版本库管理中需要经过以下两部：\n",
    "1. 添加操作 `git add readme.txt`\n",
    "2. 将改变提交到版本库， `git commit -m '添加一个readme文件'`\n",
    "\n",
    "> `git commit -m` 中的 `-m` 用于注释此次的提交内容。`add` 命令也可以连续或者一次添加多个文件，如：\n",
    "> ```\n",
    " $ git add file1.txt\n",
    " $ git add file2.txt file3.txt\n",
    " $ git commit -m \"add 3 files.\"\n",
    "```\n",
    "> 也可以使用通配符来添加文件：`git add **/*.java`\n",
    "\n",
    "提交时可以看到如下信息：\n",
    "```\n",
    " git commit -m '添加一个readme文件'\n",
    "[master (root-commit) 5c3619b] 添加一个readme文件\n",
    " 1 file changed, 2 insertions(+)\n",
    " create mode 100644 readme.txt\n",
    "```\n",
    "\n"
   ]
  },
  {
   "cell_type": "markdown",
   "metadata": {},
   "source": [
    "## 版本管理\n",
    "添加完 readme.txt 之后，对其进行修改，\n",
    "```\n",
    "Git is a distributed version control system.\n",
    "Git is free software.\n",
    "```\n",
    "通过 `git status` 查看：\n",
    "```\n",
    "> git status\n",
    "On branch master\n",
    "Changes not staged for commit:\n",
    "  (use \"git add <file>...\" to update what will be committed)\n",
    "  (use \"git checkout -- <file>...\" to discard changes in working directory)\n",
    "\n",
    "        modified:   readme.txt\n",
    "\n",
    "no changes added to commit (use \"git add\" and/or \"git commit -a\")\n",
    "```\n",
    "`git status`命令可以让我们时刻掌握仓库当前的状态，上面的命令告诉我们，readme.txt被修改过了，但还没有准备提交的修改。\n",
    "\n",
    "通过 `git diff` 可以查看都修改了哪些内容：\n",
    "![image](http://wx2.sinaimg.cn/large/69d4185bly1fnjdewv0b5j20d0049abc.jpg)\n",
    "\n",
    "`git diff`顾名思义就是查看difference，显示的格式正是Unix通用的diff格式。确认修改是正确的就可以进行提交，`git add readme.txt`，在使用 `git status` 查看状态。![image](http://wx2.sinaimg.cn/large/69d4185bly1fnjdhsc61bj20dd043jrg.jpg)\n",
    "\n",
    "`git status`告诉我们，将要被提交的修改包括readme.txt，下一步，就可以放心地提交了：`git commit -m \"add distributed\"`。之后在使用 `git status` 查看仓库当前状态：![image](http://wx2.sinaimg.cn/large/69d4185bly1fnjdkerjz2j20dd03ujrg.jpg)\n"
   ]
  },
  {
   "cell_type": "markdown",
   "metadata": {},
   "source": [
    "### 版本回退\n",
    "\n",
    "#### 查看*提交*历史\n",
    "现在，我们回顾一下readme.txt文件一共有几个版本被提交到Git仓库里了：\n",
    "\n",
    "版本1：wrote a readme file\n",
    "```\n",
    "Git is a version control system.\n",
    "Git is free software.\n",
    "```\n",
    "版本2：add distributed\n",
    "```\n",
    "Git is a distributed version control system.\n",
    "Git is free software.\n",
    "```\n",
    "版本3：append GPL\n",
    "```\n",
    "Git is a distributed version control system.\n",
    "Git is free software distributed under the GPL.\n",
    "```\n",
    "\n",
    "使用 `git log` 可以查看仓库的历史版本记录：![image](http://wx2.sinaimg.cn/large/69d4185bly1fnjduf52f7j20dt07pdga.jpg)\n"
   ]
  },
  {
   "cell_type": "markdown",
   "metadata": {},
   "source": [
    "`git log` 添加 `--pretty=oneline` 可以让信息显示的更加简洁：![image](http://wx2.sinaimg.cn/large/69d4185bly1fnjdx6ecmfj20dn027aa5.jpg)\n",
    "\n",
    "在 commit 后面跟着的一大长串字符就是版本号。\n",
    "\n",
    "#### 版本回退 HEAD\n",
    "\n",
    "首先，Git必须知道当前版本是哪个版本，在Git中，用HEAD表示当前版本，也就是最新的提交`0eea0...2a91`，上一个版本就是HEAD^，上上一个版本就是HEAD^^，当然往上100个版本写100个^比较容易数不过来，所以写成HEAD~100。\n",
    "\n",
    "现在，我们要把当前版本“append GPL”回退到上一个版本“add distributed”，就可以使用`git reset`命令：`git reset--hard HEAD^`\n",
    "![image](http://wx2.sinaimg.cn/large/69d4185bly1fnje9aq776j20en05qaaw.jpg)\n",
    "\n",
    "可以看到内容变成了：\n",
    "```\n",
    "> cat readme.txt\n",
    "Git is a distributed version control system.\n",
    "Git is free software.\n",
    "```\n"
   ]
  },
  {
   "cell_type": "markdown",
   "metadata": {},
   "source": [
    "#### 使用版本号回退\n",
    "\n",
    "但从上图中可以发现一个问题，最新添加的版本 `append GPL` 找不到了，是不是就无法回退到最新版本了呢？其实是可以的，只需要找到之前的版本号ID `0eea042ea3e26673e92f0862a73f827331f02a91` 就可以回退：` git reset --hard 0eea042ea3e26673e92f0862a73f827331f02a91`，回退的结果如下图，可以看到又回到了最新的版本：\n",
    "![image](http://wx2.sinaimg.cn/large/69d4185bly1fnjek4e7bdj20ej05r0th.jpg)\n",
    "\n",
    "最新的内容是：\n",
    "```\n",
    "> cat readme.txt\n",
    "Git is a distributed version control system.\n",
    "Git is free software distributed under the GPL.\n",
    "```"
   ]
  },
  {
   "cell_type": "markdown",
   "metadata": {},
   "source": [
    "版本号没必要写全，前几位就可以了，Git会自动去找。当然也不能只写前一两位，因为Git可能会找到多个版本号，就无法确定是哪一个了。![image](http://wx2.sinaimg.cn/large/69d4185bly1fnjeq8h6ecj20em07b75b.jpg)\n",
    "\n",
    "Git的版本回退速度非常快，因为Git在内部有个指向当前版本的HEAD指针，当你回退版本的时候，Git仅仅是把HEAD从指向`append GPL`：![img](https://ws1.sinaimg.cn/large/69d4185bly1fnjer05m1pj206j04iq2t.jpg)\n",
    "\n",
    "改为指向add distributed：![img](https://ws1.sinaimg.cn/large/69d4185bly1fnjernpumsj206j04iwed.jpg)\n",
    "\n",
    "然后顺便把工作区的文件更新了。所以你让HEAD指向哪个版本号，你就把当前版本定位在哪。"
   ]
  },
  {
   "cell_type": "markdown",
   "metadata": {},
   "source": [
    "#### 查看*命令*历史\n",
    "\n",
    "现在，你回退到了某个版本，关掉了电脑，第二天早上就后悔了，想恢复到新版本怎么办？找不到新版本的`commit id`怎么办？\n",
    "\n",
    "在Git中，总是有后悔药可以吃的。当你用`git reset --hard HEAD^`回退到`add distributed`版本时，再想恢复到`append GPL`，就必须找到append GPL的`commit id`。Git提供了一个命令`git reflog`用来记录你的每一次命令：![image](http://wx2.sinaimg.cn/large/69d4185bly1fnjewe04iej20fq042mxj.jpg)"
   ]
  },
  {
   "cell_type": "markdown",
   "metadata": {},
   "source": [
    "### 工作区和暂存区\n",
    "Git和其他版本控制系统如SVN的一个不同之处就是有暂存区的概念。"
   ]
  },
  {
   "cell_type": "markdown",
   "metadata": {},
   "source": [
    "#### 工作区（Working Directory）\n",
    "就是你在电脑里能看到的目录，比如`learngit`文件夹就是一个工作区：![image](http://wx2.sinaimg.cn/large/69d4185bly1fnjfb1gstyj20c7038mx1.jpg)"
   ]
  },
  {
   "cell_type": "markdown",
   "metadata": {},
   "source": [
    "#### 版本库（Repository）\n",
    "\n",
    "工作区有一个隐藏目录`.git` 如上图，这个不算工作区，而是Git的版本库。\n",
    "\n",
    "Git的版本库里存了很多东西，其中最重要的就是称为`stage`（或者叫`index`）的暂存区，还有Git为我们自动创建的第一个分支`master`，以及指向master的一个指针叫HEAD ![img](https://ws1.sinaimg.cn/large/69d4185bly1fnjfgqttz5j20cq06iaa8.jpg)。\n",
    "\n",
    "前面讲了我们把文件往Git版本库里添加的时候，是分两步执行的：\n",
    "- 第一步是用`git add`把文件添加进去，实际上就是把文件修改添加到暂存区；\n",
    "- 第二步是用`git commit`提交更改，实际上就是把暂存区的所有内容提交到当前分支。\n",
    "\n",
    "因为我们创建Git版本库时，Git自动为我们创建了唯一一个`master`分支，所以，现在，`git commit`就是往`master`分支上提交更改。\n",
    "\n",
    "你可以简单理解为，需要提交的文件修改通通放到暂存区，然后，一次性提交暂存区的所有修改。俗话说，实践出真知。现在，我们再练习一遍，先对readme.txt做个修改，比如加上一行内容："
   ]
  },
  {
   "cell_type": "markdown",
   "metadata": {},
   "source": [
    "```\n",
    "Git is a distributed version control system.\n",
    "Git is free software distributed under the GPL.\n",
    "Git has a mutable index called stage.\n",
    "```\n",
    "然后，在工作区新增一个LICENSE文本文件（内容随便写）。先用git status查看一下状态：![image](http://wx2.sinaimg.cn/large/69d4185bly1fnjfolvhm4j20f0063aa9.jpg)\n",
    "\n",
    "Git非常清楚地告诉我们，readme.txt被修改了，而LICENSE还从来没有被添加过，所以它的状态是`Untracked`。现在，使用两次命令`git add`，把readme.txt和LICENSE都添加后，用`git status`再查看一下：![image](http://wx2.sinaimg.cn/large/69d4185bly1fnjfr87ev3j20d605wq37.jpg)\n",
    "\n",
    "现在，暂存区的状态就变成这样了：![img](https://ws1.sinaimg.cn/large/69d4185bly1fnjfrok0esj20cq06ijri.jpg)"
   ]
  },
  {
   "cell_type": "markdown",
   "metadata": {},
   "source": [
    "所以，`git add`命令实际上就是把要提交的所有修改放到暂存区（Stage），然后，执行`git commit`就可以一次性把暂存区的所有修改提交到分支。\n",
    "\n",
    "`git commit -m \"understand how stage works\"` 一旦提交后，如果你又没有对工作区做任何修改，那么工作区就是“干净”的：![image](http://wx2.sinaimg.cn/large/69d4185bly1fnjfuzozp3j20dl045glr.jpg)\n",
    "\n",
    "现在版本库变成了这样，暂存区就没有任何内容了：![img](https://ws1.sinaimg.cn/large/69d4185bly1fnjfve86zxj20cv06iq32.jpg)"
   ]
  },
  {
   "cell_type": "markdown",
   "metadata": {},
   "source": [
    "#### git diff 解析\n",
    "\n",
    "明白了工作区、暂存区、master就能命名`git diff` 在做什么事情，`git diff`是工作区(work dict)和暂存区(stage)的比较；`git diff --cached` 是暂存区(stage)和分支(master)的比较。\n",
    "\n",
    "stage或cache与虽说是暂存区，缓冲区，但commit并不是像想像那样把这个区清空，估计只是打个同步的标志，内容还在，就能理解了。add 是 把工作区的更新到暂存区，commit是把缓冲区更新到仓库。所以经过add, commit,修改再add,再修改，就会出现工作区、缓冲区、和仓库三者都不同。\n",
    "\n",
    "如，在 LICENSE 中添加 `And you?` 之后 add 并 commit，这样工作区、暂存区、master已经同步，之后再修改LICENSE，不做add，通过 diff 比较可以看到，工作区与暂存区有区别，而暂存区与master没有区别：![image](http://wx2.sinaimg.cn/large/69d4185bly1fnjg8t29grj20d005rwei.jpg)\n",
    "\n",
    "接着将LICENSE中的变更 add 到暂存区，接着再修改LICENSE的内容，这样工作区、暂存区、master三者都不同了，如下图：![image](http://wx2.sinaimg.cn/large/69d4185bly1fnjgcysqdoj20et0aa0sz.jpg)"
   ]
  },
  {
   "cell_type": "markdown",
   "metadata": {},
   "source": [
    "### 管理修改\n",
    "为什么Git比其他版本控制系统设计得优秀，因为Git跟踪并管理的是修改，而非文件。"
   ]
  },
  {
   "cell_type": "markdown",
   "metadata": {},
   "source": [
    "为什么说Git管理的是修改，而不是文件呢？我们还是做实验。第一步，对readme.txt做一个修改，比如加一行内容：\n",
    "```\n",
    "Git is a distributed version control system.\n",
    "Git is free software distributed under the GPL.\n",
    "Git has a mutable index called stage.\n",
    "Git tracks changes.\n",
    "```\n",
    "然后，添加 `git add readme.txt` :\n",
    "![image](http://wx2.sinaimg.cn/large/69d4185bly1fnjhdxyy90j20db041jrc.jpg)\n",
    "\n",
    "然后，再修改readme.txt：\n",
    "```\n",
    "Git is a distributed version control system.\n",
    "Git is free software distributed under the GPL.\n",
    "Git has a mutable index called stage.\n",
    "Git tracks changes of files.\n",
    "```\n",
    "提交 `git commit -m \"git tracks changes\"`：![image](http://wx2.sinaimg.cn/large/69d4185bly1fnjhfdjq0sj20ey065aa9.jpg)\n"
   ]
  },
  {
   "cell_type": "markdown",
   "metadata": {},
   "source": [
    "从上图可以看到还有修改没有提交，为什么呢？回顾一下整个操作过程：第一次修改 -> `git add` -> 第二次修改 -> `git commit`。\n",
    "\n",
    "因此当你用`git add`命令后，在工作区的第一次修改被放入暂存区，准备提交，但是，在工作区的第二次修改并没有放入暂存区，所以，`git commit`只负责把暂存区的修改提交了，也就是第一次的修改被提交了，第二次的修改不会被提交。\n",
    "\n",
    "提交后，用`git diff HEAD -- readme.txt`命令可以查看工作区和版本库里面最新版本的区别：![image](http://wx2.sinaimg.cn/large/69d4185bly1fnjhu4c8waj20e105rq38.jpg)\n",
    "\n",
    "那怎么提交第二次修改呢？你可以继续`git add`再`git commit`，也可以别着急提交第一次修改，先`git add`第二次修改，再`git commit`，就相当于把两次修改合并后一块提交了：第一次修改 -> `git add` -> 第二次修改 -> `git add` -> `git commit` 。"
   ]
  },
  {
   "cell_type": "markdown",
   "metadata": {},
   "source": [
    "### 撤销修改\n",
    "当我们错误的添加或者修改内容是，我们可以使用git提供的功能撤销修改。"
   ]
  },
  {
   "cell_type": "markdown",
   "metadata": {},
   "source": [
    "如，不小心在 readme.txt中添加了如下的内容：\n",
    "```\n",
    "Git is a distributed version control system.\n",
    "Git is free software distributed under the GPL.\n",
    "Git has a mutable index called stage.\n",
    "Git tracks changes of files.\n",
    "My stupid boss still prefers SVN.\n",
    "```\n",
    "你可以删掉最后一行，手动把文件恢复到上一个版本的状态。如果用git status查看一下：![image](http://wx2.sinaimg.cn/large/69d4185bly1fnjmtxyjoyj20fb045mxa.jpg)"
   ]
  },
  {
   "cell_type": "markdown",
   "metadata": {},
   "source": [
    "#### 使用 git checkout -- file 丢弃工作区修改\n",
    "可以发现，Git会告诉你，`git checkout -- file`可以丢弃工作区的修改：`git checkout -- readme.txt` 。命令`git checkout -- readme.txt`意思就是，把readme.txt文件在工作区的修改全部撤销，这里有两种情况：\n",
    "- 一种是`readme.txt`自修改后还没有被放到暂存区，现在，撤销修改就回到和版本库一模一样的状态；\n",
    "- 一种是`readme.txt`已经添加到暂存区后，又作了修改，现在，撤销修改就回到添加到暂存区后的状态。\n",
    "\n",
    "总之，就是让这个文件回到最近一次`git commit`或`git add`时的状态。执行完成`git checkout -- readme.txt`可以看到readme.txt又恢复到了原来的状态：![image](http://wx2.sinaimg.cn/large/69d4185bly1fnjmvn4ycyj20dr03n3ym.jpg)\n"
   ]
  },
  {
   "cell_type": "markdown",
   "metadata": {},
   "source": [
    "`git checkout -- file`命令中的`--`很重要，没有`--`，就变成了“切换到另一个分支”的命令，我们在后面的分支管理中会再次遇到`git checkout`命令。\n",
    "\n",
    " 注：[这里对`- -`(double dash)的解读不够正确](https://www.liaoxuefeng.com/discuss/001409195939432748a2c9fae3846bc98b3c2a547fa321b000/0015026357617055825f35466dd4bdc91ed07d202888b06000)\n",
    " \n",
    "\n",
    "#### 使用 git reset HEAD file 撤回暂存区的修改\n",
    "如果已经使用 add 添加到暂存区，但还没有 commit ，通过 `git status` 查看可以看到 git 提示使用 `git reset HEAD file` 来撤销 add 添加到暂存区的操作，重新放回工作区：![image](http://wx2.sinaimg.cn/large/69d4185bly1fnjo5ved4gj20ds03djra.jpg)\n",
    "\n",
    "使用`git reset HEAD file` 操作之后可以看到，提交到暂存区的操作被撤回：![image](http://wx2.sinaimg.cn/large/69d4185bly1fnjol7cqikj20d201vwee.jpg)\n",
    "\n",
    "`git reset`命令既可以回退版本，也可以把暂存区的修改回退到工作区。当我们用HEAD时，表示最新的版本。再用`git status`查看一下，现在暂存区是干净的，工作区有修改：![image](http://wx2.sinaimg.cn/large/69d4185bly1fnjorpigsqj20ez03ymx8.jpg)\n",
    "\n",
    "接着使用`git checkout -- file` 命令撤回工作区的修改：![image](http://wx2.sinaimg.cn/large/69d4185bly1fnjp9mhusgj20d5054weo.jpg)"
   ]
  },
  {
   "cell_type": "markdown",
   "metadata": {},
   "source": [
    "现在，假设你不但改错了东西，还从暂存区提交到了版本库，怎么办呢？还记得版本回退一节吗？可以回退到上一个版本。不过，这是有条件的，就是你还没有把自己的本地版本库推送到远程。\n",
    "\n",
    "#### 小结\n",
    "- 场景1：当你改乱了工作区某个文件的内容，想直接丢弃工作区的修改时，用命令`git checkout -- file`。\n",
    "- 场景2：当你不但改乱了工作区某个文件的内容，还添加到了暂存区时，想丢弃修改，分两步，第一步用命令`git reset HEAD file`，就回到了场景1，第二步按场景1操作。\n",
    "- 场景3：已经提交了不合适的修改到版本库时，想要撤销本次提交，参考版本回退一节，不过前提是没有推送到远程库。\n",
    "\n",
    "checkout与reset 可以参考[Checkout和Rest的所有谜题](https://www.liaoxuefeng.com/discuss/001409195939432748a2c9fae3846bc98b3c2a547fa321b000/001492608325485d12f1bda6d34465aaeeb36eff0a798b6000)"
   ]
  },
  {
   "cell_type": "markdown",
   "metadata": {},
   "source": [
    "### 删除文件\n",
    "在Git中，删除也是一个修改操作，我们实战一下，先添加一个新文件test.txt到Git并且提交：\n",
    "```shell\n",
    "git add test.txt\n",
    "git commit -m 'add test.txt'\n",
    "[master cfc19e2] add test.txt\n",
    " 1 file changed, 0 insertions(+), 0 deletions(-)\n",
    " create mode 100644 test.txt\n",
    "\n",
    "```\n",
    "一般情况下，你通常直接在文件管理器中把没用的文件删了，或者用rm命令删了：`rm test.txt` 。这个时候，Git知道你删除了文件，因此，工作区和版本库就不一致了，`git status` 命令会立刻告诉你哪些文件被删除了：\n",
    "```shell\n",
    "git status\n",
    "# On branch master\n",
    "# Changes not staged for commit:\n",
    "#   (use \"git add/rm <file>...\" to update what will be committed)\n",
    "#   (use \"git checkout -- <file>...\" to discard changes in working directory)\n",
    "#\n",
    "#       deleted:    test.txt\n",
    "#\n",
    "no changes added to commit (use \"git add\" and/or \"git commit -a\")\n",
    "```"
   ]
  },
  {
   "cell_type": "markdown",
   "metadata": {},
   "source": [
    "现在你有两个选择，一是确实要从版本库中删除该文件，那就用命令`git rm`删掉，并且`git commit：\n",
    "```shell\n",
    "git rm test.txt\n",
    "rm 'test.txt'\n",
    "\n",
    "git commit -m \"remove test.txt\"\n",
    "[master d17efd8] remove test.txt\n",
    " 1 file changed, 1 deletion(-)\n",
    " delete mode 100644 test.txt\n",
    " ```\n",
    "现在，文件就从版本库中被删除了。使用 `git rm` 其实是执行了两步操作，首先删除工作区的文件，然后把修改提交到暂存区。\n",
    "\n",
    "但如果在当前工作区内test.txt的修改未提交 `git rm test.txt` 不会删除文件而会报错。\n",
    "![image](http://ws3.sinaimg.cn/large/69d4185bly1fnkkkhzqkzj20f706d3yv.jpg)\n",
    "另外，`git rm --cached test.txt` 会在文件系统中保留test.txt，但版本库中的会被删除。\n",
    "![image](http://ws3.sinaimg.cn/large/69d4185bly1fnkkzup2tqj20iy06xaaf.jpg)\n",
    "\n",
    " \n",
    " 另一种情况是删错了，因为版本库里还有呢，所以可以很轻松地把误删的文件恢复到最新版本：`git checkout -- test.txt` ， `git checkout`其实是用版本库里的版本替换工作区的版本，无论工作区是修改还是删除，都可以“一键还原”。\n",
    " \n",
    " "
   ]
  },
  {
   "cell_type": "markdown",
   "metadata": {},
   "source": [
    "## 远程库\n"
   ]
  },
  {
   "cell_type": "markdown",
   "metadata": {},
   "source": [
    "可参考：\n",
    "\n",
    "1、[远程仓库](https://www.liaoxuefeng.com/wiki/0013739516305929606dd18361248578c67b8067c8c017b000/001374385852170d9c7adf13c30429b9660d0eb689dd43a000)\n",
    "\n",
    "2、[添加远程库](https://www.liaoxuefeng.com/wiki/0013739516305929606dd18361248578c67b8067c8c017b000/0013752340242354807e192f02a44359908df8a5643103a000)\n",
    "\n",
    "3、[从远程库克隆](https://www.liaoxuefeng.com/wiki/0013739516305929606dd18361248578c67b8067c8c017b000/001375233990231ac8cf32ef1b24887a5209f83e01cb94b000)"
   ]
  },
  {
   "cell_type": "markdown",
   "metadata": {},
   "source": [
    "## 分支管理"
   ]
  },
  {
   "cell_type": "markdown",
   "metadata": {},
   "source": [
    "### 创建与合并分支\n",
    "#### 分支原理\n",
    "在版本回退里，你已经知道，每次提交，Git都把它们串成一条时间线，这条时间线就是一个分支。截止到目前，只有一条时间线，在Git里，这个分支叫主分支，即`master`分支。`HEAD`严格来说不是指向提交，而是指向`master`，`master`才是指向提交的，所以，`HEAD`指向的就是当前分支。\n",
    "\n",
    "一开始的时候，`master`分支是一条线，Git用`master`指向最新的提交，再用`HEAD`指向`master`，就能确定当前分支，以及当前分支的提交点：![img](https://ws1.sinaimg.cn/large/69d4185bly1fnksftcqhoj208d0473yd.jpg)\n",
    "每次提交，·master·分支都会向前移动一步，这样，随着你不断提交，`master`分支的线也越来越长:![image](http://ws3.sinaimg.cn/large/69d4185bly1fnksnv9wnqj20ed07jt95.jpg)"
   ]
  },
  {
   "cell_type": "markdown",
   "metadata": {},
   "source": [
    "当我们创建新的分支，例如`dev`时，Git新建了一个指针叫`dev`，指向`master`相同的提交，再把`HEAD`指向`dev`，就表示当前分支在`dev`上：![img](https://ws1.sinaimg.cn/large/69d4185bly1fnksp82nwbj20a706hwee.jpg)\n",
    "\n",
    "你看，Git创建一个分支很快，因为除了增加一个`dev`指针，改改`HEAD`的指向，工作区的文件都没有任何变化！不过，从现在开始，对工作区的修改和提交就是针对`dev`分支了，比如新提交一次后，`dev`指针往前移动一步，而`master`指针不变：![img](https://ws1.sinaimg.cn/large/69d4185bly1fnksqmwxbej20dq06ha9z.jpg)"
   ]
  },
  {
   "cell_type": "markdown",
   "metadata": {},
   "source": [
    "假如我们在`dev`上的工作完成了，就可以把`dev`合并到`master`上。Git怎么合并呢？最简单的方法，就是直接把`master`指向`dev`的当前提交，就完成了合并：![img](https://ws1.sinaimg.cn/large/69d4185bly1fnksrwibc2j20br0663yf.jpg)\n",
    "\n",
    "所以Git合并分支也很快！就改改指针，工作区内容也不变！合并完分支后，甚至可以删除`dev`分支。删除`dev`分支就是把`dev`指针给删掉，删掉后，我们就剩下了一条`master`分支：![img](https://ws1.sinaimg.cn/large/69d4185bly1fnksswlm0tj20br04fdfp.jpg)"
   ]
  },
  {
   "cell_type": "markdown",
   "metadata": {},
   "source": [
    "#### 创建分支\n",
    "首先，我们创建`dev`分支，然后切换到`dev`分支：` git checkout -b dev` 。\n",
    "> `git checkout`命令加上`-b`参数表示创建并切换，相当于以下两条命令：\n",
    "```shell\n",
    "git branch dev\n",
    "git checkout dev\n",
    "```\n",
    "\n",
    "然后，用`git branch`命令查看当前分支，`git branch`命令会列出所有分支，当前分支前面会标一个`*`号：![image](http://ws3.sinaimg.cn/large/69d4185bly1fnkt0t8csxj20d503gwef.jpg)"
   ]
  },
  {
   "cell_type": "markdown",
   "metadata": {},
   "source": [
    "然后，我们就可以在dev分支上正常提交，比如对`readme.txt`做个修改，加上一行：`Creating a new branch is quick.` 。然后提交：`git add readme.txt`、`git commit -m \"branch test\"` 。![image](http://ws3.sinaimg.cn/large/69d4185bly1fnkt8wf32xj20dg031aa6.jpg)"
   ]
  },
  {
   "cell_type": "markdown",
   "metadata": {},
   "source": [
    "#### 切换分支\n",
    "现在，`dev`分支的工作完成，我们就可以切换回`master`分支：`git checkout master` 。\n",
    "![image](http://ws3.sinaimg.cn/large/69d4185bly1fnktcui3suj20hl06q74i.jpg)\n",
    "切换回`master`分支后，再查看一个`readme.txt`文件，刚才添加的内容不见了！因为那个提交是在`dev`分支上，而`master`分支此刻的提交点并没有变：![img](https://ws1.sinaimg.cn/large/69d4185bly1fnktd2om34j20bn0663yf.jpg)\n"
   ]
  },
  {
   "cell_type": "markdown",
   "metadata": {},
   "source": [
    "#### 合并分支\n",
    "现在，我们把`dev`分支的工作成果合并到`master`分支上：`git merge dev`。 \n",
    "![image](http://ws3.sinaimg.cn/large/69d4185bly1fnktjk0nvoj20d702lq2w.jpg)\n",
    "`git merge`命令用于合并指定分支到当前分支（即将`dev`分支合并到`master`分支上）。合并后，再查看readme.txt的内容，就可以看到，和`dev`分支的最新提交是完全一样的。注意到上面的`Fast-forward`信息，Git告诉我们，这次合并是“快进模式”，也就是直接把master指向dev的当前提交，所以合并速度非常快。当然，也不是每次合并都能`Fast-forward`，我们后面会讲其他方式的合并。"
   ]
  },
  {
   "cell_type": "markdown",
   "metadata": {},
   "source": [
    "#### 删除分支\n",
    "合并完成后，就可以放心地删除`dev`分支了：`git branch -d dev`，删除后，查看branch，就只剩下master分支了：![image](http://ws3.sinaimg.cn/large/69d4185bly1fnktm9uuc4j20dd0383yj.jpg)\n",
    "\n",
    "因为创建、合并和删除分支非常快，所以Git鼓励你使用分支完成某个任务，合并后再删掉分支，这和直接在master分支上工作效果是一样的，但过程更安全。"
   ]
  },
  {
   "cell_type": "markdown",
   "metadata": {},
   "source": [
    "#### 小结\n",
    "Git鼓励大量使用分支：\n",
    "\n",
    "- 查看分支：`git branch`\n",
    "- 创建分支：`git branch <name>`\n",
    "- 切换分支：`git checkout <name>`\n",
    "- 创建+切换分支：`git checkout -b <name>`\n",
    "- 合并某分支到当前分支：`git merge <name>`\n",
    "- 删除分支：`git branch -d <name>`"
   ]
  },
  {
   "cell_type": "markdown",
   "metadata": {},
   "source": [
    "### 解决冲突\n",
    "人生不如意之事十之八九，合并分支往往也不是一帆风顺的。\n",
    "\n",
    "准备新的`feature1`分支，继续我们的新分支开发。修改readme.txt最后一行，改为：`Creating a new branch is quick AND simple.`，之后在feature1分支上提交：![image](http://ws3.sinaimg.cn/large/69d4185bly1fnku210u9dj20dk04ojrh.jpg)"
   ]
  },
  {
   "cell_type": "markdown",
   "metadata": {},
   "source": [
    "切换到master分支；Git还会自动提示我们当前`master`分支比远程的`master`（Github上）分支要超前1个提交。在master分支上把readme.txt文件的最后一行改为：`Creating a new branch is quick & simple.`，提交修改：![image](http://ws3.sinaimg.cn/large/69d4185bly1fnku81b4xoj20ef05kmxn.jpg)\n",
    "\n",
    "现在，`master`分支和`feature1`分支各自都分别有新的提交，变成了这样：![img](https://ws1.sinaimg.cn/large/69d4185bly1fnku8xybaxj20bt07k3yc.jpg)"
   ]
  },
  {
   "cell_type": "markdown",
   "metadata": {},
   "source": [
    "#### 合并\n",
    "这种情况下，Git无法执行“快速合并”，只能试图把各自的修改合并起来，但这种合并就可能会有冲突，我们试试看：![image](http://ws3.sinaimg.cn/large/69d4185bly1fnkucq9mezj20di02bwee.jpg)\n",
    "\n",
    "果然冲突了！Git告诉我们，readme.txt文件存在冲突，必须手动解决冲突后再提交。`git status`也可以告诉我们冲突的文件：![image](http://ws3.sinaimg.cn/large/69d4185bly1fnkuejrks3j20en06mt8x.jpg)\n"
   ]
  },
  {
   "cell_type": "markdown",
   "metadata": {},
   "source": [
    "#### 解决冲突\n",
    "我们可以直接查看readme.txt的内容：\n",
    "```\n",
    "Git is a distributed version control system.\n",
    "Git is free software distributed under the GPL.\n",
    "Git has a mutable index called stage.\n",
    "Git tracks changes.\n",
    "<<<<<<< HEAD\n",
    "Creating a new branch is quick & simple.\n",
    "=======\n",
    "Creating a new branch is quick AND simple.\n",
    ">>>>>>> feature1\n",
    "```\n",
    "Git用`<<<<<<<`，`=======`，`>>>>>>>`标记出不同分支的内容，我们修改如下后保存：`Creating a new branch is quick and simple.`，在提交：\n",
    "```shell\n",
    "git add readme.txt \n",
    "git commit -m \"conflict fixed\"\n",
    "```\n",
    "现在，`master`分支和`feature1`分支变成了下图所示：![img](https://ws1.sinaimg.cn/large/69d4185bly1fnkujo9zv8j20fb07kmx0.jpg)"
   ]
  },
  {
   "cell_type": "markdown",
   "metadata": {},
   "source": [
    "用带参数的`git log`也可以看到分支的合并情况：![image](http://ws3.sinaimg.cn/large/69d4185bly1fnkunxkqbfj20dk081jro.jpg)\n",
    "\n",
    "最后，删除feature1分支：`git branch -d feature1`：![image](http://ws3.sinaimg.cn/large/69d4185bly1fnkuus7t4hj20dx0aw74p.jpg)"
   ]
  },
  {
   "cell_type": "markdown",
   "metadata": {},
   "source": [
    "### 分支管理策略\n",
    "参考文章：\n",
    "- [A successful Git branching model](http://nvie.com/posts/a-successful-git-branching-model/)\n",
    "\n",
    "#### 非Fast Forward模式\n",
    "通常，合并分支时，如果可能，Git会用`Fast forward`模式，但这种模式下，删除分支后，会丢掉分支信息：\n",
    "![image](http://wx4.sinaimg.cn/large/69d4185bly1fnlqqrfpe1j20ed0al75c.jpg)\n",
    "\n",
    "但是在有冲突的情况下并不会删除掉分支，就如在解决冲突一节所看到的：\n",
    "![image](http://wx4.sinaimg.cn/large/69d4185bly1fnlqtamyxtj20f805nmxl.jpg)"
   ]
  },
  {
   "cell_type": "markdown",
   "metadata": {},
   "source": [
    "如果要强制禁用`Fast forward`模式，Git就会在merge时生成一个新的commit，这样，从分支历史上就可以看出分支信息。\n",
    "\n",
    "下面我们实战一下`--no-ff`方式的`git merge`：首先，仍然创建并切换`dev`分支，修改`readme.txt`文件，并提交一个新的`commit`：\n",
    "```\n",
    "git checkout -b dev  #创建并切换分值\n",
    "git add readme.txt  \n",
    "git commit -m \"add merge\"  #提交修改\n",
    "git checkout master   #切回master分支\n",
    "```\n",
    "准备合并`dev`分支，请注意`--no-ff`参数，表示禁用`Fast forward`，因为本次合并要创建一个新的`commit`，所以加上`-m`参数，把`commit`描述写进去，合并后，我们用`git log`看看分支历史：![image](http://wx4.sinaimg.cn/large/69d4185bly1fnlpoai41zj20dy07kq5h.jpg)"
   ]
  },
  {
   "cell_type": "markdown",
   "metadata": {},
   "source": [
    "可以看到，不使用`Fast forward`模式，`merge`后就像这样：![img](https://ws1.sinaimg.cn/large/69d4185bly1fnlpriulu4j20dc075web.jpg)\n",
    "\n",
    "#### 分支策略\n",
    "在实际开发中，我们应该按照几个基本原则进行分支管理：\n",
    "- 首先，`master`分支应该是非常稳定的，也就是仅用来发布新版本，平时不能在上面干活；\n",
    "- 那在哪干活呢？干活都在`dev`分支上，也就是说，`dev`分支是不稳定的，到某个时候，比如1.0版本发布时，再把`dev`分支合并到`master`上，在`master`分支发布1.0版本；\n",
    "\n",
    "你和你的小伙伴们每个人都在`dev`分支上干活，每个人都有自己的分支，时不时地往`dev`分支上合并就可以了。所以，团队合作的分支看起来就像这样：![img](https://ws1.sinaimg.cn/large/69d4185bly1fnlpv3zo59j20du03ha9w.jpg)"
   ]
  },
  {
   "cell_type": "markdown",
   "metadata": {},
   "source": [
    "git有个最佳实践，`master`是主分支，用来做正式发布版之后的保留历史，其他分支包括`dev`用来做正常开发，多个`feature`用来做某些特性功能，`release`用来做发布版历史，每次发布都是用`release`打包，`hotfix`用来做发布版之后的一些及时迭代修复bug的工作，如下图：![img](https://ws1.sinaimg.cn/large/69d4185bly1fnlq3ge5v9j20s30xn7ce.jpg)"
   ]
  },
  {
   "cell_type": "markdown",
   "metadata": {},
   "source": [
    "### Bug分支\n",
    "软件开发中，bug就像家常便饭一样。有了bug就需要修复，在Git中，由于分支是如此的强大，所以，每个bug都可以通过一个新的临时分支来修复，修复后，合并分支，然后将临时分支删除。\n",
    "\n",
    "当你接到一个修复一个代号101的bug的任务时，很自然地，你想创建一个分支`issue-101`来修复它，但是，等等，当前正在dev上进行的工作还没有提交：如下操作，切换到 `dev` 分支，添加一个`hello.py`文件，然后修改`readme.txt`文件，使用`git status`可以看到如下信息：![image](http://wx4.sinaimg.cn/large/69d4185bly1fnlwlznbj4j20ex05h3yo.jpg)"
   ]
  },
  {
   "cell_type": "markdown",
   "metadata": {},
   "source": [
    "#### stash 保存现场\n",
    "并不是你不想提交，而是工作只进行到一半，还没法提交，预计完成还需1天时间。但是，必须在两个小时内修复该bug，怎么办？\n",
    "\n",
    "幸好，Git还提供了一个`stash`功能，可以把当前工作现场“储藏”起来，等以后恢复现场后继续工作：![image](http://wx4.sinaimg.cn/large/69d4185bly1fnlwumnpuvj20e301hjr8.jpg)\n",
    "现在，用`git status`查看工作区，就是干净的（除非有没有被Git管理的文件），因此可以放心地创建分支来修复bug。\n",
    "```\n",
    "git status\n",
    "On branch dev\n",
    "nothing to commit, working tree clean\n",
    "```"
   ]
  },
  {
   "cell_type": "markdown",
   "metadata": {},
   "source": [
    "首先确定要在哪个分支上修复bug，假定需要在`master`分支上修复，就从`master`创建临时分支：![image](http://wx4.sinaimg.cn/large/69d4185bly1fnlwypcmzrj20e8050mxc.jpg)\n",
    "\n",
    "现在修复bug，需要把“Git is free software ...”改为“Git is a free software ...”，然后提交：![image](http://wx4.sinaimg.cn/large/69d4185bly1fnlx3sscq5j20db02dt8n.jpg)"
   ]
  },
  {
   "cell_type": "markdown",
   "metadata": {},
   "source": [
    "修复完成后，切换到`master`分支，并完成合并，最后删除`issue-101`分支：![image](http://wx4.sinaimg.cn/large/69d4185bly1fnlx96ea7zj20do064jrm.jpg)"
   ]
  },
  {
   "cell_type": "markdown",
   "metadata": {},
   "source": [
    "是时候接着回到`dev`分支干活了:`git checkout dev`！工作区是干净的，刚才的工作现场存到哪去了？用`git stash list`命令看看：![image](http://wx4.sinaimg.cn/large/69d4185bly1fnlxffi8kwj20de04dq2x.jpg)\n",
    "\n",
    "工作现场还在，Git把stash内容存在某个地方了，但是需要恢复一下，有两个办法：\n",
    "- 一是用`git stash apply`恢复，但是恢复后，`stash`内容并不删除，你需要用`git stash drop`来删除；\n",
    "- 另一种方式是用`git stash pop`，恢复的同时把`stash`内容也删了，之后使用`git stash list`就看不到内容了。\n",
    "![image](http://wx4.sinaimg.cn/large/69d4185bly1fnlxi05znnj20es07cdg2.jpg)"
   ]
  },
  {
   "cell_type": "markdown",
   "metadata": {},
   "source": [
    "你可以多次stash，恢复的时候，先用`git stash list`查看，然后恢复指定的stash，用命令：`git stash apply stash@{0}`\n",
    "\n",
    "对于 `stash` 一个不错的解释（来自[bug 分支 - 廖雪峰](https://www.liaoxuefeng.com/wiki/0013739516305929606dd18361248578c67b8067c8c017b000/00137602359178794d966923e5c4134bc8bf98dfb03aea3000)的评论）：![image](http://wx4.sinaimg.cn/large/69d4185bly1fnlxx1729xj20pm09wt9r.jpg)\n",
    "\n",
    "**暂存区是公用的（在你自己本地的所所有分支里），如果不通过stash命令隐藏，会把其他分支的文件带到其它分支（issue-101）去。**"
   ]
  },
  {
   "cell_type": "markdown",
   "metadata": {},
   "source": [
    "### Feature分支\n",
    "软件开发中，总有无穷无尽的新的功能要不断添加进来。添加一个新功能时，你肯定不希望因为一些实验性质的代码，把主分支搞乱了，所以，每添加一个新功能，最好新建一个feature分支，在上面开发，完成后，合并，最后，删除该feature分支。\n",
    "\n",
    "现在，你终于接到了一个新任务：开发代号为Vulcan的新功能，该功能计划用于下一代星际飞船。于是准备创建一个新的分支进行开发：`git checkout -b feature-vulcan`"
   ]
  },
  {
   "cell_type": "markdown",
   "metadata": {},
   "source": [
    "5分钟后，开发完毕，切回dev，准备合并：\n",
    "```shell\n",
    "git add vulcan.py\n",
    "git status\n",
    "# On branch feature-vulcan\n",
    "# Changes to be committed:\n",
    "#   (use \"git reset HEAD <file>...\" to unstage)\n",
    "#\n",
    "#       new file:   vulcan.py\n",
    "#\n",
    "git commit -m \"add feature vulcan\"\n",
    "[feature-vulcan 756d4af] add feature vulcan\n",
    " 1 file changed, 2 insertions(+)\n",
    " create mode 100644 vulcan.py\n",
    " ```\n",
    " \n",
    " 一切顺利的话，feature分支和bug分支是类似的，合并，然后删除。但是，就在此时，接到上级命令，因经费不足，新功能必须取消！虽然白干了，但是这个分支还是必须就地销毁："
   ]
  },
  {
   "cell_type": "markdown",
   "metadata": {},
   "source": [
    "```shell\n",
    "git branch -d feature-vulcan\n",
    "error: The branch 'feature-vulcan' is not fully merged.\n",
    "If you are sure you want to delete it, run 'git branch -D feature-vulcan'.\n",
    "```\n",
    "\n",
    "销毁失败。Git友情提醒，`feature-vulcan`分支还没有被合并，如果删除，将丢失掉修改，如果要强行删除，需要使用命令`git branch -D feature-vulcan`。现在我们强行删除：`git branch -D feature-vulcan`\n",
    "\n",
    "终于删除成功！"
   ]
  },
  {
   "cell_type": "markdown",
   "metadata": {},
   "source": [
    "### 多人协作\n",
    "当你从远程仓库克隆时，实际上Git自动把本地的`master`分支和远程的`master`分支对应起来了，并且，远程仓库的默认名称是`origin`。要查看远程库的信息，用`git remote`，查看更详细的信息可以使用 `git remote -v`：![image](http://ws3.sinaimg.cn/large/69d4185bly1fnp6dzwwxwj20dx03fglo.jpg)\n",
    "上面显示了可以抓取和推送的`origin`的地址。如果没有推送权限，就看不到`push`的地址。"
   ]
  },
  {
   "cell_type": "markdown",
   "metadata": {},
   "source": [
    "#### 推送分支\n",
    "推送分支，就是把该分支上的所有本地提交推送到远程库。推送时，要指定本地分支，这样，Git就会把该分支推送到远程库对应的远程分支上：`git push origin master`，如果要推送其他分支，比如dev，就改成：`git push origin dev`。\n",
    "![image](http://ws3.sinaimg.cn/large/69d4185bly1fnp6ivipgmj20fm085dgs.jpg)"
   ]
  },
  {
   "cell_type": "markdown",
   "metadata": {},
   "source": [
    "但是，并不是一定要把本地分支往远程推送，那么，哪些分支需要推送，哪些不需要呢？\n",
    "- `master`分支是主分支，因此要时刻与远程同步；\n",
    "- `dev`分支是开发分支，团队所有成员都需要在上面工作，所以也需要与远程同步；\n",
    "- `bug`分支只用于在本地修复bug，就没必要推到远程了，除非老板要看看你每周到底修复了几个bug；\n",
    "- `feature`分支是否推到远程，取决于你是否和你的小伙伴合作在上面开发。\n",
    "\n",
    "总之，就是在Git中，分支完全可以在本地自己藏着玩，是否推送，视你的心情而定！"
   ]
  },
  {
   "cell_type": "markdown",
   "metadata": {},
   "source": [
    "#### 抓取分支\n",
    "多人协作时，大家都会往`master`和`dev`分支上推送各自的修改。现在，模拟一个你的小伙伴，可以在另一台电脑（注意要把SSH Key添加到GitHub）或者同一台电脑的另一个目录下克隆：![image](http://ws3.sinaimg.cn/large/69d4185bly1fnp6ps4b6ij20d305kt8w.jpg)"
   ]
  },
  {
   "cell_type": "markdown",
   "metadata": {},
   "source": [
    "当你的小伙伴从远程库clone时，默认情况下，你的小伙伴只能看到本地的`master`分支。不信可以用git branch命令看看:![image](http://ws3.sinaimg.cn/large/69d4185bly1fnp6rm8gvsj20ey02n74b.jpg)\n",
    "\n",
    "现在，你的小伙伴要在`dev`分支上开发，就必须创建远程`origin`的`dev`分支到本地，于是他用这个命令创建本地`dev`分支：![image](http://ws3.sinaimg.cn/large/69d4185bly1fnp6yk6686j20ej01zq2v.jpg)"
   ]
  },
  {
   "cell_type": "markdown",
   "metadata": {},
   "source": [
    "现在，他就可以在`dev`上继续修改，然后，时不时地把`dev`分支push到远程：![image](http://ws3.sinaimg.cn/large/69d4185bly1fnp76w173lj20ec07agm9.jpg)"
   ]
  },
  {
   "cell_type": "markdown",
   "metadata": {},
   "source": [
    "你的小伙伴已经向`origin/dev`分支推送了他的提交，而碰巧你也对同样的文件作了修改，并试图推送：![image](http://ws3.sinaimg.cn/large/69d4185bly1fnp7andyckj20ff06vwf5.jpg)"
   ]
  },
  {
   "cell_type": "markdown",
   "metadata": {},
   "source": [
    "推送失败，因为你的小伙伴的最新提交和你试图推送的提交有冲突，解决办法也很简单，Git已经提示我们，先用`git pull`把最新的提交从`origin/dev`抓下来，然后，在本地合并，解决冲突，再推送：![image](http://ws3.sinaimg.cn/large/69d4185bly1fnp7d3wiiyj20ff04rq2x.jpg)\n",
    "\n",
    "`git pull`也失败了，原因是没有指定本地`dev`分支与远程`origin/dev`分支的链接，根据提示，设置`dev`和`origin/dev`的链接：![image](http://ws3.sinaimg.cn/large/69d4185bly1fnp7flyuryj20dj03qt8t.jpg)"
   ]
  },
  {
   "cell_type": "markdown",
   "metadata": {},
   "source": [
    "这回`git pull`成功，但是合并有冲突，需要手动解决，解决的方法和分支管理中的解决冲突完全一样。解决后，提交，再`push`：![image](http://ws3.sinaimg.cn/large/69d4185bly1fnp7jmmvpyj20et06t3yv.jpg)"
   ]
  },
  {
   "cell_type": "markdown",
   "metadata": {},
   "source": [
    "因此，多人协作的工作模式通常是这样：\n",
    "1. 首先，可以试图用`git push origin branch-name`推送自己的修改；\n",
    "2. 如果推送失败，则因为远程分支比你的本地更新，需要先用`git pull`试图合并；\n",
    "3. 如果合并有冲突，则解决冲突，并在本地提交；\n",
    "4. 没有冲突或者解决掉冲突后，再用`git push origin branch-name`推送就能成功！\n",
    "\n",
    "如果`git pull`提示“no tracking information”，则说明本地分支和远程分支的链接关系没有创建，用命令`git branch --set-upstream-to=origin/branch-name branch-name`。这就是多人协作的工作模式，一旦熟悉了，就非常简单。"
   ]
  },
  {
   "cell_type": "markdown",
   "metadata": {},
   "source": [
    "### 标签管理\n",
    "tag就是一个让人容易记住的有意义的名字，它跟某个commit绑在一起。"
   ]
  },
  {
   "cell_type": "markdown",
   "metadata": {},
   "source": [
    "#### 创建标签\n",
    "在Git中打标签非常简单，首先，切换到需要打标签的分支上；然后，敲命令`git tag <name>`就可以打一个新标签；可以用命令git tag查看所有标签：![image](http://ws3.sinaimg.cn/large/69d4185bly1fnp7uved0jj20dg06g3yo.jpg)\n"
   ]
  },
  {
   "cell_type": "markdown",
   "metadata": {},
   "source": [
    "默认标签是打在最新提交的commit上的。有时候，如果忘了打标签，比如，现在已经是周五了，但应该在周一打的标签没有打，怎么办？方法是找到历史提交的commit id，然后打上就可以了：![image](http://ws3.sinaimg.cn/large/69d4185bly1fnp7xea50wj20ee043glr.jpg)\n",
    "\n",
    "比方说要对merge with no-ff这次提交打标签，它对应的commit id是6e4e293，敲入命令：![image](http://ws3.sinaimg.cn/large/69d4185bly1fnp7yuwsz6j20d4031748.jpg)"
   ]
  },
  {
   "cell_type": "markdown",
   "metadata": {},
   "source": [
    "注意，标签不是按时间顺序列出，而是按字母排序的。可以用`git show <tagname>`查看标签信息：![image](http://ws3.sinaimg.cn/large/69d4185bly1fnp817t9rqj20cv03aaa2.jpg)\n",
    "\n",
    "可以看到，`v0.9`确实打在`add merge`这次提交上。还可以创建带有说明的标签，用`-a`指定标签名，`-m`指定说明文字，用命令`git show <tagname>`可以看到说明文字：![image](http://ws3.sinaimg.cn/large/69d4185bly1fnp871wulgj20e20a60t2.jpg)"
   ]
  },
  {
   "cell_type": "markdown",
   "metadata": {},
   "source": [
    "### 操作标签\n",
    "如果标签打错了，也可以删除，因为创建的标签都只存储在本地，不会自动推送到远程。所以，打错的标签可以在本地安全删除：`git tag -d v0.1`。\n",
    "\n",
    "如果要推送某个标签到远程，使用命令`git push origin <tagname>`：` git push origin v1.0`：![image](http://ws4.sinaimg.cn/large/69d4185bly1fnpfspafg5j20d1084dga.jpg)\n"
   ]
  },
  {
   "cell_type": "markdown",
   "metadata": {},
   "source": [
    "或者，一次性推送全部尚未推送到远程的本地标签：`git push origin --tags`；如果标签已经推送到远程，要删除远程标签就麻烦一点，先从本地删除：`git tag -d v0.9`；然后，从远程删除。删除命令也是push，但是格式如下：`git push origin :refs/tags/v0.9`：![image](http://ws4.sinaimg.cn/large/69d4185bly1fnpfxeyb8nj20dz05sgm2.jpg)"
   ]
  },
  {
   "cell_type": "markdown",
   "metadata": {},
   "source": [
    "要看看是否真的从远程库删除了标签，可以登陆GitHub查看：![image](http://ws4.sinaimg.cn/large/69d4185bly1fnpfzb30v0j208f047t8k.jpg)\n",
    "\n",
    "**小结**\n",
    "- 命令`git push origin <tagname>`可以推送一个本地标签；\n",
    "- 命令`git push origin --tags`可以推送全部未推送过的本地标签；\n",
    "- 命令`git tag -d <tagname>`可以删除一个本地标签；\n",
    "- 命令`git push origin :refs/tags/<tagname>`可以删除一个远程标签。"
   ]
  },
  {
   "cell_type": "markdown",
   "metadata": {},
   "source": [
    "## 自定义Git"
   ]
  },
  {
   "cell_type": "markdown",
   "metadata": {},
   "source": [
    "让Git显示颜色，会让命令输出看起来更醒目：`git config --global color.ui true`"
   ]
  },
  {
   "cell_type": "markdown",
   "metadata": {},
   "source": [
    "### 忽略特殊文件\n",
    "在Git工作区的根目录下创建一个特殊的`.gitignore`文件，然后把要忽略的文件名填进去，Git就会自动忽略这些文件。不需要从头写`.gitignore`文件，GitHub已经为我们准备了各种配置文件，只需要组合一下就可以使用了。所有配置文件可以直接在线浏览：https://github.com/github/gitignore\n",
    "\n",
    "忽略文件的原则是：\n",
    "- 忽略操作系统自动生成的文件，比如缩略图等；\n",
    "- 忽略编译生成的中间文件、可执行文件等，也就是如果一个文件是通过另一个文件自动生成的，那自动生成的文件就没必要放进版本库，比如Java编译产生的.class文件；\n",
    "- 忽略你自己的带有敏感信息的配置文件，比如存放口令的配置文件。"
   ]
  },
  {
   "cell_type": "markdown",
   "metadata": {},
   "source": [
    "### 配置别名\n",
    "有没有经常敲错命令？比如`git status`？status这个单词真心不好记。如果敲`git st`就表示`git status`那就简单多了，当然这种偷懒的办法我们是极力赞成的。我们只需要敲一行命令，告诉Git，以后`st`就表示`status`：`git config --global alias.st status`\n",
    "\n",
    "好了，现在敲git st看看效果。当然还有别的命令可以简写，很多人都用`co`表示`checkout`，`ci`表示`commit`，`br`表示`branch`：\n",
    "```shell\n",
    "git config --global alias.co checkout\n",
    "git config --global alias.ci commit\n",
    "git config --global alias.br branch\n",
    "```\n",
    "以后提交就可以简写成：`git ci -m \"bala bala bala...\"`"
   ]
  },
  {
   "cell_type": "markdown",
   "metadata": {},
   "source": [
    "`--global`参数是全局参数，也就是这些命令在这台电脑的所有Git仓库下都有用。在撤销修改一节中，我们知道，命令`git reset HEAD file`可以把暂存区的修改撤销掉（unstage），重新放回工作区。既然是一个`unstage`操作，就可以配置一个`unstage`别名：`git config --global alias.unstage 'reset HEAD'`。\n",
    "\n",
    "当你敲入命令：`git unstage test.py`， 实际上Git执行的是：`git reset HEAD test.py`。\n",
    "\n",
    "甚至还有人丧心病狂地把lg配置成了：`git config --global alias.lg \"log --color --graph --pretty=format:'%Cred%h%Creset -%C(yellow)%d%Creset %s %Cgreen(%cr) %C(bold blue)<%an>%Creset' --abbrev-commit\"`"
   ]
  },
  {
   "cell_type": "markdown",
   "metadata": {},
   "source": [
    "#### 配置文件\n",
    "\n",
    "配置Git的时候，加上--global是针对当前用户起作用的，如果不加，那只针对当前的仓库起作用。配置文件放哪了？每个仓库的Git配置文件都放在`.git/config`文件中：\n",
    "```\n",
    "[core]\n",
    "\trepositoryformatversion = 0\n",
    "\tfilemode = false\n",
    "\tbare = false\n",
    "\tlogallrefupdates = true\n",
    "\tsymlinks = false\n",
    "\tignorecase = true\n",
    "[gui]\n",
    "\twmstate = normal\n",
    "\tgeometry = 841x483+26+26 189 218\n",
    "[remote \"origin\"]\n",
    "\turl = git@github.com:DFreeMind/learngit.git\n",
    "\tfetch = +refs/heads/*:refs/remotes/origin/*\n",
    "[branch \"master\"]\n",
    "\tremote = origin\n",
    "\tmerge = refs/heads/master\n",
    "[branch \"dev\"]\n",
    "\tremote = origin\n",
    "\tmerge = refs/heads/dev\n",
    "```\n",
    "\n",
    "而当前用户的Git配置文件放在用户主目录下的一个隐藏文件.gitconfig中：\n",
    "```\n",
    "[filter \"lfs\"]\n",
    "\tclean = git-lfs clean -- %f\n",
    "\tsmudge = git-lfs smudge -- %f\n",
    "\tprocess = git-lfs filter-process\n",
    "\trequired = true\n",
    "[user]\n",
    "\tname = 露秋\n",
    "\temail = 619069915@qq.com\n",
    "[gui]\n",
    "\trecentrepo = D:/GitHub/learngit\n",
    "[color]\n",
    "\tui = true\n",
    "[alias]\n",
    "\tlg = log --color --graph --pretty=format:'%Cred%h%Creset -%C(yellow)%d%Creset %s %Cgreen(%cr) %C(bold blue)<%an>%Creset' --abbrev-commit\n",
    "\tlast = log -1\n",
    "```\n",
    "别名就在`[alias]`后面，要删除别名，直接把对应的行删掉即可。"
   ]
  },
  {
   "cell_type": "code",
   "execution_count": null,
   "metadata": {},
   "outputs": [],
   "source": []
  }
 ],
 "metadata": {
  "kernelspec": {
   "display_name": "Python 3",
   "language": "python",
   "name": "python3"
  },
  "language_info": {
   "codemirror_mode": {
    "name": "ipython",
    "version": 3
   },
   "file_extension": ".py",
   "mimetype": "text/x-python",
   "name": "python",
   "nbconvert_exporter": "python",
   "pygments_lexer": "ipython3",
   "version": "3.6.3"
  },
  "toc": {
   "nav_menu": {},
   "number_sections": true,
   "sideBar": true,
   "skip_h1_title": false,
   "toc_cell": true,
   "toc_position": {
    "height": "40px",
    "left": "0px",
    "right": "983.531px",
    "top": "111px",
    "width": "378px"
   },
   "toc_section_display": "block",
   "toc_window_display": true
  }
 },
 "nbformat": 4,
 "nbformat_minor": 2
}
